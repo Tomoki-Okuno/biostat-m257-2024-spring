{
 "cells": [
  {
   "cell_type": "markdown",
   "metadata": {},
   "source": [
    "<!-- ---\n",
    "title: Biostat/Biomath M257 Homework 1\n",
    "subtitle: Due Apr 12 @ 11:59PM\n",
    "author: Tomoki Okuno and 805851067\n",
    "date: today\n",
    "format:\n",
    "  html:\n",
    "    theme: cosmo\n",
    "    embed-resources: true\n",
    "    number-sections: false\n",
    "    toc: true\n",
    "    toc-depth: 4\n",
    "    toc-location: left\n",
    "--- -->\n",
    "Biostat/Biomath M257 Homework 1\n",
    "\n",
    "Due Apr 12 @ 11:59PM\n",
    "\n",
    "Tomoki Okuno and 805851067"
   ]
  },
  {
   "cell_type": "markdown",
   "metadata": {},
   "source": [
    "Show machine information for reproducibility:"
   ]
  },
  {
   "cell_type": "code",
   "execution_count": 51,
   "metadata": {},
   "outputs": [
    {
     "name": "stdout",
     "output_type": "stream",
     "text": [
      "Julia Version 1.10.0\n",
      "Commit 3120989f39b (2023-12-25 18:01 UTC)\n",
      "Build Info:\n",
      "  Official https://julialang.org/ release\n",
      "Platform Info:\n",
      "  OS: macOS (arm64-apple-darwin22.4.0)\n",
      "  CPU: 8 × Apple M1\n",
      "  WORD_SIZE: 64\n",
      "  LIBM: libopenlibm\n",
      "  LLVM: libLLVM-15.0.7 (ORCJIT, apple-m1)\n",
      "  Threads: 2 on 4 virtual cores\n"
     ]
    }
   ],
   "source": [
    "versioninfo()"
   ]
  },
  {
   "cell_type": "markdown",
   "metadata": {},
   "source": [
    "Activate environment:"
   ]
  },
  {
   "cell_type": "code",
   "execution_count": 52,
   "metadata": {},
   "outputs": [
    {
     "name": "stderr",
     "output_type": "stream",
     "text": [
      "\u001b[32m\u001b[1m  Activating\u001b[22m\u001b[39m project at `~/Documents/07_UCLA/Class/257/02_Homework/hw1`\n"
     ]
    },
    {
     "name": "stdout",
     "output_type": "stream",
     "text": [
      "\u001b[32m\u001b[1mStatus\u001b[22m\u001b[39m `~/Documents/07_UCLA/Class/257/02_Homework/hw1/Project.toml`\n",
      "  \u001b[90m[6e4b80f9] \u001b[39mBenchmarkTools v1.5.0\n",
      "  \u001b[90m[7073ff75] \u001b[39mIJulia v1.24.2\n",
      "  \u001b[90m[bdcacae8] \u001b[39mLoopVectorization v0.12.169\n",
      "  \u001b[90m[91a5bcdd] \u001b[39mPlots v1.40.3\n",
      "  \u001b[90m[f27b6e38] \u001b[39mPolynomials v4.0.6\n",
      "  \u001b[90m[37e2e46d] \u001b[39mLinearAlgebra\n",
      "  \u001b[90m[9a3f8284] \u001b[39mRandom\n"
     ]
    }
   ],
   "source": [
    "using Pkg\n",
    "# Pkg.add(\"IJulia\")\n",
    "Pkg.activate(pwd())\n",
    "Pkg.instantiate()\n",
    "# add packages if needed\n",
    "# Pkg.add([\"BenchmarkTools\", \"LinearAlgebra\", \"Plots\", \"Random\"])\n",
    "Pkg.status()"
   ]
  },
  {
   "cell_type": "markdown",
   "metadata": {},
   "source": [
    "## Q1. Git/GitHub\n",
    "\n",
    "**No handwritten homework reports are accepted for this course.**  We work with Git/GitHub.  Efficient and abundant use of Git, e.g., **frequent and well-documented** commits, is an important criterion for grading your homework.\n",
    "\n",
    "1. If you don't have a GitHub account, apply for the [Student Developer Pack](https://education.github.com/pack) at GitHub using your UCLA email.\n",
    "\n",
    "    I have my GitHub account.\n",
    "\n",
    "2. Create a **private** repository `biostat-m257-2024-spring` and add `Hua-Zhou` and `BrendonChau` (TA) as your collaborators.\n",
    "\n",
    "    Done.\n",
    "\n",
    "3. Top directories of the repository should be `hw1`, `hw2`, ... You may create other branches for developing your homework solutions; but the `master` branch will be your presentation area. Put your homework submission files (Jupyter notebook `.ipynb`, html converted from notebook, `Project.toml`, all code and data set to reproduce results) in the `master` branch. \n",
    "\n",
    "    Understood and and created `hw1` in `main` branch instead of `master`.\n",
    "\n",
    "4. After each homework due date, teaching assistant and instructor will check out your `master` branch for grading. Tag each of your homework submissions with tag names `hw1`, `hw2`, ...  Tagging time will be your submission time. That means if you tag your hw1 submission after deadline, penalty points will be deducted for late submission.\n",
    "\n",
    "    Sure. I tagged my hw1 submission.\n",
    "\n",
    "5. Read the [style guide](https://github.com/invenia/BlueStyle) for Julia programming. Following rules in the style guide will be strictly enforced when grading: (1) four space indenting rule, (2) 92 charcter rule, (3) space after comma rule, (4) no space before comma rule, (5) space around binary operator rule.\n",
    "\n",
    "    Read it."
   ]
  },
  {
   "cell_type": "markdown",
   "metadata": {},
   "source": [
    "## Q2. Computer arithmetics\n",
    "\n",
    "Let's check whether floating-point numbers obey certain algebraic rules. For 2-5, one counter-example suffices.\n",
    "\n",
    "Q2.1. Associative rule for addition says `(x + y) + z == x + (y + z)`. Check association rule using `x = 0.1`, `y = 0.1` and `z = 1.0` in Julia. Explain what you find.\n",
    "\n",
    "**Solution**"
   ]
  },
  {
   "cell_type": "code",
   "execution_count": 53,
   "metadata": {},
   "outputs": [
    {
     "data": {
      "text/plain": [
       "false"
      ]
     },
     "execution_count": 53,
     "metadata": {},
     "output_type": "execute_result"
    }
   ],
   "source": [
    "x, y, z = 0.1, 0.1, 1.0\n",
    "\n",
    "(x + y) + z == x + (y + z)"
   ]
  },
  {
   "cell_type": "markdown",
   "metadata": {},
   "source": [
    "The two computation results did not match. Let's check each calculation."
   ]
  },
  {
   "cell_type": "code",
   "execution_count": 54,
   "metadata": {},
   "outputs": [
    {
     "data": {
      "text/plain": [
       "1.2"
      ]
     },
     "execution_count": 54,
     "metadata": {},
     "output_type": "execute_result"
    }
   ],
   "source": [
    "(x + y) + z"
   ]
  },
  {
   "cell_type": "code",
   "execution_count": 55,
   "metadata": {},
   "outputs": [
    {
     "data": {
      "text/plain": [
       "1.2000000000000002"
      ]
     },
     "execution_count": 55,
     "metadata": {},
     "output_type": "execute_result"
    }
   ],
   "source": [
    "x + (y + z)"
   ]
  },
  {
   "cell_type": "markdown",
   "metadata": {},
   "source": [
    "The discrepancy arises due to floating-point arithmetic and rounding errors. Since floating-point numbers have limited precision, computations involving them may not yield exact results. "
   ]
  },
  {
   "cell_type": "markdown",
   "metadata": {},
   "source": [
    "Q2.2. Do floating-point numbers obey the associative rule for multiplication: `(x * y) * z == x * (y * z)`?\n",
    "\n",
    "**Solution**"
   ]
  },
  {
   "cell_type": "code",
   "execution_count": 56,
   "metadata": {},
   "outputs": [
    {
     "data": {
      "text/plain": [
       "true"
      ]
     },
     "execution_count": 56,
     "metadata": {},
     "output_type": "execute_result"
    }
   ],
   "source": [
    "x, y, z = 0.1, 0.1, 1.0\n",
    "\n",
    "(x * y) * z == x * (y * z)"
   ]
  },
  {
   "cell_type": "markdown",
   "metadata": {},
   "source": [
    "In the above example, the two results were equal to each other. However, there is a counter-example: "
   ]
  },
  {
   "cell_type": "code",
   "execution_count": 57,
   "metadata": {},
   "outputs": [
    {
     "data": {
      "text/plain": [
       "false"
      ]
     },
     "execution_count": 57,
     "metadata": {},
     "output_type": "execute_result"
    }
   ],
   "source": [
    "x, y, z = 0.1, 0.2, 0.3\n",
    "\n",
    "(x * y) * z == x * (y * z)"
   ]
  },
  {
   "cell_type": "code",
   "execution_count": 58,
   "metadata": {},
   "outputs": [
    {
     "name": "stdout",
     "output_type": "stream",
     "text": [
      "0.006000000000000001\n",
      "0.006\n"
     ]
    }
   ],
   "source": [
    "println((x * y) * z)\n",
    "println(x * (y * z))"
   ]
  },
  {
   "cell_type": "markdown",
   "metadata": {},
   "source": [
    "We observe that floating-point numbers do not always obey the associative rule for multiplication. Thus, the answer is **No**."
   ]
  },
  {
   "cell_type": "markdown",
   "metadata": {},
   "source": [
    "Q2.3. Do floating-point numbers obey the distributive rule: `a * (x + y) == a * x + a * y`? \n",
    "\n",
    "**Solution**"
   ]
  },
  {
   "cell_type": "code",
   "execution_count": 59,
   "metadata": {},
   "outputs": [
    {
     "data": {
      "text/plain": [
       "false"
      ]
     },
     "execution_count": 59,
     "metadata": {},
     "output_type": "execute_result"
    }
   ],
   "source": [
    "a = 0.1\n",
    "x, y = 0.015, 0.051\n",
    "\n",
    "a * (x + y) == a * x + a * y"
   ]
  },
  {
   "cell_type": "code",
   "execution_count": 60,
   "metadata": {},
   "outputs": [
    {
     "name": "stdout",
     "output_type": "stream",
     "text": [
      "0.006600000000000001\n",
      "0.0066\n"
     ]
    }
   ],
   "source": [
    "println(a * (x + y))\n",
    "println(a * x + a * y)"
   ]
  },
  {
   "cell_type": "markdown",
   "metadata": {},
   "source": [
    "Thus, floating-point numbers do not necessarily obey the distributive rule. The answer is **No**."
   ]
  },
  {
   "cell_type": "markdown",
   "metadata": {},
   "source": [
    "Q2.4. Is `0 * x == 0` true for all floating-point number `x`? \n",
    "\n",
    "**Solution**"
   ]
  },
  {
   "cell_type": "code",
   "execution_count": 61,
   "metadata": {},
   "outputs": [
    {
     "data": {
      "text/plain": [
       "true"
      ]
     },
     "execution_count": 61,
     "metadata": {},
     "output_type": "execute_result"
    }
   ],
   "source": [
    "x = 1e-100\n",
    "0 * x == 0"
   ]
  },
  {
   "cell_type": "markdown",
   "metadata": {},
   "source": [
    "I found that, according to the definition, multiplying any number by 0 results in 0. Exceptions to this rule include infinity and `NaN`."
   ]
  },
  {
   "cell_type": "code",
   "execution_count": 62,
   "metadata": {},
   "outputs": [
    {
     "data": {
      "text/plain": [
       "false"
      ]
     },
     "execution_count": 62,
     "metadata": {},
     "output_type": "execute_result"
    }
   ],
   "source": [
    "x = Inf\n",
    "0 * x == 0"
   ]
  },
  {
   "cell_type": "code",
   "execution_count": 63,
   "metadata": {},
   "outputs": [
    {
     "name": "stdout",
     "output_type": "stream",
     "text": [
      "NaN\n"
     ]
    }
   ],
   "source": [
    "println(0 * x)"
   ]
  },
  {
   "cell_type": "markdown",
   "metadata": {},
   "source": [
    "The product of zero and `Inf` is `NaN`, which makes sense mathematically."
   ]
  },
  {
   "cell_type": "code",
   "execution_count": 64,
   "metadata": {},
   "outputs": [
    {
     "data": {
      "text/plain": [
       "false"
      ]
     },
     "execution_count": 64,
     "metadata": {},
     "output_type": "execute_result"
    }
   ],
   "source": [
    "x = NaN\n",
    "0 * x == 0"
   ]
  },
  {
   "cell_type": "markdown",
   "metadata": {},
   "source": [
    "Therefore, `0 * x == 0` is not necessarily true, that is, **false**."
   ]
  },
  {
   "cell_type": "markdown",
   "metadata": {},
   "source": [
    "Q2.5. Is `x / a == x * (1 / a)` always true?\n",
    "\n",
    "**Solution**\n",
    "\n",
    "To find one counter-example, we do iterative calculation as follows."
   ]
  },
  {
   "cell_type": "code",
   "execution_count": 65,
   "metadata": {},
   "outputs": [
    {
     "name": "stdout",
     "output_type": "stream",
     "text": [
      "x: 0.0001, a: 0.0019\n",
      "Direct division result: 0.052631578947368425\n",
      "Multiplication result: 0.05263157894736842\n"
     ]
    }
   ],
   "source": [
    "# Initialize variables to store an example where x / a != x * (1 / a)\n",
    "found_x = 0.0\n",
    "found_a = 0.0\n",
    "direct_division_result = 0.0\n",
    "multiplication_result = 0.0\n",
    "\n",
    "# Loop through a range of floating-point numbers\n",
    "for x in 1:10000 \n",
    "    for a in 1:10000\n",
    "        x_float = x / 10000.0\n",
    "        a_float = a / 10000.0\n",
    "        # Perform direct division\n",
    "        direct_division = x_float / a_float\n",
    "        # Perform multiplication after division\n",
    "        mult_after_div = x_float * (1 / a_float)\n",
    "        # Check if the results are different\n",
    "        if direct_division != mult_after_div\n",
    "            found_x = x_float\n",
    "            found_a = a_float\n",
    "            direct_division_result = direct_division\n",
    "            multiplication_result = mult_after_div\n",
    "            break  # Exit the loop once an example is found\n",
    "        end\n",
    "    end\n",
    "    if found_x != 0.0  # Check if an example has been found\n",
    "        break\n",
    "    end\n",
    "end\n",
    "\n",
    "println(\"x: $found_x, a: $found_a\")\n",
    "println(\"Direct division result: $direct_division_result\")\n",
    "println(\"Multiplication result: $multiplication_result\")"
   ]
  },
  {
   "cell_type": "markdown",
   "metadata": {},
   "source": [
    "Sanity check:"
   ]
  },
  {
   "cell_type": "code",
   "execution_count": 66,
   "metadata": {},
   "outputs": [
    {
     "data": {
      "text/plain": [
       "false"
      ]
     },
     "execution_count": 66,
     "metadata": {},
     "output_type": "execute_result"
    }
   ],
   "source": [
    "x, a = 0.0001, 0.0019\n",
    "x / a == x * (1 / a)"
   ]
  },
  {
   "cell_type": "markdown",
   "metadata": {},
   "source": [
    "Thus, `x / a == x * (1 / a)` is **false**."
   ]
  },
  {
   "cell_type": "markdown",
   "metadata": {},
   "source": [
    "## Q3. Multiple dispatch and JIT \n",
    "\n",
    "4. Read Julia documentation on `@fastmath` and repeat the questions 1-3 on the function  \n",
    "\n",
    "```julia\n",
    "function g_fastmath(k)  \n",
    "    @fastmath for i in 1:10  \n",
    "        k = 5k - 1\n",
    "    end\n",
    "    k\n",
    "end\n",
    "```\n",
    "Explain what does the macro `@fastmath` do? And why are the bitcodes for `g` and `g_fastmath` with `Float64` input different? (Hint: Q2)"
   ]
  },
  {
   "cell_type": "markdown",
   "metadata": {},
   "source": [
    "Q3.1. Use `@code_llvm` to find the LLVM bitcode of compiled `g` with `Int64` input. \n",
    "\n",
    "**Solution**"
   ]
  },
  {
   "cell_type": "code",
   "execution_count": 67,
   "metadata": {},
   "outputs": [
    {
     "name": "stdout",
     "output_type": "stream",
     "text": [
      "\u001b[90m;  @ In[67]:1 within `g`\u001b[39m\n",
      "\u001b[95mdefine\u001b[39m \u001b[36mi64\u001b[39m \u001b[93m@julia_g_2306\u001b[39m\u001b[33m(\u001b[39m\u001b[36mi64\u001b[39m \u001b[95msignext\u001b[39m \u001b[0m%0\u001b[33m)\u001b[39m \u001b[0m#0 \u001b[33m{\u001b[39m\n",
      "\u001b[91mtop:\u001b[39m\n",
      "\u001b[90m;  @ In[67]:3 within `g`\u001b[39m\n",
      "\u001b[90m; ┌ @ int.jl:88 within `*`\u001b[39m\n",
      "   \u001b[0m%1 \u001b[0m= \u001b[96m\u001b[1mmul\u001b[22m\u001b[39m \u001b[36mi64\u001b[39m \u001b[0m%0\u001b[0m, \u001b[33m9765625\u001b[39m\n",
      "\u001b[90m; └\u001b[39m\n",
      "\u001b[90m; ┌ @ int.jl:86 within `-`\u001b[39m\n",
      "   \u001b[0m%2 \u001b[0m= \u001b[96m\u001b[1madd\u001b[22m\u001b[39m \u001b[36mi64\u001b[39m \u001b[0m%1\u001b[0m, \u001b[33m-2441406\u001b[39m\n",
      "\u001b[90m; └\u001b[39m\n",
      "\u001b[90m;  @ In[67]:5 within `g`\u001b[39m\n",
      "  \u001b[96m\u001b[1mret\u001b[22m\u001b[39m \u001b[36mi64\u001b[39m \u001b[0m%2\n",
      "\u001b[33m}\u001b[39m\n"
     ]
    }
   ],
   "source": [
    "function g(k)\n",
    "    for i in 1:10\n",
    "        k = 5k - 1\n",
    "    end\n",
    "    k\n",
    "end\n",
    "@code_llvm g(1)"
   ]
  },
  {
   "cell_type": "code",
   "execution_count": 68,
   "metadata": {},
   "outputs": [
    {
     "data": {
      "text/plain": [
       "9765625"
      ]
     },
     "execution_count": 68,
     "metadata": {},
     "output_type": "execute_result"
    }
   ],
   "source": [
    "5^10"
   ]
  },
  {
   "cell_type": "markdown",
   "metadata": {},
   "source": [
    "Q3.2. Use `@code_llvm` to find the LLVM bitcode of compiled `g` with `Float64` input. \n",
    "\n",
    "**Solution**"
   ]
  },
  {
   "cell_type": "code",
   "execution_count": 69,
   "metadata": {},
   "outputs": [
    {
     "name": "stdout",
     "output_type": "stream",
     "text": [
      "\u001b[90m;  @ In[67]:1 within `g`\u001b[39m\n",
      "\u001b[95mdefine\u001b[39m \u001b[36mdouble\u001b[39m \u001b[93m@julia_g_2358\u001b[39m\u001b[33m(\u001b[39m\u001b[36mdouble\u001b[39m \u001b[0m%0\u001b[33m)\u001b[39m \u001b[0m#0 \u001b[33m{\u001b[39m\n",
      "\u001b[91mtop:\u001b[39m\n",
      "\u001b[90m;  @ In[67]:3 within `g`\u001b[39m\n",
      "\u001b[90m; ┌ @ promotion.jl:423 within `*` @ float.jl:411\u001b[39m\n",
      "   \u001b[0m%1 \u001b[0m= \u001b[96m\u001b[1mfmul\u001b[22m\u001b[39m \u001b[36mdouble\u001b[39m \u001b[0m%0\u001b[0m, \u001b[33m5.000000e+00\u001b[39m\n",
      "\u001b[90m; └\u001b[39m\n",
      "\u001b[90m; ┌ @ promotion.jl:424 within `-` @ float.jl:410\u001b[39m\n",
      "   \u001b[0m%2 \u001b[0m= \u001b[96m\u001b[1mfadd\u001b[22m\u001b[39m \u001b[36mdouble\u001b[39m \u001b[0m%1\u001b[0m, \u001b[33m-1.000000e+00\u001b[39m\n",
      "\u001b[90m; └\u001b[39m\n",
      "\u001b[90m; ┌ @ promotion.jl:423 within `*` @ float.jl:411\u001b[39m\n",
      "   \u001b[0m%3 \u001b[0m= \u001b[96m\u001b[1mfmul\u001b[22m\u001b[39m \u001b[36mdouble\u001b[39m \u001b[0m%2\u001b[0m, \u001b[33m5.000000e+00\u001b[39m\n",
      "\u001b[90m; └\u001b[39m\n",
      "\u001b[90m; ┌ @ promotion.jl:424 within `-` @ float.jl:410\u001b[39m\n",
      "   \u001b[0m%4 \u001b[0m= \u001b[96m\u001b[1mfadd\u001b[22m\u001b[39m \u001b[36mdouble\u001b[39m \u001b[0m%3\u001b[0m, \u001b[33m-1.000000e+00\u001b[39m\n",
      "\u001b[90m; └\u001b[39m\n",
      "\u001b[90m; ┌ @ promotion.jl:423 within `*` @ float.jl:411\u001b[39m\n",
      "   \u001b[0m%5 \u001b[0m= \u001b[96m\u001b[1mfmul\u001b[22m\u001b[39m \u001b[36mdouble\u001b[39m \u001b[0m%4\u001b[0m, \u001b[33m5.000000e+00\u001b[39m\n",
      "\u001b[90m; └\u001b[39m\n",
      "\u001b[90m; ┌ @ promotion.jl:424 within `-` @ float.jl:410\u001b[39m\n",
      "   \u001b[0m%6 \u001b[0m= \u001b[96m\u001b[1mfadd\u001b[22m\u001b[39m \u001b[36mdouble\u001b[39m \u001b[0m%5\u001b[0m, \u001b[33m-1.000000e+00\u001b[39m\n",
      "\u001b[90m; └\u001b[39m\n",
      "\u001b[90m; ┌ @ promotion.jl:423 within `*` @ float.jl:411\u001b[39m\n",
      "   \u001b[0m%7 \u001b[0m= \u001b[96m\u001b[1mfmul\u001b[22m\u001b[39m \u001b[36mdouble\u001b[39m \u001b[0m%6\u001b[0m, \u001b[33m5.000000e+00\u001b[39m\n",
      "\u001b[90m; └\u001b[39m\n",
      "\u001b[90m; ┌ @ promotion.jl:424 within `-` @ float.jl:410\u001b[39m\n",
      "   \u001b[0m%8 \u001b[0m= \u001b[96m\u001b[1mfadd\u001b[22m\u001b[39m \u001b[36mdouble\u001b[39m \u001b[0m%7\u001b[0m, \u001b[33m-1.000000e+00\u001b[39m\n",
      "\u001b[90m; └\u001b[39m\n",
      "\u001b[90m; ┌ @ promotion.jl:423 within `*` @ float.jl:411\u001b[39m\n",
      "   \u001b[0m%9 \u001b[0m= \u001b[96m\u001b[1mfmul\u001b[22m\u001b[39m \u001b[36mdouble\u001b[39m \u001b[0m%8\u001b[0m, \u001b[33m5.000000e+00\u001b[39m\n",
      "\u001b[90m; └\u001b[39m\n",
      "\u001b[90m; ┌ @ promotion.jl:424 within `-` @ float.jl:410\u001b[39m\n",
      "   \u001b[0m%10 \u001b[0m= \u001b[96m\u001b[1mfadd\u001b[22m\u001b[39m \u001b[36mdouble\u001b[39m \u001b[0m%9\u001b[0m, \u001b[33m-1.000000e+00\u001b[39m\n",
      "\u001b[90m; └\u001b[39m\n",
      "\u001b[90m; ┌ @ promotion.jl:423 within `*` @ float.jl:411\u001b[39m\n",
      "   \u001b[0m%11 \u001b[0m= \u001b[96m\u001b[1mfmul\u001b[22m\u001b[39m \u001b[36mdouble\u001b[39m \u001b[0m%10\u001b[0m, \u001b[33m5.000000e+00\u001b[39m\n",
      "\u001b[90m; └\u001b[39m\n",
      "\u001b[90m; ┌ @ promotion.jl:424 within `-` @ float.jl:410\u001b[39m\n",
      "   \u001b[0m%12 \u001b[0m= \u001b[96m\u001b[1mfadd\u001b[22m\u001b[39m \u001b[36mdouble\u001b[39m \u001b[0m%11\u001b[0m, \u001b[33m-1.000000e+00\u001b[39m\n",
      "\u001b[90m; └\u001b[39m\n",
      "\u001b[90m; ┌ @ promotion.jl:423 within `*` @ float.jl:411\u001b[39m\n",
      "   \u001b[0m%13 \u001b[0m= \u001b[96m\u001b[1mfmul\u001b[22m\u001b[39m \u001b[36mdouble\u001b[39m \u001b[0m%12\u001b[0m, \u001b[33m5.000000e+00\u001b[39m\n",
      "\u001b[90m; └\u001b[39m\n",
      "\u001b[90m; ┌ @ promotion.jl:424 within `-` @ float.jl:410\u001b[39m\n",
      "   \u001b[0m%14 \u001b[0m= \u001b[96m\u001b[1mfadd\u001b[22m\u001b[39m \u001b[36mdouble\u001b[39m \u001b[0m%13\u001b[0m, \u001b[33m-1.000000e+00\u001b[39m\n",
      "\u001b[90m; └\u001b[39m\n",
      "\u001b[90m; ┌ @ promotion.jl:423 within `*` @ float.jl:411\u001b[39m\n",
      "   \u001b[0m%15 \u001b[0m= \u001b[96m\u001b[1mfmul\u001b[22m\u001b[39m \u001b[36mdouble\u001b[39m \u001b[0m%14\u001b[0m, \u001b[33m5.000000e+00\u001b[39m\n",
      "\u001b[90m; └\u001b[39m\n",
      "\u001b[90m; ┌ @ promotion.jl:424 within `-` @ float.jl:410\u001b[39m\n",
      "   \u001b[0m%16 \u001b[0m= \u001b[96m\u001b[1mfadd\u001b[22m\u001b[39m \u001b[36mdouble\u001b[39m \u001b[0m%15\u001b[0m, \u001b[33m-1.000000e+00\u001b[39m\n",
      "\u001b[90m; └\u001b[39m\n",
      "\u001b[90m; ┌ @ promotion.jl:423 within `*` @ float.jl:411\u001b[39m\n",
      "   \u001b[0m%17 \u001b[0m= \u001b[96m\u001b[1mfmul\u001b[22m\u001b[39m \u001b[36mdouble\u001b[39m \u001b[0m%16\u001b[0m, \u001b[33m5.000000e+00\u001b[39m\n",
      "\u001b[90m; └\u001b[39m\n",
      "\u001b[90m; ┌ @ promotion.jl:424 within `-` @ float.jl:410\u001b[39m\n",
      "   \u001b[0m%18 \u001b[0m= \u001b[96m\u001b[1mfadd\u001b[22m\u001b[39m \u001b[36mdouble\u001b[39m \u001b[0m%17\u001b[0m, \u001b[33m-1.000000e+00\u001b[39m\n",
      "\u001b[90m; └\u001b[39m\n",
      "\u001b[90m; ┌ @ promotion.jl:423 within `*` @ float.jl:411\u001b[39m\n",
      "   \u001b[0m%19 \u001b[0m= \u001b[96m\u001b[1mfmul\u001b[22m\u001b[39m \u001b[36mdouble\u001b[39m \u001b[0m%18\u001b[0m, \u001b[33m5.000000e+00\u001b[39m\n",
      "\u001b[90m; └\u001b[39m\n",
      "\u001b[90m; ┌ @ promotion.jl:424 within `-` @ float.jl:410\u001b[39m\n",
      "   \u001b[0m%20 \u001b[0m= \u001b[96m\u001b[1mfadd\u001b[22m\u001b[39m \u001b[36mdouble\u001b[39m \u001b[0m%19\u001b[0m, \u001b[33m-1.000000e+00\u001b[39m\n",
      "\u001b[90m; └\u001b[39m\n",
      "\u001b[90m;  @ In[67]:5 within `g`\u001b[39m\n",
      "  \u001b[96m\u001b[1mret\u001b[22m\u001b[39m \u001b[36mdouble\u001b[39m \u001b[0m%20\n",
      "\u001b[33m}\u001b[39m\n"
     ]
    }
   ],
   "source": [
    "@code_llvm g(1.0)"
   ]
  },
  {
   "cell_type": "markdown",
   "metadata": {},
   "source": [
    "We see that `*` and `-` was calculated for each iteration."
   ]
  },
  {
   "cell_type": "markdown",
   "metadata": {},
   "source": [
    "Q3.3. Compare the bitcode from questions 1 and 2. Explain what do you find.\n",
    "\n",
    "**Solution**\n",
    "- `%0` represents `k = 1`\n",
    "- `%1` represents the multiplication. Since `5^10 = 9765625`, the actual computation does not appear to be done interatively.\n",
    "- `%2` represents the subtraction. We see that"
   ]
  },
  {
   "cell_type": "markdown",
   "metadata": {},
   "source": [
    "Q3.4. Read Julia documentation on `@fastmath` and repeat the questions 1-3 on the function  "
   ]
  },
  {
   "cell_type": "code",
   "execution_count": 70,
   "metadata": {},
   "outputs": [
    {
     "data": {
      "text/plain": [
       "g_fastmath (generic function with 1 method)"
      ]
     },
     "execution_count": 70,
     "metadata": {},
     "output_type": "execute_result"
    }
   ],
   "source": [
    "function g_fastmath(k)  \n",
    "    @fastmath for i in 1:10 \n",
    "        k = 5k - 1\n",
    "    end\n",
    "    k\n",
    "end"
   ]
  },
  {
   "cell_type": "markdown",
   "metadata": {},
   "source": [
    "Explain what does the macro `@fastmath` do? And why are the bitcodes for `g` and `g_fastmath` with `Float64` input different? (Hint: Q2)\n",
    "\n",
    "**Solution**\n",
    "\n",
    "I read Julia documantation on `@fastmath`."
   ]
  },
  {
   "cell_type": "code",
   "execution_count": 71,
   "metadata": {},
   "outputs": [
    {
     "name": "stdout",
     "output_type": "stream",
     "text": [
      "\u001b[90m;  @ In[70]:1 within `g_fastmath`\u001b[39m\n",
      "\u001b[95mdefine\u001b[39m \u001b[36mi64\u001b[39m \u001b[93m@julia_g_fastmath_2394\u001b[39m\u001b[33m(\u001b[39m\u001b[36mi64\u001b[39m \u001b[95msignext\u001b[39m \u001b[0m%0\u001b[33m)\u001b[39m \u001b[0m#0 \u001b[33m{\u001b[39m\n",
      "\u001b[91mtop:\u001b[39m\n",
      "\u001b[90m;  @ In[70]:3 within `g_fastmath`\u001b[39m\n",
      "\u001b[90m; ┌ @ fastmath.jl:269 within `mul_fast`\u001b[39m\n",
      "\u001b[90m; │┌ @ int.jl:88 within `*`\u001b[39m\n",
      "    \u001b[0m%1 \u001b[0m= \u001b[96m\u001b[1mmul\u001b[22m\u001b[39m \u001b[36mi64\u001b[39m \u001b[0m%0\u001b[0m, \u001b[33m9765625\u001b[39m\n",
      "\u001b[90m; └└\u001b[39m\n",
      "\u001b[90m; ┌ @ fastmath.jl:269 within `sub_fast`\u001b[39m\n",
      "\u001b[90m; │┌ @ int.jl:86 within `-`\u001b[39m\n",
      "    \u001b[0m%2 \u001b[0m= \u001b[96m\u001b[1madd\u001b[22m\u001b[39m \u001b[36mi64\u001b[39m \u001b[0m%1\u001b[0m, \u001b[33m-2441406\u001b[39m\n",
      "\u001b[90m; └└\u001b[39m\n",
      "\u001b[90m;  @ In[70]:5 within `g_fastmath`\u001b[39m\n",
      "  \u001b[96m\u001b[1mret\u001b[22m\u001b[39m \u001b[36mi64\u001b[39m \u001b[0m%2\n",
      "\u001b[33m}\u001b[39m\n"
     ]
    }
   ],
   "source": [
    "@code_llvm g_fastmath(1)"
   ]
  },
  {
   "cell_type": "code",
   "execution_count": 72,
   "metadata": {},
   "outputs": [
    {
     "name": "stdout",
     "output_type": "stream",
     "text": [
      "\u001b[90m;  @ In[70]:1 within `g_fastmath`\u001b[39m\n",
      "\u001b[95mdefine\u001b[39m \u001b[36mdouble\u001b[39m \u001b[93m@julia_g_fastmath_2396\u001b[39m\u001b[33m(\u001b[39m\u001b[36mdouble\u001b[39m \u001b[0m%0\u001b[33m)\u001b[39m \u001b[0m#0 \u001b[33m{\u001b[39m\n",
      "\u001b[91mtop:\u001b[39m\n",
      "\u001b[90m;  @ In[70]:3 within `g_fastmath`\u001b[39m\n",
      "\u001b[90m; ┌ @ fastmath.jl:266 within `mul_fast` @ fastmath.jl:165\u001b[39m\n",
      "   \u001b[0m%1 \u001b[0m= \u001b[96m\u001b[1mfmul\u001b[22m\u001b[39m \u001b[95mfast\u001b[39m \u001b[36mdouble\u001b[39m \u001b[0m%0\u001b[0m, \u001b[33m0x4162A05F20000000\u001b[39m\n",
      "\u001b[90m; └\u001b[39m\n",
      "\u001b[90m; ┌ @ fastmath.jl:266 within `sub_fast` @ fastmath.jl:164\u001b[39m\n",
      "   \u001b[0m%2 \u001b[0m= \u001b[96m\u001b[1mfadd\u001b[22m\u001b[39m \u001b[95mfast\u001b[39m \u001b[36mdouble\u001b[39m \u001b[0m%1\u001b[0m, \u001b[33m0xC142A05F00000000\u001b[39m\n",
      "\u001b[90m; └\u001b[39m\n",
      "\u001b[90m;  @ In[70]:5 within `g_fastmath`\u001b[39m\n",
      "  \u001b[96m\u001b[1mret\u001b[22m\u001b[39m \u001b[36mdouble\u001b[39m \u001b[0m%2\n",
      "\u001b[33m}\u001b[39m\n"
     ]
    }
   ],
   "source": [
    "@code_llvm g_fastmath(1.0)"
   ]
  },
  {
   "cell_type": "markdown",
   "metadata": {},
   "source": [
    "TBD"
   ]
  },
  {
   "cell_type": "markdown",
   "metadata": {},
   "source": [
    "## Q4. Evaluating a polynomial\n",
    "\n",
    "Create the vector `x = (0.988, 0.989, 0.990, ..., 1.010, 1.011, 1.012)`.   "
   ]
  },
  {
   "cell_type": "code",
   "execution_count": 73,
   "metadata": {},
   "outputs": [
    {
     "data": {
      "text/plain": [
       "0.988:0.001:1.012"
      ]
     },
     "execution_count": 73,
     "metadata": {},
     "output_type": "execute_result"
    }
   ],
   "source": [
    "x = range(0.988, stop = 1.012, step = 0.001)"
   ]
  },
  {
   "cell_type": "markdown",
   "metadata": {},
   "source": [
    "Check some elements in `x` to see if it works."
   ]
  },
  {
   "cell_type": "code",
   "execution_count": 74,
   "metadata": {},
   "outputs": [
    {
     "name": "stdout",
     "output_type": "stream",
     "text": [
      "0.988\n",
      "0.998\n",
      "1.012\n"
     ]
    }
   ],
   "source": [
    "println(x[1])\n",
    "println(x[11])\n",
    "println(x[25]) # last value"
   ]
  },
  {
   "cell_type": "markdown",
   "metadata": {},
   "source": [
    "Q4.1. Plot the polynomial `y = x^7 - 7x^6 + 21x^5 - 35x^4 + 35x^3 - 21x^2 + 7x - 1` at points `x`.\n",
    "\n",
    "**Solution**"
   ]
  },
  {
   "cell_type": "code",
   "execution_count": 75,
   "metadata": {},
   "outputs": [
    {
     "data": {
      "image/png": "[encoded data removed]",
      "image/svg+xml": [
       "<?xml version=\"1.0\" encoding=\"utf-8\"?>\n",
       "<svg xmlns=\"http://www.w3.org/2000/svg\" xmlns:xlink=\"http://www.w3.org/1999/xlink\" width=\"600\" height=\"400\" viewBox=\"0 0 2400 1600\">\n",
       "<defs>\n",
       "  <clipPath id=\"clip910\">\n",
       "    <rect x=\"0\" y=\"0\" width=\"2400\" height=\"1600\"/>\n",
       "  </clipPath>\n",
       "</defs>\n",
       "<path clip-path=\"url(#clip910)\" d=\"M0 1600 L2400 1600 L2400 8.88178e-14 L0 8.88178e-14  Z\" fill=\"#ffffff\" fill-rule=\"evenodd\" fill-opacity=\"1\"/>\n",
       "<defs>\n",
       "  <clipPath id=\"clip911\">\n",
       "    <rect x=\"480\" y=\"0\" width=\"1681\" height=\"1600\"/>\n",
       "  </clipPath>\n",
       "</defs>\n",
       "<path clip-path=\"url(#clip910)\" d=\"M432.293 1423.18 L2352.76 1423.18 L2352.76 123.472 L432.293 123.472  Z\" fill=\"#ffffff\" fill-rule=\"evenodd\" fill-opacity=\"1\"/>\n",
       "<defs>\n",
       "  <clipPath id=\"clip912\">\n",
       "    <rect x=\"432\" y=\"123\" width=\"1921\" height=\"1301\"/>\n",
       "  </clipPath>\n",
       "</defs>\n",
       "<polyline clip-path=\"url(#clip912)\" style=\"stroke:#000000; stroke-linecap:round; stroke-linejoin:round; stroke-width:2; stroke-opacity:0.1; fill:none\" points=\"637.625,1423.18 637.625,123.472 \"/>\n",
       "<polyline clip-path=\"url(#clip912)\" style=\"stroke:#000000; stroke-linecap:round; stroke-linejoin:round; stroke-width:2; stroke-opacity:0.1; fill:none\" points=\"1015.07,1423.18 1015.07,123.472 \"/>\n",
       "<polyline clip-path=\"url(#clip912)\" style=\"stroke:#000000; stroke-linecap:round; stroke-linejoin:round; stroke-width:2; stroke-opacity:0.1; fill:none\" points=\"1392.52,1423.18 1392.52,123.472 \"/>\n",
       "<polyline clip-path=\"url(#clip912)\" style=\"stroke:#000000; stroke-linecap:round; stroke-linejoin:round; stroke-width:2; stroke-opacity:0.1; fill:none\" points=\"1769.97,1423.18 1769.97,123.472 \"/>\n",
       "<polyline clip-path=\"url(#clip912)\" style=\"stroke:#000000; stroke-linecap:round; stroke-linejoin:round; stroke-width:2; stroke-opacity:0.1; fill:none\" points=\"2147.42,1423.18 2147.42,123.472 \"/>\n",
       "<polyline clip-path=\"url(#clip910)\" style=\"stroke:#000000; stroke-linecap:round; stroke-linejoin:round; stroke-width:4; stroke-opacity:1; fill:none\" points=\"432.293,1423.18 2352.76,1423.18 \"/>\n",
       "<polyline clip-path=\"url(#clip910)\" style=\"stroke:#000000; stroke-linecap:round; stroke-linejoin:round; stroke-width:4; stroke-opacity:1; fill:none\" points=\"637.625,1423.18 637.625,1404.28 \"/>\n",
       "<polyline clip-path=\"url(#clip910)\" style=\"stroke:#000000; stroke-linecap:round; stroke-linejoin:round; stroke-width:4; stroke-opacity:1; fill:none\" points=\"1015.07,1423.18 1015.07,1404.28 \"/>\n",
       "<polyline clip-path=\"url(#clip910)\" style=\"stroke:#000000; stroke-linecap:round; stroke-linejoin:round; stroke-width:4; stroke-opacity:1; fill:none\" points=\"1392.52,1423.18 1392.52,1404.28 \"/>\n",
       "<polyline clip-path=\"url(#clip910)\" style=\"stroke:#000000; stroke-linecap:round; stroke-linejoin:round; stroke-width:4; stroke-opacity:1; fill:none\" points=\"1769.97,1423.18 1769.97,1404.28 \"/>\n",
       "<polyline clip-path=\"url(#clip910)\" style=\"stroke:#000000; stroke-linecap:round; stroke-linejoin:round; stroke-width:4; stroke-opacity:1; fill:none\" points=\"2147.42,1423.18 2147.42,1404.28 \"/>\n",
       "<path clip-path=\"url(#clip910)\" d=\"M584.848 1454.1 Q581.237 1454.1 579.408 1457.66 Q577.602 1461.2 577.602 1468.33 Q577.602 1475.44 579.408 1479.01 Q581.237 1482.55 584.848 1482.55 Q588.482 1482.55 590.288 1479.01 Q592.116 1475.44 592.116 1468.33 Q592.116 1461.2 590.288 1457.66 Q588.482 1454.1 584.848 1454.1 M584.848 1450.39 Q590.658 1450.39 593.714 1455 Q596.792 1459.58 596.792 1468.33 Q596.792 1477.06 593.714 1481.67 Q590.658 1486.25 584.848 1486.25 Q579.038 1486.25 575.959 1481.67 Q572.903 1477.06 572.903 1468.33 Q572.903 1459.58 575.959 1455 Q579.038 1450.39 584.848 1450.39 Z\" fill=\"#000000\" fill-rule=\"nonzero\" fill-opacity=\"1\" /><path clip-path=\"url(#clip910)\" d=\"M605.01 1479.7 L609.894 1479.7 L609.894 1485.58 L605.01 1485.58 L605.01 1479.7 Z\" fill=\"#000000\" fill-rule=\"nonzero\" fill-opacity=\"1\" /><path clip-path=\"url(#clip910)\" d=\"M620.218 1484.86 L620.218 1480.6 Q621.977 1481.44 623.783 1481.88 Q625.588 1482.32 627.324 1482.32 Q631.954 1482.32 634.385 1479.21 Q636.838 1476.09 637.186 1469.75 Q635.843 1471.74 633.783 1472.8 Q631.723 1473.87 629.223 1473.87 Q624.037 1473.87 621.005 1470.74 Q617.996 1467.59 617.996 1462.15 Q617.996 1456.83 621.144 1453.61 Q624.292 1450.39 629.524 1450.39 Q635.519 1450.39 638.667 1455 Q641.838 1459.58 641.838 1468.33 Q641.838 1476.51 637.949 1481.39 Q634.084 1486.25 627.533 1486.25 Q625.774 1486.25 623.968 1485.9 Q622.162 1485.56 620.218 1484.86 M629.524 1470.21 Q632.672 1470.21 634.5 1468.06 Q636.352 1465.9 636.352 1462.15 Q636.352 1458.43 634.5 1456.27 Q632.672 1454.1 629.524 1454.1 Q626.375 1454.1 624.524 1456.27 Q622.695 1458.43 622.695 1462.15 Q622.695 1465.9 624.524 1468.06 Q626.375 1470.21 629.524 1470.21 Z\" fill=\"#000000\" fill-rule=\"nonzero\" fill-opacity=\"1\" /><path clip-path=\"url(#clip910)\" d=\"M650.38 1484.86 L650.38 1480.6 Q652.139 1481.44 653.945 1481.88 Q655.75 1482.32 657.486 1482.32 Q662.116 1482.32 664.546 1479.21 Q667 1476.09 667.347 1469.75 Q666.005 1471.74 663.945 1472.8 Q661.884 1473.87 659.384 1473.87 Q654.199 1473.87 651.167 1470.74 Q648.158 1467.59 648.158 1462.15 Q648.158 1456.83 651.306 1453.61 Q654.454 1450.39 659.685 1450.39 Q665.681 1450.39 668.829 1455 Q672 1459.58 672 1468.33 Q672 1476.51 668.111 1481.39 Q664.246 1486.25 657.695 1486.25 Q655.935 1486.25 654.13 1485.9 Q652.324 1485.56 650.38 1484.86 M659.685 1470.21 Q662.834 1470.21 664.662 1468.06 Q666.514 1465.9 666.514 1462.15 Q666.514 1458.43 664.662 1456.27 Q662.834 1454.1 659.685 1454.1 Q656.537 1454.1 654.685 1456.27 Q652.857 1458.43 652.857 1462.15 Q652.857 1465.9 654.685 1468.06 Q656.537 1470.21 659.685 1470.21 Z\" fill=\"#000000\" fill-rule=\"nonzero\" fill-opacity=\"1\" /><path clip-path=\"url(#clip910)\" d=\"M690.403 1454.1 Q686.792 1454.1 684.963 1457.66 Q683.157 1461.2 683.157 1468.33 Q683.157 1475.44 684.963 1479.01 Q686.792 1482.55 690.403 1482.55 Q694.037 1482.55 695.843 1479.01 Q697.671 1475.44 697.671 1468.33 Q697.671 1461.2 695.843 1457.66 Q694.037 1454.1 690.403 1454.1 M690.403 1450.39 Q696.213 1450.39 699.269 1455 Q702.347 1459.58 702.347 1468.33 Q702.347 1477.06 699.269 1481.67 Q696.213 1486.25 690.403 1486.25 Q684.593 1486.25 681.514 1481.67 Q678.458 1477.06 678.458 1468.33 Q678.458 1459.58 681.514 1455 Q684.593 1450.39 690.403 1450.39 Z\" fill=\"#000000\" fill-rule=\"nonzero\" fill-opacity=\"1\" /><path clip-path=\"url(#clip910)\" d=\"M962.795 1454.1 Q959.184 1454.1 957.355 1457.66 Q955.55 1461.2 955.55 1468.33 Q955.55 1475.44 957.355 1479.01 Q959.184 1482.55 962.795 1482.55 Q966.429 1482.55 968.235 1479.01 Q970.064 1475.44 970.064 1468.33 Q970.064 1461.2 968.235 1457.66 Q966.429 1454.1 962.795 1454.1 M962.795 1450.39 Q968.605 1450.39 971.661 1455 Q974.739 1459.58 974.739 1468.33 Q974.739 1477.06 971.661 1481.67 Q968.605 1486.25 962.795 1486.25 Q956.985 1486.25 953.906 1481.67 Q950.851 1477.06 950.851 1468.33 Q950.851 1459.58 953.906 1455 Q956.985 1450.39 962.795 1450.39 Z\" fill=\"#000000\" fill-rule=\"nonzero\" fill-opacity=\"1\" /><path clip-path=\"url(#clip910)\" d=\"M982.957 1479.7 L987.841 1479.7 L987.841 1485.58 L982.957 1485.58 L982.957 1479.7 Z\" fill=\"#000000\" fill-rule=\"nonzero\" fill-opacity=\"1\" /><path clip-path=\"url(#clip910)\" d=\"M998.165 1484.86 L998.165 1480.6 Q999.924 1481.44 1001.73 1481.88 Q1003.54 1482.32 1005.27 1482.32 Q1009.9 1482.32 1012.33 1479.21 Q1014.79 1476.09 1015.13 1469.75 Q1013.79 1471.74 1011.73 1472.8 Q1009.67 1473.87 1007.17 1473.87 Q1001.98 1473.87 998.952 1470.74 Q995.943 1467.59 995.943 1462.15 Q995.943 1456.83 999.091 1453.61 Q1002.24 1450.39 1007.47 1450.39 Q1013.47 1450.39 1016.61 1455 Q1019.79 1459.58 1019.79 1468.33 Q1019.79 1476.51 1015.9 1481.39 Q1012.03 1486.25 1005.48 1486.25 Q1003.72 1486.25 1001.92 1485.9 Q1000.11 1485.56 998.165 1484.86 M1007.47 1470.21 Q1010.62 1470.21 1012.45 1468.06 Q1014.3 1465.9 1014.3 1462.15 Q1014.3 1458.43 1012.45 1456.27 Q1010.62 1454.1 1007.47 1454.1 Q1004.32 1454.1 1002.47 1456.27 Q1000.64 1458.43 1000.64 1462.15 Q1000.64 1465.9 1002.47 1468.06 Q1004.32 1470.21 1007.47 1470.21 Z\" fill=\"#000000\" fill-rule=\"nonzero\" fill-opacity=\"1\" /><path clip-path=\"url(#clip910)\" d=\"M1028.33 1484.86 L1028.33 1480.6 Q1030.09 1481.44 1031.89 1481.88 Q1033.7 1482.32 1035.43 1482.32 Q1040.06 1482.32 1042.49 1479.21 Q1044.95 1476.09 1045.29 1469.75 Q1043.95 1471.74 1041.89 1472.8 Q1039.83 1473.87 1037.33 1473.87 Q1032.15 1473.87 1029.11 1470.74 Q1026.1 1467.59 1026.1 1462.15 Q1026.1 1456.83 1029.25 1453.61 Q1032.4 1450.39 1037.63 1450.39 Q1043.63 1450.39 1046.78 1455 Q1049.95 1459.58 1049.95 1468.33 Q1049.95 1476.51 1046.06 1481.39 Q1042.19 1486.25 1035.64 1486.25 Q1033.88 1486.25 1032.08 1485.9 Q1030.27 1485.56 1028.33 1484.86 M1037.63 1470.21 Q1040.78 1470.21 1042.61 1468.06 Q1044.46 1465.9 1044.46 1462.15 Q1044.46 1458.43 1042.61 1456.27 Q1040.78 1454.1 1037.63 1454.1 Q1034.48 1454.1 1032.63 1456.27 Q1030.8 1458.43 1030.8 1462.15 Q1030.8 1465.9 1032.63 1468.06 Q1034.48 1470.21 1037.63 1470.21 Z\" fill=\"#000000\" fill-rule=\"nonzero\" fill-opacity=\"1\" /><path clip-path=\"url(#clip910)\" d=\"M1058.4 1451.02 L1076.75 1451.02 L1076.75 1454.96 L1062.68 1454.96 L1062.68 1463.43 Q1063.7 1463.08 1064.72 1462.92 Q1065.73 1462.73 1066.75 1462.73 Q1072.54 1462.73 1075.92 1465.9 Q1079.3 1469.08 1079.3 1474.49 Q1079.3 1480.07 1075.83 1483.17 Q1072.35 1486.25 1066.04 1486.25 Q1063.86 1486.25 1061.59 1485.88 Q1059.35 1485.51 1056.94 1484.77 L1056.94 1480.07 Q1059.02 1481.2 1061.24 1481.76 Q1063.47 1482.32 1065.94 1482.32 Q1069.95 1482.32 1072.29 1480.21 Q1074.62 1478.1 1074.62 1474.49 Q1074.62 1470.88 1072.29 1468.77 Q1069.95 1466.67 1065.94 1466.67 Q1064.07 1466.67 1062.19 1467.08 Q1060.34 1467.5 1058.4 1468.38 L1058.4 1451.02 Z\" fill=\"#000000\" fill-rule=\"nonzero\" fill-opacity=\"1\" /><path clip-path=\"url(#clip910)\" d=\"M1329.52 1481.64 L1337.15 1481.64 L1337.15 1455.28 L1328.84 1456.95 L1328.84 1452.69 L1337.11 1451.02 L1341.78 1451.02 L1341.78 1481.64 L1349.42 1481.64 L1349.42 1485.58 L1329.52 1485.58 L1329.52 1481.64 Z\" fill=\"#000000\" fill-rule=\"nonzero\" fill-opacity=\"1\" /><path clip-path=\"url(#clip910)\" d=\"M1358.87 1479.7 L1363.75 1479.7 L1363.75 1485.58 L1358.87 1485.58 L1358.87 1479.7 Z\" fill=\"#000000\" fill-rule=\"nonzero\" fill-opacity=\"1\" /><path clip-path=\"url(#clip910)\" d=\"M1383.94 1454.1 Q1380.33 1454.1 1378.5 1457.66 Q1376.69 1461.2 1376.69 1468.33 Q1376.69 1475.44 1378.5 1479.01 Q1380.33 1482.55 1383.94 1482.55 Q1387.57 1482.55 1389.38 1479.01 Q1391.2 1475.44 1391.2 1468.33 Q1391.2 1461.2 1389.38 1457.66 Q1387.57 1454.1 1383.94 1454.1 M1383.94 1450.39 Q1389.75 1450.39 1392.8 1455 Q1395.88 1459.58 1395.88 1468.33 Q1395.88 1477.06 1392.8 1481.67 Q1389.75 1486.25 1383.94 1486.25 Q1378.13 1486.25 1375.05 1481.67 Q1371.99 1477.06 1371.99 1468.33 Q1371.99 1459.58 1375.05 1455 Q1378.13 1450.39 1383.94 1450.39 Z\" fill=\"#000000\" fill-rule=\"nonzero\" fill-opacity=\"1\" /><path clip-path=\"url(#clip910)\" d=\"M1414.1 1454.1 Q1410.49 1454.1 1408.66 1457.66 Q1406.85 1461.2 1406.85 1468.33 Q1406.85 1475.44 1408.66 1479.01 Q1410.49 1482.55 1414.1 1482.55 Q1417.73 1482.55 1419.54 1479.01 Q1421.37 1475.44 1421.37 1468.33 Q1421.37 1461.2 1419.54 1457.66 Q1417.73 1454.1 1414.1 1454.1 M1414.1 1450.39 Q1419.91 1450.39 1422.96 1455 Q1426.04 1459.58 1426.04 1468.33 Q1426.04 1477.06 1422.96 1481.67 Q1419.91 1486.25 1414.1 1486.25 Q1408.29 1486.25 1405.21 1481.67 Q1402.15 1477.06 1402.15 1468.33 Q1402.15 1459.58 1405.21 1455 Q1408.29 1450.39 1414.1 1450.39 Z\" fill=\"#000000\" fill-rule=\"nonzero\" fill-opacity=\"1\" /><path clip-path=\"url(#clip910)\" d=\"M1444.26 1454.1 Q1440.65 1454.1 1438.82 1457.66 Q1437.01 1461.2 1437.01 1468.33 Q1437.01 1475.44 1438.82 1479.01 Q1440.65 1482.55 1444.26 1482.55 Q1447.89 1482.55 1449.7 1479.01 Q1451.53 1475.44 1451.53 1468.33 Q1451.53 1461.2 1449.7 1457.66 Q1447.89 1454.1 1444.26 1454.1 M1444.26 1450.39 Q1450.07 1450.39 1453.13 1455 Q1456.2 1459.58 1456.2 1468.33 Q1456.2 1477.06 1453.13 1481.67 Q1450.07 1486.25 1444.26 1486.25 Q1438.45 1486.25 1435.37 1481.67 Q1432.32 1477.06 1432.32 1468.33 Q1432.32 1459.58 1435.37 1455 Q1438.45 1450.39 1444.26 1450.39 Z\" fill=\"#000000\" fill-rule=\"nonzero\" fill-opacity=\"1\" /><path clip-path=\"url(#clip910)\" d=\"M1707.46 1481.64 L1715.1 1481.64 L1715.1 1455.28 L1706.79 1456.95 L1706.79 1452.69 L1715.06 1451.02 L1719.73 1451.02 L1719.73 1481.64 L1727.37 1481.64 L1727.37 1485.58 L1707.46 1485.58 L1707.46 1481.64 Z\" fill=\"#000000\" fill-rule=\"nonzero\" fill-opacity=\"1\" /><path clip-path=\"url(#clip910)\" d=\"M1736.81 1479.7 L1741.7 1479.7 L1741.7 1485.58 L1736.81 1485.58 L1736.81 1479.7 Z\" fill=\"#000000\" fill-rule=\"nonzero\" fill-opacity=\"1\" /><path clip-path=\"url(#clip910)\" d=\"M1761.88 1454.1 Q1758.27 1454.1 1756.44 1457.66 Q1754.64 1461.2 1754.64 1468.33 Q1754.64 1475.44 1756.44 1479.01 Q1758.27 1482.55 1761.88 1482.55 Q1765.52 1482.55 1767.32 1479.01 Q1769.15 1475.44 1769.15 1468.33 Q1769.15 1461.2 1767.32 1457.66 Q1765.52 1454.1 1761.88 1454.1 M1761.88 1450.39 Q1767.69 1450.39 1770.75 1455 Q1773.83 1459.58 1773.83 1468.33 Q1773.83 1477.06 1770.75 1481.67 Q1767.69 1486.25 1761.88 1486.25 Q1756.07 1486.25 1752.99 1481.67 Q1749.94 1477.06 1749.94 1468.33 Q1749.94 1459.58 1752.99 1455 Q1756.07 1450.39 1761.88 1450.39 Z\" fill=\"#000000\" fill-rule=\"nonzero\" fill-opacity=\"1\" /><path clip-path=\"url(#clip910)\" d=\"M1792.05 1454.1 Q1788.43 1454.1 1786.61 1457.66 Q1784.8 1461.2 1784.8 1468.33 Q1784.8 1475.44 1786.61 1479.01 Q1788.43 1482.55 1792.05 1482.55 Q1795.68 1482.55 1797.49 1479.01 Q1799.31 1475.44 1799.31 1468.33 Q1799.31 1461.2 1797.49 1457.66 Q1795.68 1454.1 1792.05 1454.1 M1792.05 1450.39 Q1797.86 1450.39 1800.91 1455 Q1803.99 1459.58 1803.99 1468.33 Q1803.99 1477.06 1800.91 1481.67 Q1797.86 1486.25 1792.05 1486.25 Q1786.24 1486.25 1783.16 1481.67 Q1780.1 1477.06 1780.1 1468.33 Q1780.1 1459.58 1783.16 1455 Q1786.24 1450.39 1792.05 1450.39 Z\" fill=\"#000000\" fill-rule=\"nonzero\" fill-opacity=\"1\" /><path clip-path=\"url(#clip910)\" d=\"M1812.25 1451.02 L1830.61 1451.02 L1830.61 1454.96 L1816.54 1454.96 L1816.54 1463.43 Q1817.55 1463.08 1818.57 1462.92 Q1819.59 1462.73 1820.61 1462.73 Q1826.4 1462.73 1829.78 1465.9 Q1833.16 1469.08 1833.16 1474.49 Q1833.16 1480.07 1829.68 1483.17 Q1826.21 1486.25 1819.89 1486.25 Q1817.72 1486.25 1815.45 1485.88 Q1813.2 1485.51 1810.8 1484.77 L1810.8 1480.07 Q1812.88 1481.2 1815.1 1481.76 Q1817.32 1482.32 1819.8 1482.32 Q1823.8 1482.32 1826.14 1480.21 Q1828.48 1478.1 1828.48 1474.49 Q1828.48 1470.88 1826.14 1468.77 Q1823.8 1466.67 1819.8 1466.67 Q1817.92 1466.67 1816.05 1467.08 Q1814.2 1467.5 1812.25 1468.38 L1812.25 1451.02 Z\" fill=\"#000000\" fill-rule=\"nonzero\" fill-opacity=\"1\" /><path clip-path=\"url(#clip910)\" d=\"M2084.41 1481.64 L2092.05 1481.64 L2092.05 1455.28 L2083.74 1456.95 L2083.74 1452.69 L2092.01 1451.02 L2096.68 1451.02 L2096.68 1481.64 L2104.32 1481.64 L2104.32 1485.58 L2084.41 1485.58 L2084.41 1481.64 Z\" fill=\"#000000\" fill-rule=\"nonzero\" fill-opacity=\"1\" /><path clip-path=\"url(#clip910)\" d=\"M2113.77 1479.7 L2118.65 1479.7 L2118.65 1485.58 L2113.77 1485.58 L2113.77 1479.7 Z\" fill=\"#000000\" fill-rule=\"nonzero\" fill-opacity=\"1\" /><path clip-path=\"url(#clip910)\" d=\"M2138.84 1454.1 Q2135.22 1454.1 2133.4 1457.66 Q2131.59 1461.2 2131.59 1468.33 Q2131.59 1475.44 2133.4 1479.01 Q2135.22 1482.55 2138.84 1482.55 Q2142.47 1482.55 2144.28 1479.01 Q2146.1 1475.44 2146.1 1468.33 Q2146.1 1461.2 2144.28 1457.66 Q2142.47 1454.1 2138.84 1454.1 M2138.84 1450.39 Q2144.65 1450.39 2147.7 1455 Q2150.78 1459.58 2150.78 1468.33 Q2150.78 1477.06 2147.7 1481.67 Q2144.65 1486.25 2138.84 1486.25 Q2133.03 1486.25 2129.95 1481.67 Q2126.89 1477.06 2126.89 1468.33 Q2126.89 1459.58 2129.95 1455 Q2133.03 1450.39 2138.84 1450.39 Z\" fill=\"#000000\" fill-rule=\"nonzero\" fill-opacity=\"1\" /><path clip-path=\"url(#clip910)\" d=\"M2159.81 1481.64 L2167.45 1481.64 L2167.45 1455.28 L2159.14 1456.95 L2159.14 1452.69 L2167.4 1451.02 L2172.08 1451.02 L2172.08 1481.64 L2179.71 1481.64 L2179.71 1485.58 L2159.81 1485.58 L2159.81 1481.64 Z\" fill=\"#000000\" fill-rule=\"nonzero\" fill-opacity=\"1\" /><path clip-path=\"url(#clip910)\" d=\"M2199.16 1454.1 Q2195.55 1454.1 2193.72 1457.66 Q2191.91 1461.2 2191.91 1468.33 Q2191.91 1475.44 2193.72 1479.01 Q2195.55 1482.55 2199.16 1482.55 Q2202.79 1482.55 2204.6 1479.01 Q2206.43 1475.44 2206.43 1468.33 Q2206.43 1461.2 2204.6 1457.66 Q2202.79 1454.1 2199.16 1454.1 M2199.16 1450.39 Q2204.97 1450.39 2208.02 1455 Q2211.1 1459.58 2211.1 1468.33 Q2211.1 1477.06 2208.02 1481.67 Q2204.97 1486.25 2199.16 1486.25 Q2193.35 1486.25 2190.27 1481.67 Q2187.21 1477.06 2187.21 1468.33 Q2187.21 1459.58 2190.27 1455 Q2193.35 1450.39 2199.16 1450.39 Z\" fill=\"#000000\" fill-rule=\"nonzero\" fill-opacity=\"1\" /><path clip-path=\"url(#clip910)\" d=\"M1409.14 1532.4 L1396.25 1549.74 L1409.81 1568.04 L1402.9 1568.04 L1392.52 1554.04 L1382.15 1568.04 L1375.24 1568.04 L1389.09 1549.39 L1376.42 1532.4 L1383.33 1532.4 L1392.78 1545.1 L1402.23 1532.4 L1409.14 1532.4 Z\" fill=\"#000000\" fill-rule=\"nonzero\" fill-opacity=\"1\" /><polyline clip-path=\"url(#clip912)\" style=\"stroke:#000000; stroke-linecap:round; stroke-linejoin:round; stroke-width:2; stroke-opacity:0.1; fill:none\" points=\"432.293,1153.4 2352.76,1153.4 \"/>\n",
       "<polyline clip-path=\"url(#clip912)\" style=\"stroke:#000000; stroke-linecap:round; stroke-linejoin:round; stroke-width:2; stroke-opacity:0.1; fill:none\" points=\"432.293,853.292 2352.76,853.292 \"/>\n",
       "<polyline clip-path=\"url(#clip912)\" style=\"stroke:#000000; stroke-linecap:round; stroke-linejoin:round; stroke-width:2; stroke-opacity:0.1; fill:none\" points=\"432.293,553.181 2352.76,553.181 \"/>\n",
       "<polyline clip-path=\"url(#clip912)\" style=\"stroke:#000000; stroke-linecap:round; stroke-linejoin:round; stroke-width:2; stroke-opacity:0.1; fill:none\" points=\"432.293,253.07 2352.76,253.07 \"/>\n",
       "<polyline clip-path=\"url(#clip910)\" style=\"stroke:#000000; stroke-linecap:round; stroke-linejoin:round; stroke-width:4; stroke-opacity:1; fill:none\" points=\"432.293,1423.18 432.293,123.472 \"/>\n",
       "<polyline clip-path=\"url(#clip910)\" style=\"stroke:#000000; stroke-linecap:round; stroke-linejoin:round; stroke-width:4; stroke-opacity:1; fill:none\" points=\"432.293,1153.4 451.19,1153.4 \"/>\n",
       "<polyline clip-path=\"url(#clip910)\" style=\"stroke:#000000; stroke-linecap:round; stroke-linejoin:round; stroke-width:4; stroke-opacity:1; fill:none\" points=\"432.293,853.292 451.19,853.292 \"/>\n",
       "<polyline clip-path=\"url(#clip910)\" style=\"stroke:#000000; stroke-linecap:round; stroke-linejoin:round; stroke-width:4; stroke-opacity:1; fill:none\" points=\"432.293,553.181 451.19,553.181 \"/>\n",
       "<polyline clip-path=\"url(#clip910)\" style=\"stroke:#000000; stroke-linecap:round; stroke-linejoin:round; stroke-width:4; stroke-opacity:1; fill:none\" points=\"432.293,253.07 451.19,253.07 \"/>\n",
       "<path clip-path=\"url(#clip910)\" d=\"M114.26 1160.3 L143.936 1160.3 L143.936 1164.24 L114.26 1164.24 L114.26 1160.3 Z\" fill=\"#000000\" fill-rule=\"nonzero\" fill-opacity=\"1\" /><path clip-path=\"url(#clip910)\" d=\"M158.056 1173.19 L174.376 1173.19 L174.376 1177.13 L152.431 1177.13 L152.431 1173.19 Q155.093 1170.44 159.677 1165.81 Q164.283 1161.16 165.464 1159.82 Q167.709 1157.29 168.589 1155.56 Q169.491 1153.8 169.491 1152.11 Q169.491 1149.35 167.547 1147.62 Q165.626 1145.88 162.524 1145.88 Q160.325 1145.88 157.871 1146.64 Q155.44 1147.41 152.663 1148.96 L152.663 1144.24 Q155.487 1143.1 157.94 1142.52 Q160.394 1141.95 162.431 1141.95 Q167.802 1141.95 170.996 1144.63 Q174.19 1147.32 174.19 1151.81 Q174.19 1153.94 173.38 1155.86 Q172.593 1157.76 170.487 1160.35 Q169.908 1161.02 166.806 1164.24 Q163.704 1167.43 158.056 1173.19 Z\" fill=\"#000000\" fill-rule=\"nonzero\" fill-opacity=\"1\" /><path clip-path=\"url(#clip910)\" d=\"M184.19 1171.25 L189.075 1171.25 L189.075 1177.13 L184.19 1177.13 L184.19 1171.25 Z\" fill=\"#000000\" fill-rule=\"nonzero\" fill-opacity=\"1\" /><path clip-path=\"url(#clip910)\" d=\"M209.26 1145.65 Q205.649 1145.65 203.82 1149.21 Q202.014 1152.76 202.014 1159.88 Q202.014 1166.99 203.82 1170.56 Q205.649 1174.1 209.26 1174.1 Q212.894 1174.1 214.699 1170.56 Q216.528 1166.99 216.528 1159.88 Q216.528 1152.76 214.699 1149.21 Q212.894 1145.65 209.26 1145.65 M209.26 1141.95 Q215.07 1141.95 218.125 1146.55 Q221.204 1151.13 221.204 1159.88 Q221.204 1168.61 218.125 1173.22 Q215.07 1177.8 209.26 1177.8 Q203.449 1177.8 200.371 1173.22 Q197.315 1168.61 197.315 1159.88 Q197.315 1151.13 200.371 1146.55 Q203.449 1141.95 209.26 1141.95 Z\" fill=\"#000000\" fill-rule=\"nonzero\" fill-opacity=\"1\" /><path clip-path=\"url(#clip910)\" d=\"M257.593 1151.67 L247.014 1162.29 L257.593 1172.87 L254.838 1175.67 L244.213 1165.05 L233.588 1175.67 L230.857 1172.87 L241.412 1162.29 L230.857 1151.67 L233.588 1148.87 L244.213 1159.49 L254.838 1148.87 L257.593 1151.67 Z\" fill=\"#000000\" fill-rule=\"nonzero\" fill-opacity=\"1\" /><path clip-path=\"url(#clip910)\" d=\"M269.954 1173.19 L277.593 1173.19 L277.593 1146.83 L269.282 1148.5 L269.282 1144.24 L277.546 1142.57 L282.222 1142.57 L282.222 1173.19 L289.861 1173.19 L289.861 1177.13 L269.954 1177.13 L269.954 1173.19 Z\" fill=\"#000000\" fill-rule=\"nonzero\" fill-opacity=\"1\" /><path clip-path=\"url(#clip910)\" d=\"M309.305 1145.65 Q305.694 1145.65 303.866 1149.21 Q302.06 1152.76 302.06 1159.88 Q302.06 1166.99 303.866 1170.56 Q305.694 1174.1 309.305 1174.1 Q312.94 1174.1 314.745 1170.56 Q316.574 1166.99 316.574 1159.88 Q316.574 1152.76 314.745 1149.21 Q312.94 1145.65 309.305 1145.65 M309.305 1141.95 Q315.116 1141.95 318.171 1146.55 Q321.25 1151.13 321.25 1159.88 Q321.25 1168.61 318.171 1173.22 Q315.116 1177.8 309.305 1177.8 Q303.495 1177.8 300.417 1173.22 Q297.361 1168.61 297.361 1159.88 Q297.361 1151.13 300.417 1146.55 Q303.495 1141.95 309.305 1141.95 Z\" fill=\"#000000\" fill-rule=\"nonzero\" fill-opacity=\"1\" /><path clip-path=\"url(#clip910)\" d=\"M321.25 1136.05 L345.361 1136.05 L345.361 1139.24 L321.25 1139.24 L321.25 1136.05 Z\" fill=\"#000000\" fill-rule=\"nonzero\" fill-opacity=\"1\" /><path clip-path=\"url(#clip910)\" d=\"M354.22 1146.52 L360.426 1146.52 L360.426 1125.1 L353.674 1126.45 L353.674 1122.99 L360.389 1121.64 L364.188 1121.64 L364.188 1146.52 L370.394 1146.52 L370.394 1149.72 L354.22 1149.72 L354.22 1146.52 Z\" fill=\"#000000\" fill-rule=\"nonzero\" fill-opacity=\"1\" /><path clip-path=\"url(#clip910)\" d=\"M388.506 1124.95 L378.914 1139.94 L388.506 1139.94 L388.506 1124.95 M387.51 1121.64 L392.287 1121.64 L392.287 1139.94 L396.293 1139.94 L396.293 1143.1 L392.287 1143.1 L392.287 1149.72 L388.506 1149.72 L388.506 1143.1 L375.83 1143.1 L375.83 1139.43 L387.51 1121.64 Z\" fill=\"#000000\" fill-rule=\"nonzero\" fill-opacity=\"1\" /><path clip-path=\"url(#clip910)\" d=\"M384.348 839.09 Q380.737 839.09 378.909 842.655 Q377.103 846.197 377.103 853.326 Q377.103 860.433 378.909 863.998 Q380.737 867.539 384.348 867.539 Q387.983 867.539 389.788 863.998 Q391.617 860.433 391.617 853.326 Q391.617 846.197 389.788 842.655 Q387.983 839.09 384.348 839.09 M384.348 835.387 Q390.159 835.387 393.214 839.993 Q396.293 844.576 396.293 853.326 Q396.293 862.053 393.214 866.66 Q390.159 871.243 384.348 871.243 Q378.538 871.243 375.46 866.66 Q372.404 862.053 372.404 853.326 Q372.404 844.576 375.46 839.993 Q378.538 835.387 384.348 835.387 Z\" fill=\"#000000\" fill-rule=\"nonzero\" fill-opacity=\"1\" /><path clip-path=\"url(#clip910)\" d=\"M158.056 572.973 L174.376 572.973 L174.376 576.908 L152.431 576.908 L152.431 572.973 Q155.093 570.219 159.677 565.589 Q164.283 560.936 165.464 559.594 Q167.709 557.07 168.589 555.334 Q169.491 553.575 169.491 551.885 Q169.491 549.131 167.547 547.395 Q165.626 545.658 162.524 545.658 Q160.325 545.658 157.871 546.422 Q155.44 547.186 152.663 548.737 L152.663 544.015 Q155.487 542.881 157.94 542.302 Q160.394 541.723 162.431 541.723 Q167.802 541.723 170.996 544.408 Q174.19 547.094 174.19 551.584 Q174.19 553.714 173.38 555.635 Q172.593 557.533 170.487 560.126 Q169.908 560.797 166.806 564.015 Q163.704 567.209 158.056 572.973 Z\" fill=\"#000000\" fill-rule=\"nonzero\" fill-opacity=\"1\" /><path clip-path=\"url(#clip910)\" d=\"M184.19 571.029 L189.075 571.029 L189.075 576.908 L184.19 576.908 L184.19 571.029 Z\" fill=\"#000000\" fill-rule=\"nonzero\" fill-opacity=\"1\" /><path clip-path=\"url(#clip910)\" d=\"M209.26 545.427 Q205.649 545.427 203.82 548.992 Q202.014 552.533 202.014 559.663 Q202.014 566.769 203.82 570.334 Q205.649 573.876 209.26 573.876 Q212.894 573.876 214.699 570.334 Q216.528 566.769 216.528 559.663 Q216.528 552.533 214.699 548.992 Q212.894 545.427 209.26 545.427 M209.26 541.723 Q215.07 541.723 218.125 546.33 Q221.204 550.913 221.204 559.663 Q221.204 568.39 218.125 572.996 Q215.07 577.58 209.26 577.58 Q203.449 577.58 200.371 572.996 Q197.315 568.39 197.315 559.663 Q197.315 550.913 200.371 546.33 Q203.449 541.723 209.26 541.723 Z\" fill=\"#000000\" fill-rule=\"nonzero\" fill-opacity=\"1\" /><path clip-path=\"url(#clip910)\" d=\"M257.593 551.445 L247.014 562.07 L257.593 572.649 L254.838 575.45 L244.213 564.825 L233.588 575.45 L230.857 572.649 L241.412 562.07 L230.857 551.445 L233.588 548.645 L244.213 559.269 L254.838 548.645 L257.593 551.445 Z\" fill=\"#000000\" fill-rule=\"nonzero\" fill-opacity=\"1\" /><path clip-path=\"url(#clip910)\" d=\"M269.954 572.973 L277.593 572.973 L277.593 546.608 L269.282 548.274 L269.282 544.015 L277.546 542.348 L282.222 542.348 L282.222 572.973 L289.861 572.973 L289.861 576.908 L269.954 576.908 L269.954 572.973 Z\" fill=\"#000000\" fill-rule=\"nonzero\" fill-opacity=\"1\" /><path clip-path=\"url(#clip910)\" d=\"M309.305 545.427 Q305.694 545.427 303.866 548.992 Q302.06 552.533 302.06 559.663 Q302.06 566.769 303.866 570.334 Q305.694 573.876 309.305 573.876 Q312.94 573.876 314.745 570.334 Q316.574 566.769 316.574 559.663 Q316.574 552.533 314.745 548.992 Q312.94 545.427 309.305 545.427 M309.305 541.723 Q315.116 541.723 318.171 546.33 Q321.25 550.913 321.25 559.663 Q321.25 568.39 318.171 572.996 Q315.116 577.58 309.305 577.58 Q303.495 577.58 300.417 572.996 Q297.361 568.39 297.361 559.663 Q297.361 550.913 300.417 546.33 Q303.495 541.723 309.305 541.723 Z\" fill=\"#000000\" fill-rule=\"nonzero\" fill-opacity=\"1\" /><path clip-path=\"url(#clip910)\" d=\"M321.25 535.825 L345.361 535.825 L345.361 539.022 L321.25 539.022 L321.25 535.825 Z\" fill=\"#000000\" fill-rule=\"nonzero\" fill-opacity=\"1\" /><path clip-path=\"url(#clip910)\" d=\"M354.22 546.301 L360.426 546.301 L360.426 524.879 L353.674 526.233 L353.674 522.772 L360.389 521.418 L364.188 521.418 L364.188 546.301 L370.394 546.301 L370.394 549.498 L354.22 549.498 L354.22 546.301 Z\" fill=\"#000000\" fill-rule=\"nonzero\" fill-opacity=\"1\" /><path clip-path=\"url(#clip910)\" d=\"M388.506 524.728 L378.914 539.718 L388.506 539.718 L388.506 524.728 M387.51 521.418 L392.287 521.418 L392.287 539.718 L396.293 539.718 L396.293 542.878 L392.287 542.878 L392.287 549.498 L388.506 549.498 L388.506 542.878 L375.83 542.878 L375.83 539.21 L387.51 521.418 Z\" fill=\"#000000\" fill-rule=\"nonzero\" fill-opacity=\"1\" /><path clip-path=\"url(#clip910)\" d=\"M166.876 246.311 L155.07 264.76 L166.876 264.76 L166.876 246.311 M165.649 242.237 L171.528 242.237 L171.528 264.76 L176.459 264.76 L176.459 268.649 L171.528 268.649 L171.528 276.797 L166.876 276.797 L166.876 268.649 L151.274 268.649 L151.274 264.135 L165.649 242.237 Z\" fill=\"#000000\" fill-rule=\"nonzero\" fill-opacity=\"1\" /><path clip-path=\"url(#clip910)\" d=\"M184.19 270.918 L189.075 270.918 L189.075 276.797 L184.19 276.797 L184.19 270.918 Z\" fill=\"#000000\" fill-rule=\"nonzero\" fill-opacity=\"1\" /><path clip-path=\"url(#clip910)\" d=\"M209.26 245.316 Q205.649 245.316 203.82 248.881 Q202.014 252.423 202.014 259.552 Q202.014 266.659 203.82 270.223 Q205.649 273.765 209.26 273.765 Q212.894 273.765 214.699 270.223 Q216.528 266.659 216.528 259.552 Q216.528 252.423 214.699 248.881 Q212.894 245.316 209.26 245.316 M209.26 241.612 Q215.07 241.612 218.125 246.219 Q221.204 250.802 221.204 259.552 Q221.204 268.279 218.125 272.885 Q215.07 277.469 209.26 277.469 Q203.449 277.469 200.371 272.885 Q197.315 268.279 197.315 259.552 Q197.315 250.802 200.371 246.219 Q203.449 241.612 209.26 241.612 Z\" fill=\"#000000\" fill-rule=\"nonzero\" fill-opacity=\"1\" /><path clip-path=\"url(#clip910)\" d=\"M257.593 251.335 L247.014 261.959 L257.593 272.538 L254.838 275.339 L244.213 264.714 L233.588 275.339 L230.857 272.538 L241.412 261.959 L230.857 251.335 L233.588 248.534 L244.213 259.159 L254.838 248.534 L257.593 251.335 Z\" fill=\"#000000\" fill-rule=\"nonzero\" fill-opacity=\"1\" /><path clip-path=\"url(#clip910)\" d=\"M269.954 272.862 L277.593 272.862 L277.593 246.497 L269.282 248.163 L269.282 243.904 L277.546 242.237 L282.222 242.237 L282.222 272.862 L289.861 272.862 L289.861 276.797 L269.954 276.797 L269.954 272.862 Z\" fill=\"#000000\" fill-rule=\"nonzero\" fill-opacity=\"1\" /><path clip-path=\"url(#clip910)\" d=\"M309.305 245.316 Q305.694 245.316 303.866 248.881 Q302.06 252.423 302.06 259.552 Q302.06 266.659 303.866 270.223 Q305.694 273.765 309.305 273.765 Q312.94 273.765 314.745 270.223 Q316.574 266.659 316.574 259.552 Q316.574 252.423 314.745 248.881 Q312.94 245.316 309.305 245.316 M309.305 241.612 Q315.116 241.612 318.171 246.219 Q321.25 250.802 321.25 259.552 Q321.25 268.279 318.171 272.885 Q315.116 277.469 309.305 277.469 Q303.495 277.469 300.417 272.885 Q297.361 268.279 297.361 259.552 Q297.361 250.802 300.417 246.219 Q303.495 241.612 309.305 241.612 Z\" fill=\"#000000\" fill-rule=\"nonzero\" fill-opacity=\"1\" /><path clip-path=\"url(#clip910)\" d=\"M321.25 235.714 L345.361 235.714 L345.361 238.911 L321.25 238.911 L321.25 235.714 Z\" fill=\"#000000\" fill-rule=\"nonzero\" fill-opacity=\"1\" /><path clip-path=\"url(#clip910)\" d=\"M354.22 246.19 L360.426 246.19 L360.426 224.768 L353.674 226.122 L353.674 222.661 L360.389 221.307 L364.188 221.307 L364.188 246.19 L370.394 246.19 L370.394 249.387 L354.22 249.387 L354.22 246.19 Z\" fill=\"#000000\" fill-rule=\"nonzero\" fill-opacity=\"1\" /><path clip-path=\"url(#clip910)\" d=\"M388.506 224.617 L378.914 239.607 L388.506 239.607 L388.506 224.617 M387.51 221.307 L392.287 221.307 L392.287 239.607 L396.293 239.607 L396.293 242.767 L392.287 242.767 L392.287 249.387 L388.506 249.387 L388.506 242.767 L375.83 242.767 L375.83 239.099 L387.51 221.307 Z\" fill=\"#000000\" fill-rule=\"nonzero\" fill-opacity=\"1\" /><path clip-path=\"url(#clip910)\" d=\"M67.3143 771.639 Q73.68 774.122 75.6216 776.477 Q77.5631 778.832 77.5631 782.779 L77.5631 787.458 L72.6615 787.458 L72.6615 784.02 Q72.6615 781.601 71.5157 780.265 Q70.3699 778.928 66.1048 777.305 L63.4312 776.254 L28.3562 790.673 L28.3562 784.466 L56.238 773.326 L28.3562 762.186 L28.3562 755.979 L67.3143 771.639 Z\" fill=\"#000000\" fill-rule=\"nonzero\" fill-opacity=\"1\" /><path clip-path=\"url(#clip910)\" d=\"M0.613403 18.8205 L0.613403 41.5461 L10.9027 41.5461 Q16.6145 41.5461 19.7337 38.5889 Q22.8529 35.6318 22.8529 30.163 Q22.8529 24.7348 19.7337 21.7777 Q16.6145 18.8205 10.9027 18.8205 L0.613403 18.8205 M-7.56942 12.096 L10.9027 12.096 Q21.0705 12.096 26.2556 16.714 Q31.4813 21.2916 31.4813 30.163 Q31.4813 39.1155 26.2556 43.6931 Q21.0705 48.2706 10.9027 48.2706 L0.613403 48.2706 L0.613403 72.576 L-7.56942 72.576 L-7.56942 12.096 Z\" fill=\"#000000\" fill-rule=\"nonzero\" fill-opacity=\"1\" /><path clip-path=\"url(#clip910)\" d=\"M42.1352 9.54393 L49.5888 9.54393 L49.5888 72.576 L42.1352 72.576 L42.1352 9.54393 Z\" fill=\"#000000\" fill-rule=\"nonzero\" fill-opacity=\"1\" /><path clip-path=\"url(#clip910)\" d=\"M82.7657 32.4315 Q76.7704 32.4315 73.2866 37.1306 Q69.8028 41.7891 69.8028 49.9314 Q69.8028 58.0738 73.2461 62.7728 Q76.7299 67.4314 82.7657 67.4314 Q88.7206 67.4314 92.2043 62.7323 Q95.6881 58.0333 95.6881 49.9314 Q95.6881 41.8701 92.2043 37.1711 Q88.7206 32.4315 82.7657 32.4315 M82.7657 26.1121 Q92.4879 26.1121 98.0376 32.4315 Q103.587 38.7509 103.587 49.9314 Q103.587 61.0714 98.0376 67.4314 Q92.4879 73.7508 82.7657 73.7508 Q73.0031 73.7508 67.4533 67.4314 Q61.9441 61.0714 61.9441 49.9314 Q61.9441 38.7509 67.4533 32.4315 Q73.0031 26.1121 82.7657 26.1121 Z\" fill=\"#000000\" fill-rule=\"nonzero\" fill-opacity=\"1\" /><path clip-path=\"url(#clip910)\" d=\"M123.315 14.324 L123.315 27.2059 L138.668 27.2059 L138.668 32.9987 L123.315 32.9987 L123.315 57.6282 Q123.315 63.1779 124.814 64.7578 Q126.353 66.3376 131.012 66.3376 L138.668 66.3376 L138.668 72.576 L131.012 72.576 Q122.384 72.576 119.102 69.3758 Q115.821 66.1351 115.821 57.6282 L115.821 32.9987 L110.352 32.9987 L110.352 27.2059 L115.821 27.2059 L115.821 14.324 L123.315 14.324 Z\" fill=\"#000000\" fill-rule=\"nonzero\" fill-opacity=\"1\" /><path clip-path=\"url(#clip910)\" d=\"M192.424 32.4315 Q186.428 32.4315 182.945 37.1306 Q179.461 41.7891 179.461 49.9314 Q179.461 58.0738 182.904 62.7728 Q186.388 67.4314 192.424 67.4314 Q198.379 67.4314 201.862 62.7323 Q205.346 58.0333 205.346 49.9314 Q205.346 41.8701 201.862 37.1711 Q198.379 32.4315 192.424 32.4315 M192.424 26.1121 Q202.146 26.1121 207.696 32.4315 Q213.245 38.7509 213.245 49.9314 Q213.245 61.0714 207.696 67.4314 Q202.146 73.7508 192.424 73.7508 Q182.661 73.7508 177.111 67.4314 Q171.602 61.0714 171.602 49.9314 Q171.602 38.7509 177.111 32.4315 Q182.661 26.1121 192.424 26.1121 Z\" fill=\"#000000\" fill-rule=\"nonzero\" fill-opacity=\"1\" /><path clip-path=\"url(#clip910)\" d=\"M248.569 9.54393 L248.569 15.7418 L241.44 15.7418 Q237.429 15.7418 235.849 17.3622 Q234.31 18.9825 234.31 23.1955 L234.31 27.2059 L246.584 27.2059 L246.584 32.9987 L234.31 32.9987 L234.31 72.576 L226.816 72.576 L226.816 32.9987 L219.686 32.9987 L219.686 27.2059 L226.816 27.2059 L226.816 24.0462 Q226.816 16.471 230.34 13.0277 Q233.864 9.54393 241.521 9.54393 L248.569 9.54393 Z\" fill=\"#000000\" fill-rule=\"nonzero\" fill-opacity=\"1\" /><path clip-path=\"url(#clip910)\" d=\"M300.056 76.7889 Q296.897 84.8907 293.899 87.3618 Q290.901 89.8329 285.878 89.8329 L279.923 89.8329 L279.923 83.5945 L284.298 83.5945 Q287.377 83.5945 289.078 82.1361 Q290.78 80.6778 292.846 75.2496 L294.182 71.8468 L275.832 27.2059 L283.731 27.2059 L297.909 62.6918 L312.087 27.2059 L319.987 27.2059 L300.056 76.7889 Z\" fill=\"#000000\" fill-rule=\"nonzero\" fill-opacity=\"1\" /><path clip-path=\"url(#clip910)\" d=\"M357.62 34.9026 L409.552 34.9026 L409.552 41.7081 L357.62 41.7081 L357.62 34.9026 M357.62 51.4303 L409.552 51.4303 L409.552 58.3168 L357.62 58.3168 L357.62 51.4303 Z\" fill=\"#000000\" fill-rule=\"nonzero\" fill-opacity=\"1\" /><path clip-path=\"url(#clip910)\" d=\"M490.246 27.2059 L473.84 49.2833 L491.097 72.576 L482.306 72.576 L469.1 54.752 L455.895 72.576 L447.104 72.576 L464.725 48.8377 L448.603 27.2059 L457.393 27.2059 L469.425 43.369 L481.456 27.2059 L490.246 27.2059 Z\" fill=\"#000000\" fill-rule=\"nonzero\" fill-opacity=\"1\" /><path clip-path=\"url(#clip910)\" d=\"M532.538 12.096 L554.534 34.6595 L546.392 34.6595 L528.568 18.6585 L510.744 34.6595 L502.601 34.6595 L524.598 12.096 L532.538 12.096 Z\" fill=\"#000000\" fill-rule=\"nonzero\" fill-opacity=\"1\" /><path clip-path=\"url(#clip910)\" d=\"M570.13 12.096 L609.019 12.096 L609.019 15.5798 L587.063 72.576 L578.515 72.576 L599.175 18.9825 L570.13 18.9825 L570.13 12.096 Z\" fill=\"#000000\" fill-rule=\"nonzero\" fill-opacity=\"1\" /><path clip-path=\"url(#clip910)\" d=\"M646.53 46.5287 L668.364 46.5287 L668.364 53.1722 L646.53 53.1722 L646.53 46.5287 Z\" fill=\"#000000\" fill-rule=\"nonzero\" fill-opacity=\"1\" /><path clip-path=\"url(#clip910)\" d=\"M705.592 12.096 L744.481 12.096 L744.481 15.5798 L722.525 72.576 L713.978 72.576 L734.637 18.9825 L705.592 18.9825 L705.592 12.096 Z\" fill=\"#000000\" fill-rule=\"nonzero\" fill-opacity=\"1\" /><path clip-path=\"url(#clip910)\" d=\"M797.102 27.2059 L780.696 49.2833 L797.953 72.576 L789.162 72.576 L775.956 54.752 L762.751 72.576 L753.96 72.576 L771.581 48.8377 L755.459 27.2059 L764.249 27.2059 L776.281 43.369 L788.312 27.2059 L797.102 27.2059 Z\" fill=\"#000000\" fill-rule=\"nonzero\" fill-opacity=\"1\" /><path clip-path=\"url(#clip910)\" d=\"M839.394 12.096 L861.39 34.6595 L853.248 34.6595 L835.424 18.6585 L817.6 34.6595 L809.457 34.6595 L831.454 12.096 L839.394 12.096 Z\" fill=\"#000000\" fill-rule=\"nonzero\" fill-opacity=\"1\" /><path clip-path=\"url(#clip910)\" d=\"M897.565 39.075 Q892.055 39.075 888.815 42.8424 Q885.614 46.6097 885.614 53.1722 Q885.614 59.6941 888.815 63.502 Q892.055 67.2693 897.565 67.2693 Q903.074 67.2693 906.274 63.502 Q909.515 59.6941 909.515 53.1722 Q909.515 46.6097 906.274 42.8424 Q903.074 39.075 897.565 39.075 M913.809 13.4328 L913.809 20.8865 Q910.73 19.4281 907.57 18.6585 Q904.451 17.8888 901.372 17.8888 Q893.271 17.8888 888.977 23.3575 Q884.723 28.8262 884.116 39.8852 Q886.506 36.3609 890.111 34.4975 Q893.716 32.5936 898.051 32.5936 Q907.165 32.5936 912.431 38.1433 Q917.738 43.6525 917.738 53.1722 Q917.738 62.4892 912.229 68.12 Q906.72 73.7508 897.565 73.7508 Q887.073 73.7508 881.523 65.73 Q875.973 57.6687 875.973 42.3968 Q875.973 28.0566 882.779 19.5497 Q889.584 11.0023 901.048 11.0023 Q904.127 11.0023 907.246 11.6099 Q910.406 12.2175 913.809 13.4328 Z\" fill=\"#000000\" fill-rule=\"nonzero\" fill-opacity=\"1\" /><path clip-path=\"url(#clip910)\" d=\"M987.495 20.5624 L987.495 43.1259 L1010.06 43.1259 L1010.06 50.0125 L987.495 50.0125 L987.495 72.576 L980.689 72.576 L980.689 50.0125 L958.126 50.0125 L958.126 43.1259 L980.689 43.1259 L980.689 20.5624 L987.495 20.5624 Z\" fill=\"#000000\" fill-rule=\"nonzero\" fill-opacity=\"1\" /><path clip-path=\"url(#clip910)\" d=\"M1061.14 65.6895 L1089.7 65.6895 L1089.7 72.576 L1051.3 72.576 L1051.3 65.6895 Q1055.95 60.8689 1063.98 52.7671 Q1072.04 44.6248 1074.1 42.2752 Q1078.03 37.8598 1079.57 34.8216 Q1081.15 31.7429 1081.15 28.7857 Q1081.15 23.9651 1077.75 20.927 Q1074.39 17.8888 1068.96 17.8888 Q1065.11 17.8888 1060.82 19.2256 Q1056.56 20.5624 1051.7 23.2765 L1051.7 15.0127 Q1056.64 13.0277 1060.94 12.015 Q1065.23 11.0023 1068.8 11.0023 Q1078.19 11.0023 1083.78 15.7013 Q1089.37 20.4004 1089.37 28.2591 Q1089.37 31.9859 1087.96 35.3482 Q1086.58 38.6699 1082.89 43.2069 Q1081.88 44.3817 1076.45 50.0125 Q1071.02 55.6027 1061.14 65.6895 Z\" fill=\"#000000\" fill-rule=\"nonzero\" fill-opacity=\"1\" /><path clip-path=\"url(#clip910)\" d=\"M1108.29 65.6895 L1121.66 65.6895 L1121.66 19.5497 L1107.12 22.4663 L1107.12 15.0127 L1121.58 12.096 L1129.76 12.096 L1129.76 65.6895 L1143.13 65.6895 L1143.13 72.576 L1108.29 72.576 L1108.29 65.6895 Z\" fill=\"#000000\" fill-rule=\"nonzero\" fill-opacity=\"1\" /><path clip-path=\"url(#clip910)\" d=\"M1196.32 27.2059 L1179.91 49.2833 L1197.17 72.576 L1188.38 72.576 L1175.17 54.752 L1161.97 72.576 L1153.18 72.576 L1170.8 48.8377 L1154.68 27.2059 L1163.47 27.2059 L1175.5 43.369 L1187.53 27.2059 L1196.32 27.2059 Z\" fill=\"#000000\" fill-rule=\"nonzero\" fill-opacity=\"1\" /><path clip-path=\"url(#clip910)\" d=\"M1238.61 12.096 L1260.61 34.6595 L1252.46 34.6595 L1234.64 18.6585 L1216.82 34.6595 L1208.67 34.6595 L1230.67 12.096 L1238.61 12.096 Z\" fill=\"#000000\" fill-rule=\"nonzero\" fill-opacity=\"1\" /><path clip-path=\"url(#clip910)\" d=\"M1278.35 12.096 L1310.47 12.096 L1310.47 18.9825 L1285.84 18.9825 L1285.84 33.8088 Q1287.63 33.2012 1289.41 32.9176 Q1291.19 32.5936 1292.97 32.5936 Q1303.1 32.5936 1309.01 38.1433 Q1314.93 43.6931 1314.93 53.1722 Q1314.93 62.9348 1308.85 68.3631 Q1302.78 73.7508 1291.72 73.7508 Q1287.91 73.7508 1283.94 73.1026 Q1280.01 72.4545 1275.8 71.1582 L1275.8 62.9348 Q1279.44 64.9198 1283.33 65.892 Q1287.22 66.8642 1291.56 66.8642 Q1298.56 66.8642 1302.66 63.1779 Q1306.75 59.4916 1306.75 53.1722 Q1306.75 46.8528 1302.66 43.1664 Q1298.56 39.4801 1291.56 39.4801 Q1288.27 39.4801 1284.99 40.2093 Q1281.75 40.9384 1278.35 42.4778 L1278.35 12.096 Z\" fill=\"#000000\" fill-rule=\"nonzero\" fill-opacity=\"1\" /><path clip-path=\"url(#clip910)\" d=\"M1352.6 46.5287 L1374.44 46.5287 L1374.44 53.1722 L1352.6 53.1722 L1352.6 46.5287 Z\" fill=\"#000000\" fill-rule=\"nonzero\" fill-opacity=\"1\" /><path clip-path=\"url(#clip910)\" d=\"M1438.52 39.9662 Q1444.4 41.222 1447.68 45.1919 Q1451 49.1618 1451 54.9951 Q1451 63.9476 1444.84 68.8492 Q1438.68 73.7508 1427.34 73.7508 Q1423.53 73.7508 1419.48 72.9811 Q1415.47 72.2519 1411.18 70.7531 L1411.18 62.8538 Q1414.58 64.8388 1418.63 65.8515 Q1422.68 66.8642 1427.1 66.8642 Q1434.8 66.8642 1438.81 63.826 Q1442.86 60.7879 1442.86 54.9951 Q1442.86 49.6479 1439.09 46.6502 Q1435.36 43.612 1428.68 43.612 L1421.63 43.612 L1421.63 36.8875 L1429 36.8875 Q1435.04 36.8875 1438.24 34.4975 Q1441.44 32.067 1441.44 27.5299 Q1441.44 22.8714 1438.12 20.4004 Q1434.84 17.8888 1428.68 17.8888 Q1425.32 17.8888 1421.47 18.618 Q1417.62 19.3471 1413 20.8865 L1413 13.5948 Q1417.66 12.2985 1421.71 11.6504 Q1425.8 11.0023 1429.41 11.0023 Q1438.72 11.0023 1444.15 15.2557 Q1449.58 19.4686 1449.58 26.6793 Q1449.58 31.7024 1446.71 35.1862 Q1443.83 38.6294 1438.52 39.9662 Z\" fill=\"#000000\" fill-rule=\"nonzero\" fill-opacity=\"1\" /><path clip-path=\"url(#clip910)\" d=\"M1466.6 12.096 L1498.72 12.096 L1498.72 18.9825 L1474.09 18.9825 L1474.09 33.8088 Q1475.87 33.2012 1477.65 32.9176 Q1479.44 32.5936 1481.22 32.5936 Q1491.35 32.5936 1497.26 38.1433 Q1503.17 43.6931 1503.17 53.1722 Q1503.17 62.9348 1497.1 68.3631 Q1491.02 73.7508 1479.96 73.7508 Q1476.16 73.7508 1472.19 73.1026 Q1468.26 72.4545 1464.04 71.1582 L1464.04 62.9348 Q1467.69 64.9198 1471.58 65.892 Q1475.47 66.8642 1479.8 66.8642 Q1486.81 66.8642 1490.9 63.1779 Q1494.99 59.4916 1494.99 53.1722 Q1494.99 46.8528 1490.9 43.1664 Q1486.81 39.4801 1479.8 39.4801 Q1476.52 39.4801 1473.24 40.2093 Q1470 40.9384 1466.6 42.4778 L1466.6 12.096 Z\" fill=\"#000000\" fill-rule=\"nonzero\" fill-opacity=\"1\" /><path clip-path=\"url(#clip910)\" d=\"M1555.96 27.2059 L1539.55 49.2833 L1556.81 72.576 L1548.02 72.576 L1534.81 54.752 L1521.61 72.576 L1512.82 72.576 L1530.44 48.8377 L1514.31 27.2059 L1523.11 27.2059 L1535.14 43.369 L1547.17 27.2059 L1555.96 27.2059 Z\" fill=\"#000000\" fill-rule=\"nonzero\" fill-opacity=\"1\" /><path clip-path=\"url(#clip910)\" d=\"M1598.25 12.096 L1620.25 34.6595 L1612.1 34.6595 L1594.28 18.6585 L1576.46 34.6595 L1568.31 34.6595 L1590.31 12.096 L1598.25 12.096 Z\" fill=\"#000000\" fill-rule=\"nonzero\" fill-opacity=\"1\" /><path clip-path=\"url(#clip910)\" d=\"M1660.39 19.2256 L1639.73 51.5113 L1660.39 51.5113 L1660.39 19.2256 M1658.24 12.096 L1668.53 12.096 L1668.53 51.5113 L1677.16 51.5113 L1677.16 58.3168 L1668.53 58.3168 L1668.53 72.576 L1660.39 72.576 L1660.39 58.3168 L1633.09 58.3168 L1633.09 50.4176 L1658.24 12.096 Z\" fill=\"#000000\" fill-rule=\"nonzero\" fill-opacity=\"1\" /><path clip-path=\"url(#clip910)\" d=\"M1746.35 20.5624 L1746.35 43.1259 L1768.91 43.1259 L1768.91 50.0125 L1746.35 50.0125 L1746.35 72.576 L1739.55 72.576 L1739.55 50.0125 L1716.98 50.0125 L1716.98 43.1259 L1739.55 43.1259 L1739.55 20.5624 L1746.35 20.5624 Z\" fill=\"#000000\" fill-rule=\"nonzero\" fill-opacity=\"1\" /><path clip-path=\"url(#clip910)\" d=\"M1837.74 39.9662 Q1843.61 41.222 1846.89 45.1919 Q1850.22 49.1618 1850.22 54.9951 Q1850.22 63.9476 1844.06 68.8492 Q1837.9 73.7508 1826.56 73.7508 Q1822.75 73.7508 1818.7 72.9811 Q1814.69 72.2519 1810.4 70.7531 L1810.4 62.8538 Q1813.8 64.8388 1817.85 65.8515 Q1821.9 66.8642 1826.32 66.8642 Q1834.01 66.8642 1838.02 63.826 Q1842.07 60.7879 1842.07 54.9951 Q1842.07 49.6479 1838.31 46.6502 Q1834.58 43.612 1827.9 43.612 L1820.85 43.612 L1820.85 36.8875 L1828.22 36.8875 Q1834.26 36.8875 1837.46 34.4975 Q1840.66 32.067 1840.66 27.5299 Q1840.66 22.8714 1837.33 20.4004 Q1834.05 17.8888 1827.9 17.8888 Q1824.53 17.8888 1820.68 18.618 Q1816.84 19.3471 1812.22 20.8865 L1812.22 13.5948 Q1816.88 12.2985 1820.93 11.6504 Q1825.02 11.0023 1828.62 11.0023 Q1837.94 11.0023 1843.37 15.2557 Q1848.8 19.4686 1848.8 26.6793 Q1848.8 31.7024 1845.92 35.1862 Q1843.05 38.6294 1837.74 39.9662 Z\" fill=\"#000000\" fill-rule=\"nonzero\" fill-opacity=\"1\" /><path clip-path=\"url(#clip910)\" d=\"M1865.81 12.096 L1897.94 12.096 L1897.94 18.9825 L1873.31 18.9825 L1873.31 33.8088 Q1875.09 33.2012 1876.87 32.9176 Q1878.65 32.5936 1880.44 32.5936 Q1890.56 32.5936 1896.48 38.1433 Q1902.39 43.6931 1902.39 53.1722 Q1902.39 62.9348 1896.32 68.3631 Q1890.24 73.7508 1879.18 73.7508 Q1875.37 73.7508 1871.4 73.1026 Q1867.47 72.4545 1863.26 71.1582 L1863.26 62.9348 Q1866.91 64.9198 1870.79 65.892 Q1874.68 66.8642 1879.02 66.8642 Q1886.03 66.8642 1890.12 63.1779 Q1894.21 59.4916 1894.21 53.1722 Q1894.21 46.8528 1890.12 43.1664 Q1886.03 39.4801 1879.02 39.4801 Q1875.74 39.4801 1872.46 40.2093 Q1869.21 40.9384 1865.81 42.4778 L1865.81 12.096 Z\" fill=\"#000000\" fill-rule=\"nonzero\" fill-opacity=\"1\" /><path clip-path=\"url(#clip910)\" d=\"M1955.17 27.2059 L1938.77 49.2833 L1956.03 72.576 L1947.23 72.576 L1934.03 54.752 L1920.82 72.576 L1912.03 72.576 L1929.65 48.8377 L1913.53 27.2059 L1922.32 27.2059 L1934.35 43.369 L1946.38 27.2059 L1955.17 27.2059 Z\" fill=\"#000000\" fill-rule=\"nonzero\" fill-opacity=\"1\" /><path clip-path=\"url(#clip910)\" d=\"M1997.47 12.096 L2019.46 34.6595 L2011.32 34.6595 L1993.5 18.6585 L1975.67 34.6595 L1967.53 34.6595 L1989.53 12.096 L1997.47 12.096 Z\" fill=\"#000000\" fill-rule=\"nonzero\" fill-opacity=\"1\" /><path clip-path=\"url(#clip910)\" d=\"M2061.92 39.9662 Q2067.79 41.222 2071.07 45.1919 Q2074.39 49.1618 2074.39 54.9951 Q2074.39 63.9476 2068.24 68.8492 Q2062.08 73.7508 2050.74 73.7508 Q2046.93 73.7508 2042.88 72.9811 Q2038.87 72.2519 2034.57 70.7531 L2034.57 62.8538 Q2037.98 64.8388 2042.03 65.8515 Q2046.08 66.8642 2050.49 66.8642 Q2058.19 66.8642 2062.2 63.826 Q2066.25 60.7879 2066.25 54.9951 Q2066.25 49.6479 2062.48 46.6502 Q2058.76 43.612 2052.07 43.612 L2045.02 43.612 L2045.02 36.8875 L2052.4 36.8875 Q2058.43 36.8875 2061.63 34.4975 Q2064.83 32.067 2064.83 27.5299 Q2064.83 22.8714 2061.51 20.4004 Q2058.23 17.8888 2052.07 17.8888 Q2048.71 17.8888 2044.86 18.618 Q2041.01 19.3471 2036.4 20.8865 L2036.4 13.5948 Q2041.05 12.2985 2045.1 11.6504 Q2049.2 11.0023 2052.8 11.0023 Q2062.12 11.0023 2067.55 15.2557 Q2072.97 19.4686 2072.97 26.6793 Q2072.97 31.7024 2070.1 35.1862 Q2067.22 38.6294 2061.92 39.9662 Z\" fill=\"#000000\" fill-rule=\"nonzero\" fill-opacity=\"1\" /><path clip-path=\"url(#clip910)\" d=\"M2111.46 46.5287 L2133.29 46.5287 L2133.29 53.1722 L2111.46 53.1722 L2111.46 46.5287 Z\" fill=\"#000000\" fill-rule=\"nonzero\" fill-opacity=\"1\" /><path clip-path=\"url(#clip910)\" d=\"M2179.64 65.6895 L2208.19 65.6895 L2208.19 72.576 L2169.79 72.576 L2169.79 65.6895 Q2174.45 60.8689 2182.47 52.7671 Q2190.53 44.6248 2192.6 42.2752 Q2196.53 37.8598 2198.07 34.8216 Q2199.65 31.7429 2199.65 28.7857 Q2199.65 23.9651 2196.24 20.927 Q2192.88 17.8888 2187.45 17.8888 Q2183.61 17.8888 2179.31 19.2256 Q2175.06 20.5624 2170.2 23.2765 L2170.2 15.0127 Q2175.14 13.0277 2179.43 12.015 Q2183.73 11.0023 2187.29 11.0023 Q2196.69 11.0023 2202.28 15.7013 Q2207.87 20.4004 2207.87 28.2591 Q2207.87 31.9859 2206.45 35.3482 Q2205.07 38.6699 2201.39 43.2069 Q2200.38 44.3817 2194.95 50.0125 Q2189.52 55.6027 2179.64 65.6895 Z\" fill=\"#000000\" fill-rule=\"nonzero\" fill-opacity=\"1\" /><path clip-path=\"url(#clip910)\" d=\"M2226.79 65.6895 L2240.16 65.6895 L2240.16 19.5497 L2225.61 22.4663 L2225.61 15.0127 L2240.07 12.096 L2248.26 12.096 L2248.26 65.6895 L2261.63 65.6895 L2261.63 72.576 L2226.79 72.576 L2226.79 65.6895 Z\" fill=\"#000000\" fill-rule=\"nonzero\" fill-opacity=\"1\" /><path clip-path=\"url(#clip910)\" d=\"M2314.81 27.2059 L2298.41 49.2833 L2315.66 72.576 L2306.87 72.576 L2293.67 54.752 L2280.46 72.576 L2271.67 72.576 L2289.29 48.8377 L2273.17 27.2059 L2281.96 27.2059 L2293.99 43.369 L2306.02 27.2059 L2314.81 27.2059 Z\" fill=\"#000000\" fill-rule=\"nonzero\" fill-opacity=\"1\" /><path clip-path=\"url(#clip910)\" d=\"M2357.11 12.096 L2379.1 34.6595 L2370.96 34.6595 L2353.14 18.6585 L2335.31 34.6595 L2327.17 34.6595 L2349.17 12.096 L2357.11 12.096 Z\" fill=\"#000000\" fill-rule=\"nonzero\" fill-opacity=\"1\" /><path clip-path=\"url(#clip910)\" d=\"M2403.81 65.6895 L2432.37 65.6895 L2432.37 72.576 L2393.97 72.576 L2393.97 65.6895 Q2398.63 60.8689 2406.65 52.7671 Q2414.71 44.6248 2416.78 42.2752 Q2420.7 37.8598 2422.24 34.8216 Q2423.82 31.7429 2423.82 28.7857 Q2423.82 23.9651 2420.42 20.927 Q2417.06 17.8888 2411.63 17.8888 Q2407.78 17.8888 2403.49 19.2256 Q2399.23 20.5624 2394.37 23.2765 L2394.37 15.0127 Q2399.32 13.0277 2403.61 12.015 Q2407.9 11.0023 2411.47 11.0023 Q2420.87 11.0023 2426.46 15.7013 Q2432.05 20.4004 2432.05 28.2591 Q2432.05 31.9859 2430.63 35.3482 Q2429.25 38.6699 2425.57 43.2069 Q2424.55 44.3817 2419.12 50.0125 Q2413.7 55.6027 2403.81 65.6895 Z\" fill=\"#000000\" fill-rule=\"nonzero\" fill-opacity=\"1\" /><path clip-path=\"url(#clip910)\" d=\"M2505.21 20.5624 L2505.21 43.1259 L2527.77 43.1259 L2527.77 50.0125 L2505.21 50.0125 L2505.21 72.576 L2498.4 72.576 L2498.4 50.0125 L2475.84 50.0125 L2475.84 43.1259 L2498.4 43.1259 L2498.4 20.5624 L2505.21 20.5624 Z\" fill=\"#000000\" fill-rule=\"nonzero\" fill-opacity=\"1\" /><path clip-path=\"url(#clip910)\" d=\"M2569.74 12.096 L2608.63 12.096 L2608.63 15.5798 L2586.67 72.576 L2578.12 72.576 L2598.78 18.9825 L2569.74 18.9825 L2569.74 12.096 Z\" fill=\"#000000\" fill-rule=\"nonzero\" fill-opacity=\"1\" /><path clip-path=\"url(#clip910)\" d=\"M2661.25 27.2059 L2644.84 49.2833 L2662.1 72.576 L2653.31 72.576 L2640.1 54.752 L2626.9 72.576 L2618.11 72.576 L2635.73 48.8377 L2619.6 27.2059 L2628.39 27.2059 L2640.43 43.369 L2652.46 27.2059 L2661.25 27.2059 Z\" fill=\"#000000\" fill-rule=\"nonzero\" fill-opacity=\"1\" /><path clip-path=\"url(#clip910)\" d=\"M2695.23 46.5287 L2717.07 46.5287 L2717.07 53.1722 L2695.23 53.1722 L2695.23 46.5287 Z\" fill=\"#000000\" fill-rule=\"nonzero\" fill-opacity=\"1\" /><path clip-path=\"url(#clip910)\" d=\"M2757.78 65.6895 L2771.15 65.6895 L2771.15 19.5497 L2756.61 22.4663 L2756.61 15.0127 L2771.07 12.096 L2779.25 12.096 L2779.25 65.6895 L2792.62 65.6895 L2792.62 72.576 L2757.78 72.576 L2757.78 65.6895 Z\" fill=\"#000000\" fill-rule=\"nonzero\" fill-opacity=\"1\" /><polyline clip-path=\"url(#clip912)\" style=\"stroke:#009af9; stroke-linecap:round; stroke-linejoin:round; stroke-width:4; stroke-opacity:1; fill:none\" points=\"486.646,1386.4 562.135,1199.81 637.625,1066.53 713.115,973.24 788.605,946.585 864.095,919.93 939.585,879.947 1015.07,906.602 1090.56,866.619 1166.05,893.274 1241.54,866.619 1317.03,879.947 1392.52,853.292 1468.01,933.257 1543.5,946.585 1618.99,813.309 1694.48,893.274 1769.97,853.292 1845.46,879.947 1920.95,839.964 1996.44,813.309 2071.93,893.274 2147.42,746.671 2222.91,560.084 2298.4,160.256 \"/>\n",
       "<path clip-path=\"url(#clip910)\" d=\"M496.308 270.476 L740.785 270.476 L740.785 166.796 L496.308 166.796  Z\" fill=\"#ffffff\" fill-rule=\"evenodd\" fill-opacity=\"1\"/>\n",
       "<polyline clip-path=\"url(#clip910)\" style=\"stroke:#000000; stroke-linecap:round; stroke-linejoin:round; stroke-width:4; stroke-opacity:1; fill:none\" points=\"496.308,270.476 740.785,270.476 740.785,166.796 496.308,166.796 496.308,270.476 \"/>\n",
       "<polyline clip-path=\"url(#clip910)\" style=\"stroke:#009af9; stroke-linecap:round; stroke-linejoin:round; stroke-width:4; stroke-opacity:1; fill:none\" points=\"517.647,218.636 645.678,218.636 \"/>\n",
       "<path clip-path=\"url(#clip910)\" d=\"M680.859 238.323 Q679.053 242.953 677.34 244.365 Q675.627 245.777 672.757 245.777 L669.354 245.777 L669.354 242.212 L671.854 242.212 Q673.613 242.212 674.585 241.379 Q675.558 240.545 676.738 237.443 L677.502 235.499 L667.016 209.99 L671.53 209.99 L679.632 230.268 L687.734 209.99 L692.247 209.99 L680.859 238.323 Z\" fill=\"#000000\" fill-rule=\"nonzero\" fill-opacity=\"1\" /><path clip-path=\"url(#clip910)\" d=\"M699.539 231.981 L707.178 231.981 L707.178 205.615 L698.868 207.282 L698.868 203.022 L707.132 201.356 L711.807 201.356 L711.807 231.981 L719.446 231.981 L719.446 235.916 L699.539 235.916 L699.539 231.981 Z\" fill=\"#000000\" fill-rule=\"nonzero\" fill-opacity=\"1\" /></svg>\n"
      ],
      "text/html": [
       "<?xml version=\"1.0\" encoding=\"utf-8\"?>\n",
       "<svg xmlns=\"http://www.w3.org/2000/svg\" xmlns:xlink=\"http://www.w3.org/1999/xlink\" width=\"600\" height=\"400\" viewBox=\"0 0 2400 1600\">\n",
       "<defs>\n",
       "  <clipPath id=\"clip960\">\n",
       "    <rect x=\"0\" y=\"0\" width=\"2400\" height=\"1600\"/>\n",
       "  </clipPath>\n",
       "</defs>\n",
       "<path clip-path=\"url(#clip960)\" d=\"M0 1600 L2400 1600 L2400 8.88178e-14 L0 8.88178e-14  Z\" fill=\"#ffffff\" fill-rule=\"evenodd\" fill-opacity=\"1\"/>\n",
       "<defs>\n",
       "  <clipPath id=\"clip961\">\n",
       "    <rect x=\"480\" y=\"0\" width=\"1681\" height=\"1600\"/>\n",
       "  </clipPath>\n",
       "</defs>\n",
       "<path clip-path=\"url(#clip960)\" d=\"M432.293 1423.18 L2352.76 1423.18 L2352.76 123.472 L432.293 123.472  Z\" fill=\"#ffffff\" fill-rule=\"evenodd\" fill-opacity=\"1\"/>\n",
       "<defs>\n",
       "  <clipPath id=\"clip962\">\n",
       "    <rect x=\"432\" y=\"123\" width=\"1921\" height=\"1301\"/>\n",
       "  </clipPath>\n",
       "</defs>\n",
       "<polyline clip-path=\"url(#clip962)\" style=\"stroke:#000000; stroke-linecap:round; stroke-linejoin:round; stroke-width:2; stroke-opacity:0.1; fill:none\" points=\"637.625,1423.18 637.625,123.472 \"/>\n",
       "<polyline clip-path=\"url(#clip962)\" style=\"stroke:#000000; stroke-linecap:round; stroke-linejoin:round; stroke-width:2; stroke-opacity:0.1; fill:none\" points=\"1015.07,1423.18 1015.07,123.472 \"/>\n",
       "<polyline clip-path=\"url(#clip962)\" style=\"stroke:#000000; stroke-linecap:round; stroke-linejoin:round; stroke-width:2; stroke-opacity:0.1; fill:none\" points=\"1392.52,1423.18 1392.52,123.472 \"/>\n",
       "<polyline clip-path=\"url(#clip962)\" style=\"stroke:#000000; stroke-linecap:round; stroke-linejoin:round; stroke-width:2; stroke-opacity:0.1; fill:none\" points=\"1769.97,1423.18 1769.97,123.472 \"/>\n",
       "<polyline clip-path=\"url(#clip962)\" style=\"stroke:#000000; stroke-linecap:round; stroke-linejoin:round; stroke-width:2; stroke-opacity:0.1; fill:none\" points=\"2147.42,1423.18 2147.42,123.472 \"/>\n",
       "<polyline clip-path=\"url(#clip960)\" style=\"stroke:#000000; stroke-linecap:round; stroke-linejoin:round; stroke-width:4; stroke-opacity:1; fill:none\" points=\"432.293,1423.18 2352.76,1423.18 \"/>\n",
       "<polyline clip-path=\"url(#clip960)\" style=\"stroke:#000000; stroke-linecap:round; stroke-linejoin:round; stroke-width:4; stroke-opacity:1; fill:none\" points=\"637.625,1423.18 637.625,1404.28 \"/>\n",
       "<polyline clip-path=\"url(#clip960)\" style=\"stroke:#000000; stroke-linecap:round; stroke-linejoin:round; stroke-width:4; stroke-opacity:1; fill:none\" points=\"1015.07,1423.18 1015.07,1404.28 \"/>\n",
       "<polyline clip-path=\"url(#clip960)\" style=\"stroke:#000000; stroke-linecap:round; stroke-linejoin:round; stroke-width:4; stroke-opacity:1; fill:none\" points=\"1392.52,1423.18 1392.52,1404.28 \"/>\n",
       "<polyline clip-path=\"url(#clip960)\" style=\"stroke:#000000; stroke-linecap:round; stroke-linejoin:round; stroke-width:4; stroke-opacity:1; fill:none\" points=\"1769.97,1423.18 1769.97,1404.28 \"/>\n",
       "<polyline clip-path=\"url(#clip960)\" style=\"stroke:#000000; stroke-linecap:round; stroke-linejoin:round; stroke-width:4; stroke-opacity:1; fill:none\" points=\"2147.42,1423.18 2147.42,1404.28 \"/>\n",
       "<path clip-path=\"url(#clip960)\" d=\"M584.848 1454.1 Q581.237 1454.1 579.408 1457.66 Q577.602 1461.2 577.602 1468.33 Q577.602 1475.44 579.408 1479.01 Q581.237 1482.55 584.848 1482.55 Q588.482 1482.55 590.288 1479.01 Q592.116 1475.44 592.116 1468.33 Q592.116 1461.2 590.288 1457.66 Q588.482 1454.1 584.848 1454.1 M584.848 1450.39 Q590.658 1450.39 593.714 1455 Q596.792 1459.58 596.792 1468.33 Q596.792 1477.06 593.714 1481.67 Q590.658 1486.25 584.848 1486.25 Q579.038 1486.25 575.959 1481.67 Q572.903 1477.06 572.903 1468.33 Q572.903 1459.58 575.959 1455 Q579.038 1450.39 584.848 1450.39 Z\" fill=\"#000000\" fill-rule=\"nonzero\" fill-opacity=\"1\" /><path clip-path=\"url(#clip960)\" d=\"M605.01 1479.7 L609.894 1479.7 L609.894 1485.58 L605.01 1485.58 L605.01 1479.7 Z\" fill=\"#000000\" fill-rule=\"nonzero\" fill-opacity=\"1\" /><path clip-path=\"url(#clip960)\" d=\"M620.218 1484.86 L620.218 1480.6 Q621.977 1481.44 623.783 1481.88 Q625.588 1482.32 627.324 1482.32 Q631.954 1482.32 634.385 1479.21 Q636.838 1476.09 637.186 1469.75 Q635.843 1471.74 633.783 1472.8 Q631.723 1473.87 629.223 1473.87 Q624.037 1473.87 621.005 1470.74 Q617.996 1467.59 617.996 1462.15 Q617.996 1456.83 621.144 1453.61 Q624.292 1450.39 629.524 1450.39 Q635.519 1450.39 638.667 1455 Q641.838 1459.58 641.838 1468.33 Q641.838 1476.51 637.949 1481.39 Q634.084 1486.25 627.533 1486.25 Q625.774 1486.25 623.968 1485.9 Q622.162 1485.56 620.218 1484.86 M629.524 1470.21 Q632.672 1470.21 634.5 1468.06 Q636.352 1465.9 636.352 1462.15 Q636.352 1458.43 634.5 1456.27 Q632.672 1454.1 629.524 1454.1 Q626.375 1454.1 624.524 1456.27 Q622.695 1458.43 622.695 1462.15 Q622.695 1465.9 624.524 1468.06 Q626.375 1470.21 629.524 1470.21 Z\" fill=\"#000000\" fill-rule=\"nonzero\" fill-opacity=\"1\" /><path clip-path=\"url(#clip960)\" d=\"M650.38 1484.86 L650.38 1480.6 Q652.139 1481.44 653.945 1481.88 Q655.75 1482.32 657.486 1482.32 Q662.116 1482.32 664.546 1479.21 Q667 1476.09 667.347 1469.75 Q666.005 1471.74 663.945 1472.8 Q661.884 1473.87 659.384 1473.87 Q654.199 1473.87 651.167 1470.74 Q648.158 1467.59 648.158 1462.15 Q648.158 1456.83 651.306 1453.61 Q654.454 1450.39 659.685 1450.39 Q665.681 1450.39 668.829 1455 Q672 1459.58 672 1468.33 Q672 1476.51 668.111 1481.39 Q664.246 1486.25 657.695 1486.25 Q655.935 1486.25 654.13 1485.9 Q652.324 1485.56 650.38 1484.86 M659.685 1470.21 Q662.834 1470.21 664.662 1468.06 Q666.514 1465.9 666.514 1462.15 Q666.514 1458.43 664.662 1456.27 Q662.834 1454.1 659.685 1454.1 Q656.537 1454.1 654.685 1456.27 Q652.857 1458.43 652.857 1462.15 Q652.857 1465.9 654.685 1468.06 Q656.537 1470.21 659.685 1470.21 Z\" fill=\"#000000\" fill-rule=\"nonzero\" fill-opacity=\"1\" /><path clip-path=\"url(#clip960)\" d=\"M690.403 1454.1 Q686.792 1454.1 684.963 1457.66 Q683.157 1461.2 683.157 1468.33 Q683.157 1475.44 684.963 1479.01 Q686.792 1482.55 690.403 1482.55 Q694.037 1482.55 695.843 1479.01 Q697.671 1475.44 697.671 1468.33 Q697.671 1461.2 695.843 1457.66 Q694.037 1454.1 690.403 1454.1 M690.403 1450.39 Q696.213 1450.39 699.269 1455 Q702.347 1459.58 702.347 1468.33 Q702.347 1477.06 699.269 1481.67 Q696.213 1486.25 690.403 1486.25 Q684.593 1486.25 681.514 1481.67 Q678.458 1477.06 678.458 1468.33 Q678.458 1459.58 681.514 1455 Q684.593 1450.39 690.403 1450.39 Z\" fill=\"#000000\" fill-rule=\"nonzero\" fill-opacity=\"1\" /><path clip-path=\"url(#clip960)\" d=\"M962.795 1454.1 Q959.184 1454.1 957.355 1457.66 Q955.55 1461.2 955.55 1468.33 Q955.55 1475.44 957.355 1479.01 Q959.184 1482.55 962.795 1482.55 Q966.429 1482.55 968.235 1479.01 Q970.064 1475.44 970.064 1468.33 Q970.064 1461.2 968.235 1457.66 Q966.429 1454.1 962.795 1454.1 M962.795 1450.39 Q968.605 1450.39 971.661 1455 Q974.739 1459.58 974.739 1468.33 Q974.739 1477.06 971.661 1481.67 Q968.605 1486.25 962.795 1486.25 Q956.985 1486.25 953.906 1481.67 Q950.851 1477.06 950.851 1468.33 Q950.851 1459.58 953.906 1455 Q956.985 1450.39 962.795 1450.39 Z\" fill=\"#000000\" fill-rule=\"nonzero\" fill-opacity=\"1\" /><path clip-path=\"url(#clip960)\" d=\"M982.957 1479.7 L987.841 1479.7 L987.841 1485.58 L982.957 1485.58 L982.957 1479.7 Z\" fill=\"#000000\" fill-rule=\"nonzero\" fill-opacity=\"1\" /><path clip-path=\"url(#clip960)\" d=\"M998.165 1484.86 L998.165 1480.6 Q999.924 1481.44 1001.73 1481.88 Q1003.54 1482.32 1005.27 1482.32 Q1009.9 1482.32 1012.33 1479.21 Q1014.79 1476.09 1015.13 1469.75 Q1013.79 1471.74 1011.73 1472.8 Q1009.67 1473.87 1007.17 1473.87 Q1001.98 1473.87 998.952 1470.74 Q995.943 1467.59 995.943 1462.15 Q995.943 1456.83 999.091 1453.61 Q1002.24 1450.39 1007.47 1450.39 Q1013.47 1450.39 1016.61 1455 Q1019.79 1459.58 1019.79 1468.33 Q1019.79 1476.51 1015.9 1481.39 Q1012.03 1486.25 1005.48 1486.25 Q1003.72 1486.25 1001.92 1485.9 Q1000.11 1485.56 998.165 1484.86 M1007.47 1470.21 Q1010.62 1470.21 1012.45 1468.06 Q1014.3 1465.9 1014.3 1462.15 Q1014.3 1458.43 1012.45 1456.27 Q1010.62 1454.1 1007.47 1454.1 Q1004.32 1454.1 1002.47 1456.27 Q1000.64 1458.43 1000.64 1462.15 Q1000.64 1465.9 1002.47 1468.06 Q1004.32 1470.21 1007.47 1470.21 Z\" fill=\"#000000\" fill-rule=\"nonzero\" fill-opacity=\"1\" /><path clip-path=\"url(#clip960)\" d=\"M1028.33 1484.86 L1028.33 1480.6 Q1030.09 1481.44 1031.89 1481.88 Q1033.7 1482.32 1035.43 1482.32 Q1040.06 1482.32 1042.49 1479.21 Q1044.95 1476.09 1045.29 1469.75 Q1043.95 1471.74 1041.89 1472.8 Q1039.83 1473.87 1037.33 1473.87 Q1032.15 1473.87 1029.11 1470.74 Q1026.1 1467.59 1026.1 1462.15 Q1026.1 1456.83 1029.25 1453.61 Q1032.4 1450.39 1037.63 1450.39 Q1043.63 1450.39 1046.78 1455 Q1049.95 1459.58 1049.95 1468.33 Q1049.95 1476.51 1046.06 1481.39 Q1042.19 1486.25 1035.64 1486.25 Q1033.88 1486.25 1032.08 1485.9 Q1030.27 1485.56 1028.33 1484.86 M1037.63 1470.21 Q1040.78 1470.21 1042.61 1468.06 Q1044.46 1465.9 1044.46 1462.15 Q1044.46 1458.43 1042.61 1456.27 Q1040.78 1454.1 1037.63 1454.1 Q1034.48 1454.1 1032.63 1456.27 Q1030.8 1458.43 1030.8 1462.15 Q1030.8 1465.9 1032.63 1468.06 Q1034.48 1470.21 1037.63 1470.21 Z\" fill=\"#000000\" fill-rule=\"nonzero\" fill-opacity=\"1\" /><path clip-path=\"url(#clip960)\" d=\"M1058.4 1451.02 L1076.75 1451.02 L1076.75 1454.96 L1062.68 1454.96 L1062.68 1463.43 Q1063.7 1463.08 1064.72 1462.92 Q1065.73 1462.73 1066.75 1462.73 Q1072.54 1462.73 1075.92 1465.9 Q1079.3 1469.08 1079.3 1474.49 Q1079.3 1480.07 1075.83 1483.17 Q1072.35 1486.25 1066.04 1486.25 Q1063.86 1486.25 1061.59 1485.88 Q1059.35 1485.51 1056.94 1484.77 L1056.94 1480.07 Q1059.02 1481.2 1061.24 1481.76 Q1063.47 1482.32 1065.94 1482.32 Q1069.95 1482.32 1072.29 1480.21 Q1074.62 1478.1 1074.62 1474.49 Q1074.62 1470.88 1072.29 1468.77 Q1069.95 1466.67 1065.94 1466.67 Q1064.07 1466.67 1062.19 1467.08 Q1060.34 1467.5 1058.4 1468.38 L1058.4 1451.02 Z\" fill=\"#000000\" fill-rule=\"nonzero\" fill-opacity=\"1\" /><path clip-path=\"url(#clip960)\" d=\"M1329.52 1481.64 L1337.15 1481.64 L1337.15 1455.28 L1328.84 1456.95 L1328.84 1452.69 L1337.11 1451.02 L1341.78 1451.02 L1341.78 1481.64 L1349.42 1481.64 L1349.42 1485.58 L1329.52 1485.58 L1329.52 1481.64 Z\" fill=\"#000000\" fill-rule=\"nonzero\" fill-opacity=\"1\" /><path clip-path=\"url(#clip960)\" d=\"M1358.87 1479.7 L1363.75 1479.7 L1363.75 1485.58 L1358.87 1485.58 L1358.87 1479.7 Z\" fill=\"#000000\" fill-rule=\"nonzero\" fill-opacity=\"1\" /><path clip-path=\"url(#clip960)\" d=\"M1383.94 1454.1 Q1380.33 1454.1 1378.5 1457.66 Q1376.69 1461.2 1376.69 1468.33 Q1376.69 1475.44 1378.5 1479.01 Q1380.33 1482.55 1383.94 1482.55 Q1387.57 1482.55 1389.38 1479.01 Q1391.2 1475.44 1391.2 1468.33 Q1391.2 1461.2 1389.38 1457.66 Q1387.57 1454.1 1383.94 1454.1 M1383.94 1450.39 Q1389.75 1450.39 1392.8 1455 Q1395.88 1459.58 1395.88 1468.33 Q1395.88 1477.06 1392.8 1481.67 Q1389.75 1486.25 1383.94 1486.25 Q1378.13 1486.25 1375.05 1481.67 Q1371.99 1477.06 1371.99 1468.33 Q1371.99 1459.58 1375.05 1455 Q1378.13 1450.39 1383.94 1450.39 Z\" fill=\"#000000\" fill-rule=\"nonzero\" fill-opacity=\"1\" /><path clip-path=\"url(#clip960)\" d=\"M1414.1 1454.1 Q1410.49 1454.1 1408.66 1457.66 Q1406.85 1461.2 1406.85 1468.33 Q1406.85 1475.44 1408.66 1479.01 Q1410.49 1482.55 1414.1 1482.55 Q1417.73 1482.55 1419.54 1479.01 Q1421.37 1475.44 1421.37 1468.33 Q1421.37 1461.2 1419.54 1457.66 Q1417.73 1454.1 1414.1 1454.1 M1414.1 1450.39 Q1419.91 1450.39 1422.96 1455 Q1426.04 1459.58 1426.04 1468.33 Q1426.04 1477.06 1422.96 1481.67 Q1419.91 1486.25 1414.1 1486.25 Q1408.29 1486.25 1405.21 1481.67 Q1402.15 1477.06 1402.15 1468.33 Q1402.15 1459.58 1405.21 1455 Q1408.29 1450.39 1414.1 1450.39 Z\" fill=\"#000000\" fill-rule=\"nonzero\" fill-opacity=\"1\" /><path clip-path=\"url(#clip960)\" d=\"M1444.26 1454.1 Q1440.65 1454.1 1438.82 1457.66 Q1437.01 1461.2 1437.01 1468.33 Q1437.01 1475.44 1438.82 1479.01 Q1440.65 1482.55 1444.26 1482.55 Q1447.89 1482.55 1449.7 1479.01 Q1451.53 1475.44 1451.53 1468.33 Q1451.53 1461.2 1449.7 1457.66 Q1447.89 1454.1 1444.26 1454.1 M1444.26 1450.39 Q1450.07 1450.39 1453.13 1455 Q1456.2 1459.58 1456.2 1468.33 Q1456.2 1477.06 1453.13 1481.67 Q1450.07 1486.25 1444.26 1486.25 Q1438.45 1486.25 1435.37 1481.67 Q1432.32 1477.06 1432.32 1468.33 Q1432.32 1459.58 1435.37 1455 Q1438.45 1450.39 1444.26 1450.39 Z\" fill=\"#000000\" fill-rule=\"nonzero\" fill-opacity=\"1\" /><path clip-path=\"url(#clip960)\" d=\"M1707.46 1481.64 L1715.1 1481.64 L1715.1 1455.28 L1706.79 1456.95 L1706.79 1452.69 L1715.06 1451.02 L1719.73 1451.02 L1719.73 1481.64 L1727.37 1481.64 L1727.37 1485.58 L1707.46 1485.58 L1707.46 1481.64 Z\" fill=\"#000000\" fill-rule=\"nonzero\" fill-opacity=\"1\" /><path clip-path=\"url(#clip960)\" d=\"M1736.81 1479.7 L1741.7 1479.7 L1741.7 1485.58 L1736.81 1485.58 L1736.81 1479.7 Z\" fill=\"#000000\" fill-rule=\"nonzero\" fill-opacity=\"1\" /><path clip-path=\"url(#clip960)\" d=\"M1761.88 1454.1 Q1758.27 1454.1 1756.44 1457.66 Q1754.64 1461.2 1754.64 1468.33 Q1754.64 1475.44 1756.44 1479.01 Q1758.27 1482.55 1761.88 1482.55 Q1765.52 1482.55 1767.32 1479.01 Q1769.15 1475.44 1769.15 1468.33 Q1769.15 1461.2 1767.32 1457.66 Q1765.52 1454.1 1761.88 1454.1 M1761.88 1450.39 Q1767.69 1450.39 1770.75 1455 Q1773.83 1459.58 1773.83 1468.33 Q1773.83 1477.06 1770.75 1481.67 Q1767.69 1486.25 1761.88 1486.25 Q1756.07 1486.25 1752.99 1481.67 Q1749.94 1477.06 1749.94 1468.33 Q1749.94 1459.58 1752.99 1455 Q1756.07 1450.39 1761.88 1450.39 Z\" fill=\"#000000\" fill-rule=\"nonzero\" fill-opacity=\"1\" /><path clip-path=\"url(#clip960)\" d=\"M1792.05 1454.1 Q1788.43 1454.1 1786.61 1457.66 Q1784.8 1461.2 1784.8 1468.33 Q1784.8 1475.44 1786.61 1479.01 Q1788.43 1482.55 1792.05 1482.55 Q1795.68 1482.55 1797.49 1479.01 Q1799.31 1475.44 1799.31 1468.33 Q1799.31 1461.2 1797.49 1457.66 Q1795.68 1454.1 1792.05 1454.1 M1792.05 1450.39 Q1797.86 1450.39 1800.91 1455 Q1803.99 1459.58 1803.99 1468.33 Q1803.99 1477.06 1800.91 1481.67 Q1797.86 1486.25 1792.05 1486.25 Q1786.24 1486.25 1783.16 1481.67 Q1780.1 1477.06 1780.1 1468.33 Q1780.1 1459.58 1783.16 1455 Q1786.24 1450.39 1792.05 1450.39 Z\" fill=\"#000000\" fill-rule=\"nonzero\" fill-opacity=\"1\" /><path clip-path=\"url(#clip960)\" d=\"M1812.25 1451.02 L1830.61 1451.02 L1830.61 1454.96 L1816.54 1454.96 L1816.54 1463.43 Q1817.55 1463.08 1818.57 1462.92 Q1819.59 1462.73 1820.61 1462.73 Q1826.4 1462.73 1829.78 1465.9 Q1833.16 1469.08 1833.16 1474.49 Q1833.16 1480.07 1829.68 1483.17 Q1826.21 1486.25 1819.89 1486.25 Q1817.72 1486.25 1815.45 1485.88 Q1813.2 1485.51 1810.8 1484.77 L1810.8 1480.07 Q1812.88 1481.2 1815.1 1481.76 Q1817.32 1482.32 1819.8 1482.32 Q1823.8 1482.32 1826.14 1480.21 Q1828.48 1478.1 1828.48 1474.49 Q1828.48 1470.88 1826.14 1468.77 Q1823.8 1466.67 1819.8 1466.67 Q1817.92 1466.67 1816.05 1467.08 Q1814.2 1467.5 1812.25 1468.38 L1812.25 1451.02 Z\" fill=\"#000000\" fill-rule=\"nonzero\" fill-opacity=\"1\" /><path clip-path=\"url(#clip960)\" d=\"M2084.41 1481.64 L2092.05 1481.64 L2092.05 1455.28 L2083.74 1456.95 L2083.74 1452.69 L2092.01 1451.02 L2096.68 1451.02 L2096.68 1481.64 L2104.32 1481.64 L2104.32 1485.58 L2084.41 1485.58 L2084.41 1481.64 Z\" fill=\"#000000\" fill-rule=\"nonzero\" fill-opacity=\"1\" /><path clip-path=\"url(#clip960)\" d=\"M2113.77 1479.7 L2118.65 1479.7 L2118.65 1485.58 L2113.77 1485.58 L2113.77 1479.7 Z\" fill=\"#000000\" fill-rule=\"nonzero\" fill-opacity=\"1\" /><path clip-path=\"url(#clip960)\" d=\"M2138.84 1454.1 Q2135.22 1454.1 2133.4 1457.66 Q2131.59 1461.2 2131.59 1468.33 Q2131.59 1475.44 2133.4 1479.01 Q2135.22 1482.55 2138.84 1482.55 Q2142.47 1482.55 2144.28 1479.01 Q2146.1 1475.44 2146.1 1468.33 Q2146.1 1461.2 2144.28 1457.66 Q2142.47 1454.1 2138.84 1454.1 M2138.84 1450.39 Q2144.65 1450.39 2147.7 1455 Q2150.78 1459.58 2150.78 1468.33 Q2150.78 1477.06 2147.7 1481.67 Q2144.65 1486.25 2138.84 1486.25 Q2133.03 1486.25 2129.95 1481.67 Q2126.89 1477.06 2126.89 1468.33 Q2126.89 1459.58 2129.95 1455 Q2133.03 1450.39 2138.84 1450.39 Z\" fill=\"#000000\" fill-rule=\"nonzero\" fill-opacity=\"1\" /><path clip-path=\"url(#clip960)\" d=\"M2159.81 1481.64 L2167.45 1481.64 L2167.45 1455.28 L2159.14 1456.95 L2159.14 1452.69 L2167.4 1451.02 L2172.08 1451.02 L2172.08 1481.64 L2179.71 1481.64 L2179.71 1485.58 L2159.81 1485.58 L2159.81 1481.64 Z\" fill=\"#000000\" fill-rule=\"nonzero\" fill-opacity=\"1\" /><path clip-path=\"url(#clip960)\" d=\"M2199.16 1454.1 Q2195.55 1454.1 2193.72 1457.66 Q2191.91 1461.2 2191.91 1468.33 Q2191.91 1475.44 2193.72 1479.01 Q2195.55 1482.55 2199.16 1482.55 Q2202.79 1482.55 2204.6 1479.01 Q2206.43 1475.44 2206.43 1468.33 Q2206.43 1461.2 2204.6 1457.66 Q2202.79 1454.1 2199.16 1454.1 M2199.16 1450.39 Q2204.97 1450.39 2208.02 1455 Q2211.1 1459.58 2211.1 1468.33 Q2211.1 1477.06 2208.02 1481.67 Q2204.97 1486.25 2199.16 1486.25 Q2193.35 1486.25 2190.27 1481.67 Q2187.21 1477.06 2187.21 1468.33 Q2187.21 1459.58 2190.27 1455 Q2193.35 1450.39 2199.16 1450.39 Z\" fill=\"#000000\" fill-rule=\"nonzero\" fill-opacity=\"1\" /><path clip-path=\"url(#clip960)\" d=\"M1409.14 1532.4 L1396.25 1549.74 L1409.81 1568.04 L1402.9 1568.04 L1392.52 1554.04 L1382.15 1568.04 L1375.24 1568.04 L1389.09 1549.39 L1376.42 1532.4 L1383.33 1532.4 L1392.78 1545.1 L1402.23 1532.4 L1409.14 1532.4 Z\" fill=\"#000000\" fill-rule=\"nonzero\" fill-opacity=\"1\" /><polyline clip-path=\"url(#clip962)\" style=\"stroke:#000000; stroke-linecap:round; stroke-linejoin:round; stroke-width:2; stroke-opacity:0.1; fill:none\" points=\"432.293,1153.4 2352.76,1153.4 \"/>\n",
       "<polyline clip-path=\"url(#clip962)\" style=\"stroke:#000000; stroke-linecap:round; stroke-linejoin:round; stroke-width:2; stroke-opacity:0.1; fill:none\" points=\"432.293,853.292 2352.76,853.292 \"/>\n",
       "<polyline clip-path=\"url(#clip962)\" style=\"stroke:#000000; stroke-linecap:round; stroke-linejoin:round; stroke-width:2; stroke-opacity:0.1; fill:none\" points=\"432.293,553.181 2352.76,553.181 \"/>\n",
       "<polyline clip-path=\"url(#clip962)\" style=\"stroke:#000000; stroke-linecap:round; stroke-linejoin:round; stroke-width:2; stroke-opacity:0.1; fill:none\" points=\"432.293,253.07 2352.76,253.07 \"/>\n",
       "<polyline clip-path=\"url(#clip960)\" style=\"stroke:#000000; stroke-linecap:round; stroke-linejoin:round; stroke-width:4; stroke-opacity:1; fill:none\" points=\"432.293,1423.18 432.293,123.472 \"/>\n",
       "<polyline clip-path=\"url(#clip960)\" style=\"stroke:#000000; stroke-linecap:round; stroke-linejoin:round; stroke-width:4; stroke-opacity:1; fill:none\" points=\"432.293,1153.4 451.19,1153.4 \"/>\n",
       "<polyline clip-path=\"url(#clip960)\" style=\"stroke:#000000; stroke-linecap:round; stroke-linejoin:round; stroke-width:4; stroke-opacity:1; fill:none\" points=\"432.293,853.292 451.19,853.292 \"/>\n",
       "<polyline clip-path=\"url(#clip960)\" style=\"stroke:#000000; stroke-linecap:round; stroke-linejoin:round; stroke-width:4; stroke-opacity:1; fill:none\" points=\"432.293,553.181 451.19,553.181 \"/>\n",
       "<polyline clip-path=\"url(#clip960)\" style=\"stroke:#000000; stroke-linecap:round; stroke-linejoin:round; stroke-width:4; stroke-opacity:1; fill:none\" points=\"432.293,253.07 451.19,253.07 \"/>\n",
       "<path clip-path=\"url(#clip960)\" d=\"M114.26 1160.3 L143.936 1160.3 L143.936 1164.24 L114.26 1164.24 L114.26 1160.3 Z\" fill=\"#000000\" fill-rule=\"nonzero\" fill-opacity=\"1\" /><path clip-path=\"url(#clip960)\" d=\"M158.056 1173.19 L174.376 1173.19 L174.376 1177.13 L152.431 1177.13 L152.431 1173.19 Q155.093 1170.44 159.677 1165.81 Q164.283 1161.16 165.464 1159.82 Q167.709 1157.29 168.589 1155.56 Q169.491 1153.8 169.491 1152.11 Q169.491 1149.35 167.547 1147.62 Q165.626 1145.88 162.524 1145.88 Q160.325 1145.88 157.871 1146.64 Q155.44 1147.41 152.663 1148.96 L152.663 1144.24 Q155.487 1143.1 157.94 1142.52 Q160.394 1141.95 162.431 1141.95 Q167.802 1141.95 170.996 1144.63 Q174.19 1147.32 174.19 1151.81 Q174.19 1153.94 173.38 1155.86 Q172.593 1157.76 170.487 1160.35 Q169.908 1161.02 166.806 1164.24 Q163.704 1167.43 158.056 1173.19 Z\" fill=\"#000000\" fill-rule=\"nonzero\" fill-opacity=\"1\" /><path clip-path=\"url(#clip960)\" d=\"M184.19 1171.25 L189.075 1171.25 L189.075 1177.13 L184.19 1177.13 L184.19 1171.25 Z\" fill=\"#000000\" fill-rule=\"nonzero\" fill-opacity=\"1\" /><path clip-path=\"url(#clip960)\" d=\"M209.26 1145.65 Q205.649 1145.65 203.82 1149.21 Q202.014 1152.76 202.014 1159.88 Q202.014 1166.99 203.82 1170.56 Q205.649 1174.1 209.26 1174.1 Q212.894 1174.1 214.699 1170.56 Q216.528 1166.99 216.528 1159.88 Q216.528 1152.76 214.699 1149.21 Q212.894 1145.65 209.26 1145.65 M209.26 1141.95 Q215.07 1141.95 218.125 1146.55 Q221.204 1151.13 221.204 1159.88 Q221.204 1168.61 218.125 1173.22 Q215.07 1177.8 209.26 1177.8 Q203.449 1177.8 200.371 1173.22 Q197.315 1168.61 197.315 1159.88 Q197.315 1151.13 200.371 1146.55 Q203.449 1141.95 209.26 1141.95 Z\" fill=\"#000000\" fill-rule=\"nonzero\" fill-opacity=\"1\" /><path clip-path=\"url(#clip960)\" d=\"M257.593 1151.67 L247.014 1162.29 L257.593 1172.87 L254.838 1175.67 L244.213 1165.05 L233.588 1175.67 L230.857 1172.87 L241.412 1162.29 L230.857 1151.67 L233.588 1148.87 L244.213 1159.49 L254.838 1148.87 L257.593 1151.67 Z\" fill=\"#000000\" fill-rule=\"nonzero\" fill-opacity=\"1\" /><path clip-path=\"url(#clip960)\" d=\"M269.954 1173.19 L277.593 1173.19 L277.593 1146.83 L269.282 1148.5 L269.282 1144.24 L277.546 1142.57 L282.222 1142.57 L282.222 1173.19 L289.861 1173.19 L289.861 1177.13 L269.954 1177.13 L269.954 1173.19 Z\" fill=\"#000000\" fill-rule=\"nonzero\" fill-opacity=\"1\" /><path clip-path=\"url(#clip960)\" d=\"M309.305 1145.65 Q305.694 1145.65 303.866 1149.21 Q302.06 1152.76 302.06 1159.88 Q302.06 1166.99 303.866 1170.56 Q305.694 1174.1 309.305 1174.1 Q312.94 1174.1 314.745 1170.56 Q316.574 1166.99 316.574 1159.88 Q316.574 1152.76 314.745 1149.21 Q312.94 1145.65 309.305 1145.65 M309.305 1141.95 Q315.116 1141.95 318.171 1146.55 Q321.25 1151.13 321.25 1159.88 Q321.25 1168.61 318.171 1173.22 Q315.116 1177.8 309.305 1177.8 Q303.495 1177.8 300.417 1173.22 Q297.361 1168.61 297.361 1159.88 Q297.361 1151.13 300.417 1146.55 Q303.495 1141.95 309.305 1141.95 Z\" fill=\"#000000\" fill-rule=\"nonzero\" fill-opacity=\"1\" /><path clip-path=\"url(#clip960)\" d=\"M321.25 1136.05 L345.361 1136.05 L345.361 1139.24 L321.25 1139.24 L321.25 1136.05 Z\" fill=\"#000000\" fill-rule=\"nonzero\" fill-opacity=\"1\" /><path clip-path=\"url(#clip960)\" d=\"M354.22 1146.52 L360.426 1146.52 L360.426 1125.1 L353.674 1126.45 L353.674 1122.99 L360.389 1121.64 L364.188 1121.64 L364.188 1146.52 L370.394 1146.52 L370.394 1149.72 L354.22 1149.72 L354.22 1146.52 Z\" fill=\"#000000\" fill-rule=\"nonzero\" fill-opacity=\"1\" /><path clip-path=\"url(#clip960)\" d=\"M388.506 1124.95 L378.914 1139.94 L388.506 1139.94 L388.506 1124.95 M387.51 1121.64 L392.287 1121.64 L392.287 1139.94 L396.293 1139.94 L396.293 1143.1 L392.287 1143.1 L392.287 1149.72 L388.506 1149.72 L388.506 1143.1 L375.83 1143.1 L375.83 1139.43 L387.51 1121.64 Z\" fill=\"#000000\" fill-rule=\"nonzero\" fill-opacity=\"1\" /><path clip-path=\"url(#clip960)\" d=\"M384.348 839.09 Q380.737 839.09 378.909 842.655 Q377.103 846.197 377.103 853.326 Q377.103 860.433 378.909 863.998 Q380.737 867.539 384.348 867.539 Q387.983 867.539 389.788 863.998 Q391.617 860.433 391.617 853.326 Q391.617 846.197 389.788 842.655 Q387.983 839.09 384.348 839.09 M384.348 835.387 Q390.159 835.387 393.214 839.993 Q396.293 844.576 396.293 853.326 Q396.293 862.053 393.214 866.66 Q390.159 871.243 384.348 871.243 Q378.538 871.243 375.46 866.66 Q372.404 862.053 372.404 853.326 Q372.404 844.576 375.46 839.993 Q378.538 835.387 384.348 835.387 Z\" fill=\"#000000\" fill-rule=\"nonzero\" fill-opacity=\"1\" /><path clip-path=\"url(#clip960)\" d=\"M158.056 572.973 L174.376 572.973 L174.376 576.908 L152.431 576.908 L152.431 572.973 Q155.093 570.219 159.677 565.589 Q164.283 560.936 165.464 559.594 Q167.709 557.07 168.589 555.334 Q169.491 553.575 169.491 551.885 Q169.491 549.131 167.547 547.395 Q165.626 545.658 162.524 545.658 Q160.325 545.658 157.871 546.422 Q155.44 547.186 152.663 548.737 L152.663 544.015 Q155.487 542.881 157.94 542.302 Q160.394 541.723 162.431 541.723 Q167.802 541.723 170.996 544.408 Q174.19 547.094 174.19 551.584 Q174.19 553.714 173.38 555.635 Q172.593 557.533 170.487 560.126 Q169.908 560.797 166.806 564.015 Q163.704 567.209 158.056 572.973 Z\" fill=\"#000000\" fill-rule=\"nonzero\" fill-opacity=\"1\" /><path clip-path=\"url(#clip960)\" d=\"M184.19 571.029 L189.075 571.029 L189.075 576.908 L184.19 576.908 L184.19 571.029 Z\" fill=\"#000000\" fill-rule=\"nonzero\" fill-opacity=\"1\" /><path clip-path=\"url(#clip960)\" d=\"M209.26 545.427 Q205.649 545.427 203.82 548.992 Q202.014 552.533 202.014 559.663 Q202.014 566.769 203.82 570.334 Q205.649 573.876 209.26 573.876 Q212.894 573.876 214.699 570.334 Q216.528 566.769 216.528 559.663 Q216.528 552.533 214.699 548.992 Q212.894 545.427 209.26 545.427 M209.26 541.723 Q215.07 541.723 218.125 546.33 Q221.204 550.913 221.204 559.663 Q221.204 568.39 218.125 572.996 Q215.07 577.58 209.26 577.58 Q203.449 577.58 200.371 572.996 Q197.315 568.39 197.315 559.663 Q197.315 550.913 200.371 546.33 Q203.449 541.723 209.26 541.723 Z\" fill=\"#000000\" fill-rule=\"nonzero\" fill-opacity=\"1\" /><path clip-path=\"url(#clip960)\" d=\"M257.593 551.445 L247.014 562.07 L257.593 572.649 L254.838 575.45 L244.213 564.825 L233.588 575.45 L230.857 572.649 L241.412 562.07 L230.857 551.445 L233.588 548.645 L244.213 559.269 L254.838 548.645 L257.593 551.445 Z\" fill=\"#000000\" fill-rule=\"nonzero\" fill-opacity=\"1\" /><path clip-path=\"url(#clip960)\" d=\"M269.954 572.973 L277.593 572.973 L277.593 546.608 L269.282 548.274 L269.282 544.015 L277.546 542.348 L282.222 542.348 L282.222 572.973 L289.861 572.973 L289.861 576.908 L269.954 576.908 L269.954 572.973 Z\" fill=\"#000000\" fill-rule=\"nonzero\" fill-opacity=\"1\" /><path clip-path=\"url(#clip960)\" d=\"M309.305 545.427 Q305.694 545.427 303.866 548.992 Q302.06 552.533 302.06 559.663 Q302.06 566.769 303.866 570.334 Q305.694 573.876 309.305 573.876 Q312.94 573.876 314.745 570.334 Q316.574 566.769 316.574 559.663 Q316.574 552.533 314.745 548.992 Q312.94 545.427 309.305 545.427 M309.305 541.723 Q315.116 541.723 318.171 546.33 Q321.25 550.913 321.25 559.663 Q321.25 568.39 318.171 572.996 Q315.116 577.58 309.305 577.58 Q303.495 577.58 300.417 572.996 Q297.361 568.39 297.361 559.663 Q297.361 550.913 300.417 546.33 Q303.495 541.723 309.305 541.723 Z\" fill=\"#000000\" fill-rule=\"nonzero\" fill-opacity=\"1\" /><path clip-path=\"url(#clip960)\" d=\"M321.25 535.825 L345.361 535.825 L345.361 539.022 L321.25 539.022 L321.25 535.825 Z\" fill=\"#000000\" fill-rule=\"nonzero\" fill-opacity=\"1\" /><path clip-path=\"url(#clip960)\" d=\"M354.22 546.301 L360.426 546.301 L360.426 524.879 L353.674 526.233 L353.674 522.772 L360.389 521.418 L364.188 521.418 L364.188 546.301 L370.394 546.301 L370.394 549.498 L354.22 549.498 L354.22 546.301 Z\" fill=\"#000000\" fill-rule=\"nonzero\" fill-opacity=\"1\" /><path clip-path=\"url(#clip960)\" d=\"M388.506 524.728 L378.914 539.718 L388.506 539.718 L388.506 524.728 M387.51 521.418 L392.287 521.418 L392.287 539.718 L396.293 539.718 L396.293 542.878 L392.287 542.878 L392.287 549.498 L388.506 549.498 L388.506 542.878 L375.83 542.878 L375.83 539.21 L387.51 521.418 Z\" fill=\"#000000\" fill-rule=\"nonzero\" fill-opacity=\"1\" /><path clip-path=\"url(#clip960)\" d=\"M166.876 246.311 L155.07 264.76 L166.876 264.76 L166.876 246.311 M165.649 242.237 L171.528 242.237 L171.528 264.76 L176.459 264.76 L176.459 268.649 L171.528 268.649 L171.528 276.797 L166.876 276.797 L166.876 268.649 L151.274 268.649 L151.274 264.135 L165.649 242.237 Z\" fill=\"#000000\" fill-rule=\"nonzero\" fill-opacity=\"1\" /><path clip-path=\"url(#clip960)\" d=\"M184.19 270.918 L189.075 270.918 L189.075 276.797 L184.19 276.797 L184.19 270.918 Z\" fill=\"#000000\" fill-rule=\"nonzero\" fill-opacity=\"1\" /><path clip-path=\"url(#clip960)\" d=\"M209.26 245.316 Q205.649 245.316 203.82 248.881 Q202.014 252.423 202.014 259.552 Q202.014 266.659 203.82 270.223 Q205.649 273.765 209.26 273.765 Q212.894 273.765 214.699 270.223 Q216.528 266.659 216.528 259.552 Q216.528 252.423 214.699 248.881 Q212.894 245.316 209.26 245.316 M209.26 241.612 Q215.07 241.612 218.125 246.219 Q221.204 250.802 221.204 259.552 Q221.204 268.279 218.125 272.885 Q215.07 277.469 209.26 277.469 Q203.449 277.469 200.371 272.885 Q197.315 268.279 197.315 259.552 Q197.315 250.802 200.371 246.219 Q203.449 241.612 209.26 241.612 Z\" fill=\"#000000\" fill-rule=\"nonzero\" fill-opacity=\"1\" /><path clip-path=\"url(#clip960)\" d=\"M257.593 251.335 L247.014 261.959 L257.593 272.538 L254.838 275.339 L244.213 264.714 L233.588 275.339 L230.857 272.538 L241.412 261.959 L230.857 251.335 L233.588 248.534 L244.213 259.159 L254.838 248.534 L257.593 251.335 Z\" fill=\"#000000\" fill-rule=\"nonzero\" fill-opacity=\"1\" /><path clip-path=\"url(#clip960)\" d=\"M269.954 272.862 L277.593 272.862 L277.593 246.497 L269.282 248.163 L269.282 243.904 L277.546 242.237 L282.222 242.237 L282.222 272.862 L289.861 272.862 L289.861 276.797 L269.954 276.797 L269.954 272.862 Z\" fill=\"#000000\" fill-rule=\"nonzero\" fill-opacity=\"1\" /><path clip-path=\"url(#clip960)\" d=\"M309.305 245.316 Q305.694 245.316 303.866 248.881 Q302.06 252.423 302.06 259.552 Q302.06 266.659 303.866 270.223 Q305.694 273.765 309.305 273.765 Q312.94 273.765 314.745 270.223 Q316.574 266.659 316.574 259.552 Q316.574 252.423 314.745 248.881 Q312.94 245.316 309.305 245.316 M309.305 241.612 Q315.116 241.612 318.171 246.219 Q321.25 250.802 321.25 259.552 Q321.25 268.279 318.171 272.885 Q315.116 277.469 309.305 277.469 Q303.495 277.469 300.417 272.885 Q297.361 268.279 297.361 259.552 Q297.361 250.802 300.417 246.219 Q303.495 241.612 309.305 241.612 Z\" fill=\"#000000\" fill-rule=\"nonzero\" fill-opacity=\"1\" /><path clip-path=\"url(#clip960)\" d=\"M321.25 235.714 L345.361 235.714 L345.361 238.911 L321.25 238.911 L321.25 235.714 Z\" fill=\"#000000\" fill-rule=\"nonzero\" fill-opacity=\"1\" /><path clip-path=\"url(#clip960)\" d=\"M354.22 246.19 L360.426 246.19 L360.426 224.768 L353.674 226.122 L353.674 222.661 L360.389 221.307 L364.188 221.307 L364.188 246.19 L370.394 246.19 L370.394 249.387 L354.22 249.387 L354.22 246.19 Z\" fill=\"#000000\" fill-rule=\"nonzero\" fill-opacity=\"1\" /><path clip-path=\"url(#clip960)\" d=\"M388.506 224.617 L378.914 239.607 L388.506 239.607 L388.506 224.617 M387.51 221.307 L392.287 221.307 L392.287 239.607 L396.293 239.607 L396.293 242.767 L392.287 242.767 L392.287 249.387 L388.506 249.387 L388.506 242.767 L375.83 242.767 L375.83 239.099 L387.51 221.307 Z\" fill=\"#000000\" fill-rule=\"nonzero\" fill-opacity=\"1\" /><path clip-path=\"url(#clip960)\" d=\"M67.3143 771.639 Q73.68 774.122 75.6216 776.477 Q77.5631 778.832 77.5631 782.779 L77.5631 787.458 L72.6615 787.458 L72.6615 784.02 Q72.6615 781.601 71.5157 780.265 Q70.3699 778.928 66.1048 777.305 L63.4312 776.254 L28.3562 790.673 L28.3562 784.466 L56.238 773.326 L28.3562 762.186 L28.3562 755.979 L67.3143 771.639 Z\" fill=\"#000000\" fill-rule=\"nonzero\" fill-opacity=\"1\" /><path clip-path=\"url(#clip960)\" d=\"M0.613403 18.8205 L0.613403 41.5461 L10.9027 41.5461 Q16.6145 41.5461 19.7337 38.5889 Q22.8529 35.6318 22.8529 30.163 Q22.8529 24.7348 19.7337 21.7777 Q16.6145 18.8205 10.9027 18.8205 L0.613403 18.8205 M-7.56942 12.096 L10.9027 12.096 Q21.0705 12.096 26.2556 16.714 Q31.4813 21.2916 31.4813 30.163 Q31.4813 39.1155 26.2556 43.6931 Q21.0705 48.2706 10.9027 48.2706 L0.613403 48.2706 L0.613403 72.576 L-7.56942 72.576 L-7.56942 12.096 Z\" fill=\"#000000\" fill-rule=\"nonzero\" fill-opacity=\"1\" /><path clip-path=\"url(#clip960)\" d=\"M42.1352 9.54393 L49.5888 9.54393 L49.5888 72.576 L42.1352 72.576 L42.1352 9.54393 Z\" fill=\"#000000\" fill-rule=\"nonzero\" fill-opacity=\"1\" /><path clip-path=\"url(#clip960)\" d=\"M82.7657 32.4315 Q76.7704 32.4315 73.2866 37.1306 Q69.8028 41.7891 69.8028 49.9314 Q69.8028 58.0738 73.2461 62.7728 Q76.7299 67.4314 82.7657 67.4314 Q88.7206 67.4314 92.2043 62.7323 Q95.6881 58.0333 95.6881 49.9314 Q95.6881 41.8701 92.2043 37.1711 Q88.7206 32.4315 82.7657 32.4315 M82.7657 26.1121 Q92.4879 26.1121 98.0376 32.4315 Q103.587 38.7509 103.587 49.9314 Q103.587 61.0714 98.0376 67.4314 Q92.4879 73.7508 82.7657 73.7508 Q73.0031 73.7508 67.4533 67.4314 Q61.9441 61.0714 61.9441 49.9314 Q61.9441 38.7509 67.4533 32.4315 Q73.0031 26.1121 82.7657 26.1121 Z\" fill=\"#000000\" fill-rule=\"nonzero\" fill-opacity=\"1\" /><path clip-path=\"url(#clip960)\" d=\"M123.315 14.324 L123.315 27.2059 L138.668 27.2059 L138.668 32.9987 L123.315 32.9987 L123.315 57.6282 Q123.315 63.1779 124.814 64.7578 Q126.353 66.3376 131.012 66.3376 L138.668 66.3376 L138.668 72.576 L131.012 72.576 Q122.384 72.576 119.102 69.3758 Q115.821 66.1351 115.821 57.6282 L115.821 32.9987 L110.352 32.9987 L110.352 27.2059 L115.821 27.2059 L115.821 14.324 L123.315 14.324 Z\" fill=\"#000000\" fill-rule=\"nonzero\" fill-opacity=\"1\" /><path clip-path=\"url(#clip960)\" d=\"M192.424 32.4315 Q186.428 32.4315 182.945 37.1306 Q179.461 41.7891 179.461 49.9314 Q179.461 58.0738 182.904 62.7728 Q186.388 67.4314 192.424 67.4314 Q198.379 67.4314 201.862 62.7323 Q205.346 58.0333 205.346 49.9314 Q205.346 41.8701 201.862 37.1711 Q198.379 32.4315 192.424 32.4315 M192.424 26.1121 Q202.146 26.1121 207.696 32.4315 Q213.245 38.7509 213.245 49.9314 Q213.245 61.0714 207.696 67.4314 Q202.146 73.7508 192.424 73.7508 Q182.661 73.7508 177.111 67.4314 Q171.602 61.0714 171.602 49.9314 Q171.602 38.7509 177.111 32.4315 Q182.661 26.1121 192.424 26.1121 Z\" fill=\"#000000\" fill-rule=\"nonzero\" fill-opacity=\"1\" /><path clip-path=\"url(#clip960)\" d=\"M248.569 9.54393 L248.569 15.7418 L241.44 15.7418 Q237.429 15.7418 235.849 17.3622 Q234.31 18.9825 234.31 23.1955 L234.31 27.2059 L246.584 27.2059 L246.584 32.9987 L234.31 32.9987 L234.31 72.576 L226.816 72.576 L226.816 32.9987 L219.686 32.9987 L219.686 27.2059 L226.816 27.2059 L226.816 24.0462 Q226.816 16.471 230.34 13.0277 Q233.864 9.54393 241.521 9.54393 L248.569 9.54393 Z\" fill=\"#000000\" fill-rule=\"nonzero\" fill-opacity=\"1\" /><path clip-path=\"url(#clip960)\" d=\"M300.056 76.7889 Q296.897 84.8907 293.899 87.3618 Q290.901 89.8329 285.878 89.8329 L279.923 89.8329 L279.923 83.5945 L284.298 83.5945 Q287.377 83.5945 289.078 82.1361 Q290.78 80.6778 292.846 75.2496 L294.182 71.8468 L275.832 27.2059 L283.731 27.2059 L297.909 62.6918 L312.087 27.2059 L319.987 27.2059 L300.056 76.7889 Z\" fill=\"#000000\" fill-rule=\"nonzero\" fill-opacity=\"1\" /><path clip-path=\"url(#clip960)\" d=\"M357.62 34.9026 L409.552 34.9026 L409.552 41.7081 L357.62 41.7081 L357.62 34.9026 M357.62 51.4303 L409.552 51.4303 L409.552 58.3168 L357.62 58.3168 L357.62 51.4303 Z\" fill=\"#000000\" fill-rule=\"nonzero\" fill-opacity=\"1\" /><path clip-path=\"url(#clip960)\" d=\"M490.246 27.2059 L473.84 49.2833 L491.097 72.576 L482.306 72.576 L469.1 54.752 L455.895 72.576 L447.104 72.576 L464.725 48.8377 L448.603 27.2059 L457.393 27.2059 L469.425 43.369 L481.456 27.2059 L490.246 27.2059 Z\" fill=\"#000000\" fill-rule=\"nonzero\" fill-opacity=\"1\" /><path clip-path=\"url(#clip960)\" d=\"M532.538 12.096 L554.534 34.6595 L546.392 34.6595 L528.568 18.6585 L510.744 34.6595 L502.601 34.6595 L524.598 12.096 L532.538 12.096 Z\" fill=\"#000000\" fill-rule=\"nonzero\" fill-opacity=\"1\" /><path clip-path=\"url(#clip960)\" d=\"M570.13 12.096 L609.019 12.096 L609.019 15.5798 L587.063 72.576 L578.515 72.576 L599.175 18.9825 L570.13 18.9825 L570.13 12.096 Z\" fill=\"#000000\" fill-rule=\"nonzero\" fill-opacity=\"1\" /><path clip-path=\"url(#clip960)\" d=\"M646.53 46.5287 L668.364 46.5287 L668.364 53.1722 L646.53 53.1722 L646.53 46.5287 Z\" fill=\"#000000\" fill-rule=\"nonzero\" fill-opacity=\"1\" /><path clip-path=\"url(#clip960)\" d=\"M705.592 12.096 L744.481 12.096 L744.481 15.5798 L722.525 72.576 L713.978 72.576 L734.637 18.9825 L705.592 18.9825 L705.592 12.096 Z\" fill=\"#000000\" fill-rule=\"nonzero\" fill-opacity=\"1\" /><path clip-path=\"url(#clip960)\" d=\"M797.102 27.2059 L780.696 49.2833 L797.953 72.576 L789.162 72.576 L775.956 54.752 L762.751 72.576 L753.96 72.576 L771.581 48.8377 L755.459 27.2059 L764.249 27.2059 L776.281 43.369 L788.312 27.2059 L797.102 27.2059 Z\" fill=\"#000000\" fill-rule=\"nonzero\" fill-opacity=\"1\" /><path clip-path=\"url(#clip960)\" d=\"M839.394 12.096 L861.39 34.6595 L853.248 34.6595 L835.424 18.6585 L817.6 34.6595 L809.457 34.6595 L831.454 12.096 L839.394 12.096 Z\" fill=\"#000000\" fill-rule=\"nonzero\" fill-opacity=\"1\" /><path clip-path=\"url(#clip960)\" d=\"M897.565 39.075 Q892.055 39.075 888.815 42.8424 Q885.614 46.6097 885.614 53.1722 Q885.614 59.6941 888.815 63.502 Q892.055 67.2693 897.565 67.2693 Q903.074 67.2693 906.274 63.502 Q909.515 59.6941 909.515 53.1722 Q909.515 46.6097 906.274 42.8424 Q903.074 39.075 897.565 39.075 M913.809 13.4328 L913.809 20.8865 Q910.73 19.4281 907.57 18.6585 Q904.451 17.8888 901.372 17.8888 Q893.271 17.8888 888.977 23.3575 Q884.723 28.8262 884.116 39.8852 Q886.506 36.3609 890.111 34.4975 Q893.716 32.5936 898.051 32.5936 Q907.165 32.5936 912.431 38.1433 Q917.738 43.6525 917.738 53.1722 Q917.738 62.4892 912.229 68.12 Q906.72 73.7508 897.565 73.7508 Q887.073 73.7508 881.523 65.73 Q875.973 57.6687 875.973 42.3968 Q875.973 28.0566 882.779 19.5497 Q889.584 11.0023 901.048 11.0023 Q904.127 11.0023 907.246 11.6099 Q910.406 12.2175 913.809 13.4328 Z\" fill=\"#000000\" fill-rule=\"nonzero\" fill-opacity=\"1\" /><path clip-path=\"url(#clip960)\" d=\"M987.495 20.5624 L987.495 43.1259 L1010.06 43.1259 L1010.06 50.0125 L987.495 50.0125 L987.495 72.576 L980.689 72.576 L980.689 50.0125 L958.126 50.0125 L958.126 43.1259 L980.689 43.1259 L980.689 20.5624 L987.495 20.5624 Z\" fill=\"#000000\" fill-rule=\"nonzero\" fill-opacity=\"1\" /><path clip-path=\"url(#clip960)\" d=\"M1061.14 65.6895 L1089.7 65.6895 L1089.7 72.576 L1051.3 72.576 L1051.3 65.6895 Q1055.95 60.8689 1063.98 52.7671 Q1072.04 44.6248 1074.1 42.2752 Q1078.03 37.8598 1079.57 34.8216 Q1081.15 31.7429 1081.15 28.7857 Q1081.15 23.9651 1077.75 20.927 Q1074.39 17.8888 1068.96 17.8888 Q1065.11 17.8888 1060.82 19.2256 Q1056.56 20.5624 1051.7 23.2765 L1051.7 15.0127 Q1056.64 13.0277 1060.94 12.015 Q1065.23 11.0023 1068.8 11.0023 Q1078.19 11.0023 1083.78 15.7013 Q1089.37 20.4004 1089.37 28.2591 Q1089.37 31.9859 1087.96 35.3482 Q1086.58 38.6699 1082.89 43.2069 Q1081.88 44.3817 1076.45 50.0125 Q1071.02 55.6027 1061.14 65.6895 Z\" fill=\"#000000\" fill-rule=\"nonzero\" fill-opacity=\"1\" /><path clip-path=\"url(#clip960)\" d=\"M1108.29 65.6895 L1121.66 65.6895 L1121.66 19.5497 L1107.12 22.4663 L1107.12 15.0127 L1121.58 12.096 L1129.76 12.096 L1129.76 65.6895 L1143.13 65.6895 L1143.13 72.576 L1108.29 72.576 L1108.29 65.6895 Z\" fill=\"#000000\" fill-rule=\"nonzero\" fill-opacity=\"1\" /><path clip-path=\"url(#clip960)\" d=\"M1196.32 27.2059 L1179.91 49.2833 L1197.17 72.576 L1188.38 72.576 L1175.17 54.752 L1161.97 72.576 L1153.18 72.576 L1170.8 48.8377 L1154.68 27.2059 L1163.47 27.2059 L1175.5 43.369 L1187.53 27.2059 L1196.32 27.2059 Z\" fill=\"#000000\" fill-rule=\"nonzero\" fill-opacity=\"1\" /><path clip-path=\"url(#clip960)\" d=\"M1238.61 12.096 L1260.61 34.6595 L1252.46 34.6595 L1234.64 18.6585 L1216.82 34.6595 L1208.67 34.6595 L1230.67 12.096 L1238.61 12.096 Z\" fill=\"#000000\" fill-rule=\"nonzero\" fill-opacity=\"1\" /><path clip-path=\"url(#clip960)\" d=\"M1278.35 12.096 L1310.47 12.096 L1310.47 18.9825 L1285.84 18.9825 L1285.84 33.8088 Q1287.63 33.2012 1289.41 32.9176 Q1291.19 32.5936 1292.97 32.5936 Q1303.1 32.5936 1309.01 38.1433 Q1314.93 43.6931 1314.93 53.1722 Q1314.93 62.9348 1308.85 68.3631 Q1302.78 73.7508 1291.72 73.7508 Q1287.91 73.7508 1283.94 73.1026 Q1280.01 72.4545 1275.8 71.1582 L1275.8 62.9348 Q1279.44 64.9198 1283.33 65.892 Q1287.22 66.8642 1291.56 66.8642 Q1298.56 66.8642 1302.66 63.1779 Q1306.75 59.4916 1306.75 53.1722 Q1306.75 46.8528 1302.66 43.1664 Q1298.56 39.4801 1291.56 39.4801 Q1288.27 39.4801 1284.99 40.2093 Q1281.75 40.9384 1278.35 42.4778 L1278.35 12.096 Z\" fill=\"#000000\" fill-rule=\"nonzero\" fill-opacity=\"1\" /><path clip-path=\"url(#clip960)\" d=\"M1352.6 46.5287 L1374.44 46.5287 L1374.44 53.1722 L1352.6 53.1722 L1352.6 46.5287 Z\" fill=\"#000000\" fill-rule=\"nonzero\" fill-opacity=\"1\" /><path clip-path=\"url(#clip960)\" d=\"M1438.52 39.9662 Q1444.4 41.222 1447.68 45.1919 Q1451 49.1618 1451 54.9951 Q1451 63.9476 1444.84 68.8492 Q1438.68 73.7508 1427.34 73.7508 Q1423.53 73.7508 1419.48 72.9811 Q1415.47 72.2519 1411.18 70.7531 L1411.18 62.8538 Q1414.58 64.8388 1418.63 65.8515 Q1422.68 66.8642 1427.1 66.8642 Q1434.8 66.8642 1438.81 63.826 Q1442.86 60.7879 1442.86 54.9951 Q1442.86 49.6479 1439.09 46.6502 Q1435.36 43.612 1428.68 43.612 L1421.63 43.612 L1421.63 36.8875 L1429 36.8875 Q1435.04 36.8875 1438.24 34.4975 Q1441.44 32.067 1441.44 27.5299 Q1441.44 22.8714 1438.12 20.4004 Q1434.84 17.8888 1428.68 17.8888 Q1425.32 17.8888 1421.47 18.618 Q1417.62 19.3471 1413 20.8865 L1413 13.5948 Q1417.66 12.2985 1421.71 11.6504 Q1425.8 11.0023 1429.41 11.0023 Q1438.72 11.0023 1444.15 15.2557 Q1449.58 19.4686 1449.58 26.6793 Q1449.58 31.7024 1446.71 35.1862 Q1443.83 38.6294 1438.52 39.9662 Z\" fill=\"#000000\" fill-rule=\"nonzero\" fill-opacity=\"1\" /><path clip-path=\"url(#clip960)\" d=\"M1466.6 12.096 L1498.72 12.096 L1498.72 18.9825 L1474.09 18.9825 L1474.09 33.8088 Q1475.87 33.2012 1477.65 32.9176 Q1479.44 32.5936 1481.22 32.5936 Q1491.35 32.5936 1497.26 38.1433 Q1503.17 43.6931 1503.17 53.1722 Q1503.17 62.9348 1497.1 68.3631 Q1491.02 73.7508 1479.96 73.7508 Q1476.16 73.7508 1472.19 73.1026 Q1468.26 72.4545 1464.04 71.1582 L1464.04 62.9348 Q1467.69 64.9198 1471.58 65.892 Q1475.47 66.8642 1479.8 66.8642 Q1486.81 66.8642 1490.9 63.1779 Q1494.99 59.4916 1494.99 53.1722 Q1494.99 46.8528 1490.9 43.1664 Q1486.81 39.4801 1479.8 39.4801 Q1476.52 39.4801 1473.24 40.2093 Q1470 40.9384 1466.6 42.4778 L1466.6 12.096 Z\" fill=\"#000000\" fill-rule=\"nonzero\" fill-opacity=\"1\" /><path clip-path=\"url(#clip960)\" d=\"M1555.96 27.2059 L1539.55 49.2833 L1556.81 72.576 L1548.02 72.576 L1534.81 54.752 L1521.61 72.576 L1512.82 72.576 L1530.44 48.8377 L1514.31 27.2059 L1523.11 27.2059 L1535.14 43.369 L1547.17 27.2059 L1555.96 27.2059 Z\" fill=\"#000000\" fill-rule=\"nonzero\" fill-opacity=\"1\" /><path clip-path=\"url(#clip960)\" d=\"M1598.25 12.096 L1620.25 34.6595 L1612.1 34.6595 L1594.28 18.6585 L1576.46 34.6595 L1568.31 34.6595 L1590.31 12.096 L1598.25 12.096 Z\" fill=\"#000000\" fill-rule=\"nonzero\" fill-opacity=\"1\" /><path clip-path=\"url(#clip960)\" d=\"M1660.39 19.2256 L1639.73 51.5113 L1660.39 51.5113 L1660.39 19.2256 M1658.24 12.096 L1668.53 12.096 L1668.53 51.5113 L1677.16 51.5113 L1677.16 58.3168 L1668.53 58.3168 L1668.53 72.576 L1660.39 72.576 L1660.39 58.3168 L1633.09 58.3168 L1633.09 50.4176 L1658.24 12.096 Z\" fill=\"#000000\" fill-rule=\"nonzero\" fill-opacity=\"1\" /><path clip-path=\"url(#clip960)\" d=\"M1746.35 20.5624 L1746.35 43.1259 L1768.91 43.1259 L1768.91 50.0125 L1746.35 50.0125 L1746.35 72.576 L1739.55 72.576 L1739.55 50.0125 L1716.98 50.0125 L1716.98 43.1259 L1739.55 43.1259 L1739.55 20.5624 L1746.35 20.5624 Z\" fill=\"#000000\" fill-rule=\"nonzero\" fill-opacity=\"1\" /><path clip-path=\"url(#clip960)\" d=\"M1837.74 39.9662 Q1843.61 41.222 1846.89 45.1919 Q1850.22 49.1618 1850.22 54.9951 Q1850.22 63.9476 1844.06 68.8492 Q1837.9 73.7508 1826.56 73.7508 Q1822.75 73.7508 1818.7 72.9811 Q1814.69 72.2519 1810.4 70.7531 L1810.4 62.8538 Q1813.8 64.8388 1817.85 65.8515 Q1821.9 66.8642 1826.32 66.8642 Q1834.01 66.8642 1838.02 63.826 Q1842.07 60.7879 1842.07 54.9951 Q1842.07 49.6479 1838.31 46.6502 Q1834.58 43.612 1827.9 43.612 L1820.85 43.612 L1820.85 36.8875 L1828.22 36.8875 Q1834.26 36.8875 1837.46 34.4975 Q1840.66 32.067 1840.66 27.5299 Q1840.66 22.8714 1837.33 20.4004 Q1834.05 17.8888 1827.9 17.8888 Q1824.53 17.8888 1820.68 18.618 Q1816.84 19.3471 1812.22 20.8865 L1812.22 13.5948 Q1816.88 12.2985 1820.93 11.6504 Q1825.02 11.0023 1828.62 11.0023 Q1837.94 11.0023 1843.37 15.2557 Q1848.8 19.4686 1848.8 26.6793 Q1848.8 31.7024 1845.92 35.1862 Q1843.05 38.6294 1837.74 39.9662 Z\" fill=\"#000000\" fill-rule=\"nonzero\" fill-opacity=\"1\" /><path clip-path=\"url(#clip960)\" d=\"M1865.81 12.096 L1897.94 12.096 L1897.94 18.9825 L1873.31 18.9825 L1873.31 33.8088 Q1875.09 33.2012 1876.87 32.9176 Q1878.65 32.5936 1880.44 32.5936 Q1890.56 32.5936 1896.48 38.1433 Q1902.39 43.6931 1902.39 53.1722 Q1902.39 62.9348 1896.32 68.3631 Q1890.24 73.7508 1879.18 73.7508 Q1875.37 73.7508 1871.4 73.1026 Q1867.47 72.4545 1863.26 71.1582 L1863.26 62.9348 Q1866.91 64.9198 1870.79 65.892 Q1874.68 66.8642 1879.02 66.8642 Q1886.03 66.8642 1890.12 63.1779 Q1894.21 59.4916 1894.21 53.1722 Q1894.21 46.8528 1890.12 43.1664 Q1886.03 39.4801 1879.02 39.4801 Q1875.74 39.4801 1872.46 40.2093 Q1869.21 40.9384 1865.81 42.4778 L1865.81 12.096 Z\" fill=\"#000000\" fill-rule=\"nonzero\" fill-opacity=\"1\" /><path clip-path=\"url(#clip960)\" d=\"M1955.17 27.2059 L1938.77 49.2833 L1956.03 72.576 L1947.23 72.576 L1934.03 54.752 L1920.82 72.576 L1912.03 72.576 L1929.65 48.8377 L1913.53 27.2059 L1922.32 27.2059 L1934.35 43.369 L1946.38 27.2059 L1955.17 27.2059 Z\" fill=\"#000000\" fill-rule=\"nonzero\" fill-opacity=\"1\" /><path clip-path=\"url(#clip960)\" d=\"M1997.47 12.096 L2019.46 34.6595 L2011.32 34.6595 L1993.5 18.6585 L1975.67 34.6595 L1967.53 34.6595 L1989.53 12.096 L1997.47 12.096 Z\" fill=\"#000000\" fill-rule=\"nonzero\" fill-opacity=\"1\" /><path clip-path=\"url(#clip960)\" d=\"M2061.92 39.9662 Q2067.79 41.222 2071.07 45.1919 Q2074.39 49.1618 2074.39 54.9951 Q2074.39 63.9476 2068.24 68.8492 Q2062.08 73.7508 2050.74 73.7508 Q2046.93 73.7508 2042.88 72.9811 Q2038.87 72.2519 2034.57 70.7531 L2034.57 62.8538 Q2037.98 64.8388 2042.03 65.8515 Q2046.08 66.8642 2050.49 66.8642 Q2058.19 66.8642 2062.2 63.826 Q2066.25 60.7879 2066.25 54.9951 Q2066.25 49.6479 2062.48 46.6502 Q2058.76 43.612 2052.07 43.612 L2045.02 43.612 L2045.02 36.8875 L2052.4 36.8875 Q2058.43 36.8875 2061.63 34.4975 Q2064.83 32.067 2064.83 27.5299 Q2064.83 22.8714 2061.51 20.4004 Q2058.23 17.8888 2052.07 17.8888 Q2048.71 17.8888 2044.86 18.618 Q2041.01 19.3471 2036.4 20.8865 L2036.4 13.5948 Q2041.05 12.2985 2045.1 11.6504 Q2049.2 11.0023 2052.8 11.0023 Q2062.12 11.0023 2067.55 15.2557 Q2072.97 19.4686 2072.97 26.6793 Q2072.97 31.7024 2070.1 35.1862 Q2067.22 38.6294 2061.92 39.9662 Z\" fill=\"#000000\" fill-rule=\"nonzero\" fill-opacity=\"1\" /><path clip-path=\"url(#clip960)\" d=\"M2111.46 46.5287 L2133.29 46.5287 L2133.29 53.1722 L2111.46 53.1722 L2111.46 46.5287 Z\" fill=\"#000000\" fill-rule=\"nonzero\" fill-opacity=\"1\" /><path clip-path=\"url(#clip960)\" d=\"M2179.64 65.6895 L2208.19 65.6895 L2208.19 72.576 L2169.79 72.576 L2169.79 65.6895 Q2174.45 60.8689 2182.47 52.7671 Q2190.53 44.6248 2192.6 42.2752 Q2196.53 37.8598 2198.07 34.8216 Q2199.65 31.7429 2199.65 28.7857 Q2199.65 23.9651 2196.24 20.927 Q2192.88 17.8888 2187.45 17.8888 Q2183.61 17.8888 2179.31 19.2256 Q2175.06 20.5624 2170.2 23.2765 L2170.2 15.0127 Q2175.14 13.0277 2179.43 12.015 Q2183.73 11.0023 2187.29 11.0023 Q2196.69 11.0023 2202.28 15.7013 Q2207.87 20.4004 2207.87 28.2591 Q2207.87 31.9859 2206.45 35.3482 Q2205.07 38.6699 2201.39 43.2069 Q2200.38 44.3817 2194.95 50.0125 Q2189.52 55.6027 2179.64 65.6895 Z\" fill=\"#000000\" fill-rule=\"nonzero\" fill-opacity=\"1\" /><path clip-path=\"url(#clip960)\" d=\"M2226.79 65.6895 L2240.16 65.6895 L2240.16 19.5497 L2225.61 22.4663 L2225.61 15.0127 L2240.07 12.096 L2248.26 12.096 L2248.26 65.6895 L2261.63 65.6895 L2261.63 72.576 L2226.79 72.576 L2226.79 65.6895 Z\" fill=\"#000000\" fill-rule=\"nonzero\" fill-opacity=\"1\" /><path clip-path=\"url(#clip960)\" d=\"M2314.81 27.2059 L2298.41 49.2833 L2315.66 72.576 L2306.87 72.576 L2293.67 54.752 L2280.46 72.576 L2271.67 72.576 L2289.29 48.8377 L2273.17 27.2059 L2281.96 27.2059 L2293.99 43.369 L2306.02 27.2059 L2314.81 27.2059 Z\" fill=\"#000000\" fill-rule=\"nonzero\" fill-opacity=\"1\" /><path clip-path=\"url(#clip960)\" d=\"M2357.11 12.096 L2379.1 34.6595 L2370.96 34.6595 L2353.14 18.6585 L2335.31 34.6595 L2327.17 34.6595 L2349.17 12.096 L2357.11 12.096 Z\" fill=\"#000000\" fill-rule=\"nonzero\" fill-opacity=\"1\" /><path clip-path=\"url(#clip960)\" d=\"M2403.81 65.6895 L2432.37 65.6895 L2432.37 72.576 L2393.97 72.576 L2393.97 65.6895 Q2398.63 60.8689 2406.65 52.7671 Q2414.71 44.6248 2416.78 42.2752 Q2420.7 37.8598 2422.24 34.8216 Q2423.82 31.7429 2423.82 28.7857 Q2423.82 23.9651 2420.42 20.927 Q2417.06 17.8888 2411.63 17.8888 Q2407.78 17.8888 2403.49 19.2256 Q2399.23 20.5624 2394.37 23.2765 L2394.37 15.0127 Q2399.32 13.0277 2403.61 12.015 Q2407.9 11.0023 2411.47 11.0023 Q2420.87 11.0023 2426.46 15.7013 Q2432.05 20.4004 2432.05 28.2591 Q2432.05 31.9859 2430.63 35.3482 Q2429.25 38.6699 2425.57 43.2069 Q2424.55 44.3817 2419.12 50.0125 Q2413.7 55.6027 2403.81 65.6895 Z\" fill=\"#000000\" fill-rule=\"nonzero\" fill-opacity=\"1\" /><path clip-path=\"url(#clip960)\" d=\"M2505.21 20.5624 L2505.21 43.1259 L2527.77 43.1259 L2527.77 50.0125 L2505.21 50.0125 L2505.21 72.576 L2498.4 72.576 L2498.4 50.0125 L2475.84 50.0125 L2475.84 43.1259 L2498.4 43.1259 L2498.4 20.5624 L2505.21 20.5624 Z\" fill=\"#000000\" fill-rule=\"nonzero\" fill-opacity=\"1\" /><path clip-path=\"url(#clip960)\" d=\"M2569.74 12.096 L2608.63 12.096 L2608.63 15.5798 L2586.67 72.576 L2578.12 72.576 L2598.78 18.9825 L2569.74 18.9825 L2569.74 12.096 Z\" fill=\"#000000\" fill-rule=\"nonzero\" fill-opacity=\"1\" /><path clip-path=\"url(#clip960)\" d=\"M2661.25 27.2059 L2644.84 49.2833 L2662.1 72.576 L2653.31 72.576 L2640.1 54.752 L2626.9 72.576 L2618.11 72.576 L2635.73 48.8377 L2619.6 27.2059 L2628.39 27.2059 L2640.43 43.369 L2652.46 27.2059 L2661.25 27.2059 Z\" fill=\"#000000\" fill-rule=\"nonzero\" fill-opacity=\"1\" /><path clip-path=\"url(#clip960)\" d=\"M2695.23 46.5287 L2717.07 46.5287 L2717.07 53.1722 L2695.23 53.1722 L2695.23 46.5287 Z\" fill=\"#000000\" fill-rule=\"nonzero\" fill-opacity=\"1\" /><path clip-path=\"url(#clip960)\" d=\"M2757.78 65.6895 L2771.15 65.6895 L2771.15 19.5497 L2756.61 22.4663 L2756.61 15.0127 L2771.07 12.096 L2779.25 12.096 L2779.25 65.6895 L2792.62 65.6895 L2792.62 72.576 L2757.78 72.576 L2757.78 65.6895 Z\" fill=\"#000000\" fill-rule=\"nonzero\" fill-opacity=\"1\" /><polyline clip-path=\"url(#clip962)\" style=\"stroke:#009af9; stroke-linecap:round; stroke-linejoin:round; stroke-width:4; stroke-opacity:1; fill:none\" points=\"486.646,1386.4 562.135,1199.81 637.625,1066.53 713.115,973.24 788.605,946.585 864.095,919.93 939.585,879.947 1015.07,906.602 1090.56,866.619 1166.05,893.274 1241.54,866.619 1317.03,879.947 1392.52,853.292 1468.01,933.257 1543.5,946.585 1618.99,813.309 1694.48,893.274 1769.97,853.292 1845.46,879.947 1920.95,839.964 1996.44,813.309 2071.93,893.274 2147.42,746.671 2222.91,560.084 2298.4,160.256 \"/>\n",
       "<path clip-path=\"url(#clip960)\" d=\"M496.308 270.476 L740.785 270.476 L740.785 166.796 L496.308 166.796  Z\" fill=\"#ffffff\" fill-rule=\"evenodd\" fill-opacity=\"1\"/>\n",
       "<polyline clip-path=\"url(#clip960)\" style=\"stroke:#000000; stroke-linecap:round; stroke-linejoin:round; stroke-width:4; stroke-opacity:1; fill:none\" points=\"496.308,270.476 740.785,270.476 740.785,166.796 496.308,166.796 496.308,270.476 \"/>\n",
       "<polyline clip-path=\"url(#clip960)\" style=\"stroke:#009af9; stroke-linecap:round; stroke-linejoin:round; stroke-width:4; stroke-opacity:1; fill:none\" points=\"517.647,218.636 645.678,218.636 \"/>\n",
       "<path clip-path=\"url(#clip960)\" d=\"M680.859 238.323 Q679.053 242.953 677.34 244.365 Q675.627 245.777 672.757 245.777 L669.354 245.777 L669.354 242.212 L671.854 242.212 Q673.613 242.212 674.585 241.379 Q675.558 240.545 676.738 237.443 L677.502 235.499 L667.016 209.99 L671.53 209.99 L679.632 230.268 L687.734 209.99 L692.247 209.99 L680.859 238.323 Z\" fill=\"#000000\" fill-rule=\"nonzero\" fill-opacity=\"1\" /><path clip-path=\"url(#clip960)\" d=\"M699.539 231.981 L707.178 231.981 L707.178 205.615 L698.868 207.282 L698.868 203.022 L707.132 201.356 L711.807 201.356 L711.807 231.981 L719.446 231.981 L719.446 235.916 L699.539 235.916 L699.539 231.981 Z\" fill=\"#000000\" fill-rule=\"nonzero\" fill-opacity=\"1\" /></svg>\n"
      ]
     },
     "execution_count": 75,
     "metadata": {},
     "output_type": "execute_result"
    }
   ],
   "source": [
    "y = x.^7 - 7x.^6 + 21x.^5 - 35x.^4 + 35x.^3 - 21x.^2 + 7x .- 1\n",
    "# y = x.^7 - 7 * x.^6 + 21 * x.^5 - 35 * x.^4 + 35 * x.^3 - 21 * x.^2 + 7 * x .- 1\n",
    "using Plots\n",
    "plot(x, y, xlabel = \"x\", ylabel = \"y\", title = \"Plot of y = x^7 - 7x^6 + 21x^5 - 35x^4 + 35x^3 - 21x^2 + 7x - 1\")"
   ]
  },
  {
   "cell_type": "markdown",
   "metadata": {},
   "source": [
    "Q4.2. Plot the polynomial `y = (x - 1)^7` at points `x`. \n",
    "\n",
    "**Solution**"
   ]
  },
  {
   "cell_type": "code",
   "execution_count": 76,
   "metadata": {},
   "outputs": [
    {
     "data": {
      "image/png": "[encoded data removed]",
      "image/svg+xml": [
       "<?xml version=\"1.0\" encoding=\"utf-8\"?>\n",
       "<svg xmlns=\"http://www.w3.org/2000/svg\" xmlns:xlink=\"http://www.w3.org/1999/xlink\" width=\"600\" height=\"400\" viewBox=\"0 0 2400 1600\">\n",
       "<defs>\n",
       "  <clipPath id=\"clip000\">\n",
       "    <rect x=\"0\" y=\"0\" width=\"2400\" height=\"1600\"/>\n",
       "  </clipPath>\n",
       "</defs>\n",
       "<path clip-path=\"url(#clip000)\" d=\"M0 1600 L2400 1600 L2400 8.88178e-14 L0 8.88178e-14  Z\" fill=\"#ffffff\" fill-rule=\"evenodd\" fill-opacity=\"1\"/>\n",
       "<defs>\n",
       "  <clipPath id=\"clip001\">\n",
       "    <rect x=\"480\" y=\"0\" width=\"1681\" height=\"1600\"/>\n",
       "  </clipPath>\n",
       "</defs>\n",
       "<path clip-path=\"url(#clip000)\" d=\"M432.293 1423.18 L2352.76 1423.18 L2352.76 123.472 L432.293 123.472  Z\" fill=\"#ffffff\" fill-rule=\"evenodd\" fill-opacity=\"1\"/>\n",
       "<defs>\n",
       "  <clipPath id=\"clip002\">\n",
       "    <rect x=\"432\" y=\"123\" width=\"1921\" height=\"1301\"/>\n",
       "  </clipPath>\n",
       "</defs>\n",
       "<polyline clip-path=\"url(#clip002)\" style=\"stroke:#000000; stroke-linecap:round; stroke-linejoin:round; stroke-width:2; stroke-opacity:0.1; fill:none\" points=\"637.625,1423.18 637.625,123.472 \"/>\n",
       "<polyline clip-path=\"url(#clip002)\" style=\"stroke:#000000; stroke-linecap:round; stroke-linejoin:round; stroke-width:2; stroke-opacity:0.1; fill:none\" points=\"1015.07,1423.18 1015.07,123.472 \"/>\n",
       "<polyline clip-path=\"url(#clip002)\" style=\"stroke:#000000; stroke-linecap:round; stroke-linejoin:round; stroke-width:2; stroke-opacity:0.1; fill:none\" points=\"1392.52,1423.18 1392.52,123.472 \"/>\n",
       "<polyline clip-path=\"url(#clip002)\" style=\"stroke:#000000; stroke-linecap:round; stroke-linejoin:round; stroke-width:2; stroke-opacity:0.1; fill:none\" points=\"1769.97,1423.18 1769.97,123.472 \"/>\n",
       "<polyline clip-path=\"url(#clip002)\" style=\"stroke:#000000; stroke-linecap:round; stroke-linejoin:round; stroke-width:2; stroke-opacity:0.1; fill:none\" points=\"2147.42,1423.18 2147.42,123.472 \"/>\n",
       "<polyline clip-path=\"url(#clip000)\" style=\"stroke:#000000; stroke-linecap:round; stroke-linejoin:round; stroke-width:4; stroke-opacity:1; fill:none\" points=\"432.293,1423.18 2352.76,1423.18 \"/>\n",
       "<polyline clip-path=\"url(#clip000)\" style=\"stroke:#000000; stroke-linecap:round; stroke-linejoin:round; stroke-width:4; stroke-opacity:1; fill:none\" points=\"637.625,1423.18 637.625,1404.28 \"/>\n",
       "<polyline clip-path=\"url(#clip000)\" style=\"stroke:#000000; stroke-linecap:round; stroke-linejoin:round; stroke-width:4; stroke-opacity:1; fill:none\" points=\"1015.07,1423.18 1015.07,1404.28 \"/>\n",
       "<polyline clip-path=\"url(#clip000)\" style=\"stroke:#000000; stroke-linecap:round; stroke-linejoin:round; stroke-width:4; stroke-opacity:1; fill:none\" points=\"1392.52,1423.18 1392.52,1404.28 \"/>\n",
       "<polyline clip-path=\"url(#clip000)\" style=\"stroke:#000000; stroke-linecap:round; stroke-linejoin:round; stroke-width:4; stroke-opacity:1; fill:none\" points=\"1769.97,1423.18 1769.97,1404.28 \"/>\n",
       "<polyline clip-path=\"url(#clip000)\" style=\"stroke:#000000; stroke-linecap:round; stroke-linejoin:round; stroke-width:4; stroke-opacity:1; fill:none\" points=\"2147.42,1423.18 2147.42,1404.28 \"/>\n",
       "<path clip-path=\"url(#clip000)\" d=\"M584.848 1454.1 Q581.237 1454.1 579.408 1457.66 Q577.602 1461.2 577.602 1468.33 Q577.602 1475.44 579.408 1479.01 Q581.237 1482.55 584.848 1482.55 Q588.482 1482.55 590.288 1479.01 Q592.116 1475.44 592.116 1468.33 Q592.116 1461.2 590.288 1457.66 Q588.482 1454.1 584.848 1454.1 M584.848 1450.39 Q590.658 1450.39 593.714 1455 Q596.792 1459.58 596.792 1468.33 Q596.792 1477.06 593.714 1481.67 Q590.658 1486.25 584.848 1486.25 Q579.038 1486.25 575.959 1481.67 Q572.903 1477.06 572.903 1468.33 Q572.903 1459.58 575.959 1455 Q579.038 1450.39 584.848 1450.39 Z\" fill=\"#000000\" fill-rule=\"nonzero\" fill-opacity=\"1\" /><path clip-path=\"url(#clip000)\" d=\"M605.01 1479.7 L609.894 1479.7 L609.894 1485.58 L605.01 1485.58 L605.01 1479.7 Z\" fill=\"#000000\" fill-rule=\"nonzero\" fill-opacity=\"1\" /><path clip-path=\"url(#clip000)\" d=\"M620.218 1484.86 L620.218 1480.6 Q621.977 1481.44 623.783 1481.88 Q625.588 1482.32 627.324 1482.32 Q631.954 1482.32 634.385 1479.21 Q636.838 1476.09 637.186 1469.75 Q635.843 1471.74 633.783 1472.8 Q631.723 1473.87 629.223 1473.87 Q624.037 1473.87 621.005 1470.74 Q617.996 1467.59 617.996 1462.15 Q617.996 1456.83 621.144 1453.61 Q624.292 1450.39 629.524 1450.39 Q635.519 1450.39 638.667 1455 Q641.838 1459.58 641.838 1468.33 Q641.838 1476.51 637.949 1481.39 Q634.084 1486.25 627.533 1486.25 Q625.774 1486.25 623.968 1485.9 Q622.162 1485.56 620.218 1484.86 M629.524 1470.21 Q632.672 1470.21 634.5 1468.06 Q636.352 1465.9 636.352 1462.15 Q636.352 1458.43 634.5 1456.27 Q632.672 1454.1 629.524 1454.1 Q626.375 1454.1 624.524 1456.27 Q622.695 1458.43 622.695 1462.15 Q622.695 1465.9 624.524 1468.06 Q626.375 1470.21 629.524 1470.21 Z\" fill=\"#000000\" fill-rule=\"nonzero\" fill-opacity=\"1\" /><path clip-path=\"url(#clip000)\" d=\"M650.38 1484.86 L650.38 1480.6 Q652.139 1481.44 653.945 1481.88 Q655.75 1482.32 657.486 1482.32 Q662.116 1482.32 664.546 1479.21 Q667 1476.09 667.347 1469.75 Q666.005 1471.74 663.945 1472.8 Q661.884 1473.87 659.384 1473.87 Q654.199 1473.87 651.167 1470.74 Q648.158 1467.59 648.158 1462.15 Q648.158 1456.83 651.306 1453.61 Q654.454 1450.39 659.685 1450.39 Q665.681 1450.39 668.829 1455 Q672 1459.58 672 1468.33 Q672 1476.51 668.111 1481.39 Q664.246 1486.25 657.695 1486.25 Q655.935 1486.25 654.13 1485.9 Q652.324 1485.56 650.38 1484.86 M659.685 1470.21 Q662.834 1470.21 664.662 1468.06 Q666.514 1465.9 666.514 1462.15 Q666.514 1458.43 664.662 1456.27 Q662.834 1454.1 659.685 1454.1 Q656.537 1454.1 654.685 1456.27 Q652.857 1458.43 652.857 1462.15 Q652.857 1465.9 654.685 1468.06 Q656.537 1470.21 659.685 1470.21 Z\" fill=\"#000000\" fill-rule=\"nonzero\" fill-opacity=\"1\" /><path clip-path=\"url(#clip000)\" d=\"M690.403 1454.1 Q686.792 1454.1 684.963 1457.66 Q683.157 1461.2 683.157 1468.33 Q683.157 1475.44 684.963 1479.01 Q686.792 1482.55 690.403 1482.55 Q694.037 1482.55 695.843 1479.01 Q697.671 1475.44 697.671 1468.33 Q697.671 1461.2 695.843 1457.66 Q694.037 1454.1 690.403 1454.1 M690.403 1450.39 Q696.213 1450.39 699.269 1455 Q702.347 1459.58 702.347 1468.33 Q702.347 1477.06 699.269 1481.67 Q696.213 1486.25 690.403 1486.25 Q684.593 1486.25 681.514 1481.67 Q678.458 1477.06 678.458 1468.33 Q678.458 1459.58 681.514 1455 Q684.593 1450.39 690.403 1450.39 Z\" fill=\"#000000\" fill-rule=\"nonzero\" fill-opacity=\"1\" /><path clip-path=\"url(#clip000)\" d=\"M962.795 1454.1 Q959.184 1454.1 957.355 1457.66 Q955.55 1461.2 955.55 1468.33 Q955.55 1475.44 957.355 1479.01 Q959.184 1482.55 962.795 1482.55 Q966.429 1482.55 968.235 1479.01 Q970.064 1475.44 970.064 1468.33 Q970.064 1461.2 968.235 1457.66 Q966.429 1454.1 962.795 1454.1 M962.795 1450.39 Q968.605 1450.39 971.661 1455 Q974.739 1459.58 974.739 1468.33 Q974.739 1477.06 971.661 1481.67 Q968.605 1486.25 962.795 1486.25 Q956.985 1486.25 953.906 1481.67 Q950.851 1477.06 950.851 1468.33 Q950.851 1459.58 953.906 1455 Q956.985 1450.39 962.795 1450.39 Z\" fill=\"#000000\" fill-rule=\"nonzero\" fill-opacity=\"1\" /><path clip-path=\"url(#clip000)\" d=\"M982.957 1479.7 L987.841 1479.7 L987.841 1485.58 L982.957 1485.58 L982.957 1479.7 Z\" fill=\"#000000\" fill-rule=\"nonzero\" fill-opacity=\"1\" /><path clip-path=\"url(#clip000)\" d=\"M998.165 1484.86 L998.165 1480.6 Q999.924 1481.44 1001.73 1481.88 Q1003.54 1482.32 1005.27 1482.32 Q1009.9 1482.32 1012.33 1479.21 Q1014.79 1476.09 1015.13 1469.75 Q1013.79 1471.74 1011.73 1472.8 Q1009.67 1473.87 1007.17 1473.87 Q1001.98 1473.87 998.952 1470.74 Q995.943 1467.59 995.943 1462.15 Q995.943 1456.83 999.091 1453.61 Q1002.24 1450.39 1007.47 1450.39 Q1013.47 1450.39 1016.61 1455 Q1019.79 1459.58 1019.79 1468.33 Q1019.79 1476.51 1015.9 1481.39 Q1012.03 1486.25 1005.48 1486.25 Q1003.72 1486.25 1001.92 1485.9 Q1000.11 1485.56 998.165 1484.86 M1007.47 1470.21 Q1010.62 1470.21 1012.45 1468.06 Q1014.3 1465.9 1014.3 1462.15 Q1014.3 1458.43 1012.45 1456.27 Q1010.62 1454.1 1007.47 1454.1 Q1004.32 1454.1 1002.47 1456.27 Q1000.64 1458.43 1000.64 1462.15 Q1000.64 1465.9 1002.47 1468.06 Q1004.32 1470.21 1007.47 1470.21 Z\" fill=\"#000000\" fill-rule=\"nonzero\" fill-opacity=\"1\" /><path clip-path=\"url(#clip000)\" d=\"M1028.33 1484.86 L1028.33 1480.6 Q1030.09 1481.44 1031.89 1481.88 Q1033.7 1482.32 1035.43 1482.32 Q1040.06 1482.32 1042.49 1479.21 Q1044.95 1476.09 1045.29 1469.75 Q1043.95 1471.74 1041.89 1472.8 Q1039.83 1473.87 1037.33 1473.87 Q1032.15 1473.87 1029.11 1470.74 Q1026.1 1467.59 1026.1 1462.15 Q1026.1 1456.83 1029.25 1453.61 Q1032.4 1450.39 1037.63 1450.39 Q1043.63 1450.39 1046.78 1455 Q1049.95 1459.58 1049.95 1468.33 Q1049.95 1476.51 1046.06 1481.39 Q1042.19 1486.25 1035.64 1486.25 Q1033.88 1486.25 1032.08 1485.9 Q1030.27 1485.56 1028.33 1484.86 M1037.63 1470.21 Q1040.78 1470.21 1042.61 1468.06 Q1044.46 1465.9 1044.46 1462.15 Q1044.46 1458.43 1042.61 1456.27 Q1040.78 1454.1 1037.63 1454.1 Q1034.48 1454.1 1032.63 1456.27 Q1030.8 1458.43 1030.8 1462.15 Q1030.8 1465.9 1032.63 1468.06 Q1034.48 1470.21 1037.63 1470.21 Z\" fill=\"#000000\" fill-rule=\"nonzero\" fill-opacity=\"1\" /><path clip-path=\"url(#clip000)\" d=\"M1058.4 1451.02 L1076.75 1451.02 L1076.75 1454.96 L1062.68 1454.96 L1062.68 1463.43 Q1063.7 1463.08 1064.72 1462.92 Q1065.73 1462.73 1066.75 1462.73 Q1072.54 1462.73 1075.92 1465.9 Q1079.3 1469.08 1079.3 1474.49 Q1079.3 1480.07 1075.83 1483.17 Q1072.35 1486.25 1066.04 1486.25 Q1063.86 1486.25 1061.59 1485.88 Q1059.35 1485.51 1056.94 1484.77 L1056.94 1480.07 Q1059.02 1481.2 1061.24 1481.76 Q1063.47 1482.32 1065.94 1482.32 Q1069.95 1482.32 1072.29 1480.21 Q1074.62 1478.1 1074.62 1474.49 Q1074.62 1470.88 1072.29 1468.77 Q1069.95 1466.67 1065.94 1466.67 Q1064.07 1466.67 1062.19 1467.08 Q1060.34 1467.5 1058.4 1468.38 L1058.4 1451.02 Z\" fill=\"#000000\" fill-rule=\"nonzero\" fill-opacity=\"1\" /><path clip-path=\"url(#clip000)\" d=\"M1329.52 1481.64 L1337.15 1481.64 L1337.15 1455.28 L1328.84 1456.95 L1328.84 1452.69 L1337.11 1451.02 L1341.78 1451.02 L1341.78 1481.64 L1349.42 1481.64 L1349.42 1485.58 L1329.52 1485.58 L1329.52 1481.64 Z\" fill=\"#000000\" fill-rule=\"nonzero\" fill-opacity=\"1\" /><path clip-path=\"url(#clip000)\" d=\"M1358.87 1479.7 L1363.75 1479.7 L1363.75 1485.58 L1358.87 1485.58 L1358.87 1479.7 Z\" fill=\"#000000\" fill-rule=\"nonzero\" fill-opacity=\"1\" /><path clip-path=\"url(#clip000)\" d=\"M1383.94 1454.1 Q1380.33 1454.1 1378.5 1457.66 Q1376.69 1461.2 1376.69 1468.33 Q1376.69 1475.44 1378.5 1479.01 Q1380.33 1482.55 1383.94 1482.55 Q1387.57 1482.55 1389.38 1479.01 Q1391.2 1475.44 1391.2 1468.33 Q1391.2 1461.2 1389.38 1457.66 Q1387.57 1454.1 1383.94 1454.1 M1383.94 1450.39 Q1389.75 1450.39 1392.8 1455 Q1395.88 1459.58 1395.88 1468.33 Q1395.88 1477.06 1392.8 1481.67 Q1389.75 1486.25 1383.94 1486.25 Q1378.13 1486.25 1375.05 1481.67 Q1371.99 1477.06 1371.99 1468.33 Q1371.99 1459.58 1375.05 1455 Q1378.13 1450.39 1383.94 1450.39 Z\" fill=\"#000000\" fill-rule=\"nonzero\" fill-opacity=\"1\" /><path clip-path=\"url(#clip000)\" d=\"M1414.1 1454.1 Q1410.49 1454.1 1408.66 1457.66 Q1406.85 1461.2 1406.85 1468.33 Q1406.85 1475.44 1408.66 1479.01 Q1410.49 1482.55 1414.1 1482.55 Q1417.73 1482.55 1419.54 1479.01 Q1421.37 1475.44 1421.37 1468.33 Q1421.37 1461.2 1419.54 1457.66 Q1417.73 1454.1 1414.1 1454.1 M1414.1 1450.39 Q1419.91 1450.39 1422.96 1455 Q1426.04 1459.58 1426.04 1468.33 Q1426.04 1477.06 1422.96 1481.67 Q1419.91 1486.25 1414.1 1486.25 Q1408.29 1486.25 1405.21 1481.67 Q1402.15 1477.06 1402.15 1468.33 Q1402.15 1459.58 1405.21 1455 Q1408.29 1450.39 1414.1 1450.39 Z\" fill=\"#000000\" fill-rule=\"nonzero\" fill-opacity=\"1\" /><path clip-path=\"url(#clip000)\" d=\"M1444.26 1454.1 Q1440.65 1454.1 1438.82 1457.66 Q1437.01 1461.2 1437.01 1468.33 Q1437.01 1475.44 1438.82 1479.01 Q1440.65 1482.55 1444.26 1482.55 Q1447.89 1482.55 1449.7 1479.01 Q1451.53 1475.44 1451.53 1468.33 Q1451.53 1461.2 1449.7 1457.66 Q1447.89 1454.1 1444.26 1454.1 M1444.26 1450.39 Q1450.07 1450.39 1453.13 1455 Q1456.2 1459.58 1456.2 1468.33 Q1456.2 1477.06 1453.13 1481.67 Q1450.07 1486.25 1444.26 1486.25 Q1438.45 1486.25 1435.37 1481.67 Q1432.32 1477.06 1432.32 1468.33 Q1432.32 1459.58 1435.37 1455 Q1438.45 1450.39 1444.26 1450.39 Z\" fill=\"#000000\" fill-rule=\"nonzero\" fill-opacity=\"1\" /><path clip-path=\"url(#clip000)\" d=\"M1707.46 1481.64 L1715.1 1481.64 L1715.1 1455.28 L1706.79 1456.95 L1706.79 1452.69 L1715.06 1451.02 L1719.73 1451.02 L1719.73 1481.64 L1727.37 1481.64 L1727.37 1485.58 L1707.46 1485.58 L1707.46 1481.64 Z\" fill=\"#000000\" fill-rule=\"nonzero\" fill-opacity=\"1\" /><path clip-path=\"url(#clip000)\" d=\"M1736.81 1479.7 L1741.7 1479.7 L1741.7 1485.58 L1736.81 1485.58 L1736.81 1479.7 Z\" fill=\"#000000\" fill-rule=\"nonzero\" fill-opacity=\"1\" /><path clip-path=\"url(#clip000)\" d=\"M1761.88 1454.1 Q1758.27 1454.1 1756.44 1457.66 Q1754.64 1461.2 1754.64 1468.33 Q1754.64 1475.44 1756.44 1479.01 Q1758.27 1482.55 1761.88 1482.55 Q1765.52 1482.55 1767.32 1479.01 Q1769.15 1475.44 1769.15 1468.33 Q1769.15 1461.2 1767.32 1457.66 Q1765.52 1454.1 1761.88 1454.1 M1761.88 1450.39 Q1767.69 1450.39 1770.75 1455 Q1773.83 1459.58 1773.83 1468.33 Q1773.83 1477.06 1770.75 1481.67 Q1767.69 1486.25 1761.88 1486.25 Q1756.07 1486.25 1752.99 1481.67 Q1749.94 1477.06 1749.94 1468.33 Q1749.94 1459.58 1752.99 1455 Q1756.07 1450.39 1761.88 1450.39 Z\" fill=\"#000000\" fill-rule=\"nonzero\" fill-opacity=\"1\" /><path clip-path=\"url(#clip000)\" d=\"M1792.05 1454.1 Q1788.43 1454.1 1786.61 1457.66 Q1784.8 1461.2 1784.8 1468.33 Q1784.8 1475.44 1786.61 1479.01 Q1788.43 1482.55 1792.05 1482.55 Q1795.68 1482.55 1797.49 1479.01 Q1799.31 1475.44 1799.31 1468.33 Q1799.31 1461.2 1797.49 1457.66 Q1795.68 1454.1 1792.05 1454.1 M1792.05 1450.39 Q1797.86 1450.39 1800.91 1455 Q1803.99 1459.58 1803.99 1468.33 Q1803.99 1477.06 1800.91 1481.67 Q1797.86 1486.25 1792.05 1486.25 Q1786.24 1486.25 1783.16 1481.67 Q1780.1 1477.06 1780.1 1468.33 Q1780.1 1459.58 1783.16 1455 Q1786.24 1450.39 1792.05 1450.39 Z\" fill=\"#000000\" fill-rule=\"nonzero\" fill-opacity=\"1\" /><path clip-path=\"url(#clip000)\" d=\"M1812.25 1451.02 L1830.61 1451.02 L1830.61 1454.96 L1816.54 1454.96 L1816.54 1463.43 Q1817.55 1463.08 1818.57 1462.92 Q1819.59 1462.73 1820.61 1462.73 Q1826.4 1462.73 1829.78 1465.9 Q1833.16 1469.08 1833.16 1474.49 Q1833.16 1480.07 1829.68 1483.17 Q1826.21 1486.25 1819.89 1486.25 Q1817.72 1486.25 1815.45 1485.88 Q1813.2 1485.51 1810.8 1484.77 L1810.8 1480.07 Q1812.88 1481.2 1815.1 1481.76 Q1817.32 1482.32 1819.8 1482.32 Q1823.8 1482.32 1826.14 1480.21 Q1828.48 1478.1 1828.48 1474.49 Q1828.48 1470.88 1826.14 1468.77 Q1823.8 1466.67 1819.8 1466.67 Q1817.92 1466.67 1816.05 1467.08 Q1814.2 1467.5 1812.25 1468.38 L1812.25 1451.02 Z\" fill=\"#000000\" fill-rule=\"nonzero\" fill-opacity=\"1\" /><path clip-path=\"url(#clip000)\" d=\"M2084.41 1481.64 L2092.05 1481.64 L2092.05 1455.28 L2083.74 1456.95 L2083.74 1452.69 L2092.01 1451.02 L2096.68 1451.02 L2096.68 1481.64 L2104.32 1481.64 L2104.32 1485.58 L2084.41 1485.58 L2084.41 1481.64 Z\" fill=\"#000000\" fill-rule=\"nonzero\" fill-opacity=\"1\" /><path clip-path=\"url(#clip000)\" d=\"M2113.77 1479.7 L2118.65 1479.7 L2118.65 1485.58 L2113.77 1485.58 L2113.77 1479.7 Z\" fill=\"#000000\" fill-rule=\"nonzero\" fill-opacity=\"1\" /><path clip-path=\"url(#clip000)\" d=\"M2138.84 1454.1 Q2135.22 1454.1 2133.4 1457.66 Q2131.59 1461.2 2131.59 1468.33 Q2131.59 1475.44 2133.4 1479.01 Q2135.22 1482.55 2138.84 1482.55 Q2142.47 1482.55 2144.28 1479.01 Q2146.1 1475.44 2146.1 1468.33 Q2146.1 1461.2 2144.28 1457.66 Q2142.47 1454.1 2138.84 1454.1 M2138.84 1450.39 Q2144.65 1450.39 2147.7 1455 Q2150.78 1459.58 2150.78 1468.33 Q2150.78 1477.06 2147.7 1481.67 Q2144.65 1486.25 2138.84 1486.25 Q2133.03 1486.25 2129.95 1481.67 Q2126.89 1477.06 2126.89 1468.33 Q2126.89 1459.58 2129.95 1455 Q2133.03 1450.39 2138.84 1450.39 Z\" fill=\"#000000\" fill-rule=\"nonzero\" fill-opacity=\"1\" /><path clip-path=\"url(#clip000)\" d=\"M2159.81 1481.64 L2167.45 1481.64 L2167.45 1455.28 L2159.14 1456.95 L2159.14 1452.69 L2167.4 1451.02 L2172.08 1451.02 L2172.08 1481.64 L2179.71 1481.64 L2179.71 1485.58 L2159.81 1485.58 L2159.81 1481.64 Z\" fill=\"#000000\" fill-rule=\"nonzero\" fill-opacity=\"1\" /><path clip-path=\"url(#clip000)\" d=\"M2199.16 1454.1 Q2195.55 1454.1 2193.72 1457.66 Q2191.91 1461.2 2191.91 1468.33 Q2191.91 1475.44 2193.72 1479.01 Q2195.55 1482.55 2199.16 1482.55 Q2202.79 1482.55 2204.6 1479.01 Q2206.43 1475.44 2206.43 1468.33 Q2206.43 1461.2 2204.6 1457.66 Q2202.79 1454.1 2199.16 1454.1 M2199.16 1450.39 Q2204.97 1450.39 2208.02 1455 Q2211.1 1459.58 2211.1 1468.33 Q2211.1 1477.06 2208.02 1481.67 Q2204.97 1486.25 2199.16 1486.25 Q2193.35 1486.25 2190.27 1481.67 Q2187.21 1477.06 2187.21 1468.33 Q2187.21 1459.58 2190.27 1455 Q2193.35 1450.39 2199.16 1450.39 Z\" fill=\"#000000\" fill-rule=\"nonzero\" fill-opacity=\"1\" /><path clip-path=\"url(#clip000)\" d=\"M1409.14 1532.4 L1396.25 1549.74 L1409.81 1568.04 L1402.9 1568.04 L1392.52 1554.04 L1382.15 1568.04 L1375.24 1568.04 L1389.09 1549.39 L1376.42 1532.4 L1383.33 1532.4 L1392.78 1545.1 L1402.23 1532.4 L1409.14 1532.4 Z\" fill=\"#000000\" fill-rule=\"nonzero\" fill-opacity=\"1\" /><polyline clip-path=\"url(#clip002)\" style=\"stroke:#000000; stroke-linecap:round; stroke-linejoin:round; stroke-width:2; stroke-opacity:0.1; fill:none\" points=\"432.293,1286.62 2352.76,1286.62 \"/>\n",
       "<polyline clip-path=\"url(#clip002)\" style=\"stroke:#000000; stroke-linecap:round; stroke-linejoin:round; stroke-width:2; stroke-opacity:0.1; fill:none\" points=\"432.293,1115.52 2352.76,1115.52 \"/>\n",
       "<polyline clip-path=\"url(#clip002)\" style=\"stroke:#000000; stroke-linecap:round; stroke-linejoin:round; stroke-width:2; stroke-opacity:0.1; fill:none\" points=\"432.293,944.422 2352.76,944.422 \"/>\n",
       "<polyline clip-path=\"url(#clip002)\" style=\"stroke:#000000; stroke-linecap:round; stroke-linejoin:round; stroke-width:2; stroke-opacity:0.1; fill:none\" points=\"432.293,773.326 2352.76,773.326 \"/>\n",
       "<polyline clip-path=\"url(#clip002)\" style=\"stroke:#000000; stroke-linecap:round; stroke-linejoin:round; stroke-width:2; stroke-opacity:0.1; fill:none\" points=\"432.293,602.229 2352.76,602.229 \"/>\n",
       "<polyline clip-path=\"url(#clip002)\" style=\"stroke:#000000; stroke-linecap:round; stroke-linejoin:round; stroke-width:2; stroke-opacity:0.1; fill:none\" points=\"432.293,431.133 2352.76,431.133 \"/>\n",
       "<polyline clip-path=\"url(#clip002)\" style=\"stroke:#000000; stroke-linecap:round; stroke-linejoin:round; stroke-width:2; stroke-opacity:0.1; fill:none\" points=\"432.293,260.036 2352.76,260.036 \"/>\n",
       "<polyline clip-path=\"url(#clip000)\" style=\"stroke:#000000; stroke-linecap:round; stroke-linejoin:round; stroke-width:4; stroke-opacity:1; fill:none\" points=\"432.293,1423.18 432.293,123.472 \"/>\n",
       "<polyline clip-path=\"url(#clip000)\" style=\"stroke:#000000; stroke-linecap:round; stroke-linejoin:round; stroke-width:4; stroke-opacity:1; fill:none\" points=\"432.293,1286.62 451.19,1286.62 \"/>\n",
       "<polyline clip-path=\"url(#clip000)\" style=\"stroke:#000000; stroke-linecap:round; stroke-linejoin:round; stroke-width:4; stroke-opacity:1; fill:none\" points=\"432.293,1115.52 451.19,1115.52 \"/>\n",
       "<polyline clip-path=\"url(#clip000)\" style=\"stroke:#000000; stroke-linecap:round; stroke-linejoin:round; stroke-width:4; stroke-opacity:1; fill:none\" points=\"432.293,944.422 451.19,944.422 \"/>\n",
       "<polyline clip-path=\"url(#clip000)\" style=\"stroke:#000000; stroke-linecap:round; stroke-linejoin:round; stroke-width:4; stroke-opacity:1; fill:none\" points=\"432.293,773.326 451.19,773.326 \"/>\n",
       "<polyline clip-path=\"url(#clip000)\" style=\"stroke:#000000; stroke-linecap:round; stroke-linejoin:round; stroke-width:4; stroke-opacity:1; fill:none\" points=\"432.293,602.229 451.19,602.229 \"/>\n",
       "<polyline clip-path=\"url(#clip000)\" style=\"stroke:#000000; stroke-linecap:round; stroke-linejoin:round; stroke-width:4; stroke-opacity:1; fill:none\" points=\"432.293,431.133 451.19,431.133 \"/>\n",
       "<polyline clip-path=\"url(#clip000)\" style=\"stroke:#000000; stroke-linecap:round; stroke-linejoin:round; stroke-width:4; stroke-opacity:1; fill:none\" points=\"432.293,260.036 451.19,260.036 \"/>\n",
       "<path clip-path=\"url(#clip000)\" d=\"M114.26 1293.51 L143.936 1293.51 L143.936 1297.45 L114.26 1297.45 L114.26 1293.51 Z\" fill=\"#000000\" fill-rule=\"nonzero\" fill-opacity=\"1\" /><path clip-path=\"url(#clip000)\" d=\"M168.195 1291.71 Q171.552 1292.43 173.427 1294.7 Q175.325 1296.96 175.325 1300.3 Q175.325 1305.41 171.806 1308.21 Q168.288 1311.01 161.806 1311.01 Q159.63 1311.01 157.315 1310.57 Q155.024 1310.16 152.57 1309.3 L152.57 1304.79 Q154.515 1305.92 156.829 1306.5 Q159.144 1307.08 161.667 1307.08 Q166.065 1307.08 168.357 1305.34 Q170.672 1303.61 170.672 1300.3 Q170.672 1297.24 168.519 1295.53 Q166.39 1293.79 162.57 1293.79 L158.542 1293.79 L158.542 1289.95 L162.755 1289.95 Q166.204 1289.95 168.033 1288.58 Q169.862 1287.2 169.862 1284.6 Q169.862 1281.94 167.964 1280.53 Q166.089 1279.09 162.57 1279.09 Q160.649 1279.09 158.45 1279.51 Q156.251 1279.93 153.612 1280.81 L153.612 1276.64 Q156.274 1275.9 158.589 1275.53 Q160.927 1275.16 162.987 1275.16 Q168.311 1275.16 171.413 1277.59 Q174.514 1280 174.514 1284.12 Q174.514 1286.99 172.871 1288.98 Q171.227 1290.95 168.195 1291.71 Z\" fill=\"#000000\" fill-rule=\"nonzero\" fill-opacity=\"1\" /><path clip-path=\"url(#clip000)\" d=\"M184.19 1304.46 L189.075 1304.46 L189.075 1310.34 L184.19 1310.34 L184.19 1304.46 Z\" fill=\"#000000\" fill-rule=\"nonzero\" fill-opacity=\"1\" /><path clip-path=\"url(#clip000)\" d=\"M209.26 1278.86 Q205.649 1278.86 203.82 1282.43 Q202.014 1285.97 202.014 1293.1 Q202.014 1300.2 203.82 1303.77 Q205.649 1307.31 209.26 1307.31 Q212.894 1307.31 214.699 1303.77 Q216.528 1300.2 216.528 1293.1 Q216.528 1285.97 214.699 1282.43 Q212.894 1278.86 209.26 1278.86 M209.26 1275.16 Q215.07 1275.16 218.125 1279.76 Q221.204 1284.35 221.204 1293.1 Q221.204 1301.82 218.125 1306.43 Q215.07 1311.01 209.26 1311.01 Q203.449 1311.01 200.371 1306.43 Q197.315 1301.82 197.315 1293.1 Q197.315 1284.35 200.371 1279.76 Q203.449 1275.16 209.26 1275.16 Z\" fill=\"#000000\" fill-rule=\"nonzero\" fill-opacity=\"1\" /><path clip-path=\"url(#clip000)\" d=\"M257.593 1284.88 L247.014 1295.51 L257.593 1306.08 L254.838 1308.88 L244.213 1298.26 L233.588 1308.88 L230.857 1306.08 L241.412 1295.51 L230.857 1284.88 L233.588 1282.08 L244.213 1292.7 L254.838 1282.08 L257.593 1284.88 Z\" fill=\"#000000\" fill-rule=\"nonzero\" fill-opacity=\"1\" /><path clip-path=\"url(#clip000)\" d=\"M269.954 1306.41 L277.593 1306.41 L277.593 1280.04 L269.282 1281.71 L269.282 1277.45 L277.546 1275.78 L282.222 1275.78 L282.222 1306.41 L289.861 1306.41 L289.861 1310.34 L269.954 1310.34 L269.954 1306.41 Z\" fill=\"#000000\" fill-rule=\"nonzero\" fill-opacity=\"1\" /><path clip-path=\"url(#clip000)\" d=\"M309.305 1278.86 Q305.694 1278.86 303.866 1282.43 Q302.06 1285.97 302.06 1293.1 Q302.06 1300.2 303.866 1303.77 Q305.694 1307.31 309.305 1307.31 Q312.94 1307.31 314.745 1303.77 Q316.574 1300.2 316.574 1293.1 Q316.574 1285.97 314.745 1282.43 Q312.94 1278.86 309.305 1278.86 M309.305 1275.16 Q315.116 1275.16 318.171 1279.76 Q321.25 1284.35 321.25 1293.1 Q321.25 1301.82 318.171 1306.43 Q315.116 1311.01 309.305 1311.01 Q303.495 1311.01 300.417 1306.43 Q297.361 1301.82 297.361 1293.1 Q297.361 1284.35 300.417 1279.76 Q303.495 1275.16 309.305 1275.16 Z\" fill=\"#000000\" fill-rule=\"nonzero\" fill-opacity=\"1\" /><path clip-path=\"url(#clip000)\" d=\"M321.25 1269.26 L345.361 1269.26 L345.361 1272.46 L321.25 1272.46 L321.25 1269.26 Z\" fill=\"#000000\" fill-rule=\"nonzero\" fill-opacity=\"1\" /><path clip-path=\"url(#clip000)\" d=\"M354.22 1279.74 L360.426 1279.74 L360.426 1258.31 L353.674 1259.67 L353.674 1256.21 L360.389 1254.85 L364.188 1254.85 L364.188 1279.74 L370.394 1279.74 L370.394 1282.93 L354.22 1282.93 L354.22 1279.74 Z\" fill=\"#000000\" fill-rule=\"nonzero\" fill-opacity=\"1\" /><path clip-path=\"url(#clip000)\" d=\"M388.506 1258.16 L378.914 1273.15 L388.506 1273.15 L388.506 1258.16 M387.51 1254.85 L392.287 1254.85 L392.287 1273.15 L396.293 1273.15 L396.293 1276.31 L392.287 1276.31 L392.287 1282.93 L388.506 1282.93 L388.506 1276.31 L375.83 1276.31 L375.83 1272.64 L387.51 1254.85 Z\" fill=\"#000000\" fill-rule=\"nonzero\" fill-opacity=\"1\" /><path clip-path=\"url(#clip000)\" d=\"M114.26 1122.42 L143.936 1122.42 L143.936 1126.35 L114.26 1126.35 L114.26 1122.42 Z\" fill=\"#000000\" fill-rule=\"nonzero\" fill-opacity=\"1\" /><path clip-path=\"url(#clip000)\" d=\"M158.056 1135.31 L174.376 1135.31 L174.376 1139.25 L152.431 1139.25 L152.431 1135.31 Q155.093 1132.56 159.677 1127.93 Q164.283 1123.27 165.464 1121.93 Q167.709 1119.41 168.589 1117.67 Q169.491 1115.91 169.491 1114.22 Q169.491 1111.47 167.547 1109.73 Q165.626 1108 162.524 1108 Q160.325 1108 157.871 1108.76 Q155.44 1109.52 152.663 1111.08 L152.663 1106.35 Q155.487 1105.22 157.94 1104.64 Q160.394 1104.06 162.431 1104.06 Q167.802 1104.06 170.996 1106.75 Q174.19 1109.43 174.19 1113.92 Q174.19 1116.05 173.38 1117.97 Q172.593 1119.87 170.487 1122.46 Q169.908 1123.14 166.806 1126.35 Q163.704 1129.55 158.056 1135.31 Z\" fill=\"#000000\" fill-rule=\"nonzero\" fill-opacity=\"1\" /><path clip-path=\"url(#clip000)\" d=\"M184.19 1133.37 L189.075 1133.37 L189.075 1139.25 L184.19 1139.25 L184.19 1133.37 Z\" fill=\"#000000\" fill-rule=\"nonzero\" fill-opacity=\"1\" /><path clip-path=\"url(#clip000)\" d=\"M209.26 1107.77 Q205.649 1107.77 203.82 1111.33 Q202.014 1114.87 202.014 1122 Q202.014 1129.11 203.82 1132.67 Q205.649 1136.21 209.26 1136.21 Q212.894 1136.21 214.699 1132.67 Q216.528 1129.11 216.528 1122 Q216.528 1114.87 214.699 1111.33 Q212.894 1107.77 209.26 1107.77 M209.26 1104.06 Q215.07 1104.06 218.125 1108.67 Q221.204 1113.25 221.204 1122 Q221.204 1130.73 218.125 1135.33 Q215.07 1139.92 209.26 1139.92 Q203.449 1139.92 200.371 1135.33 Q197.315 1130.73 197.315 1122 Q197.315 1113.25 200.371 1108.67 Q203.449 1104.06 209.26 1104.06 Z\" fill=\"#000000\" fill-rule=\"nonzero\" fill-opacity=\"1\" /><path clip-path=\"url(#clip000)\" d=\"M257.593 1113.78 L247.014 1124.41 L257.593 1134.99 L254.838 1137.79 L244.213 1127.16 L233.588 1137.79 L230.857 1134.99 L241.412 1124.41 L230.857 1113.78 L233.588 1110.98 L244.213 1121.61 L254.838 1110.98 L257.593 1113.78 Z\" fill=\"#000000\" fill-rule=\"nonzero\" fill-opacity=\"1\" /><path clip-path=\"url(#clip000)\" d=\"M269.954 1135.31 L277.593 1135.31 L277.593 1108.95 L269.282 1110.61 L269.282 1106.35 L277.546 1104.69 L282.222 1104.69 L282.222 1135.31 L289.861 1135.31 L289.861 1139.25 L269.954 1139.25 L269.954 1135.31 Z\" fill=\"#000000\" fill-rule=\"nonzero\" fill-opacity=\"1\" /><path clip-path=\"url(#clip000)\" d=\"M309.305 1107.77 Q305.694 1107.77 303.866 1111.33 Q302.06 1114.87 302.06 1122 Q302.06 1129.11 303.866 1132.67 Q305.694 1136.21 309.305 1136.21 Q312.94 1136.21 314.745 1132.67 Q316.574 1129.11 316.574 1122 Q316.574 1114.87 314.745 1111.33 Q312.94 1107.77 309.305 1107.77 M309.305 1104.06 Q315.116 1104.06 318.171 1108.67 Q321.25 1113.25 321.25 1122 Q321.25 1130.73 318.171 1135.33 Q315.116 1139.92 309.305 1139.92 Q303.495 1139.92 300.417 1135.33 Q297.361 1130.73 297.361 1122 Q297.361 1113.25 300.417 1108.67 Q303.495 1104.06 309.305 1104.06 Z\" fill=\"#000000\" fill-rule=\"nonzero\" fill-opacity=\"1\" /><path clip-path=\"url(#clip000)\" d=\"M321.25 1098.16 L345.361 1098.16 L345.361 1101.36 L321.25 1101.36 L321.25 1098.16 Z\" fill=\"#000000\" fill-rule=\"nonzero\" fill-opacity=\"1\" /><path clip-path=\"url(#clip000)\" d=\"M354.22 1108.64 L360.426 1108.64 L360.426 1087.22 L353.674 1088.57 L353.674 1085.11 L360.389 1083.76 L364.188 1083.76 L364.188 1108.64 L370.394 1108.64 L370.394 1111.84 L354.22 1111.84 L354.22 1108.64 Z\" fill=\"#000000\" fill-rule=\"nonzero\" fill-opacity=\"1\" /><path clip-path=\"url(#clip000)\" d=\"M388.506 1087.07 L378.914 1102.06 L388.506 1102.06 L388.506 1087.07 M387.51 1083.76 L392.287 1083.76 L392.287 1102.06 L396.293 1102.06 L396.293 1105.22 L392.287 1105.22 L392.287 1111.84 L388.506 1111.84 L388.506 1105.22 L375.83 1105.22 L375.83 1101.55 L387.51 1083.76 Z\" fill=\"#000000\" fill-rule=\"nonzero\" fill-opacity=\"1\" /><path clip-path=\"url(#clip000)\" d=\"M114.26 951.321 L143.936 951.321 L143.936 955.257 L114.26 955.257 L114.26 951.321 Z\" fill=\"#000000\" fill-rule=\"nonzero\" fill-opacity=\"1\" /><path clip-path=\"url(#clip000)\" d=\"M154.839 964.215 L162.477 964.215 L162.477 937.849 L154.167 939.516 L154.167 935.257 L162.431 933.59 L167.107 933.59 L167.107 964.215 L174.746 964.215 L174.746 968.15 L154.839 968.15 L154.839 964.215 Z\" fill=\"#000000\" fill-rule=\"nonzero\" fill-opacity=\"1\" /><path clip-path=\"url(#clip000)\" d=\"M184.19 962.27 L189.075 962.27 L189.075 968.15 L184.19 968.15 L184.19 962.27 Z\" fill=\"#000000\" fill-rule=\"nonzero\" fill-opacity=\"1\" /><path clip-path=\"url(#clip000)\" d=\"M209.26 936.669 Q205.649 936.669 203.82 940.234 Q202.014 943.775 202.014 950.905 Q202.014 958.011 203.82 961.576 Q205.649 965.118 209.26 965.118 Q212.894 965.118 214.699 961.576 Q216.528 958.011 216.528 950.905 Q216.528 943.775 214.699 940.234 Q212.894 936.669 209.26 936.669 M209.26 932.965 Q215.07 932.965 218.125 937.572 Q221.204 942.155 221.204 950.905 Q221.204 959.632 218.125 964.238 Q215.07 968.821 209.26 968.821 Q203.449 968.821 200.371 964.238 Q197.315 959.632 197.315 950.905 Q197.315 942.155 200.371 937.572 Q203.449 932.965 209.26 932.965 Z\" fill=\"#000000\" fill-rule=\"nonzero\" fill-opacity=\"1\" /><path clip-path=\"url(#clip000)\" d=\"M257.593 942.687 L247.014 953.312 L257.593 963.891 L254.838 966.692 L244.213 956.067 L233.588 966.692 L230.857 963.891 L241.412 953.312 L230.857 942.687 L233.588 939.886 L244.213 950.511 L254.838 939.886 L257.593 942.687 Z\" fill=\"#000000\" fill-rule=\"nonzero\" fill-opacity=\"1\" /><path clip-path=\"url(#clip000)\" d=\"M269.954 964.215 L277.593 964.215 L277.593 937.849 L269.282 939.516 L269.282 935.257 L277.546 933.59 L282.222 933.59 L282.222 964.215 L289.861 964.215 L289.861 968.15 L269.954 968.15 L269.954 964.215 Z\" fill=\"#000000\" fill-rule=\"nonzero\" fill-opacity=\"1\" /><path clip-path=\"url(#clip000)\" d=\"M309.305 936.669 Q305.694 936.669 303.866 940.234 Q302.06 943.775 302.06 950.905 Q302.06 958.011 303.866 961.576 Q305.694 965.118 309.305 965.118 Q312.94 965.118 314.745 961.576 Q316.574 958.011 316.574 950.905 Q316.574 943.775 314.745 940.234 Q312.94 936.669 309.305 936.669 M309.305 932.965 Q315.116 932.965 318.171 937.572 Q321.25 942.155 321.25 950.905 Q321.25 959.632 318.171 964.238 Q315.116 968.821 309.305 968.821 Q303.495 968.821 300.417 964.238 Q297.361 959.632 297.361 950.905 Q297.361 942.155 300.417 937.572 Q303.495 932.965 309.305 932.965 Z\" fill=\"#000000\" fill-rule=\"nonzero\" fill-opacity=\"1\" /><path clip-path=\"url(#clip000)\" d=\"M321.25 927.066 L345.361 927.066 L345.361 930.264 L321.25 930.264 L321.25 927.066 Z\" fill=\"#000000\" fill-rule=\"nonzero\" fill-opacity=\"1\" /><path clip-path=\"url(#clip000)\" d=\"M354.22 937.542 L360.426 937.542 L360.426 916.12 L353.674 917.474 L353.674 914.014 L360.389 912.66 L364.188 912.66 L364.188 937.542 L370.394 937.542 L370.394 940.74 L354.22 940.74 L354.22 937.542 Z\" fill=\"#000000\" fill-rule=\"nonzero\" fill-opacity=\"1\" /><path clip-path=\"url(#clip000)\" d=\"M388.506 915.97 L378.914 930.96 L388.506 930.96 L388.506 915.97 M387.51 912.66 L392.287 912.66 L392.287 930.96 L396.293 930.96 L396.293 934.119 L392.287 934.119 L392.287 940.74 L388.506 940.74 L388.506 934.119 L375.83 934.119 L375.83 930.452 L387.51 912.66 Z\" fill=\"#000000\" fill-rule=\"nonzero\" fill-opacity=\"1\" /><path clip-path=\"url(#clip000)\" d=\"M384.348 759.125 Q380.737 759.125 378.909 762.689 Q377.103 766.231 377.103 773.361 Q377.103 780.467 378.909 784.032 Q380.737 787.574 384.348 787.574 Q387.983 787.574 389.788 784.032 Q391.617 780.467 391.617 773.361 Q391.617 766.231 389.788 762.689 Q387.983 759.125 384.348 759.125 M384.348 755.421 Q390.159 755.421 393.214 760.027 Q396.293 764.611 396.293 773.361 Q396.293 782.088 393.214 786.694 Q390.159 791.277 384.348 791.277 Q378.538 791.277 375.46 786.694 Q372.404 782.088 372.404 773.361 Q372.404 764.611 375.46 760.027 Q378.538 755.421 384.348 755.421 Z\" fill=\"#000000\" fill-rule=\"nonzero\" fill-opacity=\"1\" /><path clip-path=\"url(#clip000)\" d=\"M154.839 622.022 L162.477 622.022 L162.477 595.656 L154.167 597.323 L154.167 593.064 L162.431 591.397 L167.107 591.397 L167.107 622.022 L174.746 622.022 L174.746 625.957 L154.839 625.957 L154.839 622.022 Z\" fill=\"#000000\" fill-rule=\"nonzero\" fill-opacity=\"1\" /><path clip-path=\"url(#clip000)\" d=\"M184.19 620.077 L189.075 620.077 L189.075 625.957 L184.19 625.957 L184.19 620.077 Z\" fill=\"#000000\" fill-rule=\"nonzero\" fill-opacity=\"1\" /><path clip-path=\"url(#clip000)\" d=\"M209.26 594.476 Q205.649 594.476 203.82 598.041 Q202.014 601.582 202.014 608.712 Q202.014 615.818 203.82 619.383 Q205.649 622.925 209.26 622.925 Q212.894 622.925 214.699 619.383 Q216.528 615.818 216.528 608.712 Q216.528 601.582 214.699 598.041 Q212.894 594.476 209.26 594.476 M209.26 590.772 Q215.07 590.772 218.125 595.379 Q221.204 599.962 221.204 608.712 Q221.204 617.439 218.125 622.045 Q215.07 626.628 209.26 626.628 Q203.449 626.628 200.371 622.045 Q197.315 617.439 197.315 608.712 Q197.315 599.962 200.371 595.379 Q203.449 590.772 209.26 590.772 Z\" fill=\"#000000\" fill-rule=\"nonzero\" fill-opacity=\"1\" /><path clip-path=\"url(#clip000)\" d=\"M257.593 600.494 L247.014 611.119 L257.593 621.698 L254.838 624.499 L244.213 613.874 L233.588 624.499 L230.857 621.698 L241.412 611.119 L230.857 600.494 L233.588 597.693 L244.213 608.318 L254.838 597.693 L257.593 600.494 Z\" fill=\"#000000\" fill-rule=\"nonzero\" fill-opacity=\"1\" /><path clip-path=\"url(#clip000)\" d=\"M269.954 622.022 L277.593 622.022 L277.593 595.656 L269.282 597.323 L269.282 593.064 L277.546 591.397 L282.222 591.397 L282.222 622.022 L289.861 622.022 L289.861 625.957 L269.954 625.957 L269.954 622.022 Z\" fill=\"#000000\" fill-rule=\"nonzero\" fill-opacity=\"1\" /><path clip-path=\"url(#clip000)\" d=\"M309.305 594.476 Q305.694 594.476 303.866 598.041 Q302.06 601.582 302.06 608.712 Q302.06 615.818 303.866 619.383 Q305.694 622.925 309.305 622.925 Q312.94 622.925 314.745 619.383 Q316.574 615.818 316.574 608.712 Q316.574 601.582 314.745 598.041 Q312.94 594.476 309.305 594.476 M309.305 590.772 Q315.116 590.772 318.171 595.379 Q321.25 599.962 321.25 608.712 Q321.25 617.439 318.171 622.045 Q315.116 626.628 309.305 626.628 Q303.495 626.628 300.417 622.045 Q297.361 617.439 297.361 608.712 Q297.361 599.962 300.417 595.379 Q303.495 590.772 309.305 590.772 Z\" fill=\"#000000\" fill-rule=\"nonzero\" fill-opacity=\"1\" /><path clip-path=\"url(#clip000)\" d=\"M321.25 584.873 L345.361 584.873 L345.361 588.071 L321.25 588.071 L321.25 584.873 Z\" fill=\"#000000\" fill-rule=\"nonzero\" fill-opacity=\"1\" /><path clip-path=\"url(#clip000)\" d=\"M354.22 595.349 L360.426 595.349 L360.426 573.927 L353.674 575.281 L353.674 571.821 L360.389 570.467 L364.188 570.467 L364.188 595.349 L370.394 595.349 L370.394 598.547 L354.22 598.547 L354.22 595.349 Z\" fill=\"#000000\" fill-rule=\"nonzero\" fill-opacity=\"1\" /><path clip-path=\"url(#clip000)\" d=\"M388.506 573.777 L378.914 588.767 L388.506 588.767 L388.506 573.777 M387.51 570.467 L392.287 570.467 L392.287 588.767 L396.293 588.767 L396.293 591.926 L392.287 591.926 L392.287 598.547 L388.506 598.547 L388.506 591.926 L375.83 591.926 L375.83 588.259 L387.51 570.467 Z\" fill=\"#000000\" fill-rule=\"nonzero\" fill-opacity=\"1\" /><path clip-path=\"url(#clip000)\" d=\"M158.056 450.925 L174.376 450.925 L174.376 454.861 L152.431 454.861 L152.431 450.925 Q155.093 448.171 159.677 443.541 Q164.283 438.888 165.464 437.546 Q167.709 435.023 168.589 433.287 Q169.491 431.527 169.491 429.838 Q169.491 427.083 167.547 425.347 Q165.626 423.611 162.524 423.611 Q160.325 423.611 157.871 424.375 Q155.44 425.139 152.663 426.689 L152.663 421.967 Q155.487 420.833 157.94 420.254 Q160.394 419.676 162.431 419.676 Q167.802 419.676 170.996 422.361 Q174.19 425.046 174.19 429.537 Q174.19 431.666 173.38 433.588 Q172.593 435.486 170.487 438.078 Q169.908 438.75 166.806 441.967 Q163.704 445.162 158.056 450.925 Z\" fill=\"#000000\" fill-rule=\"nonzero\" fill-opacity=\"1\" /><path clip-path=\"url(#clip000)\" d=\"M184.19 448.981 L189.075 448.981 L189.075 454.861 L184.19 454.861 L184.19 448.981 Z\" fill=\"#000000\" fill-rule=\"nonzero\" fill-opacity=\"1\" /><path clip-path=\"url(#clip000)\" d=\"M209.26 423.379 Q205.649 423.379 203.82 426.944 Q202.014 430.486 202.014 437.615 Q202.014 444.722 203.82 448.287 Q205.649 451.828 209.26 451.828 Q212.894 451.828 214.699 448.287 Q216.528 444.722 216.528 437.615 Q216.528 430.486 214.699 426.944 Q212.894 423.379 209.26 423.379 M209.26 419.676 Q215.07 419.676 218.125 424.282 Q221.204 428.865 221.204 437.615 Q221.204 446.342 218.125 450.949 Q215.07 455.532 209.26 455.532 Q203.449 455.532 200.371 450.949 Q197.315 446.342 197.315 437.615 Q197.315 428.865 200.371 424.282 Q203.449 419.676 209.26 419.676 Z\" fill=\"#000000\" fill-rule=\"nonzero\" fill-opacity=\"1\" /><path clip-path=\"url(#clip000)\" d=\"M257.593 429.398 L247.014 440.023 L257.593 450.601 L254.838 453.402 L244.213 442.777 L233.588 453.402 L230.857 450.601 L241.412 440.023 L230.857 429.398 L233.588 426.597 L244.213 437.222 L254.838 426.597 L257.593 429.398 Z\" fill=\"#000000\" fill-rule=\"nonzero\" fill-opacity=\"1\" /><path clip-path=\"url(#clip000)\" d=\"M269.954 450.925 L277.593 450.925 L277.593 424.56 L269.282 426.226 L269.282 421.967 L277.546 420.301 L282.222 420.301 L282.222 450.925 L289.861 450.925 L289.861 454.861 L269.954 454.861 L269.954 450.925 Z\" fill=\"#000000\" fill-rule=\"nonzero\" fill-opacity=\"1\" /><path clip-path=\"url(#clip000)\" d=\"M309.305 423.379 Q305.694 423.379 303.866 426.944 Q302.06 430.486 302.06 437.615 Q302.06 444.722 303.866 448.287 Q305.694 451.828 309.305 451.828 Q312.94 451.828 314.745 448.287 Q316.574 444.722 316.574 437.615 Q316.574 430.486 314.745 426.944 Q312.94 423.379 309.305 423.379 M309.305 419.676 Q315.116 419.676 318.171 424.282 Q321.25 428.865 321.25 437.615 Q321.25 446.342 318.171 450.949 Q315.116 455.532 309.305 455.532 Q303.495 455.532 300.417 450.949 Q297.361 446.342 297.361 437.615 Q297.361 428.865 300.417 424.282 Q303.495 419.676 309.305 419.676 Z\" fill=\"#000000\" fill-rule=\"nonzero\" fill-opacity=\"1\" /><path clip-path=\"url(#clip000)\" d=\"M321.25 413.777 L345.361 413.777 L345.361 416.974 L321.25 416.974 L321.25 413.777 Z\" fill=\"#000000\" fill-rule=\"nonzero\" fill-opacity=\"1\" /><path clip-path=\"url(#clip000)\" d=\"M354.22 424.253 L360.426 424.253 L360.426 402.831 L353.674 404.185 L353.674 400.724 L360.389 399.37 L364.188 399.37 L364.188 424.253 L370.394 424.253 L370.394 427.45 L354.22 427.45 L354.22 424.253 Z\" fill=\"#000000\" fill-rule=\"nonzero\" fill-opacity=\"1\" /><path clip-path=\"url(#clip000)\" d=\"M388.506 402.68 L378.914 417.67 L388.506 417.67 L388.506 402.68 M387.51 399.37 L392.287 399.37 L392.287 417.67 L396.293 417.67 L396.293 420.83 L392.287 420.83 L392.287 427.45 L388.506 427.45 L388.506 420.83 L375.83 420.83 L375.83 417.162 L387.51 399.37 Z\" fill=\"#000000\" fill-rule=\"nonzero\" fill-opacity=\"1\" /><path clip-path=\"url(#clip000)\" d=\"M168.195 265.13 Q171.552 265.848 173.427 268.116 Q175.325 270.385 175.325 273.718 Q175.325 278.834 171.806 281.634 Q168.288 284.435 161.806 284.435 Q159.63 284.435 157.315 283.996 Q155.024 283.579 152.57 282.722 L152.57 278.209 Q154.515 279.343 156.829 279.922 Q159.144 280.5 161.667 280.5 Q166.065 280.5 168.357 278.764 Q170.672 277.028 170.672 273.718 Q170.672 270.662 168.519 268.949 Q166.39 267.213 162.57 267.213 L158.542 267.213 L158.542 263.371 L162.755 263.371 Q166.204 263.371 168.033 262.005 Q169.862 260.616 169.862 258.023 Q169.862 255.361 167.964 253.949 Q166.089 252.514 162.57 252.514 Q160.649 252.514 158.45 252.931 Q156.251 253.348 153.612 254.227 L153.612 250.061 Q156.274 249.32 158.589 248.949 Q160.927 248.579 162.987 248.579 Q168.311 248.579 171.413 251.01 Q174.514 253.417 174.514 257.537 Q174.514 260.408 172.871 262.398 Q171.227 264.366 168.195 265.13 Z\" fill=\"#000000\" fill-rule=\"nonzero\" fill-opacity=\"1\" /><path clip-path=\"url(#clip000)\" d=\"M184.19 277.884 L189.075 277.884 L189.075 283.764 L184.19 283.764 L184.19 277.884 Z\" fill=\"#000000\" fill-rule=\"nonzero\" fill-opacity=\"1\" /><path clip-path=\"url(#clip000)\" d=\"M209.26 252.283 Q205.649 252.283 203.82 255.848 Q202.014 259.389 202.014 266.519 Q202.014 273.625 203.82 277.19 Q205.649 280.732 209.26 280.732 Q212.894 280.732 214.699 277.19 Q216.528 273.625 216.528 266.519 Q216.528 259.389 214.699 255.848 Q212.894 252.283 209.26 252.283 M209.26 248.579 Q215.07 248.579 218.125 253.186 Q221.204 257.769 221.204 266.519 Q221.204 275.246 218.125 279.852 Q215.07 284.435 209.26 284.435 Q203.449 284.435 200.371 279.852 Q197.315 275.246 197.315 266.519 Q197.315 257.769 200.371 253.186 Q203.449 248.579 209.26 248.579 Z\" fill=\"#000000\" fill-rule=\"nonzero\" fill-opacity=\"1\" /><path clip-path=\"url(#clip000)\" d=\"M257.593 258.301 L247.014 268.926 L257.593 279.505 L254.838 282.306 L244.213 271.681 L233.588 282.306 L230.857 279.505 L241.412 268.926 L230.857 258.301 L233.588 255.5 L244.213 266.125 L254.838 255.5 L257.593 258.301 Z\" fill=\"#000000\" fill-rule=\"nonzero\" fill-opacity=\"1\" /><path clip-path=\"url(#clip000)\" d=\"M269.954 279.829 L277.593 279.829 L277.593 253.463 L269.282 255.13 L269.282 250.871 L277.546 249.204 L282.222 249.204 L282.222 279.829 L289.861 279.829 L289.861 283.764 L269.954 283.764 L269.954 279.829 Z\" fill=\"#000000\" fill-rule=\"nonzero\" fill-opacity=\"1\" /><path clip-path=\"url(#clip000)\" d=\"M309.305 252.283 Q305.694 252.283 303.866 255.848 Q302.06 259.389 302.06 266.519 Q302.06 273.625 303.866 277.19 Q305.694 280.732 309.305 280.732 Q312.94 280.732 314.745 277.19 Q316.574 273.625 316.574 266.519 Q316.574 259.389 314.745 255.848 Q312.94 252.283 309.305 252.283 M309.305 248.579 Q315.116 248.579 318.171 253.186 Q321.25 257.769 321.25 266.519 Q321.25 275.246 318.171 279.852 Q315.116 284.435 309.305 284.435 Q303.495 284.435 300.417 279.852 Q297.361 275.246 297.361 266.519 Q297.361 257.769 300.417 253.186 Q303.495 248.579 309.305 248.579 Z\" fill=\"#000000\" fill-rule=\"nonzero\" fill-opacity=\"1\" /><path clip-path=\"url(#clip000)\" d=\"M321.25 242.68 L345.361 242.68 L345.361 245.878 L321.25 245.878 L321.25 242.68 Z\" fill=\"#000000\" fill-rule=\"nonzero\" fill-opacity=\"1\" /><path clip-path=\"url(#clip000)\" d=\"M354.22 253.156 L360.426 253.156 L360.426 231.734 L353.674 233.088 L353.674 229.628 L360.389 228.274 L364.188 228.274 L364.188 253.156 L370.394 253.156 L370.394 256.354 L354.22 256.354 L354.22 253.156 Z\" fill=\"#000000\" fill-rule=\"nonzero\" fill-opacity=\"1\" /><path clip-path=\"url(#clip000)\" d=\"M388.506 231.584 L378.914 246.574 L388.506 246.574 L388.506 231.584 M387.51 228.274 L392.287 228.274 L392.287 246.574 L396.293 246.574 L396.293 249.733 L392.287 249.733 L392.287 256.354 L388.506 256.354 L388.506 249.733 L375.83 249.733 L375.83 246.066 L387.51 228.274 Z\" fill=\"#000000\" fill-rule=\"nonzero\" fill-opacity=\"1\" /><path clip-path=\"url(#clip000)\" d=\"M67.3143 771.639 Q73.68 774.122 75.6216 776.477 Q77.5631 778.832 77.5631 782.779 L77.5631 787.458 L72.6615 787.458 L72.6615 784.02 Q72.6615 781.601 71.5157 780.265 Q70.3699 778.928 66.1048 777.305 L63.4312 776.254 L28.3562 790.673 L28.3562 784.466 L56.238 773.326 L28.3562 762.186 L28.3562 755.979 L67.3143 771.639 Z\" fill=\"#000000\" fill-rule=\"nonzero\" fill-opacity=\"1\" /><path clip-path=\"url(#clip000)\" d=\"M992.315 18.8205 L992.315 41.5461 L1002.6 41.5461 Q1008.32 41.5461 1011.44 38.5889 Q1014.55 35.6318 1014.55 30.163 Q1014.55 24.7348 1011.44 21.7777 Q1008.32 18.8205 1002.6 18.8205 L992.315 18.8205 M984.132 12.096 L1002.6 12.096 Q1012.77 12.096 1017.96 16.714 Q1023.18 21.2916 1023.18 30.163 Q1023.18 39.1155 1017.96 43.6931 Q1012.77 48.2706 1002.6 48.2706 L992.315 48.2706 L992.315 72.576 L984.132 72.576 L984.132 12.096 Z\" fill=\"#000000\" fill-rule=\"nonzero\" fill-opacity=\"1\" /><path clip-path=\"url(#clip000)\" d=\"M1033.84 9.54393 L1041.29 9.54393 L1041.29 72.576 L1033.84 72.576 L1033.84 9.54393 Z\" fill=\"#000000\" fill-rule=\"nonzero\" fill-opacity=\"1\" /><path clip-path=\"url(#clip000)\" d=\"M1074.47 32.4315 Q1068.47 32.4315 1064.99 37.1306 Q1061.5 41.7891 1061.5 49.9314 Q1061.5 58.0738 1064.95 62.7728 Q1068.43 67.4314 1074.47 67.4314 Q1080.42 67.4314 1083.91 62.7323 Q1087.39 58.0333 1087.39 49.9314 Q1087.39 41.8701 1083.91 37.1711 Q1080.42 32.4315 1074.47 32.4315 M1074.47 26.1121 Q1084.19 26.1121 1089.74 32.4315 Q1095.29 38.7509 1095.29 49.9314 Q1095.29 61.0714 1089.74 67.4314 Q1084.19 73.7508 1074.47 73.7508 Q1064.7 73.7508 1059.16 67.4314 Q1053.65 61.0714 1053.65 49.9314 Q1053.65 38.7509 1059.16 32.4315 Q1064.7 26.1121 1074.47 26.1121 Z\" fill=\"#000000\" fill-rule=\"nonzero\" fill-opacity=\"1\" /><path clip-path=\"url(#clip000)\" d=\"M1115.02 14.324 L1115.02 27.2059 L1130.37 27.2059 L1130.37 32.9987 L1115.02 32.9987 L1115.02 57.6282 Q1115.02 63.1779 1116.52 64.7578 Q1118.06 66.3376 1122.71 66.3376 L1130.37 66.3376 L1130.37 72.576 L1122.71 72.576 Q1114.09 72.576 1110.8 69.3758 Q1107.52 66.1351 1107.52 57.6282 L1107.52 32.9987 L1102.05 32.9987 L1102.05 27.2059 L1107.52 27.2059 L1107.52 14.324 L1115.02 14.324 Z\" fill=\"#000000\" fill-rule=\"nonzero\" fill-opacity=\"1\" /><path clip-path=\"url(#clip000)\" d=\"M1184.13 32.4315 Q1178.13 32.4315 1174.65 37.1306 Q1171.16 41.7891 1171.16 49.9314 Q1171.16 58.0738 1174.61 62.7728 Q1178.09 67.4314 1184.13 67.4314 Q1190.08 67.4314 1193.56 62.7323 Q1197.05 58.0333 1197.05 49.9314 Q1197.05 41.8701 1193.56 37.1711 Q1190.08 32.4315 1184.13 32.4315 M1184.13 26.1121 Q1193.85 26.1121 1199.4 32.4315 Q1204.95 38.7509 1204.95 49.9314 Q1204.95 61.0714 1199.4 67.4314 Q1193.85 73.7508 1184.13 73.7508 Q1174.36 73.7508 1168.81 67.4314 Q1163.3 61.0714 1163.3 49.9314 Q1163.3 38.7509 1168.81 32.4315 Q1174.36 26.1121 1184.13 26.1121 Z\" fill=\"#000000\" fill-rule=\"nonzero\" fill-opacity=\"1\" /><path clip-path=\"url(#clip000)\" d=\"M1240.27 9.54393 L1240.27 15.7418 L1233.14 15.7418 Q1229.13 15.7418 1227.55 17.3622 Q1226.01 18.9825 1226.01 23.1955 L1226.01 27.2059 L1238.29 27.2059 L1238.29 32.9987 L1226.01 32.9987 L1226.01 72.576 L1218.52 72.576 L1218.52 32.9987 L1211.39 32.9987 L1211.39 27.2059 L1218.52 27.2059 L1218.52 24.0462 Q1218.52 16.471 1222.04 13.0277 Q1225.57 9.54393 1233.22 9.54393 L1240.27 9.54393 Z\" fill=\"#000000\" fill-rule=\"nonzero\" fill-opacity=\"1\" /><path clip-path=\"url(#clip000)\" d=\"M1291.76 76.7889 Q1288.6 84.8907 1285.6 87.3618 Q1282.6 89.8329 1277.58 89.8329 L1271.63 89.8329 L1271.63 83.5945 L1276 83.5945 Q1279.08 83.5945 1280.78 82.1361 Q1282.48 80.6778 1284.55 75.2496 L1285.88 71.8468 L1267.53 27.2059 L1275.43 27.2059 L1289.61 62.6918 L1303.79 27.2059 L1311.69 27.2059 L1291.76 76.7889 Z\" fill=\"#000000\" fill-rule=\"nonzero\" fill-opacity=\"1\" /><path clip-path=\"url(#clip000)\" d=\"M1349.32 34.9026 L1401.25 34.9026 L1401.25 41.7081 L1349.32 41.7081 L1349.32 34.9026 M1349.32 51.4303 L1401.25 51.4303 L1401.25 58.3168 L1349.32 58.3168 L1349.32 51.4303 Z\" fill=\"#000000\" fill-rule=\"nonzero\" fill-opacity=\"1\" /><path clip-path=\"url(#clip000)\" d=\"M1462.14 9.62495 Q1456.71 18.942 1454.08 28.0566 Q1451.44 37.1711 1451.44 46.5287 Q1451.44 55.8863 1454.08 65.0818 Q1456.75 74.2369 1462.14 83.5134 L1455.66 83.5134 Q1449.58 73.9938 1446.54 64.7983 Q1443.55 55.6027 1443.55 46.5287 Q1443.55 37.4952 1446.54 28.3401 Q1449.54 19.1851 1455.66 9.62495 L1462.14 9.62495 Z\" fill=\"#000000\" fill-rule=\"nonzero\" fill-opacity=\"1\" /><path clip-path=\"url(#clip000)\" d=\"M1514.31 27.2059 L1497.91 49.2833 L1515.17 72.576 L1506.38 72.576 L1493.17 54.752 L1479.96 72.576 L1471.17 72.576 L1488.79 48.8377 L1472.67 27.2059 L1481.46 27.2059 L1493.49 43.369 L1505.52 27.2059 L1514.31 27.2059 Z\" fill=\"#000000\" fill-rule=\"nonzero\" fill-opacity=\"1\" /><path clip-path=\"url(#clip000)\" d=\"M1548.3 46.5287 L1570.14 46.5287 L1570.14 53.1722 L1548.3 53.1722 L1548.3 46.5287 Z\" fill=\"#000000\" fill-rule=\"nonzero\" fill-opacity=\"1\" /><path clip-path=\"url(#clip000)\" d=\"M1610.85 65.6895 L1624.22 65.6895 L1624.22 19.5497 L1609.67 22.4663 L1609.67 15.0127 L1624.13 12.096 L1632.32 12.096 L1632.32 65.6895 L1645.69 65.6895 L1645.69 72.576 L1610.85 72.576 L1610.85 65.6895 Z\" fill=\"#000000\" fill-rule=\"nonzero\" fill-opacity=\"1\" /><path clip-path=\"url(#clip000)\" d=\"M1659.99 9.62495 L1666.47 9.62495 Q1672.54 19.1851 1675.54 28.3401 Q1678.58 37.4952 1678.58 46.5287 Q1678.58 55.6027 1675.54 64.7983 Q1672.54 73.9938 1666.47 83.5134 L1659.99 83.5134 Q1665.37 74.2369 1668.01 65.0818 Q1670.68 55.8863 1670.68 46.5287 Q1670.68 37.1711 1668.01 28.0566 Q1665.37 18.942 1659.99 9.62495 Z\" fill=\"#000000\" fill-rule=\"nonzero\" fill-opacity=\"1\" /><path clip-path=\"url(#clip000)\" d=\"M1724.44 12.096 L1746.43 34.6595 L1738.29 34.6595 L1720.47 18.6585 L1702.64 34.6595 L1694.5 34.6595 L1716.5 12.096 L1724.44 12.096 Z\" fill=\"#000000\" fill-rule=\"nonzero\" fill-opacity=\"1\" /><path clip-path=\"url(#clip000)\" d=\"M1762.03 12.096 L1800.92 12.096 L1800.92 15.5798 L1778.96 72.576 L1770.41 72.576 L1791.07 18.9825 L1762.03 18.9825 L1762.03 12.096 Z\" fill=\"#000000\" fill-rule=\"nonzero\" fill-opacity=\"1\" /><polyline clip-path=\"url(#clip002)\" style=\"stroke:#009af9; stroke-linecap:round; stroke-linejoin:round; stroke-width:4; stroke-opacity:1; fill:none\" points=\"486.646,1386.4 562.135,1106.74 637.625,944.422 713.115,855.161 788.605,809.208 864.095,787.417 939.585,778.116 1015.07,774.663 1090.56,773.606 1166.05,773.363 1241.54,773.328 1317.03,773.326 1392.52,773.326 1468.01,773.326 1543.5,773.324 1618.99,773.289 1694.48,773.046 1769.97,771.989 1845.46,768.536 1920.95,759.235 1996.44,737.444 2071.93,691.491 2147.42,602.229 2222.91,439.907 2298.4,160.256 \"/>\n",
       "<path clip-path=\"url(#clip000)\" d=\"M496.308 270.476 L740.785 270.476 L740.785 166.796 L496.308 166.796  Z\" fill=\"#ffffff\" fill-rule=\"evenodd\" fill-opacity=\"1\"/>\n",
       "<polyline clip-path=\"url(#clip000)\" style=\"stroke:#000000; stroke-linecap:round; stroke-linejoin:round; stroke-width:4; stroke-opacity:1; fill:none\" points=\"496.308,270.476 740.785,270.476 740.785,166.796 496.308,166.796 496.308,270.476 \"/>\n",
       "<polyline clip-path=\"url(#clip000)\" style=\"stroke:#009af9; stroke-linecap:round; stroke-linejoin:round; stroke-width:4; stroke-opacity:1; fill:none\" points=\"517.647,218.636 645.678,218.636 \"/>\n",
       "<path clip-path=\"url(#clip000)\" d=\"M680.859 238.323 Q679.053 242.953 677.34 244.365 Q675.627 245.777 672.757 245.777 L669.354 245.777 L669.354 242.212 L671.854 242.212 Q673.613 242.212 674.585 241.379 Q675.558 240.545 676.738 237.443 L677.502 235.499 L667.016 209.99 L671.53 209.99 L679.632 230.268 L687.734 209.99 L692.247 209.99 L680.859 238.323 Z\" fill=\"#000000\" fill-rule=\"nonzero\" fill-opacity=\"1\" /><path clip-path=\"url(#clip000)\" d=\"M699.539 231.981 L707.178 231.981 L707.178 205.615 L698.868 207.282 L698.868 203.022 L707.132 201.356 L711.807 201.356 L711.807 231.981 L719.446 231.981 L719.446 235.916 L699.539 235.916 L699.539 231.981 Z\" fill=\"#000000\" fill-rule=\"nonzero\" fill-opacity=\"1\" /></svg>\n"
      ],
      "text/html": [
       "<?xml version=\"1.0\" encoding=\"utf-8\"?>\n",
       "<svg xmlns=\"http://www.w3.org/2000/svg\" xmlns:xlink=\"http://www.w3.org/1999/xlink\" width=\"600\" height=\"400\" viewBox=\"0 0 2400 1600\">\n",
       "<defs>\n",
       "  <clipPath id=\"clip050\">\n",
       "    <rect x=\"0\" y=\"0\" width=\"2400\" height=\"1600\"/>\n",
       "  </clipPath>\n",
       "</defs>\n",
       "<path clip-path=\"url(#clip050)\" d=\"M0 1600 L2400 1600 L2400 8.88178e-14 L0 8.88178e-14  Z\" fill=\"#ffffff\" fill-rule=\"evenodd\" fill-opacity=\"1\"/>\n",
       "<defs>\n",
       "  <clipPath id=\"clip051\">\n",
       "    <rect x=\"480\" y=\"0\" width=\"1681\" height=\"1600\"/>\n",
       "  </clipPath>\n",
       "</defs>\n",
       "<path clip-path=\"url(#clip050)\" d=\"M432.293 1423.18 L2352.76 1423.18 L2352.76 123.472 L432.293 123.472  Z\" fill=\"#ffffff\" fill-rule=\"evenodd\" fill-opacity=\"1\"/>\n",
       "<defs>\n",
       "  <clipPath id=\"clip052\">\n",
       "    <rect x=\"432\" y=\"123\" width=\"1921\" height=\"1301\"/>\n",
       "  </clipPath>\n",
       "</defs>\n",
       "<polyline clip-path=\"url(#clip052)\" style=\"stroke:#000000; stroke-linecap:round; stroke-linejoin:round; stroke-width:2; stroke-opacity:0.1; fill:none\" points=\"637.625,1423.18 637.625,123.472 \"/>\n",
       "<polyline clip-path=\"url(#clip052)\" style=\"stroke:#000000; stroke-linecap:round; stroke-linejoin:round; stroke-width:2; stroke-opacity:0.1; fill:none\" points=\"1015.07,1423.18 1015.07,123.472 \"/>\n",
       "<polyline clip-path=\"url(#clip052)\" style=\"stroke:#000000; stroke-linecap:round; stroke-linejoin:round; stroke-width:2; stroke-opacity:0.1; fill:none\" points=\"1392.52,1423.18 1392.52,123.472 \"/>\n",
       "<polyline clip-path=\"url(#clip052)\" style=\"stroke:#000000; stroke-linecap:round; stroke-linejoin:round; stroke-width:2; stroke-opacity:0.1; fill:none\" points=\"1769.97,1423.18 1769.97,123.472 \"/>\n",
       "<polyline clip-path=\"url(#clip052)\" style=\"stroke:#000000; stroke-linecap:round; stroke-linejoin:round; stroke-width:2; stroke-opacity:0.1; fill:none\" points=\"2147.42,1423.18 2147.42,123.472 \"/>\n",
       "<polyline clip-path=\"url(#clip050)\" style=\"stroke:#000000; stroke-linecap:round; stroke-linejoin:round; stroke-width:4; stroke-opacity:1; fill:none\" points=\"432.293,1423.18 2352.76,1423.18 \"/>\n",
       "<polyline clip-path=\"url(#clip050)\" style=\"stroke:#000000; stroke-linecap:round; stroke-linejoin:round; stroke-width:4; stroke-opacity:1; fill:none\" points=\"637.625,1423.18 637.625,1404.28 \"/>\n",
       "<polyline clip-path=\"url(#clip050)\" style=\"stroke:#000000; stroke-linecap:round; stroke-linejoin:round; stroke-width:4; stroke-opacity:1; fill:none\" points=\"1015.07,1423.18 1015.07,1404.28 \"/>\n",
       "<polyline clip-path=\"url(#clip050)\" style=\"stroke:#000000; stroke-linecap:round; stroke-linejoin:round; stroke-width:4; stroke-opacity:1; fill:none\" points=\"1392.52,1423.18 1392.52,1404.28 \"/>\n",
       "<polyline clip-path=\"url(#clip050)\" style=\"stroke:#000000; stroke-linecap:round; stroke-linejoin:round; stroke-width:4; stroke-opacity:1; fill:none\" points=\"1769.97,1423.18 1769.97,1404.28 \"/>\n",
       "<polyline clip-path=\"url(#clip050)\" style=\"stroke:#000000; stroke-linecap:round; stroke-linejoin:round; stroke-width:4; stroke-opacity:1; fill:none\" points=\"2147.42,1423.18 2147.42,1404.28 \"/>\n",
       "<path clip-path=\"url(#clip050)\" d=\"M584.848 1454.1 Q581.237 1454.1 579.408 1457.66 Q577.602 1461.2 577.602 1468.33 Q577.602 1475.44 579.408 1479.01 Q581.237 1482.55 584.848 1482.55 Q588.482 1482.55 590.288 1479.01 Q592.116 1475.44 592.116 1468.33 Q592.116 1461.2 590.288 1457.66 Q588.482 1454.1 584.848 1454.1 M584.848 1450.39 Q590.658 1450.39 593.714 1455 Q596.792 1459.58 596.792 1468.33 Q596.792 1477.06 593.714 1481.67 Q590.658 1486.25 584.848 1486.25 Q579.038 1486.25 575.959 1481.67 Q572.903 1477.06 572.903 1468.33 Q572.903 1459.58 575.959 1455 Q579.038 1450.39 584.848 1450.39 Z\" fill=\"#000000\" fill-rule=\"nonzero\" fill-opacity=\"1\" /><path clip-path=\"url(#clip050)\" d=\"M605.01 1479.7 L609.894 1479.7 L609.894 1485.58 L605.01 1485.58 L605.01 1479.7 Z\" fill=\"#000000\" fill-rule=\"nonzero\" fill-opacity=\"1\" /><path clip-path=\"url(#clip050)\" d=\"M620.218 1484.86 L620.218 1480.6 Q621.977 1481.44 623.783 1481.88 Q625.588 1482.32 627.324 1482.32 Q631.954 1482.32 634.385 1479.21 Q636.838 1476.09 637.186 1469.75 Q635.843 1471.74 633.783 1472.8 Q631.723 1473.87 629.223 1473.87 Q624.037 1473.87 621.005 1470.74 Q617.996 1467.59 617.996 1462.15 Q617.996 1456.83 621.144 1453.61 Q624.292 1450.39 629.524 1450.39 Q635.519 1450.39 638.667 1455 Q641.838 1459.58 641.838 1468.33 Q641.838 1476.51 637.949 1481.39 Q634.084 1486.25 627.533 1486.25 Q625.774 1486.25 623.968 1485.9 Q622.162 1485.56 620.218 1484.86 M629.524 1470.21 Q632.672 1470.21 634.5 1468.06 Q636.352 1465.9 636.352 1462.15 Q636.352 1458.43 634.5 1456.27 Q632.672 1454.1 629.524 1454.1 Q626.375 1454.1 624.524 1456.27 Q622.695 1458.43 622.695 1462.15 Q622.695 1465.9 624.524 1468.06 Q626.375 1470.21 629.524 1470.21 Z\" fill=\"#000000\" fill-rule=\"nonzero\" fill-opacity=\"1\" /><path clip-path=\"url(#clip050)\" d=\"M650.38 1484.86 L650.38 1480.6 Q652.139 1481.44 653.945 1481.88 Q655.75 1482.32 657.486 1482.32 Q662.116 1482.32 664.546 1479.21 Q667 1476.09 667.347 1469.75 Q666.005 1471.74 663.945 1472.8 Q661.884 1473.87 659.384 1473.87 Q654.199 1473.87 651.167 1470.74 Q648.158 1467.59 648.158 1462.15 Q648.158 1456.83 651.306 1453.61 Q654.454 1450.39 659.685 1450.39 Q665.681 1450.39 668.829 1455 Q672 1459.58 672 1468.33 Q672 1476.51 668.111 1481.39 Q664.246 1486.25 657.695 1486.25 Q655.935 1486.25 654.13 1485.9 Q652.324 1485.56 650.38 1484.86 M659.685 1470.21 Q662.834 1470.21 664.662 1468.06 Q666.514 1465.9 666.514 1462.15 Q666.514 1458.43 664.662 1456.27 Q662.834 1454.1 659.685 1454.1 Q656.537 1454.1 654.685 1456.27 Q652.857 1458.43 652.857 1462.15 Q652.857 1465.9 654.685 1468.06 Q656.537 1470.21 659.685 1470.21 Z\" fill=\"#000000\" fill-rule=\"nonzero\" fill-opacity=\"1\" /><path clip-path=\"url(#clip050)\" d=\"M690.403 1454.1 Q686.792 1454.1 684.963 1457.66 Q683.157 1461.2 683.157 1468.33 Q683.157 1475.44 684.963 1479.01 Q686.792 1482.55 690.403 1482.55 Q694.037 1482.55 695.843 1479.01 Q697.671 1475.44 697.671 1468.33 Q697.671 1461.2 695.843 1457.66 Q694.037 1454.1 690.403 1454.1 M690.403 1450.39 Q696.213 1450.39 699.269 1455 Q702.347 1459.58 702.347 1468.33 Q702.347 1477.06 699.269 1481.67 Q696.213 1486.25 690.403 1486.25 Q684.593 1486.25 681.514 1481.67 Q678.458 1477.06 678.458 1468.33 Q678.458 1459.58 681.514 1455 Q684.593 1450.39 690.403 1450.39 Z\" fill=\"#000000\" fill-rule=\"nonzero\" fill-opacity=\"1\" /><path clip-path=\"url(#clip050)\" d=\"M962.795 1454.1 Q959.184 1454.1 957.355 1457.66 Q955.55 1461.2 955.55 1468.33 Q955.55 1475.44 957.355 1479.01 Q959.184 1482.55 962.795 1482.55 Q966.429 1482.55 968.235 1479.01 Q970.064 1475.44 970.064 1468.33 Q970.064 1461.2 968.235 1457.66 Q966.429 1454.1 962.795 1454.1 M962.795 1450.39 Q968.605 1450.39 971.661 1455 Q974.739 1459.58 974.739 1468.33 Q974.739 1477.06 971.661 1481.67 Q968.605 1486.25 962.795 1486.25 Q956.985 1486.25 953.906 1481.67 Q950.851 1477.06 950.851 1468.33 Q950.851 1459.58 953.906 1455 Q956.985 1450.39 962.795 1450.39 Z\" fill=\"#000000\" fill-rule=\"nonzero\" fill-opacity=\"1\" /><path clip-path=\"url(#clip050)\" d=\"M982.957 1479.7 L987.841 1479.7 L987.841 1485.58 L982.957 1485.58 L982.957 1479.7 Z\" fill=\"#000000\" fill-rule=\"nonzero\" fill-opacity=\"1\" /><path clip-path=\"url(#clip050)\" d=\"M998.165 1484.86 L998.165 1480.6 Q999.924 1481.44 1001.73 1481.88 Q1003.54 1482.32 1005.27 1482.32 Q1009.9 1482.32 1012.33 1479.21 Q1014.79 1476.09 1015.13 1469.75 Q1013.79 1471.74 1011.73 1472.8 Q1009.67 1473.87 1007.17 1473.87 Q1001.98 1473.87 998.952 1470.74 Q995.943 1467.59 995.943 1462.15 Q995.943 1456.83 999.091 1453.61 Q1002.24 1450.39 1007.47 1450.39 Q1013.47 1450.39 1016.61 1455 Q1019.79 1459.58 1019.79 1468.33 Q1019.79 1476.51 1015.9 1481.39 Q1012.03 1486.25 1005.48 1486.25 Q1003.72 1486.25 1001.92 1485.9 Q1000.11 1485.56 998.165 1484.86 M1007.47 1470.21 Q1010.62 1470.21 1012.45 1468.06 Q1014.3 1465.9 1014.3 1462.15 Q1014.3 1458.43 1012.45 1456.27 Q1010.62 1454.1 1007.47 1454.1 Q1004.32 1454.1 1002.47 1456.27 Q1000.64 1458.43 1000.64 1462.15 Q1000.64 1465.9 1002.47 1468.06 Q1004.32 1470.21 1007.47 1470.21 Z\" fill=\"#000000\" fill-rule=\"nonzero\" fill-opacity=\"1\" /><path clip-path=\"url(#clip050)\" d=\"M1028.33 1484.86 L1028.33 1480.6 Q1030.09 1481.44 1031.89 1481.88 Q1033.7 1482.32 1035.43 1482.32 Q1040.06 1482.32 1042.49 1479.21 Q1044.95 1476.09 1045.29 1469.75 Q1043.95 1471.74 1041.89 1472.8 Q1039.83 1473.87 1037.33 1473.87 Q1032.15 1473.87 1029.11 1470.74 Q1026.1 1467.59 1026.1 1462.15 Q1026.1 1456.83 1029.25 1453.61 Q1032.4 1450.39 1037.63 1450.39 Q1043.63 1450.39 1046.78 1455 Q1049.95 1459.58 1049.95 1468.33 Q1049.95 1476.51 1046.06 1481.39 Q1042.19 1486.25 1035.64 1486.25 Q1033.88 1486.25 1032.08 1485.9 Q1030.27 1485.56 1028.33 1484.86 M1037.63 1470.21 Q1040.78 1470.21 1042.61 1468.06 Q1044.46 1465.9 1044.46 1462.15 Q1044.46 1458.43 1042.61 1456.27 Q1040.78 1454.1 1037.63 1454.1 Q1034.48 1454.1 1032.63 1456.27 Q1030.8 1458.43 1030.8 1462.15 Q1030.8 1465.9 1032.63 1468.06 Q1034.48 1470.21 1037.63 1470.21 Z\" fill=\"#000000\" fill-rule=\"nonzero\" fill-opacity=\"1\" /><path clip-path=\"url(#clip050)\" d=\"M1058.4 1451.02 L1076.75 1451.02 L1076.75 1454.96 L1062.68 1454.96 L1062.68 1463.43 Q1063.7 1463.08 1064.72 1462.92 Q1065.73 1462.73 1066.75 1462.73 Q1072.54 1462.73 1075.92 1465.9 Q1079.3 1469.08 1079.3 1474.49 Q1079.3 1480.07 1075.83 1483.17 Q1072.35 1486.25 1066.04 1486.25 Q1063.86 1486.25 1061.59 1485.88 Q1059.35 1485.51 1056.94 1484.77 L1056.94 1480.07 Q1059.02 1481.2 1061.24 1481.76 Q1063.47 1482.32 1065.94 1482.32 Q1069.95 1482.32 1072.29 1480.21 Q1074.62 1478.1 1074.62 1474.49 Q1074.62 1470.88 1072.29 1468.77 Q1069.95 1466.67 1065.94 1466.67 Q1064.07 1466.67 1062.19 1467.08 Q1060.34 1467.5 1058.4 1468.38 L1058.4 1451.02 Z\" fill=\"#000000\" fill-rule=\"nonzero\" fill-opacity=\"1\" /><path clip-path=\"url(#clip050)\" d=\"M1329.52 1481.64 L1337.15 1481.64 L1337.15 1455.28 L1328.84 1456.95 L1328.84 1452.69 L1337.11 1451.02 L1341.78 1451.02 L1341.78 1481.64 L1349.42 1481.64 L1349.42 1485.58 L1329.52 1485.58 L1329.52 1481.64 Z\" fill=\"#000000\" fill-rule=\"nonzero\" fill-opacity=\"1\" /><path clip-path=\"url(#clip050)\" d=\"M1358.87 1479.7 L1363.75 1479.7 L1363.75 1485.58 L1358.87 1485.58 L1358.87 1479.7 Z\" fill=\"#000000\" fill-rule=\"nonzero\" fill-opacity=\"1\" /><path clip-path=\"url(#clip050)\" d=\"M1383.94 1454.1 Q1380.33 1454.1 1378.5 1457.66 Q1376.69 1461.2 1376.69 1468.33 Q1376.69 1475.44 1378.5 1479.01 Q1380.33 1482.55 1383.94 1482.55 Q1387.57 1482.55 1389.38 1479.01 Q1391.2 1475.44 1391.2 1468.33 Q1391.2 1461.2 1389.38 1457.66 Q1387.57 1454.1 1383.94 1454.1 M1383.94 1450.39 Q1389.75 1450.39 1392.8 1455 Q1395.88 1459.58 1395.88 1468.33 Q1395.88 1477.06 1392.8 1481.67 Q1389.75 1486.25 1383.94 1486.25 Q1378.13 1486.25 1375.05 1481.67 Q1371.99 1477.06 1371.99 1468.33 Q1371.99 1459.58 1375.05 1455 Q1378.13 1450.39 1383.94 1450.39 Z\" fill=\"#000000\" fill-rule=\"nonzero\" fill-opacity=\"1\" /><path clip-path=\"url(#clip050)\" d=\"M1414.1 1454.1 Q1410.49 1454.1 1408.66 1457.66 Q1406.85 1461.2 1406.85 1468.33 Q1406.85 1475.44 1408.66 1479.01 Q1410.49 1482.55 1414.1 1482.55 Q1417.73 1482.55 1419.54 1479.01 Q1421.37 1475.44 1421.37 1468.33 Q1421.37 1461.2 1419.54 1457.66 Q1417.73 1454.1 1414.1 1454.1 M1414.1 1450.39 Q1419.91 1450.39 1422.96 1455 Q1426.04 1459.58 1426.04 1468.33 Q1426.04 1477.06 1422.96 1481.67 Q1419.91 1486.25 1414.1 1486.25 Q1408.29 1486.25 1405.21 1481.67 Q1402.15 1477.06 1402.15 1468.33 Q1402.15 1459.58 1405.21 1455 Q1408.29 1450.39 1414.1 1450.39 Z\" fill=\"#000000\" fill-rule=\"nonzero\" fill-opacity=\"1\" /><path clip-path=\"url(#clip050)\" d=\"M1444.26 1454.1 Q1440.65 1454.1 1438.82 1457.66 Q1437.01 1461.2 1437.01 1468.33 Q1437.01 1475.44 1438.82 1479.01 Q1440.65 1482.55 1444.26 1482.55 Q1447.89 1482.55 1449.7 1479.01 Q1451.53 1475.44 1451.53 1468.33 Q1451.53 1461.2 1449.7 1457.66 Q1447.89 1454.1 1444.26 1454.1 M1444.26 1450.39 Q1450.07 1450.39 1453.13 1455 Q1456.2 1459.58 1456.2 1468.33 Q1456.2 1477.06 1453.13 1481.67 Q1450.07 1486.25 1444.26 1486.25 Q1438.45 1486.25 1435.37 1481.67 Q1432.32 1477.06 1432.32 1468.33 Q1432.32 1459.58 1435.37 1455 Q1438.45 1450.39 1444.26 1450.39 Z\" fill=\"#000000\" fill-rule=\"nonzero\" fill-opacity=\"1\" /><path clip-path=\"url(#clip050)\" d=\"M1707.46 1481.64 L1715.1 1481.64 L1715.1 1455.28 L1706.79 1456.95 L1706.79 1452.69 L1715.06 1451.02 L1719.73 1451.02 L1719.73 1481.64 L1727.37 1481.64 L1727.37 1485.58 L1707.46 1485.58 L1707.46 1481.64 Z\" fill=\"#000000\" fill-rule=\"nonzero\" fill-opacity=\"1\" /><path clip-path=\"url(#clip050)\" d=\"M1736.81 1479.7 L1741.7 1479.7 L1741.7 1485.58 L1736.81 1485.58 L1736.81 1479.7 Z\" fill=\"#000000\" fill-rule=\"nonzero\" fill-opacity=\"1\" /><path clip-path=\"url(#clip050)\" d=\"M1761.88 1454.1 Q1758.27 1454.1 1756.44 1457.66 Q1754.64 1461.2 1754.64 1468.33 Q1754.64 1475.44 1756.44 1479.01 Q1758.27 1482.55 1761.88 1482.55 Q1765.52 1482.55 1767.32 1479.01 Q1769.15 1475.44 1769.15 1468.33 Q1769.15 1461.2 1767.32 1457.66 Q1765.52 1454.1 1761.88 1454.1 M1761.88 1450.39 Q1767.69 1450.39 1770.75 1455 Q1773.83 1459.58 1773.83 1468.33 Q1773.83 1477.06 1770.75 1481.67 Q1767.69 1486.25 1761.88 1486.25 Q1756.07 1486.25 1752.99 1481.67 Q1749.94 1477.06 1749.94 1468.33 Q1749.94 1459.58 1752.99 1455 Q1756.07 1450.39 1761.88 1450.39 Z\" fill=\"#000000\" fill-rule=\"nonzero\" fill-opacity=\"1\" /><path clip-path=\"url(#clip050)\" d=\"M1792.05 1454.1 Q1788.43 1454.1 1786.61 1457.66 Q1784.8 1461.2 1784.8 1468.33 Q1784.8 1475.44 1786.61 1479.01 Q1788.43 1482.55 1792.05 1482.55 Q1795.68 1482.55 1797.49 1479.01 Q1799.31 1475.44 1799.31 1468.33 Q1799.31 1461.2 1797.49 1457.66 Q1795.68 1454.1 1792.05 1454.1 M1792.05 1450.39 Q1797.86 1450.39 1800.91 1455 Q1803.99 1459.58 1803.99 1468.33 Q1803.99 1477.06 1800.91 1481.67 Q1797.86 1486.25 1792.05 1486.25 Q1786.24 1486.25 1783.16 1481.67 Q1780.1 1477.06 1780.1 1468.33 Q1780.1 1459.58 1783.16 1455 Q1786.24 1450.39 1792.05 1450.39 Z\" fill=\"#000000\" fill-rule=\"nonzero\" fill-opacity=\"1\" /><path clip-path=\"url(#clip050)\" d=\"M1812.25 1451.02 L1830.61 1451.02 L1830.61 1454.96 L1816.54 1454.96 L1816.54 1463.43 Q1817.55 1463.08 1818.57 1462.92 Q1819.59 1462.73 1820.61 1462.73 Q1826.4 1462.73 1829.78 1465.9 Q1833.16 1469.08 1833.16 1474.49 Q1833.16 1480.07 1829.68 1483.17 Q1826.21 1486.25 1819.89 1486.25 Q1817.72 1486.25 1815.45 1485.88 Q1813.2 1485.51 1810.8 1484.77 L1810.8 1480.07 Q1812.88 1481.2 1815.1 1481.76 Q1817.32 1482.32 1819.8 1482.32 Q1823.8 1482.32 1826.14 1480.21 Q1828.48 1478.1 1828.48 1474.49 Q1828.48 1470.88 1826.14 1468.77 Q1823.8 1466.67 1819.8 1466.67 Q1817.92 1466.67 1816.05 1467.08 Q1814.2 1467.5 1812.25 1468.38 L1812.25 1451.02 Z\" fill=\"#000000\" fill-rule=\"nonzero\" fill-opacity=\"1\" /><path clip-path=\"url(#clip050)\" d=\"M2084.41 1481.64 L2092.05 1481.64 L2092.05 1455.28 L2083.74 1456.95 L2083.74 1452.69 L2092.01 1451.02 L2096.68 1451.02 L2096.68 1481.64 L2104.32 1481.64 L2104.32 1485.58 L2084.41 1485.58 L2084.41 1481.64 Z\" fill=\"#000000\" fill-rule=\"nonzero\" fill-opacity=\"1\" /><path clip-path=\"url(#clip050)\" d=\"M2113.77 1479.7 L2118.65 1479.7 L2118.65 1485.58 L2113.77 1485.58 L2113.77 1479.7 Z\" fill=\"#000000\" fill-rule=\"nonzero\" fill-opacity=\"1\" /><path clip-path=\"url(#clip050)\" d=\"M2138.84 1454.1 Q2135.22 1454.1 2133.4 1457.66 Q2131.59 1461.2 2131.59 1468.33 Q2131.59 1475.44 2133.4 1479.01 Q2135.22 1482.55 2138.84 1482.55 Q2142.47 1482.55 2144.28 1479.01 Q2146.1 1475.44 2146.1 1468.33 Q2146.1 1461.2 2144.28 1457.66 Q2142.47 1454.1 2138.84 1454.1 M2138.84 1450.39 Q2144.65 1450.39 2147.7 1455 Q2150.78 1459.58 2150.78 1468.33 Q2150.78 1477.06 2147.7 1481.67 Q2144.65 1486.25 2138.84 1486.25 Q2133.03 1486.25 2129.95 1481.67 Q2126.89 1477.06 2126.89 1468.33 Q2126.89 1459.58 2129.95 1455 Q2133.03 1450.39 2138.84 1450.39 Z\" fill=\"#000000\" fill-rule=\"nonzero\" fill-opacity=\"1\" /><path clip-path=\"url(#clip050)\" d=\"M2159.81 1481.64 L2167.45 1481.64 L2167.45 1455.28 L2159.14 1456.95 L2159.14 1452.69 L2167.4 1451.02 L2172.08 1451.02 L2172.08 1481.64 L2179.71 1481.64 L2179.71 1485.58 L2159.81 1485.58 L2159.81 1481.64 Z\" fill=\"#000000\" fill-rule=\"nonzero\" fill-opacity=\"1\" /><path clip-path=\"url(#clip050)\" d=\"M2199.16 1454.1 Q2195.55 1454.1 2193.72 1457.66 Q2191.91 1461.2 2191.91 1468.33 Q2191.91 1475.44 2193.72 1479.01 Q2195.55 1482.55 2199.16 1482.55 Q2202.79 1482.55 2204.6 1479.01 Q2206.43 1475.44 2206.43 1468.33 Q2206.43 1461.2 2204.6 1457.66 Q2202.79 1454.1 2199.16 1454.1 M2199.16 1450.39 Q2204.97 1450.39 2208.02 1455 Q2211.1 1459.58 2211.1 1468.33 Q2211.1 1477.06 2208.02 1481.67 Q2204.97 1486.25 2199.16 1486.25 Q2193.35 1486.25 2190.27 1481.67 Q2187.21 1477.06 2187.21 1468.33 Q2187.21 1459.58 2190.27 1455 Q2193.35 1450.39 2199.16 1450.39 Z\" fill=\"#000000\" fill-rule=\"nonzero\" fill-opacity=\"1\" /><path clip-path=\"url(#clip050)\" d=\"M1409.14 1532.4 L1396.25 1549.74 L1409.81 1568.04 L1402.9 1568.04 L1392.52 1554.04 L1382.15 1568.04 L1375.24 1568.04 L1389.09 1549.39 L1376.42 1532.4 L1383.33 1532.4 L1392.78 1545.1 L1402.23 1532.4 L1409.14 1532.4 Z\" fill=\"#000000\" fill-rule=\"nonzero\" fill-opacity=\"1\" /><polyline clip-path=\"url(#clip052)\" style=\"stroke:#000000; stroke-linecap:round; stroke-linejoin:round; stroke-width:2; stroke-opacity:0.1; fill:none\" points=\"432.293,1286.62 2352.76,1286.62 \"/>\n",
       "<polyline clip-path=\"url(#clip052)\" style=\"stroke:#000000; stroke-linecap:round; stroke-linejoin:round; stroke-width:2; stroke-opacity:0.1; fill:none\" points=\"432.293,1115.52 2352.76,1115.52 \"/>\n",
       "<polyline clip-path=\"url(#clip052)\" style=\"stroke:#000000; stroke-linecap:round; stroke-linejoin:round; stroke-width:2; stroke-opacity:0.1; fill:none\" points=\"432.293,944.422 2352.76,944.422 \"/>\n",
       "<polyline clip-path=\"url(#clip052)\" style=\"stroke:#000000; stroke-linecap:round; stroke-linejoin:round; stroke-width:2; stroke-opacity:0.1; fill:none\" points=\"432.293,773.326 2352.76,773.326 \"/>\n",
       "<polyline clip-path=\"url(#clip052)\" style=\"stroke:#000000; stroke-linecap:round; stroke-linejoin:round; stroke-width:2; stroke-opacity:0.1; fill:none\" points=\"432.293,602.229 2352.76,602.229 \"/>\n",
       "<polyline clip-path=\"url(#clip052)\" style=\"stroke:#000000; stroke-linecap:round; stroke-linejoin:round; stroke-width:2; stroke-opacity:0.1; fill:none\" points=\"432.293,431.133 2352.76,431.133 \"/>\n",
       "<polyline clip-path=\"url(#clip052)\" style=\"stroke:#000000; stroke-linecap:round; stroke-linejoin:round; stroke-width:2; stroke-opacity:0.1; fill:none\" points=\"432.293,260.036 2352.76,260.036 \"/>\n",
       "<polyline clip-path=\"url(#clip050)\" style=\"stroke:#000000; stroke-linecap:round; stroke-linejoin:round; stroke-width:4; stroke-opacity:1; fill:none\" points=\"432.293,1423.18 432.293,123.472 \"/>\n",
       "<polyline clip-path=\"url(#clip050)\" style=\"stroke:#000000; stroke-linecap:round; stroke-linejoin:round; stroke-width:4; stroke-opacity:1; fill:none\" points=\"432.293,1286.62 451.19,1286.62 \"/>\n",
       "<polyline clip-path=\"url(#clip050)\" style=\"stroke:#000000; stroke-linecap:round; stroke-linejoin:round; stroke-width:4; stroke-opacity:1; fill:none\" points=\"432.293,1115.52 451.19,1115.52 \"/>\n",
       "<polyline clip-path=\"url(#clip050)\" style=\"stroke:#000000; stroke-linecap:round; stroke-linejoin:round; stroke-width:4; stroke-opacity:1; fill:none\" points=\"432.293,944.422 451.19,944.422 \"/>\n",
       "<polyline clip-path=\"url(#clip050)\" style=\"stroke:#000000; stroke-linecap:round; stroke-linejoin:round; stroke-width:4; stroke-opacity:1; fill:none\" points=\"432.293,773.326 451.19,773.326 \"/>\n",
       "<polyline clip-path=\"url(#clip050)\" style=\"stroke:#000000; stroke-linecap:round; stroke-linejoin:round; stroke-width:4; stroke-opacity:1; fill:none\" points=\"432.293,602.229 451.19,602.229 \"/>\n",
       "<polyline clip-path=\"url(#clip050)\" style=\"stroke:#000000; stroke-linecap:round; stroke-linejoin:round; stroke-width:4; stroke-opacity:1; fill:none\" points=\"432.293,431.133 451.19,431.133 \"/>\n",
       "<polyline clip-path=\"url(#clip050)\" style=\"stroke:#000000; stroke-linecap:round; stroke-linejoin:round; stroke-width:4; stroke-opacity:1; fill:none\" points=\"432.293,260.036 451.19,260.036 \"/>\n",
       "<path clip-path=\"url(#clip050)\" d=\"M114.26 1293.51 L143.936 1293.51 L143.936 1297.45 L114.26 1297.45 L114.26 1293.51 Z\" fill=\"#000000\" fill-rule=\"nonzero\" fill-opacity=\"1\" /><path clip-path=\"url(#clip050)\" d=\"M168.195 1291.71 Q171.552 1292.43 173.427 1294.7 Q175.325 1296.96 175.325 1300.3 Q175.325 1305.41 171.806 1308.21 Q168.288 1311.01 161.806 1311.01 Q159.63 1311.01 157.315 1310.57 Q155.024 1310.16 152.57 1309.3 L152.57 1304.79 Q154.515 1305.92 156.829 1306.5 Q159.144 1307.08 161.667 1307.08 Q166.065 1307.08 168.357 1305.34 Q170.672 1303.61 170.672 1300.3 Q170.672 1297.24 168.519 1295.53 Q166.39 1293.79 162.57 1293.79 L158.542 1293.79 L158.542 1289.95 L162.755 1289.95 Q166.204 1289.95 168.033 1288.58 Q169.862 1287.2 169.862 1284.6 Q169.862 1281.94 167.964 1280.53 Q166.089 1279.09 162.57 1279.09 Q160.649 1279.09 158.45 1279.51 Q156.251 1279.93 153.612 1280.81 L153.612 1276.64 Q156.274 1275.9 158.589 1275.53 Q160.927 1275.16 162.987 1275.16 Q168.311 1275.16 171.413 1277.59 Q174.514 1280 174.514 1284.12 Q174.514 1286.99 172.871 1288.98 Q171.227 1290.95 168.195 1291.71 Z\" fill=\"#000000\" fill-rule=\"nonzero\" fill-opacity=\"1\" /><path clip-path=\"url(#clip050)\" d=\"M184.19 1304.46 L189.075 1304.46 L189.075 1310.34 L184.19 1310.34 L184.19 1304.46 Z\" fill=\"#000000\" fill-rule=\"nonzero\" fill-opacity=\"1\" /><path clip-path=\"url(#clip050)\" d=\"M209.26 1278.86 Q205.649 1278.86 203.82 1282.43 Q202.014 1285.97 202.014 1293.1 Q202.014 1300.2 203.82 1303.77 Q205.649 1307.31 209.26 1307.31 Q212.894 1307.31 214.699 1303.77 Q216.528 1300.2 216.528 1293.1 Q216.528 1285.97 214.699 1282.43 Q212.894 1278.86 209.26 1278.86 M209.26 1275.16 Q215.07 1275.16 218.125 1279.76 Q221.204 1284.35 221.204 1293.1 Q221.204 1301.82 218.125 1306.43 Q215.07 1311.01 209.26 1311.01 Q203.449 1311.01 200.371 1306.43 Q197.315 1301.82 197.315 1293.1 Q197.315 1284.35 200.371 1279.76 Q203.449 1275.16 209.26 1275.16 Z\" fill=\"#000000\" fill-rule=\"nonzero\" fill-opacity=\"1\" /><path clip-path=\"url(#clip050)\" d=\"M257.593 1284.88 L247.014 1295.51 L257.593 1306.08 L254.838 1308.88 L244.213 1298.26 L233.588 1308.88 L230.857 1306.08 L241.412 1295.51 L230.857 1284.88 L233.588 1282.08 L244.213 1292.7 L254.838 1282.08 L257.593 1284.88 Z\" fill=\"#000000\" fill-rule=\"nonzero\" fill-opacity=\"1\" /><path clip-path=\"url(#clip050)\" d=\"M269.954 1306.41 L277.593 1306.41 L277.593 1280.04 L269.282 1281.71 L269.282 1277.45 L277.546 1275.78 L282.222 1275.78 L282.222 1306.41 L289.861 1306.41 L289.861 1310.34 L269.954 1310.34 L269.954 1306.41 Z\" fill=\"#000000\" fill-rule=\"nonzero\" fill-opacity=\"1\" /><path clip-path=\"url(#clip050)\" d=\"M309.305 1278.86 Q305.694 1278.86 303.866 1282.43 Q302.06 1285.97 302.06 1293.1 Q302.06 1300.2 303.866 1303.77 Q305.694 1307.31 309.305 1307.31 Q312.94 1307.31 314.745 1303.77 Q316.574 1300.2 316.574 1293.1 Q316.574 1285.97 314.745 1282.43 Q312.94 1278.86 309.305 1278.86 M309.305 1275.16 Q315.116 1275.16 318.171 1279.76 Q321.25 1284.35 321.25 1293.1 Q321.25 1301.82 318.171 1306.43 Q315.116 1311.01 309.305 1311.01 Q303.495 1311.01 300.417 1306.43 Q297.361 1301.82 297.361 1293.1 Q297.361 1284.35 300.417 1279.76 Q303.495 1275.16 309.305 1275.16 Z\" fill=\"#000000\" fill-rule=\"nonzero\" fill-opacity=\"1\" /><path clip-path=\"url(#clip050)\" d=\"M321.25 1269.26 L345.361 1269.26 L345.361 1272.46 L321.25 1272.46 L321.25 1269.26 Z\" fill=\"#000000\" fill-rule=\"nonzero\" fill-opacity=\"1\" /><path clip-path=\"url(#clip050)\" d=\"M354.22 1279.74 L360.426 1279.74 L360.426 1258.31 L353.674 1259.67 L353.674 1256.21 L360.389 1254.85 L364.188 1254.85 L364.188 1279.74 L370.394 1279.74 L370.394 1282.93 L354.22 1282.93 L354.22 1279.74 Z\" fill=\"#000000\" fill-rule=\"nonzero\" fill-opacity=\"1\" /><path clip-path=\"url(#clip050)\" d=\"M388.506 1258.16 L378.914 1273.15 L388.506 1273.15 L388.506 1258.16 M387.51 1254.85 L392.287 1254.85 L392.287 1273.15 L396.293 1273.15 L396.293 1276.31 L392.287 1276.31 L392.287 1282.93 L388.506 1282.93 L388.506 1276.31 L375.83 1276.31 L375.83 1272.64 L387.51 1254.85 Z\" fill=\"#000000\" fill-rule=\"nonzero\" fill-opacity=\"1\" /><path clip-path=\"url(#clip050)\" d=\"M114.26 1122.42 L143.936 1122.42 L143.936 1126.35 L114.26 1126.35 L114.26 1122.42 Z\" fill=\"#000000\" fill-rule=\"nonzero\" fill-opacity=\"1\" /><path clip-path=\"url(#clip050)\" d=\"M158.056 1135.31 L174.376 1135.31 L174.376 1139.25 L152.431 1139.25 L152.431 1135.31 Q155.093 1132.56 159.677 1127.93 Q164.283 1123.27 165.464 1121.93 Q167.709 1119.41 168.589 1117.67 Q169.491 1115.91 169.491 1114.22 Q169.491 1111.47 167.547 1109.73 Q165.626 1108 162.524 1108 Q160.325 1108 157.871 1108.76 Q155.44 1109.52 152.663 1111.08 L152.663 1106.35 Q155.487 1105.22 157.94 1104.64 Q160.394 1104.06 162.431 1104.06 Q167.802 1104.06 170.996 1106.75 Q174.19 1109.43 174.19 1113.92 Q174.19 1116.05 173.38 1117.97 Q172.593 1119.87 170.487 1122.46 Q169.908 1123.14 166.806 1126.35 Q163.704 1129.55 158.056 1135.31 Z\" fill=\"#000000\" fill-rule=\"nonzero\" fill-opacity=\"1\" /><path clip-path=\"url(#clip050)\" d=\"M184.19 1133.37 L189.075 1133.37 L189.075 1139.25 L184.19 1139.25 L184.19 1133.37 Z\" fill=\"#000000\" fill-rule=\"nonzero\" fill-opacity=\"1\" /><path clip-path=\"url(#clip050)\" d=\"M209.26 1107.77 Q205.649 1107.77 203.82 1111.33 Q202.014 1114.87 202.014 1122 Q202.014 1129.11 203.82 1132.67 Q205.649 1136.21 209.26 1136.21 Q212.894 1136.21 214.699 1132.67 Q216.528 1129.11 216.528 1122 Q216.528 1114.87 214.699 1111.33 Q212.894 1107.77 209.26 1107.77 M209.26 1104.06 Q215.07 1104.06 218.125 1108.67 Q221.204 1113.25 221.204 1122 Q221.204 1130.73 218.125 1135.33 Q215.07 1139.92 209.26 1139.92 Q203.449 1139.92 200.371 1135.33 Q197.315 1130.73 197.315 1122 Q197.315 1113.25 200.371 1108.67 Q203.449 1104.06 209.26 1104.06 Z\" fill=\"#000000\" fill-rule=\"nonzero\" fill-opacity=\"1\" /><path clip-path=\"url(#clip050)\" d=\"M257.593 1113.78 L247.014 1124.41 L257.593 1134.99 L254.838 1137.79 L244.213 1127.16 L233.588 1137.79 L230.857 1134.99 L241.412 1124.41 L230.857 1113.78 L233.588 1110.98 L244.213 1121.61 L254.838 1110.98 L257.593 1113.78 Z\" fill=\"#000000\" fill-rule=\"nonzero\" fill-opacity=\"1\" /><path clip-path=\"url(#clip050)\" d=\"M269.954 1135.31 L277.593 1135.31 L277.593 1108.95 L269.282 1110.61 L269.282 1106.35 L277.546 1104.69 L282.222 1104.69 L282.222 1135.31 L289.861 1135.31 L289.861 1139.25 L269.954 1139.25 L269.954 1135.31 Z\" fill=\"#000000\" fill-rule=\"nonzero\" fill-opacity=\"1\" /><path clip-path=\"url(#clip050)\" d=\"M309.305 1107.77 Q305.694 1107.77 303.866 1111.33 Q302.06 1114.87 302.06 1122 Q302.06 1129.11 303.866 1132.67 Q305.694 1136.21 309.305 1136.21 Q312.94 1136.21 314.745 1132.67 Q316.574 1129.11 316.574 1122 Q316.574 1114.87 314.745 1111.33 Q312.94 1107.77 309.305 1107.77 M309.305 1104.06 Q315.116 1104.06 318.171 1108.67 Q321.25 1113.25 321.25 1122 Q321.25 1130.73 318.171 1135.33 Q315.116 1139.92 309.305 1139.92 Q303.495 1139.92 300.417 1135.33 Q297.361 1130.73 297.361 1122 Q297.361 1113.25 300.417 1108.67 Q303.495 1104.06 309.305 1104.06 Z\" fill=\"#000000\" fill-rule=\"nonzero\" fill-opacity=\"1\" /><path clip-path=\"url(#clip050)\" d=\"M321.25 1098.16 L345.361 1098.16 L345.361 1101.36 L321.25 1101.36 L321.25 1098.16 Z\" fill=\"#000000\" fill-rule=\"nonzero\" fill-opacity=\"1\" /><path clip-path=\"url(#clip050)\" d=\"M354.22 1108.64 L360.426 1108.64 L360.426 1087.22 L353.674 1088.57 L353.674 1085.11 L360.389 1083.76 L364.188 1083.76 L364.188 1108.64 L370.394 1108.64 L370.394 1111.84 L354.22 1111.84 L354.22 1108.64 Z\" fill=\"#000000\" fill-rule=\"nonzero\" fill-opacity=\"1\" /><path clip-path=\"url(#clip050)\" d=\"M388.506 1087.07 L378.914 1102.06 L388.506 1102.06 L388.506 1087.07 M387.51 1083.76 L392.287 1083.76 L392.287 1102.06 L396.293 1102.06 L396.293 1105.22 L392.287 1105.22 L392.287 1111.84 L388.506 1111.84 L388.506 1105.22 L375.83 1105.22 L375.83 1101.55 L387.51 1083.76 Z\" fill=\"#000000\" fill-rule=\"nonzero\" fill-opacity=\"1\" /><path clip-path=\"url(#clip050)\" d=\"M114.26 951.321 L143.936 951.321 L143.936 955.257 L114.26 955.257 L114.26 951.321 Z\" fill=\"#000000\" fill-rule=\"nonzero\" fill-opacity=\"1\" /><path clip-path=\"url(#clip050)\" d=\"M154.839 964.215 L162.477 964.215 L162.477 937.849 L154.167 939.516 L154.167 935.257 L162.431 933.59 L167.107 933.59 L167.107 964.215 L174.746 964.215 L174.746 968.15 L154.839 968.15 L154.839 964.215 Z\" fill=\"#000000\" fill-rule=\"nonzero\" fill-opacity=\"1\" /><path clip-path=\"url(#clip050)\" d=\"M184.19 962.27 L189.075 962.27 L189.075 968.15 L184.19 968.15 L184.19 962.27 Z\" fill=\"#000000\" fill-rule=\"nonzero\" fill-opacity=\"1\" /><path clip-path=\"url(#clip050)\" d=\"M209.26 936.669 Q205.649 936.669 203.82 940.234 Q202.014 943.775 202.014 950.905 Q202.014 958.011 203.82 961.576 Q205.649 965.118 209.26 965.118 Q212.894 965.118 214.699 961.576 Q216.528 958.011 216.528 950.905 Q216.528 943.775 214.699 940.234 Q212.894 936.669 209.26 936.669 M209.26 932.965 Q215.07 932.965 218.125 937.572 Q221.204 942.155 221.204 950.905 Q221.204 959.632 218.125 964.238 Q215.07 968.821 209.26 968.821 Q203.449 968.821 200.371 964.238 Q197.315 959.632 197.315 950.905 Q197.315 942.155 200.371 937.572 Q203.449 932.965 209.26 932.965 Z\" fill=\"#000000\" fill-rule=\"nonzero\" fill-opacity=\"1\" /><path clip-path=\"url(#clip050)\" d=\"M257.593 942.687 L247.014 953.312 L257.593 963.891 L254.838 966.692 L244.213 956.067 L233.588 966.692 L230.857 963.891 L241.412 953.312 L230.857 942.687 L233.588 939.886 L244.213 950.511 L254.838 939.886 L257.593 942.687 Z\" fill=\"#000000\" fill-rule=\"nonzero\" fill-opacity=\"1\" /><path clip-path=\"url(#clip050)\" d=\"M269.954 964.215 L277.593 964.215 L277.593 937.849 L269.282 939.516 L269.282 935.257 L277.546 933.59 L282.222 933.59 L282.222 964.215 L289.861 964.215 L289.861 968.15 L269.954 968.15 L269.954 964.215 Z\" fill=\"#000000\" fill-rule=\"nonzero\" fill-opacity=\"1\" /><path clip-path=\"url(#clip050)\" d=\"M309.305 936.669 Q305.694 936.669 303.866 940.234 Q302.06 943.775 302.06 950.905 Q302.06 958.011 303.866 961.576 Q305.694 965.118 309.305 965.118 Q312.94 965.118 314.745 961.576 Q316.574 958.011 316.574 950.905 Q316.574 943.775 314.745 940.234 Q312.94 936.669 309.305 936.669 M309.305 932.965 Q315.116 932.965 318.171 937.572 Q321.25 942.155 321.25 950.905 Q321.25 959.632 318.171 964.238 Q315.116 968.821 309.305 968.821 Q303.495 968.821 300.417 964.238 Q297.361 959.632 297.361 950.905 Q297.361 942.155 300.417 937.572 Q303.495 932.965 309.305 932.965 Z\" fill=\"#000000\" fill-rule=\"nonzero\" fill-opacity=\"1\" /><path clip-path=\"url(#clip050)\" d=\"M321.25 927.066 L345.361 927.066 L345.361 930.264 L321.25 930.264 L321.25 927.066 Z\" fill=\"#000000\" fill-rule=\"nonzero\" fill-opacity=\"1\" /><path clip-path=\"url(#clip050)\" d=\"M354.22 937.542 L360.426 937.542 L360.426 916.12 L353.674 917.474 L353.674 914.014 L360.389 912.66 L364.188 912.66 L364.188 937.542 L370.394 937.542 L370.394 940.74 L354.22 940.74 L354.22 937.542 Z\" fill=\"#000000\" fill-rule=\"nonzero\" fill-opacity=\"1\" /><path clip-path=\"url(#clip050)\" d=\"M388.506 915.97 L378.914 930.96 L388.506 930.96 L388.506 915.97 M387.51 912.66 L392.287 912.66 L392.287 930.96 L396.293 930.96 L396.293 934.119 L392.287 934.119 L392.287 940.74 L388.506 940.74 L388.506 934.119 L375.83 934.119 L375.83 930.452 L387.51 912.66 Z\" fill=\"#000000\" fill-rule=\"nonzero\" fill-opacity=\"1\" /><path clip-path=\"url(#clip050)\" d=\"M384.348 759.125 Q380.737 759.125 378.909 762.689 Q377.103 766.231 377.103 773.361 Q377.103 780.467 378.909 784.032 Q380.737 787.574 384.348 787.574 Q387.983 787.574 389.788 784.032 Q391.617 780.467 391.617 773.361 Q391.617 766.231 389.788 762.689 Q387.983 759.125 384.348 759.125 M384.348 755.421 Q390.159 755.421 393.214 760.027 Q396.293 764.611 396.293 773.361 Q396.293 782.088 393.214 786.694 Q390.159 791.277 384.348 791.277 Q378.538 791.277 375.46 786.694 Q372.404 782.088 372.404 773.361 Q372.404 764.611 375.46 760.027 Q378.538 755.421 384.348 755.421 Z\" fill=\"#000000\" fill-rule=\"nonzero\" fill-opacity=\"1\" /><path clip-path=\"url(#clip050)\" d=\"M154.839 622.022 L162.477 622.022 L162.477 595.656 L154.167 597.323 L154.167 593.064 L162.431 591.397 L167.107 591.397 L167.107 622.022 L174.746 622.022 L174.746 625.957 L154.839 625.957 L154.839 622.022 Z\" fill=\"#000000\" fill-rule=\"nonzero\" fill-opacity=\"1\" /><path clip-path=\"url(#clip050)\" d=\"M184.19 620.077 L189.075 620.077 L189.075 625.957 L184.19 625.957 L184.19 620.077 Z\" fill=\"#000000\" fill-rule=\"nonzero\" fill-opacity=\"1\" /><path clip-path=\"url(#clip050)\" d=\"M209.26 594.476 Q205.649 594.476 203.82 598.041 Q202.014 601.582 202.014 608.712 Q202.014 615.818 203.82 619.383 Q205.649 622.925 209.26 622.925 Q212.894 622.925 214.699 619.383 Q216.528 615.818 216.528 608.712 Q216.528 601.582 214.699 598.041 Q212.894 594.476 209.26 594.476 M209.26 590.772 Q215.07 590.772 218.125 595.379 Q221.204 599.962 221.204 608.712 Q221.204 617.439 218.125 622.045 Q215.07 626.628 209.26 626.628 Q203.449 626.628 200.371 622.045 Q197.315 617.439 197.315 608.712 Q197.315 599.962 200.371 595.379 Q203.449 590.772 209.26 590.772 Z\" fill=\"#000000\" fill-rule=\"nonzero\" fill-opacity=\"1\" /><path clip-path=\"url(#clip050)\" d=\"M257.593 600.494 L247.014 611.119 L257.593 621.698 L254.838 624.499 L244.213 613.874 L233.588 624.499 L230.857 621.698 L241.412 611.119 L230.857 600.494 L233.588 597.693 L244.213 608.318 L254.838 597.693 L257.593 600.494 Z\" fill=\"#000000\" fill-rule=\"nonzero\" fill-opacity=\"1\" /><path clip-path=\"url(#clip050)\" d=\"M269.954 622.022 L277.593 622.022 L277.593 595.656 L269.282 597.323 L269.282 593.064 L277.546 591.397 L282.222 591.397 L282.222 622.022 L289.861 622.022 L289.861 625.957 L269.954 625.957 L269.954 622.022 Z\" fill=\"#000000\" fill-rule=\"nonzero\" fill-opacity=\"1\" /><path clip-path=\"url(#clip050)\" d=\"M309.305 594.476 Q305.694 594.476 303.866 598.041 Q302.06 601.582 302.06 608.712 Q302.06 615.818 303.866 619.383 Q305.694 622.925 309.305 622.925 Q312.94 622.925 314.745 619.383 Q316.574 615.818 316.574 608.712 Q316.574 601.582 314.745 598.041 Q312.94 594.476 309.305 594.476 M309.305 590.772 Q315.116 590.772 318.171 595.379 Q321.25 599.962 321.25 608.712 Q321.25 617.439 318.171 622.045 Q315.116 626.628 309.305 626.628 Q303.495 626.628 300.417 622.045 Q297.361 617.439 297.361 608.712 Q297.361 599.962 300.417 595.379 Q303.495 590.772 309.305 590.772 Z\" fill=\"#000000\" fill-rule=\"nonzero\" fill-opacity=\"1\" /><path clip-path=\"url(#clip050)\" d=\"M321.25 584.873 L345.361 584.873 L345.361 588.071 L321.25 588.071 L321.25 584.873 Z\" fill=\"#000000\" fill-rule=\"nonzero\" fill-opacity=\"1\" /><path clip-path=\"url(#clip050)\" d=\"M354.22 595.349 L360.426 595.349 L360.426 573.927 L353.674 575.281 L353.674 571.821 L360.389 570.467 L364.188 570.467 L364.188 595.349 L370.394 595.349 L370.394 598.547 L354.22 598.547 L354.22 595.349 Z\" fill=\"#000000\" fill-rule=\"nonzero\" fill-opacity=\"1\" /><path clip-path=\"url(#clip050)\" d=\"M388.506 573.777 L378.914 588.767 L388.506 588.767 L388.506 573.777 M387.51 570.467 L392.287 570.467 L392.287 588.767 L396.293 588.767 L396.293 591.926 L392.287 591.926 L392.287 598.547 L388.506 598.547 L388.506 591.926 L375.83 591.926 L375.83 588.259 L387.51 570.467 Z\" fill=\"#000000\" fill-rule=\"nonzero\" fill-opacity=\"1\" /><path clip-path=\"url(#clip050)\" d=\"M158.056 450.925 L174.376 450.925 L174.376 454.861 L152.431 454.861 L152.431 450.925 Q155.093 448.171 159.677 443.541 Q164.283 438.888 165.464 437.546 Q167.709 435.023 168.589 433.287 Q169.491 431.527 169.491 429.838 Q169.491 427.083 167.547 425.347 Q165.626 423.611 162.524 423.611 Q160.325 423.611 157.871 424.375 Q155.44 425.139 152.663 426.689 L152.663 421.967 Q155.487 420.833 157.94 420.254 Q160.394 419.676 162.431 419.676 Q167.802 419.676 170.996 422.361 Q174.19 425.046 174.19 429.537 Q174.19 431.666 173.38 433.588 Q172.593 435.486 170.487 438.078 Q169.908 438.75 166.806 441.967 Q163.704 445.162 158.056 450.925 Z\" fill=\"#000000\" fill-rule=\"nonzero\" fill-opacity=\"1\" /><path clip-path=\"url(#clip050)\" d=\"M184.19 448.981 L189.075 448.981 L189.075 454.861 L184.19 454.861 L184.19 448.981 Z\" fill=\"#000000\" fill-rule=\"nonzero\" fill-opacity=\"1\" /><path clip-path=\"url(#clip050)\" d=\"M209.26 423.379 Q205.649 423.379 203.82 426.944 Q202.014 430.486 202.014 437.615 Q202.014 444.722 203.82 448.287 Q205.649 451.828 209.26 451.828 Q212.894 451.828 214.699 448.287 Q216.528 444.722 216.528 437.615 Q216.528 430.486 214.699 426.944 Q212.894 423.379 209.26 423.379 M209.26 419.676 Q215.07 419.676 218.125 424.282 Q221.204 428.865 221.204 437.615 Q221.204 446.342 218.125 450.949 Q215.07 455.532 209.26 455.532 Q203.449 455.532 200.371 450.949 Q197.315 446.342 197.315 437.615 Q197.315 428.865 200.371 424.282 Q203.449 419.676 209.26 419.676 Z\" fill=\"#000000\" fill-rule=\"nonzero\" fill-opacity=\"1\" /><path clip-path=\"url(#clip050)\" d=\"M257.593 429.398 L247.014 440.023 L257.593 450.601 L254.838 453.402 L244.213 442.777 L233.588 453.402 L230.857 450.601 L241.412 440.023 L230.857 429.398 L233.588 426.597 L244.213 437.222 L254.838 426.597 L257.593 429.398 Z\" fill=\"#000000\" fill-rule=\"nonzero\" fill-opacity=\"1\" /><path clip-path=\"url(#clip050)\" d=\"M269.954 450.925 L277.593 450.925 L277.593 424.56 L269.282 426.226 L269.282 421.967 L277.546 420.301 L282.222 420.301 L282.222 450.925 L289.861 450.925 L289.861 454.861 L269.954 454.861 L269.954 450.925 Z\" fill=\"#000000\" fill-rule=\"nonzero\" fill-opacity=\"1\" /><path clip-path=\"url(#clip050)\" d=\"M309.305 423.379 Q305.694 423.379 303.866 426.944 Q302.06 430.486 302.06 437.615 Q302.06 444.722 303.866 448.287 Q305.694 451.828 309.305 451.828 Q312.94 451.828 314.745 448.287 Q316.574 444.722 316.574 437.615 Q316.574 430.486 314.745 426.944 Q312.94 423.379 309.305 423.379 M309.305 419.676 Q315.116 419.676 318.171 424.282 Q321.25 428.865 321.25 437.615 Q321.25 446.342 318.171 450.949 Q315.116 455.532 309.305 455.532 Q303.495 455.532 300.417 450.949 Q297.361 446.342 297.361 437.615 Q297.361 428.865 300.417 424.282 Q303.495 419.676 309.305 419.676 Z\" fill=\"#000000\" fill-rule=\"nonzero\" fill-opacity=\"1\" /><path clip-path=\"url(#clip050)\" d=\"M321.25 413.777 L345.361 413.777 L345.361 416.974 L321.25 416.974 L321.25 413.777 Z\" fill=\"#000000\" fill-rule=\"nonzero\" fill-opacity=\"1\" /><path clip-path=\"url(#clip050)\" d=\"M354.22 424.253 L360.426 424.253 L360.426 402.831 L353.674 404.185 L353.674 400.724 L360.389 399.37 L364.188 399.37 L364.188 424.253 L370.394 424.253 L370.394 427.45 L354.22 427.45 L354.22 424.253 Z\" fill=\"#000000\" fill-rule=\"nonzero\" fill-opacity=\"1\" /><path clip-path=\"url(#clip050)\" d=\"M388.506 402.68 L378.914 417.67 L388.506 417.67 L388.506 402.68 M387.51 399.37 L392.287 399.37 L392.287 417.67 L396.293 417.67 L396.293 420.83 L392.287 420.83 L392.287 427.45 L388.506 427.45 L388.506 420.83 L375.83 420.83 L375.83 417.162 L387.51 399.37 Z\" fill=\"#000000\" fill-rule=\"nonzero\" fill-opacity=\"1\" /><path clip-path=\"url(#clip050)\" d=\"M168.195 265.13 Q171.552 265.848 173.427 268.116 Q175.325 270.385 175.325 273.718 Q175.325 278.834 171.806 281.634 Q168.288 284.435 161.806 284.435 Q159.63 284.435 157.315 283.996 Q155.024 283.579 152.57 282.722 L152.57 278.209 Q154.515 279.343 156.829 279.922 Q159.144 280.5 161.667 280.5 Q166.065 280.5 168.357 278.764 Q170.672 277.028 170.672 273.718 Q170.672 270.662 168.519 268.949 Q166.39 267.213 162.57 267.213 L158.542 267.213 L158.542 263.371 L162.755 263.371 Q166.204 263.371 168.033 262.005 Q169.862 260.616 169.862 258.023 Q169.862 255.361 167.964 253.949 Q166.089 252.514 162.57 252.514 Q160.649 252.514 158.45 252.931 Q156.251 253.348 153.612 254.227 L153.612 250.061 Q156.274 249.32 158.589 248.949 Q160.927 248.579 162.987 248.579 Q168.311 248.579 171.413 251.01 Q174.514 253.417 174.514 257.537 Q174.514 260.408 172.871 262.398 Q171.227 264.366 168.195 265.13 Z\" fill=\"#000000\" fill-rule=\"nonzero\" fill-opacity=\"1\" /><path clip-path=\"url(#clip050)\" d=\"M184.19 277.884 L189.075 277.884 L189.075 283.764 L184.19 283.764 L184.19 277.884 Z\" fill=\"#000000\" fill-rule=\"nonzero\" fill-opacity=\"1\" /><path clip-path=\"url(#clip050)\" d=\"M209.26 252.283 Q205.649 252.283 203.82 255.848 Q202.014 259.389 202.014 266.519 Q202.014 273.625 203.82 277.19 Q205.649 280.732 209.26 280.732 Q212.894 280.732 214.699 277.19 Q216.528 273.625 216.528 266.519 Q216.528 259.389 214.699 255.848 Q212.894 252.283 209.26 252.283 M209.26 248.579 Q215.07 248.579 218.125 253.186 Q221.204 257.769 221.204 266.519 Q221.204 275.246 218.125 279.852 Q215.07 284.435 209.26 284.435 Q203.449 284.435 200.371 279.852 Q197.315 275.246 197.315 266.519 Q197.315 257.769 200.371 253.186 Q203.449 248.579 209.26 248.579 Z\" fill=\"#000000\" fill-rule=\"nonzero\" fill-opacity=\"1\" /><path clip-path=\"url(#clip050)\" d=\"M257.593 258.301 L247.014 268.926 L257.593 279.505 L254.838 282.306 L244.213 271.681 L233.588 282.306 L230.857 279.505 L241.412 268.926 L230.857 258.301 L233.588 255.5 L244.213 266.125 L254.838 255.5 L257.593 258.301 Z\" fill=\"#000000\" fill-rule=\"nonzero\" fill-opacity=\"1\" /><path clip-path=\"url(#clip050)\" d=\"M269.954 279.829 L277.593 279.829 L277.593 253.463 L269.282 255.13 L269.282 250.871 L277.546 249.204 L282.222 249.204 L282.222 279.829 L289.861 279.829 L289.861 283.764 L269.954 283.764 L269.954 279.829 Z\" fill=\"#000000\" fill-rule=\"nonzero\" fill-opacity=\"1\" /><path clip-path=\"url(#clip050)\" d=\"M309.305 252.283 Q305.694 252.283 303.866 255.848 Q302.06 259.389 302.06 266.519 Q302.06 273.625 303.866 277.19 Q305.694 280.732 309.305 280.732 Q312.94 280.732 314.745 277.19 Q316.574 273.625 316.574 266.519 Q316.574 259.389 314.745 255.848 Q312.94 252.283 309.305 252.283 M309.305 248.579 Q315.116 248.579 318.171 253.186 Q321.25 257.769 321.25 266.519 Q321.25 275.246 318.171 279.852 Q315.116 284.435 309.305 284.435 Q303.495 284.435 300.417 279.852 Q297.361 275.246 297.361 266.519 Q297.361 257.769 300.417 253.186 Q303.495 248.579 309.305 248.579 Z\" fill=\"#000000\" fill-rule=\"nonzero\" fill-opacity=\"1\" /><path clip-path=\"url(#clip050)\" d=\"M321.25 242.68 L345.361 242.68 L345.361 245.878 L321.25 245.878 L321.25 242.68 Z\" fill=\"#000000\" fill-rule=\"nonzero\" fill-opacity=\"1\" /><path clip-path=\"url(#clip050)\" d=\"M354.22 253.156 L360.426 253.156 L360.426 231.734 L353.674 233.088 L353.674 229.628 L360.389 228.274 L364.188 228.274 L364.188 253.156 L370.394 253.156 L370.394 256.354 L354.22 256.354 L354.22 253.156 Z\" fill=\"#000000\" fill-rule=\"nonzero\" fill-opacity=\"1\" /><path clip-path=\"url(#clip050)\" d=\"M388.506 231.584 L378.914 246.574 L388.506 246.574 L388.506 231.584 M387.51 228.274 L392.287 228.274 L392.287 246.574 L396.293 246.574 L396.293 249.733 L392.287 249.733 L392.287 256.354 L388.506 256.354 L388.506 249.733 L375.83 249.733 L375.83 246.066 L387.51 228.274 Z\" fill=\"#000000\" fill-rule=\"nonzero\" fill-opacity=\"1\" /><path clip-path=\"url(#clip050)\" d=\"M67.3143 771.639 Q73.68 774.122 75.6216 776.477 Q77.5631 778.832 77.5631 782.779 L77.5631 787.458 L72.6615 787.458 L72.6615 784.02 Q72.6615 781.601 71.5157 780.265 Q70.3699 778.928 66.1048 777.305 L63.4312 776.254 L28.3562 790.673 L28.3562 784.466 L56.238 773.326 L28.3562 762.186 L28.3562 755.979 L67.3143 771.639 Z\" fill=\"#000000\" fill-rule=\"nonzero\" fill-opacity=\"1\" /><path clip-path=\"url(#clip050)\" d=\"M992.315 18.8205 L992.315 41.5461 L1002.6 41.5461 Q1008.32 41.5461 1011.44 38.5889 Q1014.55 35.6318 1014.55 30.163 Q1014.55 24.7348 1011.44 21.7777 Q1008.32 18.8205 1002.6 18.8205 L992.315 18.8205 M984.132 12.096 L1002.6 12.096 Q1012.77 12.096 1017.96 16.714 Q1023.18 21.2916 1023.18 30.163 Q1023.18 39.1155 1017.96 43.6931 Q1012.77 48.2706 1002.6 48.2706 L992.315 48.2706 L992.315 72.576 L984.132 72.576 L984.132 12.096 Z\" fill=\"#000000\" fill-rule=\"nonzero\" fill-opacity=\"1\" /><path clip-path=\"url(#clip050)\" d=\"M1033.84 9.54393 L1041.29 9.54393 L1041.29 72.576 L1033.84 72.576 L1033.84 9.54393 Z\" fill=\"#000000\" fill-rule=\"nonzero\" fill-opacity=\"1\" /><path clip-path=\"url(#clip050)\" d=\"M1074.47 32.4315 Q1068.47 32.4315 1064.99 37.1306 Q1061.5 41.7891 1061.5 49.9314 Q1061.5 58.0738 1064.95 62.7728 Q1068.43 67.4314 1074.47 67.4314 Q1080.42 67.4314 1083.91 62.7323 Q1087.39 58.0333 1087.39 49.9314 Q1087.39 41.8701 1083.91 37.1711 Q1080.42 32.4315 1074.47 32.4315 M1074.47 26.1121 Q1084.19 26.1121 1089.74 32.4315 Q1095.29 38.7509 1095.29 49.9314 Q1095.29 61.0714 1089.74 67.4314 Q1084.19 73.7508 1074.47 73.7508 Q1064.7 73.7508 1059.16 67.4314 Q1053.65 61.0714 1053.65 49.9314 Q1053.65 38.7509 1059.16 32.4315 Q1064.7 26.1121 1074.47 26.1121 Z\" fill=\"#000000\" fill-rule=\"nonzero\" fill-opacity=\"1\" /><path clip-path=\"url(#clip050)\" d=\"M1115.02 14.324 L1115.02 27.2059 L1130.37 27.2059 L1130.37 32.9987 L1115.02 32.9987 L1115.02 57.6282 Q1115.02 63.1779 1116.52 64.7578 Q1118.06 66.3376 1122.71 66.3376 L1130.37 66.3376 L1130.37 72.576 L1122.71 72.576 Q1114.09 72.576 1110.8 69.3758 Q1107.52 66.1351 1107.52 57.6282 L1107.52 32.9987 L1102.05 32.9987 L1102.05 27.2059 L1107.52 27.2059 L1107.52 14.324 L1115.02 14.324 Z\" fill=\"#000000\" fill-rule=\"nonzero\" fill-opacity=\"1\" /><path clip-path=\"url(#clip050)\" d=\"M1184.13 32.4315 Q1178.13 32.4315 1174.65 37.1306 Q1171.16 41.7891 1171.16 49.9314 Q1171.16 58.0738 1174.61 62.7728 Q1178.09 67.4314 1184.13 67.4314 Q1190.08 67.4314 1193.56 62.7323 Q1197.05 58.0333 1197.05 49.9314 Q1197.05 41.8701 1193.56 37.1711 Q1190.08 32.4315 1184.13 32.4315 M1184.13 26.1121 Q1193.85 26.1121 1199.4 32.4315 Q1204.95 38.7509 1204.95 49.9314 Q1204.95 61.0714 1199.4 67.4314 Q1193.85 73.7508 1184.13 73.7508 Q1174.36 73.7508 1168.81 67.4314 Q1163.3 61.0714 1163.3 49.9314 Q1163.3 38.7509 1168.81 32.4315 Q1174.36 26.1121 1184.13 26.1121 Z\" fill=\"#000000\" fill-rule=\"nonzero\" fill-opacity=\"1\" /><path clip-path=\"url(#clip050)\" d=\"M1240.27 9.54393 L1240.27 15.7418 L1233.14 15.7418 Q1229.13 15.7418 1227.55 17.3622 Q1226.01 18.9825 1226.01 23.1955 L1226.01 27.2059 L1238.29 27.2059 L1238.29 32.9987 L1226.01 32.9987 L1226.01 72.576 L1218.52 72.576 L1218.52 32.9987 L1211.39 32.9987 L1211.39 27.2059 L1218.52 27.2059 L1218.52 24.0462 Q1218.52 16.471 1222.04 13.0277 Q1225.57 9.54393 1233.22 9.54393 L1240.27 9.54393 Z\" fill=\"#000000\" fill-rule=\"nonzero\" fill-opacity=\"1\" /><path clip-path=\"url(#clip050)\" d=\"M1291.76 76.7889 Q1288.6 84.8907 1285.6 87.3618 Q1282.6 89.8329 1277.58 89.8329 L1271.63 89.8329 L1271.63 83.5945 L1276 83.5945 Q1279.08 83.5945 1280.78 82.1361 Q1282.48 80.6778 1284.55 75.2496 L1285.88 71.8468 L1267.53 27.2059 L1275.43 27.2059 L1289.61 62.6918 L1303.79 27.2059 L1311.69 27.2059 L1291.76 76.7889 Z\" fill=\"#000000\" fill-rule=\"nonzero\" fill-opacity=\"1\" /><path clip-path=\"url(#clip050)\" d=\"M1349.32 34.9026 L1401.25 34.9026 L1401.25 41.7081 L1349.32 41.7081 L1349.32 34.9026 M1349.32 51.4303 L1401.25 51.4303 L1401.25 58.3168 L1349.32 58.3168 L1349.32 51.4303 Z\" fill=\"#000000\" fill-rule=\"nonzero\" fill-opacity=\"1\" /><path clip-path=\"url(#clip050)\" d=\"M1462.14 9.62495 Q1456.71 18.942 1454.08 28.0566 Q1451.44 37.1711 1451.44 46.5287 Q1451.44 55.8863 1454.08 65.0818 Q1456.75 74.2369 1462.14 83.5134 L1455.66 83.5134 Q1449.58 73.9938 1446.54 64.7983 Q1443.55 55.6027 1443.55 46.5287 Q1443.55 37.4952 1446.54 28.3401 Q1449.54 19.1851 1455.66 9.62495 L1462.14 9.62495 Z\" fill=\"#000000\" fill-rule=\"nonzero\" fill-opacity=\"1\" /><path clip-path=\"url(#clip050)\" d=\"M1514.31 27.2059 L1497.91 49.2833 L1515.17 72.576 L1506.38 72.576 L1493.17 54.752 L1479.96 72.576 L1471.17 72.576 L1488.79 48.8377 L1472.67 27.2059 L1481.46 27.2059 L1493.49 43.369 L1505.52 27.2059 L1514.31 27.2059 Z\" fill=\"#000000\" fill-rule=\"nonzero\" fill-opacity=\"1\" /><path clip-path=\"url(#clip050)\" d=\"M1548.3 46.5287 L1570.14 46.5287 L1570.14 53.1722 L1548.3 53.1722 L1548.3 46.5287 Z\" fill=\"#000000\" fill-rule=\"nonzero\" fill-opacity=\"1\" /><path clip-path=\"url(#clip050)\" d=\"M1610.85 65.6895 L1624.22 65.6895 L1624.22 19.5497 L1609.67 22.4663 L1609.67 15.0127 L1624.13 12.096 L1632.32 12.096 L1632.32 65.6895 L1645.69 65.6895 L1645.69 72.576 L1610.85 72.576 L1610.85 65.6895 Z\" fill=\"#000000\" fill-rule=\"nonzero\" fill-opacity=\"1\" /><path clip-path=\"url(#clip050)\" d=\"M1659.99 9.62495 L1666.47 9.62495 Q1672.54 19.1851 1675.54 28.3401 Q1678.58 37.4952 1678.58 46.5287 Q1678.58 55.6027 1675.54 64.7983 Q1672.54 73.9938 1666.47 83.5134 L1659.99 83.5134 Q1665.37 74.2369 1668.01 65.0818 Q1670.68 55.8863 1670.68 46.5287 Q1670.68 37.1711 1668.01 28.0566 Q1665.37 18.942 1659.99 9.62495 Z\" fill=\"#000000\" fill-rule=\"nonzero\" fill-opacity=\"1\" /><path clip-path=\"url(#clip050)\" d=\"M1724.44 12.096 L1746.43 34.6595 L1738.29 34.6595 L1720.47 18.6585 L1702.64 34.6595 L1694.5 34.6595 L1716.5 12.096 L1724.44 12.096 Z\" fill=\"#000000\" fill-rule=\"nonzero\" fill-opacity=\"1\" /><path clip-path=\"url(#clip050)\" d=\"M1762.03 12.096 L1800.92 12.096 L1800.92 15.5798 L1778.96 72.576 L1770.41 72.576 L1791.07 18.9825 L1762.03 18.9825 L1762.03 12.096 Z\" fill=\"#000000\" fill-rule=\"nonzero\" fill-opacity=\"1\" /><polyline clip-path=\"url(#clip052)\" style=\"stroke:#009af9; stroke-linecap:round; stroke-linejoin:round; stroke-width:4; stroke-opacity:1; fill:none\" points=\"486.646,1386.4 562.135,1106.74 637.625,944.422 713.115,855.161 788.605,809.208 864.095,787.417 939.585,778.116 1015.07,774.663 1090.56,773.606 1166.05,773.363 1241.54,773.328 1317.03,773.326 1392.52,773.326 1468.01,773.326 1543.5,773.324 1618.99,773.289 1694.48,773.046 1769.97,771.989 1845.46,768.536 1920.95,759.235 1996.44,737.444 2071.93,691.491 2147.42,602.229 2222.91,439.907 2298.4,160.256 \"/>\n",
       "<path clip-path=\"url(#clip050)\" d=\"M496.308 270.476 L740.785 270.476 L740.785 166.796 L496.308 166.796  Z\" fill=\"#ffffff\" fill-rule=\"evenodd\" fill-opacity=\"1\"/>\n",
       "<polyline clip-path=\"url(#clip050)\" style=\"stroke:#000000; stroke-linecap:round; stroke-linejoin:round; stroke-width:4; stroke-opacity:1; fill:none\" points=\"496.308,270.476 740.785,270.476 740.785,166.796 496.308,166.796 496.308,270.476 \"/>\n",
       "<polyline clip-path=\"url(#clip050)\" style=\"stroke:#009af9; stroke-linecap:round; stroke-linejoin:round; stroke-width:4; stroke-opacity:1; fill:none\" points=\"517.647,218.636 645.678,218.636 \"/>\n",
       "<path clip-path=\"url(#clip050)\" d=\"M680.859 238.323 Q679.053 242.953 677.34 244.365 Q675.627 245.777 672.757 245.777 L669.354 245.777 L669.354 242.212 L671.854 242.212 Q673.613 242.212 674.585 241.379 Q675.558 240.545 676.738 237.443 L677.502 235.499 L667.016 209.99 L671.53 209.99 L679.632 230.268 L687.734 209.99 L692.247 209.99 L680.859 238.323 Z\" fill=\"#000000\" fill-rule=\"nonzero\" fill-opacity=\"1\" /><path clip-path=\"url(#clip050)\" d=\"M699.539 231.981 L707.178 231.981 L707.178 205.615 L698.868 207.282 L698.868 203.022 L707.132 201.356 L711.807 201.356 L711.807 231.981 L719.446 231.981 L719.446 235.916 L699.539 235.916 L699.539 231.981 Z\" fill=\"#000000\" fill-rule=\"nonzero\" fill-opacity=\"1\" /></svg>\n"
      ]
     },
     "execution_count": 76,
     "metadata": {},
     "output_type": "execute_result"
    }
   ],
   "source": [
    "y = (x .- 1).^7\n",
    "plot(x, y, xlabel = \"x\", ylabel = \"y\", title = \"Plot of y = (x - 1)^7\")"
   ]
  },
  {
   "cell_type": "markdown",
   "metadata": {},
   "source": [
    "Q4.3. Explain what you found.\n",
    "\n",
    "**Solution**\n",
    "\n",
    "Obviously, `y = (x - 1)^7` provided more accurate (smooth) plots. On the contrary, the roughness of the other plots can be attributed to cumulative rounding errors from many arithmetic operations."
   ]
  },
  {
   "cell_type": "markdown",
   "metadata": {},
   "source": [
    "## Q5. Woodbury formula\n",
    "\n",
    "Demonstrate the following results in Julia (one numerical example for each fact). Mathematically curious ones are encouraged to prove them. \n",
    "\n",
    "Q5.1. **Sherman-Morrison formula**:\n",
    "$$\n",
    "\t(\\mathbf{A} + \\mathbf{u} \\mathbf{u}^T)^{-1} = \\mathbf{A}^{-1} - \\frac{1}{1 + \\mathbf{u}^T \\mathbf{A}^{-1} \\mathbf{u}} \\mathbf{A}^{-1} \\mathbf{u} \\mathbf{u}^T \\mathbf{A}^{-1},\n",
    "$$\n",
    "where $\\mathbf{A} \\in \\mathbb{R}^{n \\times n}$ is nonsingular and $\\mathbf{u} \\in \\mathbb{R}^n$. This formula supplies the inverse of the symmetric, rank-one  perturbation of $\\mathbf{A}$.\n",
    "\n",
    "**Solution.**\n",
    "\n",
    "Proving this is straightforward. Use the fact that $(\\mathbf{A} + \\mathbf{u} \\mathbf{u}^T)(\\mathbf{A} + \\mathbf{u} \\mathbf{u}^T)^{-1} = (\\mathbf{A} + \\mathbf{u} \\mathbf{u}^T)^{-1}(\\mathbf{A} + \\mathbf{u} \\mathbf{u}^T) =\\mathbf I_n$.\n",
    "\n",
    "$$\n",
    "\\begin{align*}\n",
    "\t(\\mathbf{A} + \\mathbf{u} \\mathbf{u}^T)(\\mathbf{A} + \\mathbf{u} \\mathbf{u}^T)^{-1}\n",
    "\t&= (\\mathbf{A} + \\mathbf{u} \\mathbf{u}^T)\\left[\\mathbf{A}^{-1} - \\frac{1}{1 + \\mathbf{u}^T \\mathbf{A}^{-1} \\mathbf{u}} \\mathbf{A}^{-1} \\mathbf{u} \\mathbf{u}^T \\mathbf{A}^{-1}\\right] \\\\\n",
    "\t&= \\mathbf I_n\n",
    "\t+ \\mathbf{u} \\mathbf{u}^T \\mathbf{A}^{-1}\n",
    "\t- \\frac{\\mathbf{u} \\mathbf{u}^T \\mathbf{A}^{-1}}{1 + \\mathbf{u}^T \\mathbf{A}^{-1} \\mathbf{u}} \n",
    "\t- \\frac{(\\mathbf{u} \\mathbf{u}^T \\mathbf{A}^{-1})(\\mathbf{u} \\mathbf{u}^T \\mathbf{A}^{-1})}{1 + \\mathbf{u}^T \\mathbf{A}^{-1} \\mathbf{u}}\\\\\n",
    "\t&= \\mathbf I_n\n",
    "\t+ \\frac{\\mathbf{u} \\mathbf{u}^T \\mathbf{A}^{-1}(\\mathbf{u}^T \\mathbf{A}^{-1} \\mathbf{u})}{1 + \\mathbf{u}^T \\mathbf{A}^{-1} \\mathbf{u}} \n",
    "\t- \\frac{\\mathbf{u} (\\mathbf{u}^T \\mathbf{A}^{-1}\\mathbf{u}) \\mathbf{u}^T \\mathbf{A}^{-1}}{1 + \\mathbf{u}^T \\mathbf{A}^{-1} \\mathbf{u}}\\\\\n",
    "\t& = \\mathbf I_n\n",
    "\\end{align*}\n",
    "$$\n",
    "since $\\mathbf{u}^T \\mathbf{A}^{-1}\\mathbf{u}$ is scalar. The same holds true for left-right reverse multiplication."
   ]
  },
  {
   "cell_type": "code",
   "execution_count": 77,
   "metadata": {},
   "outputs": [
    {
     "data": {
      "text/plain": [
       "5×5 Matrix{Float64}:\n",
       " -3.82769    4.21818   1.49492    1.31681   -3.15513\n",
       "  2.6669    -1.69853  -0.619175  -0.828194   0.877865\n",
       "  4.95506   -5.11298  -3.31178    0.051452   4.10314\n",
       "  0.371063  -1.04998   0.760928  -0.235422   0.636954\n",
       " -2.70264    2.38692   1.19319   -0.494644  -0.445729"
      ]
     },
     "execution_count": 77,
     "metadata": {},
     "output_type": "execute_result"
    }
   ],
   "source": [
    "## set dimension\n",
    "n = 5\n",
    "## set seed number\n",
    "using Random\n",
    "Random.seed!(257)\n",
    "\n",
    "## create a random matrix A and a random vector u\n",
    "A = rand(n, n)\n",
    "u = rand(n)\n",
    "\n",
    "## compute the inverse of A + uu'\n",
    "inv(A + u * u')"
   ]
  },
  {
   "cell_type": "code",
   "execution_count": 78,
   "metadata": {},
   "outputs": [
    {
     "data": {
      "text/plain": [
       "true"
      ]
     },
     "execution_count": 78,
     "metadata": {},
     "output_type": "execute_result"
    }
   ],
   "source": [
    "## check two transpose functions\n",
    "transpose(u) == u'"
   ]
  },
  {
   "cell_type": "code",
   "execution_count": 79,
   "metadata": {},
   "outputs": [
    {
     "data": {
      "text/plain": [
       "5×5 Matrix{Float64}:\n",
       " -3.82769    4.21818   1.49492    1.31681   -3.15513\n",
       "  2.6669    -1.69853  -0.619175  -0.828194   0.877865\n",
       "  4.95506   -5.11298  -3.31178    0.051452   4.10314\n",
       "  0.371063  -1.04998   0.760928  -0.235422   0.636954\n",
       " -2.70264    2.38692   1.19319   -0.494644  -0.445729"
      ]
     },
     "execution_count": 79,
     "metadata": {},
     "output_type": "execute_result"
    }
   ],
   "source": [
    "## compute Sherman-Morrison formula\n",
    "inv(A) - inv(A) * u * u' * inv(A) / (1 + u' * inv(A) * u)"
   ]
  },
  {
   "cell_type": "code",
   "execution_count": 80,
   "metadata": {},
   "outputs": [
    {
     "data": {
      "text/plain": [
       "false"
      ]
     },
     "execution_count": 80,
     "metadata": {},
     "output_type": "execute_result"
    }
   ],
   "source": [
    "## check the computational difference\n",
    "inv(A + u * u') == inv(A) - inv(A) * u * u' * inv(A) / (1 + u' * inv(A) * u)"
   ]
  },
  {
   "cell_type": "markdown",
   "metadata": {},
   "source": [
    "The results of the two calculations did not match numerically, but they were almost identical."
   ]
  },
  {
   "cell_type": "markdown",
   "metadata": {},
   "source": [
    "Q5.2. **Woodbury formula**:\n",
    "$$\n",
    "\t(\\mathbf{A} + \\mathbf{U} \\mathbf{V}^T)^{-1} = \\mathbf{A}^{-1} - \\mathbf{A}^{-1} \\mathbf{U} (\\mathbf{I}_m + \\mathbf{V}^T \\mathbf{A}^{-1} \\mathbf{U})^{-1} \\mathbf{V}^T \\mathbf{A}^{-1},\n",
    "$$\n",
    "where $\\mathbf{A} \\in \\mathbb{R}^{n \\times n}$ is nonsingular, $\\mathbf{U}, \\mathbf{V} \\in \\mathbb{R}^{n \\times m}$, and $\\mathbf{I}_m$ is the $m \\times m$ identity matrix. In many applications $m$ is much smaller than $n$. Woodbury formula generalizes Sherman-Morrison and is valuable because the smaller matrix $\\mathbf{I}_m + \\mathbf{V}^T \\mathbf{A}^{-1} \\mathbf{U}$ is cheaper to invert than the larger matrix $\\mathbf{A} + \\mathbf{U} \\mathbf{V}^T$.\n",
    "\n",
    "**Solution.**\n",
    "\n",
    "Mathmetical proof is similar to part 1.\n",
    "\n",
    "$$\n",
    "\\begin{align*}\n",
    "\t(\\mathbf{A} + \\mathbf{U} \\mathbf{V}^T)(\\mathbf{A} + \\mathbf{U} \\mathbf{V}^T)^{-1}\n",
    "\t&= (\\mathbf{A} + \\mathbf{U} \\mathbf{V}^T)\\left[\\mathbf{A}^{-1} - \\mathbf{A}^{-1} \\mathbf{U} (\\mathbf{I}_m + \\mathbf{V}^T \\mathbf{A}^{-1} \\mathbf{U})^{-1} \\mathbf{V}^T \\mathbf{A}^{-1}\\right] \\\\\n",
    "\t&= \\mathbf I_n\n",
    "\t+ \\mathbf{U} \\mathbf{V}^T\\mathbf{A}^{-1}\n",
    "\t- \\mathbf{U} (\\mathbf{I}_m + \\mathbf{V}^T \\mathbf{A}^{-1} \\mathbf{U})^{-1} \\mathbf{V}^T \\mathbf{A}^{-1} \n",
    "\t- \\mathbf{U} \\mathbf{V}^T\\mathbf{A}^{-1} \\mathbf{U} (\\mathbf{I}_m + \\mathbf{V}^T \\mathbf{A}^{-1} \\mathbf{U})^{-1} \\mathbf{V}^T \\mathbf{A}^{-1}\\\\\n",
    "\t&= \\mathbf I_n\n",
    "\t+ \\mathbf{U} \\mathbf{V}^T\\mathbf{A}^{-1}\n",
    "\t- \\mathbf{U}(\\mathbf I_m + \\mathbf{V}^T \\mathbf{A}^{-1} \\mathbf{U}) (\\mathbf{I}_m + \\mathbf{V}^T \\mathbf{A}^{-1} \\mathbf{U})^{-1} \\mathbf{V}^T \\mathbf{A}^{-1}\\\\\n",
    "\t&= \\mathbf I_n\n",
    "\t+ \\mathbf{U} \\mathbf{V}^T\\mathbf{A}^{-1} - \\mathbf{U} \\mathbf{V}^T\\mathbf{A}^{-1} \\\\\n",
    "\t&= \\mathbf I_n.\n",
    "\\end{align*}\n",
    "$$"
   ]
  },
  {
   "cell_type": "code",
   "execution_count": 89,
   "metadata": {},
   "outputs": [
    {
     "data": {
      "text/plain": [
       "8×8 Matrix{Float64}:\n",
       "   3.16214     9.97438   -3.25113  …    4.3096   -2.78006   -5.33508\n",
       "  -9.29571   -30.5302     7.96162     -10.9525    7.42219   14.1601\n",
       "  27.7878     95.734    -23.7863       32.2049  -22.8548   -43.2109\n",
       " -52.4624   -179.575     43.6529      -60.1683   46.4177    80.6667\n",
       " -62.2543   -216.457     53.7673      -73.4904   55.7206    97.0493\n",
       "   9.83792    31.1315    -7.17774  …   10.7199   -8.32705  -13.5353\n",
       "  38.8956    133.776    -33.8624       44.8936  -34.8798   -59.991\n",
       "  41.0947    144.496    -34.4168       48.7799  -38.0176   -64.7637"
      ]
     },
     "execution_count": 89,
     "metadata": {},
     "output_type": "execute_result"
    }
   ],
   "source": [
    "## set dimension\n",
    "n = 8\n",
    "m = 2\n",
    "\n",
    "## create a random (nonsingular) matrix A and a random vector u\n",
    "A = rand(n, n)\n",
    "U = rand(n, m)\n",
    "V = rand(n, m)\n",
    "\n",
    "## compute the inverse of A + UV'\n",
    "inv(A + U * V')"
   ]
  },
  {
   "cell_type": "code",
   "execution_count": 118,
   "metadata": {},
   "outputs": [
    {
     "data": {
      "text/plain": [
       "8×8 Matrix{Float64}:\n",
       "   3.16214     9.97438   -3.25113  …    4.3096   -2.78006   -5.33508\n",
       "  -9.29571   -30.5302     7.96162     -10.9525    7.42219   14.1601\n",
       "  27.7878     95.734    -23.7863       32.2049  -22.8548   -43.2109\n",
       " -52.4624   -179.575     43.6529      -60.1683   46.4177    80.6667\n",
       " -62.2543   -216.457     53.7673      -73.4904   55.7206    97.0493\n",
       "   9.83792    31.1315    -7.17774  …   10.7199   -8.32705  -13.5353\n",
       "  38.8956    133.776    -33.8624       44.8936  -34.8798   -59.991\n",
       "  41.0947    144.496    -34.4168       48.7799  -38.0176   -64.7637"
      ]
     },
     "execution_count": 118,
     "metadata": {},
     "output_type": "execute_result"
    }
   ],
   "source": [
    "## compute Woodbury formula\n",
    "inv(A) - inv(A) * U * inv(I + V' * inv(A) * U) * V' * inv(A)"
   ]
  },
  {
   "cell_type": "code",
   "execution_count": 113,
   "metadata": {},
   "outputs": [
    {
     "data": {
      "text/plain": [
       "false"
      ]
     },
     "execution_count": 113,
     "metadata": {},
     "output_type": "execute_result"
    }
   ],
   "source": [
    "inv(A + U * V') == inv(A) - inv(A) * U * inv(I + V' * inv(A) * U) * V' * inv(A)"
   ]
  },
  {
   "cell_type": "markdown",
   "metadata": {},
   "source": [
    "Similarly to part 1, the two calculation results did not align numerically, but they were nearly identical."
   ]
  },
  {
   "cell_type": "markdown",
   "metadata": {},
   "source": [
    "Q5.3. **Binomial inversion formula**:\n",
    "$$\n",
    "\t(\\mathbf{A} + \\mathbf{U} \\mathbf{B} \\mathbf{V}^T)^{-1} = \\mathbf{A}^{-1} - \\mathbf{A}^{-1} \\mathbf{U} (\\mathbf{B}^{-1} + \\mathbf{V}^T \\mathbf{A}^{-1} \\mathbf{U})^{-1} \\mathbf{V}^T \\mathbf{A}^{-1},\n",
    "$$\n",
    "where $\\mathbf{A}$ and $\\mathbf{B}$ are nonsingular.\n",
    "\n",
    "**Solution**\n",
    "\n",
    "Note $\\mathbf{B} \\in \\mathbb{R}^{m \\times m}$. The proof is almost the same as part 2:\n",
    "$$\n",
    "\\begin{align*}\n",
    "\t(\\mathbf{A} + \\mathbf{U} \\mathbf{B} \\mathbf{V}^T)(\\mathbf{A} + \\mathbf{U} \\mathbf{B} \\mathbf{V}^T)^{-1}\n",
    "\t&= (\\mathbf{A} + \\mathbf{U} \\mathbf{B} \\mathbf{V}^T)\\left[\\mathbf{A}^{-1} - \\mathbf{A}^{-1} \\mathbf{U} (\\mathbf{B}^{-1} + \\mathbf{V}^T \\mathbf{A}^{-1} \\mathbf{U})^{-1} \\mathbf{V}^T \\mathbf{A}^{-1}\\right] \\\\\n",
    "\t&= \\mathbf I_n\n",
    "\t+ \\mathbf{U} \\mathbf{B} \\mathbf{V}^T\\mathbf{A}^{-1}\n",
    "\t- \\mathbf{U} (\\mathbf{B}^{-1} + \\mathbf{V}^T \\mathbf{A}^{-1} \\mathbf{U})^{-1} \\mathbf{V}^T \\mathbf{A}^{-1} \n",
    "\t- \\mathbf{U} \\mathbf{B} \\mathbf{V}^T\\mathbf{A}^{-1} \\mathbf{U} (\\mathbf{B}^{-1} + \\mathbf{V}^T \\mathbf{A}^{-1} \\mathbf{U})^{-1} \\mathbf{V}^T \\mathbf{A}^{-1}\\\\\n",
    "\t&= \\mathbf I_n\n",
    "\t+ \\mathbf{U} \\mathbf{B} \\mathbf{V}^T\\mathbf{A}^{-1}\n",
    "\t- \\mathbf{U}\\mathbf{B}(\\mathbf{B}^{-1} + \\mathbf{V}^T \\mathbf{A}^{-1} \\mathbf{U}) (\\mathbf{B}^{-1} + \\mathbf{V}^T \\mathbf{A}^{-1} \\mathbf{U})^{-1} \\mathbf{V}^T \\mathbf{A}^{-1}\\\\\n",
    "\t&= \\mathbf I_n.\n",
    "\\end{align*}\n",
    "$$"
   ]
  },
  {
   "cell_type": "code",
   "execution_count": 91,
   "metadata": {},
   "outputs": [
    {
     "data": {
      "text/plain": [
       "8×8 Matrix{Float64}:\n",
       "  0.324743   0.100478  -0.749451  …   0.954688  -0.358742   -0.888312\n",
       " -0.806853  -0.985366   0.469317     -0.913634   0.174118    0.847591\n",
       "  1.09993    2.85133   -0.236364      0.644985  -0.0702409  -1.36344\n",
       " -3.13468   -7.89358    0.115877     -1.83354    4.29993     3.30897\n",
       " -2.48557   -8.4393     1.02069      -2.80932    4.69088     3.3239\n",
       "  1.24747    1.23278    0.404676  …   0.560768  -0.991998   -0.0629196\n",
       "  2.37301    6.66284   -1.62944       1.70263   -3.69661    -2.71722\n",
       "  1.35401    6.1828     0.656426      1.78319   -4.08671    -2.44313"
      ]
     },
     "execution_count": 91,
     "metadata": {},
     "output_type": "execute_result"
    }
   ],
   "source": [
    "## create a random (nonsingular) matrix B\n",
    "B = rand(m, m)\n",
    "\n",
    "## compute the inverse of A + UBV'\n",
    "inv(A + U * B * V')"
   ]
  },
  {
   "cell_type": "code",
   "execution_count": 94,
   "metadata": {},
   "outputs": [
    {
     "data": {
      "text/plain": [
       "8×8 Matrix{Float64}:\n",
       "  0.324743   0.100478  -0.749451  …   0.954688  -0.358742   -0.888312\n",
       " -0.806853  -0.985366   0.469317     -0.913634   0.174118    0.847591\n",
       "  1.09993    2.85133   -0.236364      0.644985  -0.0702409  -1.36344\n",
       " -3.13468   -7.89358    0.115877     -1.83354    4.29993     3.30897\n",
       " -2.48557   -8.4393     1.02069      -2.80932    4.69088     3.3239\n",
       "  1.24747    1.23278    0.404676  …   0.560768  -0.991998   -0.0629196\n",
       "  2.37301    6.66284   -1.62944       1.70263   -3.69661    -2.71722\n",
       "  1.35401    6.1828     0.656426      1.78319   -4.08671    -2.44313"
      ]
     },
     "execution_count": 94,
     "metadata": {},
     "output_type": "execute_result"
    }
   ],
   "source": [
    "## compute the Binomial inversion formula\n",
    "inv(A) - inv(A) * U * inv(inv(B) + V' * inv(A) * U) * V' * inv(A)"
   ]
  },
  {
   "cell_type": "code",
   "execution_count": 95,
   "metadata": {},
   "outputs": [
    {
     "data": {
      "text/plain": [
       "false"
      ]
     },
     "execution_count": 95,
     "metadata": {},
     "output_type": "execute_result"
    }
   ],
   "source": [
    "inv(A + U * B * V') == inv(A) - inv(A) * U * inv(inv(B) + V' * inv(A) * U) * V' * inv(A)"
   ]
  },
  {
   "cell_type": "markdown",
   "metadata": {},
   "source": [
    "Q5.4. **Determinant identity**:\n",
    "$$\n",
    "\t\\text{det}(\\mathbf{A} + \\mathbf{U} \\mathbf{V}^T) = \\text{det}(\\mathbf{A}) \\text{det}(\\mathbf{I}_m + \\mathbf{V}^T \\mathbf{A}^{-1} \\mathbf{U}).\n",
    "$$\n",
    "This formula is useful for evaluating the density of a multivariate normal with covariance matrix $\\mathbf{A} + \\mathbf{U} \\mathbf{V}^T$.\n",
    "\n",
    "**Solution**\n",
    "\n",
    "Use $\\mathbf A = \\mathbf A^{1/2}\\mathbf A^{1/2}$ and an important determinant proporty: $\\det(\\mathbf I_n + \\mathbf U \\mathbf V^T) = \\det(\\mathbf I_m + \\mathbf V^T \\mathbf U)$.\n",
    "$$\n",
    "\\begin{align*}\n",
    "\t\\text{det}(\\mathbf{A} + \\mathbf{U} \\mathbf{V}^T)\n",
    "\t&= \\det(\\mathbf{A}^{1/2}) \\text{det}(\\mathbf{I}_n + \\mathbf A^{-1/2}\\mathbf{U} \\mathbf{V}^T\\mathbf A^{-1/2})\\det(\\mathbf{A}^{1/2})\\\\\n",
    "\t&= \\det(\\mathbf{A}) \\det(\\mathbf{I}_m + \\mathbf{V}^T\\mathbf A^{-1/2}\\mathbf A^{-1/2}\\mathbf{U})\\\\\n",
    "\t&= \\det(\\mathbf{A}) \\det(\\mathbf{I}_m + \\mathbf{V}^T\\mathbf A^{-1}\\mathbf{U}).\n",
    "\\end{align*}\n",
    "$$"
   ]
  },
  {
   "cell_type": "code",
   "execution_count": 96,
   "metadata": {},
   "outputs": [
    {
     "data": {
      "text/plain": [
       "-0.0012527434095476859"
      ]
     },
     "execution_count": 96,
     "metadata": {},
     "output_type": "execute_result"
    }
   ],
   "source": [
    "## compute LHS\n",
    "det(A + U * V')"
   ]
  },
  {
   "cell_type": "code",
   "execution_count": 119,
   "metadata": {},
   "outputs": [
    {
     "data": {
      "text/plain": [
       "-0.0012527434095476095"
      ]
     },
     "execution_count": 119,
     "metadata": {},
     "output_type": "execute_result"
    }
   ],
   "source": [
    "## compute RHS\n",
    "det(A) * det(I + V' * inv(A) * U)"
   ]
  },
  {
   "cell_type": "markdown",
   "metadata": {},
   "source": [
    "The two were almost the same."
   ]
  },
  {
   "cell_type": "markdown",
   "metadata": {},
   "source": [
    "## Q6. Triangular matrix and orthogonal matrix\n",
    "\n",
    "Demonstrate the following facts about triangular and orthogonal matrices in Julia (one numerical example for each fact). Mathematically curious ones are encouraged to prove them. \n",
    "\n",
    "Note a unit triangular matrix is a triangular matrix with all diagonal entries being 1.\n",
    "\n",
    "1. The product of two upper (lower) triangular matrices is upper (lower) triangular.\n",
    "\n",
    "2. The inverse of an upper (lower) triangular matrix is upper (lower) triangular.\n",
    "\n",
    "3. The product of two unit upper (lower) triangular matrices is unit upper (lower) triangular.\n",
    "\n",
    "4. The inverse of a unit upper (lower) triangular matrix is unit upper (lower) triangular.\n",
    "\n",
    "5. An orthogonal upper (lower) triangular matrix is diagonal. (You just need to prove this.)\n",
    "\n",
    "6. The product of two orthogonal matrices is orthogonal."
   ]
  },
  {
   "cell_type": "markdown",
   "metadata": {},
   "source": [
    "## Q7. Looping\n",
    "\n",
    "Let the $n \\times n$ matrix `H` have elements `H[i, j] = 1 / (i + j - 1)`.  \n",
    "\n",
    "1. Write a function `h(n)` that outputs $n \\times n$ matrix `H`. Try at least 4 ways, e.g., $ij$-looping, $ji$-looping, [comprehension](https://docs.julialang.org/en/v1/manual/arrays/#man-comprehensions), and vectorization (R style). Compute and print `H` for `n = 5`.   \n",
    "\n",
    "2. Compare their speed and memory efficiencies using `BenchmarkTools.jl` at `n = 5000`."
   ]
  }
 ],
 "metadata": {
  "jupytext": {
   "formats": "ipynb,qmd"
  },
  "kernelspec": {
   "display_name": "Julia 1.10.0",
   "language": "julia",
   "name": "julia-1.10"
  },
  "language_info": {
   "file_extension": ".jl",
   "mimetype": "application/julia",
   "name": "julia",
   "version": "1.10.0"
  },
  "toc": {
   "colors": {
    "hover_highlight": "#DAA520",
    "running_highlight": "#FF0000",
    "selected_highlight": "#FFD700"
   },
   "moveMenuLeft": true,
   "nav_menu": {
    "height": "153px",
    "width": "252px"
   },
   "navigate_menu": true,
   "number_sections": false,
   "sideBar": true,
   "skip_h1_title": true,
   "threshold": 4,
   "toc_cell": false,
   "toc_section_display": "block",
   "toc_window_display": true,
   "widenNotebook": false
  },
  "toc-autonumbering": false
 },
 "nbformat": 4,
 "nbformat_minor": 4
}
