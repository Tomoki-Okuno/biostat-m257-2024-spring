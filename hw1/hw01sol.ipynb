{
 "cells": [
  {
   "cell_type": "markdown",
   "metadata": {},
   "source": [
    "Biostat/Biomath M257 Homework 1\n",
    "\n",
    "Due Apr 19 @ 11:59PM\n",
    "\n",
    "Tomoki Okuno and 805851067"
   ]
  },
  {
   "cell_type": "markdown",
   "metadata": {},
   "source": [
    "Show machine information for reproducibility:"
   ]
  },
  {
   "cell_type": "code",
   "execution_count": 117,
   "metadata": {},
   "outputs": [
    {
     "name": "stdout",
     "output_type": "stream",
     "text": [
      "Julia Version 1.10.0\n",
      "Commit 3120989f39b (2023-12-25 18:01 UTC)\n",
      "Build Info:\n",
      "  Official https://julialang.org/ release\n",
      "Platform Info:\n",
      "  OS: macOS (arm64-apple-darwin22.4.0)\n",
      "  CPU: 8 × Apple M1\n",
      "  WORD_SIZE: 64\n",
      "  LIBM: libopenlibm\n",
      "  LLVM: libLLVM-15.0.7 (ORCJIT, apple-m1)\n",
      "  Threads: 2 on 4 virtual cores\n",
      "Environment:\n",
      "  DYLD_FALLBACK_LIBRARY_PATH = /Users/tomokiokuno/.julia/artifacts/5902919ba30b97bafa388ca950a351ea32516d26/lib:/Users/tomokiokuno/.julia/artifacts/92b949e2f3a66439c69a8d334fc95810fbd9df9b/lib:/Users/tomokiokuno/.julia/artifacts/5b338c8fa90c05e6faea86e54d2996cca76cfbbe/lib:/Applications/Julia-1.10.app/Contents/Resources/julia/lib/julia:/Users/tomokiokuno/.julia/artifacts/0b234a64c0574e6156c740b15844963c0555164e/lib:/Users/tomokiokuno/.julia/artifacts/9410bad2635eda2239b4a72ba4316c4aa8f5b76e/lib:/Users/tomokiokuno/.julia/artifacts/a7cf2895cac9b6bec2c94e6490ca337e00b12894/lib:/Users/tomokiokuno/.julia/artifacts/10b2b258c07d7a76b2e3331f1ed70d8a8eb6d71c/lib:/Users/tomokiokuno/.julia/artifacts/9a76a401f82e0e3cafce618fb8d2d5c307ab2836/lib:/Users/tomokiokuno/.julia/artifacts/e8b17d4e8df51de281bf55f890ba48f924e41ce3/lib:/Users/tomokiokuno/.julia/artifacts/c65e07e3da4f1bf519bc432389dbbd61df320457/lib:/Users/tomokiokuno/.julia/artifacts/4ec62d729213a748d2300dd0832ebe8ed2292093/lib:/Users/tomokiokuno/.julia/artifacts/e6b9fb44029423f5cd69e0cbbff25abcc4b32a8f/lib:/Users/tomokiokuno/.julia/artifacts/fb8b9a86c16889fbeb669622623a954bb773fce8/lib:/Users/tomokiokuno/.julia/artifacts/df3881e810714d6a09467fe85a6fde79385fe702/lib:/Users/tomokiokuno/.julia/artifacts/3b3d0bcaf14a9b239a4f4dc20ef7b9e63030a47e/lib:/Users/tomokiokuno/.julia/artifacts/abf161ac3d4df76ae74bbf5432b7e061b3876236/lib:/Users/tomokiokuno/.julia/artifacts/4260cf51a368d8e305a5de3669e32539e1e6cc72/lib:/Users/tomokiokuno/.julia/artifacts/fc7ba632b72ce7d852c1924aa2bbfe244a71c780/lib:/Users/tomokiokuno/.julia/artifacts/413111420faa4e2aeaa383c075eaa213402d939c/lib:/Users/tomokiokuno/.julia/artifacts/ca2831bf6edc5088aec5b329ea98364951d6cad0/lib:/Users/tomokiokuno/.julia/artifacts/3fe6bf926e57cc4be598151cd40832221de2e894/lib:/Users/tomokiokuno/.julia/artifacts/c325a23bc1f6521474cef5f634f18c8ab311bb02/lib:/Users/tomokiokuno/.julia/artifacts/0db9c3f6cf936a0da49e2ba954ba3e10bed6ad72/lib:/Users/tomokiokuno/.julia/artifacts/1a7e22e66b523d9cb884cf85c3ec065b5fb3e5c3/lib:/Users/tomokiokuno/.julia/artifacts/91d16d8e67cf04eb9240c5d28f057b567e2b8dab/lib:/Users/tomokiokuno/.julia/artifacts/4609432e7098d8434a7a4c7876dd5b9e09b2a5e7/lib:/Users/tomokiokuno/.julia/artifacts/6095fcd268ea712c0f786f5ff1a45bf0eb7b005e/lib:/Users/tomokiokuno/.julia/artifacts/8dfccc7f1aa9d156f12a6e7db599014b805b11f2/lib:/Users/tomokiokuno/.julia/artifacts/13ab26d7214d6ea78e7839477d2262c18b38b450/lib:/Users/tomokiokuno/.julia/artifacts/b450526929615030746974fd622effa333c2c87a/lib:/Users/tomokiokuno/.julia/artifacts/fb653fdc268e50c0be4391f6ca2f2fce2be7f15b/lib:/Users/tomokiokuno/.julia/artifacts/3908ba61f3e144a7e7e28b9d676ca770f2f6a955/lib:/Users/tomokiokuno/.julia/artifacts/2107e7bc404f11b178cb9724cb371ef704995727/lib:/Users/tomokiokuno/.julia/artifacts/4b3b2d79556cc3aef6e3d8a234649cc85b91bb87/lib:/Users/tomokiokuno/.julia/artifacts/dc1fe71ef939802ae7490350407bea0f47e5be5f/lib/QtConcurrent.framework/Versions/A:/Users/tomokiokuno/.julia/artifacts/dc1fe71ef939802ae7490350407bea0f47e5be5f/lib/QtCore.framework/Versions/A:/Users/tomokiokuno/.julia/artifacts/dc1fe71ef939802ae7490350407bea0f47e5be5f/lib/QtDBus.framework/Versions/A:/Users/tomokiokuno/.julia/artifacts/dc1fe71ef939802ae7490350407bea0f47e5be5f/lib/QtGui.framework/Versions/A:/Users/tomokiokuno/.julia/artifacts/dc1fe71ef939802ae7490350407bea0f47e5be5f/lib/QtNetwork.framework/Versions/A:/Users/tomokiokuno/.julia/artifacts/dc1fe71ef939802ae7490350407bea0f47e5be5f/lib/QtOpenGL.framework/Versions/A:/Users/tomokiokuno/.julia/artifacts/dc1fe71ef939802ae7490350407bea0f47e5be5f/lib/QtPrintSupport.framework/Versions/A:/Users/tomokiokuno/.julia/artifacts/dc1fe71ef939802ae7490350407bea0f47e5be5f/lib/QtSql.framework/Versions/A:/Users/tomokiokuno/.julia/artifacts/dc1fe71ef939802ae7490350407bea0f47e5be5f/lib/QtTest.framework/Versions/A:/Users/tomokiokuno/.julia/artifacts/dc1fe71ef939802ae7490350407bea0f47e5be5f/lib/QtWidgets.framework/Versions/A:/Users/tomokiokuno/.julia/artifacts/dc1fe71ef939802ae7490350407bea0f47e5be5f/lib/QtXml.framework/Versions/A:/Users/tomokiokuno/.julia/artifacts/2711a7295dd2796d38718436686a5cdfe32d1d1c/lib:/Applications/Julia-1.10.app/Contents/Resources/julia/bin/../lib/julia:/Applications/Julia-1.10.app/Contents/Resources/julia/bin/../lib:\n"
     ]
    }
   ],
   "source": [
    "versioninfo()"
   ]
  },
  {
   "cell_type": "markdown",
   "metadata": {},
   "source": [
    "Activate environment:"
   ]
  },
  {
   "cell_type": "code",
   "execution_count": 118,
   "metadata": {},
   "outputs": [
    {
     "name": "stderr",
     "output_type": "stream",
     "text": [
      "\u001b[32m\u001b[1m  Activating\u001b[22m\u001b[39m project at `~/Documents/07_UCLA/Class/257/02_Homework/hw1`\n"
     ]
    },
    {
     "name": "stdout",
     "output_type": "stream",
     "text": [
      "\u001b[32m\u001b[1mStatus\u001b[22m\u001b[39m `~/Documents/07_UCLA/Class/257/02_Homework/hw1/Project.toml`\n",
      "  \u001b[90m[6e4b80f9] \u001b[39mBenchmarkTools v1.5.0\n",
      "  \u001b[90m[7073ff75] \u001b[39mIJulia v1.24.2\n",
      "  \u001b[90m[bdcacae8] \u001b[39mLoopVectorization v0.12.169\n",
      "\u001b[32m⌃\u001b[39m \u001b[90m[91a5bcdd] \u001b[39mPlots v1.40.3\n",
      "  \u001b[90m[f27b6e38] \u001b[39mPolynomials v4.0.6\n",
      "  \u001b[90m[6f49c342] \u001b[39mRCall v0.14.1\n",
      "  \u001b[90m[37e2e46d] \u001b[39mLinearAlgebra\n",
      "  \u001b[90m[9a3f8284] \u001b[39mRandom\n",
      "\u001b[36m\u001b[1mInfo\u001b[22m\u001b[39m Packages marked with \u001b[32m⌃\u001b[39m have new versions available and may be upgradable.\n"
     ]
    }
   ],
   "source": [
    "using Pkg\n",
    "Pkg.activate(pwd())\n",
    "Pkg.instantiate()\n",
    "# add packages if needed\n",
    "# Pkg.add(\"IJulia\")\n",
    "# Pkg.add([\"BenchmarkTools\", \"LinearAlgebra\", \"Plots\", \"Random\"])\n",
    "Pkg.status()"
   ]
  },
  {
   "cell_type": "code",
   "execution_count": 119,
   "metadata": {},
   "outputs": [],
   "source": [
    "## order alphabetically\n",
    "using LinearAlgebra\n",
    "using Plots\n",
    "using Random"
   ]
  },
  {
   "cell_type": "markdown",
   "metadata": {},
   "source": [
    "## Q1. Git/GitHub\n",
    "\n",
    "**No handwritten homework reports are accepted for this course.**  We work with Git/GitHub.  Efficient and abundant use of Git, e.g., **frequent and well-documented** commits, is an important criterion for grading your homework.\n",
    "\n",
    "1. If you don't have a GitHub account, apply for the [Student Developer Pack](https://education.github.com/pack) at GitHub using your UCLA email.\n",
    "\n",
    "    **Solution.** I already have my GitHub account.\n",
    "\n",
    "2. Create a **private** repository `biostat-m257-2024-spring` and add `Hua-Zhou` and `BrendonChau` (TA) as your collaborators.\n",
    "\n",
    "    **Solution.** Done.\n",
    "\n",
    "3. Top directories of the repository should be `hw1`, `hw2`, ... You may create other branches for developing your homework solutions; but the `master` branch will be your presentation area. Put your homework submission files (Jupyter notebook `.ipynb`, html converted from notebook, `Project.toml`, all code and data set to reproduce results) in the `master` branch. \n",
    "\n",
    "    **Solution.** Understood. I created `hw1` in the `main` branch instead of `master` as `main` is the default branch in my setup.\n",
    "\n",
    "4. After each homework due date, teaching assistant and instructor will check out your `master` branch for grading. Tag each of your homework submissions with tag names `hw1`, `hw2`, ...  Tagging time will be your submission time. That means if you tag your hw1 submission after deadline, penalty points will be deducted for late submission.\n",
    "\n",
    "    **Solution.** Sure. I tagged my hw1 submission.\n",
    "\n",
    "5. Read the [style guide](https://github.com/invenia/BlueStyle) for Julia programming. Following rules in the style guide will be strictly enforced when grading: (1) four space indenting rule, (2) 92 charcter rule, (3) space after comma rule, (4) no space before comma rule, (5) space around binary operator rule.\n",
    "\n",
    "    **Solution.** I have read it. Also, I have drawn a vertical line at 92 characters to avoid violating it."
   ]
  },
  {
   "cell_type": "markdown",
   "metadata": {},
   "source": [
    "## Q2. Computer arithmetics\n",
    "\n",
    "Let's check whether floating-point numbers obey certain algebraic rules. For 2-5, one counter-example suffices.\n",
    "\n",
    "Q2.1. Associative rule for addition says `(x + y) + z == x + (y + z)`. Check association rule using `x = 0.1`, `y = 0.1` and `z = 1.0` in Julia. Explain what you find.\n",
    "\n",
    "**Solution**"
   ]
  },
  {
   "cell_type": "code",
   "execution_count": 120,
   "metadata": {},
   "outputs": [
    {
     "name": "stdout",
     "output_type": "stream",
     "text": [
      "(x + y) + z = 1.2\n",
      "x + (y + z) = 1.2000000000000002\n",
      "Match?: false\n"
     ]
    }
   ],
   "source": [
    "x, y, z = 0.1, 0.1, 1.0\n",
    "\n",
    "@show (x + y) + z\n",
    "@show x + (y + z)\n",
    "println(\"Match?: \", (x + y) + z == x + (y + z))"
   ]
  },
  {
   "cell_type": "markdown",
   "metadata": {},
   "source": [
    "The two computation results did not match. The discrepancy arises due to floating-point arithmetic and rounding errors. Since floating-point numbers have limited precision, computations involving them may not yield exact results. "
   ]
  },
  {
   "cell_type": "markdown",
   "metadata": {},
   "source": [
    "Q2.2. Do floating-point numbers obey the associative rule for multiplication: `(x * y) * z == x * (y * z)`?\n",
    "\n",
    "**Solution**\n",
    "\n",
    "While the equation mostly holds true, there exists at least one counter-example due to the limitations of floating-point numbers."
   ]
  },
  {
   "cell_type": "code",
   "execution_count": 121,
   "metadata": {},
   "outputs": [
    {
     "name": "stdout",
     "output_type": "stream",
     "text": [
      "(x * y) * z = 0.006000000000000001\n",
      "x * (y * z) = 0.006\n",
      "Match?: false\n"
     ]
    }
   ],
   "source": [
    "x, y, z = 0.1, 0.2, 0.3\n",
    "@show (x * y) * z\n",
    "@show x * (y * z)\n",
    "println(\"Match?: \", (x * y) * z == x * (y * z))"
   ]
  },
  {
   "cell_type": "markdown",
   "metadata": {},
   "source": [
    "We noticed that floating-point numbers do not always obey the associative rule for multiplication, either. Therefore, the answer is **No**."
   ]
  },
  {
   "cell_type": "markdown",
   "metadata": {},
   "source": [
    "Q2.3. Do floating-point numbers obey the distributive rule: `a * (x + y) == a * x + a * y`? \n",
    "\n",
    "**Solution**\n",
    "\n",
    "There is a counter-example."
   ]
  },
  {
   "cell_type": "code",
   "execution_count": 122,
   "metadata": {},
   "outputs": [
    {
     "name": "stdout",
     "output_type": "stream",
     "text": [
      "a * (x + y) = 0.0076\n",
      "a * x + a * y = 0.007600000000000001\n",
      "Match?: false\n"
     ]
    }
   ],
   "source": [
    "a = 0.1\n",
    "x, y = 0.025, 0.051\n",
    "@show a * (x + y)\n",
    "@show a * x + a * y\n",
    "println(\"Match?: \", a * (x + y) == a * x + a * y)"
   ]
  },
  {
   "cell_type": "markdown",
   "metadata": {},
   "source": [
    "As expected, floating-point numbers do not necessarily obey the distributive rule. The answer is also **No**."
   ]
  },
  {
   "cell_type": "markdown",
   "metadata": {},
   "source": [
    "Q2.4. Is `0 * x == 0` true for all floating-point number `x`? \n",
    "\n",
    "**Solution**\n",
    "\n",
    "I found that, according to the definition in IEEE 754 standard, multiplying any number by 0 results in 0."
   ]
  },
  {
   "cell_type": "code",
   "execution_count": 123,
   "metadata": {},
   "outputs": [
    {
     "data": {
      "text/plain": [
       "true"
      ]
     },
     "execution_count": 123,
     "metadata": {},
     "output_type": "execute_result"
    }
   ],
   "source": [
    "x = 1e-100\n",
    "0 * x == 0"
   ]
  },
  {
   "cell_type": "markdown",
   "metadata": {},
   "source": [
    "Exceptions to this rule include infinity and `NaN`, providing counterexamples."
   ]
  },
  {
   "cell_type": "code",
   "execution_count": 124,
   "metadata": {},
   "outputs": [
    {
     "name": "stdout",
     "output_type": "stream",
     "text": [
      "0 * x = NaN\n",
      "Match?: false\n"
     ]
    }
   ],
   "source": [
    "## infinity case\n",
    "x = Inf\n",
    "@show 0 * x\n",
    "println(\"Match?: \", 0 * x == 0)"
   ]
  },
  {
   "cell_type": "code",
   "execution_count": 125,
   "metadata": {},
   "outputs": [
    {
     "name": "stdout",
     "output_type": "stream",
     "text": [
      "0 * x = NaN\n",
      "Match?: false\n"
     ]
    }
   ],
   "source": [
    "## Not a number case\n",
    "x = NaN\n",
    "@show 0 * x\n",
    "println(\"Match?: \", 0 * x == 0)"
   ]
  },
  {
   "cell_type": "markdown",
   "metadata": {},
   "source": [
    "The product of zero and `Inf` and the product of zero and `NaN` are both `NaN`, which makes sense mathematically. Therefore, `0 * x == 0` is not necessarily true, that is, the answer is **No**."
   ]
  },
  {
   "cell_type": "markdown",
   "metadata": {},
   "source": [
    "Q2.5. Is `x / a == x * (1 / a)` always true?\n",
    "\n",
    "**Solution**\n",
    "\n",
    "To find one counter-example, we do iterative calculation as follows."
   ]
  },
  {
   "cell_type": "code",
   "execution_count": 126,
   "metadata": {},
   "outputs": [
    {
     "name": "stdout",
     "output_type": "stream",
     "text": [
      "x: 0.0001, a: 0.0019\n",
      "LHS: 0.052631578947368425\n",
      "RHS: 0.05263157894736842\n"
     ]
    }
   ],
   "source": [
    "## Initialize x and a to store an example where x / a != x * (1 / a)\n",
    "found_x = 0.0\n",
    "found_a = 0.0\n",
    "direct_division_result = 0.0\n",
    "multiplication_result = 0.0\n",
    "\n",
    "## Loop through a range of floating-point numbers\n",
    "for x in 1:10000 \n",
    "    for a in 1:10000\n",
    "        x_float = x / 10000.0\n",
    "        a_float = a / 10000.0\n",
    "        # Perform direct division\n",
    "        direct_division = x_float / a_float\n",
    "        # Perform multiplication after division\n",
    "        mult_after_div = x_float * (1 / a_float)\n",
    "        # Check if the results are different\n",
    "        if direct_division != mult_after_div\n",
    "            found_x = x_float\n",
    "            found_a = a_float\n",
    "            direct_division_result = direct_division\n",
    "            multiplication_result = mult_after_div\n",
    "            break  # Exit the loop once an example is found\n",
    "        end\n",
    "    end\n",
    "    if found_x != 0.0  # Check if an example has been found\n",
    "        break\n",
    "    end\n",
    "end\n",
    "\n",
    "println(\"x: $found_x, a: $found_a\")\n",
    "println(\"LHS: $direct_division_result\")\n",
    "println(\"RHS: $multiplication_result\")"
   ]
  },
  {
   "cell_type": "markdown",
   "metadata": {},
   "source": [
    "Sanity check:"
   ]
  },
  {
   "cell_type": "code",
   "execution_count": 127,
   "metadata": {},
   "outputs": [
    {
     "data": {
      "text/plain": [
       "false"
      ]
     },
     "execution_count": 127,
     "metadata": {},
     "output_type": "execute_result"
    }
   ],
   "source": [
    "x, a = 0.0001, 0.0019\n",
    "x / a == x * (1 / a)"
   ]
  },
  {
   "cell_type": "markdown",
   "metadata": {},
   "source": [
    "Therefore, `x / a == x * (1 / a)` is also **false**."
   ]
  },
  {
   "cell_type": "markdown",
   "metadata": {},
   "source": [
    "## Q3. Multiple dispatch and JIT\n",
    "\n",
    "Consider Julia function"
   ]
  },
  {
   "cell_type": "code",
   "execution_count": 128,
   "metadata": {},
   "outputs": [
    {
     "data": {
      "text/plain": [
       "g (generic function with 1 method)"
      ]
     },
     "execution_count": 128,
     "metadata": {},
     "output_type": "execute_result"
    }
   ],
   "source": [
    "function g(k)\n",
    "    for i in 1:10\n",
    "        k = 5k - 1\n",
    "    end\n",
    "    k\n",
    "end"
   ]
  },
  {
   "cell_type": "markdown",
   "metadata": {},
   "source": [
    "**Solution**\n",
    "\n",
    "Q3.1. Use `@code_llvm` to find the LLVM bitcode of compiled `g` with `Int64` input. "
   ]
  },
  {
   "cell_type": "code",
   "execution_count": 129,
   "metadata": {},
   "outputs": [
    {
     "name": "stdout",
     "output_type": "stream",
     "text": [
      "\u001b[90m;  @ In[128]:1 within `g`\u001b[39m\n",
      "\u001b[95mdefine\u001b[39m \u001b[36mi64\u001b[39m \u001b[93m@julia_g_3296\u001b[39m\u001b[33m(\u001b[39m\u001b[36mi64\u001b[39m \u001b[95msignext\u001b[39m \u001b[0m%0\u001b[33m)\u001b[39m \u001b[0m#0 \u001b[33m{\u001b[39m\n",
      "\u001b[91mtop:\u001b[39m\n",
      "\u001b[90m;  @ In[128]:3 within `g`\u001b[39m\n",
      "\u001b[90m; ┌ @ int.jl:88 within `*`\u001b[39m\n",
      "   \u001b[0m%1 \u001b[0m= \u001b[96m\u001b[1mmul\u001b[22m\u001b[39m \u001b[36mi64\u001b[39m \u001b[0m%0\u001b[0m, \u001b[33m9765625\u001b[39m\n",
      "\u001b[90m; └\u001b[39m\n",
      "\u001b[90m; ┌ @ int.jl:86 within `-`\u001b[39m\n",
      "   \u001b[0m%2 \u001b[0m= \u001b[96m\u001b[1madd\u001b[22m\u001b[39m \u001b[36mi64\u001b[39m \u001b[0m%1\u001b[0m, \u001b[33m-2441406\u001b[39m\n",
      "\u001b[90m; └\u001b[39m\n",
      "\u001b[90m;  @ In[128]:5 within `g`\u001b[39m\n",
      "  \u001b[96m\u001b[1mret\u001b[22m\u001b[39m \u001b[36mi64\u001b[39m \u001b[0m%2\n",
      "\u001b[33m}\u001b[39m\n"
     ]
    }
   ],
   "source": [
    "@code_llvm g(1)"
   ]
  },
  {
   "cell_type": "markdown",
   "metadata": {},
   "source": [
    "Q3.2. Use `@code_llvm` to find the LLVM bitcode of compiled `g` with `Float64` input. \n",
    "\n",
    "**Solution**"
   ]
  },
  {
   "cell_type": "code",
   "execution_count": 130,
   "metadata": {},
   "outputs": [
    {
     "name": "stdout",
     "output_type": "stream",
     "text": [
      "\u001b[90m;  @ In[128]:1 within `g`\u001b[39m\n",
      "\u001b[95mdefine\u001b[39m \u001b[36mdouble\u001b[39m \u001b[93m@julia_g_3298\u001b[39m\u001b[33m(\u001b[39m\u001b[36mdouble\u001b[39m \u001b[0m%0\u001b[33m)\u001b[39m \u001b[0m#0 \u001b[33m{\u001b[39m\n",
      "\u001b[91mtop:\u001b[39m\n",
      "\u001b[90m;  @ In[128]:3 within `g`\u001b[39m\n",
      "\u001b[90m; ┌ @ promotion.jl:423 within `*` @ float.jl:411\u001b[39m\n",
      "   \u001b[0m%1 \u001b[0m= \u001b[96m\u001b[1mfmul\u001b[22m\u001b[39m \u001b[36mdouble\u001b[39m \u001b[0m%0\u001b[0m, \u001b[33m5.000000e+00\u001b[39m\n",
      "\u001b[90m; └\u001b[39m\n",
      "\u001b[90m; ┌ @ promotion.jl:424 within `-` @ float.jl:410\u001b[39m\n",
      "   \u001b[0m%2 \u001b[0m= \u001b[96m\u001b[1mfadd\u001b[22m\u001b[39m \u001b[36mdouble\u001b[39m \u001b[0m%1\u001b[0m, \u001b[33m-1.000000e+00\u001b[39m\n",
      "\u001b[90m; └\u001b[39m\n",
      "\u001b[90m; ┌ @ promotion.jl:423 within `*` @ float.jl:411\u001b[39m\n",
      "   \u001b[0m%3 \u001b[0m= \u001b[96m\u001b[1mfmul\u001b[22m\u001b[39m \u001b[36mdouble\u001b[39m \u001b[0m%2\u001b[0m, \u001b[33m5.000000e+00\u001b[39m\n",
      "\u001b[90m; └\u001b[39m\n",
      "\u001b[90m; ┌ @ promotion.jl:424 within `-` @ float.jl:410\u001b[39m\n",
      "   \u001b[0m%4 \u001b[0m= \u001b[96m\u001b[1mfadd\u001b[22m\u001b[39m \u001b[36mdouble\u001b[39m \u001b[0m%3\u001b[0m, \u001b[33m-1.000000e+00\u001b[39m\n",
      "\u001b[90m; └\u001b[39m\n",
      "\u001b[90m; ┌ @ promotion.jl:423 within `*` @ float.jl:411\u001b[39m\n",
      "   \u001b[0m%5 \u001b[0m= \u001b[96m\u001b[1mfmul\u001b[22m\u001b[39m \u001b[36mdouble\u001b[39m \u001b[0m%4\u001b[0m, \u001b[33m5.000000e+00\u001b[39m\n",
      "\u001b[90m; └\u001b[39m\n",
      "\u001b[90m; ┌ @ promotion.jl:424 within `-` @ float.jl:410\u001b[39m\n",
      "   \u001b[0m%6 \u001b[0m= \u001b[96m\u001b[1mfadd\u001b[22m\u001b[39m \u001b[36mdouble\u001b[39m \u001b[0m%5\u001b[0m, \u001b[33m-1.000000e+00\u001b[39m\n",
      "\u001b[90m; └\u001b[39m\n",
      "\u001b[90m; ┌ @ promotion.jl:423 within `*` @ float.jl:411\u001b[39m\n",
      "   \u001b[0m%7 \u001b[0m= \u001b[96m\u001b[1mfmul\u001b[22m\u001b[39m \u001b[36mdouble\u001b[39m \u001b[0m%6\u001b[0m, \u001b[33m5.000000e+00\u001b[39m\n",
      "\u001b[90m; └\u001b[39m\n",
      "\u001b[90m; ┌ @ promotion.jl:424 within `-` @ float.jl:410\u001b[39m\n",
      "   \u001b[0m%8 \u001b[0m= \u001b[96m\u001b[1mfadd\u001b[22m\u001b[39m \u001b[36mdouble\u001b[39m \u001b[0m%7\u001b[0m, \u001b[33m-1.000000e+00\u001b[39m\n",
      "\u001b[90m; └\u001b[39m\n",
      "\u001b[90m; ┌ @ promotion.jl:423 within `*` @ float.jl:411\u001b[39m\n",
      "   \u001b[0m%9 \u001b[0m= \u001b[96m\u001b[1mfmul\u001b[22m\u001b[39m \u001b[36mdouble\u001b[39m \u001b[0m%8\u001b[0m, \u001b[33m5.000000e+00\u001b[39m\n",
      "\u001b[90m; └\u001b[39m\n",
      "\u001b[90m; ┌ @ promotion.jl:424 within `-` @ float.jl:410\u001b[39m\n",
      "   \u001b[0m%10 \u001b[0m= \u001b[96m\u001b[1mfadd\u001b[22m\u001b[39m \u001b[36mdouble\u001b[39m \u001b[0m%9\u001b[0m, \u001b[33m-1.000000e+00\u001b[39m\n",
      "\u001b[90m; └\u001b[39m\n",
      "\u001b[90m; ┌ @ promotion.jl:423 within `*` @ float.jl:411\u001b[39m\n",
      "   \u001b[0m%11 \u001b[0m= \u001b[96m\u001b[1mfmul\u001b[22m\u001b[39m \u001b[36mdouble\u001b[39m \u001b[0m%10\u001b[0m, \u001b[33m5.000000e+00\u001b[39m\n",
      "\u001b[90m; └\u001b[39m\n",
      "\u001b[90m; ┌ @ promotion.jl:424 within `-` @ float.jl:410\u001b[39m\n",
      "   \u001b[0m%12 \u001b[0m= \u001b[96m\u001b[1mfadd\u001b[22m\u001b[39m \u001b[36mdouble\u001b[39m \u001b[0m%11\u001b[0m, \u001b[33m-1.000000e+00\u001b[39m\n",
      "\u001b[90m; └\u001b[39m\n",
      "\u001b[90m; ┌ @ promotion.jl:423 within `*` @ float.jl:411\u001b[39m\n",
      "   \u001b[0m%13 \u001b[0m= \u001b[96m\u001b[1mfmul\u001b[22m\u001b[39m \u001b[36mdouble\u001b[39m \u001b[0m%12\u001b[0m, \u001b[33m5.000000e+00\u001b[39m\n",
      "\u001b[90m; └\u001b[39m\n",
      "\u001b[90m; ┌ @ promotion.jl:424 within `-` @ float.jl:410\u001b[39m\n",
      "   \u001b[0m%14 \u001b[0m= \u001b[96m\u001b[1mfadd\u001b[22m\u001b[39m \u001b[36mdouble\u001b[39m \u001b[0m%13\u001b[0m, \u001b[33m-1.000000e+00\u001b[39m\n",
      "\u001b[90m; └\u001b[39m\n",
      "\u001b[90m; ┌ @ promotion.jl:423 within `*` @ float.jl:411\u001b[39m\n",
      "   \u001b[0m%15 \u001b[0m= \u001b[96m\u001b[1mfmul\u001b[22m\u001b[39m \u001b[36mdouble\u001b[39m \u001b[0m%14\u001b[0m, \u001b[33m5.000000e+00\u001b[39m\n",
      "\u001b[90m; └\u001b[39m\n",
      "\u001b[90m; ┌ @ promotion.jl:424 within `-` @ float.jl:410\u001b[39m\n",
      "   \u001b[0m%16 \u001b[0m= \u001b[96m\u001b[1mfadd\u001b[22m\u001b[39m \u001b[36mdouble\u001b[39m \u001b[0m%15\u001b[0m, \u001b[33m-1.000000e+00\u001b[39m\n",
      "\u001b[90m; └\u001b[39m\n",
      "\u001b[90m; ┌ @ promotion.jl:423 within `*` @ float.jl:411\u001b[39m\n",
      "   \u001b[0m%17 \u001b[0m= \u001b[96m\u001b[1mfmul\u001b[22m\u001b[39m \u001b[36mdouble\u001b[39m \u001b[0m%16\u001b[0m, \u001b[33m5.000000e+00\u001b[39m\n",
      "\u001b[90m; └\u001b[39m\n",
      "\u001b[90m; ┌ @ promotion.jl:424 within `-` @ float.jl:410\u001b[39m\n",
      "   \u001b[0m%18 \u001b[0m= \u001b[96m\u001b[1mfadd\u001b[22m\u001b[39m \u001b[36mdouble\u001b[39m \u001b[0m%17\u001b[0m, \u001b[33m-1.000000e+00\u001b[39m\n",
      "\u001b[90m; └\u001b[39m\n",
      "\u001b[90m; ┌ @ promotion.jl:423 within `*` @ float.jl:411\u001b[39m\n",
      "   \u001b[0m%19 \u001b[0m= \u001b[96m\u001b[1mfmul\u001b[22m\u001b[39m \u001b[36mdouble\u001b[39m \u001b[0m%18\u001b[0m, \u001b[33m5.000000e+00\u001b[39m\n",
      "\u001b[90m; └\u001b[39m\n",
      "\u001b[90m; ┌ @ promotion.jl:424 within `-` @ float.jl:410\u001b[39m\n",
      "   \u001b[0m%20 \u001b[0m= \u001b[96m\u001b[1mfadd\u001b[22m\u001b[39m \u001b[36mdouble\u001b[39m \u001b[0m%19\u001b[0m, \u001b[33m-1.000000e+00\u001b[39m\n",
      "\u001b[90m; └\u001b[39m\n",
      "\u001b[90m;  @ In[128]:5 within `g`\u001b[39m\n",
      "  \u001b[96m\u001b[1mret\u001b[22m\u001b[39m \u001b[36mdouble\u001b[39m \u001b[0m%20\n",
      "\u001b[33m}\u001b[39m\n"
     ]
    }
   ],
   "source": [
    "@code_llvm g(1.0) # default is Float64 "
   ]
  },
  {
   "cell_type": "markdown",
   "metadata": {},
   "source": [
    "Q3.3. Compare the bitcode from questions 1 and 2. Explain what do you find.\n",
    "\n",
    "**Solution**\n",
    "\n",
    "Overall, the computation process appears to vary between `Int64` and `Float64` inputs. When floating-point arguments are used, both multiplication (`5k`) and subtraction (`-1`) occur within each iteration of the loop. However, with integer arguments, both calculations are consolidated into a single operation through reordering or combining operations, potentially resulting in greater efficiency.\n",
    "\n",
    "Specifically, I believe that `9765625` is derived from $5^{10}$ and `-2441406` comes from $- \\sum_{i=1}^{10} 5^{i-1}$."
   ]
  },
  {
   "cell_type": "code",
   "execution_count": 131,
   "metadata": {},
   "outputs": [
    {
     "name": "stdout",
     "output_type": "stream",
     "text": [
      "%1 = mul calculate 9765625\n",
      "%2 = add calculate -2441406\n"
     ]
    }
   ],
   "source": [
    "println(\"%1 = mul calculate \", 5^10)\n",
    "println(\"%2 = add calculate \", - sum(5 .^ (0:9)))"
   ]
  },
  {
   "cell_type": "markdown",
   "metadata": {},
   "source": [
    "Q3.4. Read Julia documentation on `@fastmath` and repeat the questions 1-3 on the function  "
   ]
  },
  {
   "cell_type": "code",
   "execution_count": 132,
   "metadata": {},
   "outputs": [
    {
     "data": {
      "text/plain": [
       "g_fastmath (generic function with 1 method)"
      ]
     },
     "execution_count": 132,
     "metadata": {},
     "output_type": "execute_result"
    }
   ],
   "source": [
    "function g_fastmath(k)\n",
    "    @fastmath for i in 1:10 \n",
    "        k = 5k - 1\n",
    "    end\n",
    "    k\n",
    "end"
   ]
  },
  {
   "cell_type": "markdown",
   "metadata": {},
   "source": [
    "**Solution**\n",
    "\n",
    "I read Julia documantation on `@fastmath`. Repeat the Q3.1-3 as follows."
   ]
  },
  {
   "cell_type": "code",
   "execution_count": 133,
   "metadata": {},
   "outputs": [
    {
     "name": "stdout",
     "output_type": "stream",
     "text": [
      "\u001b[90m;  @ In[132]:1 within `g_fastmath`\u001b[39m\n",
      "\u001b[95mdefine\u001b[39m \u001b[36mi64\u001b[39m \u001b[93m@julia_g_fastmath_3300\u001b[39m\u001b[33m(\u001b[39m\u001b[36mi64\u001b[39m \u001b[95msignext\u001b[39m \u001b[0m%0\u001b[33m)\u001b[39m \u001b[0m#0 \u001b[33m{\u001b[39m\n",
      "\u001b[91mtop:\u001b[39m\n",
      "\u001b[90m;  @ In[132]:3 within `g_fastmath`\u001b[39m\n",
      "\u001b[90m; ┌ @ fastmath.jl:269 within `mul_fast`\u001b[39m\n",
      "\u001b[90m; │┌ @ int.jl:88 within `*`\u001b[39m\n",
      "    \u001b[0m%1 \u001b[0m= \u001b[96m\u001b[1mmul\u001b[22m\u001b[39m \u001b[36mi64\u001b[39m \u001b[0m%0\u001b[0m, \u001b[33m9765625\u001b[39m\n",
      "\u001b[90m; └└\u001b[39m\n",
      "\u001b[90m; ┌ @ fastmath.jl:269 within `sub_fast`\u001b[39m\n",
      "\u001b[90m; │┌ @ int.jl:86 within `-`\u001b[39m\n",
      "    \u001b[0m%2 \u001b[0m= \u001b[96m\u001b[1madd\u001b[22m\u001b[39m \u001b[36mi64\u001b[39m \u001b[0m%1\u001b[0m, \u001b[33m-2441406\u001b[39m\n",
      "\u001b[90m; └└\u001b[39m\n",
      "\u001b[90m;  @ In[132]:5 within `g_fastmath`\u001b[39m\n",
      "  \u001b[96m\u001b[1mret\u001b[22m\u001b[39m \u001b[36mi64\u001b[39m \u001b[0m%2\n",
      "\u001b[33m}\u001b[39m\n"
     ]
    }
   ],
   "source": [
    "## Repeat Q3.1\n",
    "@code_llvm g_fastmath(1)"
   ]
  },
  {
   "cell_type": "code",
   "execution_count": 134,
   "metadata": {},
   "outputs": [
    {
     "name": "stdout",
     "output_type": "stream",
     "text": [
      "\u001b[90m;  @ In[132]:1 within `g_fastmath`\u001b[39m\n",
      "\u001b[95mdefine\u001b[39m \u001b[36mdouble\u001b[39m \u001b[93m@julia_g_fastmath_3302\u001b[39m\u001b[33m(\u001b[39m\u001b[36mdouble\u001b[39m \u001b[0m%0\u001b[33m)\u001b[39m \u001b[0m#0 \u001b[33m{\u001b[39m\n",
      "\u001b[91mtop:\u001b[39m\n",
      "\u001b[90m;  @ In[132]:3 within `g_fastmath`\u001b[39m\n",
      "\u001b[90m; ┌ @ fastmath.jl:266 within `mul_fast` @ fastmath.jl:165\u001b[39m\n",
      "   \u001b[0m%1 \u001b[0m= \u001b[96m\u001b[1mfmul\u001b[22m\u001b[39m \u001b[95mfast\u001b[39m \u001b[36mdouble\u001b[39m \u001b[0m%0\u001b[0m, \u001b[33m0x4162A05F20000000\u001b[39m\n",
      "\u001b[90m; └\u001b[39m\n",
      "\u001b[90m; ┌ @ fastmath.jl:266 within `sub_fast` @ fastmath.jl:164\u001b[39m\n",
      "   \u001b[0m%2 \u001b[0m= \u001b[96m\u001b[1mfadd\u001b[22m\u001b[39m \u001b[95mfast\u001b[39m \u001b[36mdouble\u001b[39m \u001b[0m%1\u001b[0m, \u001b[33m0xC142A05F00000000\u001b[39m\n",
      "\u001b[90m; └\u001b[39m\n",
      "\u001b[90m;  @ In[132]:5 within `g_fastmath`\u001b[39m\n",
      "  \u001b[96m\u001b[1mret\u001b[22m\u001b[39m \u001b[36mdouble\u001b[39m \u001b[0m%2\n",
      "\u001b[33m}\u001b[39m\n"
     ]
    }
   ],
   "source": [
    "## Repeat Q3.2\n",
    "@code_llvm g_fastmath(1.0)"
   ]
  },
  {
   "cell_type": "markdown",
   "metadata": {},
   "source": [
    "(Repeat Q3.2) `g_fastmath` with `Float64` input appears to execute a similar efficient process to `g` and `g_fastmath` with `Int64` input, i.e., only one multiplication and one addition seem to be performed. "
   ]
  },
  {
   "cell_type": "markdown",
   "metadata": {},
   "source": [
    "Explain what does the macro `@fastmath` do? And why are the bitcodes for `g` and `g_fastmath` with `Float64` input different? (Hint: Q2)\n",
    "\n",
    "**Solution**\n",
    "\n",
    "`@fastmath` allows sacrificing some mathematical rigor for the purpose of accelerating numerical computations. The bitcodes for `g` and `g_fastmath` with `Float64` input are different because the `@fastmath` macro ignores limited precision that floating-point numbers have, as we saw in Q2. In the `g_fastmath` function, the `@fastmath` allows the compiler to apply optimizations such as reordering or combining floating-point operations like with `Int64` input, which may result in a loss of mathematical precision but can lead to faster execution. As a result, `@code_llvm` generated for `g_fastmath` differ from that of `g` due to these optimizations permitted by `@fastmath`."
   ]
  },
  {
   "cell_type": "markdown",
   "metadata": {},
   "source": [
    "## Q4. Evaluating a polynomial\n",
    "\n",
    "Create the vector `x = (0.988, 0.989, 0.990, ..., 1.010, 1.011, 1.012)`. \n",
    "\n",
    "**Solution**"
   ]
  },
  {
   "cell_type": "code",
   "execution_count": 135,
   "metadata": {},
   "outputs": [
    {
     "data": {
      "text/plain": [
       "0.988:0.001:1.012"
      ]
     },
     "execution_count": 135,
     "metadata": {},
     "output_type": "execute_result"
    }
   ],
   "source": [
    "x = range(0.988, stop = 1.012, step = 0.001)"
   ]
  },
  {
   "cell_type": "markdown",
   "metadata": {},
   "source": [
    "Check some elements in `x` to see if it works."
   ]
  },
  {
   "cell_type": "code",
   "execution_count": 136,
   "metadata": {},
   "outputs": [
    {
     "name": "stdout",
     "output_type": "stream",
     "text": [
      "0.988\n",
      "1.0\n",
      "1.012\n"
     ]
    }
   ],
   "source": [
    "println(x[1])\n",
    "println(x[13])\n",
    "println(x[25]) # last value"
   ]
  },
  {
   "cell_type": "markdown",
   "metadata": {},
   "source": [
    "Q4.1. Plot the polynomial `y = x^7 - 7x^6 + 21x^5 - 35x^4 + 35x^3 - 21x^2 + 7x - 1` at points `x`.\n",
    "\n",
    "**Solution**"
   ]
  },
  {
   "cell_type": "code",
   "execution_count": 137,
   "metadata": {},
   "outputs": [
    {
     "data": {
      "image/png": "[encoded data removed]",
      "image/svg+xml": [
       "<?xml version=\"1.0\" encoding=\"utf-8\"?>\n",
       "<svg xmlns=\"http://www.w3.org/2000/svg\" xmlns:xlink=\"http://www.w3.org/1999/xlink\" width=\"600\" height=\"400\" viewBox=\"0 0 2400 1600\">\n",
       "<defs>\n",
       "  <clipPath id=\"clip480\">\n",
       "    <rect x=\"0\" y=\"0\" width=\"2400\" height=\"1600\"/>\n",
       "  </clipPath>\n",
       "</defs>\n",
       "<path clip-path=\"url(#clip480)\" d=\"M0 1600 L2400 1600 L2400 8.88178e-14 L0 8.88178e-14  Z\" fill=\"#ffffff\" fill-rule=\"evenodd\" fill-opacity=\"1\"/>\n",
       "<defs>\n",
       "  <clipPath id=\"clip481\">\n",
       "    <rect x=\"480\" y=\"0\" width=\"1681\" height=\"1600\"/>\n",
       "  </clipPath>\n",
       "</defs>\n",
       "<path clip-path=\"url(#clip480)\" d=\"M432.293 1423.18 L2352.76 1423.18 L2352.76 106.192 L432.293 106.192  Z\" fill=\"#ffffff\" fill-rule=\"evenodd\" fill-opacity=\"1\"/>\n",
       "<defs>\n",
       "  <clipPath id=\"clip482\">\n",
       "    <rect x=\"432\" y=\"106\" width=\"1921\" height=\"1318\"/>\n",
       "  </clipPath>\n",
       "</defs>\n",
       "<polyline clip-path=\"url(#clip482)\" style=\"stroke:#000000; stroke-linecap:round; stroke-linejoin:round; stroke-width:2; stroke-opacity:0.1; fill:none\" points=\"637.625,1423.18 637.625,106.192 \"/>\n",
       "<polyline clip-path=\"url(#clip482)\" style=\"stroke:#000000; stroke-linecap:round; stroke-linejoin:round; stroke-width:2; stroke-opacity:0.1; fill:none\" points=\"1015.07,1423.18 1015.07,106.192 \"/>\n",
       "<polyline clip-path=\"url(#clip482)\" style=\"stroke:#000000; stroke-linecap:round; stroke-linejoin:round; stroke-width:2; stroke-opacity:0.1; fill:none\" points=\"1392.52,1423.18 1392.52,106.192 \"/>\n",
       "<polyline clip-path=\"url(#clip482)\" style=\"stroke:#000000; stroke-linecap:round; stroke-linejoin:round; stroke-width:2; stroke-opacity:0.1; fill:none\" points=\"1769.97,1423.18 1769.97,106.192 \"/>\n",
       "<polyline clip-path=\"url(#clip482)\" style=\"stroke:#000000; stroke-linecap:round; stroke-linejoin:round; stroke-width:2; stroke-opacity:0.1; fill:none\" points=\"2147.42,1423.18 2147.42,106.192 \"/>\n",
       "<polyline clip-path=\"url(#clip480)\" style=\"stroke:#000000; stroke-linecap:round; stroke-linejoin:round; stroke-width:4; stroke-opacity:1; fill:none\" points=\"432.293,1423.18 2352.76,1423.18 \"/>\n",
       "<polyline clip-path=\"url(#clip480)\" style=\"stroke:#000000; stroke-linecap:round; stroke-linejoin:round; stroke-width:4; stroke-opacity:1; fill:none\" points=\"637.625,1423.18 637.625,1404.28 \"/>\n",
       "<polyline clip-path=\"url(#clip480)\" style=\"stroke:#000000; stroke-linecap:round; stroke-linejoin:round; stroke-width:4; stroke-opacity:1; fill:none\" points=\"1015.07,1423.18 1015.07,1404.28 \"/>\n",
       "<polyline clip-path=\"url(#clip480)\" style=\"stroke:#000000; stroke-linecap:round; stroke-linejoin:round; stroke-width:4; stroke-opacity:1; fill:none\" points=\"1392.52,1423.18 1392.52,1404.28 \"/>\n",
       "<polyline clip-path=\"url(#clip480)\" style=\"stroke:#000000; stroke-linecap:round; stroke-linejoin:round; stroke-width:4; stroke-opacity:1; fill:none\" points=\"1769.97,1423.18 1769.97,1404.28 \"/>\n",
       "<polyline clip-path=\"url(#clip480)\" style=\"stroke:#000000; stroke-linecap:round; stroke-linejoin:round; stroke-width:4; stroke-opacity:1; fill:none\" points=\"2147.42,1423.18 2147.42,1404.28 \"/>\n",
       "<path clip-path=\"url(#clip480)\" d=\"M584.848 1454.1 Q581.237 1454.1 579.408 1457.66 Q577.602 1461.2 577.602 1468.33 Q577.602 1475.44 579.408 1479.01 Q581.237 1482.55 584.848 1482.55 Q588.482 1482.55 590.288 1479.01 Q592.116 1475.44 592.116 1468.33 Q592.116 1461.2 590.288 1457.66 Q588.482 1454.1 584.848 1454.1 M584.848 1450.39 Q590.658 1450.39 593.714 1455 Q596.792 1459.58 596.792 1468.33 Q596.792 1477.06 593.714 1481.67 Q590.658 1486.25 584.848 1486.25 Q579.038 1486.25 575.959 1481.67 Q572.903 1477.06 572.903 1468.33 Q572.903 1459.58 575.959 1455 Q579.038 1450.39 584.848 1450.39 Z\" fill=\"#000000\" fill-rule=\"nonzero\" fill-opacity=\"1\" /><path clip-path=\"url(#clip480)\" d=\"M605.01 1479.7 L609.894 1479.7 L609.894 1485.58 L605.01 1485.58 L605.01 1479.7 Z\" fill=\"#000000\" fill-rule=\"nonzero\" fill-opacity=\"1\" /><path clip-path=\"url(#clip480)\" d=\"M620.218 1484.86 L620.218 1480.6 Q621.977 1481.44 623.783 1481.88 Q625.588 1482.32 627.324 1482.32 Q631.954 1482.32 634.385 1479.21 Q636.838 1476.09 637.186 1469.75 Q635.843 1471.74 633.783 1472.8 Q631.723 1473.87 629.223 1473.87 Q624.037 1473.87 621.005 1470.74 Q617.996 1467.59 617.996 1462.15 Q617.996 1456.83 621.144 1453.61 Q624.292 1450.39 629.524 1450.39 Q635.519 1450.39 638.667 1455 Q641.838 1459.58 641.838 1468.33 Q641.838 1476.51 637.949 1481.39 Q634.084 1486.25 627.533 1486.25 Q625.774 1486.25 623.968 1485.9 Q622.162 1485.56 620.218 1484.86 M629.524 1470.21 Q632.672 1470.21 634.5 1468.06 Q636.352 1465.9 636.352 1462.15 Q636.352 1458.43 634.5 1456.27 Q632.672 1454.1 629.524 1454.1 Q626.375 1454.1 624.524 1456.27 Q622.695 1458.43 622.695 1462.15 Q622.695 1465.9 624.524 1468.06 Q626.375 1470.21 629.524 1470.21 Z\" fill=\"#000000\" fill-rule=\"nonzero\" fill-opacity=\"1\" /><path clip-path=\"url(#clip480)\" d=\"M650.38 1484.86 L650.38 1480.6 Q652.139 1481.44 653.945 1481.88 Q655.75 1482.32 657.486 1482.32 Q662.116 1482.32 664.546 1479.21 Q667 1476.09 667.347 1469.75 Q666.005 1471.74 663.945 1472.8 Q661.884 1473.87 659.384 1473.87 Q654.199 1473.87 651.167 1470.74 Q648.158 1467.59 648.158 1462.15 Q648.158 1456.83 651.306 1453.61 Q654.454 1450.39 659.685 1450.39 Q665.681 1450.39 668.829 1455 Q672 1459.58 672 1468.33 Q672 1476.51 668.111 1481.39 Q664.246 1486.25 657.695 1486.25 Q655.935 1486.25 654.13 1485.9 Q652.324 1485.56 650.38 1484.86 M659.685 1470.21 Q662.834 1470.21 664.662 1468.06 Q666.514 1465.9 666.514 1462.15 Q666.514 1458.43 664.662 1456.27 Q662.834 1454.1 659.685 1454.1 Q656.537 1454.1 654.685 1456.27 Q652.857 1458.43 652.857 1462.15 Q652.857 1465.9 654.685 1468.06 Q656.537 1470.21 659.685 1470.21 Z\" fill=\"#000000\" fill-rule=\"nonzero\" fill-opacity=\"1\" /><path clip-path=\"url(#clip480)\" d=\"M690.403 1454.1 Q686.792 1454.1 684.963 1457.66 Q683.157 1461.2 683.157 1468.33 Q683.157 1475.44 684.963 1479.01 Q686.792 1482.55 690.403 1482.55 Q694.037 1482.55 695.843 1479.01 Q697.671 1475.44 697.671 1468.33 Q697.671 1461.2 695.843 1457.66 Q694.037 1454.1 690.403 1454.1 M690.403 1450.39 Q696.213 1450.39 699.269 1455 Q702.347 1459.58 702.347 1468.33 Q702.347 1477.06 699.269 1481.67 Q696.213 1486.25 690.403 1486.25 Q684.593 1486.25 681.514 1481.67 Q678.458 1477.06 678.458 1468.33 Q678.458 1459.58 681.514 1455 Q684.593 1450.39 690.403 1450.39 Z\" fill=\"#000000\" fill-rule=\"nonzero\" fill-opacity=\"1\" /><path clip-path=\"url(#clip480)\" d=\"M962.795 1454.1 Q959.184 1454.1 957.355 1457.66 Q955.55 1461.2 955.55 1468.33 Q955.55 1475.44 957.355 1479.01 Q959.184 1482.55 962.795 1482.55 Q966.429 1482.55 968.235 1479.01 Q970.064 1475.44 970.064 1468.33 Q970.064 1461.2 968.235 1457.66 Q966.429 1454.1 962.795 1454.1 M962.795 1450.39 Q968.605 1450.39 971.661 1455 Q974.739 1459.58 974.739 1468.33 Q974.739 1477.06 971.661 1481.67 Q968.605 1486.25 962.795 1486.25 Q956.985 1486.25 953.906 1481.67 Q950.851 1477.06 950.851 1468.33 Q950.851 1459.58 953.906 1455 Q956.985 1450.39 962.795 1450.39 Z\" fill=\"#000000\" fill-rule=\"nonzero\" fill-opacity=\"1\" /><path clip-path=\"url(#clip480)\" d=\"M982.957 1479.7 L987.841 1479.7 L987.841 1485.58 L982.957 1485.58 L982.957 1479.7 Z\" fill=\"#000000\" fill-rule=\"nonzero\" fill-opacity=\"1\" /><path clip-path=\"url(#clip480)\" d=\"M998.165 1484.86 L998.165 1480.6 Q999.924 1481.44 1001.73 1481.88 Q1003.54 1482.32 1005.27 1482.32 Q1009.9 1482.32 1012.33 1479.21 Q1014.79 1476.09 1015.13 1469.75 Q1013.79 1471.74 1011.73 1472.8 Q1009.67 1473.87 1007.17 1473.87 Q1001.98 1473.87 998.952 1470.74 Q995.943 1467.59 995.943 1462.15 Q995.943 1456.83 999.091 1453.61 Q1002.24 1450.39 1007.47 1450.39 Q1013.47 1450.39 1016.61 1455 Q1019.79 1459.58 1019.79 1468.33 Q1019.79 1476.51 1015.9 1481.39 Q1012.03 1486.25 1005.48 1486.25 Q1003.72 1486.25 1001.92 1485.9 Q1000.11 1485.56 998.165 1484.86 M1007.47 1470.21 Q1010.62 1470.21 1012.45 1468.06 Q1014.3 1465.9 1014.3 1462.15 Q1014.3 1458.43 1012.45 1456.27 Q1010.62 1454.1 1007.47 1454.1 Q1004.32 1454.1 1002.47 1456.27 Q1000.64 1458.43 1000.64 1462.15 Q1000.64 1465.9 1002.47 1468.06 Q1004.32 1470.21 1007.47 1470.21 Z\" fill=\"#000000\" fill-rule=\"nonzero\" fill-opacity=\"1\" /><path clip-path=\"url(#clip480)\" d=\"M1028.33 1484.86 L1028.33 1480.6 Q1030.09 1481.44 1031.89 1481.88 Q1033.7 1482.32 1035.43 1482.32 Q1040.06 1482.32 1042.49 1479.21 Q1044.95 1476.09 1045.29 1469.75 Q1043.95 1471.74 1041.89 1472.8 Q1039.83 1473.87 1037.33 1473.87 Q1032.15 1473.87 1029.11 1470.74 Q1026.1 1467.59 1026.1 1462.15 Q1026.1 1456.83 1029.25 1453.61 Q1032.4 1450.39 1037.63 1450.39 Q1043.63 1450.39 1046.78 1455 Q1049.95 1459.58 1049.95 1468.33 Q1049.95 1476.51 1046.06 1481.39 Q1042.19 1486.25 1035.64 1486.25 Q1033.88 1486.25 1032.08 1485.9 Q1030.27 1485.56 1028.33 1484.86 M1037.63 1470.21 Q1040.78 1470.21 1042.61 1468.06 Q1044.46 1465.9 1044.46 1462.15 Q1044.46 1458.43 1042.61 1456.27 Q1040.78 1454.1 1037.63 1454.1 Q1034.48 1454.1 1032.63 1456.27 Q1030.8 1458.43 1030.8 1462.15 Q1030.8 1465.9 1032.63 1468.06 Q1034.48 1470.21 1037.63 1470.21 Z\" fill=\"#000000\" fill-rule=\"nonzero\" fill-opacity=\"1\" /><path clip-path=\"url(#clip480)\" d=\"M1058.4 1451.02 L1076.75 1451.02 L1076.75 1454.96 L1062.68 1454.96 L1062.68 1463.43 Q1063.7 1463.08 1064.72 1462.92 Q1065.73 1462.73 1066.75 1462.73 Q1072.54 1462.73 1075.92 1465.9 Q1079.3 1469.08 1079.3 1474.49 Q1079.3 1480.07 1075.83 1483.17 Q1072.35 1486.25 1066.04 1486.25 Q1063.86 1486.25 1061.59 1485.88 Q1059.35 1485.51 1056.94 1484.77 L1056.94 1480.07 Q1059.02 1481.2 1061.24 1481.76 Q1063.47 1482.32 1065.94 1482.32 Q1069.95 1482.32 1072.29 1480.21 Q1074.62 1478.1 1074.62 1474.49 Q1074.62 1470.88 1072.29 1468.77 Q1069.95 1466.67 1065.94 1466.67 Q1064.07 1466.67 1062.19 1467.08 Q1060.34 1467.5 1058.4 1468.38 L1058.4 1451.02 Z\" fill=\"#000000\" fill-rule=\"nonzero\" fill-opacity=\"1\" /><path clip-path=\"url(#clip480)\" d=\"M1329.52 1481.64 L1337.15 1481.64 L1337.15 1455.28 L1328.84 1456.95 L1328.84 1452.69 L1337.11 1451.02 L1341.78 1451.02 L1341.78 1481.64 L1349.42 1481.64 L1349.42 1485.58 L1329.52 1485.58 L1329.52 1481.64 Z\" fill=\"#000000\" fill-rule=\"nonzero\" fill-opacity=\"1\" /><path clip-path=\"url(#clip480)\" d=\"M1358.87 1479.7 L1363.75 1479.7 L1363.75 1485.58 L1358.87 1485.58 L1358.87 1479.7 Z\" fill=\"#000000\" fill-rule=\"nonzero\" fill-opacity=\"1\" /><path clip-path=\"url(#clip480)\" d=\"M1383.94 1454.1 Q1380.33 1454.1 1378.5 1457.66 Q1376.69 1461.2 1376.69 1468.33 Q1376.69 1475.44 1378.5 1479.01 Q1380.33 1482.55 1383.94 1482.55 Q1387.57 1482.55 1389.38 1479.01 Q1391.2 1475.44 1391.2 1468.33 Q1391.2 1461.2 1389.38 1457.66 Q1387.57 1454.1 1383.94 1454.1 M1383.94 1450.39 Q1389.75 1450.39 1392.8 1455 Q1395.88 1459.58 1395.88 1468.33 Q1395.88 1477.06 1392.8 1481.67 Q1389.75 1486.25 1383.94 1486.25 Q1378.13 1486.25 1375.05 1481.67 Q1371.99 1477.06 1371.99 1468.33 Q1371.99 1459.58 1375.05 1455 Q1378.13 1450.39 1383.94 1450.39 Z\" fill=\"#000000\" fill-rule=\"nonzero\" fill-opacity=\"1\" /><path clip-path=\"url(#clip480)\" d=\"M1414.1 1454.1 Q1410.49 1454.1 1408.66 1457.66 Q1406.85 1461.2 1406.85 1468.33 Q1406.85 1475.44 1408.66 1479.01 Q1410.49 1482.55 1414.1 1482.55 Q1417.73 1482.55 1419.54 1479.01 Q1421.37 1475.44 1421.37 1468.33 Q1421.37 1461.2 1419.54 1457.66 Q1417.73 1454.1 1414.1 1454.1 M1414.1 1450.39 Q1419.91 1450.39 1422.96 1455 Q1426.04 1459.58 1426.04 1468.33 Q1426.04 1477.06 1422.96 1481.67 Q1419.91 1486.25 1414.1 1486.25 Q1408.29 1486.25 1405.21 1481.67 Q1402.15 1477.06 1402.15 1468.33 Q1402.15 1459.58 1405.21 1455 Q1408.29 1450.39 1414.1 1450.39 Z\" fill=\"#000000\" fill-rule=\"nonzero\" fill-opacity=\"1\" /><path clip-path=\"url(#clip480)\" d=\"M1444.26 1454.1 Q1440.65 1454.1 1438.82 1457.66 Q1437.01 1461.2 1437.01 1468.33 Q1437.01 1475.44 1438.82 1479.01 Q1440.65 1482.55 1444.26 1482.55 Q1447.89 1482.55 1449.7 1479.01 Q1451.53 1475.44 1451.53 1468.33 Q1451.53 1461.2 1449.7 1457.66 Q1447.89 1454.1 1444.26 1454.1 M1444.26 1450.39 Q1450.07 1450.39 1453.13 1455 Q1456.2 1459.58 1456.2 1468.33 Q1456.2 1477.06 1453.13 1481.67 Q1450.07 1486.25 1444.26 1486.25 Q1438.45 1486.25 1435.37 1481.67 Q1432.32 1477.06 1432.32 1468.33 Q1432.32 1459.58 1435.37 1455 Q1438.45 1450.39 1444.26 1450.39 Z\" fill=\"#000000\" fill-rule=\"nonzero\" fill-opacity=\"1\" /><path clip-path=\"url(#clip480)\" d=\"M1707.46 1481.64 L1715.1 1481.64 L1715.1 1455.28 L1706.79 1456.95 L1706.79 1452.69 L1715.06 1451.02 L1719.73 1451.02 L1719.73 1481.64 L1727.37 1481.64 L1727.37 1485.58 L1707.46 1485.58 L1707.46 1481.64 Z\" fill=\"#000000\" fill-rule=\"nonzero\" fill-opacity=\"1\" /><path clip-path=\"url(#clip480)\" d=\"M1736.81 1479.7 L1741.7 1479.7 L1741.7 1485.58 L1736.81 1485.58 L1736.81 1479.7 Z\" fill=\"#000000\" fill-rule=\"nonzero\" fill-opacity=\"1\" /><path clip-path=\"url(#clip480)\" d=\"M1761.88 1454.1 Q1758.27 1454.1 1756.44 1457.66 Q1754.64 1461.2 1754.64 1468.33 Q1754.64 1475.44 1756.44 1479.01 Q1758.27 1482.55 1761.88 1482.55 Q1765.52 1482.55 1767.32 1479.01 Q1769.15 1475.44 1769.15 1468.33 Q1769.15 1461.2 1767.32 1457.66 Q1765.52 1454.1 1761.88 1454.1 M1761.88 1450.39 Q1767.69 1450.39 1770.75 1455 Q1773.83 1459.58 1773.83 1468.33 Q1773.83 1477.06 1770.75 1481.67 Q1767.69 1486.25 1761.88 1486.25 Q1756.07 1486.25 1752.99 1481.67 Q1749.94 1477.06 1749.94 1468.33 Q1749.94 1459.58 1752.99 1455 Q1756.07 1450.39 1761.88 1450.39 Z\" fill=\"#000000\" fill-rule=\"nonzero\" fill-opacity=\"1\" /><path clip-path=\"url(#clip480)\" d=\"M1792.05 1454.1 Q1788.43 1454.1 1786.61 1457.66 Q1784.8 1461.2 1784.8 1468.33 Q1784.8 1475.44 1786.61 1479.01 Q1788.43 1482.55 1792.05 1482.55 Q1795.68 1482.55 1797.49 1479.01 Q1799.31 1475.44 1799.31 1468.33 Q1799.31 1461.2 1797.49 1457.66 Q1795.68 1454.1 1792.05 1454.1 M1792.05 1450.39 Q1797.86 1450.39 1800.91 1455 Q1803.99 1459.58 1803.99 1468.33 Q1803.99 1477.06 1800.91 1481.67 Q1797.86 1486.25 1792.05 1486.25 Q1786.24 1486.25 1783.16 1481.67 Q1780.1 1477.06 1780.1 1468.33 Q1780.1 1459.58 1783.16 1455 Q1786.24 1450.39 1792.05 1450.39 Z\" fill=\"#000000\" fill-rule=\"nonzero\" fill-opacity=\"1\" /><path clip-path=\"url(#clip480)\" d=\"M1812.25 1451.02 L1830.61 1451.02 L1830.61 1454.96 L1816.54 1454.96 L1816.54 1463.43 Q1817.55 1463.08 1818.57 1462.92 Q1819.59 1462.73 1820.61 1462.73 Q1826.4 1462.73 1829.78 1465.9 Q1833.16 1469.08 1833.16 1474.49 Q1833.16 1480.07 1829.68 1483.17 Q1826.21 1486.25 1819.89 1486.25 Q1817.72 1486.25 1815.45 1485.88 Q1813.2 1485.51 1810.8 1484.77 L1810.8 1480.07 Q1812.88 1481.2 1815.1 1481.76 Q1817.32 1482.32 1819.8 1482.32 Q1823.8 1482.32 1826.14 1480.21 Q1828.48 1478.1 1828.48 1474.49 Q1828.48 1470.88 1826.14 1468.77 Q1823.8 1466.67 1819.8 1466.67 Q1817.92 1466.67 1816.05 1467.08 Q1814.2 1467.5 1812.25 1468.38 L1812.25 1451.02 Z\" fill=\"#000000\" fill-rule=\"nonzero\" fill-opacity=\"1\" /><path clip-path=\"url(#clip480)\" d=\"M2084.41 1481.64 L2092.05 1481.64 L2092.05 1455.28 L2083.74 1456.95 L2083.74 1452.69 L2092.01 1451.02 L2096.68 1451.02 L2096.68 1481.64 L2104.32 1481.64 L2104.32 1485.58 L2084.41 1485.58 L2084.41 1481.64 Z\" fill=\"#000000\" fill-rule=\"nonzero\" fill-opacity=\"1\" /><path clip-path=\"url(#clip480)\" d=\"M2113.77 1479.7 L2118.65 1479.7 L2118.65 1485.58 L2113.77 1485.58 L2113.77 1479.7 Z\" fill=\"#000000\" fill-rule=\"nonzero\" fill-opacity=\"1\" /><path clip-path=\"url(#clip480)\" d=\"M2138.84 1454.1 Q2135.22 1454.1 2133.4 1457.66 Q2131.59 1461.2 2131.59 1468.33 Q2131.59 1475.44 2133.4 1479.01 Q2135.22 1482.55 2138.84 1482.55 Q2142.47 1482.55 2144.28 1479.01 Q2146.1 1475.44 2146.1 1468.33 Q2146.1 1461.2 2144.28 1457.66 Q2142.47 1454.1 2138.84 1454.1 M2138.84 1450.39 Q2144.65 1450.39 2147.7 1455 Q2150.78 1459.58 2150.78 1468.33 Q2150.78 1477.06 2147.7 1481.67 Q2144.65 1486.25 2138.84 1486.25 Q2133.03 1486.25 2129.95 1481.67 Q2126.89 1477.06 2126.89 1468.33 Q2126.89 1459.58 2129.95 1455 Q2133.03 1450.39 2138.84 1450.39 Z\" fill=\"#000000\" fill-rule=\"nonzero\" fill-opacity=\"1\" /><path clip-path=\"url(#clip480)\" d=\"M2159.81 1481.64 L2167.45 1481.64 L2167.45 1455.28 L2159.14 1456.95 L2159.14 1452.69 L2167.4 1451.02 L2172.08 1451.02 L2172.08 1481.64 L2179.71 1481.64 L2179.71 1485.58 L2159.81 1485.58 L2159.81 1481.64 Z\" fill=\"#000000\" fill-rule=\"nonzero\" fill-opacity=\"1\" /><path clip-path=\"url(#clip480)\" d=\"M2199.16 1454.1 Q2195.55 1454.1 2193.72 1457.66 Q2191.91 1461.2 2191.91 1468.33 Q2191.91 1475.44 2193.72 1479.01 Q2195.55 1482.55 2199.16 1482.55 Q2202.79 1482.55 2204.6 1479.01 Q2206.43 1475.44 2206.43 1468.33 Q2206.43 1461.2 2204.6 1457.66 Q2202.79 1454.1 2199.16 1454.1 M2199.16 1450.39 Q2204.97 1450.39 2208.02 1455 Q2211.1 1459.58 2211.1 1468.33 Q2211.1 1477.06 2208.02 1481.67 Q2204.97 1486.25 2199.16 1486.25 Q2193.35 1486.25 2190.27 1481.67 Q2187.21 1477.06 2187.21 1468.33 Q2187.21 1459.58 2190.27 1455 Q2193.35 1450.39 2199.16 1450.39 Z\" fill=\"#000000\" fill-rule=\"nonzero\" fill-opacity=\"1\" /><path clip-path=\"url(#clip480)\" d=\"M1409.14 1532.4 L1396.25 1549.74 L1409.81 1568.04 L1402.9 1568.04 L1392.52 1554.04 L1382.15 1568.04 L1375.24 1568.04 L1389.09 1549.39 L1376.42 1532.4 L1383.33 1532.4 L1392.78 1545.1 L1402.23 1532.4 L1409.14 1532.4 Z\" fill=\"#000000\" fill-rule=\"nonzero\" fill-opacity=\"1\" /><polyline clip-path=\"url(#clip482)\" style=\"stroke:#000000; stroke-linecap:round; stroke-linejoin:round; stroke-width:2; stroke-opacity:0.1; fill:none\" points=\"432.293,1149.82 2352.76,1149.82 \"/>\n",
       "<polyline clip-path=\"url(#clip482)\" style=\"stroke:#000000; stroke-linecap:round; stroke-linejoin:round; stroke-width:2; stroke-opacity:0.1; fill:none\" points=\"432.293,845.715 2352.76,845.715 \"/>\n",
       "<polyline clip-path=\"url(#clip482)\" style=\"stroke:#000000; stroke-linecap:round; stroke-linejoin:round; stroke-width:2; stroke-opacity:0.1; fill:none\" points=\"432.293,541.614 2352.76,541.614 \"/>\n",
       "<polyline clip-path=\"url(#clip482)\" style=\"stroke:#000000; stroke-linecap:round; stroke-linejoin:round; stroke-width:2; stroke-opacity:0.1; fill:none\" points=\"432.293,237.513 2352.76,237.513 \"/>\n",
       "<polyline clip-path=\"url(#clip480)\" style=\"stroke:#000000; stroke-linecap:round; stroke-linejoin:round; stroke-width:4; stroke-opacity:1; fill:none\" points=\"432.293,1423.18 432.293,106.192 \"/>\n",
       "<polyline clip-path=\"url(#clip480)\" style=\"stroke:#000000; stroke-linecap:round; stroke-linejoin:round; stroke-width:4; stroke-opacity:1; fill:none\" points=\"432.293,1149.82 451.19,1149.82 \"/>\n",
       "<polyline clip-path=\"url(#clip480)\" style=\"stroke:#000000; stroke-linecap:round; stroke-linejoin:round; stroke-width:4; stroke-opacity:1; fill:none\" points=\"432.293,845.715 451.19,845.715 \"/>\n",
       "<polyline clip-path=\"url(#clip480)\" style=\"stroke:#000000; stroke-linecap:round; stroke-linejoin:round; stroke-width:4; stroke-opacity:1; fill:none\" points=\"432.293,541.614 451.19,541.614 \"/>\n",
       "<polyline clip-path=\"url(#clip480)\" style=\"stroke:#000000; stroke-linecap:round; stroke-linejoin:round; stroke-width:4; stroke-opacity:1; fill:none\" points=\"432.293,237.513 451.19,237.513 \"/>\n",
       "<path clip-path=\"url(#clip480)\" d=\"M114.26 1156.71 L143.936 1156.71 L143.936 1160.65 L114.26 1160.65 L114.26 1156.71 Z\" fill=\"#000000\" fill-rule=\"nonzero\" fill-opacity=\"1\" /><path clip-path=\"url(#clip480)\" d=\"M158.056 1169.61 L174.376 1169.61 L174.376 1173.54 L152.431 1173.54 L152.431 1169.61 Q155.093 1166.85 159.677 1162.22 Q164.283 1157.57 165.464 1156.23 Q167.709 1153.71 168.589 1151.97 Q169.491 1150.21 169.491 1148.52 Q169.491 1145.77 167.547 1144.03 Q165.626 1142.29 162.524 1142.29 Q160.325 1142.29 157.871 1143.06 Q155.44 1143.82 152.663 1145.37 L152.663 1140.65 Q155.487 1139.52 157.94 1138.94 Q160.394 1138.36 162.431 1138.36 Q167.802 1138.36 170.996 1141.04 Q174.19 1143.73 174.19 1148.22 Q174.19 1150.35 173.38 1152.27 Q172.593 1154.17 170.487 1156.76 Q169.908 1157.43 166.806 1160.65 Q163.704 1163.84 158.056 1169.61 Z\" fill=\"#000000\" fill-rule=\"nonzero\" fill-opacity=\"1\" /><path clip-path=\"url(#clip480)\" d=\"M184.19 1167.66 L189.075 1167.66 L189.075 1173.54 L184.19 1173.54 L184.19 1167.66 Z\" fill=\"#000000\" fill-rule=\"nonzero\" fill-opacity=\"1\" /><path clip-path=\"url(#clip480)\" d=\"M209.26 1142.06 Q205.649 1142.06 203.82 1145.63 Q202.014 1149.17 202.014 1156.3 Q202.014 1163.4 203.82 1166.97 Q205.649 1170.51 209.26 1170.51 Q212.894 1170.51 214.699 1166.97 Q216.528 1163.4 216.528 1156.3 Q216.528 1149.17 214.699 1145.63 Q212.894 1142.06 209.26 1142.06 M209.26 1138.36 Q215.07 1138.36 218.125 1142.96 Q221.204 1147.55 221.204 1156.3 Q221.204 1165.02 218.125 1169.63 Q215.07 1174.21 209.26 1174.21 Q203.449 1174.21 200.371 1169.63 Q197.315 1165.02 197.315 1156.3 Q197.315 1147.55 200.371 1142.96 Q203.449 1138.36 209.26 1138.36 Z\" fill=\"#000000\" fill-rule=\"nonzero\" fill-opacity=\"1\" /><path clip-path=\"url(#clip480)\" d=\"M257.593 1148.08 L247.014 1158.71 L257.593 1169.28 L254.838 1172.09 L244.213 1161.46 L233.588 1172.09 L230.857 1169.28 L241.412 1158.71 L230.857 1148.08 L233.588 1145.28 L244.213 1155.9 L254.838 1145.28 L257.593 1148.08 Z\" fill=\"#000000\" fill-rule=\"nonzero\" fill-opacity=\"1\" /><path clip-path=\"url(#clip480)\" d=\"M269.954 1169.61 L277.593 1169.61 L277.593 1143.24 L269.282 1144.91 L269.282 1140.65 L277.546 1138.98 L282.222 1138.98 L282.222 1169.61 L289.861 1169.61 L289.861 1173.54 L269.954 1173.54 L269.954 1169.61 Z\" fill=\"#000000\" fill-rule=\"nonzero\" fill-opacity=\"1\" /><path clip-path=\"url(#clip480)\" d=\"M309.305 1142.06 Q305.694 1142.06 303.866 1145.63 Q302.06 1149.17 302.06 1156.3 Q302.06 1163.4 303.866 1166.97 Q305.694 1170.51 309.305 1170.51 Q312.94 1170.51 314.745 1166.97 Q316.574 1163.4 316.574 1156.3 Q316.574 1149.17 314.745 1145.63 Q312.94 1142.06 309.305 1142.06 M309.305 1138.36 Q315.116 1138.36 318.171 1142.96 Q321.25 1147.55 321.25 1156.3 Q321.25 1165.02 318.171 1169.63 Q315.116 1174.21 309.305 1174.21 Q303.495 1174.21 300.417 1169.63 Q297.361 1165.02 297.361 1156.3 Q297.361 1147.55 300.417 1142.96 Q303.495 1138.36 309.305 1138.36 Z\" fill=\"#000000\" fill-rule=\"nonzero\" fill-opacity=\"1\" /><path clip-path=\"url(#clip480)\" d=\"M321.25 1132.46 L345.361 1132.46 L345.361 1135.66 L321.25 1135.66 L321.25 1132.46 Z\" fill=\"#000000\" fill-rule=\"nonzero\" fill-opacity=\"1\" /><path clip-path=\"url(#clip480)\" d=\"M354.22 1142.94 L360.426 1142.94 L360.426 1121.51 L353.674 1122.87 L353.674 1119.41 L360.389 1118.05 L364.188 1118.05 L364.188 1142.94 L370.394 1142.94 L370.394 1146.13 L354.22 1146.13 L354.22 1142.94 Z\" fill=\"#000000\" fill-rule=\"nonzero\" fill-opacity=\"1\" /><path clip-path=\"url(#clip480)\" d=\"M388.506 1121.36 L378.914 1136.35 L388.506 1136.35 L388.506 1121.36 M387.51 1118.05 L392.287 1118.05 L392.287 1136.35 L396.293 1136.35 L396.293 1139.51 L392.287 1139.51 L392.287 1146.13 L388.506 1146.13 L388.506 1139.51 L375.83 1139.51 L375.83 1135.85 L387.51 1118.05 Z\" fill=\"#000000\" fill-rule=\"nonzero\" fill-opacity=\"1\" /><path clip-path=\"url(#clip480)\" d=\"M384.348 831.513 Q380.737 831.513 378.909 835.078 Q377.103 838.62 377.103 845.749 Q377.103 852.856 378.909 856.421 Q380.737 859.962 384.348 859.962 Q387.983 859.962 389.788 856.421 Q391.617 852.856 391.617 845.749 Q391.617 838.62 389.788 835.078 Q387.983 831.513 384.348 831.513 M384.348 827.81 Q390.159 827.81 393.214 832.416 Q396.293 837 396.293 845.749 Q396.293 854.476 393.214 859.083 Q390.159 863.666 384.348 863.666 Q378.538 863.666 375.46 859.083 Q372.404 854.476 372.404 845.749 Q372.404 837 375.46 832.416 Q378.538 827.81 384.348 827.81 Z\" fill=\"#000000\" fill-rule=\"nonzero\" fill-opacity=\"1\" /><path clip-path=\"url(#clip480)\" d=\"M158.056 561.406 L174.376 561.406 L174.376 565.341 L152.431 565.341 L152.431 561.406 Q155.093 558.652 159.677 554.022 Q164.283 549.369 165.464 548.027 Q167.709 545.504 168.589 543.767 Q169.491 542.008 169.491 540.318 Q169.491 537.564 167.547 535.828 Q165.626 534.092 162.524 534.092 Q160.325 534.092 157.871 534.855 Q155.44 535.619 152.663 537.17 L152.663 532.448 Q155.487 531.314 157.94 530.735 Q160.394 530.156 162.431 530.156 Q167.802 530.156 170.996 532.842 Q174.19 535.527 174.19 540.017 Q174.19 542.147 173.38 544.068 Q172.593 545.966 170.487 548.559 Q169.908 549.23 166.806 552.448 Q163.704 555.642 158.056 561.406 Z\" fill=\"#000000\" fill-rule=\"nonzero\" fill-opacity=\"1\" /><path clip-path=\"url(#clip480)\" d=\"M184.19 559.462 L189.075 559.462 L189.075 565.341 L184.19 565.341 L184.19 559.462 Z\" fill=\"#000000\" fill-rule=\"nonzero\" fill-opacity=\"1\" /><path clip-path=\"url(#clip480)\" d=\"M209.26 533.86 Q205.649 533.86 203.82 537.425 Q202.014 540.967 202.014 548.096 Q202.014 555.203 203.82 558.767 Q205.649 562.309 209.26 562.309 Q212.894 562.309 214.699 558.767 Q216.528 555.203 216.528 548.096 Q216.528 540.967 214.699 537.425 Q212.894 533.86 209.26 533.86 M209.26 530.156 Q215.07 530.156 218.125 534.763 Q221.204 539.346 221.204 548.096 Q221.204 556.823 218.125 561.429 Q215.07 566.013 209.26 566.013 Q203.449 566.013 200.371 561.429 Q197.315 556.823 197.315 548.096 Q197.315 539.346 200.371 534.763 Q203.449 530.156 209.26 530.156 Z\" fill=\"#000000\" fill-rule=\"nonzero\" fill-opacity=\"1\" /><path clip-path=\"url(#clip480)\" d=\"M257.593 539.879 L247.014 550.504 L257.593 561.082 L254.838 563.883 L244.213 553.258 L233.588 563.883 L230.857 561.082 L241.412 550.504 L230.857 539.879 L233.588 537.078 L244.213 547.703 L254.838 537.078 L257.593 539.879 Z\" fill=\"#000000\" fill-rule=\"nonzero\" fill-opacity=\"1\" /><path clip-path=\"url(#clip480)\" d=\"M269.954 561.406 L277.593 561.406 L277.593 535.041 L269.282 536.707 L269.282 532.448 L277.546 530.781 L282.222 530.781 L282.222 561.406 L289.861 561.406 L289.861 565.341 L269.954 565.341 L269.954 561.406 Z\" fill=\"#000000\" fill-rule=\"nonzero\" fill-opacity=\"1\" /><path clip-path=\"url(#clip480)\" d=\"M309.305 533.86 Q305.694 533.86 303.866 537.425 Q302.06 540.967 302.06 548.096 Q302.06 555.203 303.866 558.767 Q305.694 562.309 309.305 562.309 Q312.94 562.309 314.745 558.767 Q316.574 555.203 316.574 548.096 Q316.574 540.967 314.745 537.425 Q312.94 533.86 309.305 533.86 M309.305 530.156 Q315.116 530.156 318.171 534.763 Q321.25 539.346 321.25 548.096 Q321.25 556.823 318.171 561.429 Q315.116 566.013 309.305 566.013 Q303.495 566.013 300.417 561.429 Q297.361 556.823 297.361 548.096 Q297.361 539.346 300.417 534.763 Q303.495 530.156 309.305 530.156 Z\" fill=\"#000000\" fill-rule=\"nonzero\" fill-opacity=\"1\" /><path clip-path=\"url(#clip480)\" d=\"M321.25 524.258 L345.361 524.258 L345.361 527.455 L321.25 527.455 L321.25 524.258 Z\" fill=\"#000000\" fill-rule=\"nonzero\" fill-opacity=\"1\" /><path clip-path=\"url(#clip480)\" d=\"M354.22 534.734 L360.426 534.734 L360.426 513.312 L353.674 514.666 L353.674 511.205 L360.389 509.851 L364.188 509.851 L364.188 534.734 L370.394 534.734 L370.394 537.931 L354.22 537.931 L354.22 534.734 Z\" fill=\"#000000\" fill-rule=\"nonzero\" fill-opacity=\"1\" /><path clip-path=\"url(#clip480)\" d=\"M388.506 513.161 L378.914 528.151 L388.506 528.151 L388.506 513.161 M387.51 509.851 L392.287 509.851 L392.287 528.151 L396.293 528.151 L396.293 531.311 L392.287 531.311 L392.287 537.931 L388.506 537.931 L388.506 531.311 L375.83 531.311 L375.83 527.643 L387.51 509.851 Z\" fill=\"#000000\" fill-rule=\"nonzero\" fill-opacity=\"1\" /><path clip-path=\"url(#clip480)\" d=\"M166.876 230.754 L155.07 249.203 L166.876 249.203 L166.876 230.754 M165.649 226.68 L171.528 226.68 L171.528 249.203 L176.459 249.203 L176.459 253.092 L171.528 253.092 L171.528 261.24 L166.876 261.24 L166.876 253.092 L151.274 253.092 L151.274 248.578 L165.649 226.68 Z\" fill=\"#000000\" fill-rule=\"nonzero\" fill-opacity=\"1\" /><path clip-path=\"url(#clip480)\" d=\"M184.19 255.361 L189.075 255.361 L189.075 261.24 L184.19 261.24 L184.19 255.361 Z\" fill=\"#000000\" fill-rule=\"nonzero\" fill-opacity=\"1\" /><path clip-path=\"url(#clip480)\" d=\"M209.26 229.759 Q205.649 229.759 203.82 233.324 Q202.014 236.866 202.014 243.995 Q202.014 251.102 203.82 254.666 Q205.649 258.208 209.26 258.208 Q212.894 258.208 214.699 254.666 Q216.528 251.102 216.528 243.995 Q216.528 236.866 214.699 233.324 Q212.894 229.759 209.26 229.759 M209.26 226.055 Q215.07 226.055 218.125 230.662 Q221.204 235.245 221.204 243.995 Q221.204 252.722 218.125 257.328 Q215.07 261.912 209.26 261.912 Q203.449 261.912 200.371 257.328 Q197.315 252.722 197.315 243.995 Q197.315 235.245 200.371 230.662 Q203.449 226.055 209.26 226.055 Z\" fill=\"#000000\" fill-rule=\"nonzero\" fill-opacity=\"1\" /><path clip-path=\"url(#clip480)\" d=\"M257.593 235.778 L247.014 246.403 L257.593 256.981 L254.838 259.782 L244.213 249.157 L233.588 259.782 L230.857 256.981 L241.412 246.403 L230.857 235.778 L233.588 232.977 L244.213 243.602 L254.838 232.977 L257.593 235.778 Z\" fill=\"#000000\" fill-rule=\"nonzero\" fill-opacity=\"1\" /><path clip-path=\"url(#clip480)\" d=\"M269.954 257.305 L277.593 257.305 L277.593 230.94 L269.282 232.606 L269.282 228.347 L277.546 226.68 L282.222 226.68 L282.222 257.305 L289.861 257.305 L289.861 261.24 L269.954 261.24 L269.954 257.305 Z\" fill=\"#000000\" fill-rule=\"nonzero\" fill-opacity=\"1\" /><path clip-path=\"url(#clip480)\" d=\"M309.305 229.759 Q305.694 229.759 303.866 233.324 Q302.06 236.866 302.06 243.995 Q302.06 251.102 303.866 254.666 Q305.694 258.208 309.305 258.208 Q312.94 258.208 314.745 254.666 Q316.574 251.102 316.574 243.995 Q316.574 236.866 314.745 233.324 Q312.94 229.759 309.305 229.759 M309.305 226.055 Q315.116 226.055 318.171 230.662 Q321.25 235.245 321.25 243.995 Q321.25 252.722 318.171 257.328 Q315.116 261.912 309.305 261.912 Q303.495 261.912 300.417 257.328 Q297.361 252.722 297.361 243.995 Q297.361 235.245 300.417 230.662 Q303.495 226.055 309.305 226.055 Z\" fill=\"#000000\" fill-rule=\"nonzero\" fill-opacity=\"1\" /><path clip-path=\"url(#clip480)\" d=\"M321.25 220.157 L345.361 220.157 L345.361 223.354 L321.25 223.354 L321.25 220.157 Z\" fill=\"#000000\" fill-rule=\"nonzero\" fill-opacity=\"1\" /><path clip-path=\"url(#clip480)\" d=\"M354.22 230.633 L360.426 230.633 L360.426 209.211 L353.674 210.565 L353.674 207.104 L360.389 205.75 L364.188 205.75 L364.188 230.633 L370.394 230.633 L370.394 233.83 L354.22 233.83 L354.22 230.633 Z\" fill=\"#000000\" fill-rule=\"nonzero\" fill-opacity=\"1\" /><path clip-path=\"url(#clip480)\" d=\"M388.506 209.06 L378.914 224.05 L388.506 224.05 L388.506 209.06 M387.51 205.75 L392.287 205.75 L392.287 224.05 L396.293 224.05 L396.293 227.21 L392.287 227.21 L392.287 233.83 L388.506 233.83 L388.506 227.21 L375.83 227.21 L375.83 223.542 L387.51 205.75 Z\" fill=\"#000000\" fill-rule=\"nonzero\" fill-opacity=\"1\" /><path clip-path=\"url(#clip480)\" d=\"M67.3143 762.999 Q73.68 765.482 75.6216 767.837 Q77.5631 770.192 77.5631 774.139 L77.5631 778.818 L72.6615 778.818 L72.6615 775.38 Q72.6615 772.961 71.5157 771.625 Q70.3699 770.288 66.1048 768.665 L63.4312 767.614 L28.3562 782.033 L28.3562 775.826 L56.238 764.686 L28.3562 753.546 L28.3562 747.339 L67.3143 762.999 Z\" fill=\"#000000\" fill-rule=\"nonzero\" fill-opacity=\"1\" /><path clip-path=\"url(#clip480)\" d=\"M510.975 54.8492 Q508.718 60.6362 506.577 62.4013 Q504.436 64.1663 500.848 64.1663 L496.595 64.1663 L496.595 59.7103 L499.72 59.7103 Q501.919 59.7103 503.134 58.6687 Q504.349 57.627 505.825 53.7497 L506.78 51.3192 L493.672 19.4328 L499.314 19.4328 L509.442 44.7799 L519.569 19.4328 L525.211 19.4328 L510.975 54.8492 Z\" fill=\"#000000\" fill-rule=\"nonzero\" fill-opacity=\"1\" /><path clip-path=\"url(#clip480)\" d=\"M552.092 24.9304 L589.187 24.9304 L589.187 29.7915 L552.092 29.7915 L552.092 24.9304 M552.092 36.7359 L589.187 36.7359 L589.187 41.6549 L552.092 41.6549 L552.092 36.7359 Z\" fill=\"#000000\" fill-rule=\"nonzero\" fill-opacity=\"1\" /><path clip-path=\"url(#clip480)\" d=\"M646.825 19.4328 L635.107 35.2024 L647.433 51.84 L641.154 51.84 L631.721 39.1086 L622.288 51.84 L616.009 51.84 L628.596 34.8841 L617.08 19.4328 L623.359 19.4328 L631.953 30.9778 L640.546 19.4328 L646.825 19.4328 Z\" fill=\"#000000\" fill-rule=\"nonzero\" fill-opacity=\"1\" /><path clip-path=\"url(#clip480)\" d=\"M677.033 8.64 L692.745 24.7568 L686.929 24.7568 L674.198 13.3275 L661.466 24.7568 L655.65 24.7568 L671.362 8.64 L677.033 8.64 Z\" fill=\"#000000\" fill-rule=\"nonzero\" fill-opacity=\"1\" /><path clip-path=\"url(#clip480)\" d=\"M703.885 8.64 L731.663 8.64 L731.663 11.1284 L715.98 51.84 L709.875 51.84 L724.632 13.559 L703.885 13.559 L703.885 8.64 Z\" fill=\"#000000\" fill-rule=\"nonzero\" fill-opacity=\"1\" /><path clip-path=\"url(#clip480)\" d=\"M758.457 33.2348 L774.053 33.2348 L774.053 37.9801 L758.457 37.9801 L758.457 33.2348 Z\" fill=\"#000000\" fill-rule=\"nonzero\" fill-opacity=\"1\" /><path clip-path=\"url(#clip480)\" d=\"M800.644 8.64 L828.421 8.64 L828.421 11.1284 L812.739 51.84 L806.633 51.84 L821.39 13.559 L800.644 13.559 L800.644 8.64 Z\" fill=\"#000000\" fill-rule=\"nonzero\" fill-opacity=\"1\" /><path clip-path=\"url(#clip480)\" d=\"M866.008 19.4328 L854.289 35.2024 L866.616 51.84 L860.337 51.84 L850.904 39.1086 L841.471 51.84 L835.192 51.84 L847.779 34.8841 L836.263 19.4328 L842.542 19.4328 L851.135 30.9778 L859.729 19.4328 L866.008 19.4328 Z\" fill=\"#000000\" fill-rule=\"nonzero\" fill-opacity=\"1\" /><path clip-path=\"url(#clip480)\" d=\"M896.216 8.64 L911.928 24.7568 L906.112 24.7568 L893.381 13.3275 L880.649 24.7568 L874.833 24.7568 L890.545 8.64 L896.216 8.64 Z\" fill=\"#000000\" fill-rule=\"nonzero\" fill-opacity=\"1\" /><path clip-path=\"url(#clip480)\" d=\"M937.767 27.9107 Q933.832 27.9107 931.517 30.6017 Q929.231 33.2926 929.231 37.9801 Q929.231 42.6387 931.517 45.3586 Q933.832 48.0495 937.767 48.0495 Q941.702 48.0495 943.988 45.3586 Q946.303 42.6387 946.303 37.9801 Q946.303 33.2926 943.988 30.6017 Q941.702 27.9107 937.767 27.9107 M949.37 9.59486 L949.37 14.9189 Q947.171 13.8772 944.914 13.3275 Q942.686 12.7777 940.487 12.7777 Q934.7 12.7777 931.633 16.6839 Q928.595 20.5902 928.161 28.4894 Q929.868 25.9721 932.443 24.6411 Q935.018 23.2811 938.114 23.2811 Q944.625 23.2811 948.386 27.2452 Q952.177 31.1804 952.177 37.9801 Q952.177 44.6352 948.241 48.6571 Q944.306 52.6791 937.767 52.6791 Q930.273 52.6791 926.309 46.95 Q922.345 41.1919 922.345 30.2834 Q922.345 20.0404 927.206 13.964 Q932.067 7.85875 940.255 7.85875 Q942.454 7.85875 944.682 8.29278 Q946.939 8.72681 949.37 9.59486 Z\" fill=\"#000000\" fill-rule=\"nonzero\" fill-opacity=\"1\" /><path clip-path=\"url(#clip480)\" d=\"M1002 14.6874 L1002 30.8042 L1018.12 30.8042 L1018.12 35.7232 L1002 35.7232 L1002 51.84 L997.142 51.84 L997.142 35.7232 L981.025 35.7232 L981.025 30.8042 L997.142 30.8042 L997.142 14.6874 L1002 14.6874 Z\" fill=\"#000000\" fill-rule=\"nonzero\" fill-opacity=\"1\" /><path clip-path=\"url(#clip480)\" d=\"M1054.61 46.921 L1075.01 46.921 L1075.01 51.84 L1047.58 51.84 L1047.58 46.921 Q1050.9 43.4778 1056.63 37.6908 Q1062.39 31.8748 1063.87 30.1966 Q1066.67 27.0427 1067.77 24.8726 Q1068.9 22.6735 1068.9 20.5612 Q1068.9 17.118 1066.47 14.9478 Q1064.07 12.7777 1060.19 12.7777 Q1057.44 12.7777 1054.38 13.7326 Q1051.34 14.6874 1047.86 16.6261 L1047.86 10.7233 Q1051.39 9.30551 1054.46 8.58213 Q1057.53 7.85875 1060.08 7.85875 Q1066.79 7.85875 1070.78 11.2152 Q1074.77 14.5717 1074.77 20.1851 Q1074.77 22.8471 1073.76 25.2487 Q1072.78 27.6214 1070.14 30.8621 Q1069.42 31.7012 1065.54 35.7232 Q1061.67 39.7162 1054.61 46.921 Z\" fill=\"#000000\" fill-rule=\"nonzero\" fill-opacity=\"1\" /><path clip-path=\"url(#clip480)\" d=\"M1088.29 46.921 L1097.84 46.921 L1097.84 13.964 L1087.45 16.0474 L1087.45 10.7233 L1097.78 8.64 L1103.62 8.64 L1103.62 46.921 L1113.17 46.921 L1113.17 51.84 L1088.29 51.84 L1088.29 46.921 Z\" fill=\"#000000\" fill-rule=\"nonzero\" fill-opacity=\"1\" /><path clip-path=\"url(#clip480)\" d=\"M1151.16 19.4328 L1139.44 35.2024 L1151.77 51.84 L1145.49 51.84 L1136.06 39.1086 L1126.63 51.84 L1120.35 51.84 L1132.93 34.8841 L1121.42 19.4328 L1127.7 19.4328 L1136.29 30.9778 L1144.88 19.4328 L1151.16 19.4328 Z\" fill=\"#000000\" fill-rule=\"nonzero\" fill-opacity=\"1\" /><path clip-path=\"url(#clip480)\" d=\"M1181.37 8.64 L1197.08 24.7568 L1191.27 24.7568 L1178.54 13.3275 L1165.8 24.7568 L1159.99 24.7568 L1175.7 8.64 L1181.37 8.64 Z\" fill=\"#000000\" fill-rule=\"nonzero\" fill-opacity=\"1\" /><path clip-path=\"url(#clip480)\" d=\"M1209.76 8.64 L1232.7 8.64 L1232.7 13.559 L1215.11 13.559 L1215.11 24.1492 Q1216.38 23.7152 1217.66 23.5126 Q1218.93 23.2811 1220.2 23.2811 Q1227.44 23.2811 1231.66 27.2452 Q1235.88 31.2093 1235.88 37.9801 Q1235.88 44.9535 1231.54 48.8308 Q1227.2 52.6791 1219.3 52.6791 Q1216.58 52.6791 1213.75 52.2162 Q1210.94 51.7532 1207.93 50.8273 L1207.93 44.9535 Q1210.54 46.3713 1213.32 47.0657 Q1216.09 47.7602 1219.19 47.7602 Q1224.19 47.7602 1227.12 45.1271 Q1230.04 42.494 1230.04 37.9801 Q1230.04 33.4663 1227.12 30.8332 Q1224.19 28.2001 1219.19 28.2001 Q1216.85 28.2001 1214.5 28.7209 Q1212.19 29.2417 1209.76 30.3413 L1209.76 8.64 Z\" fill=\"#000000\" fill-rule=\"nonzero\" fill-opacity=\"1\" /><path clip-path=\"url(#clip480)\" d=\"M1262.79 33.2348 L1278.39 33.2348 L1278.39 37.9801 L1262.79 37.9801 L1262.79 33.2348 Z\" fill=\"#000000\" fill-rule=\"nonzero\" fill-opacity=\"1\" /><path clip-path=\"url(#clip480)\" d=\"M1324.17 28.5473 Q1328.36 29.4443 1330.7 32.2799 Q1333.08 35.1156 1333.08 39.2822 Q1333.08 45.6768 1328.68 49.178 Q1324.28 52.6791 1316.18 52.6791 Q1313.46 52.6791 1310.57 52.1294 Q1307.7 51.6085 1304.63 50.5379 L1304.63 44.8956 Q1307.06 46.3134 1309.96 47.0368 Q1312.85 47.7602 1316.01 47.7602 Q1321.5 47.7602 1324.37 45.59 Q1327.26 43.4199 1327.26 39.2822 Q1327.26 35.4628 1324.57 33.3216 Q1321.91 31.1515 1317.13 31.1515 L1312.1 31.1515 L1312.1 26.3482 L1317.37 26.3482 Q1321.68 26.3482 1323.96 24.6411 Q1326.25 22.905 1326.25 19.6642 Q1326.25 16.3367 1323.88 14.5717 Q1321.53 12.7777 1317.13 12.7777 Q1314.73 12.7777 1311.98 13.2985 Q1309.23 13.8194 1305.94 14.9189 L1305.94 9.7106 Q1309.26 8.78468 1312.16 8.32171 Q1315.08 7.85875 1317.65 7.85875 Q1324.31 7.85875 1328.19 10.8969 Q1332.06 13.9062 1332.06 19.0566 Q1332.06 22.6446 1330.01 25.133 Q1327.96 27.5924 1324.17 28.5473 Z\" fill=\"#000000\" fill-rule=\"nonzero\" fill-opacity=\"1\" /><path clip-path=\"url(#clip480)\" d=\"M1344.22 8.64 L1367.16 8.64 L1367.16 13.559 L1349.57 13.559 L1349.57 24.1492 Q1350.84 23.7152 1352.12 23.5126 Q1353.39 23.2811 1354.66 23.2811 Q1361.9 23.2811 1366.12 27.2452 Q1370.35 31.2093 1370.35 37.9801 Q1370.35 44.9535 1366.01 48.8308 Q1361.67 52.6791 1353.77 52.6791 Q1351.05 52.6791 1348.21 52.2162 Q1345.4 51.7532 1342.39 50.8273 L1342.39 44.9535 Q1345 46.3713 1347.78 47.0657 Q1350.55 47.7602 1353.65 47.7602 Q1358.66 47.7602 1361.58 45.1271 Q1364.5 42.494 1364.5 37.9801 Q1364.5 33.4663 1361.58 30.8332 Q1358.66 28.2001 1353.65 28.2001 Q1351.31 28.2001 1348.96 28.7209 Q1346.65 29.2417 1344.22 30.3413 L1344.22 8.64 Z\" fill=\"#000000\" fill-rule=\"nonzero\" fill-opacity=\"1\" /><path clip-path=\"url(#clip480)\" d=\"M1408.05 19.4328 L1396.33 35.2024 L1408.66 51.84 L1402.38 51.84 L1392.94 39.1086 L1383.51 51.84 L1377.23 51.84 L1389.82 34.8841 L1378.3 19.4328 L1384.58 19.4328 L1393.18 30.9778 L1401.77 19.4328 L1408.05 19.4328 Z\" fill=\"#000000\" fill-rule=\"nonzero\" fill-opacity=\"1\" /><path clip-path=\"url(#clip480)\" d=\"M1438.26 8.64 L1453.97 24.7568 L1448.15 24.7568 L1435.42 13.3275 L1422.69 24.7568 L1416.87 24.7568 L1432.58 8.64 L1438.26 8.64 Z\" fill=\"#000000\" fill-rule=\"nonzero\" fill-opacity=\"1\" /><path clip-path=\"url(#clip480)\" d=\"M1482.64 13.7326 L1467.89 36.7938 L1482.64 36.7938 L1482.64 13.7326 M1481.11 8.64 L1488.46 8.64 L1488.46 36.7938 L1494.62 36.7938 L1494.62 41.6549 L1488.46 41.6549 L1488.46 51.84 L1482.64 51.84 L1482.64 41.6549 L1463.14 41.6549 L1463.14 36.0125 L1481.11 8.64 Z\" fill=\"#000000\" fill-rule=\"nonzero\" fill-opacity=\"1\" /><path clip-path=\"url(#clip480)\" d=\"M1544.04 14.6874 L1544.04 30.8042 L1560.16 30.8042 L1560.16 35.7232 L1544.04 35.7232 L1544.04 51.84 L1539.18 51.84 L1539.18 35.7232 L1523.06 35.7232 L1523.06 30.8042 L1539.18 30.8042 L1539.18 14.6874 L1544.04 14.6874 Z\" fill=\"#000000\" fill-rule=\"nonzero\" fill-opacity=\"1\" /><path clip-path=\"url(#clip480)\" d=\"M1609.32 28.5473 Q1613.52 29.4443 1615.86 32.2799 Q1618.23 35.1156 1618.23 39.2822 Q1618.23 45.6768 1613.83 49.178 Q1609.44 52.6791 1601.33 52.6791 Q1598.61 52.6791 1595.72 52.1294 Q1592.86 51.6085 1589.79 50.5379 L1589.79 44.8956 Q1592.22 46.3134 1595.11 47.0368 Q1598.01 47.7602 1601.16 47.7602 Q1606.66 47.7602 1609.52 45.59 Q1612.42 43.4199 1612.42 39.2822 Q1612.42 35.4628 1609.73 33.3216 Q1607.06 31.1515 1602.29 31.1515 L1597.25 31.1515 L1597.25 26.3482 L1602.52 26.3482 Q1606.83 26.3482 1609.12 24.6411 Q1611.4 22.905 1611.4 19.6642 Q1611.4 16.3367 1609.03 14.5717 Q1606.69 12.7777 1602.29 12.7777 Q1599.89 12.7777 1597.14 13.2985 Q1594.39 13.8194 1591.09 14.9189 L1591.09 9.7106 Q1594.42 8.78468 1597.31 8.32171 Q1600.23 7.85875 1602.81 7.85875 Q1609.46 7.85875 1613.34 10.8969 Q1617.22 13.9062 1617.22 19.0566 Q1617.22 22.6446 1615.16 25.133 Q1613.11 27.5924 1609.32 28.5473 Z\" fill=\"#000000\" fill-rule=\"nonzero\" fill-opacity=\"1\" /><path clip-path=\"url(#clip480)\" d=\"M1629.37 8.64 L1652.32 8.64 L1652.32 13.559 L1634.73 13.559 L1634.73 24.1492 Q1636 23.7152 1637.27 23.5126 Q1638.54 23.2811 1639.82 23.2811 Q1647.05 23.2811 1651.28 27.2452 Q1655.5 31.2093 1655.5 37.9801 Q1655.5 44.9535 1651.16 48.8308 Q1646.82 52.6791 1638.92 52.6791 Q1636.2 52.6791 1633.37 52.2162 Q1630.56 51.7532 1627.55 50.8273 L1627.55 44.9535 Q1630.15 46.3713 1632.93 47.0657 Q1635.71 47.7602 1638.8 47.7602 Q1643.81 47.7602 1646.73 45.1271 Q1649.66 42.494 1649.66 37.9801 Q1649.66 33.4663 1646.73 30.8332 Q1643.81 28.2001 1638.8 28.2001 Q1636.46 28.2001 1634.12 28.7209 Q1631.8 29.2417 1629.37 30.3413 L1629.37 8.64 Z\" fill=\"#000000\" fill-rule=\"nonzero\" fill-opacity=\"1\" /><path clip-path=\"url(#clip480)\" d=\"M1693.2 19.4328 L1681.48 35.2024 L1693.81 51.84 L1687.53 51.84 L1678.1 39.1086 L1668.67 51.84 L1662.39 51.84 L1674.97 34.8841 L1663.46 19.4328 L1669.74 19.4328 L1678.33 30.9778 L1686.92 19.4328 L1693.2 19.4328 Z\" fill=\"#000000\" fill-rule=\"nonzero\" fill-opacity=\"1\" /><path clip-path=\"url(#clip480)\" d=\"M1723.41 8.64 L1739.12 24.7568 L1733.31 24.7568 L1720.58 13.3275 L1707.84 24.7568 L1702.03 24.7568 L1717.74 8.64 L1723.41 8.64 Z\" fill=\"#000000\" fill-rule=\"nonzero\" fill-opacity=\"1\" /><path clip-path=\"url(#clip480)\" d=\"M1769.45 28.5473 Q1773.64 29.4443 1775.99 32.2799 Q1778.36 35.1156 1778.36 39.2822 Q1778.36 45.6768 1773.96 49.178 Q1769.56 52.6791 1761.46 52.6791 Q1758.74 52.6791 1755.85 52.1294 Q1752.98 51.6085 1749.92 50.5379 L1749.92 44.8956 Q1752.35 46.3134 1755.24 47.0368 Q1758.13 47.7602 1761.29 47.7602 Q1766.78 47.7602 1769.65 45.59 Q1772.54 43.4199 1772.54 39.2822 Q1772.54 35.4628 1769.85 33.3216 Q1767.19 31.1515 1762.42 31.1515 L1757.38 31.1515 L1757.38 26.3482 L1762.65 26.3482 Q1766.96 26.3482 1769.24 24.6411 Q1771.53 22.905 1771.53 19.6642 Q1771.53 16.3367 1769.16 14.5717 Q1766.81 12.7777 1762.42 12.7777 Q1760.01 12.7777 1757.26 13.2985 Q1754.52 13.8194 1751.22 14.9189 L1751.22 9.7106 Q1754.54 8.78468 1757.44 8.32171 Q1760.36 7.85875 1762.94 7.85875 Q1769.59 7.85875 1773.47 10.8969 Q1777.35 13.9062 1777.35 19.0566 Q1777.35 22.6446 1775.29 25.133 Q1773.24 27.5924 1769.45 28.5473 Z\" fill=\"#000000\" fill-rule=\"nonzero\" fill-opacity=\"1\" /><path clip-path=\"url(#clip480)\" d=\"M1804.83 33.2348 L1820.43 33.2348 L1820.43 37.9801 L1804.83 37.9801 L1804.83 33.2348 Z\" fill=\"#000000\" fill-rule=\"nonzero\" fill-opacity=\"1\" /><path clip-path=\"url(#clip480)\" d=\"M1853.53 46.921 L1873.93 46.921 L1873.93 51.84 L1846.5 51.84 L1846.5 46.921 Q1849.83 43.4778 1855.56 37.6908 Q1861.32 31.8748 1862.79 30.1966 Q1865.6 27.0427 1866.7 24.8726 Q1867.83 22.6735 1867.83 20.5612 Q1867.83 17.118 1865.4 14.9478 Q1862.99 12.7777 1859.12 12.7777 Q1856.37 12.7777 1853.3 13.7326 Q1850.26 14.6874 1846.79 16.6261 L1846.79 10.7233 Q1850.32 9.30551 1853.39 8.58213 Q1856.45 7.85875 1859 7.85875 Q1865.71 7.85875 1869.71 11.2152 Q1873.7 14.5717 1873.7 20.1851 Q1873.7 22.8471 1872.69 25.2487 Q1871.7 27.6214 1869.07 30.8621 Q1868.35 31.7012 1864.47 35.7232 Q1860.59 39.7162 1853.53 46.921 Z\" fill=\"#000000\" fill-rule=\"nonzero\" fill-opacity=\"1\" /><path clip-path=\"url(#clip480)\" d=\"M1887.21 46.921 L1896.76 46.921 L1896.76 13.964 L1886.37 16.0474 L1886.37 10.7233 L1896.7 8.64 L1902.55 8.64 L1902.55 46.921 L1912.1 46.921 L1912.1 51.84 L1887.21 51.84 L1887.21 46.921 Z\" fill=\"#000000\" fill-rule=\"nonzero\" fill-opacity=\"1\" /><path clip-path=\"url(#clip480)\" d=\"M1950.09 19.4328 L1938.37 35.2024 L1950.7 51.84 L1944.42 51.84 L1934.98 39.1086 L1925.55 51.84 L1919.27 51.84 L1931.86 34.8841 L1920.34 19.4328 L1926.62 19.4328 L1935.22 30.9778 L1943.81 19.4328 L1950.09 19.4328 Z\" fill=\"#000000\" fill-rule=\"nonzero\" fill-opacity=\"1\" /><path clip-path=\"url(#clip480)\" d=\"M1980.3 8.64 L1996.01 24.7568 L1990.19 24.7568 L1977.46 13.3275 L1964.73 24.7568 L1958.91 24.7568 L1974.62 8.64 L1980.3 8.64 Z\" fill=\"#000000\" fill-rule=\"nonzero\" fill-opacity=\"1\" /><path clip-path=\"url(#clip480)\" d=\"M2013.66 46.921 L2034.06 46.921 L2034.06 51.84 L2006.63 51.84 L2006.63 46.921 Q2009.95 43.4778 2015.68 37.6908 Q2021.44 31.8748 2022.92 30.1966 Q2025.72 27.0427 2026.82 24.8726 Q2027.95 22.6735 2027.95 20.5612 Q2027.95 17.118 2025.52 14.9478 Q2023.12 12.7777 2019.24 12.7777 Q2016.49 12.7777 2013.43 13.7326 Q2010.39 14.6874 2006.92 16.6261 L2006.92 10.7233 Q2010.45 9.30551 2013.51 8.58213 Q2016.58 7.85875 2019.13 7.85875 Q2025.84 7.85875 2029.83 11.2152 Q2033.83 14.5717 2033.83 20.1851 Q2033.83 22.8471 2032.81 25.2487 Q2031.83 27.6214 2029.2 30.8621 Q2028.47 31.7012 2024.6 35.7232 Q2020.72 39.7162 2013.66 46.921 Z\" fill=\"#000000\" fill-rule=\"nonzero\" fill-opacity=\"1\" /><path clip-path=\"url(#clip480)\" d=\"M2086.08 14.6874 L2086.08 30.8042 L2102.2 30.8042 L2102.2 35.7232 L2086.08 35.7232 L2086.08 51.84 L2081.22 51.84 L2081.22 35.7232 L2065.1 35.7232 L2065.1 30.8042 L2081.22 30.8042 L2081.22 14.6874 L2086.08 14.6874 Z\" fill=\"#000000\" fill-rule=\"nonzero\" fill-opacity=\"1\" /><path clip-path=\"url(#clip480)\" d=\"M2132.18 8.64 L2159.95 8.64 L2159.95 11.1284 L2144.27 51.84 L2138.17 51.84 L2152.92 13.559 L2132.18 13.559 L2132.18 8.64 Z\" fill=\"#000000\" fill-rule=\"nonzero\" fill-opacity=\"1\" /><path clip-path=\"url(#clip480)\" d=\"M2197.54 19.4328 L2185.82 35.2024 L2198.15 51.84 L2191.87 51.84 L2182.44 39.1086 L2173 51.84 L2166.72 51.84 L2179.31 34.8841 L2167.8 19.4328 L2174.07 19.4328 L2182.67 30.9778 L2191.26 19.4328 L2197.54 19.4328 Z\" fill=\"#000000\" fill-rule=\"nonzero\" fill-opacity=\"1\" /><path clip-path=\"url(#clip480)\" d=\"M2221.82 33.2348 L2237.41 33.2348 L2237.41 37.9801 L2221.82 37.9801 L2221.82 33.2348 Z\" fill=\"#000000\" fill-rule=\"nonzero\" fill-opacity=\"1\" /><path clip-path=\"url(#clip480)\" d=\"M2266.49 46.921 L2276.04 46.921 L2276.04 13.964 L2265.65 16.0474 L2265.65 10.7233 L2275.98 8.64 L2281.83 8.64 L2281.83 46.921 L2291.38 46.921 L2291.38 51.84 L2266.49 51.84 L2266.49 46.921 Z\" fill=\"#000000\" fill-rule=\"nonzero\" fill-opacity=\"1\" /><polyline clip-path=\"url(#clip482)\" style=\"stroke:#009af9; stroke-linecap:round; stroke-linejoin:round; stroke-width:4; stroke-opacity:1; fill:none\" points=\"486.646,1385.91 562.135,1196.84 637.625,1061.79 713.115,967.258 788.605,940.248 864.095,913.239 939.585,872.724 1015.07,899.734 1090.56,859.22 1166.05,886.229 1241.54,859.22 1317.03,872.724 1392.52,845.715 1468.01,926.744 1543.5,940.248 1618.99,805.2 1694.48,886.229 1769.97,845.715 1845.46,872.724 1920.95,832.21 1996.44,805.2 2071.93,886.229 2147.42,737.676 2222.91,548.609 2298.4,143.465 \"/>\n",
       "<path clip-path=\"url(#clip480)\" d=\"M496.308 253.772 L740.785 253.772 L740.785 150.092 L496.308 150.092  Z\" fill=\"#ffffff\" fill-rule=\"evenodd\" fill-opacity=\"1\"/>\n",
       "<polyline clip-path=\"url(#clip480)\" style=\"stroke:#000000; stroke-linecap:round; stroke-linejoin:round; stroke-width:4; stroke-opacity:1; fill:none\" points=\"496.308,253.772 740.785,253.772 740.785,150.092 496.308,150.092 496.308,253.772 \"/>\n",
       "<polyline clip-path=\"url(#clip480)\" style=\"stroke:#009af9; stroke-linecap:round; stroke-linejoin:round; stroke-width:4; stroke-opacity:1; fill:none\" points=\"517.647,201.932 645.678,201.932 \"/>\n",
       "<path clip-path=\"url(#clip480)\" d=\"M680.859 221.619 Q679.053 226.249 677.34 227.661 Q675.627 229.073 672.757 229.073 L669.354 229.073 L669.354 225.508 L671.854 225.508 Q673.613 225.508 674.585 224.675 Q675.558 223.841 676.738 220.739 L677.502 218.795 L667.016 193.286 L671.53 193.286 L679.632 213.564 L687.734 193.286 L692.247 193.286 L680.859 221.619 Z\" fill=\"#000000\" fill-rule=\"nonzero\" fill-opacity=\"1\" /><path clip-path=\"url(#clip480)\" d=\"M699.539 215.277 L707.178 215.277 L707.178 188.911 L698.868 190.578 L698.868 186.318 L707.132 184.652 L711.807 184.652 L711.807 215.277 L719.446 215.277 L719.446 219.212 L699.539 219.212 L699.539 215.277 Z\" fill=\"#000000\" fill-rule=\"nonzero\" fill-opacity=\"1\" /></svg>\n"
      ],
      "text/html": [
       "<?xml version=\"1.0\" encoding=\"utf-8\"?>\n",
       "<svg xmlns=\"http://www.w3.org/2000/svg\" xmlns:xlink=\"http://www.w3.org/1999/xlink\" width=\"600\" height=\"400\" viewBox=\"0 0 2400 1600\">\n",
       "<defs>\n",
       "  <clipPath id=\"clip530\">\n",
       "    <rect x=\"0\" y=\"0\" width=\"2400\" height=\"1600\"/>\n",
       "  </clipPath>\n",
       "</defs>\n",
       "<path clip-path=\"url(#clip530)\" d=\"M0 1600 L2400 1600 L2400 8.88178e-14 L0 8.88178e-14  Z\" fill=\"#ffffff\" fill-rule=\"evenodd\" fill-opacity=\"1\"/>\n",
       "<defs>\n",
       "  <clipPath id=\"clip531\">\n",
       "    <rect x=\"480\" y=\"0\" width=\"1681\" height=\"1600\"/>\n",
       "  </clipPath>\n",
       "</defs>\n",
       "<path clip-path=\"url(#clip530)\" d=\"M432.293 1423.18 L2352.76 1423.18 L2352.76 106.192 L432.293 106.192  Z\" fill=\"#ffffff\" fill-rule=\"evenodd\" fill-opacity=\"1\"/>\n",
       "<defs>\n",
       "  <clipPath id=\"clip532\">\n",
       "    <rect x=\"432\" y=\"106\" width=\"1921\" height=\"1318\"/>\n",
       "  </clipPath>\n",
       "</defs>\n",
       "<polyline clip-path=\"url(#clip532)\" style=\"stroke:#000000; stroke-linecap:round; stroke-linejoin:round; stroke-width:2; stroke-opacity:0.1; fill:none\" points=\"637.625,1423.18 637.625,106.192 \"/>\n",
       "<polyline clip-path=\"url(#clip532)\" style=\"stroke:#000000; stroke-linecap:round; stroke-linejoin:round; stroke-width:2; stroke-opacity:0.1; fill:none\" points=\"1015.07,1423.18 1015.07,106.192 \"/>\n",
       "<polyline clip-path=\"url(#clip532)\" style=\"stroke:#000000; stroke-linecap:round; stroke-linejoin:round; stroke-width:2; stroke-opacity:0.1; fill:none\" points=\"1392.52,1423.18 1392.52,106.192 \"/>\n",
       "<polyline clip-path=\"url(#clip532)\" style=\"stroke:#000000; stroke-linecap:round; stroke-linejoin:round; stroke-width:2; stroke-opacity:0.1; fill:none\" points=\"1769.97,1423.18 1769.97,106.192 \"/>\n",
       "<polyline clip-path=\"url(#clip532)\" style=\"stroke:#000000; stroke-linecap:round; stroke-linejoin:round; stroke-width:2; stroke-opacity:0.1; fill:none\" points=\"2147.42,1423.18 2147.42,106.192 \"/>\n",
       "<polyline clip-path=\"url(#clip530)\" style=\"stroke:#000000; stroke-linecap:round; stroke-linejoin:round; stroke-width:4; stroke-opacity:1; fill:none\" points=\"432.293,1423.18 2352.76,1423.18 \"/>\n",
       "<polyline clip-path=\"url(#clip530)\" style=\"stroke:#000000; stroke-linecap:round; stroke-linejoin:round; stroke-width:4; stroke-opacity:1; fill:none\" points=\"637.625,1423.18 637.625,1404.28 \"/>\n",
       "<polyline clip-path=\"url(#clip530)\" style=\"stroke:#000000; stroke-linecap:round; stroke-linejoin:round; stroke-width:4; stroke-opacity:1; fill:none\" points=\"1015.07,1423.18 1015.07,1404.28 \"/>\n",
       "<polyline clip-path=\"url(#clip530)\" style=\"stroke:#000000; stroke-linecap:round; stroke-linejoin:round; stroke-width:4; stroke-opacity:1; fill:none\" points=\"1392.52,1423.18 1392.52,1404.28 \"/>\n",
       "<polyline clip-path=\"url(#clip530)\" style=\"stroke:#000000; stroke-linecap:round; stroke-linejoin:round; stroke-width:4; stroke-opacity:1; fill:none\" points=\"1769.97,1423.18 1769.97,1404.28 \"/>\n",
       "<polyline clip-path=\"url(#clip530)\" style=\"stroke:#000000; stroke-linecap:round; stroke-linejoin:round; stroke-width:4; stroke-opacity:1; fill:none\" points=\"2147.42,1423.18 2147.42,1404.28 \"/>\n",
       "<path clip-path=\"url(#clip530)\" d=\"M584.848 1454.1 Q581.237 1454.1 579.408 1457.66 Q577.602 1461.2 577.602 1468.33 Q577.602 1475.44 579.408 1479.01 Q581.237 1482.55 584.848 1482.55 Q588.482 1482.55 590.288 1479.01 Q592.116 1475.44 592.116 1468.33 Q592.116 1461.2 590.288 1457.66 Q588.482 1454.1 584.848 1454.1 M584.848 1450.39 Q590.658 1450.39 593.714 1455 Q596.792 1459.58 596.792 1468.33 Q596.792 1477.06 593.714 1481.67 Q590.658 1486.25 584.848 1486.25 Q579.038 1486.25 575.959 1481.67 Q572.903 1477.06 572.903 1468.33 Q572.903 1459.58 575.959 1455 Q579.038 1450.39 584.848 1450.39 Z\" fill=\"#000000\" fill-rule=\"nonzero\" fill-opacity=\"1\" /><path clip-path=\"url(#clip530)\" d=\"M605.01 1479.7 L609.894 1479.7 L609.894 1485.58 L605.01 1485.58 L605.01 1479.7 Z\" fill=\"#000000\" fill-rule=\"nonzero\" fill-opacity=\"1\" /><path clip-path=\"url(#clip530)\" d=\"M620.218 1484.86 L620.218 1480.6 Q621.977 1481.44 623.783 1481.88 Q625.588 1482.32 627.324 1482.32 Q631.954 1482.32 634.385 1479.21 Q636.838 1476.09 637.186 1469.75 Q635.843 1471.74 633.783 1472.8 Q631.723 1473.87 629.223 1473.87 Q624.037 1473.87 621.005 1470.74 Q617.996 1467.59 617.996 1462.15 Q617.996 1456.83 621.144 1453.61 Q624.292 1450.39 629.524 1450.39 Q635.519 1450.39 638.667 1455 Q641.838 1459.58 641.838 1468.33 Q641.838 1476.51 637.949 1481.39 Q634.084 1486.25 627.533 1486.25 Q625.774 1486.25 623.968 1485.9 Q622.162 1485.56 620.218 1484.86 M629.524 1470.21 Q632.672 1470.21 634.5 1468.06 Q636.352 1465.9 636.352 1462.15 Q636.352 1458.43 634.5 1456.27 Q632.672 1454.1 629.524 1454.1 Q626.375 1454.1 624.524 1456.27 Q622.695 1458.43 622.695 1462.15 Q622.695 1465.9 624.524 1468.06 Q626.375 1470.21 629.524 1470.21 Z\" fill=\"#000000\" fill-rule=\"nonzero\" fill-opacity=\"1\" /><path clip-path=\"url(#clip530)\" d=\"M650.38 1484.86 L650.38 1480.6 Q652.139 1481.44 653.945 1481.88 Q655.75 1482.32 657.486 1482.32 Q662.116 1482.32 664.546 1479.21 Q667 1476.09 667.347 1469.75 Q666.005 1471.74 663.945 1472.8 Q661.884 1473.87 659.384 1473.87 Q654.199 1473.87 651.167 1470.74 Q648.158 1467.59 648.158 1462.15 Q648.158 1456.83 651.306 1453.61 Q654.454 1450.39 659.685 1450.39 Q665.681 1450.39 668.829 1455 Q672 1459.58 672 1468.33 Q672 1476.51 668.111 1481.39 Q664.246 1486.25 657.695 1486.25 Q655.935 1486.25 654.13 1485.9 Q652.324 1485.56 650.38 1484.86 M659.685 1470.21 Q662.834 1470.21 664.662 1468.06 Q666.514 1465.9 666.514 1462.15 Q666.514 1458.43 664.662 1456.27 Q662.834 1454.1 659.685 1454.1 Q656.537 1454.1 654.685 1456.27 Q652.857 1458.43 652.857 1462.15 Q652.857 1465.9 654.685 1468.06 Q656.537 1470.21 659.685 1470.21 Z\" fill=\"#000000\" fill-rule=\"nonzero\" fill-opacity=\"1\" /><path clip-path=\"url(#clip530)\" d=\"M690.403 1454.1 Q686.792 1454.1 684.963 1457.66 Q683.157 1461.2 683.157 1468.33 Q683.157 1475.44 684.963 1479.01 Q686.792 1482.55 690.403 1482.55 Q694.037 1482.55 695.843 1479.01 Q697.671 1475.44 697.671 1468.33 Q697.671 1461.2 695.843 1457.66 Q694.037 1454.1 690.403 1454.1 M690.403 1450.39 Q696.213 1450.39 699.269 1455 Q702.347 1459.58 702.347 1468.33 Q702.347 1477.06 699.269 1481.67 Q696.213 1486.25 690.403 1486.25 Q684.593 1486.25 681.514 1481.67 Q678.458 1477.06 678.458 1468.33 Q678.458 1459.58 681.514 1455 Q684.593 1450.39 690.403 1450.39 Z\" fill=\"#000000\" fill-rule=\"nonzero\" fill-opacity=\"1\" /><path clip-path=\"url(#clip530)\" d=\"M962.795 1454.1 Q959.184 1454.1 957.355 1457.66 Q955.55 1461.2 955.55 1468.33 Q955.55 1475.44 957.355 1479.01 Q959.184 1482.55 962.795 1482.55 Q966.429 1482.55 968.235 1479.01 Q970.064 1475.44 970.064 1468.33 Q970.064 1461.2 968.235 1457.66 Q966.429 1454.1 962.795 1454.1 M962.795 1450.39 Q968.605 1450.39 971.661 1455 Q974.739 1459.58 974.739 1468.33 Q974.739 1477.06 971.661 1481.67 Q968.605 1486.25 962.795 1486.25 Q956.985 1486.25 953.906 1481.67 Q950.851 1477.06 950.851 1468.33 Q950.851 1459.58 953.906 1455 Q956.985 1450.39 962.795 1450.39 Z\" fill=\"#000000\" fill-rule=\"nonzero\" fill-opacity=\"1\" /><path clip-path=\"url(#clip530)\" d=\"M982.957 1479.7 L987.841 1479.7 L987.841 1485.58 L982.957 1485.58 L982.957 1479.7 Z\" fill=\"#000000\" fill-rule=\"nonzero\" fill-opacity=\"1\" /><path clip-path=\"url(#clip530)\" d=\"M998.165 1484.86 L998.165 1480.6 Q999.924 1481.44 1001.73 1481.88 Q1003.54 1482.32 1005.27 1482.32 Q1009.9 1482.32 1012.33 1479.21 Q1014.79 1476.09 1015.13 1469.75 Q1013.79 1471.74 1011.73 1472.8 Q1009.67 1473.87 1007.17 1473.87 Q1001.98 1473.87 998.952 1470.74 Q995.943 1467.59 995.943 1462.15 Q995.943 1456.83 999.091 1453.61 Q1002.24 1450.39 1007.47 1450.39 Q1013.47 1450.39 1016.61 1455 Q1019.79 1459.58 1019.79 1468.33 Q1019.79 1476.51 1015.9 1481.39 Q1012.03 1486.25 1005.48 1486.25 Q1003.72 1486.25 1001.92 1485.9 Q1000.11 1485.56 998.165 1484.86 M1007.47 1470.21 Q1010.62 1470.21 1012.45 1468.06 Q1014.3 1465.9 1014.3 1462.15 Q1014.3 1458.43 1012.45 1456.27 Q1010.62 1454.1 1007.47 1454.1 Q1004.32 1454.1 1002.47 1456.27 Q1000.64 1458.43 1000.64 1462.15 Q1000.64 1465.9 1002.47 1468.06 Q1004.32 1470.21 1007.47 1470.21 Z\" fill=\"#000000\" fill-rule=\"nonzero\" fill-opacity=\"1\" /><path clip-path=\"url(#clip530)\" d=\"M1028.33 1484.86 L1028.33 1480.6 Q1030.09 1481.44 1031.89 1481.88 Q1033.7 1482.32 1035.43 1482.32 Q1040.06 1482.32 1042.49 1479.21 Q1044.95 1476.09 1045.29 1469.75 Q1043.95 1471.74 1041.89 1472.8 Q1039.83 1473.87 1037.33 1473.87 Q1032.15 1473.87 1029.11 1470.74 Q1026.1 1467.59 1026.1 1462.15 Q1026.1 1456.83 1029.25 1453.61 Q1032.4 1450.39 1037.63 1450.39 Q1043.63 1450.39 1046.78 1455 Q1049.95 1459.58 1049.95 1468.33 Q1049.95 1476.51 1046.06 1481.39 Q1042.19 1486.25 1035.64 1486.25 Q1033.88 1486.25 1032.08 1485.9 Q1030.27 1485.56 1028.33 1484.86 M1037.63 1470.21 Q1040.78 1470.21 1042.61 1468.06 Q1044.46 1465.9 1044.46 1462.15 Q1044.46 1458.43 1042.61 1456.27 Q1040.78 1454.1 1037.63 1454.1 Q1034.48 1454.1 1032.63 1456.27 Q1030.8 1458.43 1030.8 1462.15 Q1030.8 1465.9 1032.63 1468.06 Q1034.48 1470.21 1037.63 1470.21 Z\" fill=\"#000000\" fill-rule=\"nonzero\" fill-opacity=\"1\" /><path clip-path=\"url(#clip530)\" d=\"M1058.4 1451.02 L1076.75 1451.02 L1076.75 1454.96 L1062.68 1454.96 L1062.68 1463.43 Q1063.7 1463.08 1064.72 1462.92 Q1065.73 1462.73 1066.75 1462.73 Q1072.54 1462.73 1075.92 1465.9 Q1079.3 1469.08 1079.3 1474.49 Q1079.3 1480.07 1075.83 1483.17 Q1072.35 1486.25 1066.04 1486.25 Q1063.86 1486.25 1061.59 1485.88 Q1059.35 1485.51 1056.94 1484.77 L1056.94 1480.07 Q1059.02 1481.2 1061.24 1481.76 Q1063.47 1482.32 1065.94 1482.32 Q1069.95 1482.32 1072.29 1480.21 Q1074.62 1478.1 1074.62 1474.49 Q1074.62 1470.88 1072.29 1468.77 Q1069.95 1466.67 1065.94 1466.67 Q1064.07 1466.67 1062.19 1467.08 Q1060.34 1467.5 1058.4 1468.38 L1058.4 1451.02 Z\" fill=\"#000000\" fill-rule=\"nonzero\" fill-opacity=\"1\" /><path clip-path=\"url(#clip530)\" d=\"M1329.52 1481.64 L1337.15 1481.64 L1337.15 1455.28 L1328.84 1456.95 L1328.84 1452.69 L1337.11 1451.02 L1341.78 1451.02 L1341.78 1481.64 L1349.42 1481.64 L1349.42 1485.58 L1329.52 1485.58 L1329.52 1481.64 Z\" fill=\"#000000\" fill-rule=\"nonzero\" fill-opacity=\"1\" /><path clip-path=\"url(#clip530)\" d=\"M1358.87 1479.7 L1363.75 1479.7 L1363.75 1485.58 L1358.87 1485.58 L1358.87 1479.7 Z\" fill=\"#000000\" fill-rule=\"nonzero\" fill-opacity=\"1\" /><path clip-path=\"url(#clip530)\" d=\"M1383.94 1454.1 Q1380.33 1454.1 1378.5 1457.66 Q1376.69 1461.2 1376.69 1468.33 Q1376.69 1475.44 1378.5 1479.01 Q1380.33 1482.55 1383.94 1482.55 Q1387.57 1482.55 1389.38 1479.01 Q1391.2 1475.44 1391.2 1468.33 Q1391.2 1461.2 1389.38 1457.66 Q1387.57 1454.1 1383.94 1454.1 M1383.94 1450.39 Q1389.75 1450.39 1392.8 1455 Q1395.88 1459.58 1395.88 1468.33 Q1395.88 1477.06 1392.8 1481.67 Q1389.75 1486.25 1383.94 1486.25 Q1378.13 1486.25 1375.05 1481.67 Q1371.99 1477.06 1371.99 1468.33 Q1371.99 1459.58 1375.05 1455 Q1378.13 1450.39 1383.94 1450.39 Z\" fill=\"#000000\" fill-rule=\"nonzero\" fill-opacity=\"1\" /><path clip-path=\"url(#clip530)\" d=\"M1414.1 1454.1 Q1410.49 1454.1 1408.66 1457.66 Q1406.85 1461.2 1406.85 1468.33 Q1406.85 1475.44 1408.66 1479.01 Q1410.49 1482.55 1414.1 1482.55 Q1417.73 1482.55 1419.54 1479.01 Q1421.37 1475.44 1421.37 1468.33 Q1421.37 1461.2 1419.54 1457.66 Q1417.73 1454.1 1414.1 1454.1 M1414.1 1450.39 Q1419.91 1450.39 1422.96 1455 Q1426.04 1459.58 1426.04 1468.33 Q1426.04 1477.06 1422.96 1481.67 Q1419.91 1486.25 1414.1 1486.25 Q1408.29 1486.25 1405.21 1481.67 Q1402.15 1477.06 1402.15 1468.33 Q1402.15 1459.58 1405.21 1455 Q1408.29 1450.39 1414.1 1450.39 Z\" fill=\"#000000\" fill-rule=\"nonzero\" fill-opacity=\"1\" /><path clip-path=\"url(#clip530)\" d=\"M1444.26 1454.1 Q1440.65 1454.1 1438.82 1457.66 Q1437.01 1461.2 1437.01 1468.33 Q1437.01 1475.44 1438.82 1479.01 Q1440.65 1482.55 1444.26 1482.55 Q1447.89 1482.55 1449.7 1479.01 Q1451.53 1475.44 1451.53 1468.33 Q1451.53 1461.2 1449.7 1457.66 Q1447.89 1454.1 1444.26 1454.1 M1444.26 1450.39 Q1450.07 1450.39 1453.13 1455 Q1456.2 1459.58 1456.2 1468.33 Q1456.2 1477.06 1453.13 1481.67 Q1450.07 1486.25 1444.26 1486.25 Q1438.45 1486.25 1435.37 1481.67 Q1432.32 1477.06 1432.32 1468.33 Q1432.32 1459.58 1435.37 1455 Q1438.45 1450.39 1444.26 1450.39 Z\" fill=\"#000000\" fill-rule=\"nonzero\" fill-opacity=\"1\" /><path clip-path=\"url(#clip530)\" d=\"M1707.46 1481.64 L1715.1 1481.64 L1715.1 1455.28 L1706.79 1456.95 L1706.79 1452.69 L1715.06 1451.02 L1719.73 1451.02 L1719.73 1481.64 L1727.37 1481.64 L1727.37 1485.58 L1707.46 1485.58 L1707.46 1481.64 Z\" fill=\"#000000\" fill-rule=\"nonzero\" fill-opacity=\"1\" /><path clip-path=\"url(#clip530)\" d=\"M1736.81 1479.7 L1741.7 1479.7 L1741.7 1485.58 L1736.81 1485.58 L1736.81 1479.7 Z\" fill=\"#000000\" fill-rule=\"nonzero\" fill-opacity=\"1\" /><path clip-path=\"url(#clip530)\" d=\"M1761.88 1454.1 Q1758.27 1454.1 1756.44 1457.66 Q1754.64 1461.2 1754.64 1468.33 Q1754.64 1475.44 1756.44 1479.01 Q1758.27 1482.55 1761.88 1482.55 Q1765.52 1482.55 1767.32 1479.01 Q1769.15 1475.44 1769.15 1468.33 Q1769.15 1461.2 1767.32 1457.66 Q1765.52 1454.1 1761.88 1454.1 M1761.88 1450.39 Q1767.69 1450.39 1770.75 1455 Q1773.83 1459.58 1773.83 1468.33 Q1773.83 1477.06 1770.75 1481.67 Q1767.69 1486.25 1761.88 1486.25 Q1756.07 1486.25 1752.99 1481.67 Q1749.94 1477.06 1749.94 1468.33 Q1749.94 1459.58 1752.99 1455 Q1756.07 1450.39 1761.88 1450.39 Z\" fill=\"#000000\" fill-rule=\"nonzero\" fill-opacity=\"1\" /><path clip-path=\"url(#clip530)\" d=\"M1792.05 1454.1 Q1788.43 1454.1 1786.61 1457.66 Q1784.8 1461.2 1784.8 1468.33 Q1784.8 1475.44 1786.61 1479.01 Q1788.43 1482.55 1792.05 1482.55 Q1795.68 1482.55 1797.49 1479.01 Q1799.31 1475.44 1799.31 1468.33 Q1799.31 1461.2 1797.49 1457.66 Q1795.68 1454.1 1792.05 1454.1 M1792.05 1450.39 Q1797.86 1450.39 1800.91 1455 Q1803.99 1459.58 1803.99 1468.33 Q1803.99 1477.06 1800.91 1481.67 Q1797.86 1486.25 1792.05 1486.25 Q1786.24 1486.25 1783.16 1481.67 Q1780.1 1477.06 1780.1 1468.33 Q1780.1 1459.58 1783.16 1455 Q1786.24 1450.39 1792.05 1450.39 Z\" fill=\"#000000\" fill-rule=\"nonzero\" fill-opacity=\"1\" /><path clip-path=\"url(#clip530)\" d=\"M1812.25 1451.02 L1830.61 1451.02 L1830.61 1454.96 L1816.54 1454.96 L1816.54 1463.43 Q1817.55 1463.08 1818.57 1462.92 Q1819.59 1462.73 1820.61 1462.73 Q1826.4 1462.73 1829.78 1465.9 Q1833.16 1469.08 1833.16 1474.49 Q1833.16 1480.07 1829.68 1483.17 Q1826.21 1486.25 1819.89 1486.25 Q1817.72 1486.25 1815.45 1485.88 Q1813.2 1485.51 1810.8 1484.77 L1810.8 1480.07 Q1812.88 1481.2 1815.1 1481.76 Q1817.32 1482.32 1819.8 1482.32 Q1823.8 1482.32 1826.14 1480.21 Q1828.48 1478.1 1828.48 1474.49 Q1828.48 1470.88 1826.14 1468.77 Q1823.8 1466.67 1819.8 1466.67 Q1817.92 1466.67 1816.05 1467.08 Q1814.2 1467.5 1812.25 1468.38 L1812.25 1451.02 Z\" fill=\"#000000\" fill-rule=\"nonzero\" fill-opacity=\"1\" /><path clip-path=\"url(#clip530)\" d=\"M2084.41 1481.64 L2092.05 1481.64 L2092.05 1455.28 L2083.74 1456.95 L2083.74 1452.69 L2092.01 1451.02 L2096.68 1451.02 L2096.68 1481.64 L2104.32 1481.64 L2104.32 1485.58 L2084.41 1485.58 L2084.41 1481.64 Z\" fill=\"#000000\" fill-rule=\"nonzero\" fill-opacity=\"1\" /><path clip-path=\"url(#clip530)\" d=\"M2113.77 1479.7 L2118.65 1479.7 L2118.65 1485.58 L2113.77 1485.58 L2113.77 1479.7 Z\" fill=\"#000000\" fill-rule=\"nonzero\" fill-opacity=\"1\" /><path clip-path=\"url(#clip530)\" d=\"M2138.84 1454.1 Q2135.22 1454.1 2133.4 1457.66 Q2131.59 1461.2 2131.59 1468.33 Q2131.59 1475.44 2133.4 1479.01 Q2135.22 1482.55 2138.84 1482.55 Q2142.47 1482.55 2144.28 1479.01 Q2146.1 1475.44 2146.1 1468.33 Q2146.1 1461.2 2144.28 1457.66 Q2142.47 1454.1 2138.84 1454.1 M2138.84 1450.39 Q2144.65 1450.39 2147.7 1455 Q2150.78 1459.58 2150.78 1468.33 Q2150.78 1477.06 2147.7 1481.67 Q2144.65 1486.25 2138.84 1486.25 Q2133.03 1486.25 2129.95 1481.67 Q2126.89 1477.06 2126.89 1468.33 Q2126.89 1459.58 2129.95 1455 Q2133.03 1450.39 2138.84 1450.39 Z\" fill=\"#000000\" fill-rule=\"nonzero\" fill-opacity=\"1\" /><path clip-path=\"url(#clip530)\" d=\"M2159.81 1481.64 L2167.45 1481.64 L2167.45 1455.28 L2159.14 1456.95 L2159.14 1452.69 L2167.4 1451.02 L2172.08 1451.02 L2172.08 1481.64 L2179.71 1481.64 L2179.71 1485.58 L2159.81 1485.58 L2159.81 1481.64 Z\" fill=\"#000000\" fill-rule=\"nonzero\" fill-opacity=\"1\" /><path clip-path=\"url(#clip530)\" d=\"M2199.16 1454.1 Q2195.55 1454.1 2193.72 1457.66 Q2191.91 1461.2 2191.91 1468.33 Q2191.91 1475.44 2193.72 1479.01 Q2195.55 1482.55 2199.16 1482.55 Q2202.79 1482.55 2204.6 1479.01 Q2206.43 1475.44 2206.43 1468.33 Q2206.43 1461.2 2204.6 1457.66 Q2202.79 1454.1 2199.16 1454.1 M2199.16 1450.39 Q2204.97 1450.39 2208.02 1455 Q2211.1 1459.58 2211.1 1468.33 Q2211.1 1477.06 2208.02 1481.67 Q2204.97 1486.25 2199.16 1486.25 Q2193.35 1486.25 2190.27 1481.67 Q2187.21 1477.06 2187.21 1468.33 Q2187.21 1459.58 2190.27 1455 Q2193.35 1450.39 2199.16 1450.39 Z\" fill=\"#000000\" fill-rule=\"nonzero\" fill-opacity=\"1\" /><path clip-path=\"url(#clip530)\" d=\"M1409.14 1532.4 L1396.25 1549.74 L1409.81 1568.04 L1402.9 1568.04 L1392.52 1554.04 L1382.15 1568.04 L1375.24 1568.04 L1389.09 1549.39 L1376.42 1532.4 L1383.33 1532.4 L1392.78 1545.1 L1402.23 1532.4 L1409.14 1532.4 Z\" fill=\"#000000\" fill-rule=\"nonzero\" fill-opacity=\"1\" /><polyline clip-path=\"url(#clip532)\" style=\"stroke:#000000; stroke-linecap:round; stroke-linejoin:round; stroke-width:2; stroke-opacity:0.1; fill:none\" points=\"432.293,1149.82 2352.76,1149.82 \"/>\n",
       "<polyline clip-path=\"url(#clip532)\" style=\"stroke:#000000; stroke-linecap:round; stroke-linejoin:round; stroke-width:2; stroke-opacity:0.1; fill:none\" points=\"432.293,845.715 2352.76,845.715 \"/>\n",
       "<polyline clip-path=\"url(#clip532)\" style=\"stroke:#000000; stroke-linecap:round; stroke-linejoin:round; stroke-width:2; stroke-opacity:0.1; fill:none\" points=\"432.293,541.614 2352.76,541.614 \"/>\n",
       "<polyline clip-path=\"url(#clip532)\" style=\"stroke:#000000; stroke-linecap:round; stroke-linejoin:round; stroke-width:2; stroke-opacity:0.1; fill:none\" points=\"432.293,237.513 2352.76,237.513 \"/>\n",
       "<polyline clip-path=\"url(#clip530)\" style=\"stroke:#000000; stroke-linecap:round; stroke-linejoin:round; stroke-width:4; stroke-opacity:1; fill:none\" points=\"432.293,1423.18 432.293,106.192 \"/>\n",
       "<polyline clip-path=\"url(#clip530)\" style=\"stroke:#000000; stroke-linecap:round; stroke-linejoin:round; stroke-width:4; stroke-opacity:1; fill:none\" points=\"432.293,1149.82 451.19,1149.82 \"/>\n",
       "<polyline clip-path=\"url(#clip530)\" style=\"stroke:#000000; stroke-linecap:round; stroke-linejoin:round; stroke-width:4; stroke-opacity:1; fill:none\" points=\"432.293,845.715 451.19,845.715 \"/>\n",
       "<polyline clip-path=\"url(#clip530)\" style=\"stroke:#000000; stroke-linecap:round; stroke-linejoin:round; stroke-width:4; stroke-opacity:1; fill:none\" points=\"432.293,541.614 451.19,541.614 \"/>\n",
       "<polyline clip-path=\"url(#clip530)\" style=\"stroke:#000000; stroke-linecap:round; stroke-linejoin:round; stroke-width:4; stroke-opacity:1; fill:none\" points=\"432.293,237.513 451.19,237.513 \"/>\n",
       "<path clip-path=\"url(#clip530)\" d=\"M114.26 1156.71 L143.936 1156.71 L143.936 1160.65 L114.26 1160.65 L114.26 1156.71 Z\" fill=\"#000000\" fill-rule=\"nonzero\" fill-opacity=\"1\" /><path clip-path=\"url(#clip530)\" d=\"M158.056 1169.61 L174.376 1169.61 L174.376 1173.54 L152.431 1173.54 L152.431 1169.61 Q155.093 1166.85 159.677 1162.22 Q164.283 1157.57 165.464 1156.23 Q167.709 1153.71 168.589 1151.97 Q169.491 1150.21 169.491 1148.52 Q169.491 1145.77 167.547 1144.03 Q165.626 1142.29 162.524 1142.29 Q160.325 1142.29 157.871 1143.06 Q155.44 1143.82 152.663 1145.37 L152.663 1140.65 Q155.487 1139.52 157.94 1138.94 Q160.394 1138.36 162.431 1138.36 Q167.802 1138.36 170.996 1141.04 Q174.19 1143.73 174.19 1148.22 Q174.19 1150.35 173.38 1152.27 Q172.593 1154.17 170.487 1156.76 Q169.908 1157.43 166.806 1160.65 Q163.704 1163.84 158.056 1169.61 Z\" fill=\"#000000\" fill-rule=\"nonzero\" fill-opacity=\"1\" /><path clip-path=\"url(#clip530)\" d=\"M184.19 1167.66 L189.075 1167.66 L189.075 1173.54 L184.19 1173.54 L184.19 1167.66 Z\" fill=\"#000000\" fill-rule=\"nonzero\" fill-opacity=\"1\" /><path clip-path=\"url(#clip530)\" d=\"M209.26 1142.06 Q205.649 1142.06 203.82 1145.63 Q202.014 1149.17 202.014 1156.3 Q202.014 1163.4 203.82 1166.97 Q205.649 1170.51 209.26 1170.51 Q212.894 1170.51 214.699 1166.97 Q216.528 1163.4 216.528 1156.3 Q216.528 1149.17 214.699 1145.63 Q212.894 1142.06 209.26 1142.06 M209.26 1138.36 Q215.07 1138.36 218.125 1142.96 Q221.204 1147.55 221.204 1156.3 Q221.204 1165.02 218.125 1169.63 Q215.07 1174.21 209.26 1174.21 Q203.449 1174.21 200.371 1169.63 Q197.315 1165.02 197.315 1156.3 Q197.315 1147.55 200.371 1142.96 Q203.449 1138.36 209.26 1138.36 Z\" fill=\"#000000\" fill-rule=\"nonzero\" fill-opacity=\"1\" /><path clip-path=\"url(#clip530)\" d=\"M257.593 1148.08 L247.014 1158.71 L257.593 1169.28 L254.838 1172.09 L244.213 1161.46 L233.588 1172.09 L230.857 1169.28 L241.412 1158.71 L230.857 1148.08 L233.588 1145.28 L244.213 1155.9 L254.838 1145.28 L257.593 1148.08 Z\" fill=\"#000000\" fill-rule=\"nonzero\" fill-opacity=\"1\" /><path clip-path=\"url(#clip530)\" d=\"M269.954 1169.61 L277.593 1169.61 L277.593 1143.24 L269.282 1144.91 L269.282 1140.65 L277.546 1138.98 L282.222 1138.98 L282.222 1169.61 L289.861 1169.61 L289.861 1173.54 L269.954 1173.54 L269.954 1169.61 Z\" fill=\"#000000\" fill-rule=\"nonzero\" fill-opacity=\"1\" /><path clip-path=\"url(#clip530)\" d=\"M309.305 1142.06 Q305.694 1142.06 303.866 1145.63 Q302.06 1149.17 302.06 1156.3 Q302.06 1163.4 303.866 1166.97 Q305.694 1170.51 309.305 1170.51 Q312.94 1170.51 314.745 1166.97 Q316.574 1163.4 316.574 1156.3 Q316.574 1149.17 314.745 1145.63 Q312.94 1142.06 309.305 1142.06 M309.305 1138.36 Q315.116 1138.36 318.171 1142.96 Q321.25 1147.55 321.25 1156.3 Q321.25 1165.02 318.171 1169.63 Q315.116 1174.21 309.305 1174.21 Q303.495 1174.21 300.417 1169.63 Q297.361 1165.02 297.361 1156.3 Q297.361 1147.55 300.417 1142.96 Q303.495 1138.36 309.305 1138.36 Z\" fill=\"#000000\" fill-rule=\"nonzero\" fill-opacity=\"1\" /><path clip-path=\"url(#clip530)\" d=\"M321.25 1132.46 L345.361 1132.46 L345.361 1135.66 L321.25 1135.66 L321.25 1132.46 Z\" fill=\"#000000\" fill-rule=\"nonzero\" fill-opacity=\"1\" /><path clip-path=\"url(#clip530)\" d=\"M354.22 1142.94 L360.426 1142.94 L360.426 1121.51 L353.674 1122.87 L353.674 1119.41 L360.389 1118.05 L364.188 1118.05 L364.188 1142.94 L370.394 1142.94 L370.394 1146.13 L354.22 1146.13 L354.22 1142.94 Z\" fill=\"#000000\" fill-rule=\"nonzero\" fill-opacity=\"1\" /><path clip-path=\"url(#clip530)\" d=\"M388.506 1121.36 L378.914 1136.35 L388.506 1136.35 L388.506 1121.36 M387.51 1118.05 L392.287 1118.05 L392.287 1136.35 L396.293 1136.35 L396.293 1139.51 L392.287 1139.51 L392.287 1146.13 L388.506 1146.13 L388.506 1139.51 L375.83 1139.51 L375.83 1135.85 L387.51 1118.05 Z\" fill=\"#000000\" fill-rule=\"nonzero\" fill-opacity=\"1\" /><path clip-path=\"url(#clip530)\" d=\"M384.348 831.513 Q380.737 831.513 378.909 835.078 Q377.103 838.62 377.103 845.749 Q377.103 852.856 378.909 856.421 Q380.737 859.962 384.348 859.962 Q387.983 859.962 389.788 856.421 Q391.617 852.856 391.617 845.749 Q391.617 838.62 389.788 835.078 Q387.983 831.513 384.348 831.513 M384.348 827.81 Q390.159 827.81 393.214 832.416 Q396.293 837 396.293 845.749 Q396.293 854.476 393.214 859.083 Q390.159 863.666 384.348 863.666 Q378.538 863.666 375.46 859.083 Q372.404 854.476 372.404 845.749 Q372.404 837 375.46 832.416 Q378.538 827.81 384.348 827.81 Z\" fill=\"#000000\" fill-rule=\"nonzero\" fill-opacity=\"1\" /><path clip-path=\"url(#clip530)\" d=\"M158.056 561.406 L174.376 561.406 L174.376 565.341 L152.431 565.341 L152.431 561.406 Q155.093 558.652 159.677 554.022 Q164.283 549.369 165.464 548.027 Q167.709 545.504 168.589 543.767 Q169.491 542.008 169.491 540.318 Q169.491 537.564 167.547 535.828 Q165.626 534.092 162.524 534.092 Q160.325 534.092 157.871 534.855 Q155.44 535.619 152.663 537.17 L152.663 532.448 Q155.487 531.314 157.94 530.735 Q160.394 530.156 162.431 530.156 Q167.802 530.156 170.996 532.842 Q174.19 535.527 174.19 540.017 Q174.19 542.147 173.38 544.068 Q172.593 545.966 170.487 548.559 Q169.908 549.23 166.806 552.448 Q163.704 555.642 158.056 561.406 Z\" fill=\"#000000\" fill-rule=\"nonzero\" fill-opacity=\"1\" /><path clip-path=\"url(#clip530)\" d=\"M184.19 559.462 L189.075 559.462 L189.075 565.341 L184.19 565.341 L184.19 559.462 Z\" fill=\"#000000\" fill-rule=\"nonzero\" fill-opacity=\"1\" /><path clip-path=\"url(#clip530)\" d=\"M209.26 533.86 Q205.649 533.86 203.82 537.425 Q202.014 540.967 202.014 548.096 Q202.014 555.203 203.82 558.767 Q205.649 562.309 209.26 562.309 Q212.894 562.309 214.699 558.767 Q216.528 555.203 216.528 548.096 Q216.528 540.967 214.699 537.425 Q212.894 533.86 209.26 533.86 M209.26 530.156 Q215.07 530.156 218.125 534.763 Q221.204 539.346 221.204 548.096 Q221.204 556.823 218.125 561.429 Q215.07 566.013 209.26 566.013 Q203.449 566.013 200.371 561.429 Q197.315 556.823 197.315 548.096 Q197.315 539.346 200.371 534.763 Q203.449 530.156 209.26 530.156 Z\" fill=\"#000000\" fill-rule=\"nonzero\" fill-opacity=\"1\" /><path clip-path=\"url(#clip530)\" d=\"M257.593 539.879 L247.014 550.504 L257.593 561.082 L254.838 563.883 L244.213 553.258 L233.588 563.883 L230.857 561.082 L241.412 550.504 L230.857 539.879 L233.588 537.078 L244.213 547.703 L254.838 537.078 L257.593 539.879 Z\" fill=\"#000000\" fill-rule=\"nonzero\" fill-opacity=\"1\" /><path clip-path=\"url(#clip530)\" d=\"M269.954 561.406 L277.593 561.406 L277.593 535.041 L269.282 536.707 L269.282 532.448 L277.546 530.781 L282.222 530.781 L282.222 561.406 L289.861 561.406 L289.861 565.341 L269.954 565.341 L269.954 561.406 Z\" fill=\"#000000\" fill-rule=\"nonzero\" fill-opacity=\"1\" /><path clip-path=\"url(#clip530)\" d=\"M309.305 533.86 Q305.694 533.86 303.866 537.425 Q302.06 540.967 302.06 548.096 Q302.06 555.203 303.866 558.767 Q305.694 562.309 309.305 562.309 Q312.94 562.309 314.745 558.767 Q316.574 555.203 316.574 548.096 Q316.574 540.967 314.745 537.425 Q312.94 533.86 309.305 533.86 M309.305 530.156 Q315.116 530.156 318.171 534.763 Q321.25 539.346 321.25 548.096 Q321.25 556.823 318.171 561.429 Q315.116 566.013 309.305 566.013 Q303.495 566.013 300.417 561.429 Q297.361 556.823 297.361 548.096 Q297.361 539.346 300.417 534.763 Q303.495 530.156 309.305 530.156 Z\" fill=\"#000000\" fill-rule=\"nonzero\" fill-opacity=\"1\" /><path clip-path=\"url(#clip530)\" d=\"M321.25 524.258 L345.361 524.258 L345.361 527.455 L321.25 527.455 L321.25 524.258 Z\" fill=\"#000000\" fill-rule=\"nonzero\" fill-opacity=\"1\" /><path clip-path=\"url(#clip530)\" d=\"M354.22 534.734 L360.426 534.734 L360.426 513.312 L353.674 514.666 L353.674 511.205 L360.389 509.851 L364.188 509.851 L364.188 534.734 L370.394 534.734 L370.394 537.931 L354.22 537.931 L354.22 534.734 Z\" fill=\"#000000\" fill-rule=\"nonzero\" fill-opacity=\"1\" /><path clip-path=\"url(#clip530)\" d=\"M388.506 513.161 L378.914 528.151 L388.506 528.151 L388.506 513.161 M387.51 509.851 L392.287 509.851 L392.287 528.151 L396.293 528.151 L396.293 531.311 L392.287 531.311 L392.287 537.931 L388.506 537.931 L388.506 531.311 L375.83 531.311 L375.83 527.643 L387.51 509.851 Z\" fill=\"#000000\" fill-rule=\"nonzero\" fill-opacity=\"1\" /><path clip-path=\"url(#clip530)\" d=\"M166.876 230.754 L155.07 249.203 L166.876 249.203 L166.876 230.754 M165.649 226.68 L171.528 226.68 L171.528 249.203 L176.459 249.203 L176.459 253.092 L171.528 253.092 L171.528 261.24 L166.876 261.24 L166.876 253.092 L151.274 253.092 L151.274 248.578 L165.649 226.68 Z\" fill=\"#000000\" fill-rule=\"nonzero\" fill-opacity=\"1\" /><path clip-path=\"url(#clip530)\" d=\"M184.19 255.361 L189.075 255.361 L189.075 261.24 L184.19 261.24 L184.19 255.361 Z\" fill=\"#000000\" fill-rule=\"nonzero\" fill-opacity=\"1\" /><path clip-path=\"url(#clip530)\" d=\"M209.26 229.759 Q205.649 229.759 203.82 233.324 Q202.014 236.866 202.014 243.995 Q202.014 251.102 203.82 254.666 Q205.649 258.208 209.26 258.208 Q212.894 258.208 214.699 254.666 Q216.528 251.102 216.528 243.995 Q216.528 236.866 214.699 233.324 Q212.894 229.759 209.26 229.759 M209.26 226.055 Q215.07 226.055 218.125 230.662 Q221.204 235.245 221.204 243.995 Q221.204 252.722 218.125 257.328 Q215.07 261.912 209.26 261.912 Q203.449 261.912 200.371 257.328 Q197.315 252.722 197.315 243.995 Q197.315 235.245 200.371 230.662 Q203.449 226.055 209.26 226.055 Z\" fill=\"#000000\" fill-rule=\"nonzero\" fill-opacity=\"1\" /><path clip-path=\"url(#clip530)\" d=\"M257.593 235.778 L247.014 246.403 L257.593 256.981 L254.838 259.782 L244.213 249.157 L233.588 259.782 L230.857 256.981 L241.412 246.403 L230.857 235.778 L233.588 232.977 L244.213 243.602 L254.838 232.977 L257.593 235.778 Z\" fill=\"#000000\" fill-rule=\"nonzero\" fill-opacity=\"1\" /><path clip-path=\"url(#clip530)\" d=\"M269.954 257.305 L277.593 257.305 L277.593 230.94 L269.282 232.606 L269.282 228.347 L277.546 226.68 L282.222 226.68 L282.222 257.305 L289.861 257.305 L289.861 261.24 L269.954 261.24 L269.954 257.305 Z\" fill=\"#000000\" fill-rule=\"nonzero\" fill-opacity=\"1\" /><path clip-path=\"url(#clip530)\" d=\"M309.305 229.759 Q305.694 229.759 303.866 233.324 Q302.06 236.866 302.06 243.995 Q302.06 251.102 303.866 254.666 Q305.694 258.208 309.305 258.208 Q312.94 258.208 314.745 254.666 Q316.574 251.102 316.574 243.995 Q316.574 236.866 314.745 233.324 Q312.94 229.759 309.305 229.759 M309.305 226.055 Q315.116 226.055 318.171 230.662 Q321.25 235.245 321.25 243.995 Q321.25 252.722 318.171 257.328 Q315.116 261.912 309.305 261.912 Q303.495 261.912 300.417 257.328 Q297.361 252.722 297.361 243.995 Q297.361 235.245 300.417 230.662 Q303.495 226.055 309.305 226.055 Z\" fill=\"#000000\" fill-rule=\"nonzero\" fill-opacity=\"1\" /><path clip-path=\"url(#clip530)\" d=\"M321.25 220.157 L345.361 220.157 L345.361 223.354 L321.25 223.354 L321.25 220.157 Z\" fill=\"#000000\" fill-rule=\"nonzero\" fill-opacity=\"1\" /><path clip-path=\"url(#clip530)\" d=\"M354.22 230.633 L360.426 230.633 L360.426 209.211 L353.674 210.565 L353.674 207.104 L360.389 205.75 L364.188 205.75 L364.188 230.633 L370.394 230.633 L370.394 233.83 L354.22 233.83 L354.22 230.633 Z\" fill=\"#000000\" fill-rule=\"nonzero\" fill-opacity=\"1\" /><path clip-path=\"url(#clip530)\" d=\"M388.506 209.06 L378.914 224.05 L388.506 224.05 L388.506 209.06 M387.51 205.75 L392.287 205.75 L392.287 224.05 L396.293 224.05 L396.293 227.21 L392.287 227.21 L392.287 233.83 L388.506 233.83 L388.506 227.21 L375.83 227.21 L375.83 223.542 L387.51 205.75 Z\" fill=\"#000000\" fill-rule=\"nonzero\" fill-opacity=\"1\" /><path clip-path=\"url(#clip530)\" d=\"M67.3143 762.999 Q73.68 765.482 75.6216 767.837 Q77.5631 770.192 77.5631 774.139 L77.5631 778.818 L72.6615 778.818 L72.6615 775.38 Q72.6615 772.961 71.5157 771.625 Q70.3699 770.288 66.1048 768.665 L63.4312 767.614 L28.3562 782.033 L28.3562 775.826 L56.238 764.686 L28.3562 753.546 L28.3562 747.339 L67.3143 762.999 Z\" fill=\"#000000\" fill-rule=\"nonzero\" fill-opacity=\"1\" /><path clip-path=\"url(#clip530)\" d=\"M510.975 54.8492 Q508.718 60.6362 506.577 62.4013 Q504.436 64.1663 500.848 64.1663 L496.595 64.1663 L496.595 59.7103 L499.72 59.7103 Q501.919 59.7103 503.134 58.6687 Q504.349 57.627 505.825 53.7497 L506.78 51.3192 L493.672 19.4328 L499.314 19.4328 L509.442 44.7799 L519.569 19.4328 L525.211 19.4328 L510.975 54.8492 Z\" fill=\"#000000\" fill-rule=\"nonzero\" fill-opacity=\"1\" /><path clip-path=\"url(#clip530)\" d=\"M552.092 24.9304 L589.187 24.9304 L589.187 29.7915 L552.092 29.7915 L552.092 24.9304 M552.092 36.7359 L589.187 36.7359 L589.187 41.6549 L552.092 41.6549 L552.092 36.7359 Z\" fill=\"#000000\" fill-rule=\"nonzero\" fill-opacity=\"1\" /><path clip-path=\"url(#clip530)\" d=\"M646.825 19.4328 L635.107 35.2024 L647.433 51.84 L641.154 51.84 L631.721 39.1086 L622.288 51.84 L616.009 51.84 L628.596 34.8841 L617.08 19.4328 L623.359 19.4328 L631.953 30.9778 L640.546 19.4328 L646.825 19.4328 Z\" fill=\"#000000\" fill-rule=\"nonzero\" fill-opacity=\"1\" /><path clip-path=\"url(#clip530)\" d=\"M677.033 8.64 L692.745 24.7568 L686.929 24.7568 L674.198 13.3275 L661.466 24.7568 L655.65 24.7568 L671.362 8.64 L677.033 8.64 Z\" fill=\"#000000\" fill-rule=\"nonzero\" fill-opacity=\"1\" /><path clip-path=\"url(#clip530)\" d=\"M703.885 8.64 L731.663 8.64 L731.663 11.1284 L715.98 51.84 L709.875 51.84 L724.632 13.559 L703.885 13.559 L703.885 8.64 Z\" fill=\"#000000\" fill-rule=\"nonzero\" fill-opacity=\"1\" /><path clip-path=\"url(#clip530)\" d=\"M758.457 33.2348 L774.053 33.2348 L774.053 37.9801 L758.457 37.9801 L758.457 33.2348 Z\" fill=\"#000000\" fill-rule=\"nonzero\" fill-opacity=\"1\" /><path clip-path=\"url(#clip530)\" d=\"M800.644 8.64 L828.421 8.64 L828.421 11.1284 L812.739 51.84 L806.633 51.84 L821.39 13.559 L800.644 13.559 L800.644 8.64 Z\" fill=\"#000000\" fill-rule=\"nonzero\" fill-opacity=\"1\" /><path clip-path=\"url(#clip530)\" d=\"M866.008 19.4328 L854.289 35.2024 L866.616 51.84 L860.337 51.84 L850.904 39.1086 L841.471 51.84 L835.192 51.84 L847.779 34.8841 L836.263 19.4328 L842.542 19.4328 L851.135 30.9778 L859.729 19.4328 L866.008 19.4328 Z\" fill=\"#000000\" fill-rule=\"nonzero\" fill-opacity=\"1\" /><path clip-path=\"url(#clip530)\" d=\"M896.216 8.64 L911.928 24.7568 L906.112 24.7568 L893.381 13.3275 L880.649 24.7568 L874.833 24.7568 L890.545 8.64 L896.216 8.64 Z\" fill=\"#000000\" fill-rule=\"nonzero\" fill-opacity=\"1\" /><path clip-path=\"url(#clip530)\" d=\"M937.767 27.9107 Q933.832 27.9107 931.517 30.6017 Q929.231 33.2926 929.231 37.9801 Q929.231 42.6387 931.517 45.3586 Q933.832 48.0495 937.767 48.0495 Q941.702 48.0495 943.988 45.3586 Q946.303 42.6387 946.303 37.9801 Q946.303 33.2926 943.988 30.6017 Q941.702 27.9107 937.767 27.9107 M949.37 9.59486 L949.37 14.9189 Q947.171 13.8772 944.914 13.3275 Q942.686 12.7777 940.487 12.7777 Q934.7 12.7777 931.633 16.6839 Q928.595 20.5902 928.161 28.4894 Q929.868 25.9721 932.443 24.6411 Q935.018 23.2811 938.114 23.2811 Q944.625 23.2811 948.386 27.2452 Q952.177 31.1804 952.177 37.9801 Q952.177 44.6352 948.241 48.6571 Q944.306 52.6791 937.767 52.6791 Q930.273 52.6791 926.309 46.95 Q922.345 41.1919 922.345 30.2834 Q922.345 20.0404 927.206 13.964 Q932.067 7.85875 940.255 7.85875 Q942.454 7.85875 944.682 8.29278 Q946.939 8.72681 949.37 9.59486 Z\" fill=\"#000000\" fill-rule=\"nonzero\" fill-opacity=\"1\" /><path clip-path=\"url(#clip530)\" d=\"M1002 14.6874 L1002 30.8042 L1018.12 30.8042 L1018.12 35.7232 L1002 35.7232 L1002 51.84 L997.142 51.84 L997.142 35.7232 L981.025 35.7232 L981.025 30.8042 L997.142 30.8042 L997.142 14.6874 L1002 14.6874 Z\" fill=\"#000000\" fill-rule=\"nonzero\" fill-opacity=\"1\" /><path clip-path=\"url(#clip530)\" d=\"M1054.61 46.921 L1075.01 46.921 L1075.01 51.84 L1047.58 51.84 L1047.58 46.921 Q1050.9 43.4778 1056.63 37.6908 Q1062.39 31.8748 1063.87 30.1966 Q1066.67 27.0427 1067.77 24.8726 Q1068.9 22.6735 1068.9 20.5612 Q1068.9 17.118 1066.47 14.9478 Q1064.07 12.7777 1060.19 12.7777 Q1057.44 12.7777 1054.38 13.7326 Q1051.34 14.6874 1047.86 16.6261 L1047.86 10.7233 Q1051.39 9.30551 1054.46 8.58213 Q1057.53 7.85875 1060.08 7.85875 Q1066.79 7.85875 1070.78 11.2152 Q1074.77 14.5717 1074.77 20.1851 Q1074.77 22.8471 1073.76 25.2487 Q1072.78 27.6214 1070.14 30.8621 Q1069.42 31.7012 1065.54 35.7232 Q1061.67 39.7162 1054.61 46.921 Z\" fill=\"#000000\" fill-rule=\"nonzero\" fill-opacity=\"1\" /><path clip-path=\"url(#clip530)\" d=\"M1088.29 46.921 L1097.84 46.921 L1097.84 13.964 L1087.45 16.0474 L1087.45 10.7233 L1097.78 8.64 L1103.62 8.64 L1103.62 46.921 L1113.17 46.921 L1113.17 51.84 L1088.29 51.84 L1088.29 46.921 Z\" fill=\"#000000\" fill-rule=\"nonzero\" fill-opacity=\"1\" /><path clip-path=\"url(#clip530)\" d=\"M1151.16 19.4328 L1139.44 35.2024 L1151.77 51.84 L1145.49 51.84 L1136.06 39.1086 L1126.63 51.84 L1120.35 51.84 L1132.93 34.8841 L1121.42 19.4328 L1127.7 19.4328 L1136.29 30.9778 L1144.88 19.4328 L1151.16 19.4328 Z\" fill=\"#000000\" fill-rule=\"nonzero\" fill-opacity=\"1\" /><path clip-path=\"url(#clip530)\" d=\"M1181.37 8.64 L1197.08 24.7568 L1191.27 24.7568 L1178.54 13.3275 L1165.8 24.7568 L1159.99 24.7568 L1175.7 8.64 L1181.37 8.64 Z\" fill=\"#000000\" fill-rule=\"nonzero\" fill-opacity=\"1\" /><path clip-path=\"url(#clip530)\" d=\"M1209.76 8.64 L1232.7 8.64 L1232.7 13.559 L1215.11 13.559 L1215.11 24.1492 Q1216.38 23.7152 1217.66 23.5126 Q1218.93 23.2811 1220.2 23.2811 Q1227.44 23.2811 1231.66 27.2452 Q1235.88 31.2093 1235.88 37.9801 Q1235.88 44.9535 1231.54 48.8308 Q1227.2 52.6791 1219.3 52.6791 Q1216.58 52.6791 1213.75 52.2162 Q1210.94 51.7532 1207.93 50.8273 L1207.93 44.9535 Q1210.54 46.3713 1213.32 47.0657 Q1216.09 47.7602 1219.19 47.7602 Q1224.19 47.7602 1227.12 45.1271 Q1230.04 42.494 1230.04 37.9801 Q1230.04 33.4663 1227.12 30.8332 Q1224.19 28.2001 1219.19 28.2001 Q1216.85 28.2001 1214.5 28.7209 Q1212.19 29.2417 1209.76 30.3413 L1209.76 8.64 Z\" fill=\"#000000\" fill-rule=\"nonzero\" fill-opacity=\"1\" /><path clip-path=\"url(#clip530)\" d=\"M1262.79 33.2348 L1278.39 33.2348 L1278.39 37.9801 L1262.79 37.9801 L1262.79 33.2348 Z\" fill=\"#000000\" fill-rule=\"nonzero\" fill-opacity=\"1\" /><path clip-path=\"url(#clip530)\" d=\"M1324.17 28.5473 Q1328.36 29.4443 1330.7 32.2799 Q1333.08 35.1156 1333.08 39.2822 Q1333.08 45.6768 1328.68 49.178 Q1324.28 52.6791 1316.18 52.6791 Q1313.46 52.6791 1310.57 52.1294 Q1307.7 51.6085 1304.63 50.5379 L1304.63 44.8956 Q1307.06 46.3134 1309.96 47.0368 Q1312.85 47.7602 1316.01 47.7602 Q1321.5 47.7602 1324.37 45.59 Q1327.26 43.4199 1327.26 39.2822 Q1327.26 35.4628 1324.57 33.3216 Q1321.91 31.1515 1317.13 31.1515 L1312.1 31.1515 L1312.1 26.3482 L1317.37 26.3482 Q1321.68 26.3482 1323.96 24.6411 Q1326.25 22.905 1326.25 19.6642 Q1326.25 16.3367 1323.88 14.5717 Q1321.53 12.7777 1317.13 12.7777 Q1314.73 12.7777 1311.98 13.2985 Q1309.23 13.8194 1305.94 14.9189 L1305.94 9.7106 Q1309.26 8.78468 1312.16 8.32171 Q1315.08 7.85875 1317.65 7.85875 Q1324.31 7.85875 1328.19 10.8969 Q1332.06 13.9062 1332.06 19.0566 Q1332.06 22.6446 1330.01 25.133 Q1327.96 27.5924 1324.17 28.5473 Z\" fill=\"#000000\" fill-rule=\"nonzero\" fill-opacity=\"1\" /><path clip-path=\"url(#clip530)\" d=\"M1344.22 8.64 L1367.16 8.64 L1367.16 13.559 L1349.57 13.559 L1349.57 24.1492 Q1350.84 23.7152 1352.12 23.5126 Q1353.39 23.2811 1354.66 23.2811 Q1361.9 23.2811 1366.12 27.2452 Q1370.35 31.2093 1370.35 37.9801 Q1370.35 44.9535 1366.01 48.8308 Q1361.67 52.6791 1353.77 52.6791 Q1351.05 52.6791 1348.21 52.2162 Q1345.4 51.7532 1342.39 50.8273 L1342.39 44.9535 Q1345 46.3713 1347.78 47.0657 Q1350.55 47.7602 1353.65 47.7602 Q1358.66 47.7602 1361.58 45.1271 Q1364.5 42.494 1364.5 37.9801 Q1364.5 33.4663 1361.58 30.8332 Q1358.66 28.2001 1353.65 28.2001 Q1351.31 28.2001 1348.96 28.7209 Q1346.65 29.2417 1344.22 30.3413 L1344.22 8.64 Z\" fill=\"#000000\" fill-rule=\"nonzero\" fill-opacity=\"1\" /><path clip-path=\"url(#clip530)\" d=\"M1408.05 19.4328 L1396.33 35.2024 L1408.66 51.84 L1402.38 51.84 L1392.94 39.1086 L1383.51 51.84 L1377.23 51.84 L1389.82 34.8841 L1378.3 19.4328 L1384.58 19.4328 L1393.18 30.9778 L1401.77 19.4328 L1408.05 19.4328 Z\" fill=\"#000000\" fill-rule=\"nonzero\" fill-opacity=\"1\" /><path clip-path=\"url(#clip530)\" d=\"M1438.26 8.64 L1453.97 24.7568 L1448.15 24.7568 L1435.42 13.3275 L1422.69 24.7568 L1416.87 24.7568 L1432.58 8.64 L1438.26 8.64 Z\" fill=\"#000000\" fill-rule=\"nonzero\" fill-opacity=\"1\" /><path clip-path=\"url(#clip530)\" d=\"M1482.64 13.7326 L1467.89 36.7938 L1482.64 36.7938 L1482.64 13.7326 M1481.11 8.64 L1488.46 8.64 L1488.46 36.7938 L1494.62 36.7938 L1494.62 41.6549 L1488.46 41.6549 L1488.46 51.84 L1482.64 51.84 L1482.64 41.6549 L1463.14 41.6549 L1463.14 36.0125 L1481.11 8.64 Z\" fill=\"#000000\" fill-rule=\"nonzero\" fill-opacity=\"1\" /><path clip-path=\"url(#clip530)\" d=\"M1544.04 14.6874 L1544.04 30.8042 L1560.16 30.8042 L1560.16 35.7232 L1544.04 35.7232 L1544.04 51.84 L1539.18 51.84 L1539.18 35.7232 L1523.06 35.7232 L1523.06 30.8042 L1539.18 30.8042 L1539.18 14.6874 L1544.04 14.6874 Z\" fill=\"#000000\" fill-rule=\"nonzero\" fill-opacity=\"1\" /><path clip-path=\"url(#clip530)\" d=\"M1609.32 28.5473 Q1613.52 29.4443 1615.86 32.2799 Q1618.23 35.1156 1618.23 39.2822 Q1618.23 45.6768 1613.83 49.178 Q1609.44 52.6791 1601.33 52.6791 Q1598.61 52.6791 1595.72 52.1294 Q1592.86 51.6085 1589.79 50.5379 L1589.79 44.8956 Q1592.22 46.3134 1595.11 47.0368 Q1598.01 47.7602 1601.16 47.7602 Q1606.66 47.7602 1609.52 45.59 Q1612.42 43.4199 1612.42 39.2822 Q1612.42 35.4628 1609.73 33.3216 Q1607.06 31.1515 1602.29 31.1515 L1597.25 31.1515 L1597.25 26.3482 L1602.52 26.3482 Q1606.83 26.3482 1609.12 24.6411 Q1611.4 22.905 1611.4 19.6642 Q1611.4 16.3367 1609.03 14.5717 Q1606.69 12.7777 1602.29 12.7777 Q1599.89 12.7777 1597.14 13.2985 Q1594.39 13.8194 1591.09 14.9189 L1591.09 9.7106 Q1594.42 8.78468 1597.31 8.32171 Q1600.23 7.85875 1602.81 7.85875 Q1609.46 7.85875 1613.34 10.8969 Q1617.22 13.9062 1617.22 19.0566 Q1617.22 22.6446 1615.16 25.133 Q1613.11 27.5924 1609.32 28.5473 Z\" fill=\"#000000\" fill-rule=\"nonzero\" fill-opacity=\"1\" /><path clip-path=\"url(#clip530)\" d=\"M1629.37 8.64 L1652.32 8.64 L1652.32 13.559 L1634.73 13.559 L1634.73 24.1492 Q1636 23.7152 1637.27 23.5126 Q1638.54 23.2811 1639.82 23.2811 Q1647.05 23.2811 1651.28 27.2452 Q1655.5 31.2093 1655.5 37.9801 Q1655.5 44.9535 1651.16 48.8308 Q1646.82 52.6791 1638.92 52.6791 Q1636.2 52.6791 1633.37 52.2162 Q1630.56 51.7532 1627.55 50.8273 L1627.55 44.9535 Q1630.15 46.3713 1632.93 47.0657 Q1635.71 47.7602 1638.8 47.7602 Q1643.81 47.7602 1646.73 45.1271 Q1649.66 42.494 1649.66 37.9801 Q1649.66 33.4663 1646.73 30.8332 Q1643.81 28.2001 1638.8 28.2001 Q1636.46 28.2001 1634.12 28.7209 Q1631.8 29.2417 1629.37 30.3413 L1629.37 8.64 Z\" fill=\"#000000\" fill-rule=\"nonzero\" fill-opacity=\"1\" /><path clip-path=\"url(#clip530)\" d=\"M1693.2 19.4328 L1681.48 35.2024 L1693.81 51.84 L1687.53 51.84 L1678.1 39.1086 L1668.67 51.84 L1662.39 51.84 L1674.97 34.8841 L1663.46 19.4328 L1669.74 19.4328 L1678.33 30.9778 L1686.92 19.4328 L1693.2 19.4328 Z\" fill=\"#000000\" fill-rule=\"nonzero\" fill-opacity=\"1\" /><path clip-path=\"url(#clip530)\" d=\"M1723.41 8.64 L1739.12 24.7568 L1733.31 24.7568 L1720.58 13.3275 L1707.84 24.7568 L1702.03 24.7568 L1717.74 8.64 L1723.41 8.64 Z\" fill=\"#000000\" fill-rule=\"nonzero\" fill-opacity=\"1\" /><path clip-path=\"url(#clip530)\" d=\"M1769.45 28.5473 Q1773.64 29.4443 1775.99 32.2799 Q1778.36 35.1156 1778.36 39.2822 Q1778.36 45.6768 1773.96 49.178 Q1769.56 52.6791 1761.46 52.6791 Q1758.74 52.6791 1755.85 52.1294 Q1752.98 51.6085 1749.92 50.5379 L1749.92 44.8956 Q1752.35 46.3134 1755.24 47.0368 Q1758.13 47.7602 1761.29 47.7602 Q1766.78 47.7602 1769.65 45.59 Q1772.54 43.4199 1772.54 39.2822 Q1772.54 35.4628 1769.85 33.3216 Q1767.19 31.1515 1762.42 31.1515 L1757.38 31.1515 L1757.38 26.3482 L1762.65 26.3482 Q1766.96 26.3482 1769.24 24.6411 Q1771.53 22.905 1771.53 19.6642 Q1771.53 16.3367 1769.16 14.5717 Q1766.81 12.7777 1762.42 12.7777 Q1760.01 12.7777 1757.26 13.2985 Q1754.52 13.8194 1751.22 14.9189 L1751.22 9.7106 Q1754.54 8.78468 1757.44 8.32171 Q1760.36 7.85875 1762.94 7.85875 Q1769.59 7.85875 1773.47 10.8969 Q1777.35 13.9062 1777.35 19.0566 Q1777.35 22.6446 1775.29 25.133 Q1773.24 27.5924 1769.45 28.5473 Z\" fill=\"#000000\" fill-rule=\"nonzero\" fill-opacity=\"1\" /><path clip-path=\"url(#clip530)\" d=\"M1804.83 33.2348 L1820.43 33.2348 L1820.43 37.9801 L1804.83 37.9801 L1804.83 33.2348 Z\" fill=\"#000000\" fill-rule=\"nonzero\" fill-opacity=\"1\" /><path clip-path=\"url(#clip530)\" d=\"M1853.53 46.921 L1873.93 46.921 L1873.93 51.84 L1846.5 51.84 L1846.5 46.921 Q1849.83 43.4778 1855.56 37.6908 Q1861.32 31.8748 1862.79 30.1966 Q1865.6 27.0427 1866.7 24.8726 Q1867.83 22.6735 1867.83 20.5612 Q1867.83 17.118 1865.4 14.9478 Q1862.99 12.7777 1859.12 12.7777 Q1856.37 12.7777 1853.3 13.7326 Q1850.26 14.6874 1846.79 16.6261 L1846.79 10.7233 Q1850.32 9.30551 1853.39 8.58213 Q1856.45 7.85875 1859 7.85875 Q1865.71 7.85875 1869.71 11.2152 Q1873.7 14.5717 1873.7 20.1851 Q1873.7 22.8471 1872.69 25.2487 Q1871.7 27.6214 1869.07 30.8621 Q1868.35 31.7012 1864.47 35.7232 Q1860.59 39.7162 1853.53 46.921 Z\" fill=\"#000000\" fill-rule=\"nonzero\" fill-opacity=\"1\" /><path clip-path=\"url(#clip530)\" d=\"M1887.21 46.921 L1896.76 46.921 L1896.76 13.964 L1886.37 16.0474 L1886.37 10.7233 L1896.7 8.64 L1902.55 8.64 L1902.55 46.921 L1912.1 46.921 L1912.1 51.84 L1887.21 51.84 L1887.21 46.921 Z\" fill=\"#000000\" fill-rule=\"nonzero\" fill-opacity=\"1\" /><path clip-path=\"url(#clip530)\" d=\"M1950.09 19.4328 L1938.37 35.2024 L1950.7 51.84 L1944.42 51.84 L1934.98 39.1086 L1925.55 51.84 L1919.27 51.84 L1931.86 34.8841 L1920.34 19.4328 L1926.62 19.4328 L1935.22 30.9778 L1943.81 19.4328 L1950.09 19.4328 Z\" fill=\"#000000\" fill-rule=\"nonzero\" fill-opacity=\"1\" /><path clip-path=\"url(#clip530)\" d=\"M1980.3 8.64 L1996.01 24.7568 L1990.19 24.7568 L1977.46 13.3275 L1964.73 24.7568 L1958.91 24.7568 L1974.62 8.64 L1980.3 8.64 Z\" fill=\"#000000\" fill-rule=\"nonzero\" fill-opacity=\"1\" /><path clip-path=\"url(#clip530)\" d=\"M2013.66 46.921 L2034.06 46.921 L2034.06 51.84 L2006.63 51.84 L2006.63 46.921 Q2009.95 43.4778 2015.68 37.6908 Q2021.44 31.8748 2022.92 30.1966 Q2025.72 27.0427 2026.82 24.8726 Q2027.95 22.6735 2027.95 20.5612 Q2027.95 17.118 2025.52 14.9478 Q2023.12 12.7777 2019.24 12.7777 Q2016.49 12.7777 2013.43 13.7326 Q2010.39 14.6874 2006.92 16.6261 L2006.92 10.7233 Q2010.45 9.30551 2013.51 8.58213 Q2016.58 7.85875 2019.13 7.85875 Q2025.84 7.85875 2029.83 11.2152 Q2033.83 14.5717 2033.83 20.1851 Q2033.83 22.8471 2032.81 25.2487 Q2031.83 27.6214 2029.2 30.8621 Q2028.47 31.7012 2024.6 35.7232 Q2020.72 39.7162 2013.66 46.921 Z\" fill=\"#000000\" fill-rule=\"nonzero\" fill-opacity=\"1\" /><path clip-path=\"url(#clip530)\" d=\"M2086.08 14.6874 L2086.08 30.8042 L2102.2 30.8042 L2102.2 35.7232 L2086.08 35.7232 L2086.08 51.84 L2081.22 51.84 L2081.22 35.7232 L2065.1 35.7232 L2065.1 30.8042 L2081.22 30.8042 L2081.22 14.6874 L2086.08 14.6874 Z\" fill=\"#000000\" fill-rule=\"nonzero\" fill-opacity=\"1\" /><path clip-path=\"url(#clip530)\" d=\"M2132.18 8.64 L2159.95 8.64 L2159.95 11.1284 L2144.27 51.84 L2138.17 51.84 L2152.92 13.559 L2132.18 13.559 L2132.18 8.64 Z\" fill=\"#000000\" fill-rule=\"nonzero\" fill-opacity=\"1\" /><path clip-path=\"url(#clip530)\" d=\"M2197.54 19.4328 L2185.82 35.2024 L2198.15 51.84 L2191.87 51.84 L2182.44 39.1086 L2173 51.84 L2166.72 51.84 L2179.31 34.8841 L2167.8 19.4328 L2174.07 19.4328 L2182.67 30.9778 L2191.26 19.4328 L2197.54 19.4328 Z\" fill=\"#000000\" fill-rule=\"nonzero\" fill-opacity=\"1\" /><path clip-path=\"url(#clip530)\" d=\"M2221.82 33.2348 L2237.41 33.2348 L2237.41 37.9801 L2221.82 37.9801 L2221.82 33.2348 Z\" fill=\"#000000\" fill-rule=\"nonzero\" fill-opacity=\"1\" /><path clip-path=\"url(#clip530)\" d=\"M2266.49 46.921 L2276.04 46.921 L2276.04 13.964 L2265.65 16.0474 L2265.65 10.7233 L2275.98 8.64 L2281.83 8.64 L2281.83 46.921 L2291.38 46.921 L2291.38 51.84 L2266.49 51.84 L2266.49 46.921 Z\" fill=\"#000000\" fill-rule=\"nonzero\" fill-opacity=\"1\" /><polyline clip-path=\"url(#clip532)\" style=\"stroke:#009af9; stroke-linecap:round; stroke-linejoin:round; stroke-width:4; stroke-opacity:1; fill:none\" points=\"486.646,1385.91 562.135,1196.84 637.625,1061.79 713.115,967.258 788.605,940.248 864.095,913.239 939.585,872.724 1015.07,899.734 1090.56,859.22 1166.05,886.229 1241.54,859.22 1317.03,872.724 1392.52,845.715 1468.01,926.744 1543.5,940.248 1618.99,805.2 1694.48,886.229 1769.97,845.715 1845.46,872.724 1920.95,832.21 1996.44,805.2 2071.93,886.229 2147.42,737.676 2222.91,548.609 2298.4,143.465 \"/>\n",
       "<path clip-path=\"url(#clip530)\" d=\"M496.308 253.772 L740.785 253.772 L740.785 150.092 L496.308 150.092  Z\" fill=\"#ffffff\" fill-rule=\"evenodd\" fill-opacity=\"1\"/>\n",
       "<polyline clip-path=\"url(#clip530)\" style=\"stroke:#000000; stroke-linecap:round; stroke-linejoin:round; stroke-width:4; stroke-opacity:1; fill:none\" points=\"496.308,253.772 740.785,253.772 740.785,150.092 496.308,150.092 496.308,253.772 \"/>\n",
       "<polyline clip-path=\"url(#clip530)\" style=\"stroke:#009af9; stroke-linecap:round; stroke-linejoin:round; stroke-width:4; stroke-opacity:1; fill:none\" points=\"517.647,201.932 645.678,201.932 \"/>\n",
       "<path clip-path=\"url(#clip530)\" d=\"M680.859 221.619 Q679.053 226.249 677.34 227.661 Q675.627 229.073 672.757 229.073 L669.354 229.073 L669.354 225.508 L671.854 225.508 Q673.613 225.508 674.585 224.675 Q675.558 223.841 676.738 220.739 L677.502 218.795 L667.016 193.286 L671.53 193.286 L679.632 213.564 L687.734 193.286 L692.247 193.286 L680.859 221.619 Z\" fill=\"#000000\" fill-rule=\"nonzero\" fill-opacity=\"1\" /><path clip-path=\"url(#clip530)\" d=\"M699.539 215.277 L707.178 215.277 L707.178 188.911 L698.868 190.578 L698.868 186.318 L707.132 184.652 L711.807 184.652 L711.807 215.277 L719.446 215.277 L719.446 219.212 L699.539 219.212 L699.539 215.277 Z\" fill=\"#000000\" fill-rule=\"nonzero\" fill-opacity=\"1\" /></svg>\n"
      ]
     },
     "execution_count": 137,
     "metadata": {},
     "output_type": "execute_result"
    }
   ],
   "source": [
    "y = x .^ 7 - 7x .^ 6 + 21x .^ 5 - 35x .^ 4 + 35x .^ 3 - 21x .^ 2 + 7x .- 1\n",
    "plot(x, y, xlabel=\"x\", ylabel=\"y\", # no spaces are required here in Julia\n",
    "    title=\"y = x^7 - 7x^6 + 21x^5 - 35x^4 + 35x^3 - 21x^2 + 7x - 1\",\n",
    "    titlefontsize=10)"
   ]
  },
  {
   "cell_type": "markdown",
   "metadata": {},
   "source": [
    "Note: In Julia, it's a convention not to include spaces around `=` when specifying keyword arguments in a function call.\n",
    "\n",
    "Q4.2. Plot the polynomial `y = (x - 1)^7` at points `x`. \n",
    "\n",
    "**Solution**"
   ]
  },
  {
   "cell_type": "code",
   "execution_count": 138,
   "metadata": {},
   "outputs": [
    {
     "data": {
      "image/png": "[encoded data removed]",
      "image/svg+xml": [
       "<?xml version=\"1.0\" encoding=\"utf-8\"?>\n",
       "<svg xmlns=\"http://www.w3.org/2000/svg\" xmlns:xlink=\"http://www.w3.org/1999/xlink\" width=\"600\" height=\"400\" viewBox=\"0 0 2400 1600\">\n",
       "<defs>\n",
       "  <clipPath id=\"clip570\">\n",
       "    <rect x=\"0\" y=\"0\" width=\"2400\" height=\"1600\"/>\n",
       "  </clipPath>\n",
       "</defs>\n",
       "<path clip-path=\"url(#clip570)\" d=\"M0 1600 L2400 1600 L2400 8.88178e-14 L0 8.88178e-14  Z\" fill=\"#ffffff\" fill-rule=\"evenodd\" fill-opacity=\"1\"/>\n",
       "<defs>\n",
       "  <clipPath id=\"clip571\">\n",
       "    <rect x=\"480\" y=\"0\" width=\"1681\" height=\"1600\"/>\n",
       "  </clipPath>\n",
       "</defs>\n",
       "<path clip-path=\"url(#clip570)\" d=\"M432.293 1423.18 L2352.76 1423.18 L2352.76 106.192 L432.293 106.192  Z\" fill=\"#ffffff\" fill-rule=\"evenodd\" fill-opacity=\"1\"/>\n",
       "<defs>\n",
       "  <clipPath id=\"clip572\">\n",
       "    <rect x=\"432\" y=\"106\" width=\"1921\" height=\"1318\"/>\n",
       "  </clipPath>\n",
       "</defs>\n",
       "<polyline clip-path=\"url(#clip572)\" style=\"stroke:#000000; stroke-linecap:round; stroke-linejoin:round; stroke-width:2; stroke-opacity:0.1; fill:none\" points=\"637.625,1423.18 637.625,106.192 \"/>\n",
       "<polyline clip-path=\"url(#clip572)\" style=\"stroke:#000000; stroke-linecap:round; stroke-linejoin:round; stroke-width:2; stroke-opacity:0.1; fill:none\" points=\"1015.07,1423.18 1015.07,106.192 \"/>\n",
       "<polyline clip-path=\"url(#clip572)\" style=\"stroke:#000000; stroke-linecap:round; stroke-linejoin:round; stroke-width:2; stroke-opacity:0.1; fill:none\" points=\"1392.52,1423.18 1392.52,106.192 \"/>\n",
       "<polyline clip-path=\"url(#clip572)\" style=\"stroke:#000000; stroke-linecap:round; stroke-linejoin:round; stroke-width:2; stroke-opacity:0.1; fill:none\" points=\"1769.97,1423.18 1769.97,106.192 \"/>\n",
       "<polyline clip-path=\"url(#clip572)\" style=\"stroke:#000000; stroke-linecap:round; stroke-linejoin:round; stroke-width:2; stroke-opacity:0.1; fill:none\" points=\"2147.42,1423.18 2147.42,106.192 \"/>\n",
       "<polyline clip-path=\"url(#clip570)\" style=\"stroke:#000000; stroke-linecap:round; stroke-linejoin:round; stroke-width:4; stroke-opacity:1; fill:none\" points=\"432.293,1423.18 2352.76,1423.18 \"/>\n",
       "<polyline clip-path=\"url(#clip570)\" style=\"stroke:#000000; stroke-linecap:round; stroke-linejoin:round; stroke-width:4; stroke-opacity:1; fill:none\" points=\"637.625,1423.18 637.625,1404.28 \"/>\n",
       "<polyline clip-path=\"url(#clip570)\" style=\"stroke:#000000; stroke-linecap:round; stroke-linejoin:round; stroke-width:4; stroke-opacity:1; fill:none\" points=\"1015.07,1423.18 1015.07,1404.28 \"/>\n",
       "<polyline clip-path=\"url(#clip570)\" style=\"stroke:#000000; stroke-linecap:round; stroke-linejoin:round; stroke-width:4; stroke-opacity:1; fill:none\" points=\"1392.52,1423.18 1392.52,1404.28 \"/>\n",
       "<polyline clip-path=\"url(#clip570)\" style=\"stroke:#000000; stroke-linecap:round; stroke-linejoin:round; stroke-width:4; stroke-opacity:1; fill:none\" points=\"1769.97,1423.18 1769.97,1404.28 \"/>\n",
       "<polyline clip-path=\"url(#clip570)\" style=\"stroke:#000000; stroke-linecap:round; stroke-linejoin:round; stroke-width:4; stroke-opacity:1; fill:none\" points=\"2147.42,1423.18 2147.42,1404.28 \"/>\n",
       "<path clip-path=\"url(#clip570)\" d=\"M584.848 1454.1 Q581.237 1454.1 579.408 1457.66 Q577.602 1461.2 577.602 1468.33 Q577.602 1475.44 579.408 1479.01 Q581.237 1482.55 584.848 1482.55 Q588.482 1482.55 590.288 1479.01 Q592.116 1475.44 592.116 1468.33 Q592.116 1461.2 590.288 1457.66 Q588.482 1454.1 584.848 1454.1 M584.848 1450.39 Q590.658 1450.39 593.714 1455 Q596.792 1459.58 596.792 1468.33 Q596.792 1477.06 593.714 1481.67 Q590.658 1486.25 584.848 1486.25 Q579.038 1486.25 575.959 1481.67 Q572.903 1477.06 572.903 1468.33 Q572.903 1459.58 575.959 1455 Q579.038 1450.39 584.848 1450.39 Z\" fill=\"#000000\" fill-rule=\"nonzero\" fill-opacity=\"1\" /><path clip-path=\"url(#clip570)\" d=\"M605.01 1479.7 L609.894 1479.7 L609.894 1485.58 L605.01 1485.58 L605.01 1479.7 Z\" fill=\"#000000\" fill-rule=\"nonzero\" fill-opacity=\"1\" /><path clip-path=\"url(#clip570)\" d=\"M620.218 1484.86 L620.218 1480.6 Q621.977 1481.44 623.783 1481.88 Q625.588 1482.32 627.324 1482.32 Q631.954 1482.32 634.385 1479.21 Q636.838 1476.09 637.186 1469.75 Q635.843 1471.74 633.783 1472.8 Q631.723 1473.87 629.223 1473.87 Q624.037 1473.87 621.005 1470.74 Q617.996 1467.59 617.996 1462.15 Q617.996 1456.83 621.144 1453.61 Q624.292 1450.39 629.524 1450.39 Q635.519 1450.39 638.667 1455 Q641.838 1459.58 641.838 1468.33 Q641.838 1476.51 637.949 1481.39 Q634.084 1486.25 627.533 1486.25 Q625.774 1486.25 623.968 1485.9 Q622.162 1485.56 620.218 1484.86 M629.524 1470.21 Q632.672 1470.21 634.5 1468.06 Q636.352 1465.9 636.352 1462.15 Q636.352 1458.43 634.5 1456.27 Q632.672 1454.1 629.524 1454.1 Q626.375 1454.1 624.524 1456.27 Q622.695 1458.43 622.695 1462.15 Q622.695 1465.9 624.524 1468.06 Q626.375 1470.21 629.524 1470.21 Z\" fill=\"#000000\" fill-rule=\"nonzero\" fill-opacity=\"1\" /><path clip-path=\"url(#clip570)\" d=\"M650.38 1484.86 L650.38 1480.6 Q652.139 1481.44 653.945 1481.88 Q655.75 1482.32 657.486 1482.32 Q662.116 1482.32 664.546 1479.21 Q667 1476.09 667.347 1469.75 Q666.005 1471.74 663.945 1472.8 Q661.884 1473.87 659.384 1473.87 Q654.199 1473.87 651.167 1470.74 Q648.158 1467.59 648.158 1462.15 Q648.158 1456.83 651.306 1453.61 Q654.454 1450.39 659.685 1450.39 Q665.681 1450.39 668.829 1455 Q672 1459.58 672 1468.33 Q672 1476.51 668.111 1481.39 Q664.246 1486.25 657.695 1486.25 Q655.935 1486.25 654.13 1485.9 Q652.324 1485.56 650.38 1484.86 M659.685 1470.21 Q662.834 1470.21 664.662 1468.06 Q666.514 1465.9 666.514 1462.15 Q666.514 1458.43 664.662 1456.27 Q662.834 1454.1 659.685 1454.1 Q656.537 1454.1 654.685 1456.27 Q652.857 1458.43 652.857 1462.15 Q652.857 1465.9 654.685 1468.06 Q656.537 1470.21 659.685 1470.21 Z\" fill=\"#000000\" fill-rule=\"nonzero\" fill-opacity=\"1\" /><path clip-path=\"url(#clip570)\" d=\"M690.403 1454.1 Q686.792 1454.1 684.963 1457.66 Q683.157 1461.2 683.157 1468.33 Q683.157 1475.44 684.963 1479.01 Q686.792 1482.55 690.403 1482.55 Q694.037 1482.55 695.843 1479.01 Q697.671 1475.44 697.671 1468.33 Q697.671 1461.2 695.843 1457.66 Q694.037 1454.1 690.403 1454.1 M690.403 1450.39 Q696.213 1450.39 699.269 1455 Q702.347 1459.58 702.347 1468.33 Q702.347 1477.06 699.269 1481.67 Q696.213 1486.25 690.403 1486.25 Q684.593 1486.25 681.514 1481.67 Q678.458 1477.06 678.458 1468.33 Q678.458 1459.58 681.514 1455 Q684.593 1450.39 690.403 1450.39 Z\" fill=\"#000000\" fill-rule=\"nonzero\" fill-opacity=\"1\" /><path clip-path=\"url(#clip570)\" d=\"M962.795 1454.1 Q959.184 1454.1 957.355 1457.66 Q955.55 1461.2 955.55 1468.33 Q955.55 1475.44 957.355 1479.01 Q959.184 1482.55 962.795 1482.55 Q966.429 1482.55 968.235 1479.01 Q970.064 1475.44 970.064 1468.33 Q970.064 1461.2 968.235 1457.66 Q966.429 1454.1 962.795 1454.1 M962.795 1450.39 Q968.605 1450.39 971.661 1455 Q974.739 1459.58 974.739 1468.33 Q974.739 1477.06 971.661 1481.67 Q968.605 1486.25 962.795 1486.25 Q956.985 1486.25 953.906 1481.67 Q950.851 1477.06 950.851 1468.33 Q950.851 1459.58 953.906 1455 Q956.985 1450.39 962.795 1450.39 Z\" fill=\"#000000\" fill-rule=\"nonzero\" fill-opacity=\"1\" /><path clip-path=\"url(#clip570)\" d=\"M982.957 1479.7 L987.841 1479.7 L987.841 1485.58 L982.957 1485.58 L982.957 1479.7 Z\" fill=\"#000000\" fill-rule=\"nonzero\" fill-opacity=\"1\" /><path clip-path=\"url(#clip570)\" d=\"M998.165 1484.86 L998.165 1480.6 Q999.924 1481.44 1001.73 1481.88 Q1003.54 1482.32 1005.27 1482.32 Q1009.9 1482.32 1012.33 1479.21 Q1014.79 1476.09 1015.13 1469.75 Q1013.79 1471.74 1011.73 1472.8 Q1009.67 1473.87 1007.17 1473.87 Q1001.98 1473.87 998.952 1470.74 Q995.943 1467.59 995.943 1462.15 Q995.943 1456.83 999.091 1453.61 Q1002.24 1450.39 1007.47 1450.39 Q1013.47 1450.39 1016.61 1455 Q1019.79 1459.58 1019.79 1468.33 Q1019.79 1476.51 1015.9 1481.39 Q1012.03 1486.25 1005.48 1486.25 Q1003.72 1486.25 1001.92 1485.9 Q1000.11 1485.56 998.165 1484.86 M1007.47 1470.21 Q1010.62 1470.21 1012.45 1468.06 Q1014.3 1465.9 1014.3 1462.15 Q1014.3 1458.43 1012.45 1456.27 Q1010.62 1454.1 1007.47 1454.1 Q1004.32 1454.1 1002.47 1456.27 Q1000.64 1458.43 1000.64 1462.15 Q1000.64 1465.9 1002.47 1468.06 Q1004.32 1470.21 1007.47 1470.21 Z\" fill=\"#000000\" fill-rule=\"nonzero\" fill-opacity=\"1\" /><path clip-path=\"url(#clip570)\" d=\"M1028.33 1484.86 L1028.33 1480.6 Q1030.09 1481.44 1031.89 1481.88 Q1033.7 1482.32 1035.43 1482.32 Q1040.06 1482.32 1042.49 1479.21 Q1044.95 1476.09 1045.29 1469.75 Q1043.95 1471.74 1041.89 1472.8 Q1039.83 1473.87 1037.33 1473.87 Q1032.15 1473.87 1029.11 1470.74 Q1026.1 1467.59 1026.1 1462.15 Q1026.1 1456.83 1029.25 1453.61 Q1032.4 1450.39 1037.63 1450.39 Q1043.63 1450.39 1046.78 1455 Q1049.95 1459.58 1049.95 1468.33 Q1049.95 1476.51 1046.06 1481.39 Q1042.19 1486.25 1035.64 1486.25 Q1033.88 1486.25 1032.08 1485.9 Q1030.27 1485.56 1028.33 1484.86 M1037.63 1470.21 Q1040.78 1470.21 1042.61 1468.06 Q1044.46 1465.9 1044.46 1462.15 Q1044.46 1458.43 1042.61 1456.27 Q1040.78 1454.1 1037.63 1454.1 Q1034.48 1454.1 1032.63 1456.27 Q1030.8 1458.43 1030.8 1462.15 Q1030.8 1465.9 1032.63 1468.06 Q1034.48 1470.21 1037.63 1470.21 Z\" fill=\"#000000\" fill-rule=\"nonzero\" fill-opacity=\"1\" /><path clip-path=\"url(#clip570)\" d=\"M1058.4 1451.02 L1076.75 1451.02 L1076.75 1454.96 L1062.68 1454.96 L1062.68 1463.43 Q1063.7 1463.08 1064.72 1462.92 Q1065.73 1462.73 1066.75 1462.73 Q1072.54 1462.73 1075.92 1465.9 Q1079.3 1469.08 1079.3 1474.49 Q1079.3 1480.07 1075.83 1483.17 Q1072.35 1486.25 1066.04 1486.25 Q1063.86 1486.25 1061.59 1485.88 Q1059.35 1485.51 1056.94 1484.77 L1056.94 1480.07 Q1059.02 1481.2 1061.24 1481.76 Q1063.47 1482.32 1065.94 1482.32 Q1069.95 1482.32 1072.29 1480.21 Q1074.62 1478.1 1074.62 1474.49 Q1074.62 1470.88 1072.29 1468.77 Q1069.95 1466.67 1065.94 1466.67 Q1064.07 1466.67 1062.19 1467.08 Q1060.34 1467.5 1058.4 1468.38 L1058.4 1451.02 Z\" fill=\"#000000\" fill-rule=\"nonzero\" fill-opacity=\"1\" /><path clip-path=\"url(#clip570)\" d=\"M1329.52 1481.64 L1337.15 1481.64 L1337.15 1455.28 L1328.84 1456.95 L1328.84 1452.69 L1337.11 1451.02 L1341.78 1451.02 L1341.78 1481.64 L1349.42 1481.64 L1349.42 1485.58 L1329.52 1485.58 L1329.52 1481.64 Z\" fill=\"#000000\" fill-rule=\"nonzero\" fill-opacity=\"1\" /><path clip-path=\"url(#clip570)\" d=\"M1358.87 1479.7 L1363.75 1479.7 L1363.75 1485.58 L1358.87 1485.58 L1358.87 1479.7 Z\" fill=\"#000000\" fill-rule=\"nonzero\" fill-opacity=\"1\" /><path clip-path=\"url(#clip570)\" d=\"M1383.94 1454.1 Q1380.33 1454.1 1378.5 1457.66 Q1376.69 1461.2 1376.69 1468.33 Q1376.69 1475.44 1378.5 1479.01 Q1380.33 1482.55 1383.94 1482.55 Q1387.57 1482.55 1389.38 1479.01 Q1391.2 1475.44 1391.2 1468.33 Q1391.2 1461.2 1389.38 1457.66 Q1387.57 1454.1 1383.94 1454.1 M1383.94 1450.39 Q1389.75 1450.39 1392.8 1455 Q1395.88 1459.58 1395.88 1468.33 Q1395.88 1477.06 1392.8 1481.67 Q1389.75 1486.25 1383.94 1486.25 Q1378.13 1486.25 1375.05 1481.67 Q1371.99 1477.06 1371.99 1468.33 Q1371.99 1459.58 1375.05 1455 Q1378.13 1450.39 1383.94 1450.39 Z\" fill=\"#000000\" fill-rule=\"nonzero\" fill-opacity=\"1\" /><path clip-path=\"url(#clip570)\" d=\"M1414.1 1454.1 Q1410.49 1454.1 1408.66 1457.66 Q1406.85 1461.2 1406.85 1468.33 Q1406.85 1475.44 1408.66 1479.01 Q1410.49 1482.55 1414.1 1482.55 Q1417.73 1482.55 1419.54 1479.01 Q1421.37 1475.44 1421.37 1468.33 Q1421.37 1461.2 1419.54 1457.66 Q1417.73 1454.1 1414.1 1454.1 M1414.1 1450.39 Q1419.91 1450.39 1422.96 1455 Q1426.04 1459.58 1426.04 1468.33 Q1426.04 1477.06 1422.96 1481.67 Q1419.91 1486.25 1414.1 1486.25 Q1408.29 1486.25 1405.21 1481.67 Q1402.15 1477.06 1402.15 1468.33 Q1402.15 1459.58 1405.21 1455 Q1408.29 1450.39 1414.1 1450.39 Z\" fill=\"#000000\" fill-rule=\"nonzero\" fill-opacity=\"1\" /><path clip-path=\"url(#clip570)\" d=\"M1444.26 1454.1 Q1440.65 1454.1 1438.82 1457.66 Q1437.01 1461.2 1437.01 1468.33 Q1437.01 1475.44 1438.82 1479.01 Q1440.65 1482.55 1444.26 1482.55 Q1447.89 1482.55 1449.7 1479.01 Q1451.53 1475.44 1451.53 1468.33 Q1451.53 1461.2 1449.7 1457.66 Q1447.89 1454.1 1444.26 1454.1 M1444.26 1450.39 Q1450.07 1450.39 1453.13 1455 Q1456.2 1459.58 1456.2 1468.33 Q1456.2 1477.06 1453.13 1481.67 Q1450.07 1486.25 1444.26 1486.25 Q1438.45 1486.25 1435.37 1481.67 Q1432.32 1477.06 1432.32 1468.33 Q1432.32 1459.58 1435.37 1455 Q1438.45 1450.39 1444.26 1450.39 Z\" fill=\"#000000\" fill-rule=\"nonzero\" fill-opacity=\"1\" /><path clip-path=\"url(#clip570)\" d=\"M1707.46 1481.64 L1715.1 1481.64 L1715.1 1455.28 L1706.79 1456.95 L1706.79 1452.69 L1715.06 1451.02 L1719.73 1451.02 L1719.73 1481.64 L1727.37 1481.64 L1727.37 1485.58 L1707.46 1485.58 L1707.46 1481.64 Z\" fill=\"#000000\" fill-rule=\"nonzero\" fill-opacity=\"1\" /><path clip-path=\"url(#clip570)\" d=\"M1736.81 1479.7 L1741.7 1479.7 L1741.7 1485.58 L1736.81 1485.58 L1736.81 1479.7 Z\" fill=\"#000000\" fill-rule=\"nonzero\" fill-opacity=\"1\" /><path clip-path=\"url(#clip570)\" d=\"M1761.88 1454.1 Q1758.27 1454.1 1756.44 1457.66 Q1754.64 1461.2 1754.64 1468.33 Q1754.64 1475.44 1756.44 1479.01 Q1758.27 1482.55 1761.88 1482.55 Q1765.52 1482.55 1767.32 1479.01 Q1769.15 1475.44 1769.15 1468.33 Q1769.15 1461.2 1767.32 1457.66 Q1765.52 1454.1 1761.88 1454.1 M1761.88 1450.39 Q1767.69 1450.39 1770.75 1455 Q1773.83 1459.58 1773.83 1468.33 Q1773.83 1477.06 1770.75 1481.67 Q1767.69 1486.25 1761.88 1486.25 Q1756.07 1486.25 1752.99 1481.67 Q1749.94 1477.06 1749.94 1468.33 Q1749.94 1459.58 1752.99 1455 Q1756.07 1450.39 1761.88 1450.39 Z\" fill=\"#000000\" fill-rule=\"nonzero\" fill-opacity=\"1\" /><path clip-path=\"url(#clip570)\" d=\"M1792.05 1454.1 Q1788.43 1454.1 1786.61 1457.66 Q1784.8 1461.2 1784.8 1468.33 Q1784.8 1475.44 1786.61 1479.01 Q1788.43 1482.55 1792.05 1482.55 Q1795.68 1482.55 1797.49 1479.01 Q1799.31 1475.44 1799.31 1468.33 Q1799.31 1461.2 1797.49 1457.66 Q1795.68 1454.1 1792.05 1454.1 M1792.05 1450.39 Q1797.86 1450.39 1800.91 1455 Q1803.99 1459.58 1803.99 1468.33 Q1803.99 1477.06 1800.91 1481.67 Q1797.86 1486.25 1792.05 1486.25 Q1786.24 1486.25 1783.16 1481.67 Q1780.1 1477.06 1780.1 1468.33 Q1780.1 1459.58 1783.16 1455 Q1786.24 1450.39 1792.05 1450.39 Z\" fill=\"#000000\" fill-rule=\"nonzero\" fill-opacity=\"1\" /><path clip-path=\"url(#clip570)\" d=\"M1812.25 1451.02 L1830.61 1451.02 L1830.61 1454.96 L1816.54 1454.96 L1816.54 1463.43 Q1817.55 1463.08 1818.57 1462.92 Q1819.59 1462.73 1820.61 1462.73 Q1826.4 1462.73 1829.78 1465.9 Q1833.16 1469.08 1833.16 1474.49 Q1833.16 1480.07 1829.68 1483.17 Q1826.21 1486.25 1819.89 1486.25 Q1817.72 1486.25 1815.45 1485.88 Q1813.2 1485.51 1810.8 1484.77 L1810.8 1480.07 Q1812.88 1481.2 1815.1 1481.76 Q1817.32 1482.32 1819.8 1482.32 Q1823.8 1482.32 1826.14 1480.21 Q1828.48 1478.1 1828.48 1474.49 Q1828.48 1470.88 1826.14 1468.77 Q1823.8 1466.67 1819.8 1466.67 Q1817.92 1466.67 1816.05 1467.08 Q1814.2 1467.5 1812.25 1468.38 L1812.25 1451.02 Z\" fill=\"#000000\" fill-rule=\"nonzero\" fill-opacity=\"1\" /><path clip-path=\"url(#clip570)\" d=\"M2084.41 1481.64 L2092.05 1481.64 L2092.05 1455.28 L2083.74 1456.95 L2083.74 1452.69 L2092.01 1451.02 L2096.68 1451.02 L2096.68 1481.64 L2104.32 1481.64 L2104.32 1485.58 L2084.41 1485.58 L2084.41 1481.64 Z\" fill=\"#000000\" fill-rule=\"nonzero\" fill-opacity=\"1\" /><path clip-path=\"url(#clip570)\" d=\"M2113.77 1479.7 L2118.65 1479.7 L2118.65 1485.58 L2113.77 1485.58 L2113.77 1479.7 Z\" fill=\"#000000\" fill-rule=\"nonzero\" fill-opacity=\"1\" /><path clip-path=\"url(#clip570)\" d=\"M2138.84 1454.1 Q2135.22 1454.1 2133.4 1457.66 Q2131.59 1461.2 2131.59 1468.33 Q2131.59 1475.44 2133.4 1479.01 Q2135.22 1482.55 2138.84 1482.55 Q2142.47 1482.55 2144.28 1479.01 Q2146.1 1475.44 2146.1 1468.33 Q2146.1 1461.2 2144.28 1457.66 Q2142.47 1454.1 2138.84 1454.1 M2138.84 1450.39 Q2144.65 1450.39 2147.7 1455 Q2150.78 1459.58 2150.78 1468.33 Q2150.78 1477.06 2147.7 1481.67 Q2144.65 1486.25 2138.84 1486.25 Q2133.03 1486.25 2129.95 1481.67 Q2126.89 1477.06 2126.89 1468.33 Q2126.89 1459.58 2129.95 1455 Q2133.03 1450.39 2138.84 1450.39 Z\" fill=\"#000000\" fill-rule=\"nonzero\" fill-opacity=\"1\" /><path clip-path=\"url(#clip570)\" d=\"M2159.81 1481.64 L2167.45 1481.64 L2167.45 1455.28 L2159.14 1456.95 L2159.14 1452.69 L2167.4 1451.02 L2172.08 1451.02 L2172.08 1481.64 L2179.71 1481.64 L2179.71 1485.58 L2159.81 1485.58 L2159.81 1481.64 Z\" fill=\"#000000\" fill-rule=\"nonzero\" fill-opacity=\"1\" /><path clip-path=\"url(#clip570)\" d=\"M2199.16 1454.1 Q2195.55 1454.1 2193.72 1457.66 Q2191.91 1461.2 2191.91 1468.33 Q2191.91 1475.44 2193.72 1479.01 Q2195.55 1482.55 2199.16 1482.55 Q2202.79 1482.55 2204.6 1479.01 Q2206.43 1475.44 2206.43 1468.33 Q2206.43 1461.2 2204.6 1457.66 Q2202.79 1454.1 2199.16 1454.1 M2199.16 1450.39 Q2204.97 1450.39 2208.02 1455 Q2211.1 1459.58 2211.1 1468.33 Q2211.1 1477.06 2208.02 1481.67 Q2204.97 1486.25 2199.16 1486.25 Q2193.35 1486.25 2190.27 1481.67 Q2187.21 1477.06 2187.21 1468.33 Q2187.21 1459.58 2190.27 1455 Q2193.35 1450.39 2199.16 1450.39 Z\" fill=\"#000000\" fill-rule=\"nonzero\" fill-opacity=\"1\" /><path clip-path=\"url(#clip570)\" d=\"M1409.14 1532.4 L1396.25 1549.74 L1409.81 1568.04 L1402.9 1568.04 L1392.52 1554.04 L1382.15 1568.04 L1375.24 1568.04 L1389.09 1549.39 L1376.42 1532.4 L1383.33 1532.4 L1392.78 1545.1 L1402.23 1532.4 L1409.14 1532.4 Z\" fill=\"#000000\" fill-rule=\"nonzero\" fill-opacity=\"1\" /><polyline clip-path=\"url(#clip572)\" style=\"stroke:#000000; stroke-linecap:round; stroke-linejoin:round; stroke-width:2; stroke-opacity:0.1; fill:none\" points=\"432.293,1284.8 2352.76,1284.8 \"/>\n",
       "<polyline clip-path=\"url(#clip572)\" style=\"stroke:#000000; stroke-linecap:round; stroke-linejoin:round; stroke-width:2; stroke-opacity:0.1; fill:none\" points=\"432.293,1111.43 2352.76,1111.43 \"/>\n",
       "<polyline clip-path=\"url(#clip572)\" style=\"stroke:#000000; stroke-linecap:round; stroke-linejoin:round; stroke-width:2; stroke-opacity:0.1; fill:none\" points=\"432.293,938.057 2352.76,938.057 \"/>\n",
       "<polyline clip-path=\"url(#clip572)\" style=\"stroke:#000000; stroke-linecap:round; stroke-linejoin:round; stroke-width:2; stroke-opacity:0.1; fill:none\" points=\"432.293,764.686 2352.76,764.686 \"/>\n",
       "<polyline clip-path=\"url(#clip572)\" style=\"stroke:#000000; stroke-linecap:round; stroke-linejoin:round; stroke-width:2; stroke-opacity:0.1; fill:none\" points=\"432.293,591.315 2352.76,591.315 \"/>\n",
       "<polyline clip-path=\"url(#clip572)\" style=\"stroke:#000000; stroke-linecap:round; stroke-linejoin:round; stroke-width:2; stroke-opacity:0.1; fill:none\" points=\"432.293,417.943 2352.76,417.943 \"/>\n",
       "<polyline clip-path=\"url(#clip572)\" style=\"stroke:#000000; stroke-linecap:round; stroke-linejoin:round; stroke-width:2; stroke-opacity:0.1; fill:none\" points=\"432.293,244.572 2352.76,244.572 \"/>\n",
       "<polyline clip-path=\"url(#clip570)\" style=\"stroke:#000000; stroke-linecap:round; stroke-linejoin:round; stroke-width:4; stroke-opacity:1; fill:none\" points=\"432.293,1423.18 432.293,106.192 \"/>\n",
       "<polyline clip-path=\"url(#clip570)\" style=\"stroke:#000000; stroke-linecap:round; stroke-linejoin:round; stroke-width:4; stroke-opacity:1; fill:none\" points=\"432.293,1284.8 451.19,1284.8 \"/>\n",
       "<polyline clip-path=\"url(#clip570)\" style=\"stroke:#000000; stroke-linecap:round; stroke-linejoin:round; stroke-width:4; stroke-opacity:1; fill:none\" points=\"432.293,1111.43 451.19,1111.43 \"/>\n",
       "<polyline clip-path=\"url(#clip570)\" style=\"stroke:#000000; stroke-linecap:round; stroke-linejoin:round; stroke-width:4; stroke-opacity:1; fill:none\" points=\"432.293,938.057 451.19,938.057 \"/>\n",
       "<polyline clip-path=\"url(#clip570)\" style=\"stroke:#000000; stroke-linecap:round; stroke-linejoin:round; stroke-width:4; stroke-opacity:1; fill:none\" points=\"432.293,764.686 451.19,764.686 \"/>\n",
       "<polyline clip-path=\"url(#clip570)\" style=\"stroke:#000000; stroke-linecap:round; stroke-linejoin:round; stroke-width:4; stroke-opacity:1; fill:none\" points=\"432.293,591.315 451.19,591.315 \"/>\n",
       "<polyline clip-path=\"url(#clip570)\" style=\"stroke:#000000; stroke-linecap:round; stroke-linejoin:round; stroke-width:4; stroke-opacity:1; fill:none\" points=\"432.293,417.943 451.19,417.943 \"/>\n",
       "<polyline clip-path=\"url(#clip570)\" style=\"stroke:#000000; stroke-linecap:round; stroke-linejoin:round; stroke-width:4; stroke-opacity:1; fill:none\" points=\"432.293,244.572 451.19,244.572 \"/>\n",
       "<path clip-path=\"url(#clip570)\" d=\"M114.26 1291.7 L143.936 1291.7 L143.936 1295.63 L114.26 1295.63 L114.26 1291.7 Z\" fill=\"#000000\" fill-rule=\"nonzero\" fill-opacity=\"1\" /><path clip-path=\"url(#clip570)\" d=\"M168.195 1289.89 Q171.552 1290.61 173.427 1292.88 Q175.325 1295.15 175.325 1298.48 Q175.325 1303.6 171.806 1306.4 Q168.288 1309.2 161.806 1309.2 Q159.63 1309.2 157.315 1308.76 Q155.024 1308.34 152.57 1307.49 L152.57 1302.97 Q154.515 1304.11 156.829 1304.68 Q159.144 1305.26 161.667 1305.26 Q166.065 1305.26 168.357 1303.53 Q170.672 1301.79 170.672 1298.48 Q170.672 1295.43 168.519 1293.71 Q166.39 1291.98 162.57 1291.98 L158.542 1291.98 L158.542 1288.13 L162.755 1288.13 Q166.204 1288.13 168.033 1286.77 Q169.862 1285.38 169.862 1282.79 Q169.862 1280.12 167.964 1278.71 Q166.089 1277.28 162.57 1277.28 Q160.649 1277.28 158.45 1277.69 Q156.251 1278.11 153.612 1278.99 L153.612 1274.82 Q156.274 1274.08 158.589 1273.71 Q160.927 1273.34 162.987 1273.34 Q168.311 1273.34 171.413 1275.77 Q174.514 1278.18 174.514 1282.3 Q174.514 1285.17 172.871 1287.16 Q171.227 1289.13 168.195 1289.89 Z\" fill=\"#000000\" fill-rule=\"nonzero\" fill-opacity=\"1\" /><path clip-path=\"url(#clip570)\" d=\"M184.19 1302.65 L189.075 1302.65 L189.075 1308.53 L184.19 1308.53 L184.19 1302.65 Z\" fill=\"#000000\" fill-rule=\"nonzero\" fill-opacity=\"1\" /><path clip-path=\"url(#clip570)\" d=\"M209.26 1277.05 Q205.649 1277.05 203.82 1280.61 Q202.014 1284.15 202.014 1291.28 Q202.014 1298.39 203.82 1301.95 Q205.649 1305.5 209.26 1305.5 Q212.894 1305.5 214.699 1301.95 Q216.528 1298.39 216.528 1291.28 Q216.528 1284.15 214.699 1280.61 Q212.894 1277.05 209.26 1277.05 M209.26 1273.34 Q215.07 1273.34 218.125 1277.95 Q221.204 1282.53 221.204 1291.28 Q221.204 1300.01 218.125 1304.62 Q215.07 1309.2 209.26 1309.2 Q203.449 1309.2 200.371 1304.62 Q197.315 1300.01 197.315 1291.28 Q197.315 1282.53 200.371 1277.95 Q203.449 1273.34 209.26 1273.34 Z\" fill=\"#000000\" fill-rule=\"nonzero\" fill-opacity=\"1\" /><path clip-path=\"url(#clip570)\" d=\"M257.593 1283.06 L247.014 1293.69 L257.593 1304.27 L254.838 1307.07 L244.213 1296.44 L233.588 1307.07 L230.857 1304.27 L241.412 1293.69 L230.857 1283.06 L233.588 1280.26 L244.213 1290.89 L254.838 1280.26 L257.593 1283.06 Z\" fill=\"#000000\" fill-rule=\"nonzero\" fill-opacity=\"1\" /><path clip-path=\"url(#clip570)\" d=\"M269.954 1304.59 L277.593 1304.59 L277.593 1278.23 L269.282 1279.89 L269.282 1275.63 L277.546 1273.97 L282.222 1273.97 L282.222 1304.59 L289.861 1304.59 L289.861 1308.53 L269.954 1308.53 L269.954 1304.59 Z\" fill=\"#000000\" fill-rule=\"nonzero\" fill-opacity=\"1\" /><path clip-path=\"url(#clip570)\" d=\"M309.305 1277.05 Q305.694 1277.05 303.866 1280.61 Q302.06 1284.15 302.06 1291.28 Q302.06 1298.39 303.866 1301.95 Q305.694 1305.5 309.305 1305.5 Q312.94 1305.5 314.745 1301.95 Q316.574 1298.39 316.574 1291.28 Q316.574 1284.15 314.745 1280.61 Q312.94 1277.05 309.305 1277.05 M309.305 1273.34 Q315.116 1273.34 318.171 1277.95 Q321.25 1282.53 321.25 1291.28 Q321.25 1300.01 318.171 1304.62 Q315.116 1309.2 309.305 1309.2 Q303.495 1309.2 300.417 1304.62 Q297.361 1300.01 297.361 1291.28 Q297.361 1282.53 300.417 1277.95 Q303.495 1273.34 309.305 1273.34 Z\" fill=\"#000000\" fill-rule=\"nonzero\" fill-opacity=\"1\" /><path clip-path=\"url(#clip570)\" d=\"M321.25 1267.44 L345.361 1267.44 L345.361 1270.64 L321.25 1270.64 L321.25 1267.44 Z\" fill=\"#000000\" fill-rule=\"nonzero\" fill-opacity=\"1\" /><path clip-path=\"url(#clip570)\" d=\"M354.22 1277.92 L360.426 1277.92 L360.426 1256.5 L353.674 1257.85 L353.674 1254.39 L360.389 1253.04 L364.188 1253.04 L364.188 1277.92 L370.394 1277.92 L370.394 1281.12 L354.22 1281.12 L354.22 1277.92 Z\" fill=\"#000000\" fill-rule=\"nonzero\" fill-opacity=\"1\" /><path clip-path=\"url(#clip570)\" d=\"M388.506 1256.35 L378.914 1271.34 L388.506 1271.34 L388.506 1256.35 M387.51 1253.04 L392.287 1253.04 L392.287 1271.34 L396.293 1271.34 L396.293 1274.5 L392.287 1274.5 L392.287 1281.12 L388.506 1281.12 L388.506 1274.5 L375.83 1274.5 L375.83 1270.83 L387.51 1253.04 Z\" fill=\"#000000\" fill-rule=\"nonzero\" fill-opacity=\"1\" /><path clip-path=\"url(#clip570)\" d=\"M114.26 1118.33 L143.936 1118.33 L143.936 1122.26 L114.26 1122.26 L114.26 1118.33 Z\" fill=\"#000000\" fill-rule=\"nonzero\" fill-opacity=\"1\" /><path clip-path=\"url(#clip570)\" d=\"M158.056 1131.22 L174.376 1131.22 L174.376 1135.16 L152.431 1135.16 L152.431 1131.22 Q155.093 1128.47 159.677 1123.84 Q164.283 1119.18 165.464 1117.84 Q167.709 1115.32 168.589 1113.58 Q169.491 1111.82 169.491 1110.13 Q169.491 1107.38 167.547 1105.64 Q165.626 1103.91 162.524 1103.91 Q160.325 1103.91 157.871 1104.67 Q155.44 1105.43 152.663 1106.98 L152.663 1102.26 Q155.487 1101.13 157.94 1100.55 Q160.394 1099.97 162.431 1099.97 Q167.802 1099.97 170.996 1102.66 Q174.19 1105.34 174.19 1109.83 Q174.19 1111.96 173.38 1113.88 Q172.593 1115.78 170.487 1118.37 Q169.908 1119.05 166.806 1122.26 Q163.704 1125.46 158.056 1131.22 Z\" fill=\"#000000\" fill-rule=\"nonzero\" fill-opacity=\"1\" /><path clip-path=\"url(#clip570)\" d=\"M184.19 1129.28 L189.075 1129.28 L189.075 1135.16 L184.19 1135.16 L184.19 1129.28 Z\" fill=\"#000000\" fill-rule=\"nonzero\" fill-opacity=\"1\" /><path clip-path=\"url(#clip570)\" d=\"M209.26 1103.67 Q205.649 1103.67 203.82 1107.24 Q202.014 1110.78 202.014 1117.91 Q202.014 1125.02 203.82 1128.58 Q205.649 1132.12 209.26 1132.12 Q212.894 1132.12 214.699 1128.58 Q216.528 1125.02 216.528 1117.91 Q216.528 1110.78 214.699 1107.24 Q212.894 1103.67 209.26 1103.67 M209.26 1099.97 Q215.07 1099.97 218.125 1104.58 Q221.204 1109.16 221.204 1117.91 Q221.204 1126.64 218.125 1131.24 Q215.07 1135.83 209.26 1135.83 Q203.449 1135.83 200.371 1131.24 Q197.315 1126.64 197.315 1117.91 Q197.315 1109.16 200.371 1104.58 Q203.449 1099.97 209.26 1099.97 Z\" fill=\"#000000\" fill-rule=\"nonzero\" fill-opacity=\"1\" /><path clip-path=\"url(#clip570)\" d=\"M257.593 1109.69 L247.014 1120.32 L257.593 1130.9 L254.838 1133.7 L244.213 1123.07 L233.588 1133.7 L230.857 1130.9 L241.412 1120.32 L230.857 1109.69 L233.588 1106.89 L244.213 1117.52 L254.838 1106.89 L257.593 1109.69 Z\" fill=\"#000000\" fill-rule=\"nonzero\" fill-opacity=\"1\" /><path clip-path=\"url(#clip570)\" d=\"M269.954 1131.22 L277.593 1131.22 L277.593 1104.86 L269.282 1106.52 L269.282 1102.26 L277.546 1100.6 L282.222 1100.6 L282.222 1131.22 L289.861 1131.22 L289.861 1135.16 L269.954 1135.16 L269.954 1131.22 Z\" fill=\"#000000\" fill-rule=\"nonzero\" fill-opacity=\"1\" /><path clip-path=\"url(#clip570)\" d=\"M309.305 1103.67 Q305.694 1103.67 303.866 1107.24 Q302.06 1110.78 302.06 1117.91 Q302.06 1125.02 303.866 1128.58 Q305.694 1132.12 309.305 1132.12 Q312.94 1132.12 314.745 1128.58 Q316.574 1125.02 316.574 1117.91 Q316.574 1110.78 314.745 1107.24 Q312.94 1103.67 309.305 1103.67 M309.305 1099.97 Q315.116 1099.97 318.171 1104.58 Q321.25 1109.16 321.25 1117.91 Q321.25 1126.64 318.171 1131.24 Q315.116 1135.83 309.305 1135.83 Q303.495 1135.83 300.417 1131.24 Q297.361 1126.64 297.361 1117.91 Q297.361 1109.16 300.417 1104.58 Q303.495 1099.97 309.305 1099.97 Z\" fill=\"#000000\" fill-rule=\"nonzero\" fill-opacity=\"1\" /><path clip-path=\"url(#clip570)\" d=\"M321.25 1094.07 L345.361 1094.07 L345.361 1097.27 L321.25 1097.27 L321.25 1094.07 Z\" fill=\"#000000\" fill-rule=\"nonzero\" fill-opacity=\"1\" /><path clip-path=\"url(#clip570)\" d=\"M354.22 1104.55 L360.426 1104.55 L360.426 1083.13 L353.674 1084.48 L353.674 1081.02 L360.389 1079.67 L364.188 1079.67 L364.188 1104.55 L370.394 1104.55 L370.394 1107.75 L354.22 1107.75 L354.22 1104.55 Z\" fill=\"#000000\" fill-rule=\"nonzero\" fill-opacity=\"1\" /><path clip-path=\"url(#clip570)\" d=\"M388.506 1082.98 L378.914 1097.97 L388.506 1097.97 L388.506 1082.98 M387.51 1079.67 L392.287 1079.67 L392.287 1097.97 L396.293 1097.97 L396.293 1101.13 L392.287 1101.13 L392.287 1107.75 L388.506 1107.75 L388.506 1101.13 L375.83 1101.13 L375.83 1097.46 L387.51 1079.67 Z\" fill=\"#000000\" fill-rule=\"nonzero\" fill-opacity=\"1\" /><path clip-path=\"url(#clip570)\" d=\"M114.26 944.956 L143.936 944.956 L143.936 948.891 L114.26 948.891 L114.26 944.956 Z\" fill=\"#000000\" fill-rule=\"nonzero\" fill-opacity=\"1\" /><path clip-path=\"url(#clip570)\" d=\"M154.839 957.85 L162.477 957.85 L162.477 931.484 L154.167 933.151 L154.167 928.892 L162.431 927.225 L167.107 927.225 L167.107 957.85 L174.746 957.85 L174.746 961.785 L154.839 961.785 L154.839 957.85 Z\" fill=\"#000000\" fill-rule=\"nonzero\" fill-opacity=\"1\" /><path clip-path=\"url(#clip570)\" d=\"M184.19 955.905 L189.075 955.905 L189.075 961.785 L184.19 961.785 L184.19 955.905 Z\" fill=\"#000000\" fill-rule=\"nonzero\" fill-opacity=\"1\" /><path clip-path=\"url(#clip570)\" d=\"M209.26 930.304 Q205.649 930.304 203.82 933.868 Q202.014 937.41 202.014 944.54 Q202.014 951.646 203.82 955.211 Q205.649 958.752 209.26 958.752 Q212.894 958.752 214.699 955.211 Q216.528 951.646 216.528 944.54 Q216.528 937.41 214.699 933.868 Q212.894 930.304 209.26 930.304 M209.26 926.6 Q215.07 926.6 218.125 931.206 Q221.204 935.79 221.204 944.54 Q221.204 953.266 218.125 957.873 Q215.07 962.456 209.26 962.456 Q203.449 962.456 200.371 957.873 Q197.315 953.266 197.315 944.54 Q197.315 935.79 200.371 931.206 Q203.449 926.6 209.26 926.6 Z\" fill=\"#000000\" fill-rule=\"nonzero\" fill-opacity=\"1\" /><path clip-path=\"url(#clip570)\" d=\"M257.593 936.322 L247.014 946.947 L257.593 957.526 L254.838 960.327 L244.213 949.702 L233.588 960.327 L230.857 957.526 L241.412 946.947 L230.857 936.322 L233.588 933.521 L244.213 944.146 L254.838 933.521 L257.593 936.322 Z\" fill=\"#000000\" fill-rule=\"nonzero\" fill-opacity=\"1\" /><path clip-path=\"url(#clip570)\" d=\"M269.954 957.85 L277.593 957.85 L277.593 931.484 L269.282 933.151 L269.282 928.892 L277.546 927.225 L282.222 927.225 L282.222 957.85 L289.861 957.85 L289.861 961.785 L269.954 961.785 L269.954 957.85 Z\" fill=\"#000000\" fill-rule=\"nonzero\" fill-opacity=\"1\" /><path clip-path=\"url(#clip570)\" d=\"M309.305 930.304 Q305.694 930.304 303.866 933.868 Q302.06 937.41 302.06 944.54 Q302.06 951.646 303.866 955.211 Q305.694 958.752 309.305 958.752 Q312.94 958.752 314.745 955.211 Q316.574 951.646 316.574 944.54 Q316.574 937.41 314.745 933.868 Q312.94 930.304 309.305 930.304 M309.305 926.6 Q315.116 926.6 318.171 931.206 Q321.25 935.79 321.25 944.54 Q321.25 953.266 318.171 957.873 Q315.116 962.456 309.305 962.456 Q303.495 962.456 300.417 957.873 Q297.361 953.266 297.361 944.54 Q297.361 935.79 300.417 931.206 Q303.495 926.6 309.305 926.6 Z\" fill=\"#000000\" fill-rule=\"nonzero\" fill-opacity=\"1\" /><path clip-path=\"url(#clip570)\" d=\"M321.25 920.701 L345.361 920.701 L345.361 923.899 L321.25 923.899 L321.25 920.701 Z\" fill=\"#000000\" fill-rule=\"nonzero\" fill-opacity=\"1\" /><path clip-path=\"url(#clip570)\" d=\"M354.22 931.177 L360.426 931.177 L360.426 909.755 L353.674 911.109 L353.674 907.649 L360.389 906.294 L364.188 906.294 L364.188 931.177 L370.394 931.177 L370.394 934.374 L354.22 934.374 L354.22 931.177 Z\" fill=\"#000000\" fill-rule=\"nonzero\" fill-opacity=\"1\" /><path clip-path=\"url(#clip570)\" d=\"M388.506 909.605 L378.914 924.594 L388.506 924.594 L388.506 909.605 M387.51 906.294 L392.287 906.294 L392.287 924.594 L396.293 924.594 L396.293 927.754 L392.287 927.754 L392.287 934.374 L388.506 934.374 L388.506 927.754 L375.83 927.754 L375.83 924.087 L387.51 906.294 Z\" fill=\"#000000\" fill-rule=\"nonzero\" fill-opacity=\"1\" /><path clip-path=\"url(#clip570)\" d=\"M384.348 750.485 Q380.737 750.485 378.909 754.049 Q377.103 757.591 377.103 764.721 Q377.103 771.827 378.909 775.392 Q380.737 778.934 384.348 778.934 Q387.983 778.934 389.788 775.392 Q391.617 771.827 391.617 764.721 Q391.617 757.591 389.788 754.049 Q387.983 750.485 384.348 750.485 M384.348 746.781 Q390.159 746.781 393.214 751.387 Q396.293 755.971 396.293 764.721 Q396.293 773.448 393.214 778.054 Q390.159 782.637 384.348 782.637 Q378.538 782.637 375.46 778.054 Q372.404 773.448 372.404 764.721 Q372.404 755.971 375.46 751.387 Q378.538 746.781 384.348 746.781 Z\" fill=\"#000000\" fill-rule=\"nonzero\" fill-opacity=\"1\" /><path clip-path=\"url(#clip570)\" d=\"M154.839 611.107 L162.477 611.107 L162.477 584.742 L154.167 586.408 L154.167 582.149 L162.431 580.482 L167.107 580.482 L167.107 611.107 L174.746 611.107 L174.746 615.042 L154.839 615.042 L154.839 611.107 Z\" fill=\"#000000\" fill-rule=\"nonzero\" fill-opacity=\"1\" /><path clip-path=\"url(#clip570)\" d=\"M184.19 609.163 L189.075 609.163 L189.075 615.042 L184.19 615.042 L184.19 609.163 Z\" fill=\"#000000\" fill-rule=\"nonzero\" fill-opacity=\"1\" /><path clip-path=\"url(#clip570)\" d=\"M209.26 583.561 Q205.649 583.561 203.82 587.126 Q202.014 590.667 202.014 597.797 Q202.014 604.903 203.82 608.468 Q205.649 612.01 209.26 612.01 Q212.894 612.01 214.699 608.468 Q216.528 604.903 216.528 597.797 Q216.528 590.667 214.699 587.126 Q212.894 583.561 209.26 583.561 M209.26 579.857 Q215.07 579.857 218.125 584.464 Q221.204 589.047 221.204 597.797 Q221.204 606.524 218.125 611.13 Q215.07 615.714 209.26 615.714 Q203.449 615.714 200.371 611.13 Q197.315 606.524 197.315 597.797 Q197.315 589.047 200.371 584.464 Q203.449 579.857 209.26 579.857 Z\" fill=\"#000000\" fill-rule=\"nonzero\" fill-opacity=\"1\" /><path clip-path=\"url(#clip570)\" d=\"M257.593 589.579 L247.014 600.204 L257.593 610.783 L254.838 613.584 L244.213 602.959 L233.588 613.584 L230.857 610.783 L241.412 600.204 L230.857 589.579 L233.588 586.779 L244.213 597.404 L254.838 586.779 L257.593 589.579 Z\" fill=\"#000000\" fill-rule=\"nonzero\" fill-opacity=\"1\" /><path clip-path=\"url(#clip570)\" d=\"M269.954 611.107 L277.593 611.107 L277.593 584.742 L269.282 586.408 L269.282 582.149 L277.546 580.482 L282.222 580.482 L282.222 611.107 L289.861 611.107 L289.861 615.042 L269.954 615.042 L269.954 611.107 Z\" fill=\"#000000\" fill-rule=\"nonzero\" fill-opacity=\"1\" /><path clip-path=\"url(#clip570)\" d=\"M309.305 583.561 Q305.694 583.561 303.866 587.126 Q302.06 590.667 302.06 597.797 Q302.06 604.903 303.866 608.468 Q305.694 612.01 309.305 612.01 Q312.94 612.01 314.745 608.468 Q316.574 604.903 316.574 597.797 Q316.574 590.667 314.745 587.126 Q312.94 583.561 309.305 583.561 M309.305 579.857 Q315.116 579.857 318.171 584.464 Q321.25 589.047 321.25 597.797 Q321.25 606.524 318.171 611.13 Q315.116 615.714 309.305 615.714 Q303.495 615.714 300.417 611.13 Q297.361 606.524 297.361 597.797 Q297.361 589.047 300.417 584.464 Q303.495 579.857 309.305 579.857 Z\" fill=\"#000000\" fill-rule=\"nonzero\" fill-opacity=\"1\" /><path clip-path=\"url(#clip570)\" d=\"M321.25 573.959 L345.361 573.959 L345.361 577.156 L321.25 577.156 L321.25 573.959 Z\" fill=\"#000000\" fill-rule=\"nonzero\" fill-opacity=\"1\" /><path clip-path=\"url(#clip570)\" d=\"M354.22 584.435 L360.426 584.435 L360.426 563.013 L353.674 564.367 L353.674 560.906 L360.389 559.552 L364.188 559.552 L364.188 584.435 L370.394 584.435 L370.394 587.632 L354.22 587.632 L354.22 584.435 Z\" fill=\"#000000\" fill-rule=\"nonzero\" fill-opacity=\"1\" /><path clip-path=\"url(#clip570)\" d=\"M388.506 562.862 L378.914 577.852 L388.506 577.852 L388.506 562.862 M387.51 559.552 L392.287 559.552 L392.287 577.852 L396.293 577.852 L396.293 581.012 L392.287 581.012 L392.287 587.632 L388.506 587.632 L388.506 581.012 L375.83 581.012 L375.83 577.344 L387.51 559.552 Z\" fill=\"#000000\" fill-rule=\"nonzero\" fill-opacity=\"1\" /><path clip-path=\"url(#clip570)\" d=\"M158.056 437.736 L174.376 437.736 L174.376 441.671 L152.431 441.671 L152.431 437.736 Q155.093 434.981 159.677 430.352 Q164.283 425.699 165.464 424.356 Q167.709 421.833 168.589 420.097 Q169.491 418.338 169.491 416.648 Q169.491 413.893 167.547 412.157 Q165.626 410.421 162.524 410.421 Q160.325 410.421 157.871 411.185 Q155.44 411.949 152.663 413.5 L152.663 408.778 Q155.487 407.643 157.94 407.065 Q160.394 406.486 162.431 406.486 Q167.802 406.486 170.996 409.171 Q174.19 411.856 174.19 416.347 Q174.19 418.477 173.38 420.398 Q172.593 422.296 170.487 424.889 Q169.908 425.56 166.806 428.778 Q163.704 431.972 158.056 437.736 Z\" fill=\"#000000\" fill-rule=\"nonzero\" fill-opacity=\"1\" /><path clip-path=\"url(#clip570)\" d=\"M184.19 435.791 L189.075 435.791 L189.075 441.671 L184.19 441.671 L184.19 435.791 Z\" fill=\"#000000\" fill-rule=\"nonzero\" fill-opacity=\"1\" /><path clip-path=\"url(#clip570)\" d=\"M209.26 410.19 Q205.649 410.19 203.82 413.755 Q202.014 417.296 202.014 424.426 Q202.014 431.532 203.82 435.097 Q205.649 438.639 209.26 438.639 Q212.894 438.639 214.699 435.097 Q216.528 431.532 216.528 424.426 Q216.528 417.296 214.699 413.755 Q212.894 410.19 209.26 410.19 M209.26 406.486 Q215.07 406.486 218.125 411.092 Q221.204 415.676 221.204 424.426 Q221.204 433.153 218.125 437.759 Q215.07 442.342 209.26 442.342 Q203.449 442.342 200.371 437.759 Q197.315 433.153 197.315 424.426 Q197.315 415.676 200.371 411.092 Q203.449 406.486 209.26 406.486 Z\" fill=\"#000000\" fill-rule=\"nonzero\" fill-opacity=\"1\" /><path clip-path=\"url(#clip570)\" d=\"M257.593 416.208 L247.014 426.833 L257.593 437.412 L254.838 440.213 L244.213 429.588 L233.588 440.213 L230.857 437.412 L241.412 426.833 L230.857 416.208 L233.588 413.407 L244.213 424.032 L254.838 413.407 L257.593 416.208 Z\" fill=\"#000000\" fill-rule=\"nonzero\" fill-opacity=\"1\" /><path clip-path=\"url(#clip570)\" d=\"M269.954 437.736 L277.593 437.736 L277.593 411.37 L269.282 413.037 L269.282 408.778 L277.546 407.111 L282.222 407.111 L282.222 437.736 L289.861 437.736 L289.861 441.671 L269.954 441.671 L269.954 437.736 Z\" fill=\"#000000\" fill-rule=\"nonzero\" fill-opacity=\"1\" /><path clip-path=\"url(#clip570)\" d=\"M309.305 410.19 Q305.694 410.19 303.866 413.755 Q302.06 417.296 302.06 424.426 Q302.06 431.532 303.866 435.097 Q305.694 438.639 309.305 438.639 Q312.94 438.639 314.745 435.097 Q316.574 431.532 316.574 424.426 Q316.574 417.296 314.745 413.755 Q312.94 410.19 309.305 410.19 M309.305 406.486 Q315.116 406.486 318.171 411.092 Q321.25 415.676 321.25 424.426 Q321.25 433.153 318.171 437.759 Q315.116 442.342 309.305 442.342 Q303.495 442.342 300.417 437.759 Q297.361 433.153 297.361 424.426 Q297.361 415.676 300.417 411.092 Q303.495 406.486 309.305 406.486 Z\" fill=\"#000000\" fill-rule=\"nonzero\" fill-opacity=\"1\" /><path clip-path=\"url(#clip570)\" d=\"M321.25 400.587 L345.361 400.587 L345.361 403.785 L321.25 403.785 L321.25 400.587 Z\" fill=\"#000000\" fill-rule=\"nonzero\" fill-opacity=\"1\" /><path clip-path=\"url(#clip570)\" d=\"M354.22 411.063 L360.426 411.063 L360.426 389.641 L353.674 390.995 L353.674 387.535 L360.389 386.181 L364.188 386.181 L364.188 411.063 L370.394 411.063 L370.394 414.261 L354.22 414.261 L354.22 411.063 Z\" fill=\"#000000\" fill-rule=\"nonzero\" fill-opacity=\"1\" /><path clip-path=\"url(#clip570)\" d=\"M388.506 389.491 L378.914 404.481 L388.506 404.481 L388.506 389.491 M387.51 386.181 L392.287 386.181 L392.287 404.481 L396.293 404.481 L396.293 407.64 L392.287 407.64 L392.287 414.261 L388.506 414.261 L388.506 407.64 L375.83 407.64 L375.83 403.973 L387.51 386.181 Z\" fill=\"#000000\" fill-rule=\"nonzero\" fill-opacity=\"1\" /><path clip-path=\"url(#clip570)\" d=\"M168.195 249.666 Q171.552 250.383 173.427 252.652 Q175.325 254.92 175.325 258.254 Q175.325 263.369 171.806 266.17 Q168.288 268.971 161.806 268.971 Q159.63 268.971 157.315 268.531 Q155.024 268.115 152.57 267.258 L152.57 262.744 Q154.515 263.878 156.829 264.457 Q159.144 265.036 161.667 265.036 Q166.065 265.036 168.357 263.3 Q170.672 261.564 170.672 258.254 Q170.672 255.198 168.519 253.485 Q166.39 251.749 162.57 251.749 L158.542 251.749 L158.542 247.906 L162.755 247.906 Q166.204 247.906 168.033 246.541 Q169.862 245.152 169.862 242.559 Q169.862 239.897 167.964 238.485 Q166.089 237.05 162.57 237.05 Q160.649 237.05 158.45 237.467 Q156.251 237.883 153.612 238.763 L153.612 234.596 Q156.274 233.856 158.589 233.485 Q160.927 233.115 162.987 233.115 Q168.311 233.115 171.413 235.545 Q174.514 237.953 174.514 242.073 Q174.514 244.943 172.871 246.934 Q171.227 248.902 168.195 249.666 Z\" fill=\"#000000\" fill-rule=\"nonzero\" fill-opacity=\"1\" /><path clip-path=\"url(#clip570)\" d=\"M184.19 262.42 L189.075 262.42 L189.075 268.3 L184.19 268.3 L184.19 262.42 Z\" fill=\"#000000\" fill-rule=\"nonzero\" fill-opacity=\"1\" /><path clip-path=\"url(#clip570)\" d=\"M209.26 236.818 Q205.649 236.818 203.82 240.383 Q202.014 243.925 202.014 251.054 Q202.014 258.161 203.82 261.726 Q205.649 265.267 209.26 265.267 Q212.894 265.267 214.699 261.726 Q216.528 258.161 216.528 251.054 Q216.528 243.925 214.699 240.383 Q212.894 236.818 209.26 236.818 M209.26 233.115 Q215.07 233.115 218.125 237.721 Q221.204 242.305 221.204 251.054 Q221.204 259.781 218.125 264.388 Q215.07 268.971 209.26 268.971 Q203.449 268.971 200.371 264.388 Q197.315 259.781 197.315 251.054 Q197.315 242.305 200.371 237.721 Q203.449 233.115 209.26 233.115 Z\" fill=\"#000000\" fill-rule=\"nonzero\" fill-opacity=\"1\" /><path clip-path=\"url(#clip570)\" d=\"M257.593 242.837 L247.014 253.462 L257.593 264.041 L254.838 266.841 L244.213 256.216 L233.588 266.841 L230.857 264.041 L241.412 253.462 L230.857 242.837 L233.588 240.036 L244.213 250.661 L254.838 240.036 L257.593 242.837 Z\" fill=\"#000000\" fill-rule=\"nonzero\" fill-opacity=\"1\" /><path clip-path=\"url(#clip570)\" d=\"M269.954 264.365 L277.593 264.365 L277.593 237.999 L269.282 239.666 L269.282 235.406 L277.546 233.74 L282.222 233.74 L282.222 264.365 L289.861 264.365 L289.861 268.3 L269.954 268.3 L269.954 264.365 Z\" fill=\"#000000\" fill-rule=\"nonzero\" fill-opacity=\"1\" /><path clip-path=\"url(#clip570)\" d=\"M309.305 236.818 Q305.694 236.818 303.866 240.383 Q302.06 243.925 302.06 251.054 Q302.06 258.161 303.866 261.726 Q305.694 265.267 309.305 265.267 Q312.94 265.267 314.745 261.726 Q316.574 258.161 316.574 251.054 Q316.574 243.925 314.745 240.383 Q312.94 236.818 309.305 236.818 M309.305 233.115 Q315.116 233.115 318.171 237.721 Q321.25 242.305 321.25 251.054 Q321.25 259.781 318.171 264.388 Q315.116 268.971 309.305 268.971 Q303.495 268.971 300.417 264.388 Q297.361 259.781 297.361 251.054 Q297.361 242.305 300.417 237.721 Q303.495 233.115 309.305 233.115 Z\" fill=\"#000000\" fill-rule=\"nonzero\" fill-opacity=\"1\" /><path clip-path=\"url(#clip570)\" d=\"M321.25 227.216 L345.361 227.216 L345.361 230.413 L321.25 230.413 L321.25 227.216 Z\" fill=\"#000000\" fill-rule=\"nonzero\" fill-opacity=\"1\" /><path clip-path=\"url(#clip570)\" d=\"M354.22 237.692 L360.426 237.692 L360.426 216.27 L353.674 217.624 L353.674 214.164 L360.389 212.809 L364.188 212.809 L364.188 237.692 L370.394 237.692 L370.394 240.889 L354.22 240.889 L354.22 237.692 Z\" fill=\"#000000\" fill-rule=\"nonzero\" fill-opacity=\"1\" /><path clip-path=\"url(#clip570)\" d=\"M388.506 216.12 L378.914 231.109 L388.506 231.109 L388.506 216.12 M387.51 212.809 L392.287 212.809 L392.287 231.109 L396.293 231.109 L396.293 234.269 L392.287 234.269 L392.287 240.889 L388.506 240.889 L388.506 234.269 L375.83 234.269 L375.83 230.602 L387.51 212.809 Z\" fill=\"#000000\" fill-rule=\"nonzero\" fill-opacity=\"1\" /><path clip-path=\"url(#clip570)\" d=\"M67.3143 762.999 Q73.68 765.482 75.6216 767.837 Q77.5631 770.192 77.5631 774.139 L77.5631 778.818 L72.6615 778.818 L72.6615 775.38 Q72.6615 772.961 71.5157 771.625 Q70.3699 770.288 66.1048 768.665 L63.4312 767.614 L28.3562 782.033 L28.3562 775.826 L56.238 764.686 L28.3562 753.546 L28.3562 747.339 L67.3143 762.999 Z\" fill=\"#000000\" fill-rule=\"nonzero\" fill-opacity=\"1\" /><path clip-path=\"url(#clip570)\" d=\"M1219.33 54.8492 Q1217.08 60.6362 1214.94 62.4013 Q1212.79 64.1663 1209.21 64.1663 L1204.95 64.1663 L1204.95 59.7103 L1208.08 59.7103 Q1210.28 59.7103 1211.49 58.6687 Q1212.71 57.627 1214.18 53.7497 L1215.14 51.3192 L1202.03 19.4328 L1207.67 19.4328 L1217.8 44.7799 L1227.93 19.4328 L1233.57 19.4328 L1219.33 54.8492 Z\" fill=\"#000000\" fill-rule=\"nonzero\" fill-opacity=\"1\" /><path clip-path=\"url(#clip570)\" d=\"M1260.45 24.9304 L1297.55 24.9304 L1297.55 29.7915 L1260.45 29.7915 L1260.45 24.9304 M1260.45 36.7359 L1297.55 36.7359 L1297.55 41.6549 L1260.45 41.6549 L1260.45 36.7359 Z\" fill=\"#000000\" fill-rule=\"nonzero\" fill-opacity=\"1\" /><path clip-path=\"url(#clip570)\" d=\"M1341.03 6.87496 Q1337.16 13.53 1335.28 20.0404 Q1333.4 26.5508 1333.4 33.2348 Q1333.4 39.9188 1335.28 46.487 Q1337.19 53.0263 1341.03 59.6525 L1336.4 59.6525 Q1332.06 52.8527 1329.89 46.2845 Q1327.75 39.7162 1327.75 33.2348 Q1327.75 26.7823 1329.89 20.2429 Q1332.04 13.7036 1336.4 6.87496 L1341.03 6.87496 Z\" fill=\"#000000\" fill-rule=\"nonzero\" fill-opacity=\"1\" /><path clip-path=\"url(#clip570)\" d=\"M1378.3 19.4328 L1366.58 35.2024 L1378.91 51.84 L1372.63 51.84 L1363.2 39.1086 L1353.77 51.84 L1347.49 51.84 L1360.07 34.8841 L1348.56 19.4328 L1354.84 19.4328 L1363.43 30.9778 L1372.02 19.4328 L1378.3 19.4328 Z\" fill=\"#000000\" fill-rule=\"nonzero\" fill-opacity=\"1\" /><path clip-path=\"url(#clip570)\" d=\"M1402.58 33.2348 L1418.18 33.2348 L1418.18 37.9801 L1402.58 37.9801 L1402.58 33.2348 Z\" fill=\"#000000\" fill-rule=\"nonzero\" fill-opacity=\"1\" /><path clip-path=\"url(#clip570)\" d=\"M1447.25 46.921 L1456.8 46.921 L1456.8 13.964 L1446.42 16.0474 L1446.42 10.7233 L1456.75 8.64 L1462.59 8.64 L1462.59 46.921 L1472.14 46.921 L1472.14 51.84 L1447.25 51.84 L1447.25 46.921 Z\" fill=\"#000000\" fill-rule=\"nonzero\" fill-opacity=\"1\" /><path clip-path=\"url(#clip570)\" d=\"M1482.35 6.87496 L1486.98 6.87496 Q1491.32 13.7036 1493.46 20.2429 Q1495.63 26.7823 1495.63 33.2348 Q1495.63 39.7162 1493.46 46.2845 Q1491.32 52.8527 1486.98 59.6525 L1482.35 59.6525 Q1486.2 53.0263 1488.08 46.487 Q1489.99 39.9188 1489.99 33.2348 Q1489.99 26.5508 1488.08 20.0404 Q1486.2 13.53 1482.35 6.87496 Z\" fill=\"#000000\" fill-rule=\"nonzero\" fill-opacity=\"1\" /><path clip-path=\"url(#clip570)\" d=\"M1528.39 8.64 L1544.1 24.7568 L1538.28 24.7568 L1525.55 13.3275 L1512.82 24.7568 L1507.01 24.7568 L1522.72 8.64 L1528.39 8.64 Z\" fill=\"#000000\" fill-rule=\"nonzero\" fill-opacity=\"1\" /><path clip-path=\"url(#clip570)\" d=\"M1555.24 8.64 L1583.02 8.64 L1583.02 11.1284 L1567.34 51.84 L1561.23 51.84 L1575.99 13.559 L1555.24 13.559 L1555.24 8.64 Z\" fill=\"#000000\" fill-rule=\"nonzero\" fill-opacity=\"1\" /><polyline clip-path=\"url(#clip572)\" style=\"stroke:#009af9; stroke-linecap:round; stroke-linejoin:round; stroke-width:4; stroke-opacity:1; fill:none\" points=\"486.646,1385.91 562.135,1102.54 637.625,938.057 713.115,847.609 788.605,801.045 864.095,778.964 939.585,769.539 1015.07,766.04 1090.56,764.97 1166.05,764.724 1241.54,764.688 1317.03,764.686 1392.52,764.686 1468.01,764.686 1543.5,764.684 1618.99,764.648 1694.48,764.402 1769.97,763.332 1845.46,759.833 1920.95,750.408 1996.44,728.327 2071.93,681.763 2147.42,591.315 2222.91,426.834 2298.4,143.465 \"/>\n",
       "<path clip-path=\"url(#clip570)\" d=\"M496.308 253.772 L740.785 253.772 L740.785 150.092 L496.308 150.092  Z\" fill=\"#ffffff\" fill-rule=\"evenodd\" fill-opacity=\"1\"/>\n",
       "<polyline clip-path=\"url(#clip570)\" style=\"stroke:#000000; stroke-linecap:round; stroke-linejoin:round; stroke-width:4; stroke-opacity:1; fill:none\" points=\"496.308,253.772 740.785,253.772 740.785,150.092 496.308,150.092 496.308,253.772 \"/>\n",
       "<polyline clip-path=\"url(#clip570)\" style=\"stroke:#009af9; stroke-linecap:round; stroke-linejoin:round; stroke-width:4; stroke-opacity:1; fill:none\" points=\"517.647,201.932 645.678,201.932 \"/>\n",
       "<path clip-path=\"url(#clip570)\" d=\"M680.859 221.619 Q679.053 226.249 677.34 227.661 Q675.627 229.073 672.757 229.073 L669.354 229.073 L669.354 225.508 L671.854 225.508 Q673.613 225.508 674.585 224.675 Q675.558 223.841 676.738 220.739 L677.502 218.795 L667.016 193.286 L671.53 193.286 L679.632 213.564 L687.734 193.286 L692.247 193.286 L680.859 221.619 Z\" fill=\"#000000\" fill-rule=\"nonzero\" fill-opacity=\"1\" /><path clip-path=\"url(#clip570)\" d=\"M699.539 215.277 L707.178 215.277 L707.178 188.911 L698.868 190.578 L698.868 186.318 L707.132 184.652 L711.807 184.652 L711.807 215.277 L719.446 215.277 L719.446 219.212 L699.539 219.212 L699.539 215.277 Z\" fill=\"#000000\" fill-rule=\"nonzero\" fill-opacity=\"1\" /></svg>\n"
      ],
      "text/html": [
       "<?xml version=\"1.0\" encoding=\"utf-8\"?>\n",
       "<svg xmlns=\"http://www.w3.org/2000/svg\" xmlns:xlink=\"http://www.w3.org/1999/xlink\" width=\"600\" height=\"400\" viewBox=\"0 0 2400 1600\">\n",
       "<defs>\n",
       "  <clipPath id=\"clip620\">\n",
       "    <rect x=\"0\" y=\"0\" width=\"2400\" height=\"1600\"/>\n",
       "  </clipPath>\n",
       "</defs>\n",
       "<path clip-path=\"url(#clip620)\" d=\"M0 1600 L2400 1600 L2400 8.88178e-14 L0 8.88178e-14  Z\" fill=\"#ffffff\" fill-rule=\"evenodd\" fill-opacity=\"1\"/>\n",
       "<defs>\n",
       "  <clipPath id=\"clip621\">\n",
       "    <rect x=\"480\" y=\"0\" width=\"1681\" height=\"1600\"/>\n",
       "  </clipPath>\n",
       "</defs>\n",
       "<path clip-path=\"url(#clip620)\" d=\"M432.293 1423.18 L2352.76 1423.18 L2352.76 106.192 L432.293 106.192  Z\" fill=\"#ffffff\" fill-rule=\"evenodd\" fill-opacity=\"1\"/>\n",
       "<defs>\n",
       "  <clipPath id=\"clip622\">\n",
       "    <rect x=\"432\" y=\"106\" width=\"1921\" height=\"1318\"/>\n",
       "  </clipPath>\n",
       "</defs>\n",
       "<polyline clip-path=\"url(#clip622)\" style=\"stroke:#000000; stroke-linecap:round; stroke-linejoin:round; stroke-width:2; stroke-opacity:0.1; fill:none\" points=\"637.625,1423.18 637.625,106.192 \"/>\n",
       "<polyline clip-path=\"url(#clip622)\" style=\"stroke:#000000; stroke-linecap:round; stroke-linejoin:round; stroke-width:2; stroke-opacity:0.1; fill:none\" points=\"1015.07,1423.18 1015.07,106.192 \"/>\n",
       "<polyline clip-path=\"url(#clip622)\" style=\"stroke:#000000; stroke-linecap:round; stroke-linejoin:round; stroke-width:2; stroke-opacity:0.1; fill:none\" points=\"1392.52,1423.18 1392.52,106.192 \"/>\n",
       "<polyline clip-path=\"url(#clip622)\" style=\"stroke:#000000; stroke-linecap:round; stroke-linejoin:round; stroke-width:2; stroke-opacity:0.1; fill:none\" points=\"1769.97,1423.18 1769.97,106.192 \"/>\n",
       "<polyline clip-path=\"url(#clip622)\" style=\"stroke:#000000; stroke-linecap:round; stroke-linejoin:round; stroke-width:2; stroke-opacity:0.1; fill:none\" points=\"2147.42,1423.18 2147.42,106.192 \"/>\n",
       "<polyline clip-path=\"url(#clip620)\" style=\"stroke:#000000; stroke-linecap:round; stroke-linejoin:round; stroke-width:4; stroke-opacity:1; fill:none\" points=\"432.293,1423.18 2352.76,1423.18 \"/>\n",
       "<polyline clip-path=\"url(#clip620)\" style=\"stroke:#000000; stroke-linecap:round; stroke-linejoin:round; stroke-width:4; stroke-opacity:1; fill:none\" points=\"637.625,1423.18 637.625,1404.28 \"/>\n",
       "<polyline clip-path=\"url(#clip620)\" style=\"stroke:#000000; stroke-linecap:round; stroke-linejoin:round; stroke-width:4; stroke-opacity:1; fill:none\" points=\"1015.07,1423.18 1015.07,1404.28 \"/>\n",
       "<polyline clip-path=\"url(#clip620)\" style=\"stroke:#000000; stroke-linecap:round; stroke-linejoin:round; stroke-width:4; stroke-opacity:1; fill:none\" points=\"1392.52,1423.18 1392.52,1404.28 \"/>\n",
       "<polyline clip-path=\"url(#clip620)\" style=\"stroke:#000000; stroke-linecap:round; stroke-linejoin:round; stroke-width:4; stroke-opacity:1; fill:none\" points=\"1769.97,1423.18 1769.97,1404.28 \"/>\n",
       "<polyline clip-path=\"url(#clip620)\" style=\"stroke:#000000; stroke-linecap:round; stroke-linejoin:round; stroke-width:4; stroke-opacity:1; fill:none\" points=\"2147.42,1423.18 2147.42,1404.28 \"/>\n",
       "<path clip-path=\"url(#clip620)\" d=\"M584.848 1454.1 Q581.237 1454.1 579.408 1457.66 Q577.602 1461.2 577.602 1468.33 Q577.602 1475.44 579.408 1479.01 Q581.237 1482.55 584.848 1482.55 Q588.482 1482.55 590.288 1479.01 Q592.116 1475.44 592.116 1468.33 Q592.116 1461.2 590.288 1457.66 Q588.482 1454.1 584.848 1454.1 M584.848 1450.39 Q590.658 1450.39 593.714 1455 Q596.792 1459.58 596.792 1468.33 Q596.792 1477.06 593.714 1481.67 Q590.658 1486.25 584.848 1486.25 Q579.038 1486.25 575.959 1481.67 Q572.903 1477.06 572.903 1468.33 Q572.903 1459.58 575.959 1455 Q579.038 1450.39 584.848 1450.39 Z\" fill=\"#000000\" fill-rule=\"nonzero\" fill-opacity=\"1\" /><path clip-path=\"url(#clip620)\" d=\"M605.01 1479.7 L609.894 1479.7 L609.894 1485.58 L605.01 1485.58 L605.01 1479.7 Z\" fill=\"#000000\" fill-rule=\"nonzero\" fill-opacity=\"1\" /><path clip-path=\"url(#clip620)\" d=\"M620.218 1484.86 L620.218 1480.6 Q621.977 1481.44 623.783 1481.88 Q625.588 1482.32 627.324 1482.32 Q631.954 1482.32 634.385 1479.21 Q636.838 1476.09 637.186 1469.75 Q635.843 1471.74 633.783 1472.8 Q631.723 1473.87 629.223 1473.87 Q624.037 1473.87 621.005 1470.74 Q617.996 1467.59 617.996 1462.15 Q617.996 1456.83 621.144 1453.61 Q624.292 1450.39 629.524 1450.39 Q635.519 1450.39 638.667 1455 Q641.838 1459.58 641.838 1468.33 Q641.838 1476.51 637.949 1481.39 Q634.084 1486.25 627.533 1486.25 Q625.774 1486.25 623.968 1485.9 Q622.162 1485.56 620.218 1484.86 M629.524 1470.21 Q632.672 1470.21 634.5 1468.06 Q636.352 1465.9 636.352 1462.15 Q636.352 1458.43 634.5 1456.27 Q632.672 1454.1 629.524 1454.1 Q626.375 1454.1 624.524 1456.27 Q622.695 1458.43 622.695 1462.15 Q622.695 1465.9 624.524 1468.06 Q626.375 1470.21 629.524 1470.21 Z\" fill=\"#000000\" fill-rule=\"nonzero\" fill-opacity=\"1\" /><path clip-path=\"url(#clip620)\" d=\"M650.38 1484.86 L650.38 1480.6 Q652.139 1481.44 653.945 1481.88 Q655.75 1482.32 657.486 1482.32 Q662.116 1482.32 664.546 1479.21 Q667 1476.09 667.347 1469.75 Q666.005 1471.74 663.945 1472.8 Q661.884 1473.87 659.384 1473.87 Q654.199 1473.87 651.167 1470.74 Q648.158 1467.59 648.158 1462.15 Q648.158 1456.83 651.306 1453.61 Q654.454 1450.39 659.685 1450.39 Q665.681 1450.39 668.829 1455 Q672 1459.58 672 1468.33 Q672 1476.51 668.111 1481.39 Q664.246 1486.25 657.695 1486.25 Q655.935 1486.25 654.13 1485.9 Q652.324 1485.56 650.38 1484.86 M659.685 1470.21 Q662.834 1470.21 664.662 1468.06 Q666.514 1465.9 666.514 1462.15 Q666.514 1458.43 664.662 1456.27 Q662.834 1454.1 659.685 1454.1 Q656.537 1454.1 654.685 1456.27 Q652.857 1458.43 652.857 1462.15 Q652.857 1465.9 654.685 1468.06 Q656.537 1470.21 659.685 1470.21 Z\" fill=\"#000000\" fill-rule=\"nonzero\" fill-opacity=\"1\" /><path clip-path=\"url(#clip620)\" d=\"M690.403 1454.1 Q686.792 1454.1 684.963 1457.66 Q683.157 1461.2 683.157 1468.33 Q683.157 1475.44 684.963 1479.01 Q686.792 1482.55 690.403 1482.55 Q694.037 1482.55 695.843 1479.01 Q697.671 1475.44 697.671 1468.33 Q697.671 1461.2 695.843 1457.66 Q694.037 1454.1 690.403 1454.1 M690.403 1450.39 Q696.213 1450.39 699.269 1455 Q702.347 1459.58 702.347 1468.33 Q702.347 1477.06 699.269 1481.67 Q696.213 1486.25 690.403 1486.25 Q684.593 1486.25 681.514 1481.67 Q678.458 1477.06 678.458 1468.33 Q678.458 1459.58 681.514 1455 Q684.593 1450.39 690.403 1450.39 Z\" fill=\"#000000\" fill-rule=\"nonzero\" fill-opacity=\"1\" /><path clip-path=\"url(#clip620)\" d=\"M962.795 1454.1 Q959.184 1454.1 957.355 1457.66 Q955.55 1461.2 955.55 1468.33 Q955.55 1475.44 957.355 1479.01 Q959.184 1482.55 962.795 1482.55 Q966.429 1482.55 968.235 1479.01 Q970.064 1475.44 970.064 1468.33 Q970.064 1461.2 968.235 1457.66 Q966.429 1454.1 962.795 1454.1 M962.795 1450.39 Q968.605 1450.39 971.661 1455 Q974.739 1459.58 974.739 1468.33 Q974.739 1477.06 971.661 1481.67 Q968.605 1486.25 962.795 1486.25 Q956.985 1486.25 953.906 1481.67 Q950.851 1477.06 950.851 1468.33 Q950.851 1459.58 953.906 1455 Q956.985 1450.39 962.795 1450.39 Z\" fill=\"#000000\" fill-rule=\"nonzero\" fill-opacity=\"1\" /><path clip-path=\"url(#clip620)\" d=\"M982.957 1479.7 L987.841 1479.7 L987.841 1485.58 L982.957 1485.58 L982.957 1479.7 Z\" fill=\"#000000\" fill-rule=\"nonzero\" fill-opacity=\"1\" /><path clip-path=\"url(#clip620)\" d=\"M998.165 1484.86 L998.165 1480.6 Q999.924 1481.44 1001.73 1481.88 Q1003.54 1482.32 1005.27 1482.32 Q1009.9 1482.32 1012.33 1479.21 Q1014.79 1476.09 1015.13 1469.75 Q1013.79 1471.74 1011.73 1472.8 Q1009.67 1473.87 1007.17 1473.87 Q1001.98 1473.87 998.952 1470.74 Q995.943 1467.59 995.943 1462.15 Q995.943 1456.83 999.091 1453.61 Q1002.24 1450.39 1007.47 1450.39 Q1013.47 1450.39 1016.61 1455 Q1019.79 1459.58 1019.79 1468.33 Q1019.79 1476.51 1015.9 1481.39 Q1012.03 1486.25 1005.48 1486.25 Q1003.72 1486.25 1001.92 1485.9 Q1000.11 1485.56 998.165 1484.86 M1007.47 1470.21 Q1010.62 1470.21 1012.45 1468.06 Q1014.3 1465.9 1014.3 1462.15 Q1014.3 1458.43 1012.45 1456.27 Q1010.62 1454.1 1007.47 1454.1 Q1004.32 1454.1 1002.47 1456.27 Q1000.64 1458.43 1000.64 1462.15 Q1000.64 1465.9 1002.47 1468.06 Q1004.32 1470.21 1007.47 1470.21 Z\" fill=\"#000000\" fill-rule=\"nonzero\" fill-opacity=\"1\" /><path clip-path=\"url(#clip620)\" d=\"M1028.33 1484.86 L1028.33 1480.6 Q1030.09 1481.44 1031.89 1481.88 Q1033.7 1482.32 1035.43 1482.32 Q1040.06 1482.32 1042.49 1479.21 Q1044.95 1476.09 1045.29 1469.75 Q1043.95 1471.74 1041.89 1472.8 Q1039.83 1473.87 1037.33 1473.87 Q1032.15 1473.87 1029.11 1470.74 Q1026.1 1467.59 1026.1 1462.15 Q1026.1 1456.83 1029.25 1453.61 Q1032.4 1450.39 1037.63 1450.39 Q1043.63 1450.39 1046.78 1455 Q1049.95 1459.58 1049.95 1468.33 Q1049.95 1476.51 1046.06 1481.39 Q1042.19 1486.25 1035.64 1486.25 Q1033.88 1486.25 1032.08 1485.9 Q1030.27 1485.56 1028.33 1484.86 M1037.63 1470.21 Q1040.78 1470.21 1042.61 1468.06 Q1044.46 1465.9 1044.46 1462.15 Q1044.46 1458.43 1042.61 1456.27 Q1040.78 1454.1 1037.63 1454.1 Q1034.48 1454.1 1032.63 1456.27 Q1030.8 1458.43 1030.8 1462.15 Q1030.8 1465.9 1032.63 1468.06 Q1034.48 1470.21 1037.63 1470.21 Z\" fill=\"#000000\" fill-rule=\"nonzero\" fill-opacity=\"1\" /><path clip-path=\"url(#clip620)\" d=\"M1058.4 1451.02 L1076.75 1451.02 L1076.75 1454.96 L1062.68 1454.96 L1062.68 1463.43 Q1063.7 1463.08 1064.72 1462.92 Q1065.73 1462.73 1066.75 1462.73 Q1072.54 1462.73 1075.92 1465.9 Q1079.3 1469.08 1079.3 1474.49 Q1079.3 1480.07 1075.83 1483.17 Q1072.35 1486.25 1066.04 1486.25 Q1063.86 1486.25 1061.59 1485.88 Q1059.35 1485.51 1056.94 1484.77 L1056.94 1480.07 Q1059.02 1481.2 1061.24 1481.76 Q1063.47 1482.32 1065.94 1482.32 Q1069.95 1482.32 1072.29 1480.21 Q1074.62 1478.1 1074.62 1474.49 Q1074.62 1470.88 1072.29 1468.77 Q1069.95 1466.67 1065.94 1466.67 Q1064.07 1466.67 1062.19 1467.08 Q1060.34 1467.5 1058.4 1468.38 L1058.4 1451.02 Z\" fill=\"#000000\" fill-rule=\"nonzero\" fill-opacity=\"1\" /><path clip-path=\"url(#clip620)\" d=\"M1329.52 1481.64 L1337.15 1481.64 L1337.15 1455.28 L1328.84 1456.95 L1328.84 1452.69 L1337.11 1451.02 L1341.78 1451.02 L1341.78 1481.64 L1349.42 1481.64 L1349.42 1485.58 L1329.52 1485.58 L1329.52 1481.64 Z\" fill=\"#000000\" fill-rule=\"nonzero\" fill-opacity=\"1\" /><path clip-path=\"url(#clip620)\" d=\"M1358.87 1479.7 L1363.75 1479.7 L1363.75 1485.58 L1358.87 1485.58 L1358.87 1479.7 Z\" fill=\"#000000\" fill-rule=\"nonzero\" fill-opacity=\"1\" /><path clip-path=\"url(#clip620)\" d=\"M1383.94 1454.1 Q1380.33 1454.1 1378.5 1457.66 Q1376.69 1461.2 1376.69 1468.33 Q1376.69 1475.44 1378.5 1479.01 Q1380.33 1482.55 1383.94 1482.55 Q1387.57 1482.55 1389.38 1479.01 Q1391.2 1475.44 1391.2 1468.33 Q1391.2 1461.2 1389.38 1457.66 Q1387.57 1454.1 1383.94 1454.1 M1383.94 1450.39 Q1389.75 1450.39 1392.8 1455 Q1395.88 1459.58 1395.88 1468.33 Q1395.88 1477.06 1392.8 1481.67 Q1389.75 1486.25 1383.94 1486.25 Q1378.13 1486.25 1375.05 1481.67 Q1371.99 1477.06 1371.99 1468.33 Q1371.99 1459.58 1375.05 1455 Q1378.13 1450.39 1383.94 1450.39 Z\" fill=\"#000000\" fill-rule=\"nonzero\" fill-opacity=\"1\" /><path clip-path=\"url(#clip620)\" d=\"M1414.1 1454.1 Q1410.49 1454.1 1408.66 1457.66 Q1406.85 1461.2 1406.85 1468.33 Q1406.85 1475.44 1408.66 1479.01 Q1410.49 1482.55 1414.1 1482.55 Q1417.73 1482.55 1419.54 1479.01 Q1421.37 1475.44 1421.37 1468.33 Q1421.37 1461.2 1419.54 1457.66 Q1417.73 1454.1 1414.1 1454.1 M1414.1 1450.39 Q1419.91 1450.39 1422.96 1455 Q1426.04 1459.58 1426.04 1468.33 Q1426.04 1477.06 1422.96 1481.67 Q1419.91 1486.25 1414.1 1486.25 Q1408.29 1486.25 1405.21 1481.67 Q1402.15 1477.06 1402.15 1468.33 Q1402.15 1459.58 1405.21 1455 Q1408.29 1450.39 1414.1 1450.39 Z\" fill=\"#000000\" fill-rule=\"nonzero\" fill-opacity=\"1\" /><path clip-path=\"url(#clip620)\" d=\"M1444.26 1454.1 Q1440.65 1454.1 1438.82 1457.66 Q1437.01 1461.2 1437.01 1468.33 Q1437.01 1475.44 1438.82 1479.01 Q1440.65 1482.55 1444.26 1482.55 Q1447.89 1482.55 1449.7 1479.01 Q1451.53 1475.44 1451.53 1468.33 Q1451.53 1461.2 1449.7 1457.66 Q1447.89 1454.1 1444.26 1454.1 M1444.26 1450.39 Q1450.07 1450.39 1453.13 1455 Q1456.2 1459.58 1456.2 1468.33 Q1456.2 1477.06 1453.13 1481.67 Q1450.07 1486.25 1444.26 1486.25 Q1438.45 1486.25 1435.37 1481.67 Q1432.32 1477.06 1432.32 1468.33 Q1432.32 1459.58 1435.37 1455 Q1438.45 1450.39 1444.26 1450.39 Z\" fill=\"#000000\" fill-rule=\"nonzero\" fill-opacity=\"1\" /><path clip-path=\"url(#clip620)\" d=\"M1707.46 1481.64 L1715.1 1481.64 L1715.1 1455.28 L1706.79 1456.95 L1706.79 1452.69 L1715.06 1451.02 L1719.73 1451.02 L1719.73 1481.64 L1727.37 1481.64 L1727.37 1485.58 L1707.46 1485.58 L1707.46 1481.64 Z\" fill=\"#000000\" fill-rule=\"nonzero\" fill-opacity=\"1\" /><path clip-path=\"url(#clip620)\" d=\"M1736.81 1479.7 L1741.7 1479.7 L1741.7 1485.58 L1736.81 1485.58 L1736.81 1479.7 Z\" fill=\"#000000\" fill-rule=\"nonzero\" fill-opacity=\"1\" /><path clip-path=\"url(#clip620)\" d=\"M1761.88 1454.1 Q1758.27 1454.1 1756.44 1457.66 Q1754.64 1461.2 1754.64 1468.33 Q1754.64 1475.44 1756.44 1479.01 Q1758.27 1482.55 1761.88 1482.55 Q1765.52 1482.55 1767.32 1479.01 Q1769.15 1475.44 1769.15 1468.33 Q1769.15 1461.2 1767.32 1457.66 Q1765.52 1454.1 1761.88 1454.1 M1761.88 1450.39 Q1767.69 1450.39 1770.75 1455 Q1773.83 1459.58 1773.83 1468.33 Q1773.83 1477.06 1770.75 1481.67 Q1767.69 1486.25 1761.88 1486.25 Q1756.07 1486.25 1752.99 1481.67 Q1749.94 1477.06 1749.94 1468.33 Q1749.94 1459.58 1752.99 1455 Q1756.07 1450.39 1761.88 1450.39 Z\" fill=\"#000000\" fill-rule=\"nonzero\" fill-opacity=\"1\" /><path clip-path=\"url(#clip620)\" d=\"M1792.05 1454.1 Q1788.43 1454.1 1786.61 1457.66 Q1784.8 1461.2 1784.8 1468.33 Q1784.8 1475.44 1786.61 1479.01 Q1788.43 1482.55 1792.05 1482.55 Q1795.68 1482.55 1797.49 1479.01 Q1799.31 1475.44 1799.31 1468.33 Q1799.31 1461.2 1797.49 1457.66 Q1795.68 1454.1 1792.05 1454.1 M1792.05 1450.39 Q1797.86 1450.39 1800.91 1455 Q1803.99 1459.58 1803.99 1468.33 Q1803.99 1477.06 1800.91 1481.67 Q1797.86 1486.25 1792.05 1486.25 Q1786.24 1486.25 1783.16 1481.67 Q1780.1 1477.06 1780.1 1468.33 Q1780.1 1459.58 1783.16 1455 Q1786.24 1450.39 1792.05 1450.39 Z\" fill=\"#000000\" fill-rule=\"nonzero\" fill-opacity=\"1\" /><path clip-path=\"url(#clip620)\" d=\"M1812.25 1451.02 L1830.61 1451.02 L1830.61 1454.96 L1816.54 1454.96 L1816.54 1463.43 Q1817.55 1463.08 1818.57 1462.92 Q1819.59 1462.73 1820.61 1462.73 Q1826.4 1462.73 1829.78 1465.9 Q1833.16 1469.08 1833.16 1474.49 Q1833.16 1480.07 1829.68 1483.17 Q1826.21 1486.25 1819.89 1486.25 Q1817.72 1486.25 1815.45 1485.88 Q1813.2 1485.51 1810.8 1484.77 L1810.8 1480.07 Q1812.88 1481.2 1815.1 1481.76 Q1817.32 1482.32 1819.8 1482.32 Q1823.8 1482.32 1826.14 1480.21 Q1828.48 1478.1 1828.48 1474.49 Q1828.48 1470.88 1826.14 1468.77 Q1823.8 1466.67 1819.8 1466.67 Q1817.92 1466.67 1816.05 1467.08 Q1814.2 1467.5 1812.25 1468.38 L1812.25 1451.02 Z\" fill=\"#000000\" fill-rule=\"nonzero\" fill-opacity=\"1\" /><path clip-path=\"url(#clip620)\" d=\"M2084.41 1481.64 L2092.05 1481.64 L2092.05 1455.28 L2083.74 1456.95 L2083.74 1452.69 L2092.01 1451.02 L2096.68 1451.02 L2096.68 1481.64 L2104.32 1481.64 L2104.32 1485.58 L2084.41 1485.58 L2084.41 1481.64 Z\" fill=\"#000000\" fill-rule=\"nonzero\" fill-opacity=\"1\" /><path clip-path=\"url(#clip620)\" d=\"M2113.77 1479.7 L2118.65 1479.7 L2118.65 1485.58 L2113.77 1485.58 L2113.77 1479.7 Z\" fill=\"#000000\" fill-rule=\"nonzero\" fill-opacity=\"1\" /><path clip-path=\"url(#clip620)\" d=\"M2138.84 1454.1 Q2135.22 1454.1 2133.4 1457.66 Q2131.59 1461.2 2131.59 1468.33 Q2131.59 1475.44 2133.4 1479.01 Q2135.22 1482.55 2138.84 1482.55 Q2142.47 1482.55 2144.28 1479.01 Q2146.1 1475.44 2146.1 1468.33 Q2146.1 1461.2 2144.28 1457.66 Q2142.47 1454.1 2138.84 1454.1 M2138.84 1450.39 Q2144.65 1450.39 2147.7 1455 Q2150.78 1459.58 2150.78 1468.33 Q2150.78 1477.06 2147.7 1481.67 Q2144.65 1486.25 2138.84 1486.25 Q2133.03 1486.25 2129.95 1481.67 Q2126.89 1477.06 2126.89 1468.33 Q2126.89 1459.58 2129.95 1455 Q2133.03 1450.39 2138.84 1450.39 Z\" fill=\"#000000\" fill-rule=\"nonzero\" fill-opacity=\"1\" /><path clip-path=\"url(#clip620)\" d=\"M2159.81 1481.64 L2167.45 1481.64 L2167.45 1455.28 L2159.14 1456.95 L2159.14 1452.69 L2167.4 1451.02 L2172.08 1451.02 L2172.08 1481.64 L2179.71 1481.64 L2179.71 1485.58 L2159.81 1485.58 L2159.81 1481.64 Z\" fill=\"#000000\" fill-rule=\"nonzero\" fill-opacity=\"1\" /><path clip-path=\"url(#clip620)\" d=\"M2199.16 1454.1 Q2195.55 1454.1 2193.72 1457.66 Q2191.91 1461.2 2191.91 1468.33 Q2191.91 1475.44 2193.72 1479.01 Q2195.55 1482.55 2199.16 1482.55 Q2202.79 1482.55 2204.6 1479.01 Q2206.43 1475.44 2206.43 1468.33 Q2206.43 1461.2 2204.6 1457.66 Q2202.79 1454.1 2199.16 1454.1 M2199.16 1450.39 Q2204.97 1450.39 2208.02 1455 Q2211.1 1459.58 2211.1 1468.33 Q2211.1 1477.06 2208.02 1481.67 Q2204.97 1486.25 2199.16 1486.25 Q2193.35 1486.25 2190.27 1481.67 Q2187.21 1477.06 2187.21 1468.33 Q2187.21 1459.58 2190.27 1455 Q2193.35 1450.39 2199.16 1450.39 Z\" fill=\"#000000\" fill-rule=\"nonzero\" fill-opacity=\"1\" /><path clip-path=\"url(#clip620)\" d=\"M1409.14 1532.4 L1396.25 1549.74 L1409.81 1568.04 L1402.9 1568.04 L1392.52 1554.04 L1382.15 1568.04 L1375.24 1568.04 L1389.09 1549.39 L1376.42 1532.4 L1383.33 1532.4 L1392.78 1545.1 L1402.23 1532.4 L1409.14 1532.4 Z\" fill=\"#000000\" fill-rule=\"nonzero\" fill-opacity=\"1\" /><polyline clip-path=\"url(#clip622)\" style=\"stroke:#000000; stroke-linecap:round; stroke-linejoin:round; stroke-width:2; stroke-opacity:0.1; fill:none\" points=\"432.293,1284.8 2352.76,1284.8 \"/>\n",
       "<polyline clip-path=\"url(#clip622)\" style=\"stroke:#000000; stroke-linecap:round; stroke-linejoin:round; stroke-width:2; stroke-opacity:0.1; fill:none\" points=\"432.293,1111.43 2352.76,1111.43 \"/>\n",
       "<polyline clip-path=\"url(#clip622)\" style=\"stroke:#000000; stroke-linecap:round; stroke-linejoin:round; stroke-width:2; stroke-opacity:0.1; fill:none\" points=\"432.293,938.057 2352.76,938.057 \"/>\n",
       "<polyline clip-path=\"url(#clip622)\" style=\"stroke:#000000; stroke-linecap:round; stroke-linejoin:round; stroke-width:2; stroke-opacity:0.1; fill:none\" points=\"432.293,764.686 2352.76,764.686 \"/>\n",
       "<polyline clip-path=\"url(#clip622)\" style=\"stroke:#000000; stroke-linecap:round; stroke-linejoin:round; stroke-width:2; stroke-opacity:0.1; fill:none\" points=\"432.293,591.315 2352.76,591.315 \"/>\n",
       "<polyline clip-path=\"url(#clip622)\" style=\"stroke:#000000; stroke-linecap:round; stroke-linejoin:round; stroke-width:2; stroke-opacity:0.1; fill:none\" points=\"432.293,417.943 2352.76,417.943 \"/>\n",
       "<polyline clip-path=\"url(#clip622)\" style=\"stroke:#000000; stroke-linecap:round; stroke-linejoin:round; stroke-width:2; stroke-opacity:0.1; fill:none\" points=\"432.293,244.572 2352.76,244.572 \"/>\n",
       "<polyline clip-path=\"url(#clip620)\" style=\"stroke:#000000; stroke-linecap:round; stroke-linejoin:round; stroke-width:4; stroke-opacity:1; fill:none\" points=\"432.293,1423.18 432.293,106.192 \"/>\n",
       "<polyline clip-path=\"url(#clip620)\" style=\"stroke:#000000; stroke-linecap:round; stroke-linejoin:round; stroke-width:4; stroke-opacity:1; fill:none\" points=\"432.293,1284.8 451.19,1284.8 \"/>\n",
       "<polyline clip-path=\"url(#clip620)\" style=\"stroke:#000000; stroke-linecap:round; stroke-linejoin:round; stroke-width:4; stroke-opacity:1; fill:none\" points=\"432.293,1111.43 451.19,1111.43 \"/>\n",
       "<polyline clip-path=\"url(#clip620)\" style=\"stroke:#000000; stroke-linecap:round; stroke-linejoin:round; stroke-width:4; stroke-opacity:1; fill:none\" points=\"432.293,938.057 451.19,938.057 \"/>\n",
       "<polyline clip-path=\"url(#clip620)\" style=\"stroke:#000000; stroke-linecap:round; stroke-linejoin:round; stroke-width:4; stroke-opacity:1; fill:none\" points=\"432.293,764.686 451.19,764.686 \"/>\n",
       "<polyline clip-path=\"url(#clip620)\" style=\"stroke:#000000; stroke-linecap:round; stroke-linejoin:round; stroke-width:4; stroke-opacity:1; fill:none\" points=\"432.293,591.315 451.19,591.315 \"/>\n",
       "<polyline clip-path=\"url(#clip620)\" style=\"stroke:#000000; stroke-linecap:round; stroke-linejoin:round; stroke-width:4; stroke-opacity:1; fill:none\" points=\"432.293,417.943 451.19,417.943 \"/>\n",
       "<polyline clip-path=\"url(#clip620)\" style=\"stroke:#000000; stroke-linecap:round; stroke-linejoin:round; stroke-width:4; stroke-opacity:1; fill:none\" points=\"432.293,244.572 451.19,244.572 \"/>\n",
       "<path clip-path=\"url(#clip620)\" d=\"M114.26 1291.7 L143.936 1291.7 L143.936 1295.63 L114.26 1295.63 L114.26 1291.7 Z\" fill=\"#000000\" fill-rule=\"nonzero\" fill-opacity=\"1\" /><path clip-path=\"url(#clip620)\" d=\"M168.195 1289.89 Q171.552 1290.61 173.427 1292.88 Q175.325 1295.15 175.325 1298.48 Q175.325 1303.6 171.806 1306.4 Q168.288 1309.2 161.806 1309.2 Q159.63 1309.2 157.315 1308.76 Q155.024 1308.34 152.57 1307.49 L152.57 1302.97 Q154.515 1304.11 156.829 1304.68 Q159.144 1305.26 161.667 1305.26 Q166.065 1305.26 168.357 1303.53 Q170.672 1301.79 170.672 1298.48 Q170.672 1295.43 168.519 1293.71 Q166.39 1291.98 162.57 1291.98 L158.542 1291.98 L158.542 1288.13 L162.755 1288.13 Q166.204 1288.13 168.033 1286.77 Q169.862 1285.38 169.862 1282.79 Q169.862 1280.12 167.964 1278.71 Q166.089 1277.28 162.57 1277.28 Q160.649 1277.28 158.45 1277.69 Q156.251 1278.11 153.612 1278.99 L153.612 1274.82 Q156.274 1274.08 158.589 1273.71 Q160.927 1273.34 162.987 1273.34 Q168.311 1273.34 171.413 1275.77 Q174.514 1278.18 174.514 1282.3 Q174.514 1285.17 172.871 1287.16 Q171.227 1289.13 168.195 1289.89 Z\" fill=\"#000000\" fill-rule=\"nonzero\" fill-opacity=\"1\" /><path clip-path=\"url(#clip620)\" d=\"M184.19 1302.65 L189.075 1302.65 L189.075 1308.53 L184.19 1308.53 L184.19 1302.65 Z\" fill=\"#000000\" fill-rule=\"nonzero\" fill-opacity=\"1\" /><path clip-path=\"url(#clip620)\" d=\"M209.26 1277.05 Q205.649 1277.05 203.82 1280.61 Q202.014 1284.15 202.014 1291.28 Q202.014 1298.39 203.82 1301.95 Q205.649 1305.5 209.26 1305.5 Q212.894 1305.5 214.699 1301.95 Q216.528 1298.39 216.528 1291.28 Q216.528 1284.15 214.699 1280.61 Q212.894 1277.05 209.26 1277.05 M209.26 1273.34 Q215.07 1273.34 218.125 1277.95 Q221.204 1282.53 221.204 1291.28 Q221.204 1300.01 218.125 1304.62 Q215.07 1309.2 209.26 1309.2 Q203.449 1309.2 200.371 1304.62 Q197.315 1300.01 197.315 1291.28 Q197.315 1282.53 200.371 1277.95 Q203.449 1273.34 209.26 1273.34 Z\" fill=\"#000000\" fill-rule=\"nonzero\" fill-opacity=\"1\" /><path clip-path=\"url(#clip620)\" d=\"M257.593 1283.06 L247.014 1293.69 L257.593 1304.27 L254.838 1307.07 L244.213 1296.44 L233.588 1307.07 L230.857 1304.27 L241.412 1293.69 L230.857 1283.06 L233.588 1280.26 L244.213 1290.89 L254.838 1280.26 L257.593 1283.06 Z\" fill=\"#000000\" fill-rule=\"nonzero\" fill-opacity=\"1\" /><path clip-path=\"url(#clip620)\" d=\"M269.954 1304.59 L277.593 1304.59 L277.593 1278.23 L269.282 1279.89 L269.282 1275.63 L277.546 1273.97 L282.222 1273.97 L282.222 1304.59 L289.861 1304.59 L289.861 1308.53 L269.954 1308.53 L269.954 1304.59 Z\" fill=\"#000000\" fill-rule=\"nonzero\" fill-opacity=\"1\" /><path clip-path=\"url(#clip620)\" d=\"M309.305 1277.05 Q305.694 1277.05 303.866 1280.61 Q302.06 1284.15 302.06 1291.28 Q302.06 1298.39 303.866 1301.95 Q305.694 1305.5 309.305 1305.5 Q312.94 1305.5 314.745 1301.95 Q316.574 1298.39 316.574 1291.28 Q316.574 1284.15 314.745 1280.61 Q312.94 1277.05 309.305 1277.05 M309.305 1273.34 Q315.116 1273.34 318.171 1277.95 Q321.25 1282.53 321.25 1291.28 Q321.25 1300.01 318.171 1304.62 Q315.116 1309.2 309.305 1309.2 Q303.495 1309.2 300.417 1304.62 Q297.361 1300.01 297.361 1291.28 Q297.361 1282.53 300.417 1277.95 Q303.495 1273.34 309.305 1273.34 Z\" fill=\"#000000\" fill-rule=\"nonzero\" fill-opacity=\"1\" /><path clip-path=\"url(#clip620)\" d=\"M321.25 1267.44 L345.361 1267.44 L345.361 1270.64 L321.25 1270.64 L321.25 1267.44 Z\" fill=\"#000000\" fill-rule=\"nonzero\" fill-opacity=\"1\" /><path clip-path=\"url(#clip620)\" d=\"M354.22 1277.92 L360.426 1277.92 L360.426 1256.5 L353.674 1257.85 L353.674 1254.39 L360.389 1253.04 L364.188 1253.04 L364.188 1277.92 L370.394 1277.92 L370.394 1281.12 L354.22 1281.12 L354.22 1277.92 Z\" fill=\"#000000\" fill-rule=\"nonzero\" fill-opacity=\"1\" /><path clip-path=\"url(#clip620)\" d=\"M388.506 1256.35 L378.914 1271.34 L388.506 1271.34 L388.506 1256.35 M387.51 1253.04 L392.287 1253.04 L392.287 1271.34 L396.293 1271.34 L396.293 1274.5 L392.287 1274.5 L392.287 1281.12 L388.506 1281.12 L388.506 1274.5 L375.83 1274.5 L375.83 1270.83 L387.51 1253.04 Z\" fill=\"#000000\" fill-rule=\"nonzero\" fill-opacity=\"1\" /><path clip-path=\"url(#clip620)\" d=\"M114.26 1118.33 L143.936 1118.33 L143.936 1122.26 L114.26 1122.26 L114.26 1118.33 Z\" fill=\"#000000\" fill-rule=\"nonzero\" fill-opacity=\"1\" /><path clip-path=\"url(#clip620)\" d=\"M158.056 1131.22 L174.376 1131.22 L174.376 1135.16 L152.431 1135.16 L152.431 1131.22 Q155.093 1128.47 159.677 1123.84 Q164.283 1119.18 165.464 1117.84 Q167.709 1115.32 168.589 1113.58 Q169.491 1111.82 169.491 1110.13 Q169.491 1107.38 167.547 1105.64 Q165.626 1103.91 162.524 1103.91 Q160.325 1103.91 157.871 1104.67 Q155.44 1105.43 152.663 1106.98 L152.663 1102.26 Q155.487 1101.13 157.94 1100.55 Q160.394 1099.97 162.431 1099.97 Q167.802 1099.97 170.996 1102.66 Q174.19 1105.34 174.19 1109.83 Q174.19 1111.96 173.38 1113.88 Q172.593 1115.78 170.487 1118.37 Q169.908 1119.05 166.806 1122.26 Q163.704 1125.46 158.056 1131.22 Z\" fill=\"#000000\" fill-rule=\"nonzero\" fill-opacity=\"1\" /><path clip-path=\"url(#clip620)\" d=\"M184.19 1129.28 L189.075 1129.28 L189.075 1135.16 L184.19 1135.16 L184.19 1129.28 Z\" fill=\"#000000\" fill-rule=\"nonzero\" fill-opacity=\"1\" /><path clip-path=\"url(#clip620)\" d=\"M209.26 1103.67 Q205.649 1103.67 203.82 1107.24 Q202.014 1110.78 202.014 1117.91 Q202.014 1125.02 203.82 1128.58 Q205.649 1132.12 209.26 1132.12 Q212.894 1132.12 214.699 1128.58 Q216.528 1125.02 216.528 1117.91 Q216.528 1110.78 214.699 1107.24 Q212.894 1103.67 209.26 1103.67 M209.26 1099.97 Q215.07 1099.97 218.125 1104.58 Q221.204 1109.16 221.204 1117.91 Q221.204 1126.64 218.125 1131.24 Q215.07 1135.83 209.26 1135.83 Q203.449 1135.83 200.371 1131.24 Q197.315 1126.64 197.315 1117.91 Q197.315 1109.16 200.371 1104.58 Q203.449 1099.97 209.26 1099.97 Z\" fill=\"#000000\" fill-rule=\"nonzero\" fill-opacity=\"1\" /><path clip-path=\"url(#clip620)\" d=\"M257.593 1109.69 L247.014 1120.32 L257.593 1130.9 L254.838 1133.7 L244.213 1123.07 L233.588 1133.7 L230.857 1130.9 L241.412 1120.32 L230.857 1109.69 L233.588 1106.89 L244.213 1117.52 L254.838 1106.89 L257.593 1109.69 Z\" fill=\"#000000\" fill-rule=\"nonzero\" fill-opacity=\"1\" /><path clip-path=\"url(#clip620)\" d=\"M269.954 1131.22 L277.593 1131.22 L277.593 1104.86 L269.282 1106.52 L269.282 1102.26 L277.546 1100.6 L282.222 1100.6 L282.222 1131.22 L289.861 1131.22 L289.861 1135.16 L269.954 1135.16 L269.954 1131.22 Z\" fill=\"#000000\" fill-rule=\"nonzero\" fill-opacity=\"1\" /><path clip-path=\"url(#clip620)\" d=\"M309.305 1103.67 Q305.694 1103.67 303.866 1107.24 Q302.06 1110.78 302.06 1117.91 Q302.06 1125.02 303.866 1128.58 Q305.694 1132.12 309.305 1132.12 Q312.94 1132.12 314.745 1128.58 Q316.574 1125.02 316.574 1117.91 Q316.574 1110.78 314.745 1107.24 Q312.94 1103.67 309.305 1103.67 M309.305 1099.97 Q315.116 1099.97 318.171 1104.58 Q321.25 1109.16 321.25 1117.91 Q321.25 1126.64 318.171 1131.24 Q315.116 1135.83 309.305 1135.83 Q303.495 1135.83 300.417 1131.24 Q297.361 1126.64 297.361 1117.91 Q297.361 1109.16 300.417 1104.58 Q303.495 1099.97 309.305 1099.97 Z\" fill=\"#000000\" fill-rule=\"nonzero\" fill-opacity=\"1\" /><path clip-path=\"url(#clip620)\" d=\"M321.25 1094.07 L345.361 1094.07 L345.361 1097.27 L321.25 1097.27 L321.25 1094.07 Z\" fill=\"#000000\" fill-rule=\"nonzero\" fill-opacity=\"1\" /><path clip-path=\"url(#clip620)\" d=\"M354.22 1104.55 L360.426 1104.55 L360.426 1083.13 L353.674 1084.48 L353.674 1081.02 L360.389 1079.67 L364.188 1079.67 L364.188 1104.55 L370.394 1104.55 L370.394 1107.75 L354.22 1107.75 L354.22 1104.55 Z\" fill=\"#000000\" fill-rule=\"nonzero\" fill-opacity=\"1\" /><path clip-path=\"url(#clip620)\" d=\"M388.506 1082.98 L378.914 1097.97 L388.506 1097.97 L388.506 1082.98 M387.51 1079.67 L392.287 1079.67 L392.287 1097.97 L396.293 1097.97 L396.293 1101.13 L392.287 1101.13 L392.287 1107.75 L388.506 1107.75 L388.506 1101.13 L375.83 1101.13 L375.83 1097.46 L387.51 1079.67 Z\" fill=\"#000000\" fill-rule=\"nonzero\" fill-opacity=\"1\" /><path clip-path=\"url(#clip620)\" d=\"M114.26 944.956 L143.936 944.956 L143.936 948.891 L114.26 948.891 L114.26 944.956 Z\" fill=\"#000000\" fill-rule=\"nonzero\" fill-opacity=\"1\" /><path clip-path=\"url(#clip620)\" d=\"M154.839 957.85 L162.477 957.85 L162.477 931.484 L154.167 933.151 L154.167 928.892 L162.431 927.225 L167.107 927.225 L167.107 957.85 L174.746 957.85 L174.746 961.785 L154.839 961.785 L154.839 957.85 Z\" fill=\"#000000\" fill-rule=\"nonzero\" fill-opacity=\"1\" /><path clip-path=\"url(#clip620)\" d=\"M184.19 955.905 L189.075 955.905 L189.075 961.785 L184.19 961.785 L184.19 955.905 Z\" fill=\"#000000\" fill-rule=\"nonzero\" fill-opacity=\"1\" /><path clip-path=\"url(#clip620)\" d=\"M209.26 930.304 Q205.649 930.304 203.82 933.868 Q202.014 937.41 202.014 944.54 Q202.014 951.646 203.82 955.211 Q205.649 958.752 209.26 958.752 Q212.894 958.752 214.699 955.211 Q216.528 951.646 216.528 944.54 Q216.528 937.41 214.699 933.868 Q212.894 930.304 209.26 930.304 M209.26 926.6 Q215.07 926.6 218.125 931.206 Q221.204 935.79 221.204 944.54 Q221.204 953.266 218.125 957.873 Q215.07 962.456 209.26 962.456 Q203.449 962.456 200.371 957.873 Q197.315 953.266 197.315 944.54 Q197.315 935.79 200.371 931.206 Q203.449 926.6 209.26 926.6 Z\" fill=\"#000000\" fill-rule=\"nonzero\" fill-opacity=\"1\" /><path clip-path=\"url(#clip620)\" d=\"M257.593 936.322 L247.014 946.947 L257.593 957.526 L254.838 960.327 L244.213 949.702 L233.588 960.327 L230.857 957.526 L241.412 946.947 L230.857 936.322 L233.588 933.521 L244.213 944.146 L254.838 933.521 L257.593 936.322 Z\" fill=\"#000000\" fill-rule=\"nonzero\" fill-opacity=\"1\" /><path clip-path=\"url(#clip620)\" d=\"M269.954 957.85 L277.593 957.85 L277.593 931.484 L269.282 933.151 L269.282 928.892 L277.546 927.225 L282.222 927.225 L282.222 957.85 L289.861 957.85 L289.861 961.785 L269.954 961.785 L269.954 957.85 Z\" fill=\"#000000\" fill-rule=\"nonzero\" fill-opacity=\"1\" /><path clip-path=\"url(#clip620)\" d=\"M309.305 930.304 Q305.694 930.304 303.866 933.868 Q302.06 937.41 302.06 944.54 Q302.06 951.646 303.866 955.211 Q305.694 958.752 309.305 958.752 Q312.94 958.752 314.745 955.211 Q316.574 951.646 316.574 944.54 Q316.574 937.41 314.745 933.868 Q312.94 930.304 309.305 930.304 M309.305 926.6 Q315.116 926.6 318.171 931.206 Q321.25 935.79 321.25 944.54 Q321.25 953.266 318.171 957.873 Q315.116 962.456 309.305 962.456 Q303.495 962.456 300.417 957.873 Q297.361 953.266 297.361 944.54 Q297.361 935.79 300.417 931.206 Q303.495 926.6 309.305 926.6 Z\" fill=\"#000000\" fill-rule=\"nonzero\" fill-opacity=\"1\" /><path clip-path=\"url(#clip620)\" d=\"M321.25 920.701 L345.361 920.701 L345.361 923.899 L321.25 923.899 L321.25 920.701 Z\" fill=\"#000000\" fill-rule=\"nonzero\" fill-opacity=\"1\" /><path clip-path=\"url(#clip620)\" d=\"M354.22 931.177 L360.426 931.177 L360.426 909.755 L353.674 911.109 L353.674 907.649 L360.389 906.294 L364.188 906.294 L364.188 931.177 L370.394 931.177 L370.394 934.374 L354.22 934.374 L354.22 931.177 Z\" fill=\"#000000\" fill-rule=\"nonzero\" fill-opacity=\"1\" /><path clip-path=\"url(#clip620)\" d=\"M388.506 909.605 L378.914 924.594 L388.506 924.594 L388.506 909.605 M387.51 906.294 L392.287 906.294 L392.287 924.594 L396.293 924.594 L396.293 927.754 L392.287 927.754 L392.287 934.374 L388.506 934.374 L388.506 927.754 L375.83 927.754 L375.83 924.087 L387.51 906.294 Z\" fill=\"#000000\" fill-rule=\"nonzero\" fill-opacity=\"1\" /><path clip-path=\"url(#clip620)\" d=\"M384.348 750.485 Q380.737 750.485 378.909 754.049 Q377.103 757.591 377.103 764.721 Q377.103 771.827 378.909 775.392 Q380.737 778.934 384.348 778.934 Q387.983 778.934 389.788 775.392 Q391.617 771.827 391.617 764.721 Q391.617 757.591 389.788 754.049 Q387.983 750.485 384.348 750.485 M384.348 746.781 Q390.159 746.781 393.214 751.387 Q396.293 755.971 396.293 764.721 Q396.293 773.448 393.214 778.054 Q390.159 782.637 384.348 782.637 Q378.538 782.637 375.46 778.054 Q372.404 773.448 372.404 764.721 Q372.404 755.971 375.46 751.387 Q378.538 746.781 384.348 746.781 Z\" fill=\"#000000\" fill-rule=\"nonzero\" fill-opacity=\"1\" /><path clip-path=\"url(#clip620)\" d=\"M154.839 611.107 L162.477 611.107 L162.477 584.742 L154.167 586.408 L154.167 582.149 L162.431 580.482 L167.107 580.482 L167.107 611.107 L174.746 611.107 L174.746 615.042 L154.839 615.042 L154.839 611.107 Z\" fill=\"#000000\" fill-rule=\"nonzero\" fill-opacity=\"1\" /><path clip-path=\"url(#clip620)\" d=\"M184.19 609.163 L189.075 609.163 L189.075 615.042 L184.19 615.042 L184.19 609.163 Z\" fill=\"#000000\" fill-rule=\"nonzero\" fill-opacity=\"1\" /><path clip-path=\"url(#clip620)\" d=\"M209.26 583.561 Q205.649 583.561 203.82 587.126 Q202.014 590.667 202.014 597.797 Q202.014 604.903 203.82 608.468 Q205.649 612.01 209.26 612.01 Q212.894 612.01 214.699 608.468 Q216.528 604.903 216.528 597.797 Q216.528 590.667 214.699 587.126 Q212.894 583.561 209.26 583.561 M209.26 579.857 Q215.07 579.857 218.125 584.464 Q221.204 589.047 221.204 597.797 Q221.204 606.524 218.125 611.13 Q215.07 615.714 209.26 615.714 Q203.449 615.714 200.371 611.13 Q197.315 606.524 197.315 597.797 Q197.315 589.047 200.371 584.464 Q203.449 579.857 209.26 579.857 Z\" fill=\"#000000\" fill-rule=\"nonzero\" fill-opacity=\"1\" /><path clip-path=\"url(#clip620)\" d=\"M257.593 589.579 L247.014 600.204 L257.593 610.783 L254.838 613.584 L244.213 602.959 L233.588 613.584 L230.857 610.783 L241.412 600.204 L230.857 589.579 L233.588 586.779 L244.213 597.404 L254.838 586.779 L257.593 589.579 Z\" fill=\"#000000\" fill-rule=\"nonzero\" fill-opacity=\"1\" /><path clip-path=\"url(#clip620)\" d=\"M269.954 611.107 L277.593 611.107 L277.593 584.742 L269.282 586.408 L269.282 582.149 L277.546 580.482 L282.222 580.482 L282.222 611.107 L289.861 611.107 L289.861 615.042 L269.954 615.042 L269.954 611.107 Z\" fill=\"#000000\" fill-rule=\"nonzero\" fill-opacity=\"1\" /><path clip-path=\"url(#clip620)\" d=\"M309.305 583.561 Q305.694 583.561 303.866 587.126 Q302.06 590.667 302.06 597.797 Q302.06 604.903 303.866 608.468 Q305.694 612.01 309.305 612.01 Q312.94 612.01 314.745 608.468 Q316.574 604.903 316.574 597.797 Q316.574 590.667 314.745 587.126 Q312.94 583.561 309.305 583.561 M309.305 579.857 Q315.116 579.857 318.171 584.464 Q321.25 589.047 321.25 597.797 Q321.25 606.524 318.171 611.13 Q315.116 615.714 309.305 615.714 Q303.495 615.714 300.417 611.13 Q297.361 606.524 297.361 597.797 Q297.361 589.047 300.417 584.464 Q303.495 579.857 309.305 579.857 Z\" fill=\"#000000\" fill-rule=\"nonzero\" fill-opacity=\"1\" /><path clip-path=\"url(#clip620)\" d=\"M321.25 573.959 L345.361 573.959 L345.361 577.156 L321.25 577.156 L321.25 573.959 Z\" fill=\"#000000\" fill-rule=\"nonzero\" fill-opacity=\"1\" /><path clip-path=\"url(#clip620)\" d=\"M354.22 584.435 L360.426 584.435 L360.426 563.013 L353.674 564.367 L353.674 560.906 L360.389 559.552 L364.188 559.552 L364.188 584.435 L370.394 584.435 L370.394 587.632 L354.22 587.632 L354.22 584.435 Z\" fill=\"#000000\" fill-rule=\"nonzero\" fill-opacity=\"1\" /><path clip-path=\"url(#clip620)\" d=\"M388.506 562.862 L378.914 577.852 L388.506 577.852 L388.506 562.862 M387.51 559.552 L392.287 559.552 L392.287 577.852 L396.293 577.852 L396.293 581.012 L392.287 581.012 L392.287 587.632 L388.506 587.632 L388.506 581.012 L375.83 581.012 L375.83 577.344 L387.51 559.552 Z\" fill=\"#000000\" fill-rule=\"nonzero\" fill-opacity=\"1\" /><path clip-path=\"url(#clip620)\" d=\"M158.056 437.736 L174.376 437.736 L174.376 441.671 L152.431 441.671 L152.431 437.736 Q155.093 434.981 159.677 430.352 Q164.283 425.699 165.464 424.356 Q167.709 421.833 168.589 420.097 Q169.491 418.338 169.491 416.648 Q169.491 413.893 167.547 412.157 Q165.626 410.421 162.524 410.421 Q160.325 410.421 157.871 411.185 Q155.44 411.949 152.663 413.5 L152.663 408.778 Q155.487 407.643 157.94 407.065 Q160.394 406.486 162.431 406.486 Q167.802 406.486 170.996 409.171 Q174.19 411.856 174.19 416.347 Q174.19 418.477 173.38 420.398 Q172.593 422.296 170.487 424.889 Q169.908 425.56 166.806 428.778 Q163.704 431.972 158.056 437.736 Z\" fill=\"#000000\" fill-rule=\"nonzero\" fill-opacity=\"1\" /><path clip-path=\"url(#clip620)\" d=\"M184.19 435.791 L189.075 435.791 L189.075 441.671 L184.19 441.671 L184.19 435.791 Z\" fill=\"#000000\" fill-rule=\"nonzero\" fill-opacity=\"1\" /><path clip-path=\"url(#clip620)\" d=\"M209.26 410.19 Q205.649 410.19 203.82 413.755 Q202.014 417.296 202.014 424.426 Q202.014 431.532 203.82 435.097 Q205.649 438.639 209.26 438.639 Q212.894 438.639 214.699 435.097 Q216.528 431.532 216.528 424.426 Q216.528 417.296 214.699 413.755 Q212.894 410.19 209.26 410.19 M209.26 406.486 Q215.07 406.486 218.125 411.092 Q221.204 415.676 221.204 424.426 Q221.204 433.153 218.125 437.759 Q215.07 442.342 209.26 442.342 Q203.449 442.342 200.371 437.759 Q197.315 433.153 197.315 424.426 Q197.315 415.676 200.371 411.092 Q203.449 406.486 209.26 406.486 Z\" fill=\"#000000\" fill-rule=\"nonzero\" fill-opacity=\"1\" /><path clip-path=\"url(#clip620)\" d=\"M257.593 416.208 L247.014 426.833 L257.593 437.412 L254.838 440.213 L244.213 429.588 L233.588 440.213 L230.857 437.412 L241.412 426.833 L230.857 416.208 L233.588 413.407 L244.213 424.032 L254.838 413.407 L257.593 416.208 Z\" fill=\"#000000\" fill-rule=\"nonzero\" fill-opacity=\"1\" /><path clip-path=\"url(#clip620)\" d=\"M269.954 437.736 L277.593 437.736 L277.593 411.37 L269.282 413.037 L269.282 408.778 L277.546 407.111 L282.222 407.111 L282.222 437.736 L289.861 437.736 L289.861 441.671 L269.954 441.671 L269.954 437.736 Z\" fill=\"#000000\" fill-rule=\"nonzero\" fill-opacity=\"1\" /><path clip-path=\"url(#clip620)\" d=\"M309.305 410.19 Q305.694 410.19 303.866 413.755 Q302.06 417.296 302.06 424.426 Q302.06 431.532 303.866 435.097 Q305.694 438.639 309.305 438.639 Q312.94 438.639 314.745 435.097 Q316.574 431.532 316.574 424.426 Q316.574 417.296 314.745 413.755 Q312.94 410.19 309.305 410.19 M309.305 406.486 Q315.116 406.486 318.171 411.092 Q321.25 415.676 321.25 424.426 Q321.25 433.153 318.171 437.759 Q315.116 442.342 309.305 442.342 Q303.495 442.342 300.417 437.759 Q297.361 433.153 297.361 424.426 Q297.361 415.676 300.417 411.092 Q303.495 406.486 309.305 406.486 Z\" fill=\"#000000\" fill-rule=\"nonzero\" fill-opacity=\"1\" /><path clip-path=\"url(#clip620)\" d=\"M321.25 400.587 L345.361 400.587 L345.361 403.785 L321.25 403.785 L321.25 400.587 Z\" fill=\"#000000\" fill-rule=\"nonzero\" fill-opacity=\"1\" /><path clip-path=\"url(#clip620)\" d=\"M354.22 411.063 L360.426 411.063 L360.426 389.641 L353.674 390.995 L353.674 387.535 L360.389 386.181 L364.188 386.181 L364.188 411.063 L370.394 411.063 L370.394 414.261 L354.22 414.261 L354.22 411.063 Z\" fill=\"#000000\" fill-rule=\"nonzero\" fill-opacity=\"1\" /><path clip-path=\"url(#clip620)\" d=\"M388.506 389.491 L378.914 404.481 L388.506 404.481 L388.506 389.491 M387.51 386.181 L392.287 386.181 L392.287 404.481 L396.293 404.481 L396.293 407.64 L392.287 407.64 L392.287 414.261 L388.506 414.261 L388.506 407.64 L375.83 407.64 L375.83 403.973 L387.51 386.181 Z\" fill=\"#000000\" fill-rule=\"nonzero\" fill-opacity=\"1\" /><path clip-path=\"url(#clip620)\" d=\"M168.195 249.666 Q171.552 250.383 173.427 252.652 Q175.325 254.92 175.325 258.254 Q175.325 263.369 171.806 266.17 Q168.288 268.971 161.806 268.971 Q159.63 268.971 157.315 268.531 Q155.024 268.115 152.57 267.258 L152.57 262.744 Q154.515 263.878 156.829 264.457 Q159.144 265.036 161.667 265.036 Q166.065 265.036 168.357 263.3 Q170.672 261.564 170.672 258.254 Q170.672 255.198 168.519 253.485 Q166.39 251.749 162.57 251.749 L158.542 251.749 L158.542 247.906 L162.755 247.906 Q166.204 247.906 168.033 246.541 Q169.862 245.152 169.862 242.559 Q169.862 239.897 167.964 238.485 Q166.089 237.05 162.57 237.05 Q160.649 237.05 158.45 237.467 Q156.251 237.883 153.612 238.763 L153.612 234.596 Q156.274 233.856 158.589 233.485 Q160.927 233.115 162.987 233.115 Q168.311 233.115 171.413 235.545 Q174.514 237.953 174.514 242.073 Q174.514 244.943 172.871 246.934 Q171.227 248.902 168.195 249.666 Z\" fill=\"#000000\" fill-rule=\"nonzero\" fill-opacity=\"1\" /><path clip-path=\"url(#clip620)\" d=\"M184.19 262.42 L189.075 262.42 L189.075 268.3 L184.19 268.3 L184.19 262.42 Z\" fill=\"#000000\" fill-rule=\"nonzero\" fill-opacity=\"1\" /><path clip-path=\"url(#clip620)\" d=\"M209.26 236.818 Q205.649 236.818 203.82 240.383 Q202.014 243.925 202.014 251.054 Q202.014 258.161 203.82 261.726 Q205.649 265.267 209.26 265.267 Q212.894 265.267 214.699 261.726 Q216.528 258.161 216.528 251.054 Q216.528 243.925 214.699 240.383 Q212.894 236.818 209.26 236.818 M209.26 233.115 Q215.07 233.115 218.125 237.721 Q221.204 242.305 221.204 251.054 Q221.204 259.781 218.125 264.388 Q215.07 268.971 209.26 268.971 Q203.449 268.971 200.371 264.388 Q197.315 259.781 197.315 251.054 Q197.315 242.305 200.371 237.721 Q203.449 233.115 209.26 233.115 Z\" fill=\"#000000\" fill-rule=\"nonzero\" fill-opacity=\"1\" /><path clip-path=\"url(#clip620)\" d=\"M257.593 242.837 L247.014 253.462 L257.593 264.041 L254.838 266.841 L244.213 256.216 L233.588 266.841 L230.857 264.041 L241.412 253.462 L230.857 242.837 L233.588 240.036 L244.213 250.661 L254.838 240.036 L257.593 242.837 Z\" fill=\"#000000\" fill-rule=\"nonzero\" fill-opacity=\"1\" /><path clip-path=\"url(#clip620)\" d=\"M269.954 264.365 L277.593 264.365 L277.593 237.999 L269.282 239.666 L269.282 235.406 L277.546 233.74 L282.222 233.74 L282.222 264.365 L289.861 264.365 L289.861 268.3 L269.954 268.3 L269.954 264.365 Z\" fill=\"#000000\" fill-rule=\"nonzero\" fill-opacity=\"1\" /><path clip-path=\"url(#clip620)\" d=\"M309.305 236.818 Q305.694 236.818 303.866 240.383 Q302.06 243.925 302.06 251.054 Q302.06 258.161 303.866 261.726 Q305.694 265.267 309.305 265.267 Q312.94 265.267 314.745 261.726 Q316.574 258.161 316.574 251.054 Q316.574 243.925 314.745 240.383 Q312.94 236.818 309.305 236.818 M309.305 233.115 Q315.116 233.115 318.171 237.721 Q321.25 242.305 321.25 251.054 Q321.25 259.781 318.171 264.388 Q315.116 268.971 309.305 268.971 Q303.495 268.971 300.417 264.388 Q297.361 259.781 297.361 251.054 Q297.361 242.305 300.417 237.721 Q303.495 233.115 309.305 233.115 Z\" fill=\"#000000\" fill-rule=\"nonzero\" fill-opacity=\"1\" /><path clip-path=\"url(#clip620)\" d=\"M321.25 227.216 L345.361 227.216 L345.361 230.413 L321.25 230.413 L321.25 227.216 Z\" fill=\"#000000\" fill-rule=\"nonzero\" fill-opacity=\"1\" /><path clip-path=\"url(#clip620)\" d=\"M354.22 237.692 L360.426 237.692 L360.426 216.27 L353.674 217.624 L353.674 214.164 L360.389 212.809 L364.188 212.809 L364.188 237.692 L370.394 237.692 L370.394 240.889 L354.22 240.889 L354.22 237.692 Z\" fill=\"#000000\" fill-rule=\"nonzero\" fill-opacity=\"1\" /><path clip-path=\"url(#clip620)\" d=\"M388.506 216.12 L378.914 231.109 L388.506 231.109 L388.506 216.12 M387.51 212.809 L392.287 212.809 L392.287 231.109 L396.293 231.109 L396.293 234.269 L392.287 234.269 L392.287 240.889 L388.506 240.889 L388.506 234.269 L375.83 234.269 L375.83 230.602 L387.51 212.809 Z\" fill=\"#000000\" fill-rule=\"nonzero\" fill-opacity=\"1\" /><path clip-path=\"url(#clip620)\" d=\"M67.3143 762.999 Q73.68 765.482 75.6216 767.837 Q77.5631 770.192 77.5631 774.139 L77.5631 778.818 L72.6615 778.818 L72.6615 775.38 Q72.6615 772.961 71.5157 771.625 Q70.3699 770.288 66.1048 768.665 L63.4312 767.614 L28.3562 782.033 L28.3562 775.826 L56.238 764.686 L28.3562 753.546 L28.3562 747.339 L67.3143 762.999 Z\" fill=\"#000000\" fill-rule=\"nonzero\" fill-opacity=\"1\" /><path clip-path=\"url(#clip620)\" d=\"M1219.33 54.8492 Q1217.08 60.6362 1214.94 62.4013 Q1212.79 64.1663 1209.21 64.1663 L1204.95 64.1663 L1204.95 59.7103 L1208.08 59.7103 Q1210.28 59.7103 1211.49 58.6687 Q1212.71 57.627 1214.18 53.7497 L1215.14 51.3192 L1202.03 19.4328 L1207.67 19.4328 L1217.8 44.7799 L1227.93 19.4328 L1233.57 19.4328 L1219.33 54.8492 Z\" fill=\"#000000\" fill-rule=\"nonzero\" fill-opacity=\"1\" /><path clip-path=\"url(#clip620)\" d=\"M1260.45 24.9304 L1297.55 24.9304 L1297.55 29.7915 L1260.45 29.7915 L1260.45 24.9304 M1260.45 36.7359 L1297.55 36.7359 L1297.55 41.6549 L1260.45 41.6549 L1260.45 36.7359 Z\" fill=\"#000000\" fill-rule=\"nonzero\" fill-opacity=\"1\" /><path clip-path=\"url(#clip620)\" d=\"M1341.03 6.87496 Q1337.16 13.53 1335.28 20.0404 Q1333.4 26.5508 1333.4 33.2348 Q1333.4 39.9188 1335.28 46.487 Q1337.19 53.0263 1341.03 59.6525 L1336.4 59.6525 Q1332.06 52.8527 1329.89 46.2845 Q1327.75 39.7162 1327.75 33.2348 Q1327.75 26.7823 1329.89 20.2429 Q1332.04 13.7036 1336.4 6.87496 L1341.03 6.87496 Z\" fill=\"#000000\" fill-rule=\"nonzero\" fill-opacity=\"1\" /><path clip-path=\"url(#clip620)\" d=\"M1378.3 19.4328 L1366.58 35.2024 L1378.91 51.84 L1372.63 51.84 L1363.2 39.1086 L1353.77 51.84 L1347.49 51.84 L1360.07 34.8841 L1348.56 19.4328 L1354.84 19.4328 L1363.43 30.9778 L1372.02 19.4328 L1378.3 19.4328 Z\" fill=\"#000000\" fill-rule=\"nonzero\" fill-opacity=\"1\" /><path clip-path=\"url(#clip620)\" d=\"M1402.58 33.2348 L1418.18 33.2348 L1418.18 37.9801 L1402.58 37.9801 L1402.58 33.2348 Z\" fill=\"#000000\" fill-rule=\"nonzero\" fill-opacity=\"1\" /><path clip-path=\"url(#clip620)\" d=\"M1447.25 46.921 L1456.8 46.921 L1456.8 13.964 L1446.42 16.0474 L1446.42 10.7233 L1456.75 8.64 L1462.59 8.64 L1462.59 46.921 L1472.14 46.921 L1472.14 51.84 L1447.25 51.84 L1447.25 46.921 Z\" fill=\"#000000\" fill-rule=\"nonzero\" fill-opacity=\"1\" /><path clip-path=\"url(#clip620)\" d=\"M1482.35 6.87496 L1486.98 6.87496 Q1491.32 13.7036 1493.46 20.2429 Q1495.63 26.7823 1495.63 33.2348 Q1495.63 39.7162 1493.46 46.2845 Q1491.32 52.8527 1486.98 59.6525 L1482.35 59.6525 Q1486.2 53.0263 1488.08 46.487 Q1489.99 39.9188 1489.99 33.2348 Q1489.99 26.5508 1488.08 20.0404 Q1486.2 13.53 1482.35 6.87496 Z\" fill=\"#000000\" fill-rule=\"nonzero\" fill-opacity=\"1\" /><path clip-path=\"url(#clip620)\" d=\"M1528.39 8.64 L1544.1 24.7568 L1538.28 24.7568 L1525.55 13.3275 L1512.82 24.7568 L1507.01 24.7568 L1522.72 8.64 L1528.39 8.64 Z\" fill=\"#000000\" fill-rule=\"nonzero\" fill-opacity=\"1\" /><path clip-path=\"url(#clip620)\" d=\"M1555.24 8.64 L1583.02 8.64 L1583.02 11.1284 L1567.34 51.84 L1561.23 51.84 L1575.99 13.559 L1555.24 13.559 L1555.24 8.64 Z\" fill=\"#000000\" fill-rule=\"nonzero\" fill-opacity=\"1\" /><polyline clip-path=\"url(#clip622)\" style=\"stroke:#009af9; stroke-linecap:round; stroke-linejoin:round; stroke-width:4; stroke-opacity:1; fill:none\" points=\"486.646,1385.91 562.135,1102.54 637.625,938.057 713.115,847.609 788.605,801.045 864.095,778.964 939.585,769.539 1015.07,766.04 1090.56,764.97 1166.05,764.724 1241.54,764.688 1317.03,764.686 1392.52,764.686 1468.01,764.686 1543.5,764.684 1618.99,764.648 1694.48,764.402 1769.97,763.332 1845.46,759.833 1920.95,750.408 1996.44,728.327 2071.93,681.763 2147.42,591.315 2222.91,426.834 2298.4,143.465 \"/>\n",
       "<path clip-path=\"url(#clip620)\" d=\"M496.308 253.772 L740.785 253.772 L740.785 150.092 L496.308 150.092  Z\" fill=\"#ffffff\" fill-rule=\"evenodd\" fill-opacity=\"1\"/>\n",
       "<polyline clip-path=\"url(#clip620)\" style=\"stroke:#000000; stroke-linecap:round; stroke-linejoin:round; stroke-width:4; stroke-opacity:1; fill:none\" points=\"496.308,253.772 740.785,253.772 740.785,150.092 496.308,150.092 496.308,253.772 \"/>\n",
       "<polyline clip-path=\"url(#clip620)\" style=\"stroke:#009af9; stroke-linecap:round; stroke-linejoin:round; stroke-width:4; stroke-opacity:1; fill:none\" points=\"517.647,201.932 645.678,201.932 \"/>\n",
       "<path clip-path=\"url(#clip620)\" d=\"M680.859 221.619 Q679.053 226.249 677.34 227.661 Q675.627 229.073 672.757 229.073 L669.354 229.073 L669.354 225.508 L671.854 225.508 Q673.613 225.508 674.585 224.675 Q675.558 223.841 676.738 220.739 L677.502 218.795 L667.016 193.286 L671.53 193.286 L679.632 213.564 L687.734 193.286 L692.247 193.286 L680.859 221.619 Z\" fill=\"#000000\" fill-rule=\"nonzero\" fill-opacity=\"1\" /><path clip-path=\"url(#clip620)\" d=\"M699.539 215.277 L707.178 215.277 L707.178 188.911 L698.868 190.578 L698.868 186.318 L707.132 184.652 L711.807 184.652 L711.807 215.277 L719.446 215.277 L719.446 219.212 L699.539 219.212 L699.539 215.277 Z\" fill=\"#000000\" fill-rule=\"nonzero\" fill-opacity=\"1\" /></svg>\n"
      ]
     },
     "execution_count": 138,
     "metadata": {},
     "output_type": "execute_result"
    }
   ],
   "source": [
    "y = (x .- 1).^7\n",
    "plot(x, y, xlabel=\"x\", ylabel=\"y\", title=\"y = (x - 1)^7\", titlefontsize=10)"
   ]
  },
  {
   "cell_type": "markdown",
   "metadata": {},
   "source": [
    "Q4.3. Explain what you found.\n",
    "\n",
    "**Solution**\n",
    "\n",
    "Clearly, `y = (x - 1)^7` produced smoother and more accurate plots. Conversely, the roughness observed in the other plots can be attributed to cumulative rounding errors stemming from numerous arithmetic operations."
   ]
  },
  {
   "cell_type": "markdown",
   "metadata": {},
   "source": [
    "## Q5. Woodbury formula\n",
    "\n",
    "Demonstrate the following results in Julia (one numerical example for each fact). Mathematically curious ones are encouraged to prove them. \n",
    "\n",
    "Q5.1. **Sherman-Morrison formula**:\n",
    "$$\n",
    "\t(\\mathbf{A} + \\mathbf{u} \\mathbf{u}^T)^{-1} = \\mathbf{A}^{-1} - \\frac{1}{1 + \\mathbf{u}^T \\mathbf{A}^{-1} \\mathbf{u}} \\mathbf{A}^{-1} \\mathbf{u} \\mathbf{u}^T \\mathbf{A}^{-1},\n",
    "$$\n",
    "where $\\mathbf{A} \\in \\mathbb{R}^{n \\times n}$ is nonsingular and $\\mathbf{u} \\in \\mathbb{R}^n$. This formula supplies the inverse of the symmetric, rank-one  perturbation of $\\mathbf{A}$.\n",
    "\n",
    "**Solution**\n",
    "\n",
    "Proving this is straightforward. Use the fact that $(\\mathbf{A} + \\mathbf{u} \\mathbf{u}^T)(\\mathbf{A} + \\mathbf{u} \\mathbf{u}^T)^{-1} = (\\mathbf{A} + \\mathbf{u} \\mathbf{u}^T)^{-1}(\\mathbf{A} + \\mathbf{u} \\mathbf{u}^T) =\\mathbf I_n$.\n",
    "\n",
    "$$\n",
    "\\begin{align*}\n",
    "\t(\\mathbf{A} + \\mathbf{u} \\mathbf{u}^T)(\\mathbf{A} + \\mathbf{u} \\mathbf{u}^T)^{-1}\n",
    "\t&= (\\mathbf{A} + \\mathbf{u} \\mathbf{u}^T)\\left(\\mathbf{A}^{-1} - \\frac{1}{1 + \\mathbf{u}^T \\mathbf{A}^{-1} \\mathbf{u}} \\mathbf{A}^{-1} \\mathbf{u} \\mathbf{u}^T \\mathbf{A}^{-1}\\right) \\\\\n",
    "\t&= \\mathbf I_n\n",
    "\t+ \\mathbf{u} \\mathbf{u}^T \\mathbf{A}^{-1}\n",
    "\t- \\frac{\\mathbf{u} \\mathbf{u}^T \\mathbf{A}^{-1}}{1 + \\mathbf{u}^T \\mathbf{A}^{-1} \\mathbf{u}} \n",
    "\t- \\frac{(\\mathbf{u} \\mathbf{u}^T \\mathbf{A}^{-1})(\\mathbf{u} \\mathbf{u}^T \\mathbf{A}^{-1})}{1 + \\mathbf{u}^T \\mathbf{A}^{-1} \\mathbf{u}}\\\\\n",
    "\t&= \\mathbf I_n\n",
    "\t+ \\frac{\\mathbf{u} \\mathbf{u}^T \\mathbf{A}^{-1}(\\mathbf{u}^T \\mathbf{A}^{-1} \\mathbf{u})}{1 + \\mathbf{u}^T \\mathbf{A}^{-1} \\mathbf{u}} \n",
    "\t- \\frac{\\mathbf{u} (\\mathbf{u}^T \\mathbf{A}^{-1}\\mathbf{u}) \\mathbf{u}^T \\mathbf{A}^{-1}}{1 + \\mathbf{u}^T \\mathbf{A}^{-1} \\mathbf{u}}\\\\\n",
    "\t& = \\mathbf I_n\n",
    "\\end{align*}\n",
    "$$\n",
    "since $\\mathbf{u}^T \\mathbf{A}^{-1}\\mathbf{u}$ is scalar. The same holds true for $(\\mathbf{A} + \\mathbf{u} \\mathbf{u}^T)^{-1}(\\mathbf{A} + \\mathbf{u} \\mathbf{u}^T) =\\mathbf I_n$. Let's demonstrate this formula."
   ]
  },
  {
   "cell_type": "code",
   "execution_count": 139,
   "metadata": {},
   "outputs": [
    {
     "data": {
      "text/plain": [
       "5×5 Matrix{Float64}:\n",
       " -3.82769    4.21818   1.49492    1.31681   -3.15513\n",
       "  2.6669    -1.69853  -0.619175  -0.828194   0.877865\n",
       "  4.95506   -5.11298  -3.31178    0.051452   4.10314\n",
       "  0.371063  -1.04998   0.760928  -0.235422   0.636954\n",
       " -2.70264    2.38692   1.19319   -0.494644  -0.445729"
      ]
     },
     "execution_count": 139,
     "metadata": {},
     "output_type": "execute_result"
    }
   ],
   "source": [
    "## set dimension\n",
    "n = 5\n",
    "## set seed number for reproducibility\n",
    "Random.seed!(257)\n",
    "\n",
    "## create random matrix A and vector u\n",
    "A = rand(n, n)\n",
    "u = rand(n)\n",
    "\n",
    "## compute the inverse of A + uu'\n",
    "inv(A + u * u')"
   ]
  },
  {
   "cell_type": "code",
   "execution_count": 140,
   "metadata": {},
   "outputs": [
    {
     "data": {
      "text/plain": [
       "true"
      ]
     },
     "execution_count": 140,
     "metadata": {},
     "output_type": "execute_result"
    }
   ],
   "source": [
    "## check two transpose functions just in case\n",
    "transpose(u) == u'"
   ]
  },
  {
   "cell_type": "code",
   "execution_count": 141,
   "metadata": {},
   "outputs": [
    {
     "data": {
      "text/plain": [
       "5×5 Matrix{Float64}:\n",
       " -3.82769    4.21818   1.49492    1.31681   -3.15513\n",
       "  2.6669    -1.69853  -0.619175  -0.828194   0.877865\n",
       "  4.95506   -5.11298  -3.31178    0.051452   4.10314\n",
       "  0.371063  -1.04998   0.760928  -0.235422   0.636954\n",
       " -2.70264    2.38692   1.19319   -0.494644  -0.445729"
      ]
     },
     "execution_count": 141,
     "metadata": {},
     "output_type": "execute_result"
    }
   ],
   "source": [
    "## compute Sherman-Morrison formula\n",
    "inv(A) - inv(A) * u * u' * inv(A) / (1 + u' * inv(A) * u)"
   ]
  },
  {
   "cell_type": "code",
   "execution_count": 142,
   "metadata": {},
   "outputs": [
    {
     "data": {
      "text/plain": [
       "true"
      ]
     },
     "execution_count": 142,
     "metadata": {},
     "output_type": "execute_result"
    }
   ],
   "source": [
    "## check for approximate equality \n",
    "isapprox(inv(A + u * u'), inv(A) - inv(A) * u * u' * inv(A) / (1 + u' * inv(A) * u))"
   ]
  },
  {
   "cell_type": "markdown",
   "metadata": {},
   "source": [
    "The two calculation results did not match numerically, but they were nearly identical as expected."
   ]
  },
  {
   "cell_type": "markdown",
   "metadata": {},
   "source": [
    "Q5.2. **Woodbury formula**:\n",
    "$$\n",
    "\t(\\mathbf{A} + \\mathbf{U} \\mathbf{V}^T)^{-1} = \\mathbf{A}^{-1} - \\mathbf{A}^{-1} \\mathbf{U} (\\mathbf{I}_m + \\mathbf{V}^T \\mathbf{A}^{-1} \\mathbf{U})^{-1} \\mathbf{V}^T \\mathbf{A}^{-1},\n",
    "$$\n",
    "where $\\mathbf{A} \\in \\mathbb{R}^{n \\times n}$ is nonsingular, $\\mathbf{U}, \\mathbf{V} \\in \\mathbb{R}^{n \\times m}$, and $\\mathbf{I}_m$ is the $m \\times m$ identity matrix. In many applications $m$ is much smaller than $n$. Woodbury formula generalizes Sherman-Morrison and is valuable because the smaller matrix $\\mathbf{I}_m + \\mathbf{V}^T \\mathbf{A}^{-1} \\mathbf{U}$ is cheaper to invert than the larger matrix $\\mathbf{A} + \\mathbf{U} \\mathbf{V}^T$.\n",
    "\n",
    "**Solution**\n",
    "\n",
    "The mathmetical proof is similar to part 1 which is a special case of part 2.\n",
    "\n",
    "$$\n",
    "\\begin{align*}\n",
    "\t(\\mathbf{A} + \\mathbf{U} \\mathbf{V}^T)(\\mathbf{A} + \\mathbf{U} \\mathbf{V}^T)^{-1}\n",
    "\t&= (\\mathbf{A} + \\mathbf{U} \\mathbf{V}^T)\\left[\\mathbf{A}^{-1} - \\mathbf{A}^{-1} \\mathbf{U} (\\mathbf{I}_m + \\mathbf{V}^T \\mathbf{A}^{-1} \\mathbf{U})^{-1} \\mathbf{V}^T \\mathbf{A}^{-1}\\right] \\\\\n",
    "\t&= \\mathbf I_n\n",
    "\t+ \\mathbf{U} \\mathbf{V}^T\\mathbf{A}^{-1}\n",
    "\t- \\mathbf{U} (\\mathbf{I}_m + \\mathbf{V}^T \\mathbf{A}^{-1} \\mathbf{U})^{-1} \\mathbf{V}^T \\mathbf{A}^{-1}\n",
    "\t- \\mathbf{U} \\mathbf{V}^T\\mathbf{A}^{-1} \\mathbf{U} (\\mathbf{I}_m + \\mathbf{V}^T \\mathbf{A}^{-1} \\mathbf{U})^{-1} \\mathbf{V}^T \\mathbf{A}^{-1}\\\\\n",
    "\t&= \\mathbf I_n\n",
    "\t+ \\mathbf{U} \\mathbf{V}^T\\mathbf{A}^{-1}\n",
    "\t- \\mathbf{U}(\\mathbf I_m + \\mathbf{V}^T \\mathbf{A}^{-1} \\mathbf{U}) (\\mathbf{I}_m + \\mathbf{V}^T \\mathbf{A}^{-1} \\mathbf{U})^{-1} \\mathbf{V}^T \\mathbf{A}^{-1}\\\\\n",
    "\t&= \\mathbf I_n\n",
    "\t+ \\mathbf{U} \\mathbf{V}^T\\mathbf{A}^{-1} - \\mathbf{U} \\mathbf{V}^T\\mathbf{A}^{-1} \\\\\n",
    "\t&= \\mathbf I_n.\n",
    "\\end{align*}\n",
    "$$"
   ]
  },
  {
   "cell_type": "code",
   "execution_count": 143,
   "metadata": {},
   "outputs": [
    {
     "data": {
      "text/plain": [
       "5×5 Matrix{Float64}:\n",
       "  0.373407   1.51113   -1.16456     0.477848   -1.10055\n",
       "  1.00656   -0.663587   0.0205683   0.0376375   0.0107823\n",
       "  1.07471    4.91673    0.103028   -3.19645    -2.94872\n",
       " -0.937604  -3.23361   -0.0723489   0.889171    3.12412\n",
       " -1.16993   -1.63572    1.36117     1.22144     0.813584"
      ]
     },
     "execution_count": 143,
     "metadata": {},
     "output_type": "execute_result"
    }
   ],
   "source": [
    "## set dimension\n",
    "n = 5\n",
    "m = 2\n",
    "\n",
    "## create random matrices A, U, V and a random vector u\n",
    "A = rand(n, n)\n",
    "U = rand(n, m)\n",
    "V = rand(n, m)\n",
    "\n",
    "## compute the inverse of A + UV'\n",
    "inv(A + U * V')"
   ]
  },
  {
   "cell_type": "code",
   "execution_count": 144,
   "metadata": {},
   "outputs": [
    {
     "data": {
      "text/plain": [
       "5×5 Matrix{Float64}:\n",
       "  0.373407   1.51113   -1.16456     0.477848   -1.10055\n",
       "  1.00656   -0.663587   0.0205683   0.0376375   0.0107823\n",
       "  1.07471    4.91673    0.103028   -3.19645    -2.94872\n",
       " -0.937604  -3.23361   -0.0723489   0.889171    3.12412\n",
       " -1.16993   -1.63572    1.36117     1.22144     0.813584"
      ]
     },
     "execution_count": 144,
     "metadata": {},
     "output_type": "execute_result"
    }
   ],
   "source": [
    "## compute Woodbury formula\n",
    "inv(A) - inv(A) * U * inv(I + V' * inv(A) * U) * V' * inv(A)"
   ]
  },
  {
   "cell_type": "code",
   "execution_count": 145,
   "metadata": {},
   "outputs": [
    {
     "data": {
      "text/plain": [
       "true"
      ]
     },
     "execution_count": 145,
     "metadata": {},
     "output_type": "execute_result"
    }
   ],
   "source": [
    "## check for approximate equality \n",
    "isapprox(inv(A + U * V'), inv(A) - inv(A) * U * inv(I + V' * inv(A) * U) * V' * inv(A))"
   ]
  },
  {
   "cell_type": "markdown",
   "metadata": {},
   "source": [
    "We were able to confirm the equality, ignoreing precision."
   ]
  },
  {
   "cell_type": "markdown",
   "metadata": {},
   "source": [
    "Q5.3. **Binomial inversion formula**:\n",
    "$$\n",
    "\t(\\mathbf{A} + \\mathbf{U} \\mathbf{B} \\mathbf{V}^T)^{-1} = \\mathbf{A}^{-1} - \\mathbf{A}^{-1} \\mathbf{U} (\\mathbf{B}^{-1} + \\mathbf{V}^T \\mathbf{A}^{-1} \\mathbf{U})^{-1} \\mathbf{V}^T \\mathbf{A}^{-1},\n",
    "$$\n",
    "where $\\mathbf{A}$ and $\\mathbf{B}$ are nonsingular.\n",
    "\n",
    "**Solution**\n",
    "\n",
    "Note $\\mathbf{B} \\in \\mathbb{R}^{m \\times m}$. The proof is almost the same as part 2, which is a special case of part 3.\n",
    "\n",
    "$$\n",
    "\\begin{align*}\n",
    "\t(\\mathbf{A} + \\mathbf{U} \\mathbf{B} \\mathbf{V}^T)(\\mathbf{A} + \\mathbf{U} \\mathbf{B} \\mathbf{V}^T)^{-1}\n",
    "\t&= (\\mathbf{A} + \\mathbf{U} \\mathbf{B} \\mathbf{V}^T)\\left[\\mathbf{A}^{-1} - \\mathbf{A}^{-1} \\mathbf{U} (\\mathbf{B}^{-1} + \\mathbf{V}^T \\mathbf{A}^{-1} \\mathbf{U})^{-1} \\mathbf{V}^T \\mathbf{A}^{-1}\\right] \\\\\n",
    "\t&= \\mathbf I_n\n",
    "\t+ \\mathbf{U} \\mathbf{B} \\mathbf{V}^T\\mathbf{A}^{-1}\n",
    "\t- \\mathbf{U} (\\mathbf{B}^{-1} + \\mathbf{V}^T \\mathbf{A}^{-1} \\mathbf{U})^{-1} \\mathbf{V}^T \\mathbf{A}^{-1} \n",
    "\t- \\mathbf{U} \\mathbf{B} \\mathbf{V}^T\\mathbf{A}^{-1} \\mathbf{U} (\\mathbf{B}^{-1} + \\mathbf{V}^T \\mathbf{A}^{-1} \\mathbf{U})^{-1} \\mathbf{V}^T \\mathbf{A}^{-1}\\\\\n",
    "\t&= \\mathbf I_n\n",
    "\t+ \\mathbf{U} \\mathbf{B} \\mathbf{V}^T\\mathbf{A}^{-1}\n",
    "\t- \\mathbf{U}\\mathbf{B}(\\mathbf{B}^{-1} + \\mathbf{V}^T \\mathbf{A}^{-1} \\mathbf{U}) (\\mathbf{B}^{-1} + \\mathbf{V}^T \\mathbf{A}^{-1} \\mathbf{U})^{-1} \\mathbf{V}^T \\mathbf{A}^{-1}\\\\\n",
    "\t&= \\mathbf I_n.\n",
    "\\end{align*}\n",
    "$$"
   ]
  },
  {
   "cell_type": "code",
   "execution_count": 146,
   "metadata": {},
   "outputs": [
    {
     "data": {
      "text/plain": [
       "5×5 Matrix{Float64}:\n",
       "  0.610104   1.71819   -1.30789     0.179619   -1.11653\n",
       "  1.00051   -0.661407   0.0346982   0.0642083   0.0057859\n",
       "  0.710453   4.66652    0.419405   -2.56407    -2.97362\n",
       " -0.711941  -3.05617   -0.236954    0.554235    3.12333\n",
       " -1.32588   -1.78823    1.43312     1.37724     0.835729"
      ]
     },
     "execution_count": 146,
     "metadata": {},
     "output_type": "execute_result"
    }
   ],
   "source": [
    "## create a random (nonsingular) matrix B\n",
    "B = rand(m, m)\n",
    "\n",
    "## compute the inverse of A + UBV'\n",
    "inv(A + U * B * V')"
   ]
  },
  {
   "cell_type": "code",
   "execution_count": 147,
   "metadata": {},
   "outputs": [
    {
     "data": {
      "text/plain": [
       "5×5 Matrix{Float64}:\n",
       "  0.610104   1.71819   -1.30789     0.179619   -1.11653\n",
       "  1.00051   -0.661407   0.0346982   0.0642083   0.0057859\n",
       "  0.710453   4.66652    0.419405   -2.56407    -2.97362\n",
       " -0.711941  -3.05617   -0.236954    0.554235    3.12333\n",
       " -1.32588   -1.78823    1.43312     1.37724     0.835729"
      ]
     },
     "execution_count": 147,
     "metadata": {},
     "output_type": "execute_result"
    }
   ],
   "source": [
    "## compute the Binomial inversion formula\n",
    "inv(A) - inv(A) * U * inv(inv(B) + V' * inv(A) * U) * V' * inv(A)"
   ]
  },
  {
   "cell_type": "code",
   "execution_count": 148,
   "metadata": {},
   "outputs": [
    {
     "data": {
      "text/plain": [
       "true"
      ]
     },
     "execution_count": 148,
     "metadata": {},
     "output_type": "execute_result"
    }
   ],
   "source": [
    "## check for approximate equality\n",
    "LHS = inv(A + U * B * V')\n",
    "RHS = inv(A) - inv(A) * U * inv(inv(B) + V' * inv(A) * U) * V' * inv(A)\n",
    "isapprox(LHS, RHS)"
   ]
  },
  {
   "cell_type": "markdown",
   "metadata": {},
   "source": [
    "\n",
    "\n",
    "Q5.4. **Determinant identity**:\n",
    "$$\n",
    "\t\\text{det}(\\mathbf{A} + \\mathbf{U} \\mathbf{V}^T) = \\text{det}(\\mathbf{A}) \\text{det}(\\mathbf{I}_m + \\mathbf{V}^T \\mathbf{A}^{-1} \\mathbf{U}).\n",
    "$$\n",
    "This formula is useful for evaluating the density of a multivariate normal with covariance matrix $\\mathbf{A} + \\mathbf{U} \\mathbf{V}^T$.\n",
    "\n",
    "**Solution**\n",
    "\n",
    "First, need to show an important determinant proporty: $\\det(\\mathbf I_n + \\mathbf{PQ}) = \\det(\\mathbf I_m + \\mathbf{QP})$, where $\\mathbf P\\in\\mathbb R^{n\\times m}$ and $\\mathbf Q\\in\\mathbb R^{m\\times n}$.\n",
    "$$\n",
    "\\begin{align*}\n",
    "    |\\mathbf I_n + \\mathbf{PQ}| &=\n",
    "    \\begin{vmatrix}\n",
    "    \\mathbf I_n + \\mathbf{PQ} & \\mathbf O_{n\\times m}\\\\\n",
    "    \\mathbf Q & \\mathbf I_m\n",
    "    \\end{vmatrix}\\\\\n",
    "    &= \\begin{vmatrix}\n",
    "    \\mathbf I_n & \\mathbf P\\\\\n",
    "    \\mathbf O_{m\\times n} & \\mathbf I_m\n",
    "    \\end{vmatrix}\n",
    "    \\begin{vmatrix}\n",
    "    \\mathbf I_n & - \\mathbf P\\\\\n",
    "    \\mathbf Q & \\mathbf I_m\n",
    "    \\end{vmatrix}\\\\\n",
    "    &= \\begin{vmatrix}\n",
    "    \\mathbf I_n & - \\mathbf P\\\\\n",
    "    \\mathbf Q & \\mathbf I_m\n",
    "    \\end{vmatrix}\n",
    "    \\begin{vmatrix}\n",
    "    \\mathbf I_n & \\mathbf P\\\\\n",
    "    \\mathbf O_{m\\times n} & \\mathbf I_m\n",
    "    \\end{vmatrix}\\\\\n",
    "    &= \\begin{vmatrix}\n",
    "    \\mathbf I_n & \\mathbf O_{n\\times m}\\\\\n",
    "    \\mathbf Q & \\mathbf I_m + \\mathbf{QP}\n",
    "    \\end{vmatrix}\\\\\n",
    "    &= |\\mathbf I_m + \\mathbf{QP}|,\n",
    "\\end{align*}\n",
    "$$\n",
    "where $|\\cdot| = \\det(\\cdot)$. Also, since $\\mathbf A$ is nonsingular, $\\mathbf A^{-1/2}$ exists. Using them, we can show the determinant identity as follows.\n",
    "$$\n",
    "\\begin{align*}\n",
    "\t\\text{det}(\\mathbf{A} + \\mathbf{U} \\mathbf{V}^T)\n",
    "\t&= \\det(\\mathbf{A}^{1/2}) \\text{det}(\\mathbf{I}_n + \\mathbf A^{-1/2}\\mathbf{U} \\mathbf{V}^T\\mathbf A^{-1/2})\\det(\\mathbf{A}^{1/2})\\\\\n",
    "\t&= \\det(\\mathbf{A}) \\det(\\mathbf{I}_m + \\mathbf{V}^T\\mathbf A^{-1/2}\\mathbf A^{-1/2}\\mathbf{U})\\\\\n",
    "\t&= \\det(\\mathbf{A}) \\det(\\mathbf{I}_m + \\mathbf{V}^T\\mathbf A^{-1}\\mathbf{U}).\n",
    "\\end{align*}\n",
    "$$"
   ]
  },
  {
   "cell_type": "code",
   "execution_count": 149,
   "metadata": {},
   "outputs": [
    {
     "name": "stdout",
     "output_type": "stream",
     "text": [
      "LHS: 0.15356538499616754\n",
      "RHS: 0.15356538499616754\n"
     ]
    },
    {
     "data": {
      "text/plain": [
       "true"
      ]
     },
     "execution_count": 149,
     "metadata": {},
     "output_type": "execute_result"
    }
   ],
   "source": [
    "## demonstrate this formula\n",
    "println(\"LHS: \", det(A + U * V'))\n",
    "println(\"RHS: \", det(A) * det(I + V' * inv(A) * U))\n",
    "isapprox(det(A + U * V'), det(A) * det(I + V' * inv(A) * U))"
   ]
  },
  {
   "cell_type": "markdown",
   "metadata": {},
   "source": [
    "We see that the two determinant forms were almost identical."
   ]
  },
  {
   "cell_type": "markdown",
   "metadata": {},
   "source": [
    "## Q6. Triangular matrix and orthogonal matrix\n",
    "\n",
    "Demonstrate the following facts about triangular and orthogonal matrices in Julia (one numerical example for each fact). Mathematically curious ones are encouraged to prove them. \n",
    "\n",
    "Note a unit triangular matrix is a triangular matrix with all diagonal entries being 1.\n",
    "\n",
    "Q6.1. The product of two upper (lower) triangular matrices is upper (lower) triangular.\n",
    "\n",
    "**Solution**\n",
    "\n",
    "We can prove this even though the two confortable matrices are *not* square. Let $\\mathbf A = (a_{ij}) \\in\\mathbb R^{p\\times q}$ and $\\mathbf B = (b_{jk}) \\in\\mathbb R^{q\\times r}$ be both upper triangular matrices. In other words, we have $a_{ij} = 0 \\ (i > j)$ and $b_{jk} = 0 \\ (j > k)$. Further let $\\mathbf C = \\mathbf{AB} = (c_{ik}) \\in\\mathbb R^{p\\times r}$.\n",
    "\n",
    "If $i > q$, then\n",
    "$$\n",
    "\\begin{align*}\n",
    "    c_{ik} = \\sum_{j=1}^q a_{ij} b_{jk} = 0 \\quad\\because a_{ij} = 0.\n",
    "\\end{align*}\n",
    "$$\n",
    "regardless of $k$.\n",
    "\n",
    "If $q \\ge i > k$, then\n",
    "$$\n",
    "\\begin{align*}\n",
    "    c_{ik}\n",
    "    &= \\sum_{j=1}^q a_{ij} b_{jk}\\\\\n",
    "    &= \\sum_{j=1}^{i-1} a_{ij} b_{jk} + \\sum_{j=i}^{q} a_{ij} b_{jk}\\\\\n",
    "    &= \\sum_{j=1}^{i-1} 0 \\cdot b_{jk} + \\sum_{j=i}^{q} a_{ij} \\cdot 0\\\\\n",
    "    &= 0.\n",
    "\\end{align*}\n",
    "$$\n",
    "Therefore, at least $c_{ik} = 0$ for $i > k$, i.e., $\\mathbf C$ is also upper triangular. Taking transpose shows the lower triangular case, that is, $\\mathbf C' = \\mathbf B'\\mathbf A'$ is lower triangular, equaling the product of the two lower trangular matrices $\\mathbf B'$ and $\\mathbf A'$. Let's demonstrate it."
   ]
  },
  {
   "cell_type": "code",
   "execution_count": 150,
   "metadata": {},
   "outputs": [
    {
     "data": {
      "text/plain": [
       "5×5 UpperTriangular{Float64, Matrix{Float64}}:\n",
       " 0.425947  0.731078  0.885057   0.476868  0.692699\n",
       "  ⋅        0.828167  0.967795   0.413354  0.968143\n",
       "  ⋅         ⋅        0.0234682  0.734419  0.322677\n",
       "  ⋅         ⋅         ⋅         0.866914  0.357313\n",
       "  ⋅         ⋅         ⋅          ⋅        0.245642"
      ]
     },
     "metadata": {},
     "output_type": "display_data"
    },
    {
     "data": {
      "text/plain": [
       "5×5 UpperTriangular{Float64, Matrix{Float64}}:\n",
       " 0.602258  0.0774286  0.288015  0.133871  0.0100881\n",
       "  ⋅        0.483782   0.594619  0.184243  0.387776\n",
       "  ⋅         ⋅         0.838292  0.393069  0.53447\n",
       "  ⋅         ⋅          ⋅        0.70931   0.946716\n",
       "  ⋅         ⋅          ⋅         ⋅        0.541683"
      ]
     },
     "metadata": {},
     "output_type": "display_data"
    }
   ],
   "source": [
    "## set dimension\n",
    "n = 5\n",
    "\n",
    "## create random upper triangular matrices A and B\n",
    "A = UpperTriangular(rand(n, n))\n",
    "B = UpperTriangular(rand(n, n))\n",
    "\n",
    "## display A and B\n",
    "display(A)\n",
    "display(B)"
   ]
  },
  {
   "cell_type": "code",
   "execution_count": 151,
   "metadata": {},
   "outputs": [
    {
     "data": {
      "text/plain": [
       "5×5 UpperTriangular{Float64, Matrix{Float64}}:\n",
       " 0.25653  0.386663  1.29933    0.877854  1.58751\n",
       "  ⋅       0.400652  1.30374    0.82619   1.75416\n",
       "  ⋅        ⋅        0.0196732  0.530156  0.882618\n",
       "  ⋅        ⋅         ⋅         0.614911  1.01427\n",
       "  ⋅        ⋅         ⋅          ⋅        0.13306"
      ]
     },
     "execution_count": 151,
     "metadata": {},
     "output_type": "execute_result"
    }
   ],
   "source": [
    "## The product of two upper triangular matrices\n",
    "A * B"
   ]
  },
  {
   "cell_type": "markdown",
   "metadata": {},
   "source": [
    "Indeed, the product is also upper triangular. The same is true for lower triangular matrices:"
   ]
  },
  {
   "cell_type": "code",
   "execution_count": 152,
   "metadata": {},
   "outputs": [
    {
     "data": {
      "text/plain": [
       "5×5 LowerTriangular{Float64, Matrix{Float64}}:\n",
       " 0.879451    ⋅          ⋅         ⋅         ⋅ \n",
       " 0.0830385  0.626766    ⋅         ⋅         ⋅ \n",
       " 0.434459   0.803158   0.782676   ⋅         ⋅ \n",
       " 0.904537   0.677514   0.250751  0.240586   ⋅ \n",
       " 0.608166   0.0693748  0.911192  0.473114  0.872682"
      ]
     },
     "metadata": {},
     "output_type": "display_data"
    },
    {
     "data": {
      "text/plain": [
       "5×5 LowerTriangular{Float64, Matrix{Float64}}:\n",
       " 0.299737    ⋅          ⋅         ⋅         ⋅ \n",
       " 0.0613531  0.929449    ⋅         ⋅         ⋅ \n",
       " 0.477315   0.0684691  0.684837   ⋅         ⋅ \n",
       " 0.288604   0.478944   0.477802  0.9158     ⋅ \n",
       " 0.29543    0.0373603  0.189718  0.592968  0.152191"
      ]
     },
     "metadata": {},
     "output_type": "display_data"
    },
    {
     "data": {
      "text/plain": [
       "5×5 LowerTriangular{Float64, Matrix{Float64}}:\n",
       " 0.263604    ⋅         ⋅         ⋅         ⋅ \n",
       " 0.0633438  0.582547   ⋅         ⋅         ⋅ \n",
       " 0.553083   0.800083  0.536005   ⋅         ⋅ \n",
       " 0.501813   0.762111  0.286676  0.220329   ⋅ \n",
       " 1.01583    0.386067  1.01564   0.95075   0.132814"
      ]
     },
     "execution_count": 152,
     "metadata": {},
     "output_type": "execute_result"
    }
   ],
   "source": [
    "## lower matrix version\n",
    "A = LowerTriangular(rand(n, n))\n",
    "B = LowerTriangular(rand(n, n))\n",
    "display(A)\n",
    "display(B)\n",
    "A * B"
   ]
  },
  {
   "cell_type": "markdown",
   "metadata": {},
   "source": [
    "Q6.2. The inverse of an upper (lower) triangular matrix is upper (lower) triangular.\n",
    "\n",
    "**Solution**\n",
    "\n",
    "Find $\\mathbf A \\mathbf B$ such that $\\mathbf{AB} = \\mathbf I_n$, where $\\mathbf A \\in \\mathbb R^{n\\times n}$ is an upper triangular matrix. Let $\\mathbf b_j$ be the $j$-th column of $\\mathbf B$, then we have\n",
    "$$\\begin{align*}\n",
    "    \\begin{pmatrix}\n",
    "        a_{11} & \\cdots & a_{1j} & \\cdots & a_{1, n-1} & a_{1n}\\\\\n",
    "        \\vdots  &  \\ddots & \\vdots & \\vdots & \\vdots & \\vdots\\\\\n",
    "        0 &  \\cdots & a_{jj} & \\cdots & a_{j, n-1} & a_{jn}\\\\\n",
    "        \\vdots & \\ddots & \\vdots & \\ddots & \\vdots & \\vdots\\\\\n",
    "        0 & \\cdots & 0 & \\cdots & a_{n-1, n-1} & a_{n-1, n}\\\\\n",
    "        0 & \\cdots & 0 & \\cdots & 0 & a_{nn}\n",
    "    \\end{pmatrix}\n",
    "    \\begin{pmatrix}\n",
    "        b_{1j}\\\\\n",
    "        \\vdots\\\\\n",
    "        b_{jj}\\\\\n",
    "        \\vdots\\\\\n",
    "        b_{n-1, j}\\\\\n",
    "        b_{nj}\n",
    "    \\end{pmatrix}\n",
    "    = \\begin{pmatrix}\n",
    "        0\\\\\n",
    "        \\vdots\\\\\n",
    "        1\\\\\n",
    "        \\vdots\\\\\n",
    "        0\\\\\n",
    "        0\n",
    "    \\end{pmatrix}.\n",
    "\\end{align*}\n",
    "$$\n",
    "Note that $a_{jj} \\ne 0$ for all $j = 1, \\ldots, n$ since otherwise $\\mathbf A$ is not invertible ($\\det\\mathbf A=0$).\n",
    "\n",
    "The backward calculation up to $j+1$ th row gives $b_{nj} = b_{n-1, j} = \\cdots = b_{j+1, j} = 0$, i.e., $b_{ij} = 0$ for $i > j$. This means that $\\mathbf B = \\mathbf A^{-1}$ is also upper triangular. Taking transpose shows the lower triangular case, i.e., consider $\\mathbf{B}'\\mathbf{A}' = \\mathbf I_n$ and $\\mathbf B' = \\mathbf A^{-T}$. The demonstration results for upper and lower matrices are shown below."
   ]
  },
  {
   "cell_type": "code",
   "execution_count": 153,
   "metadata": {},
   "outputs": [
    {
     "data": {
      "text/plain": [
       "5×5 UpperTriangular{Float64, Matrix{Float64}}:\n",
       " 0.667828  0.0218884  0.834666  0.487758  0.0672113\n",
       "  ⋅        0.041714   0.104706  0.730054  0.138238\n",
       "  ⋅         ⋅         0.998044  0.420132  0.566779\n",
       "  ⋅         ⋅          ⋅        0.128317  0.1946\n",
       "  ⋅         ⋅          ⋅         ⋅        0.623401"
      ]
     },
     "metadata": {},
     "output_type": "display_data"
    },
    {
     "data": {
      "text/plain": [
       "5×5 UpperTriangular{Float64, Matrix{Float64}}:\n",
       " 1.49739  -0.785719  -1.16984     2.60869   0.262052\n",
       "  ⋅       23.9728    -2.51502  -128.158    36.9762\n",
       "  ⋅         ⋅         1.00196    -3.28059   0.113111\n",
       "  ⋅         ⋅          ⋅          7.79321  -2.43272\n",
       "  ⋅         ⋅          ⋅           ⋅        1.6041"
      ]
     },
     "metadata": {},
     "output_type": "display_data"
    },
    {
     "data": {
      "text/plain": [
       "5×5 LowerTriangular{Float64, Matrix{Float64}}:\n",
       " 0.516204   ⋅          ⋅           ⋅         ⋅ \n",
       " 0.303587  0.0151006   ⋅           ⋅         ⋅ \n",
       " 0.565507  0.90058    0.690825     ⋅         ⋅ \n",
       " 0.904174  0.0502866  0.00316535  0.580266   ⋅ \n",
       " 0.458485  0.996533   0.84066     0.95842   0.140852"
      ]
     },
     "metadata": {},
     "output_type": "display_data"
    },
    {
     "data": {
      "text/plain": [
       "5×5 LowerTriangular{Float64, Matrix{Float64}}:\n",
       "   1.93722       ⋅        ⋅             ⋅        ⋅ \n",
       " -38.9464      66.2226    ⋅             ⋅        ⋅ \n",
       "  49.1859     -86.3297   1.44754        ⋅        ⋅ \n",
       "   0.0882512   -5.268   -0.00789634    1.72335   ⋅ \n",
       " -24.9197      82.5682  -8.58577     -11.7264   7.09964"
      ]
     },
     "metadata": {},
     "output_type": "display_data"
    }
   ],
   "source": [
    "## set dimension\n",
    "n = 5\n",
    "\n",
    "## create random upper triangular matrix A\n",
    "A = UpperTriangular(rand(n, n))\n",
    "display(A)\n",
    "## obtain inverse of A\n",
    "display(inv(A))\n",
    "\n",
    "## create random lower triangular matrix A\n",
    "B = LowerTriangular(rand(n, n))\n",
    "display(B)\n",
    "## obtain inverse of A\n",
    "display(inv(B))"
   ]
  },
  {
   "cell_type": "markdown",
   "metadata": {},
   "source": [
    "These demonstrations are consistent with the mathematical argument."
   ]
  },
  {
   "cell_type": "markdown",
   "metadata": {},
   "source": [
    "Q6.3. The product of two unit upper (lower) triangular matrices is unit upper (lower) triangular.\n",
    "\n",
    "**Solution**\n",
    "\n",
    "The proof is the same as Q.6.1 since a unit upper triangular matrix is a special cases of an upper triangular matrix."
   ]
  },
  {
   "cell_type": "code",
   "execution_count": 154,
   "metadata": {},
   "outputs": [
    {
     "data": {
      "text/plain": [
       "5×5 UnitUpperTriangular{Float64, Matrix{Float64}}:\n",
       " 1.0  0.963476  0.84303   0.496946  0.269768\n",
       "  ⋅   1.0       0.859301  0.528045  0.569842\n",
       "  ⋅    ⋅        1.0       0.909628  0.313793\n",
       "  ⋅    ⋅         ⋅        1.0       0.894396\n",
       "  ⋅    ⋅         ⋅         ⋅        1.0"
      ]
     },
     "metadata": {},
     "output_type": "display_data"
    },
    {
     "data": {
      "text/plain": [
       "5×5 UnitUpperTriangular{Float64, Matrix{Float64}}:\n",
       " 1.0  0.838192  0.899316  0.113691  0.921796\n",
       "  ⋅   1.0       0.679782  0.011614  0.873357\n",
       "  ⋅    ⋅        1.0       0.436755  0.294433\n",
       "  ⋅    ⋅         ⋅        1.0       0.00806101\n",
       "  ⋅    ⋅         ⋅         ⋅        1.0"
      ]
     },
     "metadata": {},
     "output_type": "display_data"
    },
    {
     "data": {
      "text/plain": [
       "5×5 UnitUpperTriangular{Float64, Matrix{Float64}}:\n",
       " 1.0  1.80167  2.3973   0.990025  2.28524\n",
       "  ⋅   1.0      1.53908  0.914963  1.70046\n",
       "  ⋅    ⋅       1.0      1.34638   0.615559\n",
       "  ⋅    ⋅        ⋅       1.0       0.902457\n",
       "  ⋅    ⋅        ⋅        ⋅        1.0"
      ]
     },
     "execution_count": 154,
     "metadata": {},
     "output_type": "execute_result"
    }
   ],
   "source": [
    "## Unit` upper triangular matrices A and B\n",
    "A = UnitUpperTriangular(rand(n, n))\n",
    "B = UnitUpperTriangular(rand(n, n))\n",
    "display(A)\n",
    "display(B)\n",
    "\n",
    "## obtain the product\n",
    "A * B"
   ]
  },
  {
   "cell_type": "code",
   "execution_count": 155,
   "metadata": {},
   "outputs": [
    {
     "data": {
      "text/plain": [
       "5×5 UnitLowerTriangular{Float64, Matrix{Float64}}:\n",
       " 1.0        ⋅          ⋅         ⋅         ⋅ \n",
       " 0.728427  1.0         ⋅         ⋅         ⋅ \n",
       " 0.416968  0.711463   1.0        ⋅         ⋅ \n",
       " 0.453588  0.46308    0.376572  1.0        ⋅ \n",
       " 0.352945  0.0586231  0.825716  0.577144  1.0"
      ]
     },
     "metadata": {},
     "output_type": "display_data"
    },
    {
     "data": {
      "text/plain": [
       "5×5 UnitLowerTriangular{Float64, Matrix{Float64}}:\n",
       " 1.0         ⋅         ⋅         ⋅         ⋅ \n",
       " 0.0742389  1.0        ⋅         ⋅         ⋅ \n",
       " 0.115106   0.194098  1.0        ⋅         ⋅ \n",
       " 0.0787194  0.822163  0.113169  1.0        ⋅ \n",
       " 0.446944   0.220059  0.839607  0.520315  1.0"
      ]
     },
     "metadata": {},
     "output_type": "display_data"
    },
    {
     "data": {
      "text/plain": [
       "5×5 UnitLowerTriangular{Float64, Matrix{Float64}}:\n",
       " 1.0        ⋅         ⋅         ⋅        ⋅ \n",
       " 0.802666  1.0        ⋅         ⋅        ⋅ \n",
       " 0.584893  0.905561  1.0        ⋅        ⋅ \n",
       " 0.610032  1.35833   0.489741  1.0       ⋅ \n",
       " 0.944718  0.913458  1.73064   1.09746  1.0"
      ]
     },
     "execution_count": 155,
     "metadata": {},
     "output_type": "execute_result"
    }
   ],
   "source": [
    "## `Unit` lower triangular matrices A and B\n",
    "A = UnitLowerTriangular(rand(n, n))\n",
    "B = UnitLowerTriangular(rand(n, n))\n",
    "display(A)\n",
    "display(B)\n",
    "A * B"
   ]
  },
  {
   "cell_type": "markdown",
   "metadata": {},
   "source": [
    "Q6.4. The inverse of a unit upper (lower) triangular matrix is unit upper (lower) triangular.\n",
    "\n",
    "**Solution**\n",
    "\n",
    "The proof is almost the same as Q.6.2 except for additoinal equation, which holds $b_{jj} = 1$ by $a_{jj}=1$ for all $j = 1, \\ldots, n$ in this case."
   ]
  },
  {
   "cell_type": "code",
   "execution_count": 156,
   "metadata": {},
   "outputs": [
    {
     "data": {
      "text/plain": [
       "5×5 UnitUpperTriangular{Float64, Matrix{Float64}}:\n",
       " 1.0  0.859694  0.254385  0.698187  0.906472\n",
       "  ⋅   1.0       0.115927  0.98563   0.481634\n",
       "  ⋅    ⋅        1.0       0.873746  0.923392\n",
       "  ⋅    ⋅         ⋅        1.0       0.712468\n",
       "  ⋅    ⋅         ⋅         ⋅        1.0"
      ]
     },
     "metadata": {},
     "output_type": "display_data"
    },
    {
     "data": {
      "text/plain": [
       "5×5 UnitUpperTriangular{Float64, Matrix{Float64}}:\n",
       " 1.0  -0.859694  -0.154723   0.284341  -0.552128\n",
       "  ⋅    1.0       -0.115927  -0.88434    0.255476\n",
       "  ⋅     ⋅         1.0       -0.873746  -0.300875\n",
       "  ⋅     ⋅          ⋅         1.0       -0.712468\n",
       "  ⋅     ⋅          ⋅          ⋅         1.0"
      ]
     },
     "metadata": {},
     "output_type": "display_data"
    },
    {
     "data": {
      "text/plain": [
       "5×5 UnitLowerTriangular{Float64, Matrix{Float64}}:\n",
       " 1.0        ⋅         ⋅         ⋅         ⋅ \n",
       " 0.15663   1.0        ⋅         ⋅         ⋅ \n",
       " 0.295579  0.261007  1.0        ⋅         ⋅ \n",
       " 0.114833  0.80242   0.68272   1.0        ⋅ \n",
       " 0.515407  0.952826  0.530892  0.756613  1.0"
      ]
     },
     "metadata": {},
     "output_type": "display_data"
    },
    {
     "data": {
      "text/plain": [
       "5×5 UnitLowerTriangular{Float64, Matrix{Float64}}:\n",
       "  1.0         ⋅          ⋅          ⋅         ⋅ \n",
       " -0.15663    1.0         ⋅          ⋅         ⋅ \n",
       " -0.254698  -0.261007   1.0         ⋅         ⋅ \n",
       "  0.184737  -0.624226  -0.68272    1.0        ⋅ \n",
       " -0.370724  -0.341962  -0.014337  -0.756613  1.0"
      ]
     },
     "metadata": {},
     "output_type": "display_data"
    }
   ],
   "source": [
    "## create random unit upper triangular matrix A\n",
    "A = UnitUpperTriangular(rand(n, n))\n",
    "display(A)\n",
    "display(inv(A))\n",
    "\n",
    "## create random unit lower triangular matrix A\n",
    "B = UnitLowerTriangular(rand(n, n))\n",
    "display(B)\n",
    "display(inv(B))"
   ]
  },
  {
   "cell_type": "markdown",
   "metadata": {},
   "source": [
    "Q6.5. An orthogonal upper (lower) triangular matrix is diagonal. (You just need to prove this.)\n",
    "\n",
    "**Solution**\n",
    "\n",
    "Assume that $\\mathbf Q$ is an orthogonal upper (lower) triangular matrix. By definition, we have $\\mathbf Q' = \\mathbf Q^{-1}$. By Q6.2, $\\mathbf Q^{-1}$ is also upper (lower) triangular. However, $\\mathbf Q'$ is lower (upper) triangluar, suggesting that $\\mathbf Q$ must be diagonal to satisfy $\\mathbf Q' = \\mathbf Q^{-1}$."
   ]
  },
  {
   "cell_type": "markdown",
   "metadata": {},
   "source": [
    "Q6.6. The product of two orthogonal matrices is orthogonal.\n",
    "\n",
    "**Solution**\n",
    "\n",
    "Mathemetical proof is straightforward. Assume that $\\mathbf Q_1$ and $\\mathbf Q_2$ are orthogonal, then by definition,\n",
    "$$\n",
    "\\begin{align*}\n",
    "\\mathbf Q_1\\mathbf Q_2(\\mathbf Q_1\\mathbf Q_2)' &= \\mathbf Q_1(\\mathbf Q_2\\mathbf Q_2')\\mathbf Q_1' = \\mathbf Q_1\\mathbf Q_1' = \\mathbf I\\\\\n",
    "(\\mathbf Q_1\\mathbf Q_2)'\\mathbf Q_1\\mathbf Q_2 &= \\mathbf Q_2'(\\mathbf Q_1'\\mathbf Q_1)\\mathbf Q_2 = \\mathbf Q_2'\\mathbf Q_2 = \\mathbf I,\n",
    "\\end{align*}\n",
    "$$\n",
    "proving that $\\mathbf Q_1\\mathbf Q_2$ is also orthogonal by definition.\n",
    "\n",
    "For the demonstration, we use the QR decomposition to obtain two orthogonal matrices."
   ]
  },
  {
   "cell_type": "code",
   "execution_count": 157,
   "metadata": {},
   "outputs": [
    {
     "name": "stdout",
     "output_type": "stream",
     "text": [
      "QQ' = I? true\n",
      "Q'Q = I? true\n"
     ]
    }
   ],
   "source": [
    "## get Q1 by QR decomposition\n",
    "A = rand(n, n)\n",
    "Q1, R1 = qr(A)\n",
    "\n",
    "## get Q2 by QR decomposition\n",
    "B = rand(n, n)\n",
    "Q2, R2 = qr(A)\n",
    "\n",
    "## check for the orthogonality of Q = Q1 * Q2\n",
    "Q = Q1 * Q2\n",
    "println(\"QQ' = I? \", isapprox(Q * Q', I))\n",
    "println(\"Q'Q = I? \", isapprox(Q' * Q, I))"
   ]
  },
  {
   "cell_type": "markdown",
   "metadata": {},
   "source": [
    "The orthogonality of $\\mathbf Q = \\mathbf Q_1\\mathbf Q_2$ was shown by checking the definition."
   ]
  },
  {
   "cell_type": "markdown",
   "metadata": {},
   "source": [
    "## Q7. Looping\n",
    "\n",
    "Let the $n \\times n$ matrix `H` have elements `H[i, j] = 1 / (i + j - 1)`.  \n",
    "\n",
    "Q7.1. Write a function `h(n)` that outputs $n \\times n$ matrix `H`. Try at least 4 ways, e.g., $ij$-looping, $ji$-looping, [comprehension](https://docs.julialang.org/en/v1/manual/arrays/#man-comprehensions), and vectorization (R style). Compute and print `H` for `n = 5`.   \n",
    "\n",
    "**Solution**"
   ]
  },
  {
   "cell_type": "code",
   "execution_count": 158,
   "metadata": {},
   "outputs": [
    {
     "data": {
      "text/plain": [
       "5×5 Matrix{Float64}:\n",
       " 1.0       0.5       0.333333  0.25      0.2\n",
       " 0.5       0.333333  0.25      0.2       0.166667\n",
       " 0.333333  0.25      0.2       0.166667  0.142857\n",
       " 0.25      0.2       0.166667  0.142857  0.125\n",
       " 0.2       0.166667  0.142857  0.125     0.111111"
      ]
     },
     "execution_count": 158,
     "metadata": {},
     "output_type": "execute_result"
    }
   ],
   "source": [
    "## 1. ij-looping\n",
    "function h1(n)\n",
    "    H = Matrix{Float64}(undef, n, n)\n",
    "    for i in 1:n\n",
    "        for j in 1:n\n",
    "            H[i, j] = 1 / (i + j - 1)\n",
    "        end\n",
    "    end\n",
    "    return H\n",
    "end\n",
    "h1(5)"
   ]
  },
  {
   "cell_type": "code",
   "execution_count": 159,
   "metadata": {},
   "outputs": [
    {
     "data": {
      "text/plain": [
       "5×5 Matrix{Float64}:\n",
       " 1.0       0.5       0.333333  0.25      0.2\n",
       " 0.5       0.333333  0.25      0.2       0.166667\n",
       " 0.333333  0.25      0.2       0.166667  0.142857\n",
       " 0.25      0.2       0.166667  0.142857  0.125\n",
       " 0.2       0.166667  0.142857  0.125     0.111111"
      ]
     },
     "execution_count": 159,
     "metadata": {},
     "output_type": "execute_result"
    }
   ],
   "source": [
    "## 2. ji-looping\n",
    "function h2(n)\n",
    "    H = Matrix{Float64}(undef, n, n)\n",
    "    for j in 1:n\n",
    "        for i in 1:n\n",
    "            H[i, j] = 1 / (i + j - 1)\n",
    "        end\n",
    "    end\n",
    "    return H\n",
    "end\n",
    "h2(5)"
   ]
  },
  {
   "cell_type": "code",
   "execution_count": 160,
   "metadata": {},
   "outputs": [
    {
     "data": {
      "text/plain": [
       "5×5 Matrix{Float64}:\n",
       " 1.0       0.5       0.333333  0.25      0.2\n",
       " 0.5       0.333333  0.25      0.2       0.166667\n",
       " 0.333333  0.25      0.2       0.166667  0.142857\n",
       " 0.25      0.2       0.166667  0.142857  0.125\n",
       " 0.2       0.166667  0.142857  0.125     0.111111"
      ]
     },
     "execution_count": 160,
     "metadata": {},
     "output_type": "execute_result"
    }
   ],
   "source": [
    "## 3. comprehension\n",
    "function h3(n)\n",
    "    [1 / (i + j - 1) for i in 1:n, j in 1:n]\n",
    "end\n",
    "h3(5)"
   ]
  },
  {
   "cell_type": "code",
   "execution_count": 161,
   "metadata": {},
   "outputs": [
    {
     "data": {
      "text/plain": [
       "5×5 Matrix{Float64}:\n",
       " 1.0       0.5       0.333333  0.25      0.2\n",
       " 0.5       0.333333  0.25      0.2       0.166667\n",
       " 0.333333  0.25      0.2       0.166667  0.142857\n",
       " 0.25      0.2       0.166667  0.142857  0.125\n",
       " 0.2       0.166667  0.142857  0.125     0.111111"
      ]
     },
     "execution_count": 161,
     "metadata": {},
     "output_type": "execute_result"
    }
   ],
   "source": [
    "## 4. vectorization (R style)\n",
    "H = Matrix{Float64}(undef, n, n)\n",
    "function h4(n)\n",
    "    i = 1:n\n",
    "    # j = 1:n\n",
    "    # return 1 ./ (i' .+ j .- 1)\n",
    "    return 1 ./ (i' .+ i .- 1)\n",
    "end\n",
    "h4(5)"
   ]
  },
  {
   "cell_type": "code",
   "execution_count": 162,
   "metadata": {},
   "outputs": [],
   "source": [
    "# ## 5. LoopVectorization.@turbo\n",
    "# using LoopVectorization\n",
    "# function h5(n)\n",
    "#     H = Matrix{Float64}(undef, n, n)\n",
    "#     @turbo for i in 1:n, j in 1:n\n",
    "#         H[i, j] = 1 / (i + j - 1)\n",
    "#     end\n",
    "#     return H\n",
    "# end\n",
    "# h5(5)"
   ]
  },
  {
   "cell_type": "markdown",
   "metadata": {},
   "source": [
    "\n",
    "Q7.2. Compare their speed and memory efficiencies using `BenchmarkTools.jl` at `n = 5000`.\n",
    "\n",
    "**Solution**"
   ]
  },
  {
   "cell_type": "code",
   "execution_count": 163,
   "metadata": {},
   "outputs": [
    {
     "data": {
      "text/plain": [
       "Dict{Any, Any}()"
      ]
     },
     "execution_count": 163,
     "metadata": {},
     "output_type": "execute_result"
    }
   ],
   "source": [
    "using BenchmarkTools\n",
    "n = 5000\n",
    "# Initialize a dictionary to store benchmark results\n",
    "benchmark_result = Dict() "
   ]
  },
  {
   "cell_type": "code",
   "execution_count": 164,
   "metadata": {},
   "outputs": [
    {
     "data": {
      "text/plain": [
       "BenchmarkTools.Trial: 46 samples with 1 evaluation.\n",
       " Range \u001b[90m(\u001b[39m\u001b[36m\u001b[1mmin\u001b[22m\u001b[39m … \u001b[35mmax\u001b[39m\u001b[90m):  \u001b[39m\u001b[36m\u001b[1m100.061 ms\u001b[22m\u001b[39m … \u001b[35m188.636 ms\u001b[39m  \u001b[90m┊\u001b[39m GC \u001b[90m(\u001b[39mmin … max\u001b[90m): \u001b[39m0.00% … 45.00%\n",
       " Time  \u001b[90m(\u001b[39m\u001b[34m\u001b[1mmedian\u001b[22m\u001b[39m\u001b[90m):     \u001b[39m\u001b[34m\u001b[1m105.949 ms               \u001b[22m\u001b[39m\u001b[90m┊\u001b[39m GC \u001b[90m(\u001b[39mmedian\u001b[90m):    \u001b[39m2.72%\n",
       " Time  \u001b[90m(\u001b[39m\u001b[32m\u001b[1mmean\u001b[22m\u001b[39m ± \u001b[32mσ\u001b[39m\u001b[90m):   \u001b[39m\u001b[32m\u001b[1m109.975 ms\u001b[22m\u001b[39m ± \u001b[32m 16.768 ms\u001b[39m  \u001b[90m┊\u001b[39m GC \u001b[90m(\u001b[39mmean ± σ\u001b[90m):  \u001b[39m5.46% ±  8.80%\n",
       "\n",
       "  \u001b[39m▄\u001b[39m \u001b[39m█\u001b[39m▆\u001b[34m▃\u001b[39m\u001b[39m▄\u001b[39m▁\u001b[32m \u001b[39m\u001b[39m \u001b[39m \u001b[39m \u001b[39m \u001b[39m \u001b[39m \u001b[39m \u001b[39m \u001b[39m \u001b[39m \u001b[39m \u001b[39m \u001b[39m \u001b[39m \u001b[39m \u001b[39m \u001b[39m \u001b[39m \u001b[39m \u001b[39m \u001b[39m \u001b[39m \u001b[39m \u001b[39m \u001b[39m \u001b[39m \u001b[39m \u001b[39m \u001b[39m \u001b[39m \u001b[39m \u001b[39m \u001b[39m \u001b[39m \u001b[39m \u001b[39m \u001b[39m \u001b[39m \u001b[39m \u001b[39m \u001b[39m \u001b[39m \u001b[39m \u001b[39m \u001b[39m \u001b[39m \u001b[39m \u001b[39m \u001b[39m \u001b[39m \u001b[39m \u001b[39m \u001b[39m \u001b[39m \u001b[39m \n",
       "  \u001b[39m█\u001b[39m▄\u001b[39m█\u001b[39m█\u001b[34m█\u001b[39m\u001b[39m█\u001b[39m█\u001b[32m▆\u001b[39m\u001b[39m▄\u001b[39m▆\u001b[39m▄\u001b[39m▁\u001b[39m▁\u001b[39m▁\u001b[39m▁\u001b[39m▁\u001b[39m▄\u001b[39m▁\u001b[39m▁\u001b[39m▁\u001b[39m▁\u001b[39m▁\u001b[39m▁\u001b[39m▁\u001b[39m▁\u001b[39m▁\u001b[39m▁\u001b[39m▁\u001b[39m▁\u001b[39m▁\u001b[39m▁\u001b[39m▁\u001b[39m▁\u001b[39m▁\u001b[39m▁\u001b[39m▁\u001b[39m▁\u001b[39m▁\u001b[39m▁\u001b[39m▁\u001b[39m▁\u001b[39m▁\u001b[39m▁\u001b[39m▁\u001b[39m▁\u001b[39m▁\u001b[39m▁\u001b[39m▁\u001b[39m▁\u001b[39m▁\u001b[39m▁\u001b[39m▁\u001b[39m▁\u001b[39m▁\u001b[39m▁\u001b[39m▄\u001b[39m▁\u001b[39m▁\u001b[39m▁\u001b[39m▁\u001b[39m▄\u001b[39m \u001b[39m▁\n",
       "  100 ms\u001b[90m           Histogram: frequency by time\u001b[39m          189 ms \u001b[0m\u001b[1m<\u001b[22m\n",
       "\n",
       " Memory estimate\u001b[90m: \u001b[39m\u001b[33m190.73 MiB\u001b[39m, allocs estimate\u001b[90m: \u001b[39m\u001b[33m2\u001b[39m."
      ]
     },
     "metadata": {},
     "output_type": "display_data"
    },
    {
     "data": {
      "text/plain": [
       "(105.948958, 200.000048)"
      ]
     },
     "execution_count": 164,
     "metadata": {},
     "output_type": "execute_result"
    }
   ],
   "source": [
    "bm1 = @benchmark h1($n)\n",
    "display(bm1)\n",
    "\n",
    "## store median runtime (in milliseconds) and memory (in MB)\n",
    "benchmark_result[\"1. ij-looping\"] = median(bm1.times) / 1e6, bm1.memory / 1e6"
   ]
  },
  {
   "cell_type": "code",
   "execution_count": 165,
   "metadata": {},
   "outputs": [
    {
     "data": {
      "text/plain": [
       "BenchmarkTools.Trial: 160 samples with 1 evaluation.\n",
       " Range \u001b[90m(\u001b[39m\u001b[36m\u001b[1mmin\u001b[22m\u001b[39m … \u001b[35mmax\u001b[39m\u001b[90m):  \u001b[39m\u001b[36m\u001b[1m27.765 ms\u001b[22m\u001b[39m … \u001b[35m111.838 ms\u001b[39m  \u001b[90m┊\u001b[39m GC \u001b[90m(\u001b[39mmin … max\u001b[90m): \u001b[39m0.00% … 74.41%\n",
       " Time  \u001b[90m(\u001b[39m\u001b[34m\u001b[1mmedian\u001b[22m\u001b[39m\u001b[90m):     \u001b[39m\u001b[34m\u001b[1m30.599 ms               \u001b[22m\u001b[39m\u001b[90m┊\u001b[39m GC \u001b[90m(\u001b[39mmedian\u001b[90m):    \u001b[39m5.51%\n",
       " Time  \u001b[90m(\u001b[39m\u001b[32m\u001b[1mmean\u001b[22m\u001b[39m ± \u001b[32mσ\u001b[39m\u001b[90m):   \u001b[39m\u001b[32m\u001b[1m31.337 ms\u001b[22m\u001b[39m ± \u001b[32m  8.830 ms\u001b[39m  \u001b[90m┊\u001b[39m GC \u001b[90m(\u001b[39mmean ± σ\u001b[90m):  \u001b[39m9.04% ±  9.64%\n",
       "\n",
       "  \u001b[39m \u001b[39m \u001b[39m█\u001b[39m \u001b[39m \u001b[39m \u001b[39m \u001b[39m \u001b[39m \u001b[39m \u001b[39m \u001b[34m \u001b[39m\u001b[39m \u001b[39m \u001b[39m \u001b[39m \u001b[39m \u001b[32m \u001b[39m\u001b[39m▁\u001b[39m \u001b[39m▂\u001b[39m \u001b[39m \u001b[39m \u001b[39m \u001b[39m \u001b[39m \u001b[39m \u001b[39m \u001b[39m \u001b[39m \u001b[39m \u001b[39m \u001b[39m \u001b[39m \u001b[39m \u001b[39m \u001b[39m \u001b[39m \u001b[39m \u001b[39m \u001b[39m \u001b[39m \u001b[39m \u001b[39m \u001b[39m \u001b[39m \u001b[39m \u001b[39m \u001b[39m \u001b[39m \u001b[39m \u001b[39m \u001b[39m \u001b[39m \u001b[39m \u001b[39m \u001b[39m \u001b[39m \u001b[39m \u001b[39m \u001b[39m \n",
       "  \u001b[39m▄\u001b[39m▇\u001b[39m█\u001b[39m█\u001b[39m▆\u001b[39m▁\u001b[39m▃\u001b[39m▂\u001b[39m▂\u001b[39m▃\u001b[39m▃\u001b[34m▂\u001b[39m\u001b[39m▁\u001b[39m▁\u001b[39m▁\u001b[39m▂\u001b[39m▃\u001b[32m▆\u001b[39m\u001b[39m█\u001b[39m▆\u001b[39m█\u001b[39m▆\u001b[39m▃\u001b[39m▃\u001b[39m▃\u001b[39m▁\u001b[39m▂\u001b[39m▁\u001b[39m▁\u001b[39m▂\u001b[39m▁\u001b[39m▂\u001b[39m▃\u001b[39m▁\u001b[39m▁\u001b[39m▂\u001b[39m▁\u001b[39m▁\u001b[39m▁\u001b[39m▁\u001b[39m▁\u001b[39m▁\u001b[39m▁\u001b[39m▁\u001b[39m▁\u001b[39m▁\u001b[39m▁\u001b[39m▁\u001b[39m▁\u001b[39m▁\u001b[39m▁\u001b[39m▁\u001b[39m▁\u001b[39m▁\u001b[39m▁\u001b[39m▁\u001b[39m▁\u001b[39m▁\u001b[39m▁\u001b[39m▂\u001b[39m \u001b[39m▂\n",
       "  27.8 ms\u001b[90m         Histogram: frequency by time\u001b[39m         40.5 ms \u001b[0m\u001b[1m<\u001b[22m\n",
       "\n",
       " Memory estimate\u001b[90m: \u001b[39m\u001b[33m190.73 MiB\u001b[39m, allocs estimate\u001b[90m: \u001b[39m\u001b[33m2\u001b[39m."
      ]
     },
     "metadata": {},
     "output_type": "display_data"
    },
    {
     "data": {
      "text/plain": [
       "(30.5995, 200.000048)"
      ]
     },
     "execution_count": 165,
     "metadata": {},
     "output_type": "execute_result"
    }
   ],
   "source": [
    "bm2 = @benchmark h2($n)\n",
    "display(bm2)\n",
    "\n",
    "## store median runtime (in milliseconds) and memory (in MB)\n",
    "benchmark_result[\"2. ji-looping\"] = median(bm2.times) / 1e6, bm2.memory / 1e6"
   ]
  },
  {
   "cell_type": "code",
   "execution_count": null,
   "metadata": {},
   "outputs": [],
   "source": [
    "bm3 = @benchmark h3($n)\n",
    "display(bm3)\n",
    "\n",
    "## store median runtime (in milliseconds) and memory (in MB)\n",
    "benchmark_result[\"3. comprehension\"] = median(bm3.times) / 1e6, bm3.memory / 1e6"
   ]
  },
  {
   "cell_type": "code",
   "execution_count": null,
   "metadata": {},
   "outputs": [],
   "source": [
    "bm4 = @benchmark h4($n)\n",
    "display(bm4)\n",
    "\n",
    "## store median runtime (in milliseconds) and memory (in MB)\n",
    "benchmark_result[\"4. vectorization\"] = median(bm4.times) / 1e6, bm4.memory / 1e6"
   ]
  },
  {
   "cell_type": "code",
   "execution_count": null,
   "metadata": {},
   "outputs": [],
   "source": [
    "# bm5 = @benchmark h5($n)\n",
    "# display(bm5)\n",
    "# benchmark_result[\"5. LoopVectorization.@turbo\"] = median(bm5.times) / 1e6, bm5.memory"
   ]
  },
  {
   "cell_type": "code",
   "execution_count": null,
   "metadata": {},
   "outputs": [],
   "source": [
    "sorted_results = sort(collect(benchmark_result), by=x->parse(Int, split(x.first, \".\")[1]))\n",
    "for (name, result) in sorted_results\n",
    "    println(\"$name => $result\")\n",
    "end"
   ]
  },
  {
   "cell_type": "markdown",
   "metadata": {},
   "source": [
    "We observed that `ji-looping` was significantly faster than `ij-looping`, as arrays are stored in column-major order in Julia, making column-wise access (`ji-looping`) generally more efficient. Additionally, both `comprehension` and `vectorization` outperformed `ji-looping`. In terms of memory usage, all functions consumed the same amount"
   ]
  }
 ],
 "metadata": {
  "jupytext": {
   "formats": "ipynb,qmd"
  },
  "kernelspec": {
   "display_name": "Julia 1.10.0",
   "language": "julia",
   "name": "julia-1.10"
  },
  "language_info": {
   "file_extension": ".jl",
   "mimetype": "application/julia",
   "name": "julia",
   "version": "1.10.0"
  },
  "toc": {
   "colors": {
    "hover_highlight": "#DAA520",
    "running_highlight": "#FF0000",
    "selected_highlight": "#FFD700"
   },
   "moveMenuLeft": true,
   "nav_menu": {
    "height": "153px",
    "width": "252px"
   },
   "navigate_menu": true,
   "number_sections": false,
   "sideBar": true,
   "skip_h1_title": true,
   "threshold": 4,
   "toc_cell": false,
   "toc_section_display": "block",
   "toc_window_display": true,
   "widenNotebook": false
  },
  "toc-autonumbering": false
 },
 "nbformat": 4,
 "nbformat_minor": 4
}
