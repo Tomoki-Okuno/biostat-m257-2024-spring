{
 "cells": [
  {
   "cell_type": "markdown",
   "metadata": {},
   "source": [
    "Biostat/Biomath M257 Homework 4\n",
    "\n",
    "Due May 17 @ 11:59PM\n",
    "\n",
    "Tomoki Okuno and 805851067"
   ]
  },
  {
   "cell_type": "markdown",
   "metadata": {},
   "source": [
    "System information (for reproducibility):"
   ]
  },
  {
   "cell_type": "code",
   "execution_count": 1,
   "metadata": {
    "tags": []
   },
   "outputs": [
    {
     "name": "stdout",
     "output_type": "stream",
     "text": [
      "Julia Version 1.10.0\n",
      "Commit 3120989f39b (2023-12-25 18:01 UTC)\n",
      "Build Info:\n",
      "  Official https://julialang.org/ release\n",
      "Platform Info:\n",
      "  OS: macOS (arm64-apple-darwin22.4.0)\n",
      "  CPU: 8 × Apple M1\n",
      "  WORD_SIZE: 64\n",
      "  LIBM: libopenlibm\n",
      "  LLVM: libLLVM-15.0.7 (ORCJIT, apple-m1)\n",
      "  Threads: 2 on 4 virtual cores\n"
     ]
    }
   ],
   "source": [
    "versioninfo()"
   ]
  },
  {
   "cell_type": "markdown",
   "metadata": {},
   "source": [
    "Load packages:"
   ]
  },
  {
   "cell_type": "code",
   "execution_count": 2,
   "metadata": {
    "tags": []
   },
   "outputs": [
    {
     "name": "stderr",
     "output_type": "stream",
     "text": [
      "\u001b[32m\u001b[1m  Activating\u001b[22m\u001b[39m project at `~/Documents/07_UCLA/Class/257/02_Homework/hw4`\n"
     ]
    },
    {
     "name": "stdout",
     "output_type": "stream",
     "text": [
      "\u001b[32m\u001b[1mStatus\u001b[22m\u001b[39m `~/Documents/07_UCLA/Class/257/02_Homework/hw4/Project.toml`\n",
      "  \u001b[90m[6e4b80f9] \u001b[39mBenchmarkTools v1.5.0\n",
      "  \u001b[90m[944b1d66] \u001b[39mCodecZlib v0.7.4\n",
      "  \u001b[90m[8bb1440f] \u001b[39mDelimitedFiles v1.9.1\n",
      "  \u001b[90m[0b1a1467] \u001b[39mKrylovKit v0.7.1\n",
      "  \u001b[90m[bdcacae8] \u001b[39mLoopVectorization v0.12.170\n",
      "  \u001b[90m[b51810bb] \u001b[39mMatrixDepot v1.0.11\n",
      "  \u001b[90m[295af30f] \u001b[39mRevise v3.5.14\n",
      "\u001b[32m⌃\u001b[39m \u001b[90m[2913bbd2] \u001b[39mStatsBase v0.33.21\n",
      "  \u001b[90m[b8865327] \u001b[39mUnicodePlots v3.6.4\n",
      "  \u001b[90m[37e2e46d] \u001b[39mLinearAlgebra\n",
      "  \u001b[90m[2f01184e] \u001b[39mSparseArrays v1.10.0\n",
      "\u001b[36m\u001b[1mInfo\u001b[22m\u001b[39m Packages marked with \u001b[32m⌃\u001b[39m have new versions available and may be upgradable.\n"
     ]
    }
   ],
   "source": [
    "using Pkg\n",
    "\n",
    "Pkg.activate(pwd())\n",
    "Pkg.instantiate()\n",
    "Pkg.status()"
   ]
  },
  {
   "cell_type": "code",
   "execution_count": 3,
   "metadata": {},
   "outputs": [],
   "source": [
    "# remove package Plots\n",
    "using LinearAlgebra, Random\n",
    "using BenchmarkTools, SparseArrays\n",
    "using UnicodePlots, StatsBase"
   ]
  },
  {
   "cell_type": "markdown",
   "metadata": {},
   "source": [
    "We are going to try different numerical methods learnt in class on the [Google PageRank problem](https://en.wikipedia.org/wiki/PageRank)."
   ]
  },
  {
   "cell_type": "markdown",
   "metadata": {},
   "source": [
    "## Q1 (5 pts) Recognize structure\n",
    "\n",
    "Let $\\mathbf{A} \\in \\{0,1\\}^{n \\times n}$ be the connectivity matrix of $n$ web pages with entries\n",
    "$$\n",
    "\\begin{align*}\n",
    "\ta_{ij}= \\begin{cases}\n",
    "\t1 & \\text{if page $i$ links to page $j$} \\\\\n",
    "\t0 & \\text{otherwise}\n",
    "\t\\end{cases}.\n",
    "\\end{align*}\n",
    "$$\n",
    "$r_i = \\sum_j a_{ij}$ is the out-degree of page $i$. That is $r_i$ is the number of links on page $i$. Imagine a random surfer exploring the space of $n$ pages according to the following rules.  \n",
    "\n",
    "- From a page $i$ with $r_i>0$\n",
    "    * with probability $p$, (s)he randomly chooses a link on page $i$ (uniformly) and follows that link to the next page  \n",
    "    * with probability $1-p$, (s)he randomly chooses one page from the set of all $n$ pages (uniformly) and proceeds to that page  \n",
    "- From a page $i$ with $r_i=0$ (a dangling page), (s)he randomly chooses one page from the set of all $n$ pages (uniformly) and proceeds to that page  \n",
    "    \n",
    "The process defines a Markov chain on the space of $n$ pages. Write the transition matrix $\\mathbf{P}$ of the Markov chain as a sparse matrix plus rank 1 matrix."
   ]
  },
  {
   "cell_type": "markdown",
   "metadata": {},
   "source": [
    "**Solution**\n",
    "\n",
    "Let $\\mathbf{P} = (p_{ij})$. Under the above rule, we have\n",
    "$$\n",
    "\\begin{align*}\n",
    "p_{ij} =\n",
    "\\left\\{\n",
    "    \\begin{array}{l}\n",
    "        \\dfrac{pa_{ij}}{r_i} + \\dfrac{1-p}{n}　& r_i > 0\\\\\n",
    "        \\dfrac{1}{n} & r_i = 0\n",
    "    \\end{array}\n",
    "\\right., \\quad i, j = 1, \\ldots, n.\n",
    "\\end{align*}\n",
    "$$\n",
    "Note $\\sum_{j=1}^n p_{ij} = 1$. Then $i$-th row vector of $\\mathbf{P}$ can be written as\n",
    "$$\n",
    "\\begin{align*}\n",
    "\\mathbf{p}_i^T = \n",
    "    \\left\\{\n",
    "        \\begin{array}{l}\n",
    "            \\dfrac{p}{r_i}\\mathbf{a}_i^T + \\dfrac{1-p}{n}\\mathbf{1}_n^T　& r_i > 0\\\\\n",
    "            \\dfrac{1}{n}\\mathbf{1}_n^T & r_i = 0\n",
    "        \\end{array}\n",
    "    \\right., \\quad i = 1, \\ldots n,\n",
    "\\end{align*}\n",
    "$$\n",
    "suggesting that $\\mathbf{P}$ has a form of\n",
    "$$\n",
    "\\begin{align*}\n",
    "    \\mathbf{P} = \\mathbf{DA} + \\mathbf{z}\\mathbf 1_n^T,\n",
    "\\end{align*}\n",
    "$$\n",
    "where\n",
    "\n",
    "- $\\mathbf{D} = \\text{diag}(d_i)\\in\\mathbb R^{n\\times n}$ with $d_i = p/r_i$ if $r_i > 0$ and $d_i = 0$ if $r_i = 0$. $\\mathbf{D}$ will be `rinv` in coding.\n",
    "- $\\mathbf{z} = (z_i)\\in\\mathbb R^n$ with $z_i = (1-p)/n$ if $r_i > 0$ and $z_i = 1/n$ if $r_i = 0$.\n",
    "\n",
    "Note that $\\mathbf{DA}$ is sparse and $\\mathbf{z}\\mathbf 1_n^T$ (outer product matrix) is of rank 1."
   ]
  },
  {
   "cell_type": "markdown",
   "metadata": {},
   "source": [
    "## Q2 Relate to numerical linear algebra\n",
    "\n",
    "According to standard Markov chain theory, the (random) position of the surfer converges to the stationary distribution $\\mathbf{x} = (x_1,\\ldots,x_n)^T$ of the Markov chain. $x_i$ has the natural interpretation of the proportion of times the surfer visits page $i$ in the long run. Therefore $\\mathbf{x}$ serves as page ranks: a higher $x_i$ means page $i$ is more visited. It is well-known that $\\mathbf{x}$ is the left eigenvector corresponding to the top eigenvalue 1 of the transition matrix $\\mathbf{P}$. That is $\\mathbf{P}^T \\mathbf{x} = \\mathbf{x}$. Therefore $\\mathbf{x}$ can be solved as an **eigen-problem**. It can also be cast as **solving a linear system**. Since the row sums of $\\mathbf{P}$ are 1, $\\mathbf{P}$ is rank deficient. We can replace the first equation by the $\\sum_{i=1}^n x_i = 1$.\n",
    "\n",
    "Hint: For iterative solvers, we don't need to replace the 1st equation. We can use the matrix $\\mathbf{I} - \\mathbf{P}^T$ directly if we start with a vector with all positive entries."
   ]
  },
  {
   "cell_type": "markdown",
   "metadata": {},
   "source": [
    "## Q3 (10 pts) Explore data\n",
    "\n",
    "Obtain the connectivity matrix `A` from the `SNAP/web-Google` data in the MatrixDepot package. "
   ]
  },
  {
   "cell_type": "code",
   "execution_count": 4,
   "metadata": {
    "tags": []
   },
   "outputs": [
    {
     "name": "stderr",
     "output_type": "stream",
     "text": [
      "\u001b[36m\u001b[1m[ \u001b[22m\u001b[39m\u001b[36m\u001b[1mInfo: \u001b[22m\u001b[39mverify download of index files...\n",
      "\u001b[36m\u001b[1m[ \u001b[22m\u001b[39m\u001b[36m\u001b[1mInfo: \u001b[22m\u001b[39mreading database\n",
      "\u001b[36m\u001b[1m[ \u001b[22m\u001b[39m\u001b[36m\u001b[1mInfo: \u001b[22m\u001b[39madding metadata...\n",
      "\u001b[36m\u001b[1m[ \u001b[22m\u001b[39m\u001b[36m\u001b[1mInfo: \u001b[22m\u001b[39madding svd data...\n",
      "\u001b[36m\u001b[1m[ \u001b[22m\u001b[39m\u001b[36m\u001b[1mInfo: \u001b[22m\u001b[39mwriting database\n",
      "\u001b[36m\u001b[1m[ \u001b[22m\u001b[39m\u001b[36m\u001b[1mInfo: \u001b[22m\u001b[39mused remote sites are sparse.tamu.edu with MAT index and math.nist.gov with HTML index\n"
     ]
    },
    {
     "data": {
      "text/latex": [
       "\\section{SNAP/web-Google}\n",
       "\\subsubparagraph{MatrixMarket matrix coordinate pattern general}\n",
       "\\rule{\\textwidth}{1pt}\n",
       "\\begin{itemize}\n",
       "\\item UF Sparse Matrix Collection, Tim Davis\n",
       "\n",
       "\n",
       "\\item http://www.cise.ufl.edu/research/sparse/matrices/SNAP/web-Google\n",
       "\n",
       "\n",
       "\\item name: SNAP/web-Google\n",
       "\n",
       "\n",
       "\\item [Web graph from Google]\n",
       "\n",
       "\n",
       "\\item id: 2301\n",
       "\n",
       "\n",
       "\\item date: 2002\n",
       "\n",
       "\n",
       "\\item author: Google\n",
       "\n",
       "\n",
       "\\item ed: J. Leskovec\n",
       "\n",
       "\n",
       "\\item fields: name title A id date author ed kind notes\n",
       "\n",
       "\n",
       "\\item kind: directed graph\n",
       "\n",
       "\\end{itemize}\n",
       "\\rule{\\textwidth}{1pt}\n",
       "\\begin{itemize}\n",
       "\\item notes:\n",
       "\n",
       "\n",
       "\\item Networks from SNAP (Stanford Network Analysis Platform) Network Data Sets,     \n",
       "\n",
       "\n",
       "\\item Jure Leskovec http://snap.stanford.edu/data/index.html                         \n",
       "\n",
       "\n",
       "\\item email jure at cs.stanford.edu                                                  \n",
       "\n",
       "\n",
       "\\item \n",
       "\\item Google web graph                                                               \n",
       "\n",
       "\n",
       "\\item \n",
       "\\item Dataset information                                                            \n",
       "\n",
       "\n",
       "\\item \n",
       "\\item Nodes represent web pages and directed edges represent hyperlinks between them.\n",
       "\n",
       "\n",
       "\\item The data was released in 2002 by Google as a part of Google Programming        \n",
       "\n",
       "\n",
       "\\item Contest.                                                                       \n",
       "\n",
       "\n",
       "\\item \n",
       "\\item Dataset statistics                                                             \n",
       "\n",
       "\n",
       "\\item Nodes   875713                                                                 \n",
       "\n",
       "\n",
       "\\item Edges   5105039                                                                \n",
       "\n",
       "\n",
       "\\item Nodes in largest WCC    855802 (0.977)                                         \n",
       "\n",
       "\n",
       "\\item Edges in largest WCC    5066842 (0.993)                                        \n",
       "\n",
       "\n",
       "\\item Nodes in largest SCC    434818 (0.497)                                         \n",
       "\n",
       "\n",
       "\\item Edges in largest SCC    3419124 (0.670)                                        \n",
       "\n",
       "\n",
       "\\item Average clustering coefficient  0.6047                                         \n",
       "\n",
       "\n",
       "\\item Number of triangles     13391903                                               \n",
       "\n",
       "\n",
       "\\item Fraction of closed triangles    0.05523                                        \n",
       "\n",
       "\n",
       "\\item Diameter (longest shortest path)    22                                         \n",
       "\n",
       "\n",
       "\\item 90-percentile effective diameter    8.1                                        \n",
       "\n",
       "\n",
       "\\item \n",
       "\\item Source (citation)                                                              \n",
       "\n",
       "\n",
       "\\item \n",
       "\\item J. Leskovec, K. Lang, A. Dasgupta, M. Mahoney. Community Structure in Large    \n",
       "\n",
       "\n",
       "\\item Networks: Natural Cluster Sizes and the Absence of Large Well-Defined Clusters.\n",
       "\n",
       "\n",
       "\\item arXiv.org:0810.1355, 2008.                                                     \n",
       "\n",
       "\n",
       "\\item \n",
       "\\item Google programming contest, 2002                                               \n",
       "\n",
       "\n",
       "\\item http://www.google.com/programming-contest/                                     \n",
       "\n",
       "\n",
       "\\item \n",
       "\\item Files                                                                          \n",
       "\n",
       "\n",
       "\\item File    Description                                                            \n",
       "\n",
       "\n",
       "\\item web-Google.txt.gz   Webgraph from the Google programming contest, 2002         \n",
       "\n",
       "\\end{itemize}\n",
       "\\rule{\\textwidth}{1pt}\n",
       "916428 916428 5105039\n",
       "\n"
      ],
      "text/markdown": [
       "# SNAP/web-Google\n",
       "\n",
       "###### MatrixMarket matrix coordinate pattern general\n",
       "\n",
       "---\n",
       "\n",
       "  * UF Sparse Matrix Collection, Tim Davis\n",
       "  * http://www.cise.ufl.edu/research/sparse/matrices/SNAP/web-Google\n",
       "  * name: SNAP/web-Google\n",
       "  * [Web graph from Google]\n",
       "  * id: 2301\n",
       "  * date: 2002\n",
       "  * author: Google\n",
       "  * ed: J. Leskovec\n",
       "  * fields: name title A id date author ed kind notes\n",
       "  * kind: directed graph\n",
       "\n",
       "---\n",
       "\n",
       "  * notes:\n",
       "  * Networks from SNAP (Stanford Network Analysis Platform) Network Data Sets,\n",
       "  * Jure Leskovec http://snap.stanford.edu/data/index.html\n",
       "  * email jure at cs.stanford.edu\n",
       "  * \n",
       "  * Google web graph\n",
       "  * \n",
       "  * Dataset information\n",
       "  * \n",
       "  * Nodes represent web pages and directed edges represent hyperlinks between them.\n",
       "  * The data was released in 2002 by Google as a part of Google Programming\n",
       "  * Contest.\n",
       "  * \n",
       "  * Dataset statistics\n",
       "  * Nodes   875713\n",
       "  * Edges   5105039\n",
       "  * Nodes in largest WCC    855802 (0.977)\n",
       "  * Edges in largest WCC    5066842 (0.993)\n",
       "  * Nodes in largest SCC    434818 (0.497)\n",
       "  * Edges in largest SCC    3419124 (0.670)\n",
       "  * Average clustering coefficient  0.6047\n",
       "  * Number of triangles     13391903\n",
       "  * Fraction of closed triangles    0.05523\n",
       "  * Diameter (longest shortest path)    22\n",
       "  * 90-percentile effective diameter    8.1\n",
       "  * \n",
       "  * Source (citation)\n",
       "  * \n",
       "  * J. Leskovec, K. Lang, A. Dasgupta, M. Mahoney. Community Structure in Large\n",
       "  * Networks: Natural Cluster Sizes and the Absence of Large Well-Defined Clusters.\n",
       "  * arXiv.org:0810.1355, 2008.\n",
       "  * \n",
       "  * Google programming contest, 2002\n",
       "  * http://www.google.com/programming-contest/\n",
       "  * \n",
       "  * Files\n",
       "  * File    Description\n",
       "  * web-Google.txt.gz   Webgraph from the Google programming contest, 2002\n",
       "\n",
       "---\n",
       "\n",
       "916428 916428 5105039\n"
      ],
      "text/plain": [
       "\u001b[1m  SNAP/web-Google\u001b[22m\n",
       "\u001b[1m  ≡≡≡≡≡≡≡≡≡≡≡≡≡≡≡\u001b[22m\n",
       "\n",
       "\u001b[1m  MatrixMarket matrix coordinate pattern general\u001b[22m\n",
       "\n",
       "  ────────────────────────────────────────────────────────────────────────────\n",
       "\n",
       "    •  UF Sparse Matrix Collection, Tim Davis\n",
       "\n",
       "    •  http://www.cise.ufl.edu/research/sparse/matrices/SNAP/web-Google\n",
       "\n",
       "    •  name: SNAP/web-Google\n",
       "\n",
       "    •  [Web graph from Google]\n",
       "\n",
       "    •  id: 2301\n",
       "\n",
       "    •  date: 2002\n",
       "\n",
       "    •  author: Google\n",
       "\n",
       "    •  ed: J. Leskovec\n",
       "\n",
       "    •  fields: name title A id date author ed kind notes\n",
       "\n",
       "    •  kind: directed graph\n",
       "\n",
       "  ────────────────────────────────────────────────────────────────────────────\n",
       "\n",
       "    •  notes:\n",
       "\n",
       "    •  Networks from SNAP (Stanford Network Analysis Platform) Network\n",
       "       Data Sets,\n",
       "\n",
       "    •  Jure Leskovec http://snap.stanford.edu/data/index.html\n",
       "\n",
       "    •  email jure at cs.stanford.edu\n",
       "\n",
       "    •  \n",
       "\n",
       "    •  Google web graph\n",
       "\n",
       "    •  \n",
       "\n",
       "    •  Dataset information\n",
       "\n",
       "    •  \n",
       "\n",
       "    •  Nodes represent web pages and directed edges represent hyperlinks\n",
       "       between them.\n",
       "\n",
       "    •  The data was released in 2002 by Google as a part of Google\n",
       "       Programming\n",
       "\n",
       "    •  Contest.\n",
       "\n",
       "    •  \n",
       "\n",
       "    •  Dataset statistics\n",
       "\n",
       "    •  Nodes 875713\n",
       "\n",
       "    •  Edges 5105039\n",
       "\n",
       "    •  Nodes in largest WCC 855802 (0.977)\n",
       "\n",
       "    •  Edges in largest WCC 5066842 (0.993)\n",
       "\n",
       "    •  Nodes in largest SCC 434818 (0.497)\n",
       "\n",
       "    •  Edges in largest SCC 3419124 (0.670)\n",
       "\n",
       "    •  Average clustering coefficient 0.6047\n",
       "\n",
       "    •  Number of triangles 13391903\n",
       "\n",
       "    •  Fraction of closed triangles 0.05523\n",
       "\n",
       "    •  Diameter (longest shortest path) 22\n",
       "\n",
       "    •  90-percentile effective diameter 8.1\n",
       "\n",
       "    •  \n",
       "\n",
       "    •  Source (citation)\n",
       "\n",
       "    •  \n",
       "\n",
       "    •  J. Leskovec, K. Lang, A. Dasgupta, M. Mahoney. Community Structure\n",
       "       in Large\n",
       "\n",
       "    •  Networks: Natural Cluster Sizes and the Absence of Large\n",
       "       Well-Defined Clusters.\n",
       "\n",
       "    •  arXiv.org:0810.1355, 2008.\n",
       "\n",
       "    •  \n",
       "\n",
       "    •  Google programming contest, 2002\n",
       "\n",
       "    •  http://www.google.com/programming-contest/\n",
       "\n",
       "    •  \n",
       "\n",
       "    •  Files\n",
       "\n",
       "    •  File Description\n",
       "\n",
       "    •  web-Google.txt.gz Webgraph from the Google programming contest,\n",
       "       2002\n",
       "\n",
       "  ────────────────────────────────────────────────────────────────────────────\n",
       "\n",
       "  916428 916428 5105039"
      ]
     },
     "execution_count": 4,
     "metadata": {},
     "output_type": "execute_result"
    }
   ],
   "source": [
    "using MatrixDepot\n",
    "\n",
    "md = mdopen(\"SNAP/web-Google\")\n",
    "# display documentation for the SNAP/web-Google data\n",
    "mdinfo(md)"
   ]
  },
  {
   "cell_type": "code",
   "execution_count": 5,
   "metadata": {
    "tags": []
   },
   "outputs": [
    {
     "data": {
      "text/plain": [
       "916428×916428 SparseMatrixCSC{Bool, Int64} with 5105039 stored entries:\n",
       "⎡⣿⣿⣿⣿⣿⣿⣿⣿⣿⣿⣿⣿⣿⣿⣿⣿⣿⣿⣿⣿⣿⣿⣿⣿⣿⣿⣿⣿⣿⣿⣿⣿⣿⣿⣿⣿⣿⣿⣿⣿⎤\n",
       "⎢⣿⣿⣿⣿⣿⣿⣿⣿⣿⣿⣿⣿⣿⣿⣿⣿⣿⣿⣿⣿⣿⣿⣿⣿⣿⣿⣿⣿⣿⣿⣿⣿⣿⣿⣿⣿⣿⣿⣿⣿⎥\n",
       "⎢⣿⣿⣿⣿⣿⣿⣿⣿⣿⣿⣿⣿⣿⣿⣿⣿⣿⣿⣿⣿⣿⣿⣿⣿⣿⣿⣿⣿⣿⣿⣿⣿⣿⣿⣿⣿⣿⣿⣿⣿⎥\n",
       "⎢⣿⣿⣿⣿⣿⣿⣿⣿⣿⣿⣿⣿⣿⣿⣿⣿⣿⣿⣿⣿⣿⣿⣿⣿⣿⣿⣿⣿⣿⣿⣿⣿⣿⣿⣿⣿⣿⣿⣿⣿⎥\n",
       "⎢⣿⣿⣿⣿⣿⣿⣿⣿⣿⣿⣿⣿⣿⣿⣿⣿⣿⣿⣿⣿⣿⣿⣿⣿⣿⣿⣿⣿⣿⣿⣿⣿⣿⣿⣿⣿⣿⣿⣿⣿⎥\n",
       "⎢⣿⣿⣿⣿⣿⣿⣿⣿⣿⣿⣿⣿⣿⣿⣿⣿⣿⣿⣿⣿⣿⣿⣿⣿⣿⣿⣿⣿⣿⣿⣿⣿⣿⣿⣿⣿⣿⣿⣿⣿⎥\n",
       "⎢⣿⣿⣿⣿⣿⣿⣿⣿⣿⣿⣿⣿⣿⣿⣿⣿⣿⣿⣿⣿⣿⣿⣿⣿⣿⣿⣿⣿⣿⣿⣿⣿⣿⣿⣿⣿⣿⣿⣿⣿⎥\n",
       "⎢⣿⣿⣿⣿⣿⣿⣿⣿⣿⣿⣿⣿⣿⣿⣿⣿⣿⣿⣿⣿⣿⣿⣿⣿⣿⣿⣿⣿⣿⣿⣿⣿⣿⣿⣿⣿⣿⣿⣿⣿⎥\n",
       "⎢⣿⣿⣿⣿⣿⣿⣿⣿⣿⣿⣿⣿⣿⣿⣿⣿⣿⣿⣿⣿⣿⣿⣿⣿⣿⣿⣿⣿⣿⣿⣿⣿⣿⣿⣿⣿⣿⣿⣿⣿⎥\n",
       "⎢⣿⣿⣿⣿⣿⣿⣿⣿⣿⣿⣿⣿⣿⣿⣿⣿⣿⣿⣿⣿⣿⣿⣿⣿⣿⣿⣿⣿⣿⣿⣿⣿⣿⣿⣿⣿⣿⣿⣿⣿⎥\n",
       "⎢⣿⣿⣿⣿⣿⣿⣿⣿⣿⣿⣿⣿⣿⣿⣿⣿⣿⣿⣿⣿⣿⣿⣿⣿⣿⣿⣿⣿⣿⣿⣿⣿⣿⣿⣿⣿⣿⣿⣿⣿⎥\n",
       "⎢⣿⣿⣿⣿⣿⣿⣿⣿⣿⣿⣿⣿⣿⣿⣿⣿⣿⣿⣿⣿⣿⣿⣿⣿⣿⣿⣿⣿⣿⣿⣿⣿⣿⣿⣿⣿⣿⣿⣿⣿⎥\n",
       "⎢⣿⣿⣿⣿⣿⣿⣿⣿⣿⣿⣿⣿⣿⣿⣿⣿⣿⣿⣿⣿⣿⣿⣿⣿⣿⣿⣿⣿⣿⣿⣿⣿⣿⣿⣿⣿⣿⣿⣿⣿⎥\n",
       "⎢⣿⣿⣿⣿⣿⣿⣿⣿⣿⣿⣿⣿⣿⣿⣿⣿⣿⣿⣿⣿⣿⣿⣿⣿⣿⣿⣿⣿⣿⣿⣿⣿⣿⣿⣿⣿⣿⣿⣿⣿⎥\n",
       "⎢⣿⣿⣿⣿⣿⣿⣿⣿⣿⣿⣿⣿⣿⣿⣿⣿⣿⣿⣿⣿⣿⣿⣿⣿⣿⣿⣿⣿⣿⣿⣿⣿⣿⣿⣿⣿⣿⣿⣿⣿⎥\n",
       "⎢⣿⣿⣿⣿⣿⣿⣿⣿⣿⣿⣿⣿⣿⣿⣿⣿⣿⣿⣿⣿⣿⣿⣿⣿⣿⣿⣿⣿⣿⣿⣿⣿⣿⣿⣿⣿⣿⣿⣿⣿⎥\n",
       "⎢⣿⣿⣿⣿⣿⣿⣿⣿⣿⣿⣿⣿⣿⣿⣿⣿⣿⣿⣿⣿⣿⣿⣿⣿⣿⣿⣿⣿⣿⣿⣿⣿⣿⣿⣿⣿⣿⣿⣿⣿⎥\n",
       "⎢⣿⣿⣿⣿⣿⣿⣿⣿⣿⣿⣿⣿⣿⣿⣿⣿⣿⣿⣿⣿⣿⣿⣿⣿⣿⣿⣿⣿⣿⣿⣿⣿⣿⣿⣿⣿⣿⣿⣿⣿⎥\n",
       "⎢⣿⣿⣿⣿⣿⣿⣿⣿⣿⣿⣿⣿⣿⣿⣿⣿⣿⣿⣿⣿⣿⣿⣿⣿⣿⣿⣿⣿⣿⣿⣿⣿⣿⣿⣿⣿⣿⣿⣿⣿⎥\n",
       "⎣⣿⣿⣿⣿⣿⣿⣿⣿⣿⣿⣿⣿⣿⣿⣿⣿⣿⣿⣿⣿⣿⣿⣿⣿⣿⣿⣿⣿⣿⣿⣿⣿⣿⣿⣿⣿⣿⣿⣿⣿⎦"
      ]
     },
     "execution_count": 5,
     "metadata": {},
     "output_type": "execute_result"
    }
   ],
   "source": [
    "# connectivity matrix\n",
    "A = md.A"
   ]
  },
  {
   "cell_type": "markdown",
   "metadata": {},
   "source": [
    "Compute summary statistics:  \n",
    "\n",
    "* How much memory does `A` take? If converted to a `Matrix{Float64}` (don't do it!), how much memory will it take?  \n",
    "\n",
    "* number of web pages\n",
    "\n",
    "* number of edges (web links)\n",
    "\n",
    "* number of dangling nodes (pages with no out links)\n",
    "\n",
    "* histogram of in-degrees  \n",
    "\n",
    "* list the top 20 pages with the largest in-degrees?  \n",
    "\n",
    "* histogram of out-degrees\n",
    "\n",
    "* which the top 20 pages with the largest out-degrees?\n",
    "\n",
    "* visualize the sparsity pattern of $\\mathbf{A}$ or a submatrix of $\\mathbf{A}$ say `A[1:10000, 1:10000]`. "
   ]
  },
  {
   "cell_type": "markdown",
   "metadata": {},
   "source": [
    "**Solution**\n",
    "\n",
    "Use `Base.summarysize` function to compute how much memory `A` takes in MB."
   ]
  },
  {
   "cell_type": "code",
   "execution_count": 6,
   "metadata": {},
   "outputs": [
    {
     "name": "stdout",
     "output_type": "stream",
     "text": [
      "50.81 MB\n"
     ]
    }
   ],
   "source": [
    "println(round(Base.summarysize(A) / (1024^2), digits = 2), \" MB\")"
   ]
  },
  {
   "cell_type": "markdown",
   "metadata": {},
   "source": [
    "If converted to `Matrix{Float64}`, then the memory usage of `A` will be $916428^2 * 8(\\text{byte/double precision})$, i.e.,"
   ]
  },
  {
   "cell_type": "code",
   "execution_count": 7,
   "metadata": {},
   "outputs": [
    {
     "name": "stdout",
     "output_type": "stream",
     "text": [
      "6.11 TB\n"
     ]
    }
   ],
   "source": [
    "println(round(916428^2 * 8 / (1024^4), digits = 2), \" TB\")"
   ]
  },
  {
   "cell_type": "markdown",
   "metadata": {},
   "source": [
    "The number of web pages corresponds to the order of `A`."
   ]
  },
  {
   "cell_type": "code",
   "execution_count": 8,
   "metadata": {},
   "outputs": [
    {
     "name": "stdout",
     "output_type": "stream",
     "text": [
      "916428 pages\n"
     ]
    }
   ],
   "source": [
    "println(size(A, 1), \" pages\") # or size(A, 2)"
   ]
  },
  {
   "cell_type": "markdown",
   "metadata": {},
   "source": [
    "The number of edges (web links) corresponds to the number of nonzero (or one) elements in `A`. There are at least three ways to get this:"
   ]
  },
  {
   "cell_type": "code",
   "execution_count": 9,
   "metadata": {},
   "outputs": [
    {
     "name": "stdout",
     "output_type": "stream",
     "text": [
      "count(!iszero, A) = 5105039\n",
      "nnz(A) = 5105039\n",
      "count(isone, A) = 5105039\n"
     ]
    }
   ],
   "source": [
    "@show count(!iszero, A)\n",
    "@show nnz(A) # using SparseArrays\n",
    "@show count(isone, A)\n",
    "nothing"
   ]
  },
  {
   "cell_type": "markdown",
   "metadata": {},
   "source": [
    "By the way, `nnz(A)` is much faster than `count(!iszero, A)` and `count(isone, A)`."
   ]
  },
  {
   "cell_type": "code",
   "execution_count": 10,
   "metadata": {},
   "outputs": [
    {
     "name": "stdout",
     "output_type": "stream",
     "text": [
      "count(!iszero, A) = 5105039\n"
     ]
    },
    {
     "data": {
      "text/plain": [
       "BenchmarkTools.Trial: 7954 samples with 1 evaluation.\n",
       " Range \u001b[90m(\u001b[39m\u001b[36m\u001b[1mmin\u001b[22m\u001b[39m … \u001b[35mmax\u001b[39m\u001b[90m):  \u001b[39m\u001b[36m\u001b[1m615.667 μs\u001b[22m\u001b[39m … \u001b[35m  9.282 ms\u001b[39m  \u001b[90m┊\u001b[39m GC \u001b[90m(\u001b[39mmin … max\u001b[90m): \u001b[39m0.00% … 0.00%\n",
       " Time  \u001b[90m(\u001b[39m\u001b[34m\u001b[1mmedian\u001b[22m\u001b[39m\u001b[90m):     \u001b[39m\u001b[34m\u001b[1m616.583 μs               \u001b[22m\u001b[39m\u001b[90m┊\u001b[39m GC \u001b[90m(\u001b[39mmedian\u001b[90m):    \u001b[39m0.00%\n",
       " Time  \u001b[90m(\u001b[39m\u001b[32m\u001b[1mmean\u001b[22m\u001b[39m ± \u001b[32mσ\u001b[39m\u001b[90m):   \u001b[39m\u001b[32m\u001b[1m626.212 μs\u001b[22m\u001b[39m ± \u001b[32m156.355 μs\u001b[39m  \u001b[90m┊\u001b[39m GC \u001b[90m(\u001b[39mmean ± σ\u001b[90m):  \u001b[39m0.00% ± 0.00%\n",
       "\n",
       "  \u001b[39m█\u001b[34m▆\u001b[39m\u001b[39m▅\u001b[39m▄\u001b[39m▃\u001b[39m▂\u001b[39m▁\u001b[39m▁\u001b[32m \u001b[39m\u001b[39m \u001b[39m \u001b[39m \u001b[39m \u001b[39m \u001b[39m \u001b[39m \u001b[39m \u001b[39m \u001b[39m \u001b[39m \u001b[39m \u001b[39m \u001b[39m \u001b[39m \u001b[39m \u001b[39m \u001b[39m \u001b[39m \u001b[39m \u001b[39m \u001b[39m \u001b[39m \u001b[39m \u001b[39m \u001b[39m \u001b[39m \u001b[39m \u001b[39m \u001b[39m \u001b[39m \u001b[39m \u001b[39m \u001b[39m \u001b[39m \u001b[39m \u001b[39m \u001b[39m \u001b[39m \u001b[39m \u001b[39m \u001b[39m \u001b[39m \u001b[39m \u001b[39m \u001b[39m \u001b[39m \u001b[39m \u001b[39m \u001b[39m \u001b[39m \u001b[39m \u001b[39m \u001b[39m▁\n",
       "  \u001b[39m█\u001b[34m█\u001b[39m\u001b[39m█\u001b[39m█\u001b[39m█\u001b[39m█\u001b[39m█\u001b[39m█\u001b[32m█\u001b[39m\u001b[39m█\u001b[39m█\u001b[39m█\u001b[39m▇\u001b[39m▆\u001b[39m▅\u001b[39m▆\u001b[39m▅\u001b[39m▅\u001b[39m▆\u001b[39m▅\u001b[39m▅\u001b[39m▁\u001b[39m▅\u001b[39m▄\u001b[39m▄\u001b[39m▅\u001b[39m▄\u001b[39m▄\u001b[39m▃\u001b[39m▃\u001b[39m▃\u001b[39m▃\u001b[39m▁\u001b[39m▄\u001b[39m▃\u001b[39m▄\u001b[39m▃\u001b[39m▃\u001b[39m▄\u001b[39m▁\u001b[39m▁\u001b[39m▄\u001b[39m▁\u001b[39m▁\u001b[39m▃\u001b[39m▁\u001b[39m▁\u001b[39m▁\u001b[39m▃\u001b[39m▁\u001b[39m▁\u001b[39m▁\u001b[39m▁\u001b[39m▄\u001b[39m▃\u001b[39m▁\u001b[39m▁\u001b[39m▁\u001b[39m▃\u001b[39m▅\u001b[39m█\u001b[39m \u001b[39m█\n",
       "  616 μs\u001b[90m        \u001b[39m\u001b[90mHistogram: \u001b[39m\u001b[90m\u001b[1mlog(\u001b[22m\u001b[39m\u001b[90mfrequency\u001b[39m\u001b[90m\u001b[1m)\u001b[22m\u001b[39m\u001b[90m by time\u001b[39m        698 μs \u001b[0m\u001b[1m<\u001b[22m\n",
       "\n",
       " Memory estimate\u001b[90m: \u001b[39m\u001b[33m0 bytes\u001b[39m, allocs estimate\u001b[90m: \u001b[39m\u001b[33m0\u001b[39m."
      ]
     },
     "execution_count": 10,
     "metadata": {},
     "output_type": "execute_result"
    }
   ],
   "source": [
    "@show count(!iszero, A)\n",
    "@benchmark count(!iszero, $A)"
   ]
  },
  {
   "cell_type": "code",
   "execution_count": 11,
   "metadata": {},
   "outputs": [
    {
     "name": "stdout",
     "output_type": "stream",
     "text": [
      "nnz(A) = 5105039\n"
     ]
    },
    {
     "data": {
      "text/plain": [
       "BenchmarkTools.Trial: 10000 samples with 992 evaluations.\n",
       " Range \u001b[90m(\u001b[39m\u001b[36m\u001b[1mmin\u001b[22m\u001b[39m … \u001b[35mmax\u001b[39m\u001b[90m):  \u001b[39m\u001b[36m\u001b[1m32.930 ns\u001b[22m\u001b[39m … \u001b[35m 3.706 μs\u001b[39m  \u001b[90m┊\u001b[39m GC \u001b[90m(\u001b[39mmin … max\u001b[90m): \u001b[39m0.00% … 98.39%\n",
       " Time  \u001b[90m(\u001b[39m\u001b[34m\u001b[1mmedian\u001b[22m\u001b[39m\u001b[90m):     \u001b[39m\u001b[34m\u001b[1m38.138 ns              \u001b[22m\u001b[39m\u001b[90m┊\u001b[39m GC \u001b[90m(\u001b[39mmedian\u001b[90m):    \u001b[39m0.00%\n",
       " Time  \u001b[90m(\u001b[39m\u001b[32m\u001b[1mmean\u001b[22m\u001b[39m ± \u001b[32mσ\u001b[39m\u001b[90m):   \u001b[39m\u001b[32m\u001b[1m37.736 ns\u001b[22m\u001b[39m ± \u001b[32m42.071 ns\u001b[39m  \u001b[90m┊\u001b[39m GC \u001b[90m(\u001b[39mmean ± σ\u001b[90m):  \u001b[39m1.50% ±  1.38%\n",
       "\n",
       "  \u001b[39m \u001b[39m▆\u001b[39m▃\u001b[39m \u001b[39m \u001b[39m \u001b[39m \u001b[39m▆\u001b[39m█\u001b[39m▁\u001b[39m \u001b[39m \u001b[39m \u001b[39m \u001b[39m \u001b[39m \u001b[39m \u001b[39m \u001b[39m \u001b[39m \u001b[39m \u001b[39m \u001b[39m \u001b[39m \u001b[39m \u001b[39m \u001b[39m \u001b[32m \u001b[39m\u001b[39m \u001b[39m \u001b[34m \u001b[39m\u001b[39m \u001b[39m \u001b[39m \u001b[39m \u001b[39m \u001b[39m \u001b[39m▁\u001b[39m \u001b[39m \u001b[39m▄\u001b[39m▅\u001b[39m▂\u001b[39m \u001b[39m \u001b[39m \u001b[39m \u001b[39m \u001b[39m \u001b[39m \u001b[39m \u001b[39m \u001b[39m \u001b[39m \u001b[39m \u001b[39m \u001b[39m \u001b[39m \u001b[39m \u001b[39m \u001b[39m \n",
       "  \u001b[39m▇\u001b[39m█\u001b[39m█\u001b[39m▄\u001b[39m▄\u001b[39m▃\u001b[39m▄\u001b[39m█\u001b[39m█\u001b[39m█\u001b[39m▅\u001b[39m▂\u001b[39m▂\u001b[39m▂\u001b[39m▁\u001b[39m▁\u001b[39m▁\u001b[39m▁\u001b[39m▁\u001b[39m▁\u001b[39m▁\u001b[39m▁\u001b[39m▁\u001b[39m▁\u001b[39m▁\u001b[39m▁\u001b[39m▁\u001b[32m▁\u001b[39m\u001b[39m▁\u001b[39m▆\u001b[34m▆\u001b[39m\u001b[39m▄\u001b[39m▂\u001b[39m▂\u001b[39m▂\u001b[39m▂\u001b[39m▅\u001b[39m█\u001b[39m▅\u001b[39m▇\u001b[39m█\u001b[39m█\u001b[39m█\u001b[39m▆\u001b[39m▄\u001b[39m▃\u001b[39m▂\u001b[39m▂\u001b[39m▂\u001b[39m▂\u001b[39m▁\u001b[39m▁\u001b[39m▁\u001b[39m▁\u001b[39m▂\u001b[39m▁\u001b[39m▂\u001b[39m▂\u001b[39m▁\u001b[39m \u001b[39m▃\n",
       "  32.9 ns\u001b[90m         Histogram: frequency by time\u001b[39m        43.3 ns \u001b[0m\u001b[1m<\u001b[22m\n",
       "\n",
       " Memory estimate\u001b[90m: \u001b[39m\u001b[33m16 bytes\u001b[39m, allocs estimate\u001b[90m: \u001b[39m\u001b[33m1\u001b[39m."
      ]
     },
     "execution_count": 11,
     "metadata": {},
     "output_type": "execute_result"
    }
   ],
   "source": [
    "@show nnz(A)\n",
    "@benchmark nnz(A)"
   ]
  },
  {
   "cell_type": "markdown",
   "metadata": {},
   "source": [
    "The number of dangling nodes (pages with no out links) corresponds to the number of rows that contain only zero elements."
   ]
  },
  {
   "cell_type": "code",
   "execution_count": 12,
   "metadata": {},
   "outputs": [
    {
     "name": "stdout",
     "output_type": "stream",
     "text": [
      "176974 pages have no out-links\n"
     ]
    }
   ],
   "source": [
    "## count zeros in row sums (out-degree)\n",
    "println(count(iszero, sum(A, dims = 2)), \" pages have no out-links\")"
   ]
  },
  {
   "cell_type": "markdown",
   "metadata": {},
   "source": [
    "Histogram of in-degrees. $\\sum_i a_{ij}$ is the *in*-degree of page $j$."
   ]
  },
  {
   "cell_type": "code",
   "execution_count": 13,
   "metadata": {},
   "outputs": [
    {
     "data": {
      "text/plain": [
       "                              \u001b[97;1mIn-degree distribution\u001b[0m           \n",
       "                    \u001b[38;5;8m┌                                        ┐\u001b[0m \n",
       "   [   0.0,  500.0) \u001b[38;5;8m┤\u001b[0m\u001b[38;5;2m███████████████████████████████\u001b[0m\u001b[38;5;2m \u001b[0m 916 114\u001b[38;5;8m \u001b[0m \u001b[38;5;8m\u001b[0m\n",
       "   [ 500.0, 1000.0) \u001b[38;5;8m┤\u001b[0m\u001b[38;5;2m\u001b[0m\u001b[38;5;2m▏\u001b[0m 180                                   \u001b[38;5;8m \u001b[0m \u001b[38;5;8m\u001b[0m\n",
       "   [1000.0, 1500.0) \u001b[38;5;8m┤\u001b[0m\u001b[38;5;2m\u001b[0m\u001b[38;5;2m▏\u001b[0m 32                                    \u001b[38;5;8m \u001b[0m \u001b[38;5;8m\u001b[0m\n",
       "   [1500.0, 2000.0) \u001b[38;5;8m┤\u001b[0m\u001b[38;5;2m\u001b[0m\u001b[38;5;2m▏\u001b[0m 20                                    \u001b[38;5;8m \u001b[0m \u001b[38;5;8m\u001b[0m\n",
       "   [2000.0, 2500.0) \u001b[38;5;8m┤\u001b[0m\u001b[38;5;2m\u001b[0m\u001b[38;5;2m▏\u001b[0m 16                                    \u001b[38;5;8m \u001b[0m \u001b[38;5;8m\u001b[0m\n",
       "   [2500.0, 3000.0) \u001b[38;5;8m┤\u001b[0m\u001b[38;5;2m\u001b[0m\u001b[38;5;2m▏\u001b[0m 20                                    \u001b[38;5;8m \u001b[0m \u001b[38;5;8m\u001b[0m\n",
       "   [3000.0, 3500.0) \u001b[38;5;8m┤\u001b[0m\u001b[38;5;2m\u001b[0m\u001b[38;5;2m▏\u001b[0m 18                                    \u001b[38;5;8m \u001b[0m \u001b[38;5;8m\u001b[0m\n",
       "   [3500.0, 4000.0) \u001b[38;5;8m┤\u001b[0m\u001b[38;5;2m\u001b[0m\u001b[38;5;2m▏\u001b[0m 10                                    \u001b[38;5;8m \u001b[0m \u001b[38;5;8m\u001b[0m\n",
       "   [4000.0, 4500.0) \u001b[38;5;8m┤\u001b[0m\u001b[38;5;2m\u001b[0m\u001b[38;5;2m▏\u001b[0m 9                                     \u001b[38;5;8m \u001b[0m \u001b[38;5;8m\u001b[0m\n",
       "   [4500.0, 5000.0) \u001b[38;5;8m┤\u001b[0m\u001b[38;5;2m\u001b[0m\u001b[38;5;2m▏\u001b[0m 4                                     \u001b[38;5;8m \u001b[0m \u001b[38;5;8m\u001b[0m\n",
       "   [5000.0, 5500.0) \u001b[38;5;8m┤\u001b[0m\u001b[38;5;2m\u001b[0m\u001b[38;5;2m▏\u001b[0m 4                                     \u001b[38;5;8m \u001b[0m \u001b[38;5;8m\u001b[0m\n",
       "   [5500.0, 6000.0) \u001b[38;5;8m┤\u001b[0m\u001b[38;5;2m\u001b[0m\u001b[38;5;2m \u001b[0m 0                                     \u001b[38;5;8m \u001b[0m \u001b[38;5;8m\u001b[0m\n",
       "   [6000.0, 6500.0) \u001b[38;5;8m┤\u001b[0m\u001b[38;5;2m\u001b[0m\u001b[38;5;2m▏\u001b[0m 1                                     \u001b[38;5;8m \u001b[0m \u001b[38;5;8m\u001b[0m\n",
       "                    \u001b[38;5;8m└                                        ┘\u001b[0m \n",
       "                                     Frequency                 "
      ]
     },
     "execution_count": 13,
     "metadata": {},
     "output_type": "execute_result"
    }
   ],
   "source": [
    "in_degrees = sum(A, dims = 1)\n",
    "histogram(in_degrees, title = \"In-degree distribution\")"
   ]
  },
  {
   "cell_type": "markdown",
   "metadata": {},
   "source": [
    "We see that most pages can be visited from at most 500 links. Let's zoom in."
   ]
  },
  {
   "cell_type": "code",
   "execution_count": 14,
   "metadata": {},
   "outputs": [
    {
     "data": {
      "text/plain": [
       "                        \u001b[97;1mIn-degree distribution (≤ 500)\u001b[0m       \n",
       "                  \u001b[38;5;8m┌                                        ┐\u001b[0m \n",
       "   [  0.0,  50.0) \u001b[38;5;8m┤\u001b[0m\u001b[38;5;2m███████████████████████████████\u001b[0m\u001b[38;5;2m \u001b[0m 904 305\u001b[38;5;8m \u001b[0m \u001b[38;5;8m\u001b[0m\n",
       "   [ 50.0, 100.0) \u001b[38;5;8m┤\u001b[0m\u001b[38;5;2m\u001b[0m\u001b[38;5;2m▍\u001b[0m 8 263                                 \u001b[38;5;8m \u001b[0m \u001b[38;5;8m\u001b[0m\n",
       "   [100.0, 150.0) \u001b[38;5;8m┤\u001b[0m\u001b[38;5;2m\u001b[0m\u001b[38;5;2m▏\u001b[0m 1 952                                 \u001b[38;5;8m \u001b[0m \u001b[38;5;8m\u001b[0m\n",
       "   [150.0, 200.0) \u001b[38;5;8m┤\u001b[0m\u001b[38;5;2m\u001b[0m\u001b[38;5;2m▏\u001b[0m 649                                   \u001b[38;5;8m \u001b[0m \u001b[38;5;8m\u001b[0m\n",
       "   [200.0, 250.0) \u001b[38;5;8m┤\u001b[0m\u001b[38;5;2m\u001b[0m\u001b[38;5;2m▏\u001b[0m 375                                   \u001b[38;5;8m \u001b[0m \u001b[38;5;8m\u001b[0m\n",
       "   [250.0, 300.0) \u001b[38;5;8m┤\u001b[0m\u001b[38;5;2m\u001b[0m\u001b[38;5;2m▏\u001b[0m 225                                   \u001b[38;5;8m \u001b[0m \u001b[38;5;8m\u001b[0m\n",
       "   [300.0, 350.0) \u001b[38;5;8m┤\u001b[0m\u001b[38;5;2m\u001b[0m\u001b[38;5;2m▏\u001b[0m 116                                   \u001b[38;5;8m \u001b[0m \u001b[38;5;8m\u001b[0m\n",
       "   [350.0, 400.0) \u001b[38;5;8m┤\u001b[0m\u001b[38;5;2m\u001b[0m\u001b[38;5;2m▏\u001b[0m 96                                    \u001b[38;5;8m \u001b[0m \u001b[38;5;8m\u001b[0m\n",
       "   [400.0, 450.0) \u001b[38;5;8m┤\u001b[0m\u001b[38;5;2m\u001b[0m\u001b[38;5;2m▏\u001b[0m 69                                    \u001b[38;5;8m \u001b[0m \u001b[38;5;8m\u001b[0m\n",
       "   [450.0, 500.0) \u001b[38;5;8m┤\u001b[0m\u001b[38;5;2m\u001b[0m\u001b[38;5;2m▏\u001b[0m 64                                    \u001b[38;5;8m \u001b[0m \u001b[38;5;8m\u001b[0m\n",
       "                  \u001b[38;5;8m└                                        ┘\u001b[0m \n",
       "                                   Frequency                 "
      ]
     },
     "execution_count": 14,
     "metadata": {},
     "output_type": "execute_result"
    }
   ],
   "source": [
    "histogram(filter(x -> x ≤ 500, in_degrees[:]), title = \"In-degree distribution (≤ 500)\") "
   ]
  },
  {
   "cell_type": "markdown",
   "metadata": {},
   "source": [
    "Almost all pages have in-degrees of at most 50. Next, extract top 20 pages with the largest in-degrees:"
   ]
  },
  {
   "cell_type": "code",
   "execution_count": 15,
   "metadata": {},
   "outputs": [
    {
     "data": {
      "text/plain": [
       "20×2 Matrix{Int64}:\n",
       " 537040  6326\n",
       " 597622  5354\n",
       " 504141  5271\n",
       " 751385  5182\n",
       "  32164  5097\n",
       " 885606  4847\n",
       " 163076  4731\n",
       " 819224  4620\n",
       " 605857  4550\n",
       " 828964  4484\n",
       " 551830  4220\n",
       "  41910  4219\n",
       " 558792  4206\n",
       " 459075  4187\n",
       " 407611  4180\n",
       " 213433  4084\n",
       " 765335  4015\n",
       " 384667  4010\n",
       " 173977  3988\n",
       " 687326  3956"
      ]
     },
     "execution_count": 15,
     "metadata": {},
     "output_type": "execute_result"
    }
   ],
   "source": [
    "## Top 20 largest in-degrees\n",
    "top20_in = sortperm(vec(in_degrees), rev = true)[1:20]\n",
    "hcat(top20_in, in_degrees[top20_in])"
   ]
  },
  {
   "cell_type": "markdown",
   "metadata": {},
   "source": [
    "The first column represents the page index and the second column represents in-degrees."
   ]
  },
  {
   "cell_type": "markdown",
   "metadata": {},
   "source": [
    "Histogram of out-degrees. $r_i = \\sum_j a_{ij}$ is the *out*-degree of page $j$."
   ]
  },
  {
   "cell_type": "code",
   "execution_count": 16,
   "metadata": {},
   "outputs": [
    {
     "data": {
      "text/plain": [
       "                            \u001b[97;1mOut-degree distribution\u001b[0m          \n",
       "                  \u001b[38;5;8m┌                                        ┐\u001b[0m \n",
       "   [  0.0,  20.0) \u001b[38;5;8m┤\u001b[0m\u001b[38;5;2m███████████████████████████████\u001b[0m\u001b[38;5;2m \u001b[0m 891 798\u001b[38;5;8m \u001b[0m \u001b[38;5;8m\u001b[0m\n",
       "   [ 20.0,  40.0) \u001b[38;5;8m┤\u001b[0m\u001b[38;5;2m\u001b[0m\u001b[38;5;2m▊\u001b[0m 22 628                                \u001b[38;5;8m \u001b[0m \u001b[38;5;8m\u001b[0m\n",
       "   [ 40.0,  60.0) \u001b[38;5;8m┤\u001b[0m\u001b[38;5;2m\u001b[0m\u001b[38;5;2m▏\u001b[0m 1 329                                 \u001b[38;5;8m \u001b[0m \u001b[38;5;8m\u001b[0m\n",
       "   [ 60.0,  80.0) \u001b[38;5;8m┤\u001b[0m\u001b[38;5;2m\u001b[0m\u001b[38;5;2m▏\u001b[0m 371                                   \u001b[38;5;8m \u001b[0m \u001b[38;5;8m\u001b[0m\n",
       "   [ 80.0, 100.0) \u001b[38;5;8m┤\u001b[0m\u001b[38;5;2m\u001b[0m\u001b[38;5;2m▏\u001b[0m 124                                   \u001b[38;5;8m \u001b[0m \u001b[38;5;8m\u001b[0m\n",
       "   [100.0, 120.0) \u001b[38;5;8m┤\u001b[0m\u001b[38;5;2m\u001b[0m\u001b[38;5;2m▏\u001b[0m 86                                    \u001b[38;5;8m \u001b[0m \u001b[38;5;8m\u001b[0m\n",
       "   [120.0, 140.0) \u001b[38;5;8m┤\u001b[0m\u001b[38;5;2m\u001b[0m\u001b[38;5;2m▏\u001b[0m 29                                    \u001b[38;5;8m \u001b[0m \u001b[38;5;8m\u001b[0m\n",
       "   [140.0, 160.0) \u001b[38;5;8m┤\u001b[0m\u001b[38;5;2m\u001b[0m\u001b[38;5;2m▏\u001b[0m 15                                    \u001b[38;5;8m \u001b[0m \u001b[38;5;8m\u001b[0m\n",
       "   [160.0, 180.0) \u001b[38;5;8m┤\u001b[0m\u001b[38;5;2m\u001b[0m\u001b[38;5;2m▏\u001b[0m 15                                    \u001b[38;5;8m \u001b[0m \u001b[38;5;8m\u001b[0m\n",
       "   [180.0, 200.0) \u001b[38;5;8m┤\u001b[0m\u001b[38;5;2m\u001b[0m\u001b[38;5;2m▏\u001b[0m 8                                     \u001b[38;5;8m \u001b[0m \u001b[38;5;8m\u001b[0m\n",
       "   [200.0, 220.0) \u001b[38;5;8m┤\u001b[0m\u001b[38;5;2m\u001b[0m\u001b[38;5;2m▏\u001b[0m 7                                     \u001b[38;5;8m \u001b[0m \u001b[38;5;8m\u001b[0m\n",
       "   [220.0, 240.0) \u001b[38;5;8m┤\u001b[0m\u001b[38;5;2m\u001b[0m\u001b[38;5;2m▏\u001b[0m 3                                     \u001b[38;5;8m \u001b[0m \u001b[38;5;8m\u001b[0m\n",
       "   [240.0, 260.0) \u001b[38;5;8m┤\u001b[0m\u001b[38;5;2m\u001b[0m\u001b[38;5;2m▏\u001b[0m 8                                     \u001b[38;5;8m \u001b[0m \u001b[38;5;8m\u001b[0m\n",
       "   [260.0, 280.0) \u001b[38;5;8m┤\u001b[0m\u001b[38;5;2m\u001b[0m\u001b[38;5;2m▏\u001b[0m 3                                     \u001b[38;5;8m \u001b[0m \u001b[38;5;8m\u001b[0m\n",
       "   [280.0, 300.0) \u001b[38;5;8m┤\u001b[0m\u001b[38;5;2m\u001b[0m\u001b[38;5;2m \u001b[0m 0                                     \u001b[38;5;8m \u001b[0m \u001b[38;5;8m\u001b[0m\n",
       "   [300.0, 320.0) \u001b[38;5;8m┤\u001b[0m\u001b[38;5;2m\u001b[0m\u001b[38;5;2m \u001b[0m 0                                     \u001b[38;5;8m \u001b[0m \u001b[38;5;8m\u001b[0m\n",
       "   [320.0, 340.0) \u001b[38;5;8m┤\u001b[0m\u001b[38;5;2m\u001b[0m\u001b[38;5;2m▏\u001b[0m 1                                     \u001b[38;5;8m \u001b[0m \u001b[38;5;8m\u001b[0m\n",
       "   [340.0, 360.0) \u001b[38;5;8m┤\u001b[0m\u001b[38;5;2m\u001b[0m\u001b[38;5;2m \u001b[0m 0                                     \u001b[38;5;8m \u001b[0m \u001b[38;5;8m\u001b[0m\n",
       "   [360.0, 380.0) \u001b[38;5;8m┤\u001b[0m\u001b[38;5;2m\u001b[0m\u001b[38;5;2m▏\u001b[0m 2                                     \u001b[38;5;8m \u001b[0m \u001b[38;5;8m\u001b[0m\n",
       "   [380.0, 400.0) \u001b[38;5;8m┤\u001b[0m\u001b[38;5;2m\u001b[0m\u001b[38;5;2m \u001b[0m 0                                     \u001b[38;5;8m \u001b[0m \u001b[38;5;8m\u001b[0m\n",
       "   [400.0, 420.0) \u001b[38;5;8m┤\u001b[0m\u001b[38;5;2m\u001b[0m\u001b[38;5;2m \u001b[0m 0                                     \u001b[38;5;8m \u001b[0m \u001b[38;5;8m\u001b[0m\n",
       "   [420.0, 440.0) \u001b[38;5;8m┤\u001b[0m\u001b[38;5;2m\u001b[0m\u001b[38;5;2m \u001b[0m 0                                     \u001b[38;5;8m \u001b[0m \u001b[38;5;8m\u001b[0m\n",
       "   [440.0, 460.0) \u001b[38;5;8m┤\u001b[0m\u001b[38;5;2m\u001b[0m\u001b[38;5;2m▏\u001b[0m 1                                     \u001b[38;5;8m \u001b[0m \u001b[38;5;8m\u001b[0m\n",
       "                  \u001b[38;5;8m└                                        ┘\u001b[0m \n",
       "                                   Frequency                 "
      ]
     },
     "execution_count": 16,
     "metadata": {},
     "output_type": "execute_result"
    }
   ],
   "source": [
    "out_degrees = sum(A, dims = 2)\n",
    "histogram(out_degrees, title = \"Out-degree distribution\")"
   ]
  },
  {
   "cell_type": "markdown",
   "metadata": {},
   "source": [
    "Most pages have no more than 20 different links. Let's zoom in."
   ]
  },
  {
   "cell_type": "code",
   "execution_count": 17,
   "metadata": {},
   "outputs": [
    {
     "data": {
      "text/plain": [
       "                      \u001b[97;1mOut-degree distribution (≤ 500)\u001b[0m      \n",
       "                \u001b[38;5;8m┌                                        ┐\u001b[0m \n",
       "   [ 0.0,  1.0) \u001b[38;5;8m┤\u001b[0m\u001b[38;5;2m███████████████████████████████\u001b[0m\u001b[38;5;2m \u001b[0m 176 974\u001b[38;5;8m \u001b[0m \u001b[38;5;8m\u001b[0m\n",
       "   [ 1.0,  2.0) \u001b[38;5;8m┤\u001b[0m\u001b[38;5;2m██████████████████████\u001b[0m\u001b[38;5;2m▍\u001b[0m 127 937         \u001b[38;5;8m \u001b[0m \u001b[38;5;8m\u001b[0m\n",
       "   [ 2.0,  3.0) \u001b[38;5;8m┤\u001b[0m\u001b[38;5;2m████████████████\u001b[0m\u001b[38;5;2m▋\u001b[0m 95 253                \u001b[38;5;8m \u001b[0m \u001b[38;5;8m\u001b[0m\n",
       "   [ 3.0,  4.0) \u001b[38;5;8m┤\u001b[0m\u001b[38;5;2m███████████\u001b[0m\u001b[38;5;2m▌\u001b[0m 65 976                     \u001b[38;5;8m \u001b[0m \u001b[38;5;8m\u001b[0m\n",
       "   [ 4.0,  5.0) \u001b[38;5;8m┤\u001b[0m\u001b[38;5;2m█████████\u001b[0m\u001b[38;5;2m▍\u001b[0m 53 560                       \u001b[38;5;8m \u001b[0m \u001b[38;5;8m\u001b[0m\n",
       "   [ 5.0,  6.0) \u001b[38;5;8m┤\u001b[0m\u001b[38;5;2m████████\u001b[0m\u001b[38;5;2m▎\u001b[0m 46 771                        \u001b[38;5;8m \u001b[0m \u001b[38;5;8m\u001b[0m\n",
       "   [ 6.0,  7.0) \u001b[38;5;8m┤\u001b[0m\u001b[38;5;2m███████\u001b[0m\u001b[38;5;2m▎\u001b[0m 40 993                         \u001b[38;5;8m \u001b[0m \u001b[38;5;8m\u001b[0m\n",
       "   [ 7.0,  8.0) \u001b[38;5;8m┤\u001b[0m\u001b[38;5;2m██████\u001b[0m\u001b[38;5;2m▋\u001b[0m 38 491                          \u001b[38;5;8m \u001b[0m \u001b[38;5;8m\u001b[0m\n",
       "   [ 8.0,  9.0) \u001b[38;5;8m┤\u001b[0m\u001b[38;5;2m██████\u001b[0m\u001b[38;5;2m▌\u001b[0m 37 187                          \u001b[38;5;8m \u001b[0m \u001b[38;5;8m\u001b[0m\n",
       "   [ 9.0, 10.0) \u001b[38;5;8m┤\u001b[0m\u001b[38;5;2m█████\u001b[0m\u001b[38;5;2m▋\u001b[0m 32 666                           \u001b[38;5;8m \u001b[0m \u001b[38;5;8m\u001b[0m\n",
       "   [10.0, 11.0) \u001b[38;5;8m┤\u001b[0m\u001b[38;5;2m█████\u001b[0m\u001b[38;5;2m▎\u001b[0m 29 096                           \u001b[38;5;8m \u001b[0m \u001b[38;5;8m\u001b[0m\n",
       "   [11.0, 12.0) \u001b[38;5;8m┤\u001b[0m\u001b[38;5;2m████\u001b[0m\u001b[38;5;2m▌\u001b[0m 25 656                            \u001b[38;5;8m \u001b[0m \u001b[38;5;8m\u001b[0m\n",
       "   [12.0, 13.0) \u001b[38;5;8m┤\u001b[0m\u001b[38;5;2m███\u001b[0m\u001b[38;5;2m▉\u001b[0m 22 549                             \u001b[38;5;8m \u001b[0m \u001b[38;5;8m\u001b[0m\n",
       "   [13.0, 14.0) \u001b[38;5;8m┤\u001b[0m\u001b[38;5;2m███\u001b[0m\u001b[38;5;2m▍\u001b[0m 19 156                             \u001b[38;5;8m \u001b[0m \u001b[38;5;8m\u001b[0m\n",
       "   [14.0, 15.0) \u001b[38;5;8m┤\u001b[0m\u001b[38;5;2m██\u001b[0m\u001b[38;5;2m▉\u001b[0m 17 018                              \u001b[38;5;8m \u001b[0m \u001b[38;5;8m\u001b[0m\n",
       "   [15.0, 16.0) \u001b[38;5;8m┤\u001b[0m\u001b[38;5;2m██\u001b[0m\u001b[38;5;2m▋\u001b[0m 15 130                              \u001b[38;5;8m \u001b[0m \u001b[38;5;8m\u001b[0m\n",
       "   [16.0, 17.0) \u001b[38;5;8m┤\u001b[0m\u001b[38;5;2m██\u001b[0m\u001b[38;5;2m▍\u001b[0m 13 070                              \u001b[38;5;8m \u001b[0m \u001b[38;5;8m\u001b[0m\n",
       "   [17.0, 18.0) \u001b[38;5;8m┤\u001b[0m\u001b[38;5;2m██\u001b[0m\u001b[38;5;2m▏\u001b[0m 11 778                              \u001b[38;5;8m \u001b[0m \u001b[38;5;8m\u001b[0m\n",
       "   [18.0, 19.0) \u001b[38;5;8m┤\u001b[0m\u001b[38;5;2m█\u001b[0m\u001b[38;5;2m▉\u001b[0m 11 281                               \u001b[38;5;8m \u001b[0m \u001b[38;5;8m\u001b[0m\n",
       "   [19.0, 20.0) \u001b[38;5;8m┤\u001b[0m\u001b[38;5;2m█\u001b[0m\u001b[38;5;2m▉\u001b[0m 11 256                               \u001b[38;5;8m \u001b[0m \u001b[38;5;8m\u001b[0m\n",
       "   [20.0, 21.0) \u001b[38;5;8m┤\u001b[0m\u001b[38;5;2m█\u001b[0m\u001b[38;5;2m▌\u001b[0m 8 305                                \u001b[38;5;8m \u001b[0m \u001b[38;5;8m\u001b[0m\n",
       "                \u001b[38;5;8m└                                        ┘\u001b[0m \n",
       "                                 Frequency                 "
      ]
     },
     "execution_count": 17,
     "metadata": {},
     "output_type": "execute_result"
    }
   ],
   "source": [
    "histogram(filter(x -> x ≤ 20, out_degrees[:]), title = \"Out-degree distribution (≤ 500)\") "
   ]
  },
  {
   "cell_type": "markdown",
   "metadata": {},
   "source": [
    "The left-skewed distribution makes sense. Extract top 20 pages with the largest out-degrees;"
   ]
  },
  {
   "cell_type": "code",
   "execution_count": 18,
   "metadata": {},
   "outputs": [
    {
     "data": {
      "text/plain": [
       "20×2 Matrix{Int64}:\n",
       " 506743  456\n",
       " 203749  372\n",
       " 305230  372\n",
       " 768092  330\n",
       " 808644  277\n",
       " 412411  268\n",
       " 600480  265\n",
       " 376429  258\n",
       " 156951  257\n",
       " 885729  256\n",
       " 667585  253\n",
       " 685696  248\n",
       " 282141  247\n",
       " 598189  245\n",
       " 579315  244\n",
       " 411594  231\n",
       " 321092  229\n",
       " 838279  225\n",
       " 302734  216\n",
       " 915274  213"
      ]
     },
     "execution_count": 18,
     "metadata": {},
     "output_type": "execute_result"
    }
   ],
   "source": [
    "## Top 20 largest out-degrees\n",
    "top20_out = sortperm(vec(out_degrees), rev = true)[1:20]\n",
    "hcat(top20_out, out_degrees[top20_out])"
   ]
  },
  {
   "cell_type": "markdown",
   "metadata": {},
   "source": [
    "Finally, we visualize the sparsity pattern of `A[1:10000, 1:10000]`. "
   ]
  },
  {
   "cell_type": "code",
   "execution_count": 19,
   "metadata": {},
   "outputs": [
    {
     "data": {
      "text/plain": [
       "          \u001b[38;5;8m┌──────────────────────────────────────────┐\u001b[0m    \n",
       "        \u001b[38;5;8m1\u001b[0m \u001b[38;5;8m│\u001b[0m⠀⠀⠀⠀⠀⠀⠀\u001b[38;5;1m⠂\u001b[0m⠀⠀⠀⠀\u001b[38;5;1m⢀\u001b[0m\u001b[38;5;1m⢂\u001b[0m\u001b[38;5;1m⡂\u001b[0m\u001b[38;5;1m⠐\u001b[0m⠀⠀⠀\u001b[38;5;1m⠠\u001b[0m⠀⠀⠀\u001b[38;5;1m⠔\u001b[0m\u001b[38;5;1m⠄\u001b[0m⠀\u001b[38;5;1m⠈\u001b[0m\u001b[38;5;1m⢀\u001b[0m⠀⠀\u001b[38;5;1m⠉\u001b[0m⠀⠀\u001b[38;5;1m⠁\u001b[0m⠀⠀\u001b[38;5;1m⠐\u001b[0m⠀\u001b[38;5;1m⠄\u001b[0m⠀\u001b[38;5;1m⠐\u001b[0m⠀\u001b[38;5;8m│\u001b[0m \u001b[38;5;1m> 0\u001b[0m\n",
       "         \u001b[38;5;8m\u001b[0m \u001b[38;5;8m│\u001b[0m⠀⠀⠀⠀⠀\u001b[38;5;1m⠂\u001b[0m\u001b[38;5;1m⡂\u001b[0m⠀\u001b[38;5;1m⠄\u001b[0m\u001b[38;5;1m⠄\u001b[0m\u001b[38;5;1m⠈\u001b[0m\u001b[38;5;1m⠈\u001b[0m\u001b[38;5;1m⡔\u001b[0m⠀⠀\u001b[38;5;1m⠁\u001b[0m\u001b[38;5;1m⠂\u001b[0m⠀⠀⠀⠀\u001b[38;5;1m⠠\u001b[0m\u001b[38;5;1m⠁\u001b[0m\u001b[38;5;1m⠒\u001b[0m\u001b[38;5;1m⠁\u001b[0m⠀\u001b[38;5;1m⠄\u001b[0m⠀\u001b[38;5;1m⠐\u001b[0m⠀\u001b[38;5;1m⠈\u001b[0m⠀⠀\u001b[38;5;1m⡐\u001b[0m⠀⠀\u001b[38;5;1m⠠\u001b[0m⠀\u001b[38;5;1m⡀\u001b[0m⠀\u001b[38;5;1m⠉\u001b[0m⠀\u001b[38;5;8m│\u001b[0m \u001b[38;5;4m< 0\u001b[0m\n",
       "         \u001b[38;5;8m\u001b[0m \u001b[38;5;8m│\u001b[0m⠀\u001b[38;5;1m⠐\u001b[0m\u001b[38;5;1m⠠\u001b[0m⠀⠀\u001b[38;5;1m⠁\u001b[0m\u001b[38;5;1m⢐\u001b[0m\u001b[38;5;1m⠄\u001b[0m⠀\u001b[38;5;1m⠢\u001b[0m\u001b[38;5;1m⠠\u001b[0m⠀⠀\u001b[38;5;1m⡀\u001b[0m\u001b[38;5;1m⠈\u001b[0m⠀\u001b[38;5;1m⠋\u001b[0m⠀⠀⠀⠀⠀\u001b[38;5;1m⠂\u001b[0m\u001b[38;5;1m⡀\u001b[0m⠀\u001b[38;5;1m⠈\u001b[0m\u001b[38;5;1m⠄\u001b[0m⠀\u001b[38;5;1m⠄\u001b[0m\u001b[38;5;1m⠁\u001b[0m\u001b[38;5;1m⠈\u001b[0m⠀\u001b[38;5;1m⠠\u001b[0m⠀\u001b[38;5;1m⠰\u001b[0m⠀⠀⠀⠀\u001b[38;5;1m⢀\u001b[0m\u001b[38;5;1m⠆\u001b[0m⠀\u001b[38;5;8m│\u001b[0m \u001b[38;5;8m\u001b[0m   \n",
       "         \u001b[38;5;8m\u001b[0m \u001b[38;5;8m│\u001b[0m⠀\u001b[38;5;1m⠈\u001b[0m\u001b[38;5;1m⠠\u001b[0m\u001b[38;5;1m⠂\u001b[0m⠀\u001b[38;5;1m⠈\u001b[0m⠀\u001b[38;5;1m⡠\u001b[0m\u001b[38;5;1m⠐\u001b[0m⠀⠀⠀⠀⠀⠀⠀⠀⠀⠀\u001b[38;5;1m⡀\u001b[0m\u001b[38;5;1m⠈\u001b[0m\u001b[38;5;1m⠄\u001b[0m\u001b[38;5;1m⠁\u001b[0m\u001b[38;5;1m⢀\u001b[0m\u001b[38;5;1m⡀\u001b[0m\u001b[38;5;1m⠐\u001b[0m\u001b[38;5;1m⠄\u001b[0m\u001b[38;5;1m⠄\u001b[0m⠀⠀\u001b[38;5;1m⢀\u001b[0m⠀\u001b[38;5;1m⠈\u001b[0m\u001b[38;5;1m⠂\u001b[0m\u001b[38;5;1m⢠\u001b[0m⠀\u001b[38;5;1m⠢\u001b[0m\u001b[38;5;1m⠐\u001b[0m⠀⠀⠀\u001b[38;5;1m⡀\u001b[0m\u001b[38;5;8m│\u001b[0m \u001b[38;5;8m\u001b[0m   \n",
       "         \u001b[38;5;8m\u001b[0m \u001b[38;5;8m│\u001b[0m⠀⠀\u001b[38;5;1m⠐\u001b[0m\u001b[38;5;1m⡁\u001b[0m⠀\u001b[38;5;1m⡀\u001b[0m⠀⠀\u001b[38;5;1m⠠\u001b[0m⠀\u001b[38;5;1m⠁\u001b[0m⠀⠀⠀\u001b[38;5;1m⡄\u001b[0m⠀\u001b[38;5;1m⠈\u001b[0m\u001b[38;5;1m⠁\u001b[0m⠀⠀⠀⠀\u001b[38;5;1m⠠\u001b[0m\u001b[38;5;1m⠂\u001b[0m⠀⠀⠀⠀⠀\u001b[38;5;1m⠂\u001b[0m\u001b[38;5;1m⠪\u001b[0m⠀⠀\u001b[38;5;1m⠂\u001b[0m⠀⠀⠀\u001b[38;5;1m⠄\u001b[0m\u001b[38;5;1m⢀\u001b[0m⠀\u001b[38;5;1m⠁\u001b[0m⠀\u001b[38;5;8m│\u001b[0m \u001b[38;5;8m\u001b[0m   \n",
       "         \u001b[38;5;8m\u001b[0m \u001b[38;5;8m│\u001b[0m\u001b[38;5;1m⠂\u001b[0m\u001b[38;5;1m⢀\u001b[0m⠀\u001b[38;5;1m⠁\u001b[0m⠀⠀\u001b[38;5;1m⡀\u001b[0m\u001b[38;5;1m⡉\u001b[0m⠀⠀\u001b[38;5;1m⠠\u001b[0m\u001b[38;5;1m⠂\u001b[0m\u001b[38;5;1m⠐\u001b[0m\u001b[38;5;1m⢀\u001b[0m\u001b[38;5;1m⠄\u001b[0m\u001b[38;5;1m⠁\u001b[0m\u001b[38;5;1m⠐\u001b[0m⠀\u001b[38;5;1m⠈\u001b[0m⠀⠀⠀⠀⠀\u001b[38;5;1m⡀\u001b[0m\u001b[38;5;1m⠐\u001b[0m\u001b[38;5;1m⠁\u001b[0m\u001b[38;5;1m⡠\u001b[0m⠀\u001b[38;5;1m⠂\u001b[0m\u001b[38;5;1m⠚\u001b[0m⠀\u001b[38;5;1m⠁\u001b[0m⠀\u001b[38;5;1m⠐\u001b[0m\u001b[38;5;1m⢀\u001b[0m\u001b[38;5;1m⠆\u001b[0m⠀\u001b[38;5;1m⠈\u001b[0m\u001b[38;5;1m⠄\u001b[0m\u001b[38;5;1m⢀\u001b[0m\u001b[38;5;1m⠂\u001b[0m\u001b[38;5;8m│\u001b[0m \u001b[38;5;8m\u001b[0m   \n",
       "         \u001b[38;5;8m\u001b[0m \u001b[38;5;8m│\u001b[0m⠀⠀⠀\u001b[38;5;1m⠁\u001b[0m⠀\u001b[38;5;1m⡄\u001b[0m⠀⠀⠀⠀\u001b[38;5;1m⠒\u001b[0m⠀\u001b[38;5;1m⢄\u001b[0m\u001b[38;5;1m⠄\u001b[0m\u001b[38;5;1m⢂\u001b[0m⠀\u001b[38;5;1m⠂\u001b[0m⠀⠀\u001b[38;5;1m⠄\u001b[0m⠀\u001b[38;5;1m⢀\u001b[0m⠀\u001b[38;5;1m⠣\u001b[0m⠀\u001b[38;5;1m⢀\u001b[0m⠀⠀⠀⠀\u001b[38;5;1m⠠\u001b[0m\u001b[38;5;1m⡀\u001b[0m⠀⠀\u001b[38;5;1m⢠\u001b[0m\u001b[38;5;1m⠄\u001b[0m⠀\u001b[38;5;1m⡀\u001b[0m⠀\u001b[38;5;1m⠂\u001b[0m\u001b[38;5;1m⠂\u001b[0m⠀\u001b[38;5;8m│\u001b[0m \u001b[38;5;8m\u001b[0m   \n",
       "         \u001b[38;5;8m\u001b[0m \u001b[38;5;8m│\u001b[0m\u001b[38;5;1m⢀\u001b[0m\u001b[38;5;1m⠈\u001b[0m⠀⠀\u001b[38;5;1m⠂\u001b[0m⠀⠀\u001b[38;5;1m⠁\u001b[0m\u001b[38;5;1m⢠\u001b[0m\u001b[38;5;1m⠈\u001b[0m\u001b[38;5;1m⠄\u001b[0m\u001b[38;5;1m⠁\u001b[0m⠀⠀\u001b[38;5;1m⡈\u001b[0m\u001b[38;5;1m⠈\u001b[0m\u001b[38;5;1m⠠\u001b[0m⠀\u001b[38;5;1m⢀\u001b[0m\u001b[38;5;1m⡦\u001b[0m⠀⠀\u001b[38;5;1m⠅\u001b[0m\u001b[38;5;1m⠐\u001b[0m⠀\u001b[38;5;1m⠨\u001b[0m\u001b[38;5;1m⠁\u001b[0m\u001b[38;5;1m⠨\u001b[0m⠀\u001b[38;5;1m⠄\u001b[0m\u001b[38;5;1m⠠\u001b[0m\u001b[38;5;1m⢀\u001b[0m⠀\u001b[38;5;1m⠐\u001b[0m\u001b[38;5;1m⢐\u001b[0m⠀⠀\u001b[38;5;1m⠉\u001b[0m⠀⠀\u001b[38;5;1m⠠\u001b[0m\u001b[38;5;1m⠉\u001b[0m\u001b[38;5;8m│\u001b[0m \u001b[38;5;8m\u001b[0m   \n",
       "         \u001b[38;5;8m\u001b[0m \u001b[38;5;8m│\u001b[0m⠀⠀\u001b[38;5;1m⠨\u001b[0m⠀\u001b[38;5;1m⠋\u001b[0m⠀\u001b[38;5;1m⠄\u001b[0m⠀\u001b[38;5;1m⠂\u001b[0m⠀\u001b[38;5;1m⠈\u001b[0m⠀⠀⠀\u001b[38;5;1m⠈\u001b[0m⠀⠀⠀⠀\u001b[38;5;1m⡑\u001b[0m⠀\u001b[38;5;1m⢀\u001b[0m\u001b[38;5;1m⠈\u001b[0m\u001b[38;5;1m⠈\u001b[0m⠀⠀⠀\u001b[38;5;1m⠈\u001b[0m⠀\u001b[38;5;1m⠂\u001b[0m\u001b[38;5;1m⠐\u001b[0m\u001b[38;5;1m⠼\u001b[0m⠀\u001b[38;5;1m⠠\u001b[0m⠀⠀\u001b[38;5;1m⡈\u001b[0m\u001b[38;5;1m⠁\u001b[0m⠀⠀\u001b[38;5;1m⠡\u001b[0m\u001b[38;5;1m⠄\u001b[0m\u001b[38;5;8m│\u001b[0m \u001b[38;5;8m\u001b[0m   \n",
       "         \u001b[38;5;8m\u001b[0m \u001b[38;5;8m│\u001b[0m\u001b[38;5;1m⠠\u001b[0m\u001b[38;5;1m⡁\u001b[0m⠀⠀⠀⠀⠀⠀⠀⠀\u001b[38;5;1m⠂\u001b[0m\u001b[38;5;1m⢀\u001b[0m⠀⠀⠀\u001b[38;5;1m⡄\u001b[0m⠀⠀⠀\u001b[38;5;1m⠤\u001b[0m⠀⠀\u001b[38;5;1m⠁\u001b[0m⠀\u001b[38;5;1m⡂\u001b[0m⠀⠀⠀\u001b[38;5;1m⠄\u001b[0m⠀\u001b[38;5;1m⢈\u001b[0m⠀\u001b[38;5;1m⢔\u001b[0m\u001b[38;5;1m⡊\u001b[0m\u001b[38;5;1m⣨\u001b[0m\u001b[38;5;1m⠈\u001b[0m\u001b[38;5;1m⠂\u001b[0m⠀\u001b[38;5;1m⠄\u001b[0m\u001b[38;5;1m⢀\u001b[0m⠀⠀\u001b[38;5;8m│\u001b[0m \u001b[38;5;8m\u001b[0m   \n",
       "         \u001b[38;5;8m\u001b[0m \u001b[38;5;8m│\u001b[0m⠀\u001b[38;5;1m⠂\u001b[0m⠀\u001b[38;5;1m⠈\u001b[0m⠀⠀⠀⠀⠀⠀\u001b[38;5;1m⠈\u001b[0m⠀\u001b[38;5;1m⡀\u001b[0m⠀\u001b[38;5;1m⠂\u001b[0m\u001b[38;5;1m⠠\u001b[0m\u001b[38;5;1m⠐\u001b[0m⠀\u001b[38;5;1m⠄\u001b[0m⠀⠀⠀⠀⠀⠀\u001b[38;5;1m⠤\u001b[0m⠀⠀⠀\u001b[38;5;1m⠠\u001b[0m\u001b[38;5;1m⠘\u001b[0m\u001b[38;5;1m⠐\u001b[0m⠀\u001b[38;5;1m⠄\u001b[0m\u001b[38;5;1m⢘\u001b[0m⠀⠀\u001b[38;5;1m⢐\u001b[0m\u001b[38;5;1m⠄\u001b[0m⠀\u001b[38;5;1m⠁\u001b[0m⠀\u001b[38;5;8m│\u001b[0m \u001b[38;5;8m\u001b[0m   \n",
       "         \u001b[38;5;8m\u001b[0m \u001b[38;5;8m│\u001b[0m\u001b[38;5;1m⢀\u001b[0m\u001b[38;5;1m⠄\u001b[0m\u001b[38;5;1m⢠\u001b[0m\u001b[38;5;1m⠄\u001b[0m\u001b[38;5;1m⡊\u001b[0m\u001b[38;5;1m⠂\u001b[0m\u001b[38;5;1m⠢\u001b[0m\u001b[38;5;1m⢀\u001b[0m⠀⠀⠀⠀\u001b[38;5;1m⠄\u001b[0m\u001b[38;5;1m⡀\u001b[0m\u001b[38;5;1m⡑\u001b[0m⠀\u001b[38;5;1m⡐\u001b[0m⠀\u001b[38;5;1m⠁\u001b[0m\u001b[38;5;1m⡂\u001b[0m⠀⠀⠀\u001b[38;5;1m⠰\u001b[0m\u001b[38;5;1m⠂\u001b[0m\u001b[38;5;1m⢠\u001b[0m\u001b[38;5;1m⠄\u001b[0m\u001b[38;5;1m⠈\u001b[0m⠀\u001b[38;5;1m⠈\u001b[0m\u001b[38;5;1m⠐\u001b[0m⠀⠀⠀\u001b[38;5;1m⠉\u001b[0m⠀⠀\u001b[38;5;1m⡀\u001b[0m⠀⠀\u001b[38;5;1m⠃\u001b[0m⠀\u001b[38;5;8m│\u001b[0m \u001b[38;5;8m\u001b[0m   \n",
       "         \u001b[38;5;8m\u001b[0m \u001b[38;5;8m│\u001b[0m⠀⠀\u001b[38;5;1m⠅\u001b[0m⠀\u001b[38;5;1m⡁\u001b[0m⠀⠀⠀⠀⠀\u001b[38;5;1m⢁\u001b[0m\u001b[38;5;1m⢀\u001b[0m⠀\u001b[38;5;1m⡀\u001b[0m\u001b[38;5;1m⡀\u001b[0m\u001b[38;5;1m⡐\u001b[0m⠀⠀\u001b[38;5;1m⠈\u001b[0m\u001b[38;5;1m⠈\u001b[0m\u001b[38;5;1m⠔\u001b[0m\u001b[38;5;1m⠄\u001b[0m⠀⠀\u001b[38;5;1m⢀\u001b[0m⠀⠀⠀⠀⠀⠀⠀⠀\u001b[38;5;1m⠄\u001b[0m\u001b[38;5;1m⢉\u001b[0m\u001b[38;5;1m⠠\u001b[0m\u001b[38;5;1m⠁\u001b[0m\u001b[38;5;1m⠈\u001b[0m⠀⠀⠀⠀\u001b[38;5;8m│\u001b[0m \u001b[38;5;8m\u001b[0m   \n",
       "         \u001b[38;5;8m\u001b[0m \u001b[38;5;8m│\u001b[0m\u001b[38;5;1m⠊\u001b[0m\u001b[38;5;1m⢈\u001b[0m⠀\u001b[38;5;1m⠁\u001b[0m⠀⠀⠀\u001b[38;5;1m⠅\u001b[0m⠀\u001b[38;5;1m⠂\u001b[0m⠀\u001b[38;5;1m⡀\u001b[0m⠀⠀⠀⠀\u001b[38;5;1m⡀\u001b[0m⠀⠀\u001b[38;5;1m⠐\u001b[0m\u001b[38;5;1m⠄\u001b[0m\u001b[38;5;1m⠁\u001b[0m\u001b[38;5;1m⠠\u001b[0m⠀\u001b[38;5;1m⠐\u001b[0m\u001b[38;5;1m⠈\u001b[0m⠀⠀⠀\u001b[38;5;1m⡀\u001b[0m\u001b[38;5;1m⢠\u001b[0m⠀⠀⠀\u001b[38;5;1m⢰\u001b[0m⠀⠀⠀\u001b[38;5;1m⢀\u001b[0m⠀\u001b[38;5;1m⠠\u001b[0m\u001b[38;5;1m⠂\u001b[0m\u001b[38;5;8m│\u001b[0m \u001b[38;5;8m\u001b[0m   \n",
       "         \u001b[38;5;8m\u001b[0m \u001b[38;5;8m│\u001b[0m\u001b[38;5;1m⠈\u001b[0m⠀⠀\u001b[38;5;1m⠈\u001b[0m\u001b[38;5;1m⠄\u001b[0m⠀⠀\u001b[38;5;1m⠄\u001b[0m\u001b[38;5;1m⠐\u001b[0m⠀\u001b[38;5;1m⠠\u001b[0m⠀\u001b[38;5;1m⠁\u001b[0m⠀\u001b[38;5;1m⡂\u001b[0m⠀\u001b[38;5;1m⠠\u001b[0m\u001b[38;5;1m⠄\u001b[0m\u001b[38;5;1m⠌\u001b[0m\u001b[38;5;1m⠅\u001b[0m\u001b[38;5;1m⣀\u001b[0m⠀⠀\u001b[38;5;1m⢀\u001b[0m⠀\u001b[38;5;1m⠠\u001b[0m⠀\u001b[38;5;1m⠠\u001b[0m\u001b[38;5;1m⠠\u001b[0m⠀\u001b[38;5;1m⠲\u001b[0m\u001b[38;5;1m⢂\u001b[0m⠀\u001b[38;5;1m⠰\u001b[0m\u001b[38;5;1m⡄\u001b[0m⠀\u001b[38;5;1m⢀\u001b[0m\u001b[38;5;1m⠬\u001b[0m\u001b[38;5;1m⠈\u001b[0m⠀⠀⠀\u001b[38;5;8m│\u001b[0m \u001b[38;5;8m\u001b[0m   \n",
       "         \u001b[38;5;8m\u001b[0m \u001b[38;5;8m│\u001b[0m\u001b[38;5;1m⠈\u001b[0m⠀⠀\u001b[38;5;1m⠄\u001b[0m⠀⠀\u001b[38;5;1m⡀\u001b[0m\u001b[38;5;1m⠈\u001b[0m⠀⠀\u001b[38;5;1m⠙\u001b[0m⠀⠀⠀\u001b[38;5;1m⢀\u001b[0m\u001b[38;5;1m⢀\u001b[0m\u001b[38;5;1m⠂\u001b[0m⠀⠀\u001b[38;5;1m⡄\u001b[0m\u001b[38;5;1m⢀\u001b[0m⠀\u001b[38;5;1m⠠\u001b[0m⠀\u001b[38;5;1m⠂\u001b[0m⠀⠀\u001b[38;5;1m⠐\u001b[0m⠀⠀\u001b[38;5;1m⠸\u001b[0m⠀⠀⠀\u001b[38;5;1m⠈\u001b[0m\u001b[38;5;1m⠠\u001b[0m⠀\u001b[38;5;1m⠠\u001b[0m\u001b[38;5;1m⠁\u001b[0m⠀\u001b[38;5;1m⠂\u001b[0m⠀\u001b[38;5;8m│\u001b[0m \u001b[38;5;8m\u001b[0m   \n",
       "         \u001b[38;5;8m\u001b[0m \u001b[38;5;8m│\u001b[0m\u001b[38;5;1m⠄\u001b[0m⠀⠀⠀\u001b[38;5;1m⠄\u001b[0m\u001b[38;5;1m⠂\u001b[0m\u001b[38;5;1m⠂\u001b[0m⠀⠀⠀\u001b[38;5;1m⠡\u001b[0m\u001b[38;5;1m⠁\u001b[0m⠀\u001b[38;5;1m⢉\u001b[0m\u001b[38;5;1m⠄\u001b[0m⠀⠀⠀\u001b[38;5;1m⡐\u001b[0m\u001b[38;5;1m⠑\u001b[0m\u001b[38;5;1m⠂\u001b[0m\u001b[38;5;1m⠄\u001b[0m\u001b[38;5;1m⠂\u001b[0m⠀⠀⠀\u001b[38;5;1m⢀\u001b[0m⠀\u001b[38;5;1m⢀\u001b[0m⠀⠀⠀⠀\u001b[38;5;1m⠉\u001b[0m\u001b[38;5;1m⠠\u001b[0m\u001b[38;5;1m⠈\u001b[0m⠀\u001b[38;5;1m⠁\u001b[0m⠀⠀\u001b[38;5;1m⡀\u001b[0m\u001b[38;5;1m⠄\u001b[0m\u001b[38;5;8m│\u001b[0m \u001b[38;5;8m\u001b[0m   \n",
       "         \u001b[38;5;8m\u001b[0m \u001b[38;5;8m│\u001b[0m⠀⠀⠀⠀⠀⠀⠀⠀⠀⠀⠀\u001b[38;5;1m⠠\u001b[0m\u001b[38;5;1m⠂\u001b[0m⠀⠀\u001b[38;5;1m⠄\u001b[0m⠀⠀⠀⠀\u001b[38;5;1m⠐\u001b[0m\u001b[38;5;1m⡀\u001b[0m⠀⠀\u001b[38;5;1m⠁\u001b[0m⠀\u001b[38;5;1m⠐\u001b[0m⠀⠀⠀\u001b[38;5;1m⢰\u001b[0m\u001b[38;5;1m⡄\u001b[0m\u001b[38;5;1m⠁\u001b[0m⠀⠀\u001b[38;5;1m⠉\u001b[0m\u001b[38;5;1m⠠\u001b[0m⠀\u001b[38;5;1m⠠\u001b[0m⠀\u001b[38;5;1m⡀\u001b[0m⠀\u001b[38;5;8m│\u001b[0m \u001b[38;5;8m\u001b[0m   \n",
       "         \u001b[38;5;8m\u001b[0m \u001b[38;5;8m│\u001b[0m\u001b[38;5;1m⡁\u001b[0m\u001b[38;5;1m⠄\u001b[0m\u001b[38;5;1m⢀\u001b[0m\u001b[38;5;1m⠂\u001b[0m⠀\u001b[38;5;1m⠁\u001b[0m\u001b[38;5;1m⡈\u001b[0m\u001b[38;5;1m⠆\u001b[0m⠀\u001b[38;5;1m⠄\u001b[0m\u001b[38;5;1m⠁\u001b[0m\u001b[38;5;1m⠁\u001b[0m⠀\u001b[38;5;1m⠂\u001b[0m\u001b[38;5;1m⠁\u001b[0m⠀\u001b[38;5;1m⠂\u001b[0m\u001b[38;5;1m⢀\u001b[0m⠀⠀⠀⠀⠀⠀\u001b[38;5;1m⡁\u001b[0m⠀⠀\u001b[38;5;1m⡀\u001b[0m⠀\u001b[38;5;1m⠐\u001b[0m⠀⠀⠀⠀⠀⠀⠀\u001b[38;5;1m⢀\u001b[0m\u001b[38;5;1m⠄\u001b[0m\u001b[38;5;1m⠤\u001b[0m\u001b[38;5;1m⠁\u001b[0m\u001b[38;5;1m⠠\u001b[0m\u001b[38;5;8m│\u001b[0m \u001b[38;5;8m\u001b[0m   \n",
       "         \u001b[38;5;8m\u001b[0m \u001b[38;5;8m│\u001b[0m⠀\u001b[38;5;1m⠅\u001b[0m\u001b[38;5;1m⠄\u001b[0m\u001b[38;5;1m⠈\u001b[0m⠀\u001b[38;5;1m⢀\u001b[0m\u001b[38;5;1m⠂\u001b[0m\u001b[38;5;1m⠁\u001b[0m\u001b[38;5;1m⠐\u001b[0m⠀\u001b[38;5;1m⡠\u001b[0m\u001b[38;5;1m⠄\u001b[0m⠀\u001b[38;5;1m⠄\u001b[0m\u001b[38;5;1m⠐\u001b[0m⠀⠀⠀⠀\u001b[38;5;1m⡀\u001b[0m⠀\u001b[38;5;1m⠁\u001b[0m\u001b[38;5;1m⡢\u001b[0m⠀\u001b[38;5;1m⠘\u001b[0m⠀\u001b[38;5;1m⠇\u001b[0m⠀\u001b[38;5;1m⢂\u001b[0m⠀\u001b[38;5;1m⣠\u001b[0m⠀\u001b[38;5;1m⠂\u001b[0m⠀⠀\u001b[38;5;1m⠂\u001b[0m⠀\u001b[38;5;1m⠥\u001b[0m\u001b[38;5;1m⠄\u001b[0m\u001b[38;5;1m⢁\u001b[0m\u001b[38;5;1m⡀\u001b[0m\u001b[38;5;1m⡀\u001b[0m\u001b[38;5;8m│\u001b[0m \u001b[38;5;8m\u001b[0m   \n",
       "   \u001b[38;5;8m10 000\u001b[0m \u001b[38;5;8m│\u001b[0m\u001b[38;5;1m⠘\u001b[0m⠀⠀⠀\u001b[38;5;1m⠈\u001b[0m\u001b[38;5;1m⠃\u001b[0m\u001b[38;5;1m⡁\u001b[0m\u001b[38;5;1m⠨\u001b[0m\u001b[38;5;1m⠁\u001b[0m\u001b[38;5;1m⠐\u001b[0m⠀⠀\u001b[38;5;1m⠈\u001b[0m\u001b[38;5;1m⠁\u001b[0m\u001b[38;5;1m⠄\u001b[0m⠀\u001b[38;5;1m⠁\u001b[0m⠀⠀\u001b[38;5;1m⠂\u001b[0m\u001b[38;5;1m⠁\u001b[0m\u001b[38;5;1m⢁\u001b[0m\u001b[38;5;1m⠁\u001b[0m⠀⠀\u001b[38;5;1m⡁\u001b[0m⠀⠀⠀\u001b[38;5;1m⢀\u001b[0m\u001b[38;5;1m⢰\u001b[0m⠀⠀\u001b[38;5;1m⠈\u001b[0m⠀\u001b[38;5;1m⠈\u001b[0m⠀⠀⠀⠀\u001b[38;5;1m⡂\u001b[0m⠀\u001b[38;5;8m│\u001b[0m \u001b[38;5;8m\u001b[0m   \n",
       "          \u001b[38;5;8m└──────────────────────────────────────────┘\u001b[0m    \n",
       "          ⠀\u001b[38;5;8m1\u001b[0m⠀⠀⠀⠀⠀⠀⠀⠀⠀⠀⠀⠀⠀⠀⠀⠀⠀⠀⠀\u001b[38;5;8m\u001b[0m⠀⠀⠀⠀⠀⠀⠀⠀⠀⠀⠀⠀⠀⠀⠀⠀\u001b[38;5;8m10 000\u001b[0m⠀    \n",
       "          ⠀⠀⠀⠀⠀⠀⠀⠀⠀⠀⠀⠀⠀⠀⠀⠀⠀⠀⠀600 ≠ 0⠀⠀⠀⠀⠀⠀⠀⠀⠀⠀⠀⠀⠀⠀⠀⠀⠀⠀    "
      ]
     },
     "execution_count": 19,
     "metadata": {},
     "output_type": "execute_result"
    }
   ],
   "source": [
    "spy(A[1:10000, 1:10000])"
   ]
  },
  {
   "cell_type": "markdown",
   "metadata": {},
   "source": [
    "## Q4 (5 pts) Dense linear algebra? \n",
    "\n",
    "Consider the following methods to obtain the page ranks of the `SNAP/web-Google` data. \n",
    "\n",
    "1. A dense linear system solver such as LU decomposition.  \n",
    "2. A dense eigen-solver for asymmetric matrix.  \n",
    "\n",
    "For the LU approach, estimate (1) the memory usage and (2) how long it will take assuming that the LAPACK functions can achieve the theoretical throughput of your computer. "
   ]
  },
  {
   "cell_type": "markdown",
   "metadata": {},
   "source": [
    "**Solution**\n",
    "\n",
    "As mentioned in Q2, if we approach this problem as a linear system, our goal is to solve the linear equation\n",
    "$$\n",
    "\\mathbf{P}^T\\mathbf{x} = \\mathbf{x}  \\quad \\text{s.t.} \\quad\\mathbf 1^T\\mathbf x = 1.\n",
    "$$\n",
    "Replacing the first equation by $\\mathbf 1^T\\mathbf x = 1$ gives another linear equation without constraint\n",
    "$$\n",
    "\\mathbf{P}_{\\text{new}}^T\\mathbf{x} = \\mathbf{b},\n",
    "$$\n",
    "where $\\mathbf{P}_{\\text{new}}$ has $\\mathbf 1_n$ in the first column and the same elements in the other $(n-1)$ columns as those in $\\mathbf{P}$, and $\\mathbf{b} = (1, x_2, \\ldots, x_n)^T$.\n",
    "\n",
    "Given LU decomposition $\\mathbf{P}_{\\text{new}}^T = \\mathbf{LU}$, we first solve $\\mathbf{L}\\mathbf{y} = \\mathbf{b}$ and then solve $\\mathbf{U}\\mathbf{x} = \\mathbf{y}$ in order. Since $\\mathbf{L}$ and $\\mathbf{U}$ are of the same size as $\\mathbf{P}_{\\text{new}}$ and $\\mathbf{L}$ and $\\mathbf{U}$ require separately, we can store them in-place within the memory space of $\\mathbf{P}_{\\text{new}}$, which can be also stored in `full(A)`. Therefore, (1) the memory usage should be $916428^2\\times 8 / 1024^4 = 6.11$ TB.\n",
    "\n",
    "Regarding (2), we need approximately\n",
    "$$\n",
    "\\frac{2}{3}n^3 = \\frac{2}{3}(916428)^3 = 5.13 \\times 10^{17} \\text{ flops}.\n",
    "$$\n",
    "My computer (Apple M1 chip) has a theoretical CPU performance of 51.2 GFLOPS."
   ]
  },
  {
   "cell_type": "markdown",
   "metadata": {},
   "source": [
    "Therefore, assuming that LAPACK functions use only the CPU resource, it would take\n",
    "$$\n",
    "\\frac{5.13 \\times 10^{17}\\text{(flops)}}{5.12\\times 10^{10}\\text{(flops/s)}} = 1.0 \\times 10^7 \\text{ seconds} \\approx 116 \\text{ days}\n",
    "$$\n",
    "to complete the task on my computer."
   ]
  },
  {
   "cell_type": "markdown",
   "metadata": {},
   "source": [
    "By the way, if we consider up to $\\mathcal O(n^2)$, then the coefficient should be 1 not 2, as the LU desomposition takes\n",
    "$$\n",
    "2(n-1)^2 + 2(n-2)^2 + \\cdots + 2\\cdot 1^2 = 2\\times\\frac 1 6 (n-1)n(2n-1) \\approx \\frac{2}{3}n^3 - n^2 \\text{ flops},\n",
    "$$\n",
    "providing\n",
    "$$\n",
    "\\underbrace{\\frac{2}{3}n^3 - n^2}_{\\text{LU decomposition}} + \\underbrace{2n^2}_{\\text{solve } \\mathbf{LUx} = \\mathbf{b}} = \\frac{2}{3}n^3 + n^2 \\text{ flops}.\n",
    "$$"
   ]
  },
  {
   "cell_type": "markdown",
   "metadata": {},
   "source": [
    "## Q5 (75 pts) Iterative solvers\n",
    "\n",
    "Set the _teleportation_ parameter at $p = 0.85$. Consider the following methods for solving the PageRank problem. \n",
    "\n",
    "1. An iterative linear system solver such as GMRES. \n",
    "2. An iterative eigen-solver such as Arnoldi method.\n",
    "\n",
    "For iterative methods, we have many choices in Julia. See a list of existing Julia packages for linear solvers at this [page](https://jutho.github.io/KrylovKit.jl/stable/#Package-features-and-alternatives-1). The start-up code below uses the [KrylovKit.jl](https://github.com/Jutho/KrylovKit.jl) package. You can use other packages if you prefer. Make sure to utilize the special structure of $\\mathbf{P}$ (sparse + rank 1) to speed up the matrix-vector multiplication. "
   ]
  },
  {
   "cell_type": "markdown",
   "metadata": {},
   "source": [
    "### Step 1 (15 pts)\n",
    "\n",
    "Let's implement a type `PageRankImPt` that mimics the matrix $\\mathbf{M} = \\mathbf{I} - \\mathbf{P}^T$. For iterative methods, all we need to provide are methods for evaluating $\\mathbf{M} \\mathbf{v}$ and $\\mathbf{M}^T \\mathbf{v}$ for arbitrary vector $\\mathbf{v}$.\n",
    "\n",
    "**Solution**\n",
    "\n",
    "For efficient computation, I expand $\\mathbf{M} \\mathbf{v}$ and $\\mathbf{M}^T \\mathbf{v}$ as follows:\n",
    "$$\n",
    "\\begin{align*}\n",
    "\\mathbf{M} \\mathbf{v}\n",
    "&= (\\mathbf{I} - \\mathbf{A}^T\\mathbf{D} - \\mathbf{1}\\mathbf{z}^T)\\mathbf{v}\n",
    "= \\mathbf{v} - \\mathbf{A}^T (\\mathbf{D}\\mathbf{v}) - \\mathbf{1}(\\mathbf{z}^T \\mathbf{v})\\\\\n",
    "\\mathbf{M}^T \\mathbf{v}\n",
    "&= (\\mathbf{I} - \\mathbf{D}\\mathbf{A} - \\mathbf{z} \\mathbf{1}^T)\\mathbf{v}\n",
    "= \\mathbf{v} - \\mathbf{D} (\\mathbf{A}\\mathbf{v}) - \\mathbf{z} (\\mathbf{1}_n^T\\mathbf{v}).\n",
    "\\end{align*}\n",
    "$$"
   ]
  },
  {
   "cell_type": "code",
   "execution_count": 20,
   "metadata": {},
   "outputs": [],
   "source": [
    "using BenchmarkTools, LinearAlgebra, SparseArrays, Revise\n",
    "\n",
    "# a type for the matrix M = I - P^T in PageRank problem\n",
    "struct PageRankImPt{TA <: Number, IA <: Integer, T <: AbstractFloat} <: AbstractMatrix{T}\n",
    "    A         :: SparseMatrixCSC{TA, IA} # adjacency matrix\n",
    "    telep     :: T # teleportation parameter p\n",
    "    # working arrays\n",
    "    # TODO: whatever intermediate arrays you may want to pre-allocate\n",
    "    store_n   :: Vector{T}\n",
    "    rinv      :: Vector{T}\n",
    "    z         :: Vector{T}\n",
    "end\n",
    "\n",
    "# constructor\n",
    "function PageRankImPt(A::SparseMatrixCSC, telep::T) where T <: AbstractFloat\n",
    "    n = size(A, 1)\n",
    "    # TODO: initialize and pre-allocate arrays\n",
    "    store_n   = Vector{T}(undef, n)\n",
    "    r         = vec(sum(A, dims = 2))\n",
    "    # rinv      = [x > 0 ? telep / x : 0.0 for x in r] # D\n",
    "    # z         = [x > 0 ? (1 - telep) / n : 1 / n for x in r] # z\n",
    "    rinv      = Vector{T}(undef, n) # D\n",
    "    z         = Vector{T}(undef, n) # z\n",
    "    @inbounds @simd for i in 1:n\n",
    "        rinv[i] = r[i] == 0 ? 0 : telep / r[i]\n",
    "        z[i] = r[i] == 0 ? 1 / n : (1 - telep) / n\n",
    "    end\n",
    "    PageRankImPt(A, telep, store_n, rinv, z)\n",
    "end\n",
    "\n",
    "# matrix element access M[i, j]\n",
    "Base.getindex(M::PageRankImPt, i, j) = (i == j) - M.rinv[j] * M.A[j, i] - M.z[j]\n",
    "LinearAlgebra.issymmetric(::PageRankImPt) = false\n",
    "Base.size(M::PageRankImPt) = size(M.A)\n",
    "\n",
    "# overwrite `out` by `(I - Pt) * v`\n",
    "function LinearAlgebra.mul!(\n",
    "        out :: Vector{T}, \n",
    "        M   :: PageRankImPt{<:Number, <:Integer, T}, \n",
    "        v   :: Vector{T}\n",
    "        ) where T <: AbstractFloat\n",
    "    # TODO: implement mul!(out, M, v)\n",
    "    out .= v\n",
    "    M.store_n .= M.rinv .* v                          # Dv\n",
    "    mul!(out, Transpose(M.A), M.store_n, -1, 1) # v - A'Dv\n",
    "    out .-= dot(M.z, v)                         # v - A'Dv - z'v\n",
    "    return out\n",
    "end\n",
    "\n",
    "# overwrite `out` by `(I - P) * v`\n",
    "function LinearAlgebra.mul!(\n",
    "        out :: Vector{T}, \n",
    "        Mt  :: Transpose{T, PageRankImPt{TA, IA, T}}, \n",
    "        v   :: Vector{T}\n",
    "        ) where {TA<:Number, IA<:Integer, T <: AbstractFloat}\n",
    "    M = Mt.parent\n",
    "    # TODO: implement mul!(out, transpose(M), v)\n",
    "    out .= v\n",
    "    mul!(M.store_n, M.A, v)          # Av\n",
    "    out .-= M.rinv .* M.store_n # v - DAv\n",
    "    out .-= M.z .* sum(v)       # v - DAv - z(1'v)\n",
    "    return out\n",
    "end"
   ]
  },
  {
   "cell_type": "markdown",
   "metadata": {},
   "source": [
    "To check correctness. Note \n",
    "$$\n",
    "\\mathbf{M}^T \\mathbf{1} = \\mathbf{0}\n",
    "$$\n",
    "and\n",
    "$$\n",
    "\\mathbf{M} \\mathbf{x} = \\mathbf{0}\n",
    "$$\n",
    "for stationary distribution $\\mathbf{x}$."
   ]
  },
  {
   "cell_type": "markdown",
   "metadata": {},
   "source": [
    "Download the solution file `pgrksol.csv.gz`. **Do not put this file in your Git**. You will lose points if you do. You can add a line `pgrksol.csv.gz` to your `.gitignore` file."
   ]
  },
  {
   "cell_type": "code",
   "execution_count": 21,
   "metadata": {
    "tags": []
   },
   "outputs": [
    {
     "data": {
      "text/plain": [
       "916428-element Vector{Float64}:\n",
       " 3.3783428216975054e-5\n",
       " 2.0710155392568165e-6\n",
       " 3.663065984832893e-6\n",
       " 7.527510785028837e-7\n",
       " 8.63328599674051e-7\n",
       " 1.769418252415541e-6\n",
       " 2.431230382883396e-7\n",
       " 6.368417180141445e-7\n",
       " 4.744973703681939e-7\n",
       " 2.6895486110647536e-7\n",
       " 3.18574314847409e-6\n",
       " 7.375106374416742e-7\n",
       " 2.431230382883396e-7\n",
       " ⋮\n",
       " 1.1305006040148547e-6\n",
       " 4.874825281822915e-6\n",
       " 3.167946973112519e-6\n",
       " 9.72688040308568e-7\n",
       " 6.588614479285245e-7\n",
       " 7.737011774300648e-7\n",
       " 2.431230382883396e-7\n",
       " 1.6219204214797293e-6\n",
       " 3.912130060551738e-7\n",
       " 2.431230382883396e-7\n",
       " 7.296033831163157e-6\n",
       " 6.330939996912478e-7"
      ]
     },
     "execution_count": 21,
     "metadata": {},
     "output_type": "execute_result"
    }
   ],
   "source": [
    "using CodecZlib, DelimitedFiles\n",
    "\n",
    "isfile(\"pgrksol.csv.gz\") || download(\"https://github.com/ucla-biostat-257/2024spring/raw/master/hw/hw4/pgrksol.csv.gz\")\n",
    "xsol = open(\"pgrksol.csv.gz\", \"r\") do io\n",
    "    vec(readdlm(GzipDecompressorStream(io)))\n",
    "end"
   ]
  },
  {
   "cell_type": "markdown",
   "metadata": {},
   "source": [
    "**You will lose all 35 points (Steps 1 and 2)** if the following statements throw AssertError.\n",
    "\n",
    "**Solution**"
   ]
  },
  {
   "cell_type": "code",
   "execution_count": 22,
   "metadata": {},
   "outputs": [],
   "source": [
    "M = PageRankImPt(A, 0.85)\n",
    "n = size(M, 1)\n",
    "\n",
    "# @assert transpose(M) * ones(n) ≈ zeros(n)\n",
    "@assert norm(transpose(M) * ones(n)) < 1e-12"
   ]
  },
  {
   "cell_type": "code",
   "execution_count": 23,
   "metadata": {},
   "outputs": [],
   "source": [
    "#@assert M * xsol ≈ zeros(n)\n",
    "@assert norm(M * xsol) < 1e-12"
   ]
  },
  {
   "cell_type": "markdown",
   "metadata": {},
   "source": [
    "### Step 2 (20 pts)\n",
    "\n",
    "We want to benchmark the hot functions `mul!` to make sure they are efficient and allocate no memory."
   ]
  },
  {
   "cell_type": "code",
   "execution_count": 24,
   "metadata": {},
   "outputs": [
    {
     "data": {
      "text/plain": [
       "BenchmarkTools.Trial: 257 samples with 1 evaluation.\n",
       " Range \u001b[90m(\u001b[39m\u001b[36m\u001b[1mmin\u001b[22m\u001b[39m … \u001b[35mmax\u001b[39m\u001b[90m):  \u001b[39m\u001b[36m\u001b[1m17.963 ms\u001b[22m\u001b[39m … \u001b[35m59.891 ms\u001b[39m  \u001b[90m┊\u001b[39m GC \u001b[90m(\u001b[39mmin … max\u001b[90m): \u001b[39m0.00% … 0.00%\n",
       " Time  \u001b[90m(\u001b[39m\u001b[34m\u001b[1mmedian\u001b[22m\u001b[39m\u001b[90m):     \u001b[39m\u001b[34m\u001b[1m18.136 ms              \u001b[22m\u001b[39m\u001b[90m┊\u001b[39m GC \u001b[90m(\u001b[39mmedian\u001b[90m):    \u001b[39m0.00%\n",
       " Time  \u001b[90m(\u001b[39m\u001b[32m\u001b[1mmean\u001b[22m\u001b[39m ± \u001b[32mσ\u001b[39m\u001b[90m):   \u001b[39m\u001b[32m\u001b[1m19.190 ms\u001b[22m\u001b[39m ± \u001b[32m 3.531 ms\u001b[39m  \u001b[90m┊\u001b[39m GC \u001b[90m(\u001b[39mmean ± σ\u001b[90m):  \u001b[39m0.00% ± 0.00%\n",
       "\n",
       "  \u001b[39m█\u001b[34m▃\u001b[39m\u001b[39m▃\u001b[39m \u001b[39m \u001b[32m \u001b[39m\u001b[39m \u001b[39m \u001b[39m \u001b[39m▁\u001b[39m \u001b[39m \u001b[39m \u001b[39m \u001b[39m \u001b[39m \u001b[39m \u001b[39m \u001b[39m \u001b[39m \u001b[39m \u001b[39m \u001b[39m \u001b[39m \u001b[39m \u001b[39m \u001b[39m \u001b[39m \u001b[39m \u001b[39m \u001b[39m \u001b[39m \u001b[39m \u001b[39m \u001b[39m \u001b[39m \u001b[39m \u001b[39m \u001b[39m \u001b[39m \u001b[39m \u001b[39m \u001b[39m \u001b[39m \u001b[39m \u001b[39m \u001b[39m \u001b[39m \u001b[39m \u001b[39m \u001b[39m \u001b[39m \u001b[39m \u001b[39m \u001b[39m \u001b[39m \u001b[39m \u001b[39m \u001b[39m \u001b[39m \u001b[39m \n",
       "  \u001b[39m█\u001b[34m█\u001b[39m\u001b[39m█\u001b[39m▇\u001b[39m█\u001b[32m▄\u001b[39m\u001b[39m▇\u001b[39m▅\u001b[39m▇\u001b[39m█\u001b[39m▆\u001b[39m▇\u001b[39m▄\u001b[39m▄\u001b[39m▄\u001b[39m▁\u001b[39m▁\u001b[39m▁\u001b[39m▁\u001b[39m▁\u001b[39m▁\u001b[39m▄\u001b[39m▅\u001b[39m▄\u001b[39m▁\u001b[39m▁\u001b[39m▁\u001b[39m▁\u001b[39m▁\u001b[39m▁\u001b[39m▁\u001b[39m▁\u001b[39m▁\u001b[39m▁\u001b[39m▁\u001b[39m▁\u001b[39m▅\u001b[39m▁\u001b[39m▄\u001b[39m▄\u001b[39m▁\u001b[39m▁\u001b[39m▁\u001b[39m▁\u001b[39m▁\u001b[39m▁\u001b[39m▄\u001b[39m▁\u001b[39m▁\u001b[39m▄\u001b[39m▁\u001b[39m▁\u001b[39m▁\u001b[39m▁\u001b[39m▁\u001b[39m▁\u001b[39m▁\u001b[39m▁\u001b[39m▄\u001b[39m \u001b[39m▅\n",
       "  18 ms\u001b[90m        \u001b[39m\u001b[90mHistogram: \u001b[39m\u001b[90m\u001b[1mlog(\u001b[22m\u001b[39m\u001b[90mfrequency\u001b[39m\u001b[90m\u001b[1m)\u001b[22m\u001b[39m\u001b[90m by time\u001b[39m      33.4 ms \u001b[0m\u001b[1m<\u001b[22m\n",
       "\n",
       " Memory estimate\u001b[90m: \u001b[39m\u001b[33m0 bytes\u001b[39m, allocs estimate\u001b[90m: \u001b[39m\u001b[33m0\u001b[39m."
      ]
     },
     "execution_count": 24,
     "metadata": {},
     "output_type": "execute_result"
    }
   ],
   "source": [
    "v, out = ones(n), zeros(n)\n",
    "bm_mv = @benchmark mul!($out, $M, $v) setup=(fill!(out, 0); fill!(v, 1))"
   ]
  },
  {
   "cell_type": "code",
   "execution_count": 25,
   "metadata": {},
   "outputs": [
    {
     "data": {
      "text/plain": [
       "BenchmarkTools.Trial: 245 samples with 1 evaluation.\n",
       " Range \u001b[90m(\u001b[39m\u001b[36m\u001b[1mmin\u001b[22m\u001b[39m … \u001b[35mmax\u001b[39m\u001b[90m):  \u001b[39m\u001b[36m\u001b[1m19.449 ms\u001b[22m\u001b[39m … \u001b[35m29.560 ms\u001b[39m  \u001b[90m┊\u001b[39m GC \u001b[90m(\u001b[39mmin … max\u001b[90m): \u001b[39m0.00% … 0.00%\n",
       " Time  \u001b[90m(\u001b[39m\u001b[34m\u001b[1mmedian\u001b[22m\u001b[39m\u001b[90m):     \u001b[39m\u001b[34m\u001b[1m19.557 ms              \u001b[22m\u001b[39m\u001b[90m┊\u001b[39m GC \u001b[90m(\u001b[39mmedian\u001b[90m):    \u001b[39m0.00%\n",
       " Time  \u001b[90m(\u001b[39m\u001b[32m\u001b[1mmean\u001b[22m\u001b[39m ± \u001b[32mσ\u001b[39m\u001b[90m):   \u001b[39m\u001b[32m\u001b[1m20.179 ms\u001b[22m\u001b[39m ± \u001b[32m 1.689 ms\u001b[39m  \u001b[90m┊\u001b[39m GC \u001b[90m(\u001b[39mmean ± σ\u001b[90m):  \u001b[39m0.00% ± 0.00%\n",
       "\n",
       "  \u001b[39m█\u001b[34m▃\u001b[39m\u001b[39m \u001b[39m \u001b[32m \u001b[39m\u001b[39m \u001b[39m \u001b[39m \u001b[39m \u001b[39m \u001b[39m \u001b[39m \u001b[39m \u001b[39m \u001b[39m \u001b[39m▁\u001b[39m \u001b[39m \u001b[39m \u001b[39m \u001b[39m \u001b[39m \u001b[39m \u001b[39m \u001b[39m \u001b[39m \u001b[39m \u001b[39m \u001b[39m \u001b[39m \u001b[39m \u001b[39m \u001b[39m \u001b[39m \u001b[39m \u001b[39m \u001b[39m \u001b[39m \u001b[39m \u001b[39m \u001b[39m \u001b[39m \u001b[39m \u001b[39m \u001b[39m \u001b[39m \u001b[39m \u001b[39m \u001b[39m \u001b[39m \u001b[39m \u001b[39m \u001b[39m \u001b[39m \u001b[39m \u001b[39m \u001b[39m \u001b[39m \u001b[39m \u001b[39m \u001b[39m \n",
       "  \u001b[39m█\u001b[34m█\u001b[39m\u001b[39m█\u001b[39m▄\u001b[32m▄\u001b[39m\u001b[39m▅\u001b[39m▅\u001b[39m▆\u001b[39m▇\u001b[39m▇\u001b[39m▄\u001b[39m▄\u001b[39m▁\u001b[39m▄\u001b[39m▆\u001b[39m█\u001b[39m▅\u001b[39m▁\u001b[39m▁\u001b[39m▁\u001b[39m▁\u001b[39m▁\u001b[39m▁\u001b[39m▁\u001b[39m▁\u001b[39m▁\u001b[39m▁\u001b[39m▁\u001b[39m▁\u001b[39m▄\u001b[39m▁\u001b[39m▁\u001b[39m▁\u001b[39m▄\u001b[39m▆\u001b[39m▁\u001b[39m▁\u001b[39m▁\u001b[39m▁\u001b[39m▁\u001b[39m▁\u001b[39m▁\u001b[39m▁\u001b[39m▁\u001b[39m▁\u001b[39m▁\u001b[39m▁\u001b[39m▁\u001b[39m▁\u001b[39m▄\u001b[39m▁\u001b[39m▁\u001b[39m▁\u001b[39m▁\u001b[39m▁\u001b[39m▁\u001b[39m▁\u001b[39m▄\u001b[39m▄\u001b[39m \u001b[39m▅\n",
       "  19.4 ms\u001b[90m      \u001b[39m\u001b[90mHistogram: \u001b[39m\u001b[90m\u001b[1mlog(\u001b[22m\u001b[39m\u001b[90mfrequency\u001b[39m\u001b[90m\u001b[1m)\u001b[22m\u001b[39m\u001b[90m by time\u001b[39m      29.4 ms \u001b[0m\u001b[1m<\u001b[22m\n",
       "\n",
       " Memory estimate\u001b[90m: \u001b[39m\u001b[33m0 bytes\u001b[39m, allocs estimate\u001b[90m: \u001b[39m\u001b[33m0\u001b[39m."
      ]
     },
     "execution_count": 25,
     "metadata": {},
     "output_type": "execute_result"
    }
   ],
   "source": [
    "bm_mtv = @benchmark mul!($out, $(transpose(M)), $v) setup=(fill!(out, 0); fill!(v, 1))"
   ]
  },
  {
   "cell_type": "markdown",
   "metadata": {},
   "source": [
    "You will lose 1 point for each 100 bytes memory allocation. So the points you will get is"
   ]
  },
  {
   "cell_type": "code",
   "execution_count": 26,
   "metadata": {},
   "outputs": [
    {
     "data": {
      "text/plain": [
       "20.0"
      ]
     },
     "execution_count": 26,
     "metadata": {},
     "output_type": "execute_result"
    }
   ],
   "source": [
    "clamp(10 - median(bm_mv).memory / 100, 0, 10) + \n",
    "clamp(10 - median(bm_mtv).memory / 100, 0, 10)"
   ]
  },
  {
   "cell_type": "markdown",
   "metadata": {},
   "source": [
    "**Hint**: My median run times are about 10 ms and memory allocations are 0 bytes."
   ]
  },
  {
   "cell_type": "markdown",
   "metadata": {},
   "source": [
    "### Step 3 (20 pts)\n",
    "\n",
    "Let's first try to solve the PageRank problem by the GMRES method for solving linear equations. "
   ]
  },
  {
   "cell_type": "code",
   "execution_count": 27,
   "metadata": {
    "tags": []
   },
   "outputs": [
    {
     "data": {
      "text/plain": [
       "(value = ([3.378342822237397e-5, 2.0710155392781265e-6, 3.663065985290286e-6, 7.527510785714565e-7, 8.633285997289003e-7, 1.769418252763817e-6, 2.431230382949412e-7, 6.368417180841316e-7, 4.7449737038222236e-7, 2.689548611137733e-7  …  3.167946974023204e-6, 9.726880410372258e-7, 6.588614478640726e-7, 7.737011774829105e-7, 2.431230382949412e-7, 1.6219204214483914e-6, 3.912130060690359e-7, 2.431230382949412e-7, 7.296033831434169e-6, 6.330939996774086e-7], ConvergenceInfo: one converged value after 3 iterations and 72 applications of the linear map;\n",
       "norms of residuals are given by (7.821117064217091e-13,).\n",
       "), time = 5.373405583, bytes = 1511212064, gctime = 0.354590542, gcstats = Base.GC_Diff(1511212064, 206, 0, 12434, 4, 228, 354590542, 4, 1))"
      ]
     },
     "execution_count": 27,
     "metadata": {},
     "output_type": "execute_result"
    }
   ],
   "source": [
    "using KrylovKit\n",
    "\n",
    "# normalize in-degrees to be the start point\n",
    "x0   = vec(sum(A, dims = 1)) .+ 1.0\n",
    "x0 ./= sum(x0)\n",
    "\n",
    "# right hand side\n",
    "b = zeros(n)\n",
    "\n",
    "# warm up (compilation)\n",
    "linsolve(M, b, x0, issymmetric = false, isposdef = false, maxiter = 1) \n",
    "# output is complex eigenvalue/eigenvector\n",
    "(x_gmres, info), time_gmres, = @timed linsolve(M, b, x0, issymmetric = false, isposdef = false)"
   ]
  },
  {
   "cell_type": "markdown",
   "metadata": {},
   "source": [
    "Check correctness. **You will lose all 20 points if the following statement throws `AssertError`.**"
   ]
  },
  {
   "cell_type": "code",
   "execution_count": 28,
   "metadata": {
    "tags": []
   },
   "outputs": [],
   "source": [
    "@assert norm(x_gmres - xsol) < 1e-8"
   ]
  },
  {
   "cell_type": "markdown",
   "metadata": {},
   "source": [
    "GMRES should be reasonably fast. The points you'll get is"
   ]
  },
  {
   "cell_type": "code",
   "execution_count": 29,
   "metadata": {},
   "outputs": [
    {
     "data": {
      "text/plain": [
       "20.0"
      ]
     },
     "execution_count": 29,
     "metadata": {},
     "output_type": "execute_result"
    }
   ],
   "source": [
    "clamp(20 / time_gmres * 20, 0, 20)"
   ]
  },
  {
   "cell_type": "markdown",
   "metadata": {},
   "source": [
    "**Hint**: My runtime is about 3-4 seconds."
   ]
  },
  {
   "cell_type": "markdown",
   "metadata": {},
   "source": [
    "### Step 4 (20 pts)\n",
    "\n",
    "Let's first try to solve the PageRank problem by the Arnoldi method for solving eigen problems. "
   ]
  },
  {
   "cell_type": "code",
   "execution_count": 30,
   "metadata": {},
   "outputs": [
    {
     "data": {
      "text/plain": [
       "(value = (ComplexF64[-1.6594172665673617e-13 + 0.0im], Vector{ComplexF64}[[0.005635826953806507 + 0.0im, 0.00034549143807822166 + 0.0im, 0.00061108084941251 + 0.0im, 0.00012557561626038967 + 0.0im, 0.00014402240532806543 + 0.0im, 0.00029517830503989113 + 0.0im, 4.0558328286807854e-5 + 0.0im, 0.00010623935784854332 + 0.0im, 7.915671116200263e-5 + 0.0im, 4.4867650667280535e-5 + 0.0im  …  0.0005284839899796174 + 0.0im, 0.00016226599147987417 + 0.0im, 0.00010991273837613363 + 0.0im, 0.00012907055855754628 + 0.0im, 4.0558328286807854e-5 + 0.0im, 0.00027057238743206664 + 0.0im, 6.52630274833646e-5 + 0.0im, 4.0558328286807854e-5 + 0.0im, 0.001217140660133287 + 0.0im, 0.0001056141551070459 + 0.0im]], ConvergenceInfo: one converged value after 7 iterations and 99 applications of the linear map;\n",
       "norms of residuals are given by (9.574464573688717e-14,).\n",
       "), time = 10.233869333, bytes = 2296352192, gctime = 0.409751959, gcstats = Base.GC_Diff(2296352192, 311, 0, 16773, 12, 233, 409751959, 5, 3))"
      ]
     },
     "execution_count": 30,
     "metadata": {},
     "output_type": "execute_result"
    }
   ],
   "source": [
    "# warm up (compilation)\n",
    "eigsolve(M, x0, 1, :SR, issymmetric = false, maxiter = 1)\n",
    "# output is complex eigenvalue/eigenvector\n",
    "(vals, vecs, info), time_arnoldi, = @timed eigsolve(M, x0, 1, :SR, issymmetric = false)"
   ]
  },
  {
   "cell_type": "markdown",
   "metadata": {},
   "source": [
    "Check correctness. **You will lose all 20 points if the following statement throws `AssertError`.**"
   ]
  },
  {
   "cell_type": "code",
   "execution_count": 31,
   "metadata": {},
   "outputs": [],
   "source": [
    "@assert abs(Real(vals[1])) < 1e-8"
   ]
  },
  {
   "cell_type": "code",
   "execution_count": 32,
   "metadata": {},
   "outputs": [],
   "source": [
    "x_arnoldi   = abs.(Real.(vecs[1]))\n",
    "x_arnoldi ./= sum(x_arnoldi)\n",
    "@assert norm(x_arnoldi - xsol) < 1e-8"
   ]
  },
  {
   "cell_type": "markdown",
   "metadata": {},
   "source": [
    "Arnoldi should be reasonably fast. The points you'll get is"
   ]
  },
  {
   "cell_type": "code",
   "execution_count": 33,
   "metadata": {},
   "outputs": [
    {
     "data": {
      "text/plain": [
       "20.0"
      ]
     },
     "execution_count": 33,
     "metadata": {},
     "output_type": "execute_result"
    }
   ],
   "source": [
    "clamp(20 / time_arnoldi * 20, 0, 20)"
   ]
  },
  {
   "cell_type": "markdown",
   "metadata": {},
   "source": [
    "**Hint**: My runtime is about 6-7 seconds."
   ]
  },
  {
   "cell_type": "markdown",
   "metadata": {},
   "source": [
    "## Q6 (5 pts) Results\n",
    "\n",
    "List the top 20 pages you found and their corresponding PageRank score. Do they match the top 20 pages ranked according to in-degrees? "
   ]
  },
  {
   "cell_type": "markdown",
   "metadata": {},
   "source": [
    "## Q7 Be proud of yourself\n",
    "\n",
    "Go to your resume/cv and claim you have experience performing analysis on a network of one million nodes."
   ]
  }
 ],
 "metadata": {
  "@webio": {
   "lastCommId": null,
   "lastKernelId": null
  },
  "jupytext": {
   "formats": "ipynb,qmd"
  },
  "kernelspec": {
   "display_name": "Julia 1.10.0",
   "language": "julia",
   "name": "julia-1.10"
  },
  "language_info": {
   "file_extension": ".jl",
   "mimetype": "application/julia",
   "name": "julia",
   "version": "1.10.0"
  },
  "toc": {
   "colors": {
    "hover_highlight": "#DAA520",
    "running_highlight": "#FF0000",
    "selected_highlight": "#FFD700"
   },
   "moveMenuLeft": true,
   "nav_menu": {
    "height": "87px",
    "width": "252px"
   },
   "navigate_menu": true,
   "number_sections": false,
   "sideBar": true,
   "skip_h1_title": true,
   "threshold": 4,
   "toc_cell": false,
   "toc_section_display": "block",
   "toc_window_display": true,
   "widenNotebook": false
  }
 },
 "nbformat": 4,
 "nbformat_minor": 4
}
