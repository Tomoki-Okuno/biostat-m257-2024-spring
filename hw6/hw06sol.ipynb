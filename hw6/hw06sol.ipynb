{
 "cells": [
  {
   "cell_type": "markdown",
   "metadata": {
    "vscode": {
     "languageId": "raw"
    }
   },
   "source": [
    "Biostat/Biomath M257 Homework 6\n",
    "\n",
    "Due June 7 @ 11:59PM\n",
    "\n",
    "Tomoki Okuno and 805851067"
   ]
  },
  {
   "cell_type": "markdown",
   "metadata": {},
   "source": [
    "System information (for reproducibility):"
   ]
  },
  {
   "cell_type": "code",
   "execution_count": 1,
   "metadata": {
    "tags": []
   },
   "outputs": [
    {
     "name": "stdout",
     "output_type": "stream",
     "text": [
      "Julia Version 1.10.2\n",
      "Commit bd47eca2c8a (2024-03-01 10:14 UTC)\n",
      "Build Info:\n",
      "  Official https://julialang.org/ release\n",
      "Platform Info:\n",
      "  OS: macOS (arm64-apple-darwin22.4.0)\n",
      "  CPU: 8 × Apple M1\n",
      "  WORD_SIZE: 64\n",
      "  LIBM: libopenlibm\n",
      "  LLVM: libLLVM-15.0.7 (ORCJIT, apple-m1)\n",
      "Threads: 1 default, 0 interactive, 1 GC (on 4 virtual cores)\n",
      "Environment:\n",
      "  JULIA_NUM_THREADS = \n"
     ]
    }
   ],
   "source": [
    "versioninfo()"
   ]
  },
  {
   "cell_type": "markdown",
   "metadata": {},
   "source": [
    "Load packages:"
   ]
  },
  {
   "cell_type": "code",
   "execution_count": 2,
   "metadata": {
    "tags": []
   },
   "outputs": [
    {
     "name": "stderr",
     "output_type": "stream",
     "text": [
      "\u001b[32m\u001b[1m  Activating\u001b[22m\u001b[39m project at `~/Documents/07_UCLA/Class/257/02_Homework/hw6`\n"
     ]
    },
    {
     "name": "stdout",
     "output_type": "stream",
     "text": [
      "\u001b[32m\u001b[1mStatus\u001b[22m\u001b[39m `~/Documents/07_UCLA/Class/257/02_Homework/hw6/Project.toml`\n",
      "  \u001b[90m[6e4b80f9] \u001b[39mBenchmarkTools v1.5.0\n",
      "  \u001b[90m[336ed68f] \u001b[39mCSV v0.10.14\n",
      "  \u001b[90m[a93c6f00] \u001b[39mDataFrames v1.6.1\n",
      "  \u001b[90m[8bb1440f] \u001b[39mDelimitedFiles v1.9.1\n",
      "  \u001b[90m[31c24e10] \u001b[39mDistributions v0.25.108\n",
      "  \u001b[90m[b6b21f68] \u001b[39mIpopt v1.6.2\n",
      "  \u001b[90m[67920dd8] \u001b[39mKNITRO v0.14.2\n",
      "  \u001b[90m[b8f27783] \u001b[39mMathOptInterface v1.30.0\n",
      "  \u001b[90m[ff71e718] \u001b[39mMixedModels v4.24.0\n",
      "  \u001b[90m[76087f3c] \u001b[39mNLopt v1.0.2\n",
      "  \u001b[90m[08abe8d2] \u001b[39mPrettyTables v2.3.2\n",
      "  \u001b[90m[6f49c342] \u001b[39mRCall v0.14.1\n",
      "  \u001b[90m[37e2e46d] \u001b[39mLinearAlgebra\n",
      "  \u001b[90m[9a3f8284] \u001b[39mRandom\n"
     ]
    }
   ],
   "source": [
    "using Pkg\n",
    "\n",
    "Pkg.activate(pwd())\n",
    "Pkg.instantiate()\n",
    "Pkg.status()"
   ]
  },
  {
   "cell_type": "markdown",
   "metadata": {},
   "source": [
    "In this assignment, we continue with the linear mixed effects model (LMM) considered in HW3\n",
    "$$\n",
    "    \\mathbf{Y}_i = \\mathbf{X}_i \\boldsymbol{\\beta} + \\mathbf{Z}_i \\boldsymbol{\\gamma}_i + \\boldsymbol{\\epsilon}_i, \\quad i=1,\\ldots,n,\n",
    "$$\n",
    "where   \n",
    "- $\\mathbf{Y}_i \\in \\mathbb{R}^{n_i}$ is the response vector of $i$-th individual,  \n",
    "- $\\mathbf{X}_i \\in \\mathbb{R}^{n_i \\times p}$ is the fixed effects predictor matrix of $i$-th individual,  \n",
    "- $\\mathbf{Z}_i \\in \\mathbb{R}^{n_i \\times q}$ is the random effects predictor matrix of $i$-th individual,  \n",
    "- $\\boldsymbol{\\epsilon}_i \\in \\mathbb{R}^{n_i}$ are multivariate normal $N(\\mathbf{0}_{n_i},\\sigma^2 \\mathbf{I}_{n_i})$,  \n",
    "- $\\boldsymbol{\\beta} \\in \\mathbb{R}^p$ are fixed effects, and  \n",
    "- $\\boldsymbol{\\gamma}_i \\in \\mathbb{R}^q$ are random effects assumed to be $N(\\mathbf{0}_q, \\boldsymbol{\\Sigma}_{q \\times q}$) independent of $\\boldsymbol{\\epsilon}_i$.\n",
    "\n",
    "The log-likelihood of the $i$-th datum $(\\mathbf{y}_i, \\mathbf{X}_i, \\mathbf{Z}_i)$ is \n",
    "$$\n",
    "    \\ell_i(\\boldsymbol{\\beta}, \\mathbf{L}, \\sigma_0^2) = - \\frac{n_i}{2} \\log (2\\pi) - \\frac{1}{2} \\log \\det \\boldsymbol{\\Omega}_i - \\frac{1}{2} (\\mathbf{y} - \\mathbf{X}_i \\boldsymbol{\\beta})^T \\boldsymbol{\\Omega}_i^{-1} (\\mathbf{y} - \\mathbf{X}_i \\boldsymbol{\\beta}),\n",
    "$$\n",
    "where\n",
    "$$\n",
    "    \\boldsymbol{\\Omega}_i = \\sigma^2 \\mathbf{I}_{n_i} + \\mathbf{Z}_i \\boldsymbol{\\Sigma} \\mathbf{Z}_i^T = \\sigma^2 \\mathbf{I}_{n_i} + \\mathbf{Z}_i \\mathbf{L} \\mathbf{L}^T \\mathbf{Z}_i^T.\n",
    "$$\n",
    "Because the variance component parameter $\\boldsymbol{\\Sigma}$ has to be positive semidefinite, we prefer to use its Cholesky factor $\\mathbf{L}$ as optimization variable. \n",
    "\n",
    "Given $m$ independent data tuples $(\\mathbf{y}_i, \\mathbf{X}_i, \\mathbf{Z}_i)$, $i=1,\\ldots,m$, we seek the maximum likelihood estimate (MLE) by maximizing the log-likelihood\n",
    "$$\n",
    "\\ell(\\boldsymbol{\\beta}, \\boldsymbol{\\Sigma}, \\sigma^2) = \\sum_{i=1}^m \\ell_i(\\boldsymbol{\\beta}, \\boldsymbol{\\Sigma}, \\sigma^2).\n",
    "$$\n",
    "In this assignment, we use the nonlinear programming (NLP) approach for optimization. In HW7, we will derive an EM (expectation-maximization) algorithm for the same problem. There is also an MM (minorization-maximization) algorithm for the same problem; see [this article](https://doi.org/10.1080/10618600.2018.1529601)."
   ]
  },
  {
   "cell_type": "code",
   "execution_count": 3,
   "metadata": {
    "tags": []
   },
   "outputs": [
    {
     "data": {
      "text/plain": [
       "MathOptInterface"
      ]
     },
     "metadata": {},
     "output_type": "display_data"
    }
   ],
   "source": [
    "# load necessary packages; make sure install them first\n",
    "using BenchmarkTools, CSV, DataFrames, DelimitedFiles, Distributions\n",
    "using Ipopt, LinearAlgebra, MathOptInterface, MixedModels, NLopt\n",
    "using PrettyTables, Random, RCall\n",
    "\n",
    "const MOI = MathOptInterface"
   ]
  },
  {
   "cell_type": "markdown",
   "metadata": {},
   "source": [
    "## Q1. (Optional, 30 bonus pts) Derivatives\n",
    "\n",
    "NLP optimization solvers expect users to provide at least a function for evaluating objective value. If users can provide further information such as gradient and Hessian, the NLP solvers will be more stable and converge faster. Automatic differentiation tools are becoming more powerful but cannot apply to all problems yet.\n",
    "\n",
    "1. Show that the gradient of $\\ell_i$ is\n",
    "\\begin{aligned}\n",
    "\\nabla_{\\boldsymbol{\\beta}} \\ell_i(\\boldsymbol{\\beta}, \\mathbf{L}, \\sigma^2) &= \\mathbf{X}_i^T \\boldsymbol{\\Omega}_i^{-1} \\mathbf{r}_i, \\\\\n",
    "\\nabla_{\\sigma^2} \\ell_i(\\boldsymbol{\\beta}, \\mathbf{L}, \\sigma^2) &= - \\frac{1}{2} \\operatorname{tr} (\\boldsymbol{\\Omega}_i^{-1}) + \\frac{1}{2} \\mathbf{r}_i^T \\boldsymbol{\\Omega}_i^{-2} \\mathbf{r}_i, \\\\\n",
    "\\frac{\\partial}{\\partial \\mathbf{L}} \\ell_i(\\boldsymbol{\\beta}, \\mathbf{L}, \\sigma^2) &= - \\mathbf{Z}_i^T \\boldsymbol{\\Omega}_i^{-1} \\mathbf{Z}_i \\mathbf{L} + \\mathbf{Z}_i^T \\boldsymbol{\\Omega}_i^{-1} \\mathbf{r}_i \\mathbf{r}_i^T \\boldsymbol{\\Omega}_i^{-1} \\mathbf{Z}_i \\mathbf{L},\n",
    "\\end{aligned}\n",
    "where $\\mathbf{r}_i = \\mathbf{y}_i - \\mathbf{X}_i \\boldsymbol{\\beta}$. \n",
    "\n",
    "2. Derive the observed information matrix and the expected (Fisher) information matrix.\n",
    "\n",
    "If you need a refresher on multivariate calculus, my [Biostat 216 lecture notes](https://ucla-biostat216-2019fall.github.io/slides/16-matrixcalc/16-matrixcalc.html) may be helpful.\n"
   ]
  },
  {
   "cell_type": "markdown",
   "metadata": {},
   "source": [
    "**Solution**\n",
    "\n",
    "1. Use the chain rule in 1.2 of 216 lecture notes. Note that $\\text{D}\\phi(\\mathbf{x}) = \\nabla\\phi(\\mathbf{x})^{\\color{red}T}$ when $\\phi$ is a scalar function and $\\mathbf{x}$ is a vector.\n",
    "$$\n",
    "\\begin{aligned}\n",
    "\\nabla_{\\boldsymbol{\\beta}}  (\\mathbf{y}_i - \\mathbf{X}_i \\boldsymbol{\\beta})^T \\boldsymbol{\\Omega}_i^{-1} (\\mathbf{y}_i - \\mathbf{X}_i \\boldsymbol{\\beta})\n",
    "&= \\nabla_{\\boldsymbol{\\beta}} \\mathbf{r}_i \\boldsymbol{\\Omega}_i^{-1} \\mathbf{r}_i\\\\\n",
    "&= \\left(\\text{D}_{\\mathbf{r}_i}\\mathbf{r}_i \\boldsymbol{\\Omega}_i^{-1} \\mathbf{r}_i \\cdot \\text{D}_{\\boldsymbol{\\beta}}(\\mathbf{y}_i - \\mathbf{X}_i \\boldsymbol{\\beta})\\right)^T\\\\\n",
    "&= \\left({2\\mathbf{r}_i}^T\\boldsymbol{\\Omega}_i^{-1} \\cdot (-\\mathbf{X}_i) \\right)^T\\\\\n",
    "&=  -2\\mathbf{X}_i^T\\boldsymbol{\\Omega}_i^{-1} \\mathbf{r}_i,\n",
    "\\end{aligned}\n",
    "$$\n",
    "providing\n",
    "$$\n",
    "\\begin{aligned}\n",
    "\\nabla_{\\boldsymbol{\\beta}} \\ell_i(\\boldsymbol{\\beta}, \\mathbf{L}, \\sigma^2)\n",
    "= -\\mathbf 0 - \\mathbf 0 - 1/2\\left(-2\\mathbf{X}_i^T\\boldsymbol{\\Omega}_i^{-1} \\mathbf{r}_i\\right)\n",
    "= \\mathbf{X}_i^T \\boldsymbol{\\Omega}_i^{-1} \\mathbf{r}_i.\n",
    "\\end{aligned}\n",
    "$$\n",
    "\n",
    "Since $\\det(\\cdot)$ is a scaler, applying the simple chain rule and then Jacobi's rule gives\n",
    "$$\n",
    "\\begin{aligned}\n",
    "\\nabla_{\\sigma^2}\\log (\\det \\boldsymbol{\\Omega}_i)\n",
    "&= (\\det \\boldsymbol{\\Omega}_i)^{-1}\\nabla_{\\sigma^2}\\det \\boldsymbol{\\Omega}_i\\\\\n",
    "&= (\\det \\boldsymbol{\\Omega}_i)^{-1}\\left[\\det \\boldsymbol{\\Omega}_i\\cdot\\text{tr}\\left(\\boldsymbol{\\Omega}_i^{-1}\\nabla_{\\sigma^2}\\boldsymbol{\\Omega}_i\\right)\\right]\\\\\n",
    "&= \\text{tr}\\left(\\boldsymbol{\\Omega}_i^{-1}\\right)\\quad\\because\\nabla_{\\sigma^2}\\boldsymbol{\\Omega}_i = \\mathbf{I}_{n_i}.\n",
    "\\end{aligned}\n",
    "$$\n",
    "Using (59) in the [Matrix Cook Book](https://www.math.uwaterloo.ca/~hwolkowi/matrixcookbook.pdf):\n",
    "$$\n",
    "\\frac{\\partial\\mathbf {Y}^{-1}}{\\partial x} = -\\mathbf{Y}^{-1}\\frac{\\partial\\mathbf {Y}}{\\partial x}\\mathbf{Y}^{-1}\n",
    "$$\n",
    "for scalar $x$ to obtain\n",
    "$$\n",
    "\\begin{aligned}\n",
    "\\nabla_{\\sigma^2} \\mathbf{r}_i^T \\boldsymbol{\\Omega}_i^{-1} \\mathbf{r}_i\n",
    "= \\mathbf{r}_i^T \\left(\\nabla_{\\sigma^2}\\boldsymbol{\\Omega}_i^{-1}\\right)\\mathbf{r}_i\n",
    "= -\\mathbf{r}_i^T \\boldsymbol{\\Omega}_i^{-1}(\\nabla_{\\sigma^2}\\boldsymbol{\\Omega}_i)\\boldsymbol{\\Omega}_i^{-1}\\mathbf{r}_i\n",
    "= -\\mathbf{r}_i^T \\boldsymbol{\\Omega}_i^{-2}\\mathbf{r}_i.\n",
    "\\end{aligned}\n",
    "$$\n",
    "Therefore,\n",
    "$$\n",
    "\\nabla_{\\sigma^2} \\ell_i(\\boldsymbol{\\beta}, \\mathbf{L}, \\sigma^2) = - \\frac{1}{2} \\operatorname{tr} (\\boldsymbol{\\Omega}_i^{-1}) + \\frac{1}{2} \\mathbf{r}_i^T \\boldsymbol{\\Omega}_i^{-2} \\mathbf{r}_i.\n",
    "$$"
   ]
  },
  {
   "cell_type": "markdown",
   "metadata": {},
   "source": []
  },
  {
   "cell_type": "markdown",
   "metadata": {},
   "source": [
    "2. Using the above gradients, we have\n",
    "$$\n",
    "\\begin{aligned}\n",
    "\\nabla^2_{\\boldsymbol{\\beta}, \\boldsymbol{\\beta}} \\ell_i(\\boldsymbol{\\beta}, \\mathbf{L}, \\sigma^2)\n",
    "&= \\nabla_{\\boldsymbol{\\beta}}\\mathbf{X}_i^T \\boldsymbol{\\Omega}_i^{-1} \\mathbf{r}_i\n",
    "= -\\mathbf{X}_i^T \\boldsymbol{\\Omega}_i^{-1}\\mathbf{X}_i \\in\\mathbb{R}^{p\\times p}, \\\\\n",
    "\\nabla^2_{\\boldsymbol{\\beta}, \\sigma^2} \\ell_i(\\boldsymbol{\\beta}, \\mathbf{L}, \\sigma^2)\n",
    "&= \\nabla_{\\sigma^2}\\mathbf{X}_i^T \\boldsymbol{\\Omega}_i^{-1} \\mathbf{r}_i\n",
    "= -\\mathbf{X}_i^T \\boldsymbol{\\Omega}_i^{-2} \\mathbf{r}_i\n",
    "= \\left(\\nabla^2_{\\sigma^2, \\boldsymbol{\\beta}} \\ell_i(\\boldsymbol{\\beta}, \\mathbf{L}, \\sigma^2)\\right)^T\\in\\mathbb{R}^{p\\times 1}\n",
    "\\end{aligned}\n",
    "$$\n"
   ]
  },
  {
   "cell_type": "markdown",
   "metadata": {},
   "source": []
  },
  {
   "cell_type": "markdown",
   "metadata": {},
   "source": [
    "## Q2. (20 pts) Objective and gradient evaluator for a single datum\n",
    "\n",
    "We expand the code from HW3 to evaluate both objective and gradient. I provide my code for HW3 below as a starting point. You do _not_ have to use this code. If your come up faster code, that's even better. \n",
    "\n",
    "**Solution**\n",
    "\n",
    "We first rewrite the three gradient expressions for efficient computation using\n",
    "$\n",
    "\\mathbf{\\Omega}_i^{-1}\n",
    "= \\sigma^{-2} \\mathbf I_{n_i} - \\sigma^{-4}\\mathbf{Z}_i\\mathbf{L}(\\mathbf{M}\\mathbf{M}^T)^{-1}\\mathbf{L}^T\\mathbf{Z}_i^T,\n",
    "$\n",
    "where $\\mathbf{M}\\mathbf{M}^T = \\mathbf{I}_q + \\sigma^{-2}\\mathbf{L}^T\\mathbf{Z}_i^T\\mathbf{Z}_i\\mathbf{L}$:\n",
    "$$\n",
    "\\begin{aligned}\n",
    "\\nabla_{\\boldsymbol{\\beta}} \\ell_i(\\boldsymbol{\\beta}, \\mathbf{L}, \\sigma^2)\n",
    "&= \\mathbf{X}_i^T \\boldsymbol{\\Omega}_i^{-1} \\mathbf{r}_i\\\\\n",
    "&= \\sigma^{-2}\\mathbf{X}_i^T\\mathbf{r}_i -\n",
    "\\sigma^{-4}\\mathbf{X}_i^T\\mathbf{Z}_i\\mathbf{L}(\\mathbf{M}\\mathbf{M}^T)^{-1}\\mathbf{L}^T\\mathbf{Z}_i^T\\mathbf{r}_i\\\\\n",
    "&= \\sigma^{-2}\\mathbf{X}_i^T\\mathbf{r}_i\n",
    "- \\sigma^{-4}\\mathbf{X}_i^T\\mathbf{Z}_i\\mathbf{L}\\mathbf{M}^{-T}\\mathbf{M}^{-1}\\mathbf{L}^T\\mathbf{Z}_i^T\\mathbf{r}_i\n",
    "\\end{aligned}\n",
    "$$\n",
    "where $\\mathbf{X}_i^T\\mathbf{r}_i$ and $\\mathbf{Z}_i^T\\mathbf{r}_i$ are stored in `storage_p` and `storage_q`, respectively."
   ]
  },
  {
   "cell_type": "markdown",
   "metadata": {},
   "source": [
    "For $\\nabla_{\\sigma^2} \\ell_i(\\boldsymbol{\\beta}, \\mathbf{L}, \\sigma^2)$, consider each term separately and merge them:\n",
    "$$\n",
    "\\begin{aligned}\n",
    "\\operatorname{tr} (\\boldsymbol{\\Omega}_i^{-1})\n",
    "&= \\operatorname{tr} \\left(\\sigma^{-2} \\mathbf I_{n_i} - \\sigma^{-4}\\mathbf{Z}_i\\mathbf{L}(\\mathbf{M}\\mathbf{M}^T)^{-1}\\mathbf{L}^T\\mathbf{Z}_i^T\\right)\\\\\n",
    "&= n_i\\sigma^{-2} - \\sigma^{-4}\\operatorname{tr} \\left(\\mathbf{Z}_i\\mathbf{L}(\\mathbf{M}\\mathbf{M}^T)^{-1}\\mathbf{L}^T\\mathbf{Z}_i^T\\right)\\\\\n",
    "&= n_i\\sigma^{-2} - \\sigma^{-4}\\operatorname{tr} \\left(\\mathbf{Z}_i^T\\mathbf{Z}_i\\mathbf{L}(\\mathbf{M}\\mathbf{M}^T)^{-1}\\mathbf{L}^T\\right),\\\\\n",
    "&= n_i\\sigma^{-2} - \\sigma^{-4}\\operatorname{dot} \\left(\\mathbf{Z}_i^T\\mathbf{Z}_i, \\mathbf{L}(\\mathbf{M}\\mathbf{M}^T)^{-1}\\mathbf{L}^T\\right),\\\\\n",
    "\\mathbf{r}_i^T \\boldsymbol{\\Omega}_i^{-2} \\mathbf{r}_i\n",
    "&= \\|\\boldsymbol{\\Omega}_i^{-1} \\mathbf{r}_i\\|_2^2\\\\\n",
    "&= \\left\\|\\left(\\sigma^{-2} \\mathbf I_{n_i} - \\sigma^{-4}\\mathbf{Z}_i\\mathbf{L}(\\mathbf{M}\\mathbf{M}^T)^{-1}\\mathbf{L}^T\\mathbf{Z}_i^T\\right)\\mathbf{r}_i\\right\\|_2^2\\\\\n",
    "&= \\sigma^{-4}\\left\\|\\left(\\mathbf I_{n_i} - \\sigma^{-2}\\mathbf{Z}_i\\mathbf{L}(\\mathbf{M}\\mathbf{M}^T)^{-1}\\mathbf{L}^T\\mathbf{Z}_i^T\\right)\\mathbf{r}_i\\right\\|_2^2\\\\\n",
    "&= \\sigma^{-4}\\left[\\mathbf{r}_i^T\\mathbf{r}_i -2\\sigma^{-2}\\mathbf{Z}_i\\mathbf{L}(\\mathbf{M}\\mathbf{M}^T)^{-1}\\mathbf{L}^T\\mathbf{Z}_i^T\\mathbf{r}_i\n",
    "+ \\sigma^{-4}\\mathbf{r}_i^T\\mathbf{Z}_i\\mathbf{L}(\\mathbf{M}\\mathbf{M}^T)^{-1}\\mathbf{L}^T\\mathbf{Z}_i^T\\mathbf{Z}_i\\mathbf{L}(\\mathbf{M}\\mathbf{M}^T)^{-1}\\mathbf{L}^T\\mathbf{Z}_i^T\\mathbf{r}_i\\right]\\\\\n",
    "&= \\sigma^{-4}\\left[\\mathbf{r}_i^T\\mathbf{r}_i - \\sigma^{-2}\\left(\\mathbf{L}(\\mathbf{M}\\mathbf{M}^T)^{-1}\\mathbf{L}^T\\mathbf{Z}_i^T\\mathbf{r}_i\\right)^T\n",
    "\\left(2\\mathbf{Z}_i^T\\mathbf{r}_i - \\sigma^{-2}\\mathbf{Z}_i^T\\mathbf{Z}_i\\mathbf{L}(\\mathbf{M}\\mathbf{M}^T)^{-1}\\mathbf{L}^T\\mathbf{Z}_i^T\\mathbf{r}_i\\right)\\right]\n",
    "\\end{aligned}\n",
    "$$\n",
    "and therefore\n",
    "$$\n",
    "\\begin{aligned}\n",
    "\\nabla_{\\sigma^2} \\ell_i(\\boldsymbol{\\beta}, \\mathbf{L}, \\sigma^2)\n",
    "&= - \\frac{1}{2} \\operatorname{tr} (\\boldsymbol{\\Omega}_i^{-1}) + \\frac{1}{2} \\mathbf{r}_i^T \\boldsymbol{\\Omega}_i^{-2} \\mathbf{r}_i\\\\\n",
    "&= - \\frac{n_i\\sigma^{-2}}{2} + \\frac{\\sigma^{-4}}{2}\\operatorname{dot} \\left(\\mathbf{Z}_i^T\\mathbf{Z}_i, \\mathbf{L}(\\mathbf{M}\\mathbf{M}^T)^{-1}\\mathbf{L}^T\\right)\\\\\n",
    "&\\quad + \\frac{\\sigma^{-4}}{2}\\left[\\mathbf{r}_i^T\\mathbf{r}_i - \\sigma^{-2}\\left(\\mathbf{L}(\\mathbf{M}\\mathbf{M}^T)^{-1}\\mathbf{L}^T\\mathbf{Z}_i^T\\mathbf{r}_i\\right)^T\n",
    "\\left(2\\mathbf{Z}_i^T\\mathbf{r}_i - \\sigma^{-2}\\mathbf{Z}_i^T\\mathbf{Z}_i\\mathbf{L}(\\mathbf{M}\\mathbf{M}^T)^{-1}\\mathbf{L}^T\\mathbf{Z}_i^T\\mathbf{r}_i\\right)\\right],\n",
    "\\end{aligned}\n",
    "$$\n",
    "where $\\mathbf{r}_i^T\\mathbf{r}_i = \\mathbf{y}_i^T\\mathbf{y}_i + \\boldsymbol{\\beta}^T(\\mathbf{X}_i^T\\mathbf{X}_i\\boldsymbol{\\beta} - 2\\mathbf{X}_i^T\\mathbf{y}_i)$."
   ]
  },
  {
   "cell_type": "markdown",
   "metadata": {},
   "source": [
    "Finally, $\\mathbf{\\Sigma} = \\mathbf{L}\\mathbf{L}^T$ gives the following relationship between `∇Σ` and `∇L`\n",
    "$$\n",
    "\\frac{\\partial}{\\partial \\mathbf{L}} \\ell_i(\\boldsymbol{\\beta}, \\mathbf{L}, \\sigma^2) \n",
    "= \\frac{\\partial}{\\partial \\mathbf{\\Sigma}} \\ell_i(\\boldsymbol{\\beta}, \\mathbf{L}, \\sigma^2)\\mathbf{L}\n",
    "$$\n",
    "thus\n",
    "$$\n",
    "\\begin{aligned}\n",
    "\\frac{\\partial}{\\partial \\mathbf{\\Sigma}} \\ell_i(\\boldsymbol{\\beta}, \\mathbf{L}, \\sigma^2)\n",
    "&= - \\mathbf{Z}_i^T \\boldsymbol{\\Omega}_i^{-1} \\mathbf{Z}_i + \\mathbf{Z}_i^T \\boldsymbol{\\Omega}_i^{-1} \\mathbf{r}_i \\mathbf{r}_i^T \\boldsymbol{\\Omega}_i^{-1} \\mathbf{Z}_i\\\\\n",
    "&= - \\mathbf{Z}_i^T \\boldsymbol{\\Omega}_i^{-1} \\mathbf{Z}_i + \\left(\\mathbf{Z}_i^T \\boldsymbol{\\Omega}_i^{-1} \\mathbf{r}_i\\right) \\left(\\mathbf{Z}_i^T \\boldsymbol{\\Omega}_i^{-1} \\mathbf{r}_i\\right)^T\\\\\n",
    "&= - \\mathbf{Z}_i^T\\left[\\sigma^{-2} \\mathbf I_{n_i} - \\sigma^{-4}\\mathbf{Z}_i\\mathbf{L}(\\mathbf{M}\\mathbf{M}^T)^{-1}\\mathbf{L}^T\\mathbf{Z}_i^T\\right]\\mathbf{Z}_i\n",
    "+ \\left(\\mathbf{Z}_i^T \\left[\\sigma^{-2} \\mathbf I_{n_i} - \\sigma^{-4}\\mathbf{Z}_i\\mathbf{L}(\\mathbf{M}\\mathbf{M}^T)^{-1}\\mathbf{L}^T\\mathbf{Z}_i^T\\right] \\mathbf{r}_i\\right) \\left(\\mathbf{Z}_i^T \\boldsymbol{\\Omega}_i^{-1} \\mathbf{r}_i\\right)^T\\\\\n",
    "&= - \\left[\\sigma^{-2} \\mathbf I_{q} - \\sigma^{-4}\\mathbf{Z}_i^T\\mathbf{Z}_i\\mathbf{L}(\\mathbf{M}\\mathbf{M}^T)^{-1}\\mathbf{L}^T\\right] \\mathbf{Z}_i^T\\mathbf{Z}_i\n",
    "+ \\left[\\sigma^{-2} \\mathbf I_{q} - \\sigma^{-4}\\mathbf{Z}_i^T\\mathbf{Z}_i\\mathbf{L}(\\mathbf{M}\\mathbf{M}^T)^{-1}\\mathbf{L}^T\\right] \\mathbf{Z}_i^T\\mathbf{r}_i \\left(\\mathbf{Z}_i^T \\boldsymbol{\\Omega}_i^{-1} \\mathbf{r}_i\\right)^T\\\\\n",
    "&= -\\mathbf{W}_i\\mathbf{Z}_i^T\\mathbf{Z}_i + \\mathbf{W}_i\\mathbf{Z}_i^T\\mathbf{r}_i(\\mathbf{W}_i\\mathbf{Z}_i^T\\mathbf{r}_i)^T,\n",
    "\\end{aligned}\n",
    "$$\n",
    "where $\\mathbf{W}_i = \\sigma^{-2} \\mathbf I_{q} - \\sigma^{-4}\\mathbf{Z}_i^T\\mathbf{Z}_i\\mathbf{L}(\\mathbf{M}\\mathbf{M}^T)^{-1}\\mathbf{L}^T$, which is *not* symmetric.\n",
    "\n",
    "Use my code for `log!()` developed in HW3. I further pre-allocate `storage_q2` and `storage_qq2` for the gradients. Note that a few lines exceed 80 characters, but remember that the criterion for the course is 92 characters."
   ]
  },
  {
   "cell_type": "code",
   "execution_count": 11,
   "metadata": {
    "tags": []
   },
   "outputs": [
    {
     "data": {
      "text/plain": [
       "logl!"
      ]
     },
     "metadata": {},
     "output_type": "display_data"
    }
   ],
   "source": [
    "# define a type that holds an LMM datum\n",
    "struct LmmObs{T <: AbstractFloat}\n",
    "    # data\n",
    "    y          :: Vector{T}\n",
    "    X          :: Matrix{T}\n",
    "    Z          :: Matrix{T}\n",
    "    # arrays for holding gradient\n",
    "    ∇β         :: Vector{T}\n",
    "    ∇σ²        :: Vector{T}\n",
    "    ∇Σ         :: Matrix{T}  \n",
    "    ∇L         :: Matrix{T} # added\n",
    "    # working arrays\n",
    "    # TODO: whatever intermediate arrays you may want to pre-allocate\n",
    "    yty        :: T\n",
    "    xty        :: Vector{T}\n",
    "    zty        :: Vector{T}\n",
    "    storage_p  :: Vector{T}\n",
    "    storage_q  :: Vector{T}\n",
    "    storage_q2 :: Vector{T} # added\n",
    "    xtx        :: Matrix{T}\n",
    "    ztx        :: Matrix{T}\n",
    "    ztz        :: Matrix{T}\n",
    "    storage_qq :: Matrix{T}\n",
    "    storage_qq2 :: Matrix{T} # added\n",
    "end\n",
    "\n",
    "\"\"\"\n",
    "    LmmObs(y::Vector, X::Matrix, Z::Matrix)\n",
    "\n",
    "Create an LMM datum of type `LmmObs`.\n",
    "\"\"\"\n",
    "function LmmObs(\n",
    "    y          ::Vector{T}, \n",
    "    X          ::Matrix{T}, \n",
    "    Z          ::Matrix{T}\n",
    "    ) where T <: AbstractFloat\n",
    "    n, p, q    = size(X, 1), size(X, 2), size(Z, 2)    \n",
    "    ∇β         = Vector{T}(undef, p)\n",
    "    ∇σ²        = Vector{T}(undef, 1)\n",
    "    ∇Σ         = Matrix{T}(undef, q, q)\n",
    "    ∇L         = Matrix{T}(undef, q, q) # added\n",
    "    yty        = abs2(norm(y))\n",
    "    xty        = transpose(X) * y\n",
    "    zty        = transpose(Z) * y    \n",
    "    storage_p  = Vector{T}(undef, p)\n",
    "    storage_q  = Vector{T}(undef, q)\n",
    "    storage_q2 = Vector{T}(undef, q) # added\n",
    "    xtx        = transpose(X) * X\n",
    "    ztx        = transpose(Z) * X\n",
    "    ztz        = transpose(Z) * Z\n",
    "    storage_qq = similar(ztz)\n",
    "    storage_qq2 = similar(ztz) # added\n",
    "    LmmObs(y, X, Z, ∇β, ∇σ², ∇Σ, ∇L,\n",
    "        yty, xty, zty, storage_p, storage_q, storage_q2, \n",
    "        xtx, ztx, ztz, storage_qq, storage_qq2)\n",
    "end\n",
    "\n",
    "\"\"\"\n",
    "    logl!(obs::LmmObs, β, L, σ², needgrad=false)\n",
    "\n",
    "Evaluate the log-likelihood of a single LMM datum at parameter values `β`, `L`, \n",
    "and `σ²`. If `needgrad==true`, then `obs.∇β`, `obs.∇Σ`, and `obs.σ² are filled \n",
    "with the corresponding gradient.\n",
    "\"\"\"\n",
    "function logl!(\n",
    "    obs      :: LmmObs{T}, \n",
    "    β        :: Vector{T}, \n",
    "    L        :: Matrix{T}, \n",
    "    σ²       :: T,\n",
    "    needgrad :: Bool = true\n",
    "    ) where T <: AbstractFloat\n",
    "    n, p, q = size(obs.X, 1), size(obs.X, 2), size(obs.Z, 2)\n",
    "    σ²inv   = inv(σ²)\n",
    "    ####################\n",
    "    # Evaluate objective\n",
    "    ####################    \n",
    "    ## 1st term = -(n/2) log(2πσ²) ----------------------------------------- ##\n",
    "    LogLik = -(n//2) * log(2π * σ²)\n",
    "\n",
    "    ## 2nd term = -logdet(M), where M = L'Z'ZL / σ² + I -------------------- ##\n",
    "    mul!(obs.storage_qq, transpose(L), obs.ztz) # L'Z'Z\n",
    "    BLAS.trmm!('R', 'L', 'N', 'N', σ²inv, L, obs.storage_qq) # (L'Z'Z)L / σ²\n",
    "    @inbounds for j in 1:q\n",
    "        obs.storage_qq[j, j] += 1.0 # L'Z'ZL / σ² + I\n",
    "    end\n",
    "    LAPACK.potrf!('L', obs.storage_qq) # M = cholesky!(Symmetric(obs.storage_qq, :L))\n",
    "    LogLik -= logdet(LowerTriangular(obs.storage_qq)) # logdet(M)\n",
    "\n",
    "    ## 3rd term = -1/2 (||y||^2 + β'(X'Xβ - 2X'y)) / σ² -------------------- ##\n",
    "    obs.storage_p .= obs.xty # X'y\n",
    "    BLAS.symv!('U', T(1), obs.xtx, β, T(-2), obs.storage_p) # X'Xβ - 2X'y\n",
    "    LogLik -= (1//2) * (obs.yty + dot(β, obs.storage_p)) * σ²inv\n",
    "\n",
    "    ## 4th term = 1/2 ||M⁻¹(L'Z'y - L'Z'Xβ)||² / (σ²)² --------------------- ##\n",
    "    obs.storage_q .= obs.zty                                # Z'y\n",
    "    BLAS.gemv!('N', T(-1), obs.ztx, β, T(1), obs.storage_q) # Z'y - Z'Xβ = Z'r\n",
    "    BLAS.trmv!('L', 'T', 'N', L, obs.storage_q)             # L'Z'r\n",
    "    BLAS.trsv!('L', 'N', 'N', obs.storage_qq, obs.storage_q) # M⁻¹L'Z'r\n",
    "    LogLik += (1//2) * abs2(norm(obs.storage_q)) * σ²inv^2\n",
    "    \n",
    "    ###################\n",
    "    # Evaluate gradient\n",
    "    ###################   \n",
    "    if needgrad\n",
    "        # TODO: fill ∇β, ∇Σ, ∇L, ∇σ² by gradients\n",
    "        # ∇β ---------------------------------------------------------------- # \n",
    "        BLAS.symv!('U', T(-1), obs.xtx, β, T(1), copy!(obs.∇β, obs.xty)) # X'y - X'Xβ = X'r\n",
    "        BLAS.trsv!('L', 'T', 'N', obs.storage_qq, obs.storage_q) # M⁻ᵀ(M⁻¹L'Z'r)\n",
    "        BLAS.trmv!('L', 'N', 'N', L, obs.storage_q)              # L(M⁻ᵀM⁻¹L'Z'r)\n",
    "        BLAS.gemv!('T', -σ²inv^2, obs.ztx, obs.storage_q, σ²inv, obs.∇β) # ∇β\n",
    "\n",
    "        # ∇Σ ---------------------------------------------------------------- #\n",
    "        ## 1st term = -WZ'Z ------------------------------------------------ ##\n",
    "        BLAS.trmm!('R', 'L', 'N', 'N', T(1), L, copy!(obs.storage_qq2, obs.ztz)) # Z'ZL\n",
    "        BLAS.trsm!('R', 'L', 'T', 'N', T(1), obs.storage_qq, obs.storage_qq2) # Z'ZLM⁻ᵀ\n",
    "        BLAS.trsm!('R', 'L', 'N', 'N', T(1), obs.storage_qq, obs.storage_qq2) # Z'ZLM⁻ᵀM⁻¹\n",
    "        BLAS.trmm!('R', 'L', 'T', 'N', T(-σ²inv), L, obs.storage_qq2)         # -σ⁻²Z'ZLM⁻ᵀM⁻¹L'\n",
    "        @inbounds for j in 1:q\n",
    "            obs.storage_qq2[j, j] += 1.0 # I - σ⁻²Z'ZLM⁻ᵀM⁻¹L\n",
    "        end\n",
    "        obs.storage_qq2 .*= σ²inv # σ⁻²I - σ⁻⁴Z'ZLM⁻ᵀM⁻¹L' = W (asymmetric)\n",
    "        BLAS.symm!('R', 'U', T(-1), obs.ztz, obs.storage_qq2 , T(0), obs.∇Σ) # -WZ'Z\n",
    "        ## 2nd term = (WZtr)(WZtr)' ---------------------------------------- ##\n",
    "        BLAS.gemv!('N', T(-1), obs.ztx, β, T(1), copy!(obs.storage_q, obs.zty)) # Z'r\n",
    "        BLAS.gemv!('N', T(1), obs.storage_qq2, obs.storage_q, T(0), obs.storage_q2) # WZ'r\n",
    "        ### sum of the two terms after outer product\n",
    "        BLAS.ger!(T(1), obs.storage_q2, obs.storage_q2, obs.∇Σ) # ∇Σ\n",
    "        # ∇L ---------------------------------------------------------------- #\n",
    "        BLAS.trmm!('R', 'L', 'N', 'N', T(1), L, copy!(obs.∇L, obs.∇Σ)) # ∇ΣL\n",
    "\n",
    "        # ∇σ² --------------------------------------------------------------- #\n",
    "        ## 1st term (constant) --------------------------------------------- ##\n",
    "        obs.∇σ² .= -(n//2) * σ²inv\n",
    "        ## 2nd term (dot product) ------------------------------------------ ##\n",
    "        BLAS.trsm!('R', 'L', 'T', 'N', T(1), obs.storage_qq, copy!(obs.storage_qq2, L)) # LM⁻ᵀ\n",
    "        BLAS.trsm!('R', 'L', 'N', 'N', T(1), obs.storage_qq, obs.storage_qq2) # LM⁻ᵀM⁻¹\n",
    "        BLAS.trmm!('R', 'L', 'T', 'N', T(1), L, obs.storage_qq2) # LM⁻ᵀM⁻¹L'\n",
    "        obs.∇σ² .+= (1//2) * σ²inv^2 * dot(obs.ztz, obs.storage_qq2) # σ⁻⁴tr(Z'ZLM⁻ᵀM⁻¹L')\n",
    "        ## 3rd term (norm) ------------------------------------------------- ##\n",
    "        BLAS.symv!('L', T(1), obs.storage_qq2, obs.storage_q, T(0), obs.storage_q2) # LM⁻ᵀM⁻¹L'Z'r\n",
    "        BLAS.symv!('L', -σ²inv, obs.ztz, obs.storage_q2, T(2), obs.storage_q)\n",
    "        obs.∇σ² .+= (1//2) * σ²inv^2 * (obs.yty + dot(β, obs.storage_p) # r'r\n",
    "                    - σ²inv * dot(obs.storage_q2, obs.storage_q)) # remaining term\n",
    "    end  \n",
    "    ###################\n",
    "    # Return\n",
    "    ###################        \n",
    "    return LogLik\n",
    "end"
   ]
  },
  {
   "cell_type": "markdown",
   "metadata": {},
   "source": [
    "It is a good idea to test correctness and efficiency of the single datum objective/gradient evaluator here. First generate the same data set as in [HW3](https://ucla-biostat-257.github.io/2024spring/hw/hw3/hw03.html)."
   ]
  },
  {
   "cell_type": "code",
   "execution_count": 5,
   "metadata": {
    "tags": []
   },
   "outputs": [],
   "source": [
    "Random.seed!(257)\n",
    "\n",
    "# dimension\n",
    "n, p, q = 2000, 5, 3\n",
    "# predictors\n",
    "X  = [ones(n) randn(n, p - 1)]\n",
    "Z  = [ones(n) randn(n, q - 1)]\n",
    "# parameter values\n",
    "β  = [2.0; -1.0; rand(p - 2)]\n",
    "σ² = 1.5\n",
    "Σ  = fill(0.1, q, q) + 0.9I # compound symmetry \n",
    "L  = Matrix(cholesky(Symmetric(Σ)).L)\n",
    "# generate y\n",
    "y  = X * β + Z * rand(MvNormal(Σ)) + sqrt(σ²) * randn(n)\n",
    "\n",
    "# form the LmmObs object\n",
    "obs = LmmObs(y, X, Z);"
   ]
  },
  {
   "cell_type": "markdown",
   "metadata": {},
   "source": [
    "### Correctness"
   ]
  },
  {
   "cell_type": "code",
   "execution_count": 13,
   "metadata": {
    "tags": []
   },
   "outputs": [
    {
     "name": "stdout",
     "output_type": "stream",
     "text": [
      "logl = logl!(obs, β, L, σ², true) = -3256.1793358058385\n",
      "obs.∇β = [0.2669810805700901, 41.61418337067374, -34.346649623127014, 36.108985107075085, 27.913948208793503]\n",
      "obs.∇σ² = [1.6283715138490606]\n",
      "obs.∇Σ = [-0.9464482950697549 0.057792444809472696 -0.3024412763919055; 0.05779244480946695 -1.0008716491712542 0.2845116557145112; -0.30244127639187135 0.28451165571452075 1.1700409272598846]\n",
      "obs.∇L = [-0.9709131782279983 0.030145913774881482 -0.2996791977474491; -0.013843554536207352 -0.9701196695228238 0.2819133213280048; -0.15698601809443083 0.38891970710309437 1.1593553981651827]\n"
     ]
    }
   ],
   "source": [
    "@show logl = logl!(obs, β, L, σ², true)\n",
    "@show obs.∇β\n",
    "@show obs.∇σ²\n",
    "@show obs.∇Σ\n",
    "@show obs.∇L;"
   ]
  },
  {
   "cell_type": "markdown",
   "metadata": {},
   "source": [
    "You will lose all 20 points if following statement throws `AssertionError`."
   ]
  },
  {
   "cell_type": "code",
   "execution_count": 14,
   "metadata": {
    "tags": []
   },
   "outputs": [],
   "source": [
    "@assert abs(logl - (-3256.1793358058258)) < 1e-4\n",
    "@assert norm(obs.∇β - [0.26698108057144054, 41.61418337067327, \n",
    "        -34.34664962312689, 36.10898510707527, 27.913948208793144]) < 1e-4\n",
    "@assert norm(obs.∇Σ - \n",
    "    [-0.9464482950697888 0.057792444809492895 -0.30244127639188767; \n",
    "        0.057792444809492895 -1.00087164917123 0.2845116557144694; \n",
    "        -0.30244127639188767 0.2845116557144694 1.170040927259726]) < 1e-4\n",
    "@assert abs(obs.∇σ²[1] - (1.6283715138412163)) < 1e-4"
   ]
  },
  {
   "cell_type": "markdown",
   "metadata": {},
   "source": [
    "### Efficiency\n",
    "\n",
    "Benchmark for evaluating objective only. This is what we did in HW3."
   ]
  },
  {
   "cell_type": "code",
   "execution_count": 15,
   "metadata": {
    "tags": []
   },
   "outputs": [
    {
     "data": {
      "text/plain": [
       "BenchmarkTools.Trial: 10000 samples with 130 evaluations.\n",
       " Range \u001b[90m(\u001b[39m\u001b[36m\u001b[1mmin\u001b[22m\u001b[39m … \u001b[35mmax\u001b[39m\u001b[90m):  \u001b[39m\u001b[36m\u001b[1m732.369 ns\u001b[22m\u001b[39m … \u001b[35m967.946 ns\u001b[39m  \u001b[90m┊\u001b[39m GC \u001b[90m(\u001b[39mmin … max\u001b[90m): \u001b[39m0.00% … 0.00%\n",
       " Time  \u001b[90m(\u001b[39m\u001b[34m\u001b[1mmedian\u001b[22m\u001b[39m\u001b[90m):     \u001b[39m\u001b[34m\u001b[1m736.862 ns               \u001b[22m\u001b[39m\u001b[90m┊\u001b[39m GC \u001b[90m(\u001b[39mmedian\u001b[90m):    \u001b[39m0.00%\n",
       " Time  \u001b[90m(\u001b[39m\u001b[32m\u001b[1mmean\u001b[22m\u001b[39m ± \u001b[32mσ\u001b[39m\u001b[90m):   \u001b[39m\u001b[32m\u001b[1m738.202 ns\u001b[22m\u001b[39m ± \u001b[32m  6.562 ns\u001b[39m  \u001b[90m┊\u001b[39m GC \u001b[90m(\u001b[39mmean ± σ\u001b[90m):  \u001b[39m0.00% ± 0.00%\n",
       "\n",
       "  \u001b[39m \u001b[39m \u001b[39m \u001b[39m \u001b[39m \u001b[39m \u001b[39m \u001b[39m \u001b[39m \u001b[39m \u001b[39m█\u001b[39m \u001b[34m \u001b[39m\u001b[39m \u001b[39m \u001b[32m \u001b[39m\u001b[39m \u001b[39m \u001b[39m \u001b[39m \u001b[39m \u001b[39m \u001b[39m \u001b[39m \u001b[39m \u001b[39m \u001b[39m \u001b[39m \u001b[39m \u001b[39m \u001b[39m \u001b[39m \u001b[39m \u001b[39m \u001b[39m \u001b[39m \u001b[39m \u001b[39m \u001b[39m \u001b[39m \u001b[39m \u001b[39m \u001b[39m \u001b[39m \u001b[39m \u001b[39m \u001b[39m \u001b[39m \u001b[39m \u001b[39m \u001b[39m \u001b[39m \u001b[39m \u001b[39m \u001b[39m \u001b[39m \u001b[39m \u001b[39m \u001b[39m \u001b[39m \u001b[39m \u001b[39m \u001b[39m \n",
       "  \u001b[39m▁\u001b[39m▁\u001b[39m▁\u001b[39m▁\u001b[39m▁\u001b[39m▃\u001b[39m▃\u001b[39m▅\u001b[39m▇\u001b[39m█\u001b[39m█\u001b[39m▇\u001b[34m▅\u001b[39m\u001b[39m▄\u001b[39m▃\u001b[32m▅\u001b[39m\u001b[39m▃\u001b[39m▄\u001b[39m▄\u001b[39m▄\u001b[39m▆\u001b[39m▃\u001b[39m▂\u001b[39m▂\u001b[39m▂\u001b[39m▂\u001b[39m▁\u001b[39m▁\u001b[39m▁\u001b[39m▁\u001b[39m▁\u001b[39m▁\u001b[39m▁\u001b[39m▁\u001b[39m▁\u001b[39m▁\u001b[39m▁\u001b[39m▁\u001b[39m▁\u001b[39m▁\u001b[39m▁\u001b[39m▁\u001b[39m▁\u001b[39m▁\u001b[39m▁\u001b[39m▁\u001b[39m▁\u001b[39m▁\u001b[39m▁\u001b[39m▁\u001b[39m▁\u001b[39m▁\u001b[39m▁\u001b[39m▁\u001b[39m▁\u001b[39m▁\u001b[39m▁\u001b[39m▁\u001b[39m▁\u001b[39m▁\u001b[39m▁\u001b[39m \u001b[39m▂\n",
       "  732 ns\u001b[90m           Histogram: frequency by time\u001b[39m          756 ns \u001b[0m\u001b[1m<\u001b[22m\n",
       "\n",
       " Memory estimate\u001b[90m: \u001b[39m\u001b[33m0 bytes\u001b[39m, allocs estimate\u001b[90m: \u001b[39m\u001b[33m0\u001b[39m."
      ]
     },
     "metadata": {},
     "output_type": "display_data"
    }
   ],
   "source": [
    "@benchmark logl!($obs, $β, $L, $σ², false)"
   ]
  },
  {
   "cell_type": "markdown",
   "metadata": {},
   "source": [
    "Benchmark for objective + gradient evaluation."
   ]
  },
  {
   "cell_type": "code",
   "execution_count": 16,
   "metadata": {
    "tags": []
   },
   "outputs": [
    {
     "data": {
      "text/plain": [
       "BenchmarkTools.Trial: 10000 samples with 8 evaluations.\n",
       " Range \u001b[90m(\u001b[39m\u001b[36m\u001b[1mmin\u001b[22m\u001b[39m … \u001b[35mmax\u001b[39m\u001b[90m):  \u001b[39m\u001b[36m\u001b[1m2.693 μs\u001b[22m\u001b[39m … \u001b[35m  8.062 μs\u001b[39m  \u001b[90m┊\u001b[39m GC \u001b[90m(\u001b[39mmin … max\u001b[90m): \u001b[39m0.00% … 0.00%\n",
       " Time  \u001b[90m(\u001b[39m\u001b[34m\u001b[1mmedian\u001b[22m\u001b[39m\u001b[90m):     \u001b[39m\u001b[34m\u001b[1m3.115 μs               \u001b[22m\u001b[39m\u001b[90m┊\u001b[39m GC \u001b[90m(\u001b[39mmedian\u001b[90m):    \u001b[39m0.00%\n",
       " Time  \u001b[90m(\u001b[39m\u001b[32m\u001b[1mmean\u001b[22m\u001b[39m ± \u001b[32mσ\u001b[39m\u001b[90m):   \u001b[39m\u001b[32m\u001b[1m3.324 μs\u001b[22m\u001b[39m ± \u001b[32m545.091 ns\u001b[39m  \u001b[90m┊\u001b[39m GC \u001b[90m(\u001b[39mmean ± σ\u001b[90m):  \u001b[39m0.00% ± 0.00%\n",
       "\n",
       "  \u001b[39m \u001b[39m▁\u001b[39m▂\u001b[39m \u001b[39m \u001b[39m \u001b[39m \u001b[39m \u001b[39m \u001b[39m \u001b[39m \u001b[39m \u001b[39m \u001b[39m \u001b[39m \u001b[39m█\u001b[34m▂\u001b[39m\u001b[39m \u001b[39m \u001b[39m \u001b[39m \u001b[39m \u001b[39m \u001b[39m \u001b[32m \u001b[39m\u001b[39m \u001b[39m \u001b[39m \u001b[39m \u001b[39m \u001b[39m \u001b[39m \u001b[39m \u001b[39m \u001b[39m \u001b[39m \u001b[39m \u001b[39m \u001b[39m \u001b[39m \u001b[39m \u001b[39m \u001b[39m \u001b[39m \u001b[39m \u001b[39m \u001b[39m \u001b[39m \u001b[39m \u001b[39m \u001b[39m \u001b[39m \u001b[39m \u001b[39m \u001b[39m \u001b[39m \u001b[39m \u001b[39m \u001b[39m \u001b[39m \u001b[39m \n",
       "  \u001b[39m▃\u001b[39m█\u001b[39m█\u001b[39m▃\u001b[39m▂\u001b[39m▂\u001b[39m▂\u001b[39m▂\u001b[39m▂\u001b[39m▂\u001b[39m▂\u001b[39m▁\u001b[39m▁\u001b[39m▂\u001b[39m▇\u001b[39m█\u001b[34m█\u001b[39m\u001b[39m▄\u001b[39m▂\u001b[39m▂\u001b[39m▂\u001b[39m▁\u001b[39m▁\u001b[39m▂\u001b[32m▂\u001b[39m\u001b[39m▂\u001b[39m▁\u001b[39m▁\u001b[39m▂\u001b[39m▁\u001b[39m▂\u001b[39m▂\u001b[39m▃\u001b[39m▄\u001b[39m▃\u001b[39m▂\u001b[39m▂\u001b[39m▁\u001b[39m▁\u001b[39m▁\u001b[39m▁\u001b[39m▁\u001b[39m▂\u001b[39m▁\u001b[39m▂\u001b[39m▁\u001b[39m▂\u001b[39m▁\u001b[39m▁\u001b[39m▁\u001b[39m▁\u001b[39m▁\u001b[39m▂\u001b[39m▂\u001b[39m▃\u001b[39m▅\u001b[39m█\u001b[39m▇\u001b[39m▄\u001b[39m \u001b[39m▃\n",
       "  2.69 μs\u001b[90m         Histogram: frequency by time\u001b[39m        4.25 μs \u001b[0m\u001b[1m<\u001b[22m\n",
       "\n",
       " Memory estimate\u001b[90m: \u001b[39m\u001b[33m0 bytes\u001b[39m, allocs estimate\u001b[90m: \u001b[39m\u001b[33m0\u001b[39m."
      ]
     },
     "metadata": {},
     "output_type": "display_data"
    }
   ],
   "source": [
    "bm_objgrad = @benchmark logl!($obs, $β, $L, $σ², true)"
   ]
  },
  {
   "cell_type": "markdown",
   "metadata": {},
   "source": [
    "My median runt time is 900ns. You will get full credit (10 pts) if the median run time is within 10μs."
   ]
  },
  {
   "cell_type": "code",
   "execution_count": 17,
   "metadata": {
    "tags": []
   },
   "outputs": [
    {
     "data": {
      "text/plain": [
       "10.0"
      ]
     },
     "metadata": {},
     "output_type": "display_data"
    }
   ],
   "source": [
    "#  The points you will get are\n",
    "clamp(10 / (median(bm_objgrad).time / 1e3) * 10, 0, 10)"
   ]
  },
  {
   "cell_type": "markdown",
   "metadata": {},
   "source": [
    "## Q3. LmmModel type\n",
    "\n",
    "We create a `LmmModel` type to hold all data points and model parameters. Log-likelihood/gradient of a `LmmModel` object is simply the sum of log-likelihood/gradient of individual data points. "
   ]
  },
  {
   "cell_type": "code",
   "execution_count": 18,
   "metadata": {
    "tags": []
   },
   "outputs": [
    {
     "data": {
      "text/plain": [
       "logl!"
      ]
     },
     "metadata": {},
     "output_type": "display_data"
    }
   ],
   "source": [
    "# define a type that holds LMM model (data + parameters)\n",
    "struct LmmModel{T <: AbstractFloat} <: MOI.AbstractNLPEvaluator\n",
    "    # data\n",
    "    data :: Vector{LmmObs{T}}\n",
    "    # parameters\n",
    "    β    :: Vector{T}\n",
    "    L    :: Matrix{T}\n",
    "    σ²   :: Vector{T}    \n",
    "    # arrays for holding gradient\n",
    "    ∇β   :: Vector{T}\n",
    "    ∇σ²  :: Vector{T}\n",
    "    ∇L   :: Matrix{T}\n",
    "    # TODO: add whatever intermediate arrays you may want to pre-allocate\n",
    "    xty  :: Vector{T}\n",
    "    ztr2 :: Vector{T}\n",
    "    storage_2q :: Vector{T} # added to store ztr2 for each i\n",
    "    xtx  :: Matrix{T}\n",
    "    ztz2 :: Matrix{T}\n",
    "    storage_2q2q :: Matrix{T} # added to store ztz2 for each i\n",
    "end\n",
    "\n",
    "\"\"\"\n",
    "    LmmModel(data::Vector{LmmObs})\n",
    "\n",
    "Create an LMM model that contains data and parameters.\n",
    "\"\"\"\n",
    "function LmmModel(obsvec::Vector{LmmObs{T}}) where T <: AbstractFloat\n",
    "    # dims\n",
    "    p    = size(obsvec[1].X, 2)\n",
    "    q    = size(obsvec[1].Z, 2)\n",
    "    # parameters\n",
    "    β    = Vector{T}(undef, p)\n",
    "    L    = Matrix{T}(undef, q, q)\n",
    "    σ²   = Vector{T}(undef, 1)    \n",
    "    # gradients\n",
    "    ∇β   = similar(β)    \n",
    "    ∇σ²  = similar(σ²)\n",
    "    ∇L   = similar(L)\n",
    "    # intermediate arrays\n",
    "    xty  = Vector{T}(undef, p)\n",
    "    ztr2 = Vector{T}(undef, abs2(q))\n",
    "    storage_2q = similar(ztr2) # added\n",
    "    xtx  = Matrix{T}(undef, p, p)\n",
    "    ztz2 = Matrix{T}(undef, abs2(q), abs2(q))\n",
    "    storage_2q2q = similar(ztz2) # added\n",
    "    LmmModel(obsvec, β, L, σ², ∇β, ∇σ², ∇L, xty, ztr2, storage_2q, xtx, ztz2, storage_2q2q)\n",
    "end\n",
    "\n",
    "\"\"\"\n",
    "    logl!(m::LmmModel, needgrad=false)\n",
    "\n",
    "Evaluate the log-likelihood of an LMM model at parameter values `m.β`, `m.L`, \n",
    "and `m.σ²`. If `needgrad==true`, then `m.∇β`, `m.∇Σ`, and `m.σ² are filled \n",
    "with the corresponding gradient.\n",
    "\"\"\"\n",
    "function logl!(m::LmmModel{T}, needgrad::Bool = false) where T <: AbstractFloat\n",
    "    logl = zero(T)\n",
    "    if needgrad\n",
    "        fill!(m.∇β , 0)\n",
    "        fill!(m.∇L , 0)\n",
    "        fill!(m.∇σ², 0)        \n",
    "    end\n",
    "    @inbounds for i in 1:length(m.data)\n",
    "        obs = m.data[i]\n",
    "        logl += logl!(obs, m.β, m.L, m.σ²[1], needgrad)\n",
    "        if needgrad\n",
    "            BLAS.axpy!(T(1), obs.∇β, m.∇β)\n",
    "            # BLAS.axpy!(T(1), obs.∇Σ, m.∇L) # I defined ∇L\n",
    "            BLAS.axpy!(T(1), obs.∇L, m.∇L)\n",
    "            m.∇σ²[1] += obs.∇σ²[1]\n",
    "        end\n",
    "    end\n",
    "    logl\n",
    "end"
   ]
  },
  {
   "cell_type": "markdown",
   "metadata": {},
   "source": [
    "## Q4. (20 pts) Test data\n",
    "\n",
    "Let's generate a synthetic longitudinal data set to test our algorithm."
   ]
  },
  {
   "cell_type": "code",
   "execution_count": 19,
   "metadata": {
    "tags": []
   },
   "outputs": [],
   "source": [
    "Random.seed!(257)\n",
    "\n",
    "# dimension\n",
    "m      = 1000 # number of individuals\n",
    "ns     = rand(1500:2000, m) # numbers of observations per individual\n",
    "p      = 5 # number of fixed effects, including intercept\n",
    "q      = 3 # number of random effects, including intercept\n",
    "obsvec = Vector{LmmObs{Float64}}(undef, m)\n",
    "# true parameter values\n",
    "βtrue  = [0.1; 6.5; -3.5; 1.0; 5; zeros(p - 5)]\n",
    "σ²true = 1.5\n",
    "σtrue  = sqrt(σ²true)\n",
    "Σtrue  = Matrix(Diagonal([2.0; 1.2; 1.0; zeros(q - 3)]))\n",
    "Ltrue  = Matrix(cholesky(Symmetric(Σtrue), Val(true), check=false).L)\n",
    "# generate data\n",
    "for i in 1:m\n",
    "    # first column intercept, remaining entries iid std normal\n",
    "    X = Matrix{Float64}(undef, ns[i], p)\n",
    "    X[:, 1] .= 1\n",
    "    @views Distributions.rand!(Normal(), X[:, 2:p])\n",
    "    # first column intercept, remaining entries iid std normal\n",
    "    Z = Matrix{Float64}(undef, ns[i], q)\n",
    "    Z[:, 1] .= 1\n",
    "    @views Distributions.rand!(Normal(), Z[:, 2:q])\n",
    "    # generate y\n",
    "    y = X * βtrue .+ Z * (Ltrue * randn(q)) .+ σtrue * randn(ns[i])\n",
    "    # form a LmmObs instance\n",
    "    obsvec[i] = LmmObs(y, X, Z)\n",
    "end\n",
    "# form a LmmModel instance\n",
    "lmm = LmmModel(obsvec);"
   ]
  },
  {
   "cell_type": "markdown",
   "metadata": {},
   "source": [
    "For later comparison with other software, we save the data into a text file `lmm_data.csv`. **Do not put this file in Git.** It takes 245.4MB storage."
   ]
  },
  {
   "cell_type": "code",
   "execution_count": 80,
   "metadata": {
    "tags": []
   },
   "outputs": [
    {
     "data": {
      "text/plain": [
       "true"
      ]
     },
     "metadata": {},
     "output_type": "display_data"
    }
   ],
   "source": [
    "(isfile(\"lmm_data.csv\") && filesize(\"lmm_data.csv\") == 245369685) || \n",
    "open(\"lmm_data.csv\", \"w\") do io\n",
    "    p = size(lmm.data[1].X, 2)\n",
    "    q = size(lmm.data[1].Z, 2)\n",
    "    # print header\n",
    "    print(io, \"ID,Y,\")\n",
    "    for j in 1:(p-1)\n",
    "        print(io, \"X\" * string(j) * \",\")\n",
    "    end\n",
    "    for j in 1:(q-1)\n",
    "        print(io, \"Z\" * string(j) * (j < q-1 ? \",\" : \"\\n\"))\n",
    "    end\n",
    "    # print data\n",
    "    for i in eachindex(lmm.data)\n",
    "        obs = lmm.data[i]\n",
    "        for j in 1:length(obs.y)\n",
    "            # id\n",
    "            print(io, i, \",\")\n",
    "            # Y\n",
    "            print(io, obs.y[j], \",\")\n",
    "            # X data\n",
    "            for k in 2:p\n",
    "                print(io, obs.X[j, k], \",\")\n",
    "            end\n",
    "            # Z data\n",
    "            for k in 2:q-1\n",
    "                print(io, obs.Z[j, k], \",\")\n",
    "            end\n",
    "            print(io, obs.Z[j, q], \"\\n\")\n",
    "        end\n",
    "    end\n",
    "end"
   ]
  },
  {
   "cell_type": "markdown",
   "metadata": {},
   "source": [
    "### Correctness\n",
    "\n",
    "Evaluate log-likelihood and gradient of whole data set at the true parameter values."
   ]
  },
  {
   "cell_type": "code",
   "execution_count": 20,
   "metadata": {
    "tags": []
   },
   "outputs": [
    {
     "name": "stdout",
     "output_type": "stream",
     "text": [
      "obj = logl!(lmm, true) = -2.8400684383699736e6\n",
      "lmm.∇β = [41.06591670742383, 445.7512035395316, 157.0133992248792, -335.0997736073277, -895.6257448387724]\n",
      "lmm.∇σ² = [-489.53617303727367]\n",
      "lmm.∇L = [-3.398257593515736 31.32103842087272 26.736450897355372; 40.4352867299875 61.86377650461247 -75.37427770755431; 37.81105146876211 -82.5683843121727 -56.459925427587095]\n"
     ]
    }
   ],
   "source": [
    "copy!(lmm.β, βtrue)\n",
    "copy!(lmm.L, Ltrue)\n",
    "lmm.σ²[1] = σ²true\n",
    "@show obj = logl!(lmm, true)\n",
    "@show lmm.∇β\n",
    "@show lmm.∇σ²\n",
    "@show lmm.∇L;"
   ]
  },
  {
   "cell_type": "markdown",
   "metadata": {},
   "source": [
    "Test correctness. You will loss all 20 points if following code throws `AssertError`."
   ]
  },
  {
   "cell_type": "code",
   "execution_count": 21,
   "metadata": {
    "tags": []
   },
   "outputs": [],
   "source": [
    "@assert abs(obj - (-2.840068438369969e6)) < 1e-4\n",
    "@assert norm(lmm.∇β - [41.0659167074073, 445.75120353972426, \n",
    "        157.0133992249258, -335.09977360733626, -895.6257448385899]) < 1e-4\n",
    "@assert norm(lmm.∇L - [-3.3982575935824837 31.32103842086001 26.73645089732865; \n",
    "        40.43528672997116 61.86377650461202 -75.37427770754684; \n",
    "        37.811051468724486 -82.56838431216435 -56.45992542754974]) < 1e-4\n",
    "@assert abs(lmm.∇σ²[1] - (-489.5361730382465)) < 1e-4"
   ]
  },
  {
   "cell_type": "markdown",
   "metadata": {},
   "source": [
    "### Efficiency\n",
    "\n",
    "Test efficiency."
   ]
  },
  {
   "cell_type": "code",
   "execution_count": 22,
   "metadata": {
    "tags": []
   },
   "outputs": [
    {
     "data": {
      "text/plain": [
       "BenchmarkTools.Trial: 1756 samples with 1 evaluation.\n",
       " Range \u001b[90m(\u001b[39m\u001b[36m\u001b[1mmin\u001b[22m\u001b[39m … \u001b[35mmax\u001b[39m\u001b[90m):  \u001b[39m\u001b[36m\u001b[1m2.748 ms\u001b[22m\u001b[39m … \u001b[35m  4.338 ms\u001b[39m  \u001b[90m┊\u001b[39m GC \u001b[90m(\u001b[39mmin … max\u001b[90m): \u001b[39m0.00% … 0.00%\n",
       " Time  \u001b[90m(\u001b[39m\u001b[34m\u001b[1mmedian\u001b[22m\u001b[39m\u001b[90m):     \u001b[39m\u001b[34m\u001b[1m2.768 ms               \u001b[22m\u001b[39m\u001b[90m┊\u001b[39m GC \u001b[90m(\u001b[39mmedian\u001b[90m):    \u001b[39m0.00%\n",
       " Time  \u001b[90m(\u001b[39m\u001b[32m\u001b[1mmean\u001b[22m\u001b[39m ± \u001b[32mσ\u001b[39m\u001b[90m):   \u001b[39m\u001b[32m\u001b[1m2.846 ms\u001b[22m\u001b[39m ± \u001b[32m182.790 μs\u001b[39m  \u001b[90m┊\u001b[39m GC \u001b[90m(\u001b[39mmean ± σ\u001b[90m):  \u001b[39m0.00% ± 0.00%\n",
       "\n",
       "  \u001b[39m█\u001b[34m█\u001b[39m\u001b[39m▅\u001b[39m▂\u001b[39m \u001b[39m \u001b[39m \u001b[32m \u001b[39m\u001b[39m \u001b[39m \u001b[39m \u001b[39m \u001b[39m \u001b[39m \u001b[39m \u001b[39m \u001b[39m \u001b[39m \u001b[39m \u001b[39m \u001b[39m \u001b[39m \u001b[39m \u001b[39m \u001b[39m \u001b[39m▄\u001b[39m▄\u001b[39m▃\u001b[39m \u001b[39m \u001b[39m \u001b[39m \u001b[39m \u001b[39m \u001b[39m \u001b[39m \u001b[39m \u001b[39m \u001b[39m \u001b[39m \u001b[39m \u001b[39m \u001b[39m \u001b[39m \u001b[39m \u001b[39m \u001b[39m \u001b[39m \u001b[39m \u001b[39m \u001b[39m \u001b[39m \u001b[39m \u001b[39m \u001b[39m \u001b[39m \u001b[39m \u001b[39m \u001b[39m \u001b[39m \u001b[39m \n",
       "  \u001b[39m█\u001b[34m█\u001b[39m\u001b[39m█\u001b[39m█\u001b[39m█\u001b[39m▇\u001b[39m▅\u001b[32m▆\u001b[39m\u001b[39m▄\u001b[39m▆\u001b[39m▄\u001b[39m▄\u001b[39m▁\u001b[39m▄\u001b[39m▁\u001b[39m▅\u001b[39m▁\u001b[39m▄\u001b[39m▅\u001b[39m▄\u001b[39m▄\u001b[39m▄\u001b[39m▄\u001b[39m▆\u001b[39m▆\u001b[39m█\u001b[39m█\u001b[39m█\u001b[39m█\u001b[39m▇\u001b[39m▁\u001b[39m▄\u001b[39m▅\u001b[39m▁\u001b[39m▄\u001b[39m▁\u001b[39m▁\u001b[39m▄\u001b[39m▁\u001b[39m▁\u001b[39m▁\u001b[39m▁\u001b[39m▁\u001b[39m▁\u001b[39m▁\u001b[39m▁\u001b[39m▁\u001b[39m▁\u001b[39m▁\u001b[39m▁\u001b[39m▁\u001b[39m▁\u001b[39m▁\u001b[39m▁\u001b[39m▁\u001b[39m▁\u001b[39m▁\u001b[39m▆\u001b[39m█\u001b[39m \u001b[39m█\n",
       "  2.75 ms\u001b[90m      \u001b[39m\u001b[90mHistogram: \u001b[39m\u001b[90m\u001b[1mlog(\u001b[22m\u001b[39m\u001b[90mfrequency\u001b[39m\u001b[90m\u001b[1m)\u001b[22m\u001b[39m\u001b[90m by time\u001b[39m      3.61 ms \u001b[0m\u001b[1m<\u001b[22m\n",
       "\n",
       " Memory estimate\u001b[90m: \u001b[39m\u001b[33m0 bytes\u001b[39m, allocs estimate\u001b[90m: \u001b[39m\u001b[33m0\u001b[39m."
      ]
     },
     "metadata": {},
     "output_type": "display_data"
    }
   ],
   "source": [
    "bm_model = @benchmark logl!($lmm, true)"
   ]
  },
  {
   "cell_type": "markdown",
   "metadata": {},
   "source": [
    "My median run time is 1.4ms. You will get full credit if your median run time is within 10ms. The points you will get are"
   ]
  },
  {
   "cell_type": "code",
   "execution_count": 23,
   "metadata": {
    "tags": []
   },
   "outputs": [
    {
     "data": {
      "text/plain": [
       "10.0"
      ]
     },
     "metadata": {},
     "output_type": "display_data"
    }
   ],
   "source": [
    "clamp(10 / (median(bm_model).time / 1e6) * 10, 0, 10)"
   ]
  },
  {
   "cell_type": "markdown",
   "metadata": {},
   "source": [
    "### Memory\n",
    "\n",
    "You will lose 1 point for each 100 bytes memory allocation. So the points you will get is"
   ]
  },
  {
   "cell_type": "code",
   "execution_count": 85,
   "metadata": {
    "tags": []
   },
   "outputs": [
    {
     "data": {
      "text/plain": [
       "10.0"
      ]
     },
     "metadata": {},
     "output_type": "display_data"
    }
   ],
   "source": [
    "clamp(10 - median(bm_model).memory / 100, 0, 10)"
   ]
  },
  {
   "cell_type": "markdown",
   "metadata": {},
   "source": [
    "## Q5. (30 pts) Starting point\n",
    "\n",
    "For numerical optimization, a good starting point is critical. Let's start $\\boldsymbol{\\beta}$ and $\\sigma^2$ from the least squares solutions (ignoring intra-individual correlations)\n",
    "$$\n",
    "\\begin{aligned}\n",
    "\\boldsymbol{\\beta}^{(0)} &= \\left(\\sum_i \\mathbf{X}_i^T \\mathbf{X}_i\\right)^{-1} \\left(\\sum_i \\mathbf{X}_i^T \\mathbf{y}_i\\right) \\\\\n",
    "\\sigma^{2(0)} &= \\frac{\\sum_i \\|\\mathbf{r}_i^{(0)}\\|_2^2}{\\sum_i n_i} = \\frac{\\sum_i \\|\\mathbf{y}_i - \\mathbf{X}_i \\boldsymbol{\\beta}^{(0)}\\|_2^2}{\\sum_i n_i}.\n",
    "\\end{aligned}\n",
    "$$\n",
    "To get a reasonable starting point for $\\boldsymbol{\\Sigma} = \\mathbf{L} \\mathbf{L}^T$, we can minimize the least squares criterion (ignoring the noise variance component)\n",
    "$$\n",
    "    \\text{minimize} \\sum_i \\|\\mathbf{r}_i^{(0)} \\mathbf{r}_i^{(0)T} - \\mathbf{Z}_i \\boldsymbol{\\Sigma} \\mathbf{Z}_i^T \\|_{\\text{F}}^2.\n",
    "$$\n",
    "Derive the minimizer $\\boldsymbol{\\Sigma}^{(0)}$ (10 pts). \n",
    "\n",
    "We implement this start point strategy in the function `init_ls()`."
   ]
  },
  {
   "cell_type": "markdown",
   "metadata": {},
   "source": [
    "**Solution**\n",
    "\n",
    "We can obtain $\\boldsymbol{\\beta}^{(0)}$ by solving the following linear system in the form of $\\mathbf{Ax}=\\mathbf{b}$:\n",
    "$$\n",
    "\\begin{aligned}\n",
    " \\left(\\sum_i \\mathbf{X}_i^T \\mathbf{X}_i\\right)\\boldsymbol{\\beta}^{(0)} = \\sum_i \\mathbf{X}_i^T \\mathbf{y}_i.\n",
    "\\end{aligned}\n",
    "$$\n",
    "For $\\sigma^{2(0)}$, we calculate\n",
    "$$\n",
    "\\begin{aligned}\n",
    "\\sigma^{2(0)} = \\frac{\\sum_i\\left[\\mathbf{y}_i^T\\mathbf{y}_i + \\boldsymbol{\\beta}^{(0)T}(\\mathbf{X}_i^T\\mathbf{X}_i\\boldsymbol{\\beta}^{(0)} - 2\\mathbf{X}_i^T\\mathbf{y}_i)\\right]}{\\sum_i n_i}.\n",
    "\\end{aligned}\n",
    "$$"
   ]
  },
  {
   "cell_type": "markdown",
   "metadata": {},
   "source": [
    "To derive $\\boldsymbol{\\Sigma}^{(0)}$, we need the gradient and hessian. Using the following formula \n",
    "$$\n",
    "\\begin{aligned}\n",
    "\\frac{\\partial\\|\\mathbf{C} - \\mathbf{AXB}\\|_\\text{F}^2}{\\partial\\mathbf{X}}\n",
    "&= \\frac{\\partial}{\\partial\\mathbf{X}}\\text{tr}\\left((\\mathbf{C} - \\mathbf{A\\Sigma B})(\\mathbf{C} - \\mathbf{AXB})^T\\right)\\\\\n",
    "&= \\frac{\\partial}{\\partial\\mathbf{X}}\\text{tr}(\\mathbf{C}\\mathbf{C}^T - \\mathbf{C}\\mathbf{B}^T\\mathbf{X}^T\\mathbf{A}^T - \\mathbf{AXB}\\mathbf{C}^T + \\mathbf{AXB}\\mathbf{B}^T\\mathbf{X}^T\\mathbf{A}^T)\\\\\n",
    "&= \\mathbf{O} - \\mathbf{A}^T\\mathbf{C}\\mathbf{B}^T - \\mathbf{A}^T\\mathbf{C}\\mathbf{B}^T + (\\mathbf{A}^T\\mathbf{AXB}\\mathbf{B}^T + \\mathbf{A}^T\\mathbf{AXB}\\mathbf{B}^T)\\\\\n",
    "&= -2\\mathbf{A}^T(\\mathbf{C} - \\mathbf{AXB}) \\mathbf{B}^T\n",
    "\\end{aligned}\n",
    "$$\n",
    "yields our gradient\n",
    "$$\n",
    "\\begin{aligned}\n",
    "\\frac{\\partial\\sum_i\\|\\mathbf{r}_i^{(0)} \\mathbf{r}_i^{(0)T} - \\mathbf{Z}_i \\boldsymbol{\\Sigma} \\mathbf{Z}_i^T \\|_{\\text{F}}^2}{\\partial\\mathbf{\\Sigma}}\n",
    "= -2\\sum_i\\left[\\mathbf{Z}_i^T(\\mathbf{r}_i^{(0)} \\mathbf{r}_i^{(0)T} - \\mathbf{Z}_i \\boldsymbol{\\Sigma} \\mathbf{Z}_i^T ) \\mathbf{Z}_i\\right]\n",
    "\\end{aligned}\n",
    "$$\n",
    "and then the hessian\n",
    "$$\n",
    "\\begin{aligned}\n",
    "\\frac{\\partial^2\\sum_i\\|\\mathbf{r}_i^{(0)} \\mathbf{r}_i^{(0)T} - \\mathbf{Z}_i \\boldsymbol{\\Sigma} \\mathbf{Z}_i^T \\|_{\\text{F}}^2}{\\partial\\mathbf{\\Sigma}^2}\n",
    "= 2\\frac{\\partial\\sum_i\\mathbf{Z}_i^T\\mathbf{Z}_i \\boldsymbol{\\Sigma} \\mathbf{Z}_i^T\\mathbf{Z}_i}{\\partial\\mathbf{\\Sigma}}\n",
    "\\end{aligned}\n",
    "$$\n",
    "should be psd. Therefore, taking the derivative w.r.t $\\mathbf{\\Sigma}$ equal to zero gives the minimizer, such that\n",
    "$$\n",
    "\\sum_i\\mathbf{Z}_i^T\\mathbf{Z}_i\\boldsymbol{\\Sigma}^{(0)}\\mathbf{Z}_i^T\\mathbf{Z}_i = \\sum_i(\\mathbf{Z}_i^T\\mathbf{r}_i^{(0)})(\\mathbf{Z}_i^T\\mathbf{r}_i^{(0)})^T.\n",
    "$$\n",
    "To solve this, we need its (column-major) vectorization. Since $\\text{vec}(\\mathbf{ABC}) = (\\mathbf{C}^T\\otimes\\mathbf{A})\\text{vec}(\\mathbf{B})$, we have\n",
    "$$\n",
    "\\begin{aligned}\n",
    "\\text{vec}\\left(\\sum_i\\mathbf{Z}_i^T\\mathbf{Z}_i\\boldsymbol{\\Sigma}^{(0)}\\mathbf{Z}_i^T\\mathbf{Z}_i\\right)\n",
    "&= \\text{vec}\\left(\\sum_i(\\mathbf{Z}_i^T\\mathbf{r}_i^{(0)})(\\mathbf{Z}_i^T\\mathbf{r}_i^{(0)})^T\\right)\\\\\n",
    "\\Longrightarrow\\underbrace{\\left(\\sum_i\\mathbf{Z}_i^T\\mathbf{Z}_i\\otimes\\mathbf{Z}_i^T\\mathbf{Z}_i\\right)}_{q^2\\times q^2}\n",
    "\\underbrace{\\text{vec}(\\boldsymbol{\\Sigma}^{(0)})}_{q^2\\times 1}\n",
    "&= \\underbrace{\\left(\\sum_i \\mathbf{Z}_i^T\\mathbf{r}_i^{(0)}\\otimes\\mathbf{Z}_i^T\\mathbf{r}_i^{(0)}\\right)}_{q^2\\times 1}\\\\\n",
    "\\Longrightarrow\\text{vec}(\\boldsymbol{\\Sigma}^{(0)})\n",
    "&= \\left(\\sum_i\\mathbf{Z}_i^T\\mathbf{Z}_i\\otimes\\mathbf{Z}_i^T\\mathbf{Z}_i\\right)^{-1}\\left(\\sum_i \\mathbf{Z}_i^T\\mathbf{r}_i^{(0)}\\otimes\\mathbf{Z}_i^T\\mathbf{r}_i^{(0)}\\right)\n",
    "\\end{aligned}\n",
    "$$\n",
    "with $\\boldsymbol{\\Sigma}^{(0)} = \\mathbf{L}^{(0)}\\mathbf{L}^{(0)T}$ by the Cholesky decomposition.\n",
    "\n",
    "In coding, we can estimate $\\sigma^{2(0)}$ and $\\boldsymbol{\\Sigma}^{(0)}$ simultaneously once $\\boldsymbol{\\beta}^{(0)}$ is obtained."
   ]
  },
  {
   "cell_type": "code",
   "execution_count": 30,
   "metadata": {
    "tags": []
   },
   "outputs": [
    {
     "data": {
      "text/plain": [
       "init_ls!"
      ]
     },
     "metadata": {},
     "output_type": "display_data"
    }
   ],
   "source": [
    "\"\"\"\n",
    "    init_ls!(m::LmmModel)\n",
    "\n",
    "Initialize parameters of a `LmmModel` object from the least squares estimate. \n",
    "`m.β`, `m.L`, and `m.σ²` are overwritten with the least squares estimates.\n",
    "\"\"\"\n",
    "function init_ls!(m::LmmModel{T}) where T <: AbstractFloat\n",
    "    p, q = size(m.data[1].X, 2), size(m.data[1].Z, 2)\n",
    "    # TODO: fill m.β, m.L, m.σ² by LS estimates\n",
    "    # m.β ------------------------------------------------------------------- #\n",
    "    fill!(m.xtx, 0)\n",
    "    fill!(m.xty, 0)\n",
    "    @inbounds for i in 1:length(m.data)\n",
    "        obs = m.data[i]\n",
    "        m.xtx .+= obs.xtx # ΣX'X\n",
    "        m.xty .+= obs.xty # ΣX'y\n",
    "    end\n",
    "    LAPACK.posv!('L', m.xtx, m.xty) # solve (ΣX'X)β = ΣX'y\n",
    "    copy!(m.β, m.xty) # copy solution to m.β\n",
    "\n",
    "    # m.σ² and m.L ---------------------------------------------------------- #\n",
    "    fill!(m.σ², 0)\n",
    "    fill!(m.ztz2, 0)\n",
    "    fill!(m.ztr2, 0)\n",
    "    # fill!(m.xty, 0) # cannot reuse m.xty since m.β is overwritten\n",
    "    @inbounds for i in 1:length(m.data)\n",
    "        obs = m.data[i]\n",
    "        ## m.σ² ------------------------------------------------------------ ##\n",
    "        BLAS.symv!('U', T(1), obs.xtx, m.β, T(-2), copy!(obs.storage_p, obs.xty)) # X'Xβ⁽⁰⁾ - 2X'y\n",
    "        m.σ² .+= obs.yty .+ dot(m.β, obs.storage_p) # sum(r'r)\n",
    "        ## m.L ------------------------------------------------------------- ##\n",
    "        BLAS.kron!(m.storage_2q2q, obs.ztz, obs.ztz) # Z'Z⊗Z'Z\n",
    "        m.ztz2 .+= m.storage_2q2q # sum(Z'Z⊗Z'Z)\n",
    "        BLAS.gemv!('N', T(-1), obs.ztx, m.β, T(1), copy!(obs.storage_q, obs.zty)) # Z'r\n",
    "        BLAS,kron!(m.storage_2q, obs.storage_q, obs.storage_q) # Z'r⊗Z'r\n",
    "        m.ztr2 .+= m.storage_2q # sum(Z'r⊗Z'r)\n",
    "    end\n",
    "    m.σ² ./= sum(length(obs.y) for obs in m.data) # sum(r'r) / sum(n)\n",
    "    LAPACK.posv!('L', m.ztz2, m.ztr2) # solve sum(Z'Z⊗Z'Z)vec(Σ) = sum(Z'r⊗Z'r)\n",
    "    # m.L .= reshape(m.ztr2, q, q) # this takes 2 allocations\n",
    "    @inbounds for i in 1:q, j in 1:q\n",
    "        m.L[i, j] = m.ztr2[(j-1) * q + i] # copy solution to L (but still Σ)\n",
    "    end\n",
    "    LAPACK.potrf!('L', m.L) # Cholesky factor L\n",
    "end"
   ]
  },
  {
   "cell_type": "code",
   "execution_count": 31,
   "metadata": {
    "tags": []
   },
   "outputs": [
    {
     "name": "stdout",
     "output_type": "stream",
     "text": [
      "logl!(lmm) = -3.356237077697068e6\n",
      "lmm.β = [0.18207934611476326, 6.50048070099372, -3.4979107842091586, 1.001113296229795, 5.0002519857919285]\n",
      "lmm.σ² = [5.709004733413663]\n",
      "lmm.L = [1.4069222734993236 0.07258461003916689 0.05717147035274019; 0.05159105901325529 1.131979211870369 -0.07707942768978568; 0.0406358413891211 -0.06994463586493146 0.9718256360134827]\n"
     ]
    }
   ],
   "source": [
    "init_ls!(lmm)\n",
    "@show logl!(lmm)\n",
    "@show lmm.β\n",
    "@show lmm.σ²\n",
    "@show lmm.L;"
   ]
  },
  {
   "cell_type": "markdown",
   "metadata": {},
   "source": [
    "### Correctness\n",
    "\n",
    "Your start points should have a log-likelihood larger than -3.3627e6 (10 pts). The points you get are"
   ]
  },
  {
   "cell_type": "code",
   "execution_count": 32,
   "metadata": {
    "tags": []
   },
   "outputs": [
    {
     "data": {
      "text/plain": [
       "10"
      ]
     },
     "metadata": {},
     "output_type": "display_data"
    }
   ],
   "source": [
    "# this is the points you get\n",
    "(logl!(lmm) >  -3.3627e6) * 10"
   ]
  },
  {
   "cell_type": "markdown",
   "metadata": {},
   "source": [
    "### Efficiency\n",
    "\n",
    "The start point should be computed quickly. Otherwise there is no point using it as a starting point. My median run time is 175μs. You get full credit (10 pts) if the median run time is within 1ms."
   ]
  },
  {
   "cell_type": "code",
   "execution_count": 33,
   "metadata": {
    "tags": []
   },
   "outputs": [
    {
     "data": {
      "text/plain": [
       "BenchmarkTools.Trial: 9648 samples with 1 evaluation.\n",
       " Range \u001b[90m(\u001b[39m\u001b[36m\u001b[1mmin\u001b[22m\u001b[39m … \u001b[35mmax\u001b[39m\u001b[90m):  \u001b[39m\u001b[36m\u001b[1m507.958 μs\u001b[22m\u001b[39m … \u001b[35m 1.189 ms\u001b[39m  \u001b[90m┊\u001b[39m GC \u001b[90m(\u001b[39mmin … max\u001b[90m): \u001b[39m0.00% … 0.00%\n",
       " Time  \u001b[90m(\u001b[39m\u001b[34m\u001b[1mmedian\u001b[22m\u001b[39m\u001b[90m):     \u001b[39m\u001b[34m\u001b[1m509.750 μs              \u001b[22m\u001b[39m\u001b[90m┊\u001b[39m GC \u001b[90m(\u001b[39mmedian\u001b[90m):    \u001b[39m0.00%\n",
       " Time  \u001b[90m(\u001b[39m\u001b[32m\u001b[1mmean\u001b[22m\u001b[39m ± \u001b[32mσ\u001b[39m\u001b[90m):   \u001b[39m\u001b[32m\u001b[1m516.843 μs\u001b[22m\u001b[39m ± \u001b[32m22.892 μs\u001b[39m  \u001b[90m┊\u001b[39m GC \u001b[90m(\u001b[39mmean ± σ\u001b[90m):  \u001b[39m0.00% ± 0.00%\n",
       "\n",
       "  \u001b[39m▅\u001b[34m█\u001b[39m\u001b[39m▄\u001b[39m▃\u001b[39m▁\u001b[39m \u001b[39m \u001b[32m \u001b[39m\u001b[39m \u001b[39m \u001b[39m \u001b[39m \u001b[39m \u001b[39m \u001b[39m \u001b[39m \u001b[39m \u001b[39m \u001b[39m \u001b[39m \u001b[39m \u001b[39m \u001b[39m \u001b[39m \u001b[39m \u001b[39m \u001b[39m \u001b[39m \u001b[39m \u001b[39m \u001b[39m \u001b[39m \u001b[39m \u001b[39m \u001b[39m \u001b[39m \u001b[39m \u001b[39m \u001b[39m \u001b[39m \u001b[39m \u001b[39m \u001b[39m \u001b[39m \u001b[39m \u001b[39m \u001b[39m \u001b[39m \u001b[39m \u001b[39m \u001b[39m \u001b[39m▃\u001b[39m▃\u001b[39m▁\u001b[39m \u001b[39m \u001b[39m \u001b[39m \u001b[39m \u001b[39m \u001b[39m \u001b[39m▁\n",
       "  \u001b[39m█\u001b[34m█\u001b[39m\u001b[39m█\u001b[39m█\u001b[39m█\u001b[39m█\u001b[39m▇\u001b[32m▇\u001b[39m\u001b[39m▇\u001b[39m▇\u001b[39m▆\u001b[39m▅\u001b[39m▆\u001b[39m▆\u001b[39m▆\u001b[39m▆\u001b[39m▆\u001b[39m▆\u001b[39m▆\u001b[39m▆\u001b[39m▆\u001b[39m▆\u001b[39m▆\u001b[39m▆\u001b[39m▆\u001b[39m▆\u001b[39m▅\u001b[39m▅\u001b[39m▄\u001b[39m▄\u001b[39m▅\u001b[39m▃\u001b[39m▆\u001b[39m▅\u001b[39m▄\u001b[39m▁\u001b[39m▄\u001b[39m▄\u001b[39m▅\u001b[39m▃\u001b[39m▄\u001b[39m▄\u001b[39m▄\u001b[39m▁\u001b[39m▃\u001b[39m▄\u001b[39m▁\u001b[39m▄\u001b[39m▃\u001b[39m▃\u001b[39m▇\u001b[39m█\u001b[39m█\u001b[39m█\u001b[39m█\u001b[39m█\u001b[39m▇\u001b[39m▇\u001b[39m▆\u001b[39m▆\u001b[39m \u001b[39m█\n",
       "  508 μs\u001b[90m        \u001b[39m\u001b[90mHistogram: \u001b[39m\u001b[90m\u001b[1mlog(\u001b[22m\u001b[39m\u001b[90mfrequency\u001b[39m\u001b[90m\u001b[1m)\u001b[22m\u001b[39m\u001b[90m by time\u001b[39m       588 μs \u001b[0m\u001b[1m<\u001b[22m\n",
       "\n",
       " Memory estimate\u001b[90m: \u001b[39m\u001b[33m0 bytes\u001b[39m, allocs estimate\u001b[90m: \u001b[39m\u001b[33m0\u001b[39m."
      ]
     },
     "metadata": {},
     "output_type": "display_data"
    }
   ],
   "source": [
    "bm_init = @benchmark init_ls!($lmm)"
   ]
  },
  {
   "cell_type": "code",
   "execution_count": 34,
   "metadata": {
    "tags": []
   },
   "outputs": [
    {
     "data": {
      "text/plain": [
       "10.0"
      ]
     },
     "metadata": {},
     "output_type": "display_data"
    }
   ],
   "source": [
    "# this is the points you get\n",
    "clamp(1 / (median(bm_init).time / 1e6) * 10, 0, 10)"
   ]
  },
  {
   "cell_type": "markdown",
   "metadata": {},
   "source": [
    "## Q6. NLP via MathOptInterface.jl\n",
    "\n",
    "We define the NLP problem using the modelling tool [MathOptInterface.jl](https://github.com/jump-dev/MathOptInterface.jl). Start-up code is given below. Modify if necessary to accomodate your own code."
   ]
  },
  {
   "cell_type": "code",
   "execution_count": 35,
   "metadata": {
    "tags": []
   },
   "outputs": [],
   "source": [
    "\"\"\"\n",
    "    fit!(m::LmmModel, solver=Ipopt.Optimizer())\n",
    "\n",
    "Fit an `LmmModel` object by MLE using a nonlinear programming solver. Start point \n",
    "should be provided in `m.β`, `m.σ²`, `m.L`.\n",
    "\"\"\"\n",
    "function fit!(\n",
    "        m :: LmmModel{T},\n",
    "        solver = Ipopt.Optimizer()\n",
    "    ) where T <: AbstractFloat\n",
    "    p    = size(m.data[1].X, 2)\n",
    "    q    = size(m.data[1].Z, 2)\n",
    "    npar = p + ((q * (q + 1)) >> 1) + 1\n",
    "    # prep the MOI\n",
    "    MOI.empty!(solver)\n",
    "    # set lower bounds and upper bounds of parameters\n",
    "    # q diagonal entries of Cholesky factor L should be >= 0\n",
    "    # σ² should be >= 0\n",
    "    lb   = fill(0.0, q + 1)\n",
    "    ub   = fill(Inf, q + 1)\n",
    "    NLPBlock = MOI.NLPBlockData(MOI.NLPBoundsPair.(lb, ub), m, true)\n",
    "    MOI.set(solver, MOI.NLPBlock(), NLPBlock)\n",
    "    # start point\n",
    "    params = MOI.add_variables(solver, npar)    \n",
    "    par0   = Vector{T}(undef, npar)\n",
    "    modelpar_to_optimpar!(par0, m)    \n",
    "    for i in 1:npar\n",
    "        MOI.set(solver, MOI.VariablePrimalStart(), params[i], par0[i])\n",
    "    end\n",
    "    MOI.set(solver, MOI.ObjectiveSense(), MOI.MAX_SENSE)\n",
    "    # optimize\n",
    "    MOI.optimize!(solver)\n",
    "    optstat = MOI.get(solver, MOI.TerminationStatus())\n",
    "    optstat in (MOI.LOCALLY_SOLVED, MOI.ALMOST_LOCALLY_SOLVED) || \n",
    "        @warn(\"Optimization unsuccesful; got $optstat\")\n",
    "    # update parameters and refresh gradient\n",
    "    xsol = [MOI.get(solver, MOI.VariablePrimal(), MOI.VariableIndex(i)) for i in 1:npar]\n",
    "    optimpar_to_modelpar!(m, xsol)\n",
    "    logl!(m, true)\n",
    "    m\n",
    "end\n",
    "\n",
    "\"\"\"\n",
    "    ◺(n::Integer)\n",
    "\n",
    "Triangular number `n * (n + 1) / 2`.\n",
    "\"\"\"\n",
    "@inline ◺(n::Integer) = (n * (n + 1)) >> 1\n",
    "\n",
    "\"\"\"\n",
    "    modelpar_to_optimpar!(par, m)\n",
    "\n",
    "Translate model parameters in `m` to optimization variables in `par`.\n",
    "\"\"\"\n",
    "function modelpar_to_optimpar!(\n",
    "        par :: Vector,\n",
    "        m   :: LmmModel\n",
    "    )\n",
    "    p = size(m.data[1].X, 2)\n",
    "    q = size(m.data[1].Z, 2)\n",
    "    # β\n",
    "    copyto!(par, m.β)\n",
    "    # L\n",
    "    offset = p + 1\n",
    "    @inbounds for j in 1:q, i in j:q\n",
    "        par[offset] = m.L[i, j]\n",
    "        offset += 1\n",
    "    end\n",
    "    # σ²\n",
    "    par[end] = m.σ²[1]\n",
    "    par\n",
    "end\n",
    "\n",
    "\"\"\"\n",
    "    optimpar_to_modelpar!(m, par)\n",
    "\n",
    "Translate optimization variables in `par` to the model parameters in `m`.\n",
    "\"\"\"\n",
    "function optimpar_to_modelpar!(\n",
    "        m   :: LmmModel, \n",
    "        par :: Vector\n",
    "    )\n",
    "    p = size(m.data[1].X, 2)\n",
    "    q = size(m.data[1].Z, 2)\n",
    "    # β\n",
    "    copyto!(m.β, 1, par, 1, p)\n",
    "    # L\n",
    "    fill!(m.L, 0)\n",
    "    offset = p + 1\n",
    "    @inbounds for j in 1:q, i in j:q\n",
    "        m.L[i, j] = par[offset]\n",
    "        offset   += 1\n",
    "    end\n",
    "    # σ²\n",
    "    m.σ²[1] = par[end]    \n",
    "    m\n",
    "end\n",
    "\n",
    "function MOI.initialize(\n",
    "        m                  :: LmmModel, \n",
    "        requested_features :: Vector{Symbol}\n",
    "    )\n",
    "    for feat in requested_features\n",
    "        if !(feat in MOI.features_available(m))\n",
    "            error(\"Unsupported feature $feat\")\n",
    "        end\n",
    "    end\n",
    "end\n",
    "\n",
    "MOI.features_available(m::LmmModel) = [:Grad, :Hess, :Jac]\n",
    "\n",
    "function MOI.eval_objective(\n",
    "        m   :: LmmModel, \n",
    "        par :: Vector\n",
    "    )\n",
    "    optimpar_to_modelpar!(m, par)\n",
    "    logl!(m, false) # don't need gradient here\n",
    "end\n",
    "\n",
    "function MOI.eval_objective_gradient(\n",
    "        m    :: LmmModel, \n",
    "        grad :: Vector, \n",
    "        par  :: Vector\n",
    "    )\n",
    "    p = size(m.data[1].X, 2)\n",
    "    q = size(m.data[1].Z, 2)\n",
    "    optimpar_to_modelpar!(m, par) \n",
    "    obj = logl!(m, true)\n",
    "    # gradient wrt β\n",
    "    copyto!(grad, m.∇β)\n",
    "    # gradient wrt L\n",
    "    offset = p + 1\n",
    "    @inbounds for j in 1:q, i in j:q\n",
    "        grad[offset] = m.∇L[i, j]\n",
    "        offset += 1\n",
    "    end\n",
    "    # gradient with respect to σ²\n",
    "    grad[end] = m.∇σ²[1]\n",
    "    # return objective\n",
    "    obj\n",
    "end\n",
    "\n",
    "function MOI.eval_constraint(m::LmmModel, g, par)\n",
    "    p = size(m.data[1].X, 2)\n",
    "    q = size(m.data[1].Z, 2)\n",
    "    gidx   = 1\n",
    "    offset = p + 1\n",
    "    @inbounds for j in 1:q, i in j:q\n",
    "        if i == j\n",
    "            g[gidx] = par[offset]\n",
    "            gidx   += 1\n",
    "        end\n",
    "        offset += 1\n",
    "    end\n",
    "    g[end] = par[end]\n",
    "    g\n",
    "end\n",
    "\n",
    "function MOI.jacobian_structure(m::LmmModel)\n",
    "    p    = size(m.data[1].X, 2)\n",
    "    q    = size(m.data[1].Z, 2)\n",
    "    row  = collect(1:(q + 1))\n",
    "    col  = Int[]\n",
    "    offset = p + 1\n",
    "    for j in 1:q, i in j:q\n",
    "        (i == j) && push!(col, offset)\n",
    "        offset += 1\n",
    "    end\n",
    "    push!(col, offset)\n",
    "    [(row[i], col[i]) for i in 1:length(row)]\n",
    "end\n",
    "\n",
    "MOI.eval_constraint_jacobian(m::LmmModel, J, par) = fill!(J, 1)\n",
    "\n",
    "function MOI.hessian_lagrangian_structure(m::LmmModel)\n",
    "    p    = size(m.data[1].X, 2)\n",
    "    q    = size(m.data[1].Z, 2)    \n",
    "    q◺   = ◺(q)\n",
    "    # we work on the upper triangular part of the Hessian\n",
    "    arr1 = Vector{Int}(undef, ◺(p) + ◺(q◺) + q◺ + 1)\n",
    "    arr2 = Vector{Int}(undef, ◺(p) + ◺(q◺) + q◺ + 1)\n",
    "    # Hββ block\n",
    "    idx  = 1    \n",
    "    for j in 1:p, i in 1:j\n",
    "        arr1[idx] = i\n",
    "        arr2[idx] = j\n",
    "        idx      += 1\n",
    "    end\n",
    "    # HLL block\n",
    "    for j in 1:q◺, i in 1:j\n",
    "        arr1[idx] = p + i\n",
    "        arr2[idx] = p + j\n",
    "        idx      += 1\n",
    "    end\n",
    "    # HLσ² block\n",
    "    for i in (p + 1):(p + q◺)\n",
    "        arr1[idx] = i\n",
    "        arr2[idx] = p + q◺ + 1\n",
    "        idx      += 1\n",
    "    end\n",
    "    # Hσ²σ² block\n",
    "    arr1[idx] = p + q◺ + 1\n",
    "    arr2[idx] = p + q◺ + 1\n",
    "    [(arr1[i], arr2[i]) for i in 1:length(arr1)]\n",
    "end\n",
    "\n",
    "function MOI.eval_hessian_lagrangian(\n",
    "        m   :: LmmModel, \n",
    "        H   :: AbstractVector{T},\n",
    "        par :: AbstractVector{T}, \n",
    "        σ   :: T, \n",
    "        μ   :: AbstractVector{T}\n",
    "    ) where {T}    \n",
    "    p  = size(m.data[1].X, 2)\n",
    "    q  = size(m.data[1].Z, 2)    \n",
    "    q◺ = ◺(q)\n",
    "    optimpar_to_modelpar!(m, par)\n",
    "    logl!(m, true, true)\n",
    "    # Hββ block\n",
    "    idx = 1    \n",
    "    @inbounds for j in 1:p, i in 1:j\n",
    "        H[idx] = m.Hββ[i, j]\n",
    "        idx   += 1\n",
    "    end\n",
    "    # HLL block\n",
    "    @inbounds for j in 1:q◺, i in 1:j\n",
    "        H[idx] = m.HLL[i, j]\n",
    "        idx   += 1\n",
    "    end\n",
    "    # HLσ² block\n",
    "    @inbounds for j in 1:q, i in j:q\n",
    "        H[idx] = m.Hσ²L[i, j]\n",
    "        idx   += 1\n",
    "    end\n",
    "    # Hσ²σ² block\n",
    "    H[idx] = m.Hσ²σ²[1, 1]\n",
    "    lmul!(σ, H)\n",
    "end"
   ]
  },
  {
   "cell_type": "markdown",
   "metadata": {},
   "source": [
    "## Q7. (20 pts) Test drive\n",
    "\n",
    "Now we can run any NLP solver (supported by MathOptInterface.jl) to compute the MLE. For grading purpose, let's use the `:LD_MMA` ([Method of Moving Asymptotes](https://nlopt.readthedocs.io/en/latest/NLopt_Algorithms/#mma-method-of-moving-asymptotes-and-ccsa)) algorithm in NLopt.jl."
   ]
  },
  {
   "cell_type": "code",
   "execution_count": 36,
   "metadata": {
    "tags": []
   },
   "outputs": [
    {
     "name": "stdout",
     "output_type": "stream",
     "text": [
      "objective value at starting point: -3.356237077697068e6\n",
      "\n",
      "  1.253412 seconds (1.18 M allocations: 78.347 MiB, 87.26% compilation time)\n",
      "objective value at solution: -2.840058786650191e6)\n",
      "solution values:\n",
      "lmm.β = [0.1814776101361502, 6.50038355413275, -3.4998642895680585, 0.9997119258286763, 4.9992294818701675]\n",
      "lmm.σ² = [1.4987345756953059]\n",
      "lmm.L * transpose(lmm.L) = [1.9836266207662998 0.06578009077946281 0.055171453028808964; 0.06578009077946281 1.28144118940443 -0.09059652736484758; 0.055171453028808964 -0.09059652736484758 0.943427729674199]\n",
      "gradient @ solution:\n",
      "lmm.∇β = [0.020715013384039804, -0.007735285610219078, -0.007759917004352523, -0.0006757573451210419, -0.0007069367911913815]\n",
      "lmm.∇σ² = [-0.00921637415905252]\n",
      "lmm.∇L = [-0.00016051920270561057 -0.002991258888290063 0.053537668111773296; 0.0019772269599108577 0.00021146130675053776 0.0013620245882379686; 0.07846763773772997 0.0006943460169284016 0.010634576249044514]\n",
      "norm([lmm.∇β; vec(LowerTriangular(lmm.∇L)); lmm.∇σ²]) = 0.08312512919941961\n"
     ]
    },
    {
     "data": {
      "text/plain": [
       "0.08312512919941961"
      ]
     },
     "metadata": {},
     "output_type": "display_data"
    }
   ],
   "source": [
    "# initialize from least squares\n",
    "init_ls!(lmm)\n",
    "println(\"objective value at starting point: \", logl!(lmm)); println()\n",
    "\n",
    "# NLopt (LD_MMA) obj. val = -2.8400587866501966e6\n",
    "NLopt_solver = NLopt.Optimizer()\n",
    "MOI.set(NLopt_solver, MOI.RawOptimizerAttribute(\"algorithm\"), :LD_MMA)\n",
    "@time fit!(lmm, NLopt_solver)\n",
    "\n",
    "println(\"objective value at solution: $(logl!(lmm)))\")\n",
    "println(\"solution values:\")\n",
    "@show lmm.β\n",
    "@show lmm.σ²\n",
    "@show lmm.L * transpose(lmm.L)\n",
    "println(\"gradient @ solution:\")\n",
    "@show lmm.∇β\n",
    "@show lmm.∇σ²\n",
    "@show lmm.∇L\n",
    "@show norm([lmm.∇β; vec(LowerTriangular(lmm.∇L)); lmm.∇σ²])"
   ]
  },
  {
   "cell_type": "markdown",
   "metadata": {},
   "source": [
    "### Correctness\n",
    "\n",
    "You get 10 points if the following code does not throw `AssertError`."
   ]
  },
  {
   "cell_type": "code",
   "execution_count": 37,
   "metadata": {},
   "outputs": [],
   "source": [
    "# objective at solution should be close enough to the optimal\n",
    "@assert logl!(lmm) > -2.840059e6\n",
    "# gradient at solution should be small enough\n",
    "@assert norm([lmm.∇β; vec(LowerTriangular(lmm.∇L)); lmm.∇σ²]) < 0.1"
   ]
  },
  {
   "cell_type": "markdown",
   "metadata": {},
   "source": [
    "### Efficiency\n",
    "\n",
    "My median run time is 50ms. You get 10 points if your median time is within 1s(=1000ms)."
   ]
  },
  {
   "cell_type": "code",
   "execution_count": 38,
   "metadata": {},
   "outputs": [
    {
     "data": {
      "text/plain": [
       "BenchmarkTools.Trial: 34 samples with 1 evaluation.\n",
       " Range \u001b[90m(\u001b[39m\u001b[36m\u001b[1mmin\u001b[22m\u001b[39m … \u001b[35mmax\u001b[39m\u001b[90m):  \u001b[39m\u001b[36m\u001b[1m144.581 ms\u001b[22m\u001b[39m … \u001b[35m165.562 ms\u001b[39m  \u001b[90m┊\u001b[39m GC \u001b[90m(\u001b[39mmin … max\u001b[90m): \u001b[39m0.00% … 0.00%\n",
       " Time  \u001b[90m(\u001b[39m\u001b[34m\u001b[1mmedian\u001b[22m\u001b[39m\u001b[90m):     \u001b[39m\u001b[34m\u001b[1m145.375 ms               \u001b[22m\u001b[39m\u001b[90m┊\u001b[39m GC \u001b[90m(\u001b[39mmedian\u001b[90m):    \u001b[39m0.00%\n",
       " Time  \u001b[90m(\u001b[39m\u001b[32m\u001b[1mmean\u001b[22m\u001b[39m ± \u001b[32mσ\u001b[39m\u001b[90m):   \u001b[39m\u001b[32m\u001b[1m146.843 ms\u001b[22m\u001b[39m ± \u001b[32m  4.200 ms\u001b[39m  \u001b[90m┊\u001b[39m GC \u001b[90m(\u001b[39mmean ± σ\u001b[90m):  \u001b[39m0.00% ± 0.00%\n",
       "\n",
       "  \u001b[39m█\u001b[39m▂\u001b[34m▃\u001b[39m\u001b[39m \u001b[39m \u001b[39m \u001b[39m \u001b[32m \u001b[39m\u001b[39m \u001b[39m \u001b[39m \u001b[39m \u001b[39m \u001b[39m \u001b[39m \u001b[39m \u001b[39m \u001b[39m \u001b[39m \u001b[39m \u001b[39m \u001b[39m \u001b[39m \u001b[39m \u001b[39m \u001b[39m \u001b[39m \u001b[39m \u001b[39m \u001b[39m \u001b[39m \u001b[39m \u001b[39m \u001b[39m \u001b[39m \u001b[39m \u001b[39m \u001b[39m \u001b[39m \u001b[39m \u001b[39m \u001b[39m \u001b[39m \u001b[39m \u001b[39m \u001b[39m \u001b[39m \u001b[39m \u001b[39m \u001b[39m \u001b[39m \u001b[39m \u001b[39m \u001b[39m \u001b[39m \u001b[39m \u001b[39m \u001b[39m \u001b[39m \u001b[39m \u001b[39m \u001b[39m \u001b[39m \n",
       "  \u001b[39m█\u001b[39m█\u001b[34m█\u001b[39m\u001b[39m▇\u001b[39m▇\u001b[39m▁\u001b[39m▄\u001b[32m▁\u001b[39m\u001b[39m▅\u001b[39m▄\u001b[39m▁\u001b[39m▁\u001b[39m▁\u001b[39m▁\u001b[39m▁\u001b[39m▁\u001b[39m▁\u001b[39m▄\u001b[39m▁\u001b[39m▁\u001b[39m▁\u001b[39m▁\u001b[39m▁\u001b[39m▄\u001b[39m▁\u001b[39m▁\u001b[39m▁\u001b[39m▁\u001b[39m▁\u001b[39m▁\u001b[39m▁\u001b[39m▁\u001b[39m▁\u001b[39m▁\u001b[39m▁\u001b[39m▁\u001b[39m▁\u001b[39m▄\u001b[39m▁\u001b[39m▁\u001b[39m▁\u001b[39m▁\u001b[39m▁\u001b[39m▁\u001b[39m▁\u001b[39m▁\u001b[39m▁\u001b[39m▁\u001b[39m▁\u001b[39m▁\u001b[39m▁\u001b[39m▁\u001b[39m▁\u001b[39m▁\u001b[39m▁\u001b[39m▁\u001b[39m▁\u001b[39m▁\u001b[39m▁\u001b[39m▁\u001b[39m▄\u001b[39m \u001b[39m▁\n",
       "  145 ms\u001b[90m           Histogram: frequency by time\u001b[39m          166 ms \u001b[0m\u001b[1m<\u001b[22m\n",
       "\n",
       " Memory estimate\u001b[90m: \u001b[39m\u001b[33m18.16 KiB\u001b[39m, allocs estimate\u001b[90m: \u001b[39m\u001b[33m523\u001b[39m."
      ]
     },
     "metadata": {},
     "output_type": "display_data"
    }
   ],
   "source": [
    "NLopt_solver = NLopt.Optimizer()\n",
    "MOI.set(NLopt_solver, MOI.RawOptimizerAttribute(\"algorithm\"), :LD_MMA)\n",
    "bm_mma = @benchmark fit!($lmm, $(NLopt_solver)) setup=(init_ls!(lmm))"
   ]
  },
  {
   "cell_type": "code",
   "execution_count": 39,
   "metadata": {},
   "outputs": [
    {
     "data": {
      "text/plain": [
       "10.0"
      ]
     },
     "metadata": {},
     "output_type": "display_data"
    }
   ],
   "source": [
    "# this is the points you get\n",
    "clamp(1 / (median(bm_mma).time / 1e9) * 10, 0, 10)"
   ]
  },
  {
   "cell_type": "markdown",
   "metadata": {},
   "source": [
    "## Q8. (10 pts) Gradient free vs gradient-based methods\n",
    "\n",
    "Advantage of using a modelling tool such as MathOptInterface.jl is that we can easily switch the backend solvers. For a research problem, we never know beforehand which solver works best. \n",
    "\n",
    "Try different solvers in the NLopt.jl and Ipopt.jl packages. Compare the results in terms of run times (the shorter the better), objective values at solution (the larger the better), and gradients at solution (closer to 0 the better). Summarize what you find.\n",
    "\n",
    "See this [page](https://nlopt.readthedocs.io/en/latest/NLopt_Algorithms/) for the descriptions of algorithms in NLopt.\n",
    "\n",
    "Documentation for the Ipopt can be found [here](https://coin-or.github.io/Ipopt/).  "
   ]
  },
  {
   "cell_type": "code",
   "execution_count": 42,
   "metadata": {},
   "outputs": [],
   "source": [
    "# vector of solvers to compare\n",
    "solvers = [\"NLopt (LN_COBYLA, gradient free)\", \"NLopt (LD_MMA, gradient-based)\", \n",
    "    \"Ipopt (L-BFGS)\"]\n",
    "\n",
    "function setup_solver(s::String)\n",
    "    if s == \"NLopt (LN_COBYLA, gradient free)\"\n",
    "        solver = NLopt.Optimizer()\n",
    "        MOI.set(solver, MOI.RawOptimizerAttribute(\"algorithm\"), :LN_COBYLA)\n",
    "    elseif s == \"NLopt (LD_MMA, gradient-based)\"\n",
    "        solver = NLopt.Optimizer()\n",
    "        MOI.set(solver, MOI.RawOptimizerAttribute(\"algorithm\"), :LD_MMA)\n",
    "    elseif s == \"Ipopt (L-BFGS)\"\n",
    "        solver = Ipopt.Optimizer()\n",
    "        MOI.set(solver, MOI.RawOptimizerAttribute(\"print_level\"), 0)\n",
    "        MOI.set(solver, MOI.RawOptimizerAttribute(\"hessian_approximation\"), \"limited-memory\")\n",
    "        MOI.set(solver, MOI.RawOptimizerAttribute(\"tol\"), 1e-6)\n",
    "    elseif s == \"Ipopt (use FIM)\"\n",
    "        # Ipopt (use Hessian) obj val = -2.8400587866468e6\n",
    "        solver = Ipopt.Optimizer()\n",
    "        MOI.set(solver, MOI.RawOptimizerAttribute(\"print_level\"), 0)        \n",
    "    else\n",
    "        error(\"unrecognized solver $s\")\n",
    "    end\n",
    "    solver\n",
    "end\n",
    "\n",
    "# containers for results\n",
    "runtime = zeros(length(solvers))\n",
    "objvals = zeros(length(solvers))\n",
    "gradnrm = zeros(length(solvers))\n",
    "\n",
    "for i in 1:length(solvers)\n",
    "    solver = setup_solver(solvers[i])\n",
    "    bm = @benchmark fit!($lmm, $solver) setup = (init_ls!(lmm))\n",
    "    runtime[i] = median(bm).time / 1e9\n",
    "    objvals[i] = logl!(lmm, true)\n",
    "    gradnrm[i] = norm([lmm.∇β; vec(LowerTriangular(lmm.∇L)); lmm.∇σ²])\n",
    "end"
   ]
  },
  {
   "cell_type": "code",
   "execution_count": 43,
   "metadata": {},
   "outputs": [
    {
     "name": "stdout",
     "output_type": "stream",
     "text": [
      "┌──────────────────────────────────┬─────────┬───────────────────┬───────────────┐\n",
      "│\u001b[1m                           Solver \u001b[0m│\u001b[1m Runtime \u001b[0m│\u001b[1m          Log-Like \u001b[0m│\u001b[1m Gradiant Norm \u001b[0m│\n",
      "├──────────────────────────────────┼─────────┼───────────────────┼───────────────┤\n",
      "│ NLopt (LN_COBYLA, gradient free) │    0.60 │ -2840081.23944276 │  952.86875390 │\n",
      "│   NLopt (LD_MMA, gradient-based) │    0.18 │ -2840058.78665019 │    0.08312513 │\n",
      "│                   Ipopt (L-BFGS) │    4.54 │ -2840058.78664680 │    0.00113608 │\n",
      "└──────────────────────────────────┴─────────┴───────────────────┴───────────────┘\n"
     ]
    }
   ],
   "source": [
    "# display results\n",
    "pretty_table(\n",
    "    hcat(solvers, runtime, objvals, gradnrm),\n",
    "    header = [\"Solver\", \"Runtime\", \"Log-Like\", \"Gradiant Norm\"],\n",
    "    formatters = (ft_printf(\"%5.2f\", 2), ft_printf(\"%8.8f\", 3:4))\n",
    "    )"
   ]
  },
  {
   "cell_type": "markdown",
   "metadata": {},
   "source": [
    "**Solution**\n",
    "\n",
    "Although `L-BFGS` achieves the largest objective value and the smallest gradients, `LD_MMA` appears to be the best choice: It is more than ten times faster than `L-BFGS` while maintaining almost the same objective value and a gradient norm that is sufficiently close to zero. `LN_COBYLA`(gradient-free) is likely the worst option due to its gradient norm being far from zero."
   ]
  },
  {
   "cell_type": "markdown",
   "metadata": {},
   "source": [
    "## Q9. (10 pts) Compare with existing art\n",
    "\n",
    "Let's compare our method with lme4 package in R and MixedModels.jl package in Julia. Both lme4 and MixedModels.jl are developed mainly by Doug Bates. Summarize what you find."
   ]
  },
  {
   "cell_type": "code",
   "execution_count": 54,
   "metadata": {},
   "outputs": [],
   "source": [
    "method  = [\"My method\", \"lme4\", \"MixedModels.jl\"]\n",
    "runtime = zeros(3)  # record the run times\n",
    "loglike = zeros(3); # record the log-likelihood at MLE"
   ]
  },
  {
   "cell_type": "markdown",
   "metadata": {},
   "source": [
    "### Your approach"
   ]
  },
  {
   "cell_type": "code",
   "execution_count": 55,
   "metadata": {},
   "outputs": [
    {
     "data": {
      "text/plain": [
       "-2.840058786650189e6"
      ]
     },
     "metadata": {},
     "output_type": "display_data"
    }
   ],
   "source": [
    "solver = setup_solver(\"NLopt (LD_MMA, gradient-based)\")\n",
    "bm_257 = @benchmark fit!($lmm, $solver) setup=(init_ls!(lmm))\n",
    "runtime[1] = (median(bm_257).time) / 1e9\n",
    "loglike[1] = logl!(lmm)"
   ]
  },
  {
   "cell_type": "markdown",
   "metadata": {},
   "source": [
    "### lme4 "
   ]
  },
  {
   "cell_type": "code",
   "execution_count": 56,
   "metadata": {},
   "outputs": [
    {
     "name": "stderr",
     "output_type": "stream",
     "text": [
      "┌ Warning: RCall.jl: Loading required package: Matrix\n",
      "└ @ RCall /Users/tomokiokuno/.julia/packages/RCall/dDAVd/src/io.jl:172\n",
      "┌ Warning: RCall.jl: Rows: 1744977 Columns: 8\n",
      "│ -- Column specification --------------------------------------------------------\n",
      "│ Delimiter: \",\"\n",
      "│ dbl (8): ID, Y, X1, X2, X3, X4, Z1, Z2\n",
      "│ \n",
      "│ i Use `spec()` to retrieve the full column specification for this data.\n",
      "│ i Specify the column types or set `show_col_types = FALSE` to quiet this message.\n",
      "└ @ RCall /Users/tomokiokuno/.julia/packages/RCall/dDAVd/src/io.jl:172\n"
     ]
    },
    {
     "data": {
      "text/plain": [
       "RObject{VecSxp}\n",
       "# A tibble: 1,744,977 x 8\n",
       "      ID        Y     X1      X2     X3      X4      Z1      Z2\n",
       "   <dbl>    <dbl>  <dbl>   <dbl>  <dbl>   <dbl>   <dbl>   <dbl>\n",
       " 1     1   9.52    0.202 -0.463   0.798  0.734   0.685  -0.570 \n",
       " 2     1  24.4     1.59  -1.95    1.20   1.43    1.64    0.369 \n",
       " 3     1  -1.99    0.378 -0.0367  1.63  -1.15   -0.818   2.83  \n",
       " 4     1 -17.4    -1.88   0.375  -0.498 -0.253   1.56    1.68  \n",
       " 5     1  -0.0704  0.658 -0.165   0.780 -1.23   -0.0288 -1.09  \n",
       " 6     1  -0.853   0.458 -0.313  -0.512 -0.800  -0.331   1.98  \n",
       " 7     1  -1.80    0.220  0.328   1.32  -1.01   -0.363  -0.0703\n",
       " 8     1   5.88    1.30   0.889  -0.854  0.0714 -0.658  -0.0339\n",
       " 9     1  -9.21   -1.43  -0.522  -0.119 -0.580  -0.155  -1.89  \n",
       "10     1 -11.3    -0.468 -0.700   0.872 -1.82    1.80    0.492 \n",
       "# i 1,744,967 more rows\n"
      ]
     },
     "metadata": {},
     "output_type": "display_data"
    }
   ],
   "source": [
    "R\"\"\"\n",
    "library(lme4)\n",
    "library(readr)\n",
    "library(magrittr)\n",
    "\n",
    "testdata <- read_csv(\"lmm_data.csv\")\n",
    "\"\"\""
   ]
  },
  {
   "cell_type": "code",
   "execution_count": 57,
   "metadata": {},
   "outputs": [
    {
     "ename": "InterruptException",
     "evalue": "InterruptException:",
     "output_type": "error",
     "traceback": [
      "InterruptException:\n",
      "\n",
      "Stacktrace:\n",
      "  [1] sigatomic_end\n",
      "    @ ./c.jl:452 [inlined]\n",
      "  [2] disable_sigint\n",
      "    @ ./c.jl:475 [inlined]\n",
      "  [3] tryEval\n",
      "    @ ~/.julia/packages/RCall/dDAVd/src/eval.jl:85 [inlined]\n",
      "  [4] reval_p(expr::Ptr{LangSxp}, env::Ptr{EnvSxp})\n",
      "    @ RCall ~/.julia/packages/RCall/dDAVd/src/eval.jl:100\n",
      "  [5] reval_p(expr::Ptr{RCall.ExprSxp}, env::Ptr{EnvSxp})\n",
      "    @ RCall ~/.julia/packages/RCall/dDAVd/src/eval.jl:119\n",
      "  [6] reval(str::String, env::RObject{EnvSxp})\n",
      "    @ RCall ~/.julia/packages/RCall/dDAVd/src/eval.jl:136\n",
      "  [7] eval\n",
      "    @ ./boot.jl:385 [inlined]\n",
      "  [8] include_string(mapexpr::typeof(REPL.softscope), mod::Module, code::String, filename::String)\n",
      "    @ Base ./loading.jl:2076\n",
      "  [9] #invokelatest#2\n",
      "    @ ./essentials.jl:892 [inlined]\n",
      " [10] invokelatest\n",
      "    @ ./essentials.jl:889 [inlined]\n",
      " [11] (::VSCodeServer.var\"#219#220\"{VSCodeServer.NotebookRunCellArguments, String})()\n",
      "    @ VSCodeServer ~/.vscode/extensions/julialang.language-julia-1.79.2/scripts/packages/VSCodeServer/src/serve_notebook.jl:19\n",
      " [12] withpath(f::VSCodeServer.var\"#219#220\"{VSCodeServer.NotebookRunCellArguments, String}, path::String)\n",
      "    @ VSCodeServer ~/.vscode/extensions/julialang.language-julia-1.79.2/scripts/packages/VSCodeServer/src/repl.jl:276\n",
      " [13] notebook_runcell_request(conn::VSCodeServer.JSONRPC.JSONRPCEndpoint{Base.PipeEndpoint, Base.PipeEndpoint}, params::VSCodeServer.NotebookRunCellArguments)\n",
      "    @ VSCodeServer ~/.vscode/extensions/julialang.language-julia-1.79.2/scripts/packages/VSCodeServer/src/serve_notebook.jl:13\n",
      " [14] dispatch_msg(x::VSCodeServer.JSONRPC.JSONRPCEndpoint{Base.PipeEndpoint, Base.PipeEndpoint}, dispatcher::VSCodeServer.JSONRPC.MsgDispatcher, msg::Dict{String, Any})\n",
      "    @ VSCodeServer.JSONRPC ~/.vscode/extensions/julialang.language-julia-1.79.2/scripts/packages/JSONRPC/src/typed.jl:67\n",
      " [15] serve_notebook(pipename::String, outputchannel_logger::Base.CoreLogging.SimpleLogger; crashreporting_pipename::String)\n",
      "    @ VSCodeServer ~/.vscode/extensions/julialang.language-julia-1.79.2/scripts/packages/VSCodeServer/src/serve_notebook.jl:139\n",
      " [16] top-level scope\n",
      "    @ ~/.vscode/extensions/julialang.language-julia-1.79.2/scripts/notebook/notebook.jl:35"
     ]
    }
   ],
   "source": [
    "R\"\"\"\n",
    "rtime <- system.time(mmod <- \n",
    "  lmer(Y ~ X1 + X2 + X3 + X4 + (1 + Z1 + Z2 | ID), testdata, REML = FALSE))\n",
    "\"\"\""
   ]
  },
  {
   "cell_type": "code",
   "execution_count": null,
   "metadata": {},
   "outputs": [],
   "source": [
    "R\"\"\"\n",
    "rtime <- rtime[\"elapsed\"]\n",
    "summary(mmod)\n",
    "rlogl <- logLik(mmod)\n",
    "\"\"\"\n",
    "runtime[2] = @rget rtime\n",
    "loglike[2] = @rget rlogl;"
   ]
  },
  {
   "cell_type": "markdown",
   "metadata": {},
   "source": [
    "### MixedModels.jl\n"
   ]
  },
  {
   "cell_type": "code",
   "execution_count": null,
   "metadata": {},
   "outputs": [],
   "source": [
    "testdata = CSV.File(\"lmm_data.csv\", types = Dict(1=>String)) |> DataFrame"
   ]
  },
  {
   "cell_type": "code",
   "execution_count": null,
   "metadata": {},
   "outputs": [],
   "source": [
    "mj = fit(MixedModel, @formula(Y ~ X1 + X2 + X3 + X4 + (1 + Z1 + Z2 | ID)), testdata)\n",
    "bm_mm = @benchmark fit(MixedModel, @formula(Y ~ X1 + X2 + X3 + X4 + (1 + Z1 + Z2 | ID)), $testdata)\n",
    "loglike[3] = loglikelihood(mj)\n",
    "runtime[3] = median(bm_mm).time / 1e9"
   ]
  },
  {
   "cell_type": "code",
   "execution_count": null,
   "metadata": {},
   "outputs": [],
   "source": [
    "display(bm_mm)\n",
    "mj"
   ]
  },
  {
   "cell_type": "markdown",
   "metadata": {},
   "source": [
    "### Summary"
   ]
  },
  {
   "cell_type": "code",
   "execution_count": null,
   "metadata": {},
   "outputs": [],
   "source": [
    "pretty_table(\n",
    "    hcat(method, runtime, loglike),\n",
    "    header = [\"Method\", \"Runtime\", \"Log-Like\"],\n",
    "    formatters = (ft_printf(\"%5.2f\", 2), ft_printf(\"%8.6f\", 3))\n",
    "    )"
   ]
  },
  {
   "cell_type": "markdown",
   "metadata": {},
   "source": [
    "## Q10. Be proud of yourself\n",
    "\n",
    "Go to your resume/cv and claim you have experience performing analysis on complex longitudinal data sets with millions of records. And you beat current software by XXX fold."
   ]
  }
 ],
 "metadata": {
  "@webio": {
   "lastCommId": null,
   "lastKernelId": null
  },
  "jupytext": {
   "formats": "ipynb,qmd"
  },
  "kernelspec": {
   "display_name": "Julia 1.10.2",
   "language": "julia",
   "name": "julia-1.10"
  },
  "language_info": {
   "file_extension": ".jl",
   "mimetype": "application/julia",
   "name": "julia",
   "version": "1.10.2"
  },
  "toc": {
   "colors": {
    "hover_highlight": "#DAA520",
    "running_highlight": "#FF0000",
    "selected_highlight": "#FFD700"
   },
   "moveMenuLeft": true,
   "nav_menu": {
    "height": "87px",
    "width": "252px"
   },
   "navigate_menu": true,
   "number_sections": true,
   "sideBar": true,
   "skip_h1_title": true,
   "threshold": 4,
   "toc_cell": false,
   "toc_section_display": "block",
   "toc_window_display": false,
   "widenNotebook": false
  }
 },
 "nbformat": 4,
 "nbformat_minor": 4
}
