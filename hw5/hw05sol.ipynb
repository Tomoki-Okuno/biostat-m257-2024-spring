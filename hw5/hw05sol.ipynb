{
 "cells": [
  {
   "cell_type": "markdown",
   "metadata": {},
   "source": [
    "Biostat/Biomath M257 Homework 5\n",
    "\n",
    "Due May 24 @ 11:59PM\n",
    "\n",
    "Tomoki Okuno and 805851067"
   ]
  },
  {
   "cell_type": "markdown",
   "metadata": {},
   "source": [
    "System information (for reproducibility):"
   ]
  },
  {
   "cell_type": "code",
   "execution_count": 1,
   "metadata": {
    "tags": []
   },
   "outputs": [
    {
     "name": "stdout",
     "output_type": "stream",
     "text": [
      "Julia Version 1.10.2\n",
      "Commit bd47eca2c8a (2024-03-01 10:14 UTC)\n",
      "Build Info:\n",
      "  Official https://julialang.org/ release\n",
      "Platform Info:\n",
      "  OS: macOS (arm64-apple-darwin22.4.0)\n",
      "  CPU: 8 × Apple M1\n",
      "  WORD_SIZE: 64\n",
      "  LIBM: libopenlibm\n",
      "  LLVM: libLLVM-15.0.7 (ORCJIT, apple-m1)\n",
      "Threads: 1 default, 0 interactive, 1 GC (on 4 virtual cores)\n",
      "Environment:\n",
      "  JULIA_NUM_THREADS = \n"
     ]
    }
   ],
   "source": [
    "versioninfo()"
   ]
  },
  {
   "cell_type": "markdown",
   "metadata": {},
   "source": [
    "Load packages:"
   ]
  },
  {
   "cell_type": "code",
   "execution_count": 2,
   "metadata": {
    "tags": []
   },
   "outputs": [
    {
     "name": "stderr",
     "output_type": "stream",
     "text": [
      "\u001b[32m\u001b[1m  Activating\u001b[22m\u001b[39m project at `~/Documents/07_UCLA/Class/257/02_Homework/hw5`\n"
     ]
    },
    {
     "name": "stdout",
     "output_type": "stream",
     "text": [
      "\u001b[32m\u001b[1mStatus\u001b[22m\u001b[39m `~/Documents/07_UCLA/Class/257/02_Homework/hw5/Project.toml`\n",
      "  \u001b[90m[1e616198] \u001b[39mCOSMO v0.8.9\n",
      "\u001b[32m⌃\u001b[39m \u001b[90m[61c947e1] \u001b[39mClarabel v0.7.1\n",
      "\u001b[32m⌃\u001b[39m \u001b[90m[f65535da] \u001b[39mConvex v0.15.4\n",
      "  \u001b[90m[a93c6f00] \u001b[39mDataFrames v1.6.1\n",
      "  \u001b[90m[60bf3e95] \u001b[39mGLPK v1.2.1\n",
      "\u001b[32m⌃\u001b[39m \u001b[90m[2e9cd046] \u001b[39mGurobi v1.2.3\n",
      "  \u001b[90m[87dc4568] \u001b[39mHiGHS v1.9.0\n",
      "  \u001b[90m[b99e6be6] \u001b[39mHypatia v0.8.1\n",
      "  \u001b[90m[4076af6c] \u001b[39mJuMP v1.22.1\n",
      "  \u001b[90m[67920dd8] \u001b[39mKNITRO v0.14.2\n",
      "  \u001b[90m[b8f27783] \u001b[39mMathOptInterface v1.29.0\n",
      "  \u001b[90m[6405355b] \u001b[39mMosek v10.1.4\n",
      "  \u001b[90m[1ec41992] \u001b[39mMosekTools v0.15.1\n",
      "  \u001b[90m[2f354839] \u001b[39mPajarito v0.8.2\n",
      "  \u001b[90m[08abe8d2] \u001b[39mPrettyTables v2.3.1\n",
      "  \u001b[90m[c946c3f1] \u001b[39mSCS v2.0.0\n",
      "  \u001b[90m[3eaba693] \u001b[39mStatsModels v0.7.3\n",
      "\u001b[36m\u001b[1mInfo\u001b[22m\u001b[39m Packages marked with \u001b[32m⌃\u001b[39m have new versions available and may be upgradable.\n"
     ]
    }
   ],
   "source": [
    "using Pkg\n",
    "\n",
    "Pkg.activate(pwd())\n",
    "Pkg.instantiate()\n",
    "Pkg.status()\n",
    "# Pkg.add(\"MathOptInterface\")\n",
    "# Pkg.add(\"Mosek\")"
   ]
  },
  {
   "cell_type": "markdown",
   "metadata": {},
   "source": [
    "In this exercise, we practice using disciplined convex programming (SDP in particular) to solve optimal design problems.\n",
    "\n",
    "## Introduction to optimal design\n",
    "\n",
    "Consider a linear model\n",
    "\\begin{aligned}\n",
    "\ty_i = \\mathbf{x}_i^T \\boldsymbol{\\beta} + \\epsilon_i, \\quad i = 1,\\ldots, n,\n",
    "\\end{aligned}\n",
    "where $\\epsilon_i$ are independent Gaussian noises with common variance $\\sigma^2$. It is well known that the least squares estimate $\\hat{\\boldsymbol{\\beta}}$ is unbiased and has covariance $\\sigma^2 (\\sum_{i=1}^n \\mathbf{x}_i \\mathbf{x}_i^T)^{-1}$. \n",
    "\n",
    "In **exact optimal design**, given total number of $n$ allowable experiments, we want to choose among a list of $m$ candidate design points $\\{\\mathbf{x}_1, \\ldots, \\mathbf{x}_m\\}$ such that the covariance matrix is minimized in some sense. In mathematical terms, we want to find an integer vector $\\mathbf{n} = (n_1, \\ldots, n_m)$ such that $n_i \\ge 0$, $\\sum_{i=1}^m n_i = n$, and the matrix $\\mathbf{V} = \\left( \\sum_{i=1}^m n_i \\mathbf{x}_i \\mathbf{x}_i^T \\right)^{-1}$ is \"small\".\n",
    "\n",
    "In **approximate optimal design**,  we want to find a probability vector $\\mathbf{p} = (p_1, \\ldots, p_m)$ such that $p_i \\ge 0$, $\\sum_{i=1}^m p_i = 1$, and the matrix $\\mathbf{V} = \\left( \\sum_{i=1}^m p_i \\mathbf{x}_i \\mathbf{x}_i^T \\right)^{-1}$ is \"small\".\n",
    "\n",
    "Commonly used optimal design criteria include:\n",
    "\n",
    "- In **$D$-optimal design**, we minimize the determinant of $\\mathbf{V}$\n",
    "\\begin{aligned}\n",
    "\t&\\text{minimize}& \\det \\left( \\sum_{i=1}^m p_i \\mathbf{x}_i \\mathbf{x}_i^T \\right)^{-1} \\\\\n",
    "\t&\\text{subject to}& p_i \\ge 0, \\sum_{i=1}^m p_i = 1.\n",
    "\\end{aligned}\n",
    "\n",
    "- In **$E$-optimal design**, we minimize the spectral norm, i.e., the maximum eigenvalue of $\\mathbf{V}$\n",
    "\\begin{aligned}\n",
    "\t&\\text{minimize}& \\lambda_{\\text{max}} \\left( \\sum_{i=1}^m p_i \\mathbf{x}_i \\mathbf{x}_i^T \\right)^{-1} \\\\\n",
    "\t&\\text{subject to}& p_i \\ge 0, \\sum_{i=1}^m p_i = 1.\t\n",
    "\\end{aligned}\n",
    "Statistically we are minimizing the maximum variance of $\\sum_{j=1}^p a_j \\text{var}(\\hat \\beta_j)$ over all vectors $\\mathbf{a}$ with unit norm.\n",
    "\n",
    "- In **$A$-optimal design**, we minimize the trace of $\\mathbf{V}$\n",
    "\\begin{aligned}\n",
    "\t&\\text{minimize}& \\text{tr} \\left( \\sum_{i=1}^m p_i \\mathbf{x}_i \\mathbf{x}_i^T \\right)^{-1} \\\\\n",
    "\t&\\text{subject to}& p_i \\ge 0, \\sum_{i=1}^m p_i = 1.\n",
    "\\end{aligned}\n",
    "Statistically we are minimizing the total variance $\\sum_{j=1}^p \\text{var}(\\hat \\beta_j)$.\n",
    "\n",
    "## Q1 (10 pts) 3x4 factorial design\n",
    "\n",
    "A drug company asks you to help design a two factor clinical trial, in which treatment A has three levels (A1, A2, and A3) and treatment B has four levels (B1, B2, B3, and B4). Drug company also tells you that the treatment combination A3:B4 has undesirable side effects so we ignore this design point. \n",
    "\n",
    "Using dummy coding with A1 and B1 as the baseline levels, find the matrix $\\mathbf{C}$ with each row a unique design point."
   ]
  },
  {
   "cell_type": "markdown",
   "metadata": {},
   "source": [
    "**Solution**\n",
    "\n",
    "$\\mathbf{C}$ has $6$ columns (intercept, A2, A3, B2, B3, B4) and $m = 3 \\times 4 - 1 = 11$ rows when ignoring A3:B4. The row order follows the sequence seen in Q2:\n",
    "$$\n",
    "\\begin{aligned}\n",
    "\\mathbf{C} = \n",
    "    \\begin{bmatrix}\n",
    "        \\mathbf{x}_1^T\\\\\n",
    "        \\mathbf{x}_2^T\\\\\n",
    "        \\mathbf{x}_3^T\\\\\n",
    "        \\mathbf{x}_4^T\\\\\n",
    "        \\mathbf{x}_5^T\\\\\n",
    "        \\mathbf{x}_6^T\\\\\n",
    "        \\mathbf{x}_7^T\\\\\n",
    "        \\mathbf{x}_8^T\\\\\n",
    "        \\mathbf{x}_9^T\\\\\n",
    "        \\mathbf{x}_{10}^T\\\\\n",
    "        \\mathbf{x}_{11}^T\n",
    "    \\end{bmatrix}\n",
    "    =\n",
    "    \\begin{bmatrix}\n",
    "        1 & 0 & 0 & 0 & 0 & 0 \\\\\n",
    "        1 & 1 & 0 & 0 & 0 & 0 \\\\\n",
    "        1 & 0 & 1 & 0 & 0 & 0 \\\\\n",
    "        1 & 0 & 0 & 1 & 0 & 0 \\\\\n",
    "        1 & 1 & 0 & 1 & 0 & 0 \\\\\n",
    "        1 & 0 & 1 & 1 & 0 & 0 \\\\\n",
    "        1 & 0 & 0 & 0 & 1 & 0 \\\\\n",
    "        1 & 1 & 0 & 0 & 1 & 0 \\\\\n",
    "        1 & 0 & 1 & 0 & 1 & 0 \\\\\n",
    "        1 & 0 & 0 & 0 & 0 & 1 \\\\\n",
    "        1 & 1 & 0 & 0 & 0 & 1\n",
    "    \\end{bmatrix}.\n",
    "\\end{aligned}\n",
    "$$\n",
    "Suppose $\\mathbf{W}$ is a diagonal matrix with positive entries of either $\\mathbf{n}$ or $\\mathbf{p}$, then we have\n",
    "$$\n",
    "\\mathbf{V} = \\left(\\mathbf{C}^T\\mathbf{W}\\mathbf{C}\\right)^{-1}\n",
    "\\Longleftrightarrow\n",
    "\\mathbf{V}^{-1} = \\mathbf{C}^T\\mathbf{W}\\mathbf{C} \\quad\\text{(information)}\n",
    "$$\n",
    "with constraint $\\mathbf{1}^T\\mathbf{n} = n$ or $\\mathbf{1}^T\\mathbf{p} = 1$.\n",
    "\n",
    "<!-- \\begin{array}{c|ccccc}\n",
    "    & \\text{Intercept} & \\text{A2} & \\text{A3} & \\text{B2} & \\text{B3} & \\text{B4} \\\\\n",
    "    \\hline\n",
    "    \\text{A1:B1} & 1 & 0 & 0 & 0 & 0 & 0 \\\\\n",
    "    \\text{A2:B1} & 1 & 1 & 0 & 0 & 0 & 0 \\\\\n",
    "    \\text{A3:B1} & 1 & 0 & 1 & 0 & 0 & 0 \\\\\n",
    "    \\text{A1:B2} & 1 & 0 & 0 & 1 & 0 & 0 \\\\\n",
    "    \\text{A2:B2} & 1 & 1 & 0 & 1 & 0 & 0 \\\\\n",
    "    \\text{A3:B2} & 1 & 0 & 1 & 1 & 0 & 0 \\\\\n",
    "    \\text{A1:B3} & 1 & 0 & 0 & 0 & 1 & 0 \\\\\n",
    "    \\text{A2:B3} & 1 & 1 & 0 & 0 & 1 & 0 \\\\\n",
    "    \\text{A3:B3} & 1 & 0 & 1 & 0 & 1 & 0 \\\\\n",
    "    \\text{A1:B4} & 1 & 0 & 0 & 0 & 0 & 1 \\\\\n",
    "    \\text{A2:B4} & 1 & 1 & 0 & 0 & 0 & 1\n",
    "\\end{array} -->"
   ]
  },
  {
   "cell_type": "code",
   "execution_count": 3,
   "metadata": {},
   "outputs": [
    {
     "data": {
      "text/plain": [
       "11×6 Matrix{Int64}:\n",
       " 1  0  0  0  0  0\n",
       " 1  1  0  0  0  0\n",
       " 1  0  1  0  0  0\n",
       " 1  0  0  1  0  0\n",
       " 1  1  0  1  0  0\n",
       " 1  0  1  1  0  0\n",
       " 1  0  0  0  1  0\n",
       " 1  1  0  0  1  0\n",
       " 1  0  1  0  1  0\n",
       " 1  0  0  0  0  1\n",
       " 1  1  0  0  0  1"
      ]
     },
     "metadata": {},
     "output_type": "display_data"
    }
   ],
   "source": [
    "C = [1 0 0 0 0 0;\n",
    "     1 1 0 0 0 0;\n",
    "     1 0 1 0 0 0;\n",
    "     1 0 0 1 0 0;\n",
    "     1 1 0 1 0 0;\n",
    "     1 0 1 1 0 0;\n",
    "     1 0 0 0 1 0;\n",
    "     1 1 0 0 1 0;\n",
    "     1 0 1 0 1 0;\n",
    "     1 0 0 0 0 1;\n",
    "     1 1 0 0 0 1]"
   ]
  },
  {
   "cell_type": "markdown",
   "metadata": {},
   "source": [
    "## Q2 (30 pts) Find approximate optimal designs\n",
    "\n",
    "Using semidefinite programming (SDP) software to find the approximate D-, E-, and A-optimal designs for this clinical trial.\n",
    "\n",
    "Hint: This is what I got (using Hypatia solver), which may or may not be correct.\n",
    "\n",
    "```\n",
    "Approximate Optimal Design\n",
    "┌───────────┬─────────┬─────────┬─────────┬─────────┬─────────┬─────────┐\n",
    "│ design_pt │   D_opt │   E_opt │   A_opt │ D_opt_n │ E_opt_n │ A_opt_n │\n",
    "│    String │ Float64 │ Float64 │ Float64 │ Float64 │ Float64 │ Float64 │\n",
    "├───────────┼─────────┼─────────┼─────────┼─────────┼─────────┼─────────┤\n",
    "│      A1B1 │   0.082 │   0.271 │   0.200 │   8.000 │  27.000 │  20.000 │\n",
    "│      A2B1 │   0.082 │   0.150 │   0.101 │   8.000 │  15.000 │  10.000 │\n",
    "│      A3B1 │   0.097 │   0.118 │   0.104 │  10.000 │  12.000 │  10.000 │\n",
    "│      A1B2 │   0.082 │   0.058 │   0.086 │   8.000 │   6.000 │   9.000 │\n",
    "│      A2B2 │   0.082 │   0.037 │   0.051 │   8.000 │   4.000 │   5.000 │\n",
    "│      A3B2 │   0.097 │   0.059 │   0.068 │  10.000 │   6.000 │   7.000 │\n",
    "│      A1B3 │   0.082 │   0.058 │   0.086 │   8.000 │   6.000 │   9.000 │\n",
    "│      A2B3 │   0.082 │   0.037 │   0.051 │   8.000 │   3.000 │   5.000 │\n",
    "│      A3B3 │   0.097 │   0.059 │   0.068 │  10.000 │   6.000 │   7.000 │\n",
    "│      A1B4 │   0.109 │   0.079 │   0.106 │  11.000 │   8.000 │  10.000 │\n",
    "│      A2B4 │   0.109 │   0.075 │   0.080 │  11.000 │   7.000 │   8.000 │\n",
    "│       Obj │   8.987 │  13.000 │  38.925 │   8.988 │  13.028 │  38.946 │\n",
    "└───────────┴─────────┴─────────┴─────────┴─────────┴─────────┴─────────┘\n",
    "```"
   ]
  },
  {
   "cell_type": "markdown",
   "metadata": {},
   "source": [
    "**Solution**\n",
    "\n",
    "**$D$-optimal design**:\n",
    "\n",
    "Since $\\det(\\mathbf{V}) = [\\det(\\mathbf{C}^T\\mathbf{W}\\mathbf{C})]^{-1}$ and $-\\log(x)$ is monotone and convex,\n",
    "$$\n",
    "\\begin{aligned}\n",
    "\t&\\text{minimize} \\quad \\det (\\mathbf{V})\\\\\n",
    "\t\\Longleftrightarrow\\quad\n",
    "\t&\\text{maximize} \\quad \\det(\\mathbf{C}^T\\mathbf{W}\\mathbf{C})\\\\\n",
    "\t\\Longleftrightarrow\\quad\n",
    "\t&\\text{maximize} \\quad \\det(\\mathbf{C}^T\\mathbf{W}\\mathbf{C})\\\\\n",
    "\t\\Longleftrightarrow\\quad\n",
    "\t&\\text{minimize} \\quad -\\text{logdet}\\left(\\mathbf{C}^T\\mathbf{W}\\mathbf{C}\\right).\n",
    "\\end{aligned}\n",
    "$$\n",
    "So, we don't need to calculate the inverse. I use `minimize` (instead of `maximize`) to obtain the same (or a similar) objective function as Dr. Zhou did. Also, I use the Hypatia solver as well."
   ]
  },
  {
   "cell_type": "code",
   "execution_count": 4,
   "metadata": {},
   "outputs": [],
   "source": [
    "using LinearAlgebra\n",
    "using Convex, Hypatia, MathOptInterface\n",
    "using JuMP, Pajarito, Gurobi, Mosek, MosekTools"
   ]
  },
  {
   "cell_type": "code",
   "execution_count": 5,
   "metadata": {},
   "outputs": [
    {
     "name": "stdout",
     "output_type": "stream",
     "text": [
      " 22.400485 seconds (44.61 M allocations: 3.019 GiB, 4.69% gc time, 99.78% compilation time: <1% of which was recompilation)\n",
      "Obj = 8.987\n"
     ]
    },
    {
     "data": {
      "text/plain": [
       "12×1 Matrix{Float64}:\n",
       " 0.082\n",
       " 0.082\n",
       " 0.097\n",
       " 0.082\n",
       " 0.082\n",
       " 0.097\n",
       " 0.082\n",
       " 0.082\n",
       " 0.097\n",
       " 0.109\n",
       " 0.109\n",
       " 8.987"
      ]
     },
     "metadata": {},
     "output_type": "display_data"
    }
   ],
   "source": [
    "m = size(C, 1) # 11\n",
    "p = Variable(m, Positive())\n",
    "V⁻¹ = transpose(C) * Diagonal(p) * C\n",
    "problem = minimize(-logdet(V⁻¹))\n",
    "problem.constraints += p .>= 0\n",
    "problem.constraints += sum(p) == 1\n",
    "problem\n",
    "\n",
    "const MOI = MathOptInterface\n",
    "solver = Hypatia.Optimizer()\n",
    "MOI.set(solver, MOI.RawOptimizerAttribute(\"verbose\"), 0)\n",
    "@time solve!(problem, solver)\n",
    "\n",
    "# Check optimal value and optimal solution\n",
    "D_opt_obj = round(problem.optval, digits = 3)\n",
    "D_opt_p = round.(p.value, digits = 3)\n",
    "println(\"Obj = \", D_opt_obj)\n",
    "\n",
    "# Store p and obj for later use\n",
    "vcat(D_opt_p, [D_opt_obj])"
   ]
  },
  {
   "cell_type": "code",
   "execution_count": 6,
   "metadata": {},
   "outputs": [
    {
     "data": {
      "text/plain": [
       "true"
      ]
     },
     "metadata": {},
     "output_type": "display_data"
    }
   ],
   "source": [
    "# Check constraint satisfication\n",
    "sum(p.value) ≈ 1.0"
   ]
  },
  {
   "cell_type": "markdown",
   "metadata": {},
   "source": [
    "Multiplying $\\mathbf p$ by 100 is not an effective way to convert $\\mathbf{p}$ to $\\mathbf{n}$ because it does not always result in $n=100$. Instead, use MISDP here as well as Q3."
   ]
  },
  {
   "cell_type": "code",
   "execution_count": 7,
   "metadata": {},
   "outputs": [
    {
     "data": {
      "text/plain": [
       "proj_integer_simplex (generic function with 1 method)"
      ]
     },
     "metadata": {},
     "output_type": "display_data"
    }
   ],
   "source": [
    "# Define a function to project a vector to the integer simplex\n",
    "solver_misdp = \n",
    "    optimizer_with_attributes(\n",
    "        Pajarito.Optimizer,\n",
    "        MOI.Silent() => true,\n",
    "        \"oa_solver\" => optimizer_with_attributes(\n",
    "            Mosek.Optimizer,\n",
    "            MOI.Silent() => true\n",
    "        ),\n",
    "        \"conic_solver\" => optimizer_with_attributes(\n",
    "            Hypatia.Optimizer,\n",
    "            MOI.Silent() => true\n",
    "        )\n",
    "    )\n",
    "\n",
    "function proj_integer_simplex(\n",
    "    p      :: Vector{Float64},\n",
    "    ntotal :: Int;\n",
    "    solver = solver_misdp\n",
    ")\n",
    "    n = Convex.Variable(length(p), IntVar)\n",
    "    problem = minimize(norm(n - p))\n",
    "    problem.constraints += sum(n) == ntotal\n",
    "    solve!(problem, solver)\n",
    "    round.(n.value, digits = 0) |> vec\n",
    "end"
   ]
  },
  {
   "cell_type": "code",
   "execution_count": 8,
   "metadata": {},
   "outputs": [
    {
     "data": {
      "text/plain": [
       "11-element Vector{Float64}:\n",
       "  8.0\n",
       "  8.0\n",
       " 10.0\n",
       "  8.0\n",
       "  8.0\n",
       " 10.0\n",
       "  8.0\n",
       "  8.0\n",
       " 10.0\n",
       " 11.0\n",
       " 11.0"
      ]
     },
     "metadata": {},
     "output_type": "display_data"
    }
   ],
   "source": [
    "D_opt_n = proj_integer_simplex(100vec(p.value), 100)"
   ]
  },
  {
   "cell_type": "code",
   "execution_count": 9,
   "metadata": {},
   "outputs": [
    {
     "data": {
      "text/plain": [
       "true"
      ]
     },
     "metadata": {},
     "output_type": "display_data"
    }
   ],
   "source": [
    "# Check constraint satisfication\n",
    "sum(D_opt_n) == 100"
   ]
  },
  {
   "cell_type": "code",
   "execution_count": 10,
   "metadata": {},
   "outputs": [
    {
     "data": {
      "text/plain": [
       "8.988"
      ]
     },
     "metadata": {},
     "output_type": "display_data"
    }
   ],
   "source": [
    "# Calculate the corresponding obj\n",
    "D_opt_obj_n = -logdet(transpose(C) * Diagonal(vec(D_opt_n)/100) * C)\n",
    "D_opt_obj_n = round(D_opt_obj_n, digits = 3)"
   ]
  },
  {
   "cell_type": "markdown",
   "metadata": {},
   "source": [
    "**$E$-optimal design**\n",
    "\n",
    "It is important to note that the eigenvalue of the inverse of a matrix is the reciprocal of the eigenvalue of the original matrix.\n",
    "\n",
    "We have these two equivalent objective functions to avoid taking inverse as shown below:\n",
    "$$\n",
    "\\begin{aligned}\n",
    "\t&\\text{minimize} \\quad \\lambda_{\\text{max}}(\\mathbf{V})\\\\\n",
    "\t\\Longleftrightarrow\\quad\n",
    "\t&\\text{maximize} \\quad \\lambda_{\\text{min}}\\left(\\mathbf{C}^T\\mathbf{W}\\mathbf{C}\\right).\n",
    "\\end{aligned}\n",
    "$$\n",
    "Unfortunately, the two objective functions provide a little different $\\mathbf{p}$ with similar objectives (after transformation).\n",
    "\n",
    "First, minimizing $\\lambda_{\\text{max}}(\\mathbf{V})$ is equivalent to minimizing $t$ with an additinal constraint\n",
    "$$\n",
    "\\begin{aligned}\n",
    "    \\begin{bmatrix}\n",
    "    t\\mathbf{I} & \\mathbf{I}\\\\\n",
    "    \\mathbf{I} & \\mathbf{V}^{-1}\n",
    "    \\end{bmatrix}\n",
    "\\succeq\\mathbf{O}\n",
    "\\quad\\Longleftrightarrow\\quad\n",
    "t\\mathbf{I} - \\mathbf{V} \\succeq \\mathbf{O}\n",
    "\\end{aligned}.\n",
    "$$"
   ]
  },
  {
   "cell_type": "code",
   "execution_count": 11,
   "metadata": {},
   "outputs": [
    {
     "name": "stdout",
     "output_type": "stream",
     "text": [
      "  0.788062 seconds (1.26 M allocations: 85.818 MiB, 2.91% gc time, 97.69% compilation time)\n",
      "Obj = 13.0\n"
     ]
    },
    {
     "data": {
      "text/plain": [
       "12×1 Matrix{Float64}:\n",
       "  0.253\n",
       "  0.168\n",
       "  0.117\n",
       "  0.051\n",
       "  0.044\n",
       "  0.059\n",
       "  0.051\n",
       "  0.044\n",
       "  0.059\n",
       "  0.073\n",
       "  0.08\n",
       " 13.0"
      ]
     },
     "metadata": {},
     "output_type": "display_data"
    }
   ],
   "source": [
    "## -------------------- 1st E-opt method -------------------- ##\n",
    "t = Variable(1)\n",
    "problem = minimize(t)\n",
    "problem.constraints += p .>= 0\n",
    "problem.constraints += sum(p) == 1\n",
    "# Add a new constraint\n",
    "q = size(C, 2)\n",
    "problem.constraints += [t * Matrix(I(q)) Matrix(I(q)); Matrix(I(q)) V⁻¹] in :SDP\n",
    "problem\n",
    "\n",
    "const MOI = MathOptInterface\n",
    "solver = Hypatia.Optimizer()\n",
    "MOI.set(solver, MOI.RawOptimizerAttribute(\"verbose\"), 0)\n",
    "@time solve!(problem, solver)\n",
    "\n",
    "# Check the status, optimal value\n",
    "E_opt1_obj = round(problem.optval, digits = 3)\n",
    "E_opt1_p = round.(p.value, digits = 3)\n",
    "println(\"Obj = \", E_opt1_obj)\n",
    "vcat(E_opt1_p, [E_opt1_obj])"
   ]
  },
  {
   "cell_type": "code",
   "execution_count": 12,
   "metadata": {},
   "outputs": [
    {
     "data": {
      "text/plain": [
       "11-element Vector{Float64}:\n",
       " 25.0\n",
       " 17.0\n",
       " 12.0\n",
       "  5.0\n",
       "  5.0\n",
       "  6.0\n",
       "  5.0\n",
       "  4.0\n",
       "  6.0\n",
       "  7.0\n",
       "  8.0"
      ]
     },
     "metadata": {},
     "output_type": "display_data"
    },
    {
     "data": {
      "text/plain": [
       "13.012"
      ]
     },
     "metadata": {},
     "output_type": "display_data"
    }
   ],
   "source": [
    "E_opt1_n = proj_integer_simplex(100vec(p.value), 100)\n",
    "display(E_opt1_n)\n",
    "E_opt1_obj_n = eigmax((inv(transpose(C) * Diagonal(E_opt1_n / 100) * C)))\n",
    "E_opt1_obj_n = round(E_opt1_obj_n, digits = 3)"
   ]
  },
  {
   "cell_type": "code",
   "execution_count": 13,
   "metadata": {},
   "outputs": [
    {
     "data": {
      "text/plain": [
       "true"
      ]
     },
     "metadata": {},
     "output_type": "display_data"
    }
   ],
   "source": [
    "sum(E_opt1_n) == 100"
   ]
  },
  {
   "cell_type": "markdown",
   "metadata": {},
   "source": [
    "Second, use `eigmin` to obtain $\\lambda_{\\text{min}}\\left(\\mathbf{C}^T\\mathbf{W}\\mathbf{C}\\right)$ and maximize it."
   ]
  },
  {
   "cell_type": "code",
   "execution_count": 14,
   "metadata": {},
   "outputs": [
    {
     "name": "stdout",
     "output_type": "stream",
     "text": [
      "  0.375802 seconds (493.63 k allocations: 32.507 MiB, 3.38% gc time, 98.46% compilation time)\n",
      "Obj = 0.077\n"
     ]
    },
    {
     "data": {
      "text/plain": [
       "12×1 Matrix{Float64}:\n",
       " 0.266\n",
       " 0.158\n",
       " 0.114\n",
       " 0.055\n",
       " 0.042\n",
       " 0.057\n",
       " 0.055\n",
       " 0.042\n",
       " 0.057\n",
       " 0.08\n",
       " 0.074\n",
       " 0.077"
      ]
     },
     "metadata": {},
     "output_type": "display_data"
    }
   ],
   "source": [
    "## -------------------- 2nd E-opt method -------------------- ##\n",
    "problem = maximize(eigmin(V⁻¹))\n",
    "problem.constraints += p .>= 0\n",
    "problem.constraints += sum(p) == 1\n",
    "problem\n",
    "\n",
    "const MOI = MathOptInterface\n",
    "solver = Hypatia.Optimizer()\n",
    "MOI.set(solver, MOI.RawOptimizerAttribute(\"verbose\"), 0)\n",
    "@time solve!(problem, solver)\n",
    "\n",
    "# Check the status, optimal value\n",
    "E_opt2_obj = round(problem.optval, digits = 3)\n",
    "E_opt2_p = round.(p.value, digits = 3)\n",
    "println(\"Obj = \", E_opt2_obj)\n",
    "vcat(E_opt2_p, [E_opt2_obj])"
   ]
  },
  {
   "cell_type": "markdown",
   "metadata": {},
   "source": [
    "Note that $1/0.077 = 12.99 \\approx 13$, which is `obj` Hua obtained. I will show this transformed `Obj` in the table."
   ]
  },
  {
   "cell_type": "code",
   "execution_count": 15,
   "metadata": {},
   "outputs": [
    {
     "data": {
      "text/plain": [
       "true"
      ]
     },
     "metadata": {},
     "output_type": "display_data"
    }
   ],
   "source": [
    "sum(p.value) ≈ 1.0"
   ]
  },
  {
   "cell_type": "code",
   "execution_count": 16,
   "metadata": {},
   "outputs": [
    {
     "data": {
      "text/plain": [
       "11-element Vector{Float64}:\n",
       " 27.0\n",
       " 16.0\n",
       " 11.0\n",
       "  5.0\n",
       "  4.0\n",
       "  6.0\n",
       "  6.0\n",
       "  4.0\n",
       "  6.0\n",
       "  8.0\n",
       "  7.0"
      ]
     },
     "metadata": {},
     "output_type": "display_data"
    },
    {
     "data": {
      "text/plain": [
       "0.077"
      ]
     },
     "metadata": {},
     "output_type": "display_data"
    }
   ],
   "source": [
    "E_opt2_n = proj_integer_simplex(100vec(p.value), 100)\n",
    "display(E_opt2_n)\n",
    "E_opt2_obj_n = eigmin((transpose(C) * Diagonal(E_opt2_n / 100) * C))\n",
    "E_opt2_obj_n = round(E_opt2_obj_n, digits = 3)"
   ]
  },
  {
   "cell_type": "code",
   "execution_count": 17,
   "metadata": {},
   "outputs": [
    {
     "data": {
      "text/plain": [
       "true"
      ]
     },
     "metadata": {},
     "output_type": "display_data"
    }
   ],
   "source": [
    "sum(E_opt2_n) == 100"
   ]
  },
  {
   "cell_type": "markdown",
   "metadata": {},
   "source": [
    "**$A$-optimal design**:\n",
    "\n",
    "Use `trace_mpower(A, t, C)` $= \\text{tr}(\\mathbf{C}\\mathbf{A}^t)$. I will use a different and general method in Q3."
   ]
  },
  {
   "cell_type": "code",
   "execution_count": 18,
   "metadata": {},
   "outputs": [
    {
     "name": "stdout",
     "output_type": "stream",
     "text": [
      "  2.037104 seconds (4.10 M allocations: 274.345 MiB, 2.11% gc time, 98.32% compilation time)\n",
      "Obj = 38.925\n"
     ]
    },
    {
     "data": {
      "text/plain": [
       "12×1 Matrix{Float64}:\n",
       "  0.2\n",
       "  0.101\n",
       "  0.104\n",
       "  0.086\n",
       "  0.051\n",
       "  0.068\n",
       "  0.086\n",
       "  0.051\n",
       "  0.068\n",
       "  0.106\n",
       "  0.08\n",
       " 38.925"
      ]
     },
     "metadata": {},
     "output_type": "display_data"
    }
   ],
   "source": [
    "problem = minimize(trace_mpower(V⁻¹, -1, Matrix(I(6))))\n",
    "problem.constraints += p .>= 0\n",
    "problem.constraints += sum(p) == 1\n",
    "problem\n",
    "\n",
    "const MOI = MathOptInterface\n",
    "solver = Hypatia.Optimizer()\n",
    "MOI.set(solver, MOI.RawOptimizerAttribute(\"verbose\"), 0)\n",
    "@time solve!(problem, solver)\n",
    "\n",
    "# Check the status, optimal value\n",
    "A_opt_obj = round(problem.optval, digits = 3)\n",
    "A_opt_p = round.(p.value, digits = 3)\n",
    "println(\"Obj = \", A_opt_obj)\n",
    "vcat(A_opt_p, [A_opt_obj])"
   ]
  },
  {
   "cell_type": "code",
   "execution_count": 19,
   "metadata": {},
   "outputs": [
    {
     "data": {
      "text/plain": [
       "true"
      ]
     },
     "metadata": {},
     "output_type": "display_data"
    }
   ],
   "source": [
    "sum(p.value) ≈ 1.0"
   ]
  },
  {
   "cell_type": "code",
   "execution_count": 20,
   "metadata": {},
   "outputs": [
    {
     "data": {
      "text/plain": [
       "11-element Vector{Float64}:\n",
       " 20.0\n",
       " 10.0\n",
       " 10.0\n",
       "  9.0\n",
       "  5.0\n",
       "  7.0\n",
       "  9.0\n",
       "  5.0\n",
       "  7.0\n",
       " 10.0\n",
       "  8.0"
      ]
     },
     "metadata": {},
     "output_type": "display_data"
    },
    {
     "data": {
      "text/plain": [
       "38.946"
      ]
     },
     "metadata": {},
     "output_type": "display_data"
    }
   ],
   "source": [
    "# Project p to n\n",
    "A_opt_n = proj_integer_simplex(100vec(p.value), 100)\n",
    "display(A_opt_n)\n",
    "A_opt_obj_n = trace_mpower(C' * Diagonal(A_opt_n / 100) * C, -1, I(6))\n",
    "A_opt_obj_n = round(A_opt_obj_n, digits = 3)"
   ]
  },
  {
   "cell_type": "markdown",
   "metadata": {},
   "source": [
    "Let's merge the three results in table."
   ]
  },
  {
   "cell_type": "code",
   "execution_count": 21,
   "metadata": {},
   "outputs": [
    {
     "name": "stdout",
     "output_type": "stream",
     "text": [
      "Approximate Optimal Design\n"
     ]
    },
    {
     "data": {
      "text/html": [
       "<div><div style = \"float: left;\"><span>12×9 DataFrame</span></div><div style = \"clear: both;\"></div></div><div class = \"data-frame\" style = \"overflow-x: scroll;\"><table class = \"data-frame\" style = \"margin-bottom: 6px;\"><thead><tr class = \"header\"><th class = \"rowNumber\" style = \"font-weight: bold; text-align: right;\">Row</th><th style = \"text-align: left;\">design_pt</th><th style = \"text-align: left;\">D_opt</th><th style = \"text-align: left;\">E_opt1</th><th style = \"text-align: left;\">E_opt2</th><th style = \"text-align: left;\">A_opt</th><th style = \"text-align: left;\">D_opt_n</th><th style = \"text-align: left;\">E_opt1_n</th><th style = \"text-align: left;\">E_opt2_n</th><th style = \"text-align: left;\">A_opt_n</th></tr><tr class = \"subheader headerLastRow\"><th class = \"rowNumber\" style = \"font-weight: bold; text-align: right;\"></th><th title = \"String\" style = \"text-align: left;\">String</th><th title = \"Float64\" style = \"text-align: left;\">Float64</th><th title = \"Float64\" style = \"text-align: left;\">Float64</th><th title = \"Float64\" style = \"text-align: left;\">Float64</th><th title = \"Float64\" style = \"text-align: left;\">Float64</th><th title = \"Float64\" style = \"text-align: left;\">Float64</th><th title = \"Float64\" style = \"text-align: left;\">Float64</th><th title = \"Float64\" style = \"text-align: left;\">Float64</th><th title = \"Float64\" style = \"text-align: left;\">Float64</th></tr></thead><tbody><tr><td class = \"rowNumber\" style = \"font-weight: bold; text-align: right;\">1</td><td style = \"text-align: left;\">A1B1</td><td style = \"text-align: right;\">0.082</td><td style = \"text-align: right;\">0.253</td><td style = \"text-align: right;\">0.266</td><td style = \"text-align: right;\">0.2</td><td style = \"text-align: right;\">8.0</td><td style = \"text-align: right;\">25.0</td><td style = \"text-align: right;\">27.0</td><td style = \"text-align: right;\">20.0</td></tr><tr><td class = \"rowNumber\" style = \"font-weight: bold; text-align: right;\">2</td><td style = \"text-align: left;\">A2B1</td><td style = \"text-align: right;\">0.082</td><td style = \"text-align: right;\">0.168</td><td style = \"text-align: right;\">0.158</td><td style = \"text-align: right;\">0.101</td><td style = \"text-align: right;\">8.0</td><td style = \"text-align: right;\">17.0</td><td style = \"text-align: right;\">16.0</td><td style = \"text-align: right;\">10.0</td></tr><tr><td class = \"rowNumber\" style = \"font-weight: bold; text-align: right;\">3</td><td style = \"text-align: left;\">A3B1</td><td style = \"text-align: right;\">0.097</td><td style = \"text-align: right;\">0.117</td><td style = \"text-align: right;\">0.114</td><td style = \"text-align: right;\">0.104</td><td style = \"text-align: right;\">10.0</td><td style = \"text-align: right;\">12.0</td><td style = \"text-align: right;\">11.0</td><td style = \"text-align: right;\">10.0</td></tr><tr><td class = \"rowNumber\" style = \"font-weight: bold; text-align: right;\">4</td><td style = \"text-align: left;\">A1B2</td><td style = \"text-align: right;\">0.082</td><td style = \"text-align: right;\">0.051</td><td style = \"text-align: right;\">0.055</td><td style = \"text-align: right;\">0.086</td><td style = \"text-align: right;\">8.0</td><td style = \"text-align: right;\">5.0</td><td style = \"text-align: right;\">5.0</td><td style = \"text-align: right;\">9.0</td></tr><tr><td class = \"rowNumber\" style = \"font-weight: bold; text-align: right;\">5</td><td style = \"text-align: left;\">A2B2</td><td style = \"text-align: right;\">0.082</td><td style = \"text-align: right;\">0.044</td><td style = \"text-align: right;\">0.042</td><td style = \"text-align: right;\">0.051</td><td style = \"text-align: right;\">8.0</td><td style = \"text-align: right;\">5.0</td><td style = \"text-align: right;\">4.0</td><td style = \"text-align: right;\">5.0</td></tr><tr><td class = \"rowNumber\" style = \"font-weight: bold; text-align: right;\">6</td><td style = \"text-align: left;\">A3B2</td><td style = \"text-align: right;\">0.097</td><td style = \"text-align: right;\">0.059</td><td style = \"text-align: right;\">0.057</td><td style = \"text-align: right;\">0.068</td><td style = \"text-align: right;\">10.0</td><td style = \"text-align: right;\">6.0</td><td style = \"text-align: right;\">6.0</td><td style = \"text-align: right;\">7.0</td></tr><tr><td class = \"rowNumber\" style = \"font-weight: bold; text-align: right;\">7</td><td style = \"text-align: left;\">A1B3</td><td style = \"text-align: right;\">0.082</td><td style = \"text-align: right;\">0.051</td><td style = \"text-align: right;\">0.055</td><td style = \"text-align: right;\">0.086</td><td style = \"text-align: right;\">8.0</td><td style = \"text-align: right;\">5.0</td><td style = \"text-align: right;\">6.0</td><td style = \"text-align: right;\">9.0</td></tr><tr><td class = \"rowNumber\" style = \"font-weight: bold; text-align: right;\">8</td><td style = \"text-align: left;\">A2B3</td><td style = \"text-align: right;\">0.082</td><td style = \"text-align: right;\">0.044</td><td style = \"text-align: right;\">0.042</td><td style = \"text-align: right;\">0.051</td><td style = \"text-align: right;\">8.0</td><td style = \"text-align: right;\">4.0</td><td style = \"text-align: right;\">4.0</td><td style = \"text-align: right;\">5.0</td></tr><tr><td class = \"rowNumber\" style = \"font-weight: bold; text-align: right;\">9</td><td style = \"text-align: left;\">A3B3</td><td style = \"text-align: right;\">0.097</td><td style = \"text-align: right;\">0.059</td><td style = \"text-align: right;\">0.057</td><td style = \"text-align: right;\">0.068</td><td style = \"text-align: right;\">10.0</td><td style = \"text-align: right;\">6.0</td><td style = \"text-align: right;\">6.0</td><td style = \"text-align: right;\">7.0</td></tr><tr><td class = \"rowNumber\" style = \"font-weight: bold; text-align: right;\">10</td><td style = \"text-align: left;\">A1B4</td><td style = \"text-align: right;\">0.109</td><td style = \"text-align: right;\">0.073</td><td style = \"text-align: right;\">0.08</td><td style = \"text-align: right;\">0.106</td><td style = \"text-align: right;\">11.0</td><td style = \"text-align: right;\">7.0</td><td style = \"text-align: right;\">8.0</td><td style = \"text-align: right;\">10.0</td></tr><tr><td class = \"rowNumber\" style = \"font-weight: bold; text-align: right;\">11</td><td style = \"text-align: left;\">A2B4</td><td style = \"text-align: right;\">0.109</td><td style = \"text-align: right;\">0.08</td><td style = \"text-align: right;\">0.074</td><td style = \"text-align: right;\">0.08</td><td style = \"text-align: right;\">11.0</td><td style = \"text-align: right;\">8.0</td><td style = \"text-align: right;\">7.0</td><td style = \"text-align: right;\">8.0</td></tr><tr><td class = \"rowNumber\" style = \"font-weight: bold; text-align: right;\">12</td><td style = \"text-align: left;\">Obj</td><td style = \"text-align: right;\">8.987</td><td style = \"text-align: right;\">13.0</td><td style = \"text-align: right;\">12.987</td><td style = \"text-align: right;\">38.925</td><td style = \"text-align: right;\">8.988</td><td style = \"text-align: right;\">13.012</td><td style = \"text-align: right;\">12.987</td><td style = \"text-align: right;\">38.946</td></tr></tbody></table></div>"
      ],
      "text/latex": [
       "\\begin{tabular}{r|ccccccccc}\n",
       "\t& design\\_pt & D\\_opt & E\\_opt1 & E\\_opt2 & A\\_opt & D\\_opt\\_n & E\\_opt1\\_n & E\\_opt2\\_n & A\\_opt\\_n\\\\\n",
       "\t\\hline\n",
       "\t& String & Float64 & Float64 & Float64 & Float64 & Float64 & Float64 & Float64 & Float64\\\\\n",
       "\t\\hline\n",
       "\t1 & A1B1 & 0.082 & 0.253 & 0.266 & 0.2 & 8.0 & 25.0 & 27.0 & 20.0 \\\\\n",
       "\t2 & A2B1 & 0.082 & 0.168 & 0.158 & 0.101 & 8.0 & 17.0 & 16.0 & 10.0 \\\\\n",
       "\t3 & A3B1 & 0.097 & 0.117 & 0.114 & 0.104 & 10.0 & 12.0 & 11.0 & 10.0 \\\\\n",
       "\t4 & A1B2 & 0.082 & 0.051 & 0.055 & 0.086 & 8.0 & 5.0 & 5.0 & 9.0 \\\\\n",
       "\t5 & A2B2 & 0.082 & 0.044 & 0.042 & 0.051 & 8.0 & 5.0 & 4.0 & 5.0 \\\\\n",
       "\t6 & A3B2 & 0.097 & 0.059 & 0.057 & 0.068 & 10.0 & 6.0 & 6.0 & 7.0 \\\\\n",
       "\t7 & A1B3 & 0.082 & 0.051 & 0.055 & 0.086 & 8.0 & 5.0 & 6.0 & 9.0 \\\\\n",
       "\t8 & A2B3 & 0.082 & 0.044 & 0.042 & 0.051 & 8.0 & 4.0 & 4.0 & 5.0 \\\\\n",
       "\t9 & A3B3 & 0.097 & 0.059 & 0.057 & 0.068 & 10.0 & 6.0 & 6.0 & 7.0 \\\\\n",
       "\t10 & A1B4 & 0.109 & 0.073 & 0.08 & 0.106 & 11.0 & 7.0 & 8.0 & 10.0 \\\\\n",
       "\t11 & A2B4 & 0.109 & 0.08 & 0.074 & 0.08 & 11.0 & 8.0 & 7.0 & 8.0 \\\\\n",
       "\t12 & Obj & 8.987 & 13.0 & 12.987 & 38.925 & 8.988 & 13.012 & 12.987 & 38.946 \\\\\n",
       "\\end{tabular}\n"
      ],
      "text/plain": [
       "\u001b[1m12×9 DataFrame\u001b[0m\n",
       "\u001b[1m Row \u001b[0m│\u001b[1m design_pt \u001b[0m\u001b[1m D_opt   \u001b[0m\u001b[1m E_opt1  \u001b[0m\u001b[1m E_opt2  \u001b[0m\u001b[1m A_opt   \u001b[0m\u001b[1m D_opt_n \u001b[0m\u001b[1m E_opt1_n \u001b[0m\u001b[1m E_opt\u001b[0m ⋯\n",
       "     │\u001b[90m String    \u001b[0m\u001b[90m Float64 \u001b[0m\u001b[90m Float64 \u001b[0m\u001b[90m Float64 \u001b[0m\u001b[90m Float64 \u001b[0m\u001b[90m Float64 \u001b[0m\u001b[90m Float64  \u001b[0m\u001b[90m Float\u001b[0m ⋯\n",
       "─────┼──────────────────────────────────────────────────────────────────────────\n",
       "   1 │ A1B1         0.082    0.253    0.266    0.2      8.0      25.0      27. ⋯\n",
       "   2 │ A2B1         0.082    0.168    0.158    0.101    8.0      17.0      16.\n",
       "   3 │ A3B1         0.097    0.117    0.114    0.104   10.0      12.0      11.\n",
       "   4 │ A1B2         0.082    0.051    0.055    0.086    8.0       5.0       5.\n",
       "   5 │ A2B2         0.082    0.044    0.042    0.051    8.0       5.0       4. ⋯\n",
       "   6 │ A3B2         0.097    0.059    0.057    0.068   10.0       6.0       6.\n",
       "   7 │ A1B3         0.082    0.051    0.055    0.086    8.0       5.0       6.\n",
       "   8 │ A2B3         0.082    0.044    0.042    0.051    8.0       4.0       4.\n",
       "   9 │ A3B3         0.097    0.059    0.057    0.068   10.0       6.0       6. ⋯\n",
       "  10 │ A1B4         0.109    0.073    0.08     0.106   11.0       7.0       8.\n",
       "  11 │ A2B4         0.109    0.08     0.074    0.08    11.0       8.0       7.\n",
       "  12 │ Obj          8.987   13.0     12.987   38.925    8.988    13.012    12.\n",
       "\u001b[36m                                                               2 columns omitted\u001b[0m"
      ]
     },
     "metadata": {},
     "output_type": "display_data"
    }
   ],
   "source": [
    "using DataFrames\n",
    "treatment = [\n",
    "    \"A1B1\", \"A2B1\", \"A3B1\",\n",
    "    \"A1B2\", \"A2B2\", \"A3B2\",\n",
    "    \"A1B3\", \"A2B3\", \"A3B3\",\n",
    "    \"A1B4\", \"A2B4\", \"Obj\"\n",
    "]\n",
    "\n",
    "println(\"Approximate Optimal Design\")\n",
    "df_Q2 = DataFrame(\n",
    "    design_pt = treatment,\n",
    "    D_opt    = vcat(D_opt_p,  [D_opt_obj])[:],\n",
    "    E_opt1   = vcat(E_opt1_p, [E_opt1_obj])[:],\n",
    "    E_opt2   = vcat(E_opt2_p, [1 / E_opt2_obj])[:],\n",
    "#     E_opt3   = vcat(E_opt3_p, [E_opt3_obj])[:],\n",
    "    A_opt    = vcat(A_opt_p,  [A_opt_obj])[:],\n",
    "    D_opt_n  = vcat(D_opt_n,  [D_opt_obj_n])[:],\n",
    "    E_opt1_n = vcat(E_opt1_n, [E_opt1_obj_n])[:],\n",
    "    E_opt2_n = vcat(E_opt2_n, [1 / E_opt2_obj_n])[:],\n",
    "#     E_opt3_n = vcat(E_opt3_n, [E_opt3_obj_n])[:],\n",
    "    A_opt_n  = vcat(A_opt_n,  [A_opt_obj_n])[:]\n",
    ")"
   ]
  },
  {
   "cell_type": "markdown",
   "metadata": {},
   "source": [
    "My results were identical for both $D$-optimal and $A$-optimal designs, but slightly different for the $E$-optimal design."
   ]
  },
  {
   "cell_type": "markdown",
   "metadata": {},
   "source": [
    "## Q3 (30 pts) Find exact optimal designs\n",
    "\n",
    "Using mixed-integer semidefinite programming (SDP) software to find the exact D-, E-, and A-optimal designs for this clinical trial **with $n=100$**.\n",
    "\n",
    "Hint: This is what I got using Pajarito with Gurobi as the `oa_solver` and Mosek as the `conic_solver`.\n",
    "\n",
    "```\n",
    "Exact Optimal Design\n",
    "┌───────────┬─────────┬─────────┬─────────┐\n",
    "│ design_pt │   D_opt │   E_opt │   A_opt │\n",
    "│    String │ Float64 │ Float64 │ Float64 │\n",
    "├───────────┼─────────┼─────────┼─────────┤\n",
    "│      A1B1 │   8.000 │  34.000 │  20.000 │\n",
    "│      A2B1 │   8.000 │  10.000 │  10.000 │\n",
    "│      A3B1 │  10.000 │  10.000 │  10.000 │\n",
    "│      A1B2 │   8.000 │   9.000 │   9.000 │\n",
    "│      A2B2 │   8.000 │   0.000 │   5.000 │\n",
    "│      A3B2 │  10.000 │   6.000 │   7.000 │\n",
    "│      A1B3 │   8.000 │   8.000 │   9.000 │\n",
    "│      A2B3 │   8.000 │   4.000 │   5.000 │\n",
    "│      A3B3 │  10.000 │   4.000 │   7.000 │\n",
    "│      A1B4 │  11.000 │   9.000 │  10.000 │\n",
    "│      A2B4 │  11.000 │   6.000 │   8.000 │\n",
    "│       Obj │   8.988 │  13.011 │  38.946 │\n",
    "└───────────┴─────────┴─────────┴─────────┘\n",
    "```"
   ]
  },
  {
   "cell_type": "code",
   "execution_count": 22,
   "metadata": {},
   "outputs": [],
   "source": [
    "using JuMP, Pajarito, Gurobi, Mosek, MosekTools"
   ]
  },
  {
   "cell_type": "code",
   "execution_count": 23,
   "metadata": {},
   "outputs": [],
   "source": [
    "# Define the solver\n",
    "model = Model(\n",
    "    optimizer_with_attributes(\n",
    "        Pajarito.Optimizer,\n",
    "        MOI.Silent() => true,\n",
    "        \"oa_solver\" => optimizer_with_attributes(\n",
    "            Gurobi.Optimizer,\n",
    "            MOI.Silent() => true\n",
    "        ),\n",
    "        \"conic_solver\" => optimizer_with_attributes(\n",
    "            Mosek.Optimizer,\n",
    "            MOI.Silent() => true\n",
    "        )\n",
    "    )\n",
    ")\n",
    "# Set a time limit for the solver\n",
    "set_attribute(model, \"time_limit\", 60)\n",
    "MOI.set(model, MOI.RawOptimizerAttribute(\"verbose\"), 0)"
   ]
  },
  {
   "cell_type": "markdown",
   "metadata": {},
   "source": [
    "**$D$-optimal design**\n",
    "\n",
    "Use `MOI.LogDetConeSquare` to obtain a log-determinant."
   ]
  },
  {
   "cell_type": "code",
   "execution_count": 24,
   "metadata": {},
   "outputs": [
    {
     "name": "stdout",
     "output_type": "stream",
     "text": [
      "Set parameter Username\n",
      "Academic license - for non-commercial use only - expires 2025-05-21\n"
     ]
    },
    {
     "data": {
      "text/latex": [
       "$ t $"
      ],
      "text/plain": [
       "t"
      ]
     },
     "metadata": {},
     "output_type": "display_data"
    }
   ],
   "source": [
    "unregister(model, :n)\n",
    "unregister(model, :V⁻¹)\n",
    "unregister(model, :t)\n",
    "\n",
    "# Define the variables\n",
    "@variable(model, n[1:m], Int)\n",
    "C = Matrix{Float64}(C)\n",
    "q = size(C, 2) # 6\n",
    "@expression(model, V⁻¹[i=1:q, j=1:q], sum(C[k, i] * C[k, j] * n[k] for k in 1:m))\n",
    "# @variable(model, V⁻¹[1:q, 1:q])\n",
    "@variable(model, t)"
   ]
  },
  {
   "cell_type": "code",
   "execution_count": 25,
   "metadata": {},
   "outputs": [
    {
     "name": "stderr",
     "output_type": "stream",
     "text": [
      "┌ Warning: continuous subproblem status SLOW_PROGRESS is not handled\n",
      "└ @ Pajarito /Users/tomokiokuno/.julia/packages/Pajarito/gSNvz/src/algorithms.jl:396\n",
      "┌ Warning: continuous subproblem status SLOW_PROGRESS is not handled\n",
      "└ @ Pajarito /Users/tomokiokuno/.julia/packages/Pajarito/gSNvz/src/algorithms.jl:396\n",
      "┌ Warning: continuous subproblem status SLOW_PROGRESS is not handled\n",
      "└ @ Pajarito /Users/tomokiokuno/.julia/packages/Pajarito/gSNvz/src/algorithms.jl:396\n",
      "┌ Warning: continuous subproblem status SLOW_PROGRESS is not handled\n",
      "└ @ Pajarito /Users/tomokiokuno/.julia/packages/Pajarito/gSNvz/src/algorithms.jl:396\n",
      "┌ Warning: continuous subproblem status SLOW_PROGRESS is not handled\n",
      "└ @ Pajarito /Users/tomokiokuno/.julia/packages/Pajarito/gSNvz/src/algorithms.jl:396\n",
      "┌ Warning: continuous subproblem status SLOW_PROGRESS is not handled\n",
      "└ @ Pajarito /Users/tomokiokuno/.julia/packages/Pajarito/gSNvz/src/algorithms.jl:396\n"
     ]
    }
   ],
   "source": [
    "import MathOptInterface as MOI\n",
    "# Define the constraints\n",
    "# @constraint(model, V⁻¹ .== [sum(C[k, i] * C[k, j] * n[k] for k in 1:m) for i in 1:q, j in 1:q])\n",
    "@constraint(model, n .>= 0)\n",
    "@constraint(model, sum(n) == 100)\n",
    "@constraint(model, [t; 1; vec(V⁻¹)] in MOI.LogDetConeSquare(q))\n",
    "\n",
    "@objective(model, Max, t)\n",
    "optimize!(model)"
   ]
  },
  {
   "cell_type": "code",
   "execution_count": 26,
   "metadata": {},
   "outputs": [
    {
     "name": "stdout",
     "output_type": "stream",
     "text": [
      "Obj = 8.988\n",
      "n = [8.0, 8.0, 10.0, 8.0, 8.0, 10.0, 8.0, 8.0, 10.0, 11.0, 11.0]\n"
     ]
    },
    {
     "data": {
      "text/plain": [
       "true"
      ]
     },
     "metadata": {},
     "output_type": "display_data"
    }
   ],
   "source": [
    "# Check the status, optimal value\n",
    "if termination_status(model) == MOI.OPTIMAL\n",
    "    D_opt_n = value.(n)\n",
    "    # D_opt_obj = round(objective_value(model), digits = 3)\n",
    "    D_opt_obj = - logdet(transpose(C) * Diagonal(D_opt_n) * C / 100)\n",
    "    D_opt_obj = round(D_opt_obj, digits = 3)\n",
    "    println(\"Obj = \", D_opt_obj)\n",
    "    println(\"n = \", D_opt_n)\n",
    "else\n",
    "    println(\"The problem did not solve to optimality.\")\n",
    "end\n",
    "# check constraint satisfication\n",
    "sum(D_opt_n) == 100"
   ]
  },
  {
   "cell_type": "markdown",
   "metadata": {},
   "source": [
    "**$E$-optimal design**\n",
    "\n",
    "Again, minimizing $\\lambda_{\\text{max}}(\\mathbf{V})$ is equivalent to minimizing $t$ with an additinal constraint\n",
    "$$\n",
    "\\begin{aligned}\n",
    "    \\begin{bmatrix}\n",
    "    t\\mathbf{I} & \\mathbf{I}\\\\\n",
    "    \\mathbf{I} & \\mathbf{V}^{-1}\n",
    "    \\end{bmatrix}\n",
    "\\succeq\\mathbf{O}\n",
    "\\quad\\Longleftrightarrow\\quad\n",
    "t\\mathbf{I} - \\mathbf{V} \\succeq \\mathbf{O}\n",
    "\\end{aligned}.\n",
    "$$"
   ]
  },
  {
   "cell_type": "code",
   "execution_count": 27,
   "metadata": {},
   "outputs": [
    {
     "data": {
      "text/latex": [
       "$ t $"
      ],
      "text/plain": [
       "t"
      ]
     },
     "metadata": {},
     "output_type": "display_data"
    }
   ],
   "source": [
    "unregister(model, :n)\n",
    "unregister(model, :t)\n",
    "\n",
    "# Define the variables\n",
    "@variable(model, n[1:m], Int)\n",
    "C = Matrix{Float64}(C)\n",
    "q = size(C, 2) # 6\n",
    "unregister(model, :V⁻¹)\n",
    "@expression(model, V⁻¹[i=1:q, j=1:q], sum(C[k, i] * C[k, j] * n[k] for k in 1:m))\n",
    "# @variable(model, V⁻¹[1:q, 1:q])\n",
    "@variable(model, t)"
   ]
  },
  {
   "cell_type": "code",
   "execution_count": 28,
   "metadata": {},
   "outputs": [
    {
     "data": {
      "text/latex": [
       "$$ \\begin{bmatrix}\n",
       "t & 0 & 0 & 0 & 0 & 0 & 1 & 0 & 0 & 0 & 0 & 0\\\\\n",
       "0 & t & 0 & 0 & 0 & 0 & 0 & 1 & 0 & 0 & 0 & 0\\\\\n",
       "0 & 0 & t & 0 & 0 & 0 & 0 & 0 & 1 & 0 & 0 & 0\\\\\n",
       "0 & 0 & 0 & t & 0 & 0 & 0 & 0 & 0 & 1 & 0 & 0\\\\\n",
       "0 & 0 & 0 & 0 & t & 0 & 0 & 0 & 0 & 0 & 1 & 0\\\\\n",
       "0 & 0 & 0 & 0 & 0 & t & 0 & 0 & 0 & 0 & 0 & 1\\\\\n",
       "1 & 0 & 0 & 0 & 0 & 0 & n_{1} + n_{2} + n_{3} + n_{4} + n_{5} + n_{6} + n_{7} + n_{8} + n_{9} + n_{10} + n_{11} & n_{2} + n_{5} + n_{8} + n_{11} & n_{3} + n_{6} + n_{9} & n_{4} + n_{5} + n_{6} & n_{7} + n_{8} + n_{9} & n_{10} + n_{11}\\\\\n",
       "0 & 1 & 0 & 0 & 0 & 0 & n_{2} + n_{5} + n_{8} + n_{11} & n_{2} + n_{5} + n_{8} + n_{11} & 0 & n_{5} & n_{8} & n_{11}\\\\\n",
       "0 & 0 & 1 & 0 & 0 & 0 & n_{3} + n_{6} + n_{9} & 0 & n_{3} + n_{6} + n_{9} & n_{6} & n_{9} & 0\\\\\n",
       "0 & 0 & 0 & 1 & 0 & 0 & n_{4} + n_{5} + n_{6} & n_{5} & n_{6} & n_{4} + n_{5} + n_{6} & 0 & 0\\\\\n",
       "0 & 0 & 0 & 0 & 1 & 0 & n_{7} + n_{8} + n_{9} & n_{8} & n_{9} & 0 & n_{7} + n_{8} + n_{9} & 0\\\\\n",
       "0 & 0 & 0 & 0 & 0 & 1 & n_{10} + n_{11} & n_{11} & 0 & 0 & 0 & n_{10} + n_{11}\\\\\n",
       "\\end{bmatrix} \\in \\text{PSDCone()} $$"
      ],
      "text/plain": [
       "[t  0  0  0  0  0  1                                                                             0                           0                   0                   0                   0;\n",
       " 0  t  0  0  0  0  0                                                                             1                           0                   0                   0                   0;\n",
       " 0  0  t  0  0  0  0                                                                             0                           1                   0                   0                   0;\n",
       " 0  0  0  t  0  0  0                                                                             0                           0                   1                   0                   0;\n",
       " 0  0  0  0  t  0  0                                                                             0                           0                   0                   1                   0;\n",
       " 0  0  0  0  0  t  0                                                                             0                           0                   0                   0                   1;\n",
       " 1  0  0  0  0  0  n[1] + n[2] + n[3] + n[4] + n[5] + n[6] + n[7] + n[8] + n[9] + n[10] + n[11]  n[2] + n[5] + n[8] + n[11]  n[3] + n[6] + n[9]  n[4] + n[5] + n[6]  n[7] + n[8] + n[9]  n[10] + n[11]; ∈ PSDCone()\n",
       " 0  1  0  0  0  0  n[2] + n[5] + n[8] + n[11]                                                    n[2] + n[5] + n[8] + n[11]  0                   n[5]                n[8]                n[11];\n",
       " 0  0  1  0  0  0  n[3] + n[6] + n[9]                                                            0                           n[3] + n[6] + n[9]  n[6]                n[9]                0;\n",
       " 0  0  0  1  0  0  n[4] + n[5] + n[6]                                                            n[5]                        n[6]                n[4] + n[5] + n[6]  0                   0;\n",
       " 0  0  0  0  1  0  n[7] + n[8] + n[9]                                                            n[8]                        n[9]                0                   n[7] + n[8] + n[9]  0;\n",
       " 0  0  0  0  0  1  n[10] + n[11]                                                                 n[11]                       0                   0                   0                   n[10] + n[11]]"
      ]
     },
     "metadata": {},
     "output_type": "display_data"
    }
   ],
   "source": [
    "# set common constraint\n",
    "@constraint(model, n .>= 0)\n",
    "@constraint(model, sum(n) == 100)\n",
    "\n",
    "# add the new constraint\n",
    "@constraint(model, [t * Matrix(I(6)) Matrix(I(6)); Matrix(I(6)) V⁻¹] in PSDCone())"
   ]
  },
  {
   "cell_type": "code",
   "execution_count": 29,
   "metadata": {},
   "outputs": [
    {
     "name": "stderr",
     "output_type": "stream",
     "text": [
      "┌ Warning: continuous subproblem status SLOW_PROGRESS is not handled\n",
      "└ @ Pajarito /Users/tomokiokuno/.julia/packages/Pajarito/gSNvz/src/algorithms.jl:396\n",
      "┌ Warning: continuous subproblem status SLOW_PROGRESS is not handled\n",
      "└ @ Pajarito /Users/tomokiokuno/.julia/packages/Pajarito/gSNvz/src/algorithms.jl:396\n",
      "┌ Warning: continuous subproblem status SLOW_PROGRESS is not handled\n",
      "└ @ Pajarito /Users/tomokiokuno/.julia/packages/Pajarito/gSNvz/src/algorithms.jl:396\n",
      "┌ Warning: continuous subproblem status SLOW_PROGRESS is not handled\n",
      "└ @ Pajarito /Users/tomokiokuno/.julia/packages/Pajarito/gSNvz/src/algorithms.jl:396\n",
      "┌ Warning: continuous subproblem status SLOW_PROGRESS is not handled\n",
      "└ @ Pajarito /Users/tomokiokuno/.julia/packages/Pajarito/gSNvz/src/algorithms.jl:396\n",
      "┌ Warning: continuous subproblem status SLOW_PROGRESS is not handled\n",
      "└ @ Pajarito /Users/tomokiokuno/.julia/packages/Pajarito/gSNvz/src/algorithms.jl:396\n",
      "┌ Warning: continuous subproblem status SLOW_PROGRESS is not handled\n",
      "└ @ Pajarito /Users/tomokiokuno/.julia/packages/Pajarito/gSNvz/src/algorithms.jl:396\n",
      "┌ Warning: continuous subproblem status SLOW_PROGRESS is not handled\n",
      "└ @ Pajarito /Users/tomokiokuno/.julia/packages/Pajarito/gSNvz/src/algorithms.jl:396\n"
     ]
    },
    {
     "name": "stdout",
     "output_type": "stream",
     "text": [
      "norm of dual is 1.3923448776441565e11\n"
     ]
    },
    {
     "name": "stderr",
     "output_type": "stream",
     "text": [
      "┌ Warning: continuous subproblem status SLOW_PROGRESS is not handled\n",
      "└ @ Pajarito /Users/tomokiokuno/.julia/packages/Pajarito/gSNvz/src/algorithms.jl:396\n",
      "┌ Warning: integer variable solution is not integral to tolerance tol_feas\n",
      "└ @ Pajarito /Users/tomokiokuno/.julia/packages/Pajarito/gSNvz/src/algorithms.jl:441\n",
      "┌ Warning: integer variable solution is not integral to tolerance tol_feas\n",
      "└ @ Pajarito /Users/tomokiokuno/.julia/packages/Pajarito/gSNvz/src/algorithms.jl:441\n",
      "┌ Warning: integer variable solution is not integral to tolerance tol_feas\n",
      "└ @ Pajarito /Users/tomokiokuno/.julia/packages/Pajarito/gSNvz/src/algorithms.jl:441\n",
      "┌ Warning: integer variable solution is not integral to tolerance tol_feas\n",
      "└ @ Pajarito /Users/tomokiokuno/.julia/packages/Pajarito/gSNvz/src/algorithms.jl:441\n",
      "┌ Warning: continuous subproblem status SLOW_PROGRESS is not handled\n",
      "└ @ Pajarito /Users/tomokiokuno/.julia/packages/Pajarito/gSNvz/src/algorithms.jl:396\n",
      "┌ Warning: continuous subproblem status SLOW_PROGRESS is not handled\n",
      "└ @ Pajarito /Users/tomokiokuno/.julia/packages/Pajarito/gSNvz/src/algorithms.jl:396\n",
      "┌ Warning: continuous subproblem status SLOW_PROGRESS is not handled\n",
      "└ @ Pajarito /Users/tomokiokuno/.julia/packages/Pajarito/gSNvz/src/algorithms.jl:396\n",
      "┌ Warning: continuous subproblem status SLOW_PROGRESS is not handled\n",
      "└ @ Pajarito /Users/tomokiokuno/.julia/packages/Pajarito/gSNvz/src/algorithms.jl:396\n",
      "┌ Warning: integer variable solution is not integral to tolerance tol_feas\n",
      "└ @ Pajarito /Users/tomokiokuno/.julia/packages/Pajarito/gSNvz/src/algorithms.jl:441\n",
      "┌ Warning: integer variable solution is not integral to tolerance tol_feas\n",
      "└ @ Pajarito /Users/tomokiokuno/.julia/packages/Pajarito/gSNvz/src/algorithms.jl:441\n",
      "┌ Warning: integer variable solution is not integral to tolerance tol_feas\n",
      "└ @ Pajarito /Users/tomokiokuno/.julia/packages/Pajarito/gSNvz/src/algorithms.jl:441\n"
     ]
    },
    {
     "name": "stdout",
     "output_type": "stream",
     "text": [
      "new incumbent\n"
     ]
    },
    {
     "name": "stderr",
     "output_type": "stream",
     "text": [
      "┌ Warning: integer variable solution is not integral to tolerance tol_feas\n",
      "└ @ Pajarito /Users/tomokiokuno/.julia/packages/Pajarito/gSNvz/src/algorithms.jl:441\n",
      "┌ Warning: integer variable solution is not integral to tolerance tol_feas\n",
      "└ @ Pajarito /Users/tomokiokuno/.julia/packages/Pajarito/gSNvz/src/algorithms.jl:441\n",
      "┌ Warning: integer variable solution is not integral to tolerance tol_feas\n",
      "└ @ Pajarito /Users/tomokiokuno/.julia/packages/Pajarito/gSNvz/src/algorithms.jl:441\n",
      "┌ Warning: integer variable solution is not integral to tolerance tol_feas\n",
      "└ @ Pajarito /Users/tomokiokuno/.julia/packages/Pajarito/gSNvz/src/algorithms.jl:441\n",
      "┌ Warning: integer variable solution is not integral to tolerance tol_feas\n",
      "└ @ Pajarito /Users/tomokiokuno/.julia/packages/Pajarito/gSNvz/src/algorithms.jl:441\n",
      "┌ Warning: integer variable solution is not integral to tolerance tol_feas\n",
      "└ @ Pajarito /Users/tomokiokuno/.julia/packages/Pajarito/gSNvz/src/algorithms.jl:441\n",
      "┌ Warning: integer variable solution is not integral to tolerance tol_feas\n",
      "└ @ Pajarito /Users/tomokiokuno/.julia/packages/Pajarito/gSNvz/src/algorithms.jl:441\n",
      "┌ Warning: integer variable solution is not integral to tolerance tol_feas\n",
      "└ @ Pajarito /Users/tomokiokuno/.julia/packages/Pajarito/gSNvz/src/algorithms.jl:441\n",
      "┌ Warning: integer variable solution is not integral to tolerance tol_feas\n",
      "└ @ Pajarito /Users/tomokiokuno/.julia/packages/Pajarito/gSNvz/src/algorithms.jl:441\n",
      "┌ Warning: integer variable solution is not integral to tolerance tol_feas\n",
      "└ @ Pajarito /Users/tomokiokuno/.julia/packages/Pajarito/gSNvz/src/algorithms.jl:441\n",
      "┌ Warning: integer variable solution is not integral to tolerance tol_feas\n",
      "└ @ Pajarito /Users/tomokiokuno/.julia/packages/Pajarito/gSNvz/src/algorithms.jl:441\n",
      "┌ Warning: integer variable solution is not integral to tolerance tol_feas\n",
      "└ @ Pajarito /Users/tomokiokuno/.julia/packages/Pajarito/gSNvz/src/algorithms.jl:441\n",
      "┌ Warning: integer variable solution is not integral to tolerance tol_feas\n",
      "└ @ Pajarito /Users/tomokiokuno/.julia/packages/Pajarito/gSNvz/src/algorithms.jl:441\n",
      "┌ Warning: integer variable solution is not integral to tolerance tol_feas\n",
      "└ @ Pajarito /Users/tomokiokuno/.julia/packages/Pajarito/gSNvz/src/algorithms.jl:441\n",
      "┌ Warning: integer variable solution is not integral to tolerance tol_feas\n",
      "└ @ Pajarito /Users/tomokiokuno/.julia/packages/Pajarito/gSNvz/src/algorithms.jl:441\n",
      "┌ Warning: integer variable solution is not integral to tolerance tol_feas\n",
      "└ @ Pajarito /Users/tomokiokuno/.julia/packages/Pajarito/gSNvz/src/algorithms.jl:441\n",
      "┌ Warning: integer variable solution is not integral to tolerance tol_feas\n",
      "└ @ Pajarito /Users/tomokiokuno/.julia/packages/Pajarito/gSNvz/src/algorithms.jl:441\n",
      "┌ Warning: integer variable solution is not integral to tolerance tol_feas\n",
      "└ @ Pajarito /Users/tomokiokuno/.julia/packages/Pajarito/gSNvz/src/algorithms.jl:441\n",
      "┌ Warning: integer variable solution is not integral to tolerance tol_feas\n",
      "└ @ Pajarito /Users/tomokiokuno/.julia/packages/Pajarito/gSNvz/src/algorithms.jl:441\n",
      "┌ Warning: integer variable solution is not integral to tolerance tol_feas\n",
      "└ @ Pajarito /Users/tomokiokuno/.julia/packages/Pajarito/gSNvz/src/algorithms.jl:441\n",
      "┌ Warning: integer variable solution is not integral to tolerance tol_feas\n",
      "└ @ Pajarito /Users/tomokiokuno/.julia/packages/Pajarito/gSNvz/src/algorithms.jl:441\n",
      "┌ Warning: integer variable solution is not integral to tolerance tol_feas\n",
      "└ @ Pajarito /Users/tomokiokuno/.julia/packages/Pajarito/gSNvz/src/algorithms.jl:441\n",
      "┌ Warning: integer variable solution is not integral to tolerance tol_feas\n",
      "└ @ Pajarito /Users/tomokiokuno/.julia/packages/Pajarito/gSNvz/src/algorithms.jl:441\n",
      "┌ Warning: integer variable solution is not integral to tolerance tol_feas\n",
      "└ @ Pajarito /Users/tomokiokuno/.julia/packages/Pajarito/gSNvz/src/algorithms.jl:441\n",
      "┌ Warning: integer variable solution is not integral to tolerance tol_feas\n",
      "└ @ Pajarito /Users/tomokiokuno/.julia/packages/Pajarito/gSNvz/src/algorithms.jl:441\n",
      "┌ Warning: integer variable solution is not integral to tolerance tol_feas\n",
      "└ @ Pajarito /Users/tomokiokuno/.julia/packages/Pajarito/gSNvz/src/algorithms.jl:441\n",
      "┌ Warning: integer variable solution is not integral to tolerance tol_feas\n",
      "└ @ Pajarito /Users/tomokiokuno/.julia/packages/Pajarito/gSNvz/src/algorithms.jl:441\n",
      "┌ Warning: integer variable solution is not integral to tolerance tol_feas\n",
      "└ @ Pajarito /Users/tomokiokuno/.julia/packages/Pajarito/gSNvz/src/algorithms.jl:441\n",
      "┌ Warning: integer variable solution is not integral to tolerance tol_feas\n",
      "└ @ Pajarito /Users/tomokiokuno/.julia/packages/Pajarito/gSNvz/src/algorithms.jl:441\n",
      "┌ Warning: integer variable solution is not integral to tolerance tol_feas\n",
      "└ @ Pajarito /Users/tomokiokuno/.julia/packages/Pajarito/gSNvz/src/algorithms.jl:441\n",
      "┌ Warning: integer variable solution is not integral to tolerance tol_feas\n",
      "└ @ Pajarito /Users/tomokiokuno/.julia/packages/Pajarito/gSNvz/src/algorithms.jl:441\n",
      "┌ Warning: integer variable solution is not integral to tolerance tol_feas\n",
      "└ @ Pajarito /Users/tomokiokuno/.julia/packages/Pajarito/gSNvz/src/algorithms.jl:441\n",
      "┌ Warning: integer variable solution is not integral to tolerance tol_feas\n",
      "└ @ Pajarito /Users/tomokiokuno/.julia/packages/Pajarito/gSNvz/src/algorithms.jl:441\n",
      "┌ Warning: integer variable solution is not integral to tolerance tol_feas\n",
      "└ @ Pajarito /Users/tomokiokuno/.julia/packages/Pajarito/gSNvz/src/algorithms.jl:441\n",
      "┌ Warning: integer variable solution is not integral to tolerance tol_feas\n",
      "└ @ Pajarito /Users/tomokiokuno/.julia/packages/Pajarito/gSNvz/src/algorithms.jl:441\n",
      "┌ Warning: integer variable solution is not integral to tolerance tol_feas\n",
      "└ @ Pajarito /Users/tomokiokuno/.julia/packages/Pajarito/gSNvz/src/algorithms.jl:441\n",
      "┌ Warning: integer variable solution is not integral to tolerance tol_feas\n",
      "└ @ Pajarito /Users/tomokiokuno/.julia/packages/Pajarito/gSNvz/src/algorithms.jl:441\n",
      "┌ Warning: integer variable solution is not integral to tolerance tol_feas\n",
      "└ @ Pajarito /Users/tomokiokuno/.julia/packages/Pajarito/gSNvz/src/algorithms.jl:441\n",
      "┌ Warning: integer variable solution is not integral to tolerance tol_feas\n",
      "└ @ Pajarito /Users/tomokiokuno/.julia/packages/Pajarito/gSNvz/src/algorithms.jl:441\n",
      "┌ Warning: integer variable solution is not integral to tolerance tol_feas\n",
      "└ @ Pajarito /Users/tomokiokuno/.julia/packages/Pajarito/gSNvz/src/algorithms.jl:441\n",
      "┌ Warning: integer variable solution is not integral to tolerance tol_feas\n",
      "└ @ Pajarito /Users/tomokiokuno/.julia/packages/Pajarito/gSNvz/src/algorithms.jl:441\n",
      "┌ Warning: integer variable solution is not integral to tolerance tol_feas\n",
      "└ @ Pajarito /Users/tomokiokuno/.julia/packages/Pajarito/gSNvz/src/algorithms.jl:441\n",
      "┌ Warning: integer variable solution is not integral to tolerance tol_feas\n",
      "└ @ Pajarito /Users/tomokiokuno/.julia/packages/Pajarito/gSNvz/src/algorithms.jl:441\n",
      "┌ Warning: integer variable solution is not integral to tolerance tol_feas\n",
      "└ @ Pajarito /Users/tomokiokuno/.julia/packages/Pajarito/gSNvz/src/algorithms.jl:441\n",
      "┌ Warning: integer variable solution is not integral to tolerance tol_feas\n",
      "└ @ Pajarito /Users/tomokiokuno/.julia/packages/Pajarito/gSNvz/src/algorithms.jl:441\n",
      "┌ Warning: integer variable solution is not integral to tolerance tol_feas\n",
      "└ @ Pajarito /Users/tomokiokuno/.julia/packages/Pajarito/gSNvz/src/algorithms.jl:441\n",
      "┌ Warning: integer variable solution is not integral to tolerance tol_feas\n",
      "└ @ Pajarito /Users/tomokiokuno/.julia/packages/Pajarito/gSNvz/src/algorithms.jl:441\n",
      "┌ Warning: integer variable solution is not integral to tolerance tol_feas\n",
      "└ @ Pajarito /Users/tomokiokuno/.julia/packages/Pajarito/gSNvz/src/algorithms.jl:441\n",
      "┌ Warning: integer variable solution is not integral to tolerance tol_feas\n",
      "└ @ Pajarito /Users/tomokiokuno/.julia/packages/Pajarito/gSNvz/src/algorithms.jl:441\n",
      "┌ Warning: integer variable solution is not integral to tolerance tol_feas\n",
      "└ @ Pajarito /Users/tomokiokuno/.julia/packages/Pajarito/gSNvz/src/algorithms.jl:441\n",
      "┌ Warning: integer variable solution is not integral to tolerance tol_feas\n",
      "└ @ Pajarito /Users/tomokiokuno/.julia/packages/Pajarito/gSNvz/src/algorithms.jl:441\n",
      "┌ Warning: integer variable solution is not integral to tolerance tol_feas\n",
      "└ @ Pajarito /Users/tomokiokuno/.julia/packages/Pajarito/gSNvz/src/algorithms.jl:441\n",
      "┌ Warning: integer variable solution is not integral to tolerance tol_feas\n",
      "└ @ Pajarito /Users/tomokiokuno/.julia/packages/Pajarito/gSNvz/src/algorithms.jl:441\n",
      "┌ Warning: integer variable solution is not integral to tolerance tol_feas\n",
      "└ @ Pajarito /Users/tomokiokuno/.julia/packages/Pajarito/gSNvz/src/algorithms.jl:441\n",
      "┌ Warning: integer variable solution is not integral to tolerance tol_feas\n",
      "└ @ Pajarito /Users/tomokiokuno/.julia/packages/Pajarito/gSNvz/src/algorithms.jl:441\n",
      "┌ Warning: integer variable solution is not integral to tolerance tol_feas\n",
      "└ @ Pajarito /Users/tomokiokuno/.julia/packages/Pajarito/gSNvz/src/algorithms.jl:441\n",
      "┌ Warning: integer variable solution is not integral to tolerance tol_feas\n",
      "└ @ Pajarito /Users/tomokiokuno/.julia/packages/Pajarito/gSNvz/src/algorithms.jl:441\n",
      "┌ Warning: integer variable solution is not integral to tolerance tol_feas\n",
      "└ @ Pajarito /Users/tomokiokuno/.julia/packages/Pajarito/gSNvz/src/algorithms.jl:441\n",
      "┌ Warning: integer variable solution is not integral to tolerance tol_feas\n",
      "└ @ Pajarito /Users/tomokiokuno/.julia/packages/Pajarito/gSNvz/src/algorithms.jl:441\n",
      "┌ Warning: integer variable solution is not integral to tolerance tol_feas\n",
      "└ @ Pajarito /Users/tomokiokuno/.julia/packages/Pajarito/gSNvz/src/algorithms.jl:441\n",
      "┌ Warning: integer variable solution is not integral to tolerance tol_feas\n",
      "└ @ Pajarito /Users/tomokiokuno/.julia/packages/Pajarito/gSNvz/src/algorithms.jl:441\n",
      "┌ Warning: integer variable solution is not integral to tolerance tol_feas\n",
      "└ @ Pajarito /Users/tomokiokuno/.julia/packages/Pajarito/gSNvz/src/algorithms.jl:441\n",
      "┌ Warning: integer variable solution is not integral to tolerance tol_feas\n",
      "└ @ Pajarito /Users/tomokiokuno/.julia/packages/Pajarito/gSNvz/src/algorithms.jl:441\n",
      "┌ Warning: integer variable solution is not integral to tolerance tol_feas\n",
      "└ @ Pajarito /Users/tomokiokuno/.julia/packages/Pajarito/gSNvz/src/algorithms.jl:441\n",
      "┌ Warning: integer variable solution is not integral to tolerance tol_feas\n",
      "└ @ Pajarito /Users/tomokiokuno/.julia/packages/Pajarito/gSNvz/src/algorithms.jl:441\n",
      "┌ Warning: integer variable solution is not integral to tolerance tol_feas\n",
      "└ @ Pajarito /Users/tomokiokuno/.julia/packages/Pajarito/gSNvz/src/algorithms.jl:441\n",
      "┌ Warning: integer variable solution is not integral to tolerance tol_feas\n",
      "└ @ Pajarito /Users/tomokiokuno/.julia/packages/Pajarito/gSNvz/src/algorithms.jl:441\n",
      "┌ Warning: integer variable solution is not integral to tolerance tol_feas\n",
      "└ @ Pajarito /Users/tomokiokuno/.julia/packages/Pajarito/gSNvz/src/algorithms.jl:441\n",
      "┌ Warning: integer variable solution is not integral to tolerance tol_feas\n",
      "└ @ Pajarito /Users/tomokiokuno/.julia/packages/Pajarito/gSNvz/src/algorithms.jl:441\n",
      "┌ Warning: integer variable solution is not integral to tolerance tol_feas\n",
      "└ @ Pajarito /Users/tomokiokuno/.julia/packages/Pajarito/gSNvz/src/algorithms.jl:441\n",
      "┌ Warning: integer variable solution is not integral to tolerance tol_feas\n",
      "└ @ Pajarito /Users/tomokiokuno/.julia/packages/Pajarito/gSNvz/src/algorithms.jl:441\n",
      "┌ Warning: integer variable solution is not integral to tolerance tol_feas\n",
      "└ @ Pajarito /Users/tomokiokuno/.julia/packages/Pajarito/gSNvz/src/algorithms.jl:441\n",
      "┌ Warning: integer variable solution is not integral to tolerance tol_feas\n",
      "└ @ Pajarito /Users/tomokiokuno/.julia/packages/Pajarito/gSNvz/src/algorithms.jl:441\n",
      "┌ Warning: integer variable solution is not integral to tolerance tol_feas\n",
      "└ @ Pajarito /Users/tomokiokuno/.julia/packages/Pajarito/gSNvz/src/algorithms.jl:441\n",
      "┌ Warning: integer variable solution is not integral to tolerance tol_feas\n",
      "└ @ Pajarito /Users/tomokiokuno/.julia/packages/Pajarito/gSNvz/src/algorithms.jl:441\n",
      "┌ Warning: integer variable solution is not integral to tolerance tol_feas\n",
      "└ @ Pajarito /Users/tomokiokuno/.julia/packages/Pajarito/gSNvz/src/algorithms.jl:441\n",
      "┌ Warning: integer variable solution is not integral to tolerance tol_feas\n",
      "└ @ Pajarito /Users/tomokiokuno/.julia/packages/Pajarito/gSNvz/src/algorithms.jl:441\n",
      "┌ Warning: integer variable solution is not integral to tolerance tol_feas\n",
      "└ @ Pajarito /Users/tomokiokuno/.julia/packages/Pajarito/gSNvz/src/algorithms.jl:441\n",
      "┌ Warning: integer variable solution is not integral to tolerance tol_feas\n",
      "└ @ Pajarito /Users/tomokiokuno/.julia/packages/Pajarito/gSNvz/src/algorithms.jl:441\n",
      "┌ Warning: integer variable solution is not integral to tolerance tol_feas\n",
      "└ @ Pajarito /Users/tomokiokuno/.julia/packages/Pajarito/gSNvz/src/algorithms.jl:441\n",
      "┌ Warning: integer variable solution is not integral to tolerance tol_feas\n",
      "└ @ Pajarito /Users/tomokiokuno/.julia/packages/Pajarito/gSNvz/src/algorithms.jl:441\n",
      "┌ Warning: integer variable solution is not integral to tolerance tol_feas\n",
      "└ @ Pajarito /Users/tomokiokuno/.julia/packages/Pajarito/gSNvz/src/algorithms.jl:441\n",
      "┌ Warning: integer variable solution is not integral to tolerance tol_feas\n",
      "└ @ Pajarito /Users/tomokiokuno/.julia/packages/Pajarito/gSNvz/src/algorithms.jl:441\n",
      "┌ Warning: integer variable solution is not integral to tolerance tol_feas\n",
      "└ @ Pajarito /Users/tomokiokuno/.julia/packages/Pajarito/gSNvz/src/algorithms.jl:441\n",
      "┌ Warning: integer variable solution is not integral to tolerance tol_feas\n",
      "└ @ Pajarito /Users/tomokiokuno/.julia/packages/Pajarito/gSNvz/src/algorithms.jl:441\n",
      "┌ Warning: integer variable solution is not integral to tolerance tol_feas\n",
      "└ @ Pajarito /Users/tomokiokuno/.julia/packages/Pajarito/gSNvz/src/algorithms.jl:441\n",
      "┌ Warning: integer variable solution is not integral to tolerance tol_feas\n",
      "└ @ Pajarito /Users/tomokiokuno/.julia/packages/Pajarito/gSNvz/src/algorithms.jl:441\n",
      "┌ Warning: integer variable solution is not integral to tolerance tol_feas\n",
      "└ @ Pajarito /Users/tomokiokuno/.julia/packages/Pajarito/gSNvz/src/algorithms.jl:441\n",
      "┌ Warning: integer variable solution is not integral to tolerance tol_feas\n",
      "└ @ Pajarito /Users/tomokiokuno/.julia/packages/Pajarito/gSNvz/src/algorithms.jl:441\n",
      "┌ Warning: integer variable solution is not integral to tolerance tol_feas\n",
      "└ @ Pajarito /Users/tomokiokuno/.julia/packages/Pajarito/gSNvz/src/algorithms.jl:441\n",
      "┌ Warning: integer variable solution is not integral to tolerance tol_feas\n",
      "└ @ Pajarito /Users/tomokiokuno/.julia/packages/Pajarito/gSNvz/src/algorithms.jl:441\n",
      "┌ Warning: integer variable solution is not integral to tolerance tol_feas\n",
      "└ @ Pajarito /Users/tomokiokuno/.julia/packages/Pajarito/gSNvz/src/algorithms.jl:441\n",
      "┌ Warning: integer variable solution is not integral to tolerance tol_feas\n",
      "└ @ Pajarito /Users/tomokiokuno/.julia/packages/Pajarito/gSNvz/src/algorithms.jl:441\n",
      "┌ Warning: integer variable solution is not integral to tolerance tol_feas\n",
      "└ @ Pajarito /Users/tomokiokuno/.julia/packages/Pajarito/gSNvz/src/algorithms.jl:441\n",
      "┌ Warning: integer variable solution is not integral to tolerance tol_feas\n",
      "└ @ Pajarito /Users/tomokiokuno/.julia/packages/Pajarito/gSNvz/src/algorithms.jl:441\n",
      "┌ Warning: integer variable solution is not integral to tolerance tol_feas\n",
      "└ @ Pajarito /Users/tomokiokuno/.julia/packages/Pajarito/gSNvz/src/algorithms.jl:441\n",
      "┌ Warning: integer variable solution is not integral to tolerance tol_feas\n",
      "└ @ Pajarito /Users/tomokiokuno/.julia/packages/Pajarito/gSNvz/src/algorithms.jl:441\n",
      "┌ Warning: integer variable solution is not integral to tolerance tol_feas\n",
      "└ @ Pajarito /Users/tomokiokuno/.julia/packages/Pajarito/gSNvz/src/algorithms.jl:441\n",
      "┌ Warning: integer variable solution is not integral to tolerance tol_feas\n",
      "└ @ Pajarito /Users/tomokiokuno/.julia/packages/Pajarito/gSNvz/src/algorithms.jl:441\n",
      "┌ Warning: integer variable solution is not integral to tolerance tol_feas\n",
      "└ @ Pajarito /Users/tomokiokuno/.julia/packages/Pajarito/gSNvz/src/algorithms.jl:441\n",
      "┌ Warning: integer variable solution is not integral to tolerance tol_feas\n",
      "└ @ Pajarito /Users/tomokiokuno/.julia/packages/Pajarito/gSNvz/src/algorithms.jl:441\n",
      "┌ Warning: integer variable solution is not integral to tolerance tol_feas\n",
      "└ @ Pajarito /Users/tomokiokuno/.julia/packages/Pajarito/gSNvz/src/algorithms.jl:441\n",
      "┌ Warning: integer variable solution is not integral to tolerance tol_feas\n",
      "└ @ Pajarito /Users/tomokiokuno/.julia/packages/Pajarito/gSNvz/src/algorithms.jl:441\n",
      "┌ Warning: integer variable solution is not integral to tolerance tol_feas\n",
      "└ @ Pajarito /Users/tomokiokuno/.julia/packages/Pajarito/gSNvz/src/algorithms.jl:441\n",
      "┌ Warning: integer variable solution is not integral to tolerance tol_feas\n",
      "└ @ Pajarito /Users/tomokiokuno/.julia/packages/Pajarito/gSNvz/src/algorithms.jl:441\n",
      "┌ Warning: integer variable solution is not integral to tolerance tol_feas\n",
      "└ @ Pajarito /Users/tomokiokuno/.julia/packages/Pajarito/gSNvz/src/algorithms.jl:441\n",
      "┌ Warning: integer variable solution is not integral to tolerance tol_feas\n",
      "└ @ Pajarito /Users/tomokiokuno/.julia/packages/Pajarito/gSNvz/src/algorithms.jl:441\n",
      "┌ Warning: integer variable solution is not integral to tolerance tol_feas\n",
      "└ @ Pajarito /Users/tomokiokuno/.julia/packages/Pajarito/gSNvz/src/algorithms.jl:441\n",
      "┌ Warning: integer variable solution is not integral to tolerance tol_feas\n",
      "└ @ Pajarito /Users/tomokiokuno/.julia/packages/Pajarito/gSNvz/src/algorithms.jl:441\n",
      "┌ Warning: integer variable solution is not integral to tolerance tol_feas\n",
      "└ @ Pajarito /Users/tomokiokuno/.julia/packages/Pajarito/gSNvz/src/algorithms.jl:441\n",
      "┌ Warning: integer variable solution is not integral to tolerance tol_feas\n",
      "└ @ Pajarito /Users/tomokiokuno/.julia/packages/Pajarito/gSNvz/src/algorithms.jl:441\n",
      "┌ Warning: integer variable solution is not integral to tolerance tol_feas\n",
      "└ @ Pajarito /Users/tomokiokuno/.julia/packages/Pajarito/gSNvz/src/algorithms.jl:441\n",
      "┌ Warning: integer variable solution is not integral to tolerance tol_feas\n",
      "└ @ Pajarito /Users/tomokiokuno/.julia/packages/Pajarito/gSNvz/src/algorithms.jl:441\n",
      "┌ Warning: integer variable solution is not integral to tolerance tol_feas\n",
      "└ @ Pajarito /Users/tomokiokuno/.julia/packages/Pajarito/gSNvz/src/algorithms.jl:441\n",
      "┌ Warning: integer variable solution is not integral to tolerance tol_feas\n",
      "└ @ Pajarito /Users/tomokiokuno/.julia/packages/Pajarito/gSNvz/src/algorithms.jl:441\n",
      "┌ Warning: integer variable solution is not integral to tolerance tol_feas\n",
      "└ @ Pajarito /Users/tomokiokuno/.julia/packages/Pajarito/gSNvz/src/algorithms.jl:441\n",
      "┌ Warning: integer variable solution is not integral to tolerance tol_feas\n",
      "└ @ Pajarito /Users/tomokiokuno/.julia/packages/Pajarito/gSNvz/src/algorithms.jl:441\n",
      "┌ Warning: integer variable solution is not integral to tolerance tol_feas\n",
      "└ @ Pajarito /Users/tomokiokuno/.julia/packages/Pajarito/gSNvz/src/algorithms.jl:441\n",
      "┌ Warning: integer variable solution is not integral to tolerance tol_feas\n",
      "└ @ Pajarito /Users/tomokiokuno/.julia/packages/Pajarito/gSNvz/src/algorithms.jl:441\n",
      "┌ Warning: integer variable solution is not integral to tolerance tol_feas\n",
      "└ @ Pajarito /Users/tomokiokuno/.julia/packages/Pajarito/gSNvz/src/algorithms.jl:441\n",
      "┌ Warning: integer variable solution is not integral to tolerance tol_feas\n",
      "└ @ Pajarito /Users/tomokiokuno/.julia/packages/Pajarito/gSNvz/src/algorithms.jl:441\n",
      "┌ Warning: integer variable solution is not integral to tolerance tol_feas\n",
      "└ @ Pajarito /Users/tomokiokuno/.julia/packages/Pajarito/gSNvz/src/algorithms.jl:441\n",
      "┌ Warning: integer variable solution is not integral to tolerance tol_feas\n",
      "└ @ Pajarito /Users/tomokiokuno/.julia/packages/Pajarito/gSNvz/src/algorithms.jl:441\n",
      "┌ Warning: integer variable solution is not integral to tolerance tol_feas\n",
      "└ @ Pajarito /Users/tomokiokuno/.julia/packages/Pajarito/gSNvz/src/algorithms.jl:441\n"
     ]
    },
    {
     "name": "stdout",
     "output_type": "stream",
     "text": [
      " 12.001252 seconds (3.60 M allocations: 173.587 MiB, 0.29% gc time, 0.00% compilation time)\n"
     ]
    }
   ],
   "source": [
    "# define the objective\n",
    "@objective(model, Min, t)\n",
    "\n",
    "# solve the problem\n",
    "set_attribute(model, \"time_limit\", 60)\n",
    "@time optimize!(model)"
   ]
  },
  {
   "cell_type": "code",
   "execution_count": 30,
   "metadata": {},
   "outputs": [
    {
     "name": "stdout",
     "output_type": "stream",
     "text": [
      "Obj = 13.011\n",
      "n = [22.0, 22.0, 10.0, 4.0, 5.0, 6.0, 3.0, 9.0, 4.0, 7.0, 8.0]\n"
     ]
    },
    {
     "data": {
      "text/plain": [
       "true"
      ]
     },
     "metadata": {},
     "output_type": "display_data"
    }
   ],
   "source": [
    "# Check the status, optimal value\n",
    "if termination_status(model) == MOI.OPTIMAL\n",
    "    E_opt_n = value.(n)\n",
    "    # E_opt_obj = round(objective_value(model), digits = 3)\n",
    "    E_opt_obj = 1 / eigmin(transpose(C) * Diagonal(E_opt_n) * C / 100)\n",
    "    E_opt_obj = round(E_opt_obj, digits = 3)\n",
    "    println(\"Obj = \", E_opt_obj)\n",
    "    println(\"n = \", E_opt_n)\n",
    "else\n",
    "    println(\"The problem did not solve to optimality.\")\n",
    "end\n",
    "# check constraint satisfication\n",
    "sum(E_opt_n) == 100"
   ]
  },
  {
   "cell_type": "markdown",
   "metadata": {},
   "source": [
    "**$A$-optimal design**\n",
    "\n",
    "Minimizing $\\text{tr}(\\mathbf V)$ is equivalent to minimizing $\\text{tr}(\\mathbf{X})$ with a new constraint\n",
    "$$\n",
    "\\begin{aligned}\n",
    "    \\begin{bmatrix}\n",
    "    \\mathbf{X} & \\mathbf{I}\\\\\n",
    "    \\mathbf{I} & \\mathbf{V}^{-1}\n",
    "    \\end{bmatrix}\n",
    "\\succeq\\mathbf{O}\n",
    "\\quad\\Longleftrightarrow\\quad\n",
    "\\mathbf{X}\\succeq\\mathbf{O} \\quad\\text{and}\\quad\n",
    "\\mathbf{X} - \\mathbf{V} \\succeq \\mathbf{O}\n",
    "\\end{aligned}\n",
    "$$\n",
    "and $\\mathbf{X}\\succeq\\mathbf{V} \\Longrightarrow \\text{tr}(\\mathbf{X}) \\ge \\text{tr}(\\mathbf{V})$."
   ]
  },
  {
   "cell_type": "code",
   "execution_count": 31,
   "metadata": {},
   "outputs": [],
   "source": [
    "unregister(model, :n)\n",
    "unregister(model, :V⁻¹)\n",
    "unregister(model, :t)\n",
    "unregister(model, :X)\n",
    "\n",
    "# Define the variables\n",
    "@variable(model, n[1:m], Int)\n",
    "C = Matrix{Float64}(C)\n",
    "q = size(C, 2) # 6\n",
    "@expression(model, V⁻¹[i=1:q, j=1:q], sum(C[k, i] * C[k, j] * n[k] for k in 1:m))\n",
    "# @variable(model, V⁻¹[1:q, 1:q])\n",
    "\n",
    "# Introduce variable X\n",
    "@variable(model, X[1:q, 1:q]);\n"
   ]
  },
  {
   "cell_type": "code",
   "execution_count": 32,
   "metadata": {},
   "outputs": [
    {
     "name": "stderr",
     "output_type": "stream",
     "text": [
      "┌ Warning: continuous subproblem status SLOW_PROGRESS is not handled\n",
      "└ @ Pajarito /Users/tomokiokuno/.julia/packages/Pajarito/gSNvz/src/algorithms.jl:396\n",
      "┌ Warning: continuous subproblem status SLOW_PROGRESS is not handled\n",
      "└ @ Pajarito /Users/tomokiokuno/.julia/packages/Pajarito/gSNvz/src/algorithms.jl:396\n",
      "┌ Warning: continuous subproblem status SLOW_PROGRESS is not handled\n",
      "└ @ Pajarito /Users/tomokiokuno/.julia/packages/Pajarito/gSNvz/src/algorithms.jl:396\n",
      "┌ Warning: continuous subproblem status SLOW_PROGRESS is not handled\n",
      "└ @ Pajarito /Users/tomokiokuno/.julia/packages/Pajarito/gSNvz/src/algorithms.jl:396\n",
      "┌ Warning: continuous subproblem status SLOW_PROGRESS is not handled\n",
      "└ @ Pajarito /Users/tomokiokuno/.julia/packages/Pajarito/gSNvz/src/algorithms.jl:396\n",
      "┌ Warning: continuous subproblem status SLOW_PROGRESS is not handled\n",
      "└ @ Pajarito /Users/tomokiokuno/.julia/packages/Pajarito/gSNvz/src/algorithms.jl:396\n",
      "┌ Warning: integer variable solution is not integral to tolerance tol_feas\n",
      "└ @ Pajarito /Users/tomokiokuno/.julia/packages/Pajarito/gSNvz/src/algorithms.jl:441\n",
      "┌ Warning: continuous subproblem status SLOW_PROGRESS is not handled\n",
      "└ @ Pajarito /Users/tomokiokuno/.julia/packages/Pajarito/gSNvz/src/algorithms.jl:396\n",
      "┌ Warning: integer variable solution is not integral to tolerance tol_feas\n",
      "└ @ Pajarito /Users/tomokiokuno/.julia/packages/Pajarito/gSNvz/src/algorithms.jl:441\n",
      "┌ Warning: continuous subproblem status SLOW_PROGRESS is not handled\n",
      "└ @ Pajarito /Users/tomokiokuno/.julia/packages/Pajarito/gSNvz/src/algorithms.jl:396\n",
      "┌ Warning: continuous subproblem status SLOW_PROGRESS is not handled\n",
      "└ @ Pajarito /Users/tomokiokuno/.julia/packages/Pajarito/gSNvz/src/algorithms.jl:396\n",
      "┌ Warning: continuous subproblem status SLOW_PROGRESS is not handled\n",
      "└ @ Pajarito /Users/tomokiokuno/.julia/packages/Pajarito/gSNvz/src/algorithms.jl:396\n",
      "┌ Warning: continuous subproblem status SLOW_PROGRESS is not handled\n",
      "└ @ Pajarito /Users/tomokiokuno/.julia/packages/Pajarito/gSNvz/src/algorithms.jl:396\n",
      "┌ Warning: continuous subproblem status SLOW_PROGRESS is not handled\n",
      "└ @ Pajarito /Users/tomokiokuno/.julia/packages/Pajarito/gSNvz/src/algorithms.jl:396\n"
     ]
    },
    {
     "name": "stdout",
     "output_type": "stream",
     "text": [
      "new incumbent\n",
      "norm of dual is 1.0841370312115747e11\n",
      "norm of dual is 1.0841370312115799e11\n",
      "norm of dual is 1.0841370312115752e11\n",
      "norm of dual is 1.0841370312115706e11\n",
      "norm of dual is 1.0841370312115723e11\n",
      "norm of dual is 3.120561179943814e11\n"
     ]
    },
    {
     "name": "stderr",
     "output_type": "stream",
     "text": [
      "┌ Warning: continuous subproblem status SLOW_PROGRESS is not handled\n",
      "└ @ Pajarito /Users/tomokiokuno/.julia/packages/Pajarito/gSNvz/src/algorithms.jl:396\n"
     ]
    },
    {
     "name": "stdout",
     "output_type": "stream",
     "text": [
      "norm of dual is 5.373057707927086e12\n",
      "new incumbent\n"
     ]
    },
    {
     "name": "stderr",
     "output_type": "stream",
     "text": [
      "┌ Warning: continuous subproblem status SLOW_PROGRESS is not handled\n",
      "└ @ Pajarito /Users/tomokiokuno/.julia/packages/Pajarito/gSNvz/src/algorithms.jl:396\n",
      "┌ Warning: continuous subproblem status SLOW_PROGRESS is not handled\n",
      "└ @ Pajarito /Users/tomokiokuno/.julia/packages/Pajarito/gSNvz/src/algorithms.jl:396\n",
      "┌ Warning: continuous subproblem status SLOW_PROGRESS is not handled\n",
      "└ @ Pajarito /Users/tomokiokuno/.julia/packages/Pajarito/gSNvz/src/algorithms.jl:396\n",
      "┌ Warning: integer variable solution is not integral to tolerance tol_feas\n",
      "└ @ Pajarito /Users/tomokiokuno/.julia/packages/Pajarito/gSNvz/src/algorithms.jl:441\n",
      "┌ Warning: continuous subproblem status SLOW_PROGRESS is not handled\n",
      "└ @ Pajarito /Users/tomokiokuno/.julia/packages/Pajarito/gSNvz/src/algorithms.jl:396\n",
      "┌ Warning: integer variable solution is not integral to tolerance tol_feas\n",
      "└ @ Pajarito /Users/tomokiokuno/.julia/packages/Pajarito/gSNvz/src/algorithms.jl:441\n",
      "┌ Warning: continuous subproblem status SLOW_PROGRESS is not handled\n",
      "└ @ Pajarito /Users/tomokiokuno/.julia/packages/Pajarito/gSNvz/src/algorithms.jl:396\n"
     ]
    },
    {
     "name": "stdout",
     "output_type": "stream",
     "text": [
      "new incumbent\n",
      "new incumbent\n"
     ]
    },
    {
     "name": "stderr",
     "output_type": "stream",
     "text": [
      "┌ Warning: continuous subproblem status SLOW_PROGRESS is not handled\n",
      "└ @ Pajarito /Users/tomokiokuno/.julia/packages/Pajarito/gSNvz/src/algorithms.jl:396\n",
      "┌ Warning: continuous subproblem status SLOW_PROGRESS is not handled\n",
      "└ @ Pajarito /Users/tomokiokuno/.julia/packages/Pajarito/gSNvz/src/algorithms.jl:396\n"
     ]
    },
    {
     "name": "stdout",
     "output_type": "stream",
     "text": [
      "  8.498785 seconds (2.09 M allocations: 94.624 MiB, 0.03% compilation time)\n"
     ]
    }
   ],
   "source": [
    "# Set common constraint\n",
    "@constraint(model, n .>= 0)\n",
    "@constraint(model, sum(n) == 100)\n",
    "\n",
    "# Add the new constraint\n",
    "@constraint(model, [X I; I V⁻¹] in PSDCone())\n",
    "\n",
    "# Solve the problem\n",
    "@objective(model, Min, tr(X))\n",
    "set_attribute(model, \"time_limit\", 60)\n",
    "@time optimize!(model)"
   ]
  },
  {
   "cell_type": "code",
   "execution_count": 33,
   "metadata": {},
   "outputs": [
    {
     "name": "stdout",
     "output_type": "stream",
     "text": [
      "Obj = 38.946\n",
      "n = [20.0, 10.0, 10.0, 9.0, 5.0, 7.0, 9.0, 5.0, 7.0, 10.0, 8.0]\n"
     ]
    },
    {
     "data": {
      "text/plain": [
       "true"
      ]
     },
     "metadata": {},
     "output_type": "display_data"
    }
   ],
   "source": [
    "# Check the status, optimal value\n",
    "if termination_status(model) == MOI.OPTIMAL\n",
    "    A_opt_n = value.(n)\n",
    "    # D_opt_obj = round(objective_value(model), digits = 3)\n",
    "    A_opt_obj = tr(inv(transpose(C) * Diagonal(A_opt_n) * C / 100))\n",
    "    A_opt_obj = round(A_opt_obj, digits = 3)\n",
    "    println(\"Obj = \", A_opt_obj)\n",
    "    println(\"n = \", A_opt_n)\n",
    "else\n",
    "    println(\"The problem did not solve to optimality.\")\n",
    "end\n",
    "# Check constraint satisfication\n",
    "sum(A_opt_n) == 100"
   ]
  },
  {
   "cell_type": "markdown",
   "metadata": {},
   "source": [
    "Finally, we create a table."
   ]
  },
  {
   "cell_type": "code",
   "execution_count": 34,
   "metadata": {
    "scrolled": false
   },
   "outputs": [
    {
     "name": "stdout",
     "output_type": "stream",
     "text": [
      "Exact Optimal Design\n"
     ]
    },
    {
     "data": {
      "text/html": [
       "<div><div style = \"float: left;\"><span>12×4 DataFrame</span></div><div style = \"clear: both;\"></div></div><div class = \"data-frame\" style = \"overflow-x: scroll;\"><table class = \"data-frame\" style = \"margin-bottom: 6px;\"><thead><tr class = \"header\"><th class = \"rowNumber\" style = \"font-weight: bold; text-align: right;\">Row</th><th style = \"text-align: left;\">design_pt</th><th style = \"text-align: left;\">D_opt</th><th style = \"text-align: left;\">E_opt</th><th style = \"text-align: left;\">A_opt</th></tr><tr class = \"subheader headerLastRow\"><th class = \"rowNumber\" style = \"font-weight: bold; text-align: right;\"></th><th title = \"String\" style = \"text-align: left;\">String</th><th title = \"Float64\" style = \"text-align: left;\">Float64</th><th title = \"Float64\" style = \"text-align: left;\">Float64</th><th title = \"Float64\" style = \"text-align: left;\">Float64</th></tr></thead><tbody><tr><td class = \"rowNumber\" style = \"font-weight: bold; text-align: right;\">1</td><td style = \"text-align: left;\">A1B1</td><td style = \"text-align: right;\">8.0</td><td style = \"text-align: right;\">22.0</td><td style = \"text-align: right;\">20.0</td></tr><tr><td class = \"rowNumber\" style = \"font-weight: bold; text-align: right;\">2</td><td style = \"text-align: left;\">A2B1</td><td style = \"text-align: right;\">8.0</td><td style = \"text-align: right;\">22.0</td><td style = \"text-align: right;\">10.0</td></tr><tr><td class = \"rowNumber\" style = \"font-weight: bold; text-align: right;\">3</td><td style = \"text-align: left;\">A3B1</td><td style = \"text-align: right;\">10.0</td><td style = \"text-align: right;\">10.0</td><td style = \"text-align: right;\">10.0</td></tr><tr><td class = \"rowNumber\" style = \"font-weight: bold; text-align: right;\">4</td><td style = \"text-align: left;\">A1B2</td><td style = \"text-align: right;\">8.0</td><td style = \"text-align: right;\">4.0</td><td style = \"text-align: right;\">9.0</td></tr><tr><td class = \"rowNumber\" style = \"font-weight: bold; text-align: right;\">5</td><td style = \"text-align: left;\">A2B2</td><td style = \"text-align: right;\">8.0</td><td style = \"text-align: right;\">5.0</td><td style = \"text-align: right;\">5.0</td></tr><tr><td class = \"rowNumber\" style = \"font-weight: bold; text-align: right;\">6</td><td style = \"text-align: left;\">A3B2</td><td style = \"text-align: right;\">10.0</td><td style = \"text-align: right;\">6.0</td><td style = \"text-align: right;\">7.0</td></tr><tr><td class = \"rowNumber\" style = \"font-weight: bold; text-align: right;\">7</td><td style = \"text-align: left;\">A1B3</td><td style = \"text-align: right;\">8.0</td><td style = \"text-align: right;\">3.0</td><td style = \"text-align: right;\">9.0</td></tr><tr><td class = \"rowNumber\" style = \"font-weight: bold; text-align: right;\">8</td><td style = \"text-align: left;\">A2B3</td><td style = \"text-align: right;\">8.0</td><td style = \"text-align: right;\">9.0</td><td style = \"text-align: right;\">5.0</td></tr><tr><td class = \"rowNumber\" style = \"font-weight: bold; text-align: right;\">9</td><td style = \"text-align: left;\">A3B3</td><td style = \"text-align: right;\">10.0</td><td style = \"text-align: right;\">4.0</td><td style = \"text-align: right;\">7.0</td></tr><tr><td class = \"rowNumber\" style = \"font-weight: bold; text-align: right;\">10</td><td style = \"text-align: left;\">A1B4</td><td style = \"text-align: right;\">11.0</td><td style = \"text-align: right;\">7.0</td><td style = \"text-align: right;\">10.0</td></tr><tr><td class = \"rowNumber\" style = \"font-weight: bold; text-align: right;\">11</td><td style = \"text-align: left;\">A2B4</td><td style = \"text-align: right;\">11.0</td><td style = \"text-align: right;\">8.0</td><td style = \"text-align: right;\">8.0</td></tr><tr><td class = \"rowNumber\" style = \"font-weight: bold; text-align: right;\">12</td><td style = \"text-align: left;\">Obj</td><td style = \"text-align: right;\">8.988</td><td style = \"text-align: right;\">13.011</td><td style = \"text-align: right;\">38.946</td></tr></tbody></table></div>"
      ],
      "text/latex": [
       "\\begin{tabular}{r|cccc}\n",
       "\t& design\\_pt & D\\_opt & E\\_opt & A\\_opt\\\\\n",
       "\t\\hline\n",
       "\t& String & Float64 & Float64 & Float64\\\\\n",
       "\t\\hline\n",
       "\t1 & A1B1 & 8.0 & 22.0 & 20.0 \\\\\n",
       "\t2 & A2B1 & 8.0 & 22.0 & 10.0 \\\\\n",
       "\t3 & A3B1 & 10.0 & 10.0 & 10.0 \\\\\n",
       "\t4 & A1B2 & 8.0 & 4.0 & 9.0 \\\\\n",
       "\t5 & A2B2 & 8.0 & 5.0 & 5.0 \\\\\n",
       "\t6 & A3B2 & 10.0 & 6.0 & 7.0 \\\\\n",
       "\t7 & A1B3 & 8.0 & 3.0 & 9.0 \\\\\n",
       "\t8 & A2B3 & 8.0 & 9.0 & 5.0 \\\\\n",
       "\t9 & A3B3 & 10.0 & 4.0 & 7.0 \\\\\n",
       "\t10 & A1B4 & 11.0 & 7.0 & 10.0 \\\\\n",
       "\t11 & A2B4 & 11.0 & 8.0 & 8.0 \\\\\n",
       "\t12 & Obj & 8.988 & 13.011 & 38.946 \\\\\n",
       "\\end{tabular}\n"
      ],
      "text/plain": [
       "\u001b[1m12×4 DataFrame\u001b[0m\n",
       "\u001b[1m Row \u001b[0m│\u001b[1m design_pt \u001b[0m\u001b[1m D_opt   \u001b[0m\u001b[1m E_opt   \u001b[0m\u001b[1m A_opt   \u001b[0m\n",
       "     │\u001b[90m String    \u001b[0m\u001b[90m Float64 \u001b[0m\u001b[90m Float64 \u001b[0m\u001b[90m Float64 \u001b[0m\n",
       "─────┼──────────────────────────────────────\n",
       "   1 │ A1B1         8.0     22.0     20.0\n",
       "   2 │ A2B1         8.0     22.0     10.0\n",
       "   3 │ A3B1        10.0     10.0     10.0\n",
       "   4 │ A1B2         8.0      4.0      9.0\n",
       "   5 │ A2B2         8.0      5.0      5.0\n",
       "   6 │ A3B2        10.0      6.0      7.0\n",
       "   7 │ A1B3         8.0      3.0      9.0\n",
       "   8 │ A2B3         8.0      9.0      5.0\n",
       "   9 │ A3B3        10.0      4.0      7.0\n",
       "  10 │ A1B4        11.0      7.0     10.0\n",
       "  11 │ A2B4        11.0      8.0      8.0\n",
       "  12 │ Obj          8.988   13.011   38.946"
      ]
     },
     "metadata": {},
     "output_type": "display_data"
    }
   ],
   "source": [
    "treatment = [\n",
    "    \"A1B1\", \"A2B1\", \"A3B1\",\n",
    "    \"A1B2\", \"A2B2\", \"A3B2\",\n",
    "    \"A1B3\", \"A2B3\", \"A3B3\",\n",
    "    \"A1B4\", \"A2B4\", \"Obj\"\n",
    "]\n",
    "\n",
    "println(\"Exact Optimal Design\")\n",
    "df_Q3 = DataFrame(\n",
    "    design_pt = treatment,\n",
    "    D_opt    = vcat(D_opt_n,  [D_opt_obj])[:],\n",
    "    E_opt   =  vcat(E_opt_n,  [E_opt_obj])[:],\n",
    "    A_opt    = vcat(A_opt_n,  [A_opt_obj])[:],\n",
    ")"
   ]
  },
  {
   "cell_type": "markdown",
   "metadata": {},
   "source": [
    "For the $E$-optimal design, the objective was the same as Hua's although the values of $\\mathbf{n}$ were not. "
   ]
  },
  {
   "cell_type": "markdown",
   "metadata": {},
   "source": [
    "## Q4 (30 bonus points) Optimal design with nuisance parameters\n",
    "\n",
    "Suppose the regression coefficients of linear model $\\boldsymbol{\\beta}$ is partitioned as $\\boldsymbol{\\beta} = (\\boldsymbol{\\beta}_0^T, \\boldsymbol{\\beta}_1^T)^T$, where $\\boldsymbol{\\beta}_0$ are nuisance parameters and $\\boldsymbol{\\beta}_1$ are parameters of primary interest. Given an approximate design $\\mathbf{p} = (p_1, \\ldots, p_m)$, let the information matrix be partitioned accordingly\n",
    "$$\n",
    "\\mathbf{I}(\\mathbf{p}) = \\sum_{i=1}^m p_i \\mathbf{x}_i \\mathbf{x}_i^T =  \\begin{pmatrix}\n",
    "\\mathbf{I}_{00} & \\mathbf{I}_{01} \\\\\n",
    "\\mathbf{I}_{10} & \\mathbf{I}_{11}\n",
    "\\end{pmatrix}.\n",
    "$$\n",
    "Then the information matrix for $\\boldsymbol{\\beta}_1$ adjusted for nuisance parameter $\\boldsymbol{\\beta}_0$ is\n",
    "$$\n",
    "\\mathbf{I}_{1 \\mid 0}(\\mathbf{p}) = \\mathbf{I}_{11} - \\mathbf{I}_{10} \\mathbf{I}_{00}^{-1} \\mathbf{I}_{01}.\n",
    "$$\n",
    "\n",
    "Revisiting the 3x4 factorial design problem in Q1, suppose the drug company only cares about the estimation of A treatment effects. Find the approximate D-, E-, and A-optimal designs."
   ]
  },
  {
   "cell_type": "markdown",
   "metadata": {},
   "source": [
    "**Solution**\n",
    "\n",
    "**$D$-optimal designs**\n",
    "\n",
    "Consider an additional constraint\n",
    "$$\n",
    "\\begin{aligned}\n",
    "\\mathbf{Y} = \n",
    "\\begin{bmatrix}\n",
    "    \\mathbf{I}_{00} & \\mathbf{I}_{01}\\\\\n",
    "    \\mathbf{I}_{10} & \\mathbf{I}_{11} - \\mathbf{X}\n",
    "\\end{bmatrix}\n",
    "\\succeq\\mathbf{O},\n",
    "\\end{aligned}\n",
    "$$\n",
    "or equivalently,\n",
    "$$\n",
    "\\begin{aligned}\n",
    "    \\mathbf{I}_{00} \\succeq\\mathbf{O} \\quad\\text{and}\\quad\n",
    "    (\\mathbf{I}_{11} - \\mathbf{X}) - \\mathbf{I}_{10}\\mathbf{I}_{00}^{-1}\\mathbf{I}_{01}\\succeq\\mathbf{O}\n",
    "\\end{aligned}\n",
    "$$\n",
    "The second one gives\n",
    "$$\n",
    "\\begin{aligned}\n",
    "    \\mathbf{I}_{11} - \\mathbf{I}_{10}\\mathbf{I}_{00}^{-1}\\mathbf{I}_{01}&\\succeq\\mathbf{X}\\\\\n",
    "    \\Rightarrow\n",
    "    (\\mathbf{I}_{11} - \\mathbf{I}_{10}\\mathbf{I}_{00}^{-1}\\mathbf{I}_{01})^{-1}&\\preceq\\mathbf{X}^{-1}\\\\\n",
    "    \\Rightarrow\n",
    "    \\text{logdet}\\left(\\mathbf{I}_{1 \\mid 0}(\\mathbf{p})^{-1}\\right)\n",
    "    &\\le\\text{logdet}(\\mathbf{X}^{-1})\\\\\n",
    "    \\Rightarrow\n",
    "    \\text{logdet}\\left(\\mathbf{I}_{1 \\mid 0}(\\mathbf{p})^{-1}\\right)\n",
    "    &\\le -\\text{logdet}(\\mathbf{X})\n",
    "\\end{aligned}\n",
    "$$\n",
    "since $\\log(x)$ is monotonically increasing and concave. Therefore, we can minimize $-\\text{logdet}(\\mathbf{X})$ instead of $\\text{logdet}\\left(\\mathbf{I}_{1 \\mid 0}(\\mathbf{p})^{-1}\\right)$."
   ]
  },
  {
   "cell_type": "code",
   "execution_count": 35,
   "metadata": {},
   "outputs": [
    {
     "data": {
      "text/plain": [
       "transpose (affine; real)\n",
       "└─ hcat (affine; real)\n",
       "   ├─ transpose (affine; positive)\n",
       "   │  └─ hcat (affine; positive)\n",
       "   │     ├─ …\n",
       "   │     └─ …\n",
       "   └─ transpose (affine; real)\n",
       "      └─ hcat (affine; real)\n",
       "         ├─ …\n",
       "         └─ …"
      ]
     },
     "metadata": {},
     "output_type": "display_data"
    }
   ],
   "source": [
    "C = Matrix{Float64}(C)\n",
    "V⁻¹ = transpose(C) * Diagonal(p) * C\n",
    "I00 = V⁻¹[[1,4,5,6], [1,4,5,6]]\n",
    "I01 = V⁻¹[[1,4,5,6], [2,3]]\n",
    "I11 = V⁻¹[[2,3], [2,3]]\n",
    "E = Matrix(I(2)) # 2 by 2 identity matrix\n",
    "X = Semidefinite(2)\n",
    "Y = [I00 I01; transpose(I01) I11 - X]"
   ]
  },
  {
   "cell_type": "code",
   "execution_count": 36,
   "metadata": {},
   "outputs": [
    {
     "name": "stdout",
     "output_type": "stream",
     "text": [
      "  1.488861 seconds (2.19 M allocations: 130.623 MiB, 2.48% gc time, 98.61% compilation time: 55% of which was recompilation)\n",
      "Obj = 3.296\n"
     ]
    },
    {
     "data": {
      "text/plain": [
       "12×1 Matrix{Float64}:\n",
       " 0.113\n",
       " 0.113\n",
       " 0.113\n",
       " 0.11\n",
       " 0.11\n",
       " 0.11\n",
       " 0.11\n",
       " 0.11\n",
       " 0.11\n",
       " 0.0\n",
       " 0.0\n",
       " 3.296"
      ]
     },
     "metadata": {},
     "output_type": "display_data"
    }
   ],
   "source": [
    "problem = minimize(-logdet(X))\n",
    "\n",
    "problem.constraints += p .>= 0\n",
    "problem.constraints += sum(p) == 1\n",
    "problem.constraints += Y in :SDP\n",
    "problem\n",
    "\n",
    "const MOI = MathOptInterface\n",
    "solver = Hypatia.Optimizer() # use SCS since Hypatia did not converge\n",
    "MOI.set(solver, MOI.RawOptimizerAttribute(\"verbose\"), 0)\n",
    "@time solve!(problem, solver)\n",
    "\n",
    "# Check optimal value and optimal solution\n",
    "D_opt_obj = round(problem.optval, digits = 3)\n",
    "D_opt_p = round.(p.value, digits = 3)\n",
    "println(\"Obj = \", D_opt_obj)\n",
    "vcat(D_opt_p, [D_opt_obj])"
   ]
  },
  {
   "cell_type": "markdown",
   "metadata": {},
   "source": [
    "**Solution**\n",
    "\n",
    "**$E$- and $A$-optimal designs**\n",
    "\n",
    "Consider a different constraint from $D$-optimal design:\n",
    "$$\n",
    "\\begin{aligned}\n",
    "\\mathbf{Z} = \n",
    "\\begin{bmatrix}\n",
    "    \\mathbf{I}_{00} & \\mathbf{I}_{01} & \\mathbf{O} \\\\\n",
    "    \\mathbf{I}_{10} & \\mathbf{I}_{11} & \\mathbf{I}_2 \\\\\n",
    "    \\mathbf{O}      & \\mathbf{I}_2 & \\mathbf{X}\n",
    "\\end{bmatrix}\n",
    "\\succeq\\mathbf{O},\n",
    "\\end{aligned}\n",
    "$$\n",
    "where $\\mathbf{I}_2$ is the 2 by 2 identity matrix. Then the following schur complement has to be PSD:\n",
    "$$\n",
    "\\begin{aligned}\n",
    "\\begin{bmatrix}\n",
    "    \\mathbf{I}_{11} & \\mathbf{I}_2 \\\\\n",
    "    \\mathbf{I}_2 & \\mathbf{X}\n",
    "\\end{bmatrix}\n",
    "- \\begin{bmatrix}\n",
    "    \\mathbf{I}_{10} \\\\ \\mathbf{O}\n",
    "\\end{bmatrix}\n",
    "\\mathbf{I}_{00}^{-1}\n",
    "\\begin{bmatrix}\n",
    "    \\mathbf{I}_{01} & \\mathbf{O}\n",
    "\\end{bmatrix}\n",
    "= \\begin{bmatrix}\n",
    "    \\mathbf{I}_{1 \\mid 0}(\\mathbf{p}) & \\mathbf{I}_2 \\\\\n",
    "    \\mathbf{I}_2 & \\mathbf{X}\n",
    "\\end{bmatrix}\n",
    "\\succeq\\mathbf{O}\n",
    "\\end{aligned}\n",
    "$$\n",
    "which holds if and only if $\\mathbf{X}\\succeq\\mathbf{O}$ and $\\mathbf{X}\\succeq\\mathbf{I}_{1 \\mid 0}(\\mathbf{p})^{-1}$. We want to minimize $\\mathbf{I}_{1 \\mid 0}(\\mathbf{p})^{-1}$ in terms of the three design.\n",
    "\n",
    "Set the problem with this constraint."
   ]
  },
  {
   "cell_type": "markdown",
   "metadata": {},
   "source": [
    "Importantly, $\\mathbf{X}\\succeq\\mathbf{I}_{1 \\mid 0}(\\mathbf{p})^{-1}$ leads to\n",
    "$$\n",
    "\\begin{equation*}\n",
    "\\begin{split}\n",
    "    \\lambda_{\\text{max}}(\\mathbf{X}) &\\ge \\lambda_{\\text{max}}\\left(\\mathbf{I}_{1 \\mid 0}(\\mathbf{p})^{-1}\\right) \\\\\n",
    "    \\text{tr}(\\mathbf{X}) &\\ge \\text{tr}\\left(\\mathbf{I}_{1 \\mid 0}(\\mathbf{p})^{-1}\\right)\n",
    "\\end{split}\n",
    "\\end{equation*}\n",
    "$$\n",
    "meanig that we can consider minimizing $\\mathbf X$ instead of $\\mathbf{I}_{1 \\mid 0}(\\mathbf{p})^{-1}$ by choosing the maximum eigenvalue or taking the trace.\n",
    "\n",
    "\n",
    "Set this constraint."
   ]
  },
  {
   "cell_type": "code",
   "execution_count": 37,
   "metadata": {},
   "outputs": [
    {
     "data": {
      "text/plain": [
       "transpose (affine; real)\n",
       "└─ hcat (affine; real)\n",
       "   ├─ transpose (affine; positive)\n",
       "   │  └─ hcat (affine; positive)\n",
       "   │     ├─ …\n",
       "   │     ├─ …\n",
       "   │     └─ …\n",
       "   ├─ transpose (affine; positive)\n",
       "   │  └─ hcat (affine; positive)\n",
       "   │     ├─ …\n",
       "   │     ├─ …\n",
       "   │     └─ …\n",
       "   └─ transpose (affine; real)\n",
       "      └─ hcat (affine; real)\n",
       "         ├─ …\n",
       "         ├─ …\n",
       "         └─ …"
      ]
     },
     "metadata": {},
     "output_type": "display_data"
    }
   ],
   "source": [
    "Z = [I00 I01 zeros(4, 2); \n",
    "     transpose(I01) I11 E; # E is the 2 by 2 identity\n",
    "     zeros(2, 4) E X]"
   ]
  },
  {
   "cell_type": "markdown",
   "metadata": {},
   "source": [
    "**$E$-optimal design**"
   ]
  },
  {
   "cell_type": "code",
   "execution_count": 38,
   "metadata": {},
   "outputs": [
    {
     "name": "stdout",
     "output_type": "stream",
     "text": [
      "  0.788884 seconds (996.45 k allocations: 66.432 MiB, 98.44% compilation time: 16% of which was recompilation)\n",
      "Obj = 8.0\n"
     ]
    },
    {
     "data": {
      "text/plain": [
       "12×1 Matrix{Float64}:\n",
       " 0.141\n",
       " 0.057\n",
       " 0.084\n",
       " 0.14\n",
       " 0.057\n",
       " 0.083\n",
       " 0.14\n",
       " 0.057\n",
       " 0.083\n",
       " 0.08\n",
       " 0.08\n",
       " 8.0"
      ]
     },
     "metadata": {},
     "output_type": "display_data"
    }
   ],
   "source": [
    "problem = minimize(eigmax(X))\n",
    "\n",
    "problem.constraints += p .>= 0 # not needed using Positive()\n",
    "problem.constraints += sum(p) == 1\n",
    "# problem.constraints += V⁻¹ in :SDP\n",
    "problem.constraints += Z in :SDP\n",
    "problem\n",
    "\n",
    "const MOI = MathOptInterface\n",
    "solver = Hypatia.Optimizer()\n",
    "MOI.set(solver, MOI.RawOptimizerAttribute(\"verbose\"), 0)\n",
    "@time solve!(problem, solver)\n",
    "\n",
    "# Check optimal value and optimal solution\n",
    "E_opt_obj = round(problem.optval, digits = 3)\n",
    "E_opt_p = round.(p.value, digits = 3)\n",
    "println(\"Obj = \", E_opt_obj)\n",
    "vcat(E_opt_p, [E_opt_obj])"
   ]
  },
  {
   "cell_type": "markdown",
   "metadata": {},
   "source": [
    "**$A$-optimal design**"
   ]
  },
  {
   "cell_type": "code",
   "execution_count": 39,
   "metadata": {},
   "outputs": [
    {
     "name": "stdout",
     "output_type": "stream",
     "text": [
      "  0.020468 seconds (27.40 k allocations: 1.813 MiB, 56.32% compilation time)\n",
      "Obj = 11.657\n"
     ]
    },
    {
     "data": {
      "text/plain": [
       "12×1 Matrix{Float64}:\n",
       "  0.139\n",
       "  0.098\n",
       "  0.098\n",
       "  0.138\n",
       "  0.097\n",
       "  0.097\n",
       "  0.138\n",
       "  0.097\n",
       "  0.097\n",
       "  0.0\n",
       "  0.0\n",
       " 11.657"
      ]
     },
     "metadata": {},
     "output_type": "display_data"
    }
   ],
   "source": [
    "problem = minimize(tr(X))\n",
    "\n",
    "problem.constraints += p .>= 0 # not needed using Positive()\n",
    "problem.constraints += sum(p) == 1\n",
    "# problem.constraints += V⁻¹ in :SDP\n",
    "problem.constraints += Z in :SDP\n",
    "problem\n",
    "\n",
    "const MOI = MathOptInterface\n",
    "solver = Hypatia.Optimizer()\n",
    "MOI.set(solver, MOI.RawOptimizerAttribute(\"verbose\"), 0)\n",
    "@time solve!(problem, solver)\n",
    "\n",
    "# Check optimal value and optimal solution\n",
    "A_opt_obj = round(problem.optval, digits = 3)\n",
    "A_opt_p = round.(p.value, digits = 3)\n",
    "println(\"Obj = \", A_opt_obj)\n",
    "vcat(A_opt_p, [A_opt_obj])"
   ]
  },
  {
   "cell_type": "code",
   "execution_count": 40,
   "metadata": {},
   "outputs": [
    {
     "name": "stdout",
     "output_type": "stream",
     "text": [
      "Optimal design with nuisance parameters\n"
     ]
    },
    {
     "data": {
      "text/html": [
       "<div><div style = \"float: left;\"><span>12×4 DataFrame</span></div><div style = \"clear: both;\"></div></div><div class = \"data-frame\" style = \"overflow-x: scroll;\"><table class = \"data-frame\" style = \"margin-bottom: 6px;\"><thead><tr class = \"header\"><th class = \"rowNumber\" style = \"font-weight: bold; text-align: right;\">Row</th><th style = \"text-align: left;\">design_pt</th><th style = \"text-align: left;\">D_opt</th><th style = \"text-align: left;\">E_opt</th><th style = \"text-align: left;\">A_opt</th></tr><tr class = \"subheader headerLastRow\"><th class = \"rowNumber\" style = \"font-weight: bold; text-align: right;\"></th><th title = \"String\" style = \"text-align: left;\">String</th><th title = \"Float64\" style = \"text-align: left;\">Float64</th><th title = \"Float64\" style = \"text-align: left;\">Float64</th><th title = \"Float64\" style = \"text-align: left;\">Float64</th></tr></thead><tbody><tr><td class = \"rowNumber\" style = \"font-weight: bold; text-align: right;\">1</td><td style = \"text-align: left;\">A1B1</td><td style = \"text-align: right;\">0.113</td><td style = \"text-align: right;\">0.141</td><td style = \"text-align: right;\">0.139</td></tr><tr><td class = \"rowNumber\" style = \"font-weight: bold; text-align: right;\">2</td><td style = \"text-align: left;\">A2B1</td><td style = \"text-align: right;\">0.113</td><td style = \"text-align: right;\">0.057</td><td style = \"text-align: right;\">0.098</td></tr><tr><td class = \"rowNumber\" style = \"font-weight: bold; text-align: right;\">3</td><td style = \"text-align: left;\">A3B1</td><td style = \"text-align: right;\">0.113</td><td style = \"text-align: right;\">0.084</td><td style = \"text-align: right;\">0.098</td></tr><tr><td class = \"rowNumber\" style = \"font-weight: bold; text-align: right;\">4</td><td style = \"text-align: left;\">A1B2</td><td style = \"text-align: right;\">0.11</td><td style = \"text-align: right;\">0.14</td><td style = \"text-align: right;\">0.138</td></tr><tr><td class = \"rowNumber\" style = \"font-weight: bold; text-align: right;\">5</td><td style = \"text-align: left;\">A2B2</td><td style = \"text-align: right;\">0.11</td><td style = \"text-align: right;\">0.057</td><td style = \"text-align: right;\">0.097</td></tr><tr><td class = \"rowNumber\" style = \"font-weight: bold; text-align: right;\">6</td><td style = \"text-align: left;\">A3B2</td><td style = \"text-align: right;\">0.11</td><td style = \"text-align: right;\">0.083</td><td style = \"text-align: right;\">0.097</td></tr><tr><td class = \"rowNumber\" style = \"font-weight: bold; text-align: right;\">7</td><td style = \"text-align: left;\">A1B3</td><td style = \"text-align: right;\">0.11</td><td style = \"text-align: right;\">0.14</td><td style = \"text-align: right;\">0.138</td></tr><tr><td class = \"rowNumber\" style = \"font-weight: bold; text-align: right;\">8</td><td style = \"text-align: left;\">A2B3</td><td style = \"text-align: right;\">0.11</td><td style = \"text-align: right;\">0.057</td><td style = \"text-align: right;\">0.097</td></tr><tr><td class = \"rowNumber\" style = \"font-weight: bold; text-align: right;\">9</td><td style = \"text-align: left;\">A3B3</td><td style = \"text-align: right;\">0.11</td><td style = \"text-align: right;\">0.083</td><td style = \"text-align: right;\">0.097</td></tr><tr><td class = \"rowNumber\" style = \"font-weight: bold; text-align: right;\">10</td><td style = \"text-align: left;\">A1B4</td><td style = \"text-align: right;\">0.0</td><td style = \"text-align: right;\">0.08</td><td style = \"text-align: right;\">0.0</td></tr><tr><td class = \"rowNumber\" style = \"font-weight: bold; text-align: right;\">11</td><td style = \"text-align: left;\">A2B4</td><td style = \"text-align: right;\">0.0</td><td style = \"text-align: right;\">0.08</td><td style = \"text-align: right;\">0.0</td></tr><tr><td class = \"rowNumber\" style = \"font-weight: bold; text-align: right;\">12</td><td style = \"text-align: left;\">Obj</td><td style = \"text-align: right;\">3.296</td><td style = \"text-align: right;\">8.0</td><td style = \"text-align: right;\">11.657</td></tr></tbody></table></div>"
      ],
      "text/latex": [
       "\\begin{tabular}{r|cccc}\n",
       "\t& design\\_pt & D\\_opt & E\\_opt & A\\_opt\\\\\n",
       "\t\\hline\n",
       "\t& String & Float64 & Float64 & Float64\\\\\n",
       "\t\\hline\n",
       "\t1 & A1B1 & 0.113 & 0.141 & 0.139 \\\\\n",
       "\t2 & A2B1 & 0.113 & 0.057 & 0.098 \\\\\n",
       "\t3 & A3B1 & 0.113 & 0.084 & 0.098 \\\\\n",
       "\t4 & A1B2 & 0.11 & 0.14 & 0.138 \\\\\n",
       "\t5 & A2B2 & 0.11 & 0.057 & 0.097 \\\\\n",
       "\t6 & A3B2 & 0.11 & 0.083 & 0.097 \\\\\n",
       "\t7 & A1B3 & 0.11 & 0.14 & 0.138 \\\\\n",
       "\t8 & A2B3 & 0.11 & 0.057 & 0.097 \\\\\n",
       "\t9 & A3B3 & 0.11 & 0.083 & 0.097 \\\\\n",
       "\t10 & A1B4 & 0.0 & 0.08 & 0.0 \\\\\n",
       "\t11 & A2B4 & 0.0 & 0.08 & 0.0 \\\\\n",
       "\t12 & Obj & 3.296 & 8.0 & 11.657 \\\\\n",
       "\\end{tabular}\n"
      ],
      "text/plain": [
       "\u001b[1m12×4 DataFrame\u001b[0m\n",
       "\u001b[1m Row \u001b[0m│\u001b[1m design_pt \u001b[0m\u001b[1m D_opt   \u001b[0m\u001b[1m E_opt   \u001b[0m\u001b[1m A_opt   \u001b[0m\n",
       "     │\u001b[90m String    \u001b[0m\u001b[90m Float64 \u001b[0m\u001b[90m Float64 \u001b[0m\u001b[90m Float64 \u001b[0m\n",
       "─────┼──────────────────────────────────────\n",
       "   1 │ A1B1         0.113    0.141    0.139\n",
       "   2 │ A2B1         0.113    0.057    0.098\n",
       "   3 │ A3B1         0.113    0.084    0.098\n",
       "   4 │ A1B2         0.11     0.14     0.138\n",
       "   5 │ A2B2         0.11     0.057    0.097\n",
       "   6 │ A3B2         0.11     0.083    0.097\n",
       "   7 │ A1B3         0.11     0.14     0.138\n",
       "   8 │ A2B3         0.11     0.057    0.097\n",
       "   9 │ A3B3         0.11     0.083    0.097\n",
       "  10 │ A1B4         0.0      0.08     0.0\n",
       "  11 │ A2B4         0.0      0.08     0.0\n",
       "  12 │ Obj          3.296    8.0     11.657"
      ]
     },
     "metadata": {},
     "output_type": "display_data"
    }
   ],
   "source": [
    "println(\"Optimal design with nuisance parameters\")\n",
    "df_Q3 = DataFrame(\n",
    "    design_pt = treatment,\n",
    "    D_opt   = vcat(D_opt_p,  [D_opt_obj])[:],\n",
    "    E_opt   = vcat(E_opt_p,  [E_opt_obj])[:],\n",
    "    A_opt   = vcat(A_opt_p,  [A_opt_obj])[:],\n",
    ")"
   ]
  },
  {
   "cell_type": "markdown",
   "metadata": {},
   "source": [
    "These results seem comparable across the three designs."
   ]
  }
 ],
 "metadata": {
  "@webio": {
   "lastCommId": null,
   "lastKernelId": null
  },
  "jupytext": {
   "formats": "ipynb,qmd"
  },
  "kernelspec": {
   "display_name": "Julia 1.10.0",
   "language": "julia",
   "name": "julia-1.10"
  },
  "language_info": {
   "file_extension": ".jl",
   "mimetype": "application/julia",
   "name": "julia",
   "version": "1.10.0"
  },
  "toc": {
   "colors": {
    "hover_highlight": "#DAA520",
    "running_highlight": "#FF0000",
    "selected_highlight": "#FFD700"
   },
   "moveMenuLeft": true,
   "nav_menu": {
    "height": "87px",
    "width": "252px"
   },
   "navigate_menu": true,
   "number_sections": false,
   "sideBar": true,
   "skip_h1_title": true,
   "threshold": 4,
   "toc_cell": false,
   "toc_section_display": "block",
   "toc_window_display": true,
   "widenNotebook": false
  }
 },
 "nbformat": 4,
 "nbformat_minor": 4
}
