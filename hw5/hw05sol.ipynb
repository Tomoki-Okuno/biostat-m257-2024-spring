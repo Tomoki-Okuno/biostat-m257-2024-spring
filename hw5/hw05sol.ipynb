{
 "cells": [
  {
   "cell_type": "markdown",
   "metadata": {},
   "source": [
    "Biostat/Biomath M257 Homework 5\n",
    "\n",
    "Due May 24 @ 11:59PM\n",
    "\n",
    "Tomoki Okuno and 805851067"
   ]
  },
  {
   "cell_type": "markdown",
   "metadata": {},
   "source": [
    "System information (for reproducibility):"
   ]
  },
  {
   "cell_type": "code",
   "execution_count": 1,
   "metadata": {
    "tags": []
   },
   "outputs": [
    {
     "name": "stdout",
     "output_type": "stream",
     "text": [
      "Julia Version 1.10.2\n",
      "Commit bd47eca2c8a (2024-03-01 10:14 UTC)\n",
      "Build Info:\n",
      "  Official https://julialang.org/ release\n",
      "Platform Info:\n",
      "  OS: macOS (arm64-apple-darwin22.4.0)\n",
      "  CPU: 8 × Apple M1\n",
      "  WORD_SIZE: 64\n",
      "  LIBM: libopenlibm\n",
      "  LLVM: libLLVM-15.0.7 (ORCJIT, apple-m1)\n",
      "Threads: 1 default, 0 interactive, 1 GC (on 4 virtual cores)\n",
      "Environment:\n",
      "  JULIA_NUM_THREADS = \n"
     ]
    }
   ],
   "source": [
    "versioninfo()"
   ]
  },
  {
   "cell_type": "markdown",
   "metadata": {},
   "source": [
    "Load packages:"
   ]
  },
  {
   "cell_type": "code",
   "execution_count": 2,
   "metadata": {
    "tags": []
   },
   "outputs": [
    {
     "name": "stderr",
     "output_type": "stream",
     "text": [
      "\u001b[32m\u001b[1m  Activating\u001b[22m\u001b[39m project at `~/Documents/07_UCLA/Class/257/02_Homework/hw5`\n"
     ]
    },
    {
     "name": "stdout",
     "output_type": "stream",
     "text": [
      "\u001b[32m\u001b[1mStatus\u001b[22m\u001b[39m `~/Documents/07_UCLA/Class/257/02_Homework/hw5/Project.toml`\n",
      "  \u001b[90m[1e616198] \u001b[39mCOSMO v0.8.9\n",
      "  \u001b[90m[61c947e1] \u001b[39mClarabel v0.7.1\n",
      "  \u001b[90m[f65535da] \u001b[39mConvex v0.15.4\n",
      "  \u001b[90m[a93c6f00] \u001b[39mDataFrames v1.6.1\n",
      "  \u001b[90m[60bf3e95] \u001b[39mGLPK v1.2.1\n",
      "  \u001b[90m[2e9cd046] \u001b[39mGurobi v1.2.3\n",
      "  \u001b[90m[87dc4568] \u001b[39mHiGHS v1.9.0\n",
      "  \u001b[90m[b99e6be6] \u001b[39mHypatia v0.8.1\n",
      "  \u001b[90m[4076af6c] \u001b[39mJuMP v1.22.1\n",
      "  \u001b[90m[67920dd8] \u001b[39mKNITRO v0.14.2\n",
      "  \u001b[90m[b8f27783] \u001b[39mMathOptInterface v1.29.0\n",
      "  \u001b[90m[6405355b] \u001b[39mMosek v10.1.4\n",
      "  \u001b[90m[1ec41992] \u001b[39mMosekTools v0.15.1\n",
      "  \u001b[90m[2f354839] \u001b[39mPajarito v0.8.2\n",
      "  \u001b[90m[08abe8d2] \u001b[39mPrettyTables v2.3.1\n",
      "  \u001b[90m[c946c3f1] \u001b[39mSCS v2.0.0\n",
      "  \u001b[90m[3eaba693] \u001b[39mStatsModels v0.7.3\n"
     ]
    }
   ],
   "source": [
    "using Pkg\n",
    "\n",
    "Pkg.activate(pwd())\n",
    "Pkg.instantiate()\n",
    "Pkg.status()\n",
    "# Pkg.add(\"MathOptInterface\")\n",
    "# Pkg.add(\"Mosek\")"
   ]
  },
  {
   "cell_type": "markdown",
   "metadata": {},
   "source": [
    "In this exercise, we practice using disciplined convex programming (SDP in particular) to solve optimal design problems.\n",
    "\n",
    "## Introduction to optimal design\n",
    "\n",
    "Consider a linear model\n",
    "\\begin{aligned}\n",
    "\ty_i = \\mathbf{x}_i^T \\boldsymbol{\\beta} + \\epsilon_i, \\quad i = 1,\\ldots, n,\n",
    "\\end{aligned}\n",
    "where $\\epsilon_i$ are independent Gaussian noises with common variance $\\sigma^2$. It is well known that the least squares estimate $\\hat{\\boldsymbol{\\beta}}$ is unbiased and has covariance $\\sigma^2 (\\sum_{i=1}^n \\mathbf{x}_i \\mathbf{x}_i^T)^{-1}$. \n",
    "\n",
    "In **exact optimal design**, given total number of $n$ allowable experiments, we want to choose among a list of $m$ candidate design points $\\{\\mathbf{x}_1, \\ldots, \\mathbf{x}_m\\}$ such that the covariance matrix is minimized in some sense. In mathematical terms, we want to find an integer vector $\\mathbf{n} = (n_1, \\ldots, n_m)$ such that $n_i \\ge 0$, $\\sum_{i=1}^m n_i = n$, and the matrix $\\mathbf{V} = \\left( \\sum_{i=1}^m n_i \\mathbf{x}_i \\mathbf{x}_i^T \\right)^{-1}$ is \"small\".\n",
    "\n",
    "In **approximate optimal design**,  we want to find a probability vector $\\mathbf{p} = (p_1, \\ldots, p_m)$ such that $p_i \\ge 0$, $\\sum_{i=1}^m p_i = 1$, and the matrix $\\mathbf{V} = \\left( \\sum_{i=1}^m p_i \\mathbf{x}_i \\mathbf{x}_i^T \\right)^{-1}$ is \"small\".\n",
    "\n",
    "Commonly used optimal design criteria include:\n",
    "\n",
    "- In **$D$-optimal design**, we minimize the determinant of $\\mathbf{V}$\n",
    "\\begin{aligned}\n",
    "\t&\\text{minimize}& \\det \\left( \\sum_{i=1}^m p_i \\mathbf{x}_i \\mathbf{x}_i^T \\right)^{-1} \\\\\n",
    "\t&\\text{subject to}& p_i \\ge 0, \\sum_{i=1}^m p_i = 1.\n",
    "\\end{aligned}\n",
    "\n",
    "- In **$E$-optimal design**, we minimize the spectral norm, i.e., the maximum eigenvalue of $\\mathbf{V}$\n",
    "\\begin{aligned}\n",
    "\t&\\text{minimize}& \\lambda_{\\text{max}} \\left( \\sum_{i=1}^m p_i \\mathbf{x}_i \\mathbf{x}_i^T \\right)^{-1} \\\\\n",
    "\t&\\text{subject to}& p_i \\ge 0, \\sum_{i=1}^m p_i = 1.\t\n",
    "\\end{aligned}\n",
    "Statistically we are minimizing the maximum variance of $\\sum_{j=1}^p a_j \\text{var}(\\hat \\beta_j)$ over all vectors $\\mathbf{a}$ with unit norm.\n",
    "\n",
    "- In **$A$-optimal design**, we minimize the trace of $\\mathbf{V}$\n",
    "\\begin{aligned}\n",
    "\t&\\text{minimize}& \\text{tr} \\left( \\sum_{i=1}^m p_i \\mathbf{x}_i \\mathbf{x}_i^T \\right)^{-1} \\\\\n",
    "\t&\\text{subject to}& p_i \\ge 0, \\sum_{i=1}^m p_i = 1.\n",
    "\\end{aligned}\n",
    "Statistically we are minimizing the total variance $\\sum_{j=1}^p \\text{var}(\\hat \\beta_j)$.\n",
    "\n",
    "## Q1 (10 pts) 3x4 factorial design\n",
    "\n",
    "A drug company asks you to help design a two factor clinical trial, in which treatment A has three levels (A1, A2, and A3) and treatment B has four levels (B1, B2, B3, and B4). Drug company also tells you that the treatment combination A3:B4 has undesirable side effects so we ignore this design point. \n",
    "\n",
    "Using dummy coding with A1 and B1 as the baseline levels, find the matrix $\\mathbf{C}$ with each row a unique design point."
   ]
  },
  {
   "cell_type": "markdown",
   "metadata": {},
   "source": [
    "**Solution**\n",
    "\n",
    "$\\mathbf{C}$ has $6$ columns (intercept, A2, A3, B2, B3, B4) and $m = 3 \\times 4 - 1 = 11$ rows when ignoring A3:B4. The row order follows the sequence seen in Q2:\n",
    "$$\n",
    "\\begin{aligned}\n",
    "\\mathbf{C} = \n",
    "    \\begin{bmatrix}\n",
    "        \\mathbf{x}_1^T\\\\\n",
    "        \\mathbf{x}_2^T\\\\\n",
    "        \\mathbf{x}_3^T\\\\\n",
    "        \\mathbf{x}_4^T\\\\\n",
    "        \\mathbf{x}_5^T\\\\\n",
    "        \\mathbf{x}_6^T\\\\\n",
    "        \\mathbf{x}_7^T\\\\\n",
    "        \\mathbf{x}_8^T\\\\\n",
    "        \\mathbf{x}_9^T\\\\\n",
    "        \\mathbf{x}_{10}^T\\\\\n",
    "        \\mathbf{x}_{11}^T\n",
    "    \\end{bmatrix}\n",
    "    =\n",
    "    \\begin{bmatrix}\n",
    "        1 & 0 & 0 & 0 & 0 & 0 \\\\\n",
    "        1 & 1 & 0 & 0 & 0 & 0 \\\\\n",
    "        1 & 0 & 1 & 0 & 0 & 0 \\\\\n",
    "        1 & 0 & 0 & 1 & 0 & 0 \\\\\n",
    "        1 & 1 & 0 & 1 & 0 & 0 \\\\\n",
    "        1 & 0 & 1 & 1 & 0 & 0 \\\\\n",
    "        1 & 0 & 0 & 0 & 1 & 0 \\\\\n",
    "        1 & 1 & 0 & 0 & 1 & 0 \\\\\n",
    "        1 & 0 & 1 & 0 & 1 & 0 \\\\\n",
    "        1 & 0 & 0 & 0 & 0 & 1 \\\\\n",
    "        1 & 1 & 0 & 0 & 0 & 1\n",
    "    \\end{bmatrix}.\n",
    "\\end{aligned}\n",
    "$$\n",
    "Suppose $\\mathbf{W}$ is a diagonal matrix with positive entries of either $\\mathbf{n}$ or $\\mathbf{p}$, then we have\n",
    "$$\n",
    "\\mathbf{V} = \\left(\\mathbf{C}^T\\mathbf{W}\\mathbf{C}\\right)^{-1}\n",
    "\\Longleftrightarrow\n",
    "\\mathbf{V}^{-1} = \\mathbf{C}^T\\mathbf{W}\\mathbf{C} \\quad\\text{(information)}\n",
    "$$\n",
    "with constraint $\\mathbf{1}^T\\mathbf{n} = n$ or $\\mathbf{1}^T\\mathbf{p} = 1$.\n",
    "\n",
    "<!-- \\begin{array}{c|ccccc}\n",
    "    & \\text{Intercept} & \\text{A2} & \\text{A3} & \\text{B2} & \\text{B3} & \\text{B4} \\\\\n",
    "    \\hline\n",
    "    \\text{A1:B1} & 1 & 0 & 0 & 0 & 0 & 0 \\\\\n",
    "    \\text{A2:B1} & 1 & 1 & 0 & 0 & 0 & 0 \\\\\n",
    "    \\text{A3:B1} & 1 & 0 & 1 & 0 & 0 & 0 \\\\\n",
    "    \\text{A1:B2} & 1 & 0 & 0 & 1 & 0 & 0 \\\\\n",
    "    \\text{A2:B2} & 1 & 1 & 0 & 1 & 0 & 0 \\\\\n",
    "    \\text{A3:B2} & 1 & 0 & 1 & 1 & 0 & 0 \\\\\n",
    "    \\text{A1:B3} & 1 & 0 & 0 & 0 & 1 & 0 \\\\\n",
    "    \\text{A2:B3} & 1 & 1 & 0 & 0 & 1 & 0 \\\\\n",
    "    \\text{A3:B3} & 1 & 0 & 1 & 0 & 1 & 0 \\\\\n",
    "    \\text{A1:B4} & 1 & 0 & 0 & 0 & 0 & 1 \\\\\n",
    "    \\text{A2:B4} & 1 & 1 & 0 & 0 & 0 & 1\n",
    "\\end{array} -->"
   ]
  },
  {
   "cell_type": "code",
   "execution_count": 3,
   "metadata": {},
   "outputs": [
    {
     "data": {
      "text/plain": [
       "11×6 Matrix{Int64}:\n",
       " 1  0  0  0  0  0\n",
       " 1  1  0  0  0  0\n",
       " 1  0  1  0  0  0\n",
       " 1  0  0  1  0  0\n",
       " 1  1  0  1  0  0\n",
       " 1  0  1  1  0  0\n",
       " 1  0  0  0  1  0\n",
       " 1  1  0  0  1  0\n",
       " 1  0  1  0  1  0\n",
       " 1  0  0  0  0  1\n",
       " 1  1  0  0  0  1"
      ]
     },
     "metadata": {},
     "output_type": "display_data"
    }
   ],
   "source": [
    "C = [1 0 0 0 0 0;\n",
    "     1 1 0 0 0 0;\n",
    "     1 0 1 0 0 0;\n",
    "     1 0 0 1 0 0;\n",
    "     1 1 0 1 0 0;\n",
    "     1 0 1 1 0 0;\n",
    "     1 0 0 0 1 0;\n",
    "     1 1 0 0 1 0;\n",
    "     1 0 1 0 1 0;\n",
    "     1 0 0 0 0 1;\n",
    "     1 1 0 0 0 1]"
   ]
  },
  {
   "cell_type": "markdown",
   "metadata": {},
   "source": [
    "## Q2 (30 pts) Find approximate optimal designs\n",
    "\n",
    "Using semidefinite programming (SDP) software to find the approximate D-, E-, and A-optimal designs for this clinical trial.\n",
    "\n",
    "Hint: This is what I got (using Hypatia solver), which may or may not be correct.\n",
    "\n",
    "```\n",
    "Approximate Optimal Design\n",
    "┌───────────┬─────────┬─────────┬─────────┬─────────┬─────────┬─────────┐\n",
    "│ design_pt │   D_opt │   E_opt │   A_opt │ D_opt_n │ E_opt_n │ A_opt_n │\n",
    "│    String │ Float64 │ Float64 │ Float64 │ Float64 │ Float64 │ Float64 │\n",
    "├───────────┼─────────┼─────────┼─────────┼─────────┼─────────┼─────────┤\n",
    "│      A1B1 │   0.082 │   0.271 │   0.200 │   8.000 │  27.000 │  20.000 │\n",
    "│      A2B1 │   0.082 │   0.150 │   0.101 │   8.000 │  15.000 │  10.000 │\n",
    "│      A3B1 │   0.097 │   0.118 │   0.104 │  10.000 │  12.000 │  10.000 │\n",
    "│      A1B2 │   0.082 │   0.058 │   0.086 │   8.000 │   6.000 │   9.000 │\n",
    "│      A2B2 │   0.082 │   0.037 │   0.051 │   8.000 │   4.000 │   5.000 │\n",
    "│      A3B2 │   0.097 │   0.059 │   0.068 │  10.000 │   6.000 │   7.000 │\n",
    "│      A1B3 │   0.082 │   0.058 │   0.086 │   8.000 │   6.000 │   9.000 │\n",
    "│      A2B3 │   0.082 │   0.037 │   0.051 │   8.000 │   3.000 │   5.000 │\n",
    "│      A3B3 │   0.097 │   0.059 │   0.068 │  10.000 │   6.000 │   7.000 │\n",
    "│      A1B4 │   0.109 │   0.079 │   0.106 │  11.000 │   8.000 │  10.000 │\n",
    "│      A2B4 │   0.109 │   0.075 │   0.080 │  11.000 │   7.000 │   8.000 │\n",
    "│       Obj │   8.987 │  13.000 │  38.925 │   8.988 │  13.028 │  38.946 │\n",
    "└───────────┴─────────┴─────────┴─────────┴─────────┴─────────┴─────────┘\n",
    "```"
   ]
  },
  {
   "cell_type": "markdown",
   "metadata": {},
   "source": [
    "**Solution**\n",
    "\n",
    "**$D$-optimal design**:\n",
    "\n",
    "Since $\\det(\\mathbf{V}) = [\\det(\\mathbf{V^{-1}})]^{-1} = [\\det(\\mathbf{C}^T\\mathbf{W}\\mathbf{C})]^{-1}$ and $-\\log(x)$ is convex,\n",
    "$$\n",
    "\\begin{aligned}\n",
    "\t&\\text{minimize} \\quad \\det (\\mathbf{V})\\\\\n",
    "\t\\Longleftrightarrow\\quad\n",
    "\t&\\text{maximize} \\quad \\det(\\mathbf{C}^T\\mathbf{W}\\mathbf{C})\\\\\n",
    "\t\\Longleftrightarrow\\quad\n",
    "\t&\\text{maximize} \\quad \\det(\\mathbf{C}^T\\mathbf{W}\\mathbf{C})\\\\\n",
    "\t\\Longleftrightarrow\\quad\n",
    "\t&\\text{minimize} \\quad -\\text{logdet}\\left(\\mathbf{C}^T\\mathbf{W}\\mathbf{C}\\right).\n",
    "\\end{aligned}\n",
    "$$\n",
    "So, we don't need to calculate the inverse. I use `minimize` (instead of `maximize`) to obtain the same (or a similar) objective function as Dr. Zhou did. Also, I use the Hypatia solver as well."
   ]
  },
  {
   "cell_type": "code",
   "execution_count": 4,
   "metadata": {},
   "outputs": [],
   "source": [
    "using LinearAlgebra\n",
    "using Convex, Hypatia, MathOptInterface\n",
    "using JuMP, Pajarito, Gurobi, Mosek, MosekTools"
   ]
  },
  {
   "cell_type": "code",
   "execution_count": 5,
   "metadata": {},
   "outputs": [
    {
     "name": "stdout",
     "output_type": "stream",
     "text": [
      " 22.650425 seconds (44.61 M allocations: 3.019 GiB, 4.96% gc time, 99.83% compilation time: <1% of which was recompilation)\n",
      "Obj = 8.987\n"
     ]
    },
    {
     "data": {
      "text/plain": [
       "12×1 Matrix{Float64}:\n",
       " 0.082\n",
       " 0.082\n",
       " 0.097\n",
       " 0.082\n",
       " 0.082\n",
       " 0.097\n",
       " 0.082\n",
       " 0.082\n",
       " 0.097\n",
       " 0.109\n",
       " 0.109\n",
       " 8.987"
      ]
     },
     "metadata": {},
     "output_type": "display_data"
    }
   ],
   "source": [
    "m = size(C, 1) # 11\n",
    "p = Variable(m, Positive())\n",
    "V⁻¹ = transpose(C) * Diagonal(p) * C\n",
    "problem = minimize(-logdet(V⁻¹))\n",
    "problem.constraints += p .>= 0\n",
    "problem.constraints += sum(p) == 1\n",
    "problem\n",
    "\n",
    "const MOI = MathOptInterface\n",
    "solver = Hypatia.Optimizer()\n",
    "MOI.set(solver, MOI.RawOptimizerAttribute(\"verbose\"), 0)\n",
    "@time solve!(problem, solver)\n",
    "\n",
    "# Check optimal value and optimal solution\n",
    "D_opt_obj = round(problem.optval, digits = 3)\n",
    "D_opt_p = round.(p.value, digits = 3)\n",
    "println(\"Obj = \", D_opt_obj)\n",
    "\n",
    "# store p and obj for later use\n",
    "vcat(D_opt_p, [D_opt_obj])"
   ]
  },
  {
   "cell_type": "code",
   "execution_count": 6,
   "metadata": {},
   "outputs": [
    {
     "data": {
      "text/plain": [
       "true"
      ]
     },
     "metadata": {},
     "output_type": "display_data"
    }
   ],
   "source": [
    "# check constraint satisfication\n",
    "sum(p.value) ≈ 1.0"
   ]
  },
  {
   "cell_type": "markdown",
   "metadata": {},
   "source": [
    "Multiplying $\\mathbf p$ by 100 is not an effective way to convert $\\mathbf{p}$ to $\\mathbf{n}$ because it does not always result in $n=100$. Instead, use MISDP here as well as Q3."
   ]
  },
  {
   "cell_type": "code",
   "execution_count": 7,
   "metadata": {},
   "outputs": [
    {
     "data": {
      "text/plain": [
       "proj_integer_simplex (generic function with 1 method)"
      ]
     },
     "metadata": {},
     "output_type": "display_data"
    }
   ],
   "source": [
    "# define a function to project a vector to the integer simplex\n",
    "solver_misdp = \n",
    "    optimizer_with_attributes(\n",
    "        Pajarito.Optimizer,\n",
    "        MOI.Silent() => true,\n",
    "        \"oa_solver\" => optimizer_with_attributes(\n",
    "            Mosek.Optimizer,\n",
    "            MOI.Silent() => true\n",
    "        ),\n",
    "        \"conic_solver\" => optimizer_with_attributes(\n",
    "            Hypatia.Optimizer,\n",
    "            MOI.Silent() => true\n",
    "        )\n",
    "    )\n",
    "\n",
    "function proj_integer_simplex(\n",
    "    p      :: Vector{Float64},\n",
    "    ntotal :: Int;\n",
    "    solver = solver_misdp\n",
    ")\n",
    "    n = Convex.Variable(length(p), IntVar)\n",
    "    problem = minimize(norm(n - p))\n",
    "    problem.constraints += sum(n) == ntotal\n",
    "    solve!(problem, solver)\n",
    "    round.(n.value, digits = 0) |> vec\n",
    "end"
   ]
  },
  {
   "cell_type": "code",
   "execution_count": 8,
   "metadata": {},
   "outputs": [
    {
     "data": {
      "text/plain": [
       "11-element Vector{Float64}:\n",
       "  8.0\n",
       "  8.0\n",
       " 10.0\n",
       "  8.0\n",
       "  8.0\n",
       " 10.0\n",
       "  8.0\n",
       "  8.0\n",
       " 10.0\n",
       " 11.0\n",
       " 11.0"
      ]
     },
     "metadata": {},
     "output_type": "display_data"
    }
   ],
   "source": [
    "D_opt_n = proj_integer_simplex(100vec(p.value), 100)"
   ]
  },
  {
   "cell_type": "code",
   "execution_count": 9,
   "metadata": {},
   "outputs": [
    {
     "data": {
      "text/plain": [
       "true"
      ]
     },
     "metadata": {},
     "output_type": "display_data"
    }
   ],
   "source": [
    "# check constraint satisfication\n",
    "sum(D_opt_n) == 100"
   ]
  },
  {
   "cell_type": "code",
   "execution_count": 10,
   "metadata": {},
   "outputs": [
    {
     "data": {
      "text/plain": [
       "8.988"
      ]
     },
     "metadata": {},
     "output_type": "display_data"
    }
   ],
   "source": [
    "# calculate the corresponding obj\n",
    "D_opt_obj_n = -logdet(transpose(C) * Diagonal(vec(D_opt_n)/100) * C)\n",
    "D_opt_obj_n = round(D_opt_obj_n, digits = 3)"
   ]
  },
  {
   "cell_type": "markdown",
   "metadata": {},
   "source": [
    "**$E$-optimal design**\n",
    "\n",
    "It is important to note that the eigenvalue of the inverse of a matrix is the reciprocal of the eigenvalue of the original matrix.\n",
    "\n",
    "Use the equivalent objective function to avoid taking inverse as shown below:\n",
    "$$\n",
    "\\begin{aligned}\n",
    "\t&\\text{minimize} \\quad\\lambda_{\\text{max}}(\\mathbf{V})\\\\\n",
    "\t\\Longleftrightarrow\\quad\n",
    "\t&\\text{maximize} \\quad \\lambda_{\\text{min}}\\left(\\mathbf{C}^T\\mathbf{W}\\mathbf{C}\\right)\\\\\n",
    "\t\\Longleftrightarrow\\quad\n",
    "\t&\\text{minimize} \\quad 1/\\lambda_{\\text{min}}\\left(\\mathbf{C}^T\\mathbf{W}\\mathbf{C}\\right).\n",
    "\\end{aligned}\n",
    "$$\n",
    "Unfortunately, the two objective functions provide a little different $\\mathbf{p}$ with simialar objectives (after transformation)."
   ]
  },
  {
   "cell_type": "code",
   "execution_count": 11,
   "metadata": {},
   "outputs": [
    {
     "name": "stdout",
     "output_type": "stream",
     "text": [
      "  0.396039 seconds (537.45 k allocations: 35.442 MiB, 97.56% compilation time)\n",
      "Obj = 0.077\n"
     ]
    },
    {
     "data": {
      "text/plain": [
       "12×1 Matrix{Float64}:\n",
       " 0.266\n",
       " 0.158\n",
       " 0.114\n",
       " 0.055\n",
       " 0.042\n",
       " 0.057\n",
       " 0.055\n",
       " 0.042\n",
       " 0.057\n",
       " 0.08\n",
       " 0.074\n",
       " 0.077"
      ]
     },
     "metadata": {},
     "output_type": "display_data"
    }
   ],
   "source": [
    "## -------------------- 1st E-opt -------------------- ##\n",
    "problem = maximize(eigmin(V⁻¹))\n",
    "problem.constraints += p .>= 0\n",
    "problem.constraints += sum(p) == 1\n",
    "problem\n",
    "\n",
    "const MOI = MathOptInterface\n",
    "solver = Hypatia.Optimizer()\n",
    "MOI.set(solver, MOI.RawOptimizerAttribute(\"verbose\"), 0)\n",
    "@time solve!(problem, solver)\n",
    "\n",
    "# Check the status, optimal value\n",
    "E_opt1_obj = round(problem.optval, digits = 3)\n",
    "E_opt1_p = round.(p.value, digits = 3)\n",
    "println(\"Obj = \", E_opt1_obj)\n",
    "vcat(E_opt1_p, [E_opt1_obj])"
   ]
  },
  {
   "cell_type": "markdown",
   "metadata": {},
   "source": [
    "Note that $1/0.077 = 12.99 \\approx 13$, which is `obj` Hua obtained. I will show this transformed `Obj` in the table."
   ]
  },
  {
   "cell_type": "code",
   "execution_count": 12,
   "metadata": {},
   "outputs": [
    {
     "data": {
      "text/plain": [
       "true"
      ]
     },
     "metadata": {},
     "output_type": "display_data"
    }
   ],
   "source": [
    "sum(p.value) ≈ 1.0"
   ]
  },
  {
   "cell_type": "code",
   "execution_count": 13,
   "metadata": {},
   "outputs": [
    {
     "data": {
      "text/plain": [
       "11-element Vector{Float64}:\n",
       " 27.0\n",
       " 16.0\n",
       " 11.0\n",
       "  5.0\n",
       "  4.0\n",
       "  6.0\n",
       "  6.0\n",
       "  4.0\n",
       "  6.0\n",
       "  8.0\n",
       "  7.0"
      ]
     },
     "metadata": {},
     "output_type": "display_data"
    },
    {
     "data": {
      "text/plain": [
       "0.077"
      ]
     },
     "metadata": {},
     "output_type": "display_data"
    }
   ],
   "source": [
    "E_opt1_n = proj_integer_simplex(100vec(p.value), 100)\n",
    "display(E_opt1_n)\n",
    "E_opt1_obj_n = eigmin((transpose(C) * Diagonal(E_opt1_n / 100) * C))\n",
    "E_opt1_obj_n = round(E_opt1_obj_n, digits = 3)"
   ]
  },
  {
   "cell_type": "code",
   "execution_count": 14,
   "metadata": {},
   "outputs": [
    {
     "data": {
      "text/plain": [
       "true"
      ]
     },
     "metadata": {},
     "output_type": "display_data"
    }
   ],
   "source": [
    "sum(E_opt1_n) == 100"
   ]
  },
  {
   "cell_type": "code",
   "execution_count": 15,
   "metadata": {},
   "outputs": [
    {
     "name": "stdout",
     "output_type": "stream",
     "text": [
      "  1.701458 seconds (3.34 M allocations: 227.574 MiB, 3.73% gc time, 99.45% compilation time)\n",
      "Obj = 13.0\n"
     ]
    },
    {
     "data": {
      "text/plain": [
       "12×1 Matrix{Float64}:\n",
       "  0.258\n",
       "  0.162\n",
       "  0.118\n",
       "  0.054\n",
       "  0.041\n",
       "  0.059\n",
       "  0.054\n",
       "  0.041\n",
       "  0.059\n",
       "  0.074\n",
       "  0.08\n",
       " 13.0"
      ]
     },
     "metadata": {},
     "output_type": "display_data"
    }
   ],
   "source": [
    "## -------------------- 2nd E-opt -------------------- ##\n",
    "problem = minimize(1 / eigmin(V⁻¹))\n",
    "# problem.constraints += p .>= 0\n",
    "problem.constraints += sum(p) == 1\n",
    "problem\n",
    "\n",
    "const MOI = MathOptInterface\n",
    "solver = Hypatia.Optimizer()\n",
    "MOI.set(solver, MOI.RawOptimizerAttribute(\"verbose\"), 0)\n",
    "@time solve!(problem, solver)\n",
    "\n",
    "# Check the status, optimal value\n",
    "E_opt2_obj = round(problem.optval, digits = 3)\n",
    "E_opt2_p = round.(p.value, digits = 3)\n",
    "println(\"Obj = \", E_opt2_obj)\n",
    "vcat(E_opt2_p, [E_opt2_obj])"
   ]
  },
  {
   "cell_type": "code",
   "execution_count": 16,
   "metadata": {},
   "outputs": [
    {
     "data": {
      "text/plain": [
       "11-element Vector{Float64}:\n",
       " 26.0\n",
       " 16.0\n",
       " 12.0\n",
       "  5.0\n",
       "  4.0\n",
       "  6.0\n",
       "  5.0\n",
       "  4.0\n",
       "  6.0\n",
       "  8.0\n",
       "  8.0"
      ]
     },
     "metadata": {},
     "output_type": "display_data"
    },
    {
     "data": {
      "text/plain": [
       "13.021"
      ]
     },
     "metadata": {},
     "output_type": "display_data"
    }
   ],
   "source": [
    "# project p to n\n",
    "E_opt2_n = proj_integer_simplex(100vec(p.value), 100)\n",
    "display(E_opt2_n)\n",
    "E_opt2_obj_n = 1 / eigmin(transpose(C) * Diagonal(E_opt2_n / 100) * C)\n",
    "E_opt2_obj_n = round(E_opt2_obj_n, digits = 3)"
   ]
  },
  {
   "cell_type": "code",
   "execution_count": 17,
   "metadata": {},
   "outputs": [
    {
     "data": {
      "text/plain": [
       "true"
      ]
     },
     "metadata": {},
     "output_type": "display_data"
    }
   ],
   "source": [
    "sum(E_opt2_n) == 100"
   ]
  },
  {
   "cell_type": "markdown",
   "metadata": {},
   "source": [
    "**$A$-optimal design**:\n",
    "\n",
    "Use `trace_mpower(A, t, C)` $= \\text{tr}(\\mathbf{C}\\mathbf{A}^t)$."
   ]
  },
  {
   "cell_type": "code",
   "execution_count": 18,
   "metadata": {},
   "outputs": [
    {
     "name": "stdout",
     "output_type": "stream",
     "text": [
      "  2.203660 seconds (4.15 M allocations: 277.410 MiB, 2.50% gc time, 98.36% compilation time)\n",
      "Obj = 38.925\n"
     ]
    },
    {
     "data": {
      "text/plain": [
       "12×1 Matrix{Float64}:\n",
       "  0.2\n",
       "  0.101\n",
       "  0.104\n",
       "  0.086\n",
       "  0.051\n",
       "  0.068\n",
       "  0.086\n",
       "  0.051\n",
       "  0.068\n",
       "  0.106\n",
       "  0.08\n",
       " 38.925"
      ]
     },
     "metadata": {},
     "output_type": "display_data"
    }
   ],
   "source": [
    "problem = minimize(trace_mpower(V⁻¹, -1, Matrix(I(6))))\n",
    "problem.constraints += p .>= 0\n",
    "problem.constraints += sum(p) == 1\n",
    "problem.constraints += V⁻¹ in :SDP\n",
    "problem\n",
    "\n",
    "const MOI = MathOptInterface\n",
    "solver = Hypatia.Optimizer()\n",
    "MOI.set(solver, MOI.RawOptimizerAttribute(\"verbose\"), 0)\n",
    "@time solve!(problem, solver)\n",
    "\n",
    "# Check the status, optimal value\n",
    "A_opt_obj = round(problem.optval, digits = 3)\n",
    "A_opt_p = round.(p.value, digits = 3)\n",
    "println(\"Obj = \", A_opt_obj)\n",
    "vcat(A_opt_p, [A_opt_obj])"
   ]
  },
  {
   "cell_type": "code",
   "execution_count": 19,
   "metadata": {},
   "outputs": [
    {
     "data": {
      "text/plain": [
       "true"
      ]
     },
     "metadata": {},
     "output_type": "display_data"
    }
   ],
   "source": [
    "sum(p.value) ≈ 1.0"
   ]
  },
  {
   "cell_type": "code",
   "execution_count": 20,
   "metadata": {},
   "outputs": [
    {
     "data": {
      "text/plain": [
       "11-element Vector{Float64}:\n",
       " 20.0\n",
       " 10.0\n",
       " 10.0\n",
       "  9.0\n",
       "  5.0\n",
       "  7.0\n",
       "  9.0\n",
       "  5.0\n",
       "  7.0\n",
       " 10.0\n",
       "  8.0"
      ]
     },
     "metadata": {},
     "output_type": "display_data"
    },
    {
     "data": {
      "text/plain": [
       "38.946"
      ]
     },
     "metadata": {},
     "output_type": "display_data"
    }
   ],
   "source": [
    "# project p to n\n",
    "A_opt_n = proj_integer_simplex(100vec(p.value), 100)\n",
    "display(A_opt_n)\n",
    "A_opt_obj_n = trace_mpower(C' * Diagonal(A_opt_n / 100) * C, -1, I(6))\n",
    "A_opt_obj_n = round(A_opt_obj_n, digits = 3)"
   ]
  },
  {
   "cell_type": "markdown",
   "metadata": {},
   "source": [
    "Let's merge the three results in table."
   ]
  },
  {
   "cell_type": "code",
   "execution_count": 21,
   "metadata": {},
   "outputs": [
    {
     "name": "stdout",
     "output_type": "stream",
     "text": [
      "Approximate Optimal Design\n"
     ]
    },
    {
     "data": {
      "text/html": [
       "<div><div style = \"float: left;\"><span>12×9 DataFrame</span></div><div style = \"clear: both;\"></div></div><div class = \"data-frame\" style = \"overflow-x: scroll;\"><table class = \"data-frame\" style = \"margin-bottom: 6px;\"><thead><tr class = \"header\"><th class = \"rowNumber\" style = \"font-weight: bold; text-align: right;\">Row</th><th style = \"text-align: left;\">design_pt</th><th style = \"text-align: left;\">D_opt</th><th style = \"text-align: left;\">E_opt1</th><th style = \"text-align: left;\">E_opt2</th><th style = \"text-align: left;\">A_opt</th><th style = \"text-align: left;\">D_opt_n</th><th style = \"text-align: left;\">E_opt1_n</th><th style = \"text-align: left;\">E_opt2_n</th><th style = \"text-align: left;\">A_opt_n</th></tr><tr class = \"subheader headerLastRow\"><th class = \"rowNumber\" style = \"font-weight: bold; text-align: right;\"></th><th title = \"String\" style = \"text-align: left;\">String</th><th title = \"Float64\" style = \"text-align: left;\">Float64</th><th title = \"Float64\" style = \"text-align: left;\">Float64</th><th title = \"Float64\" style = \"text-align: left;\">Float64</th><th title = \"Float64\" style = \"text-align: left;\">Float64</th><th title = \"Float64\" style = \"text-align: left;\">Float64</th><th title = \"Float64\" style = \"text-align: left;\">Float64</th><th title = \"Float64\" style = \"text-align: left;\">Float64</th><th title = \"Float64\" style = \"text-align: left;\">Float64</th></tr></thead><tbody><tr><td class = \"rowNumber\" style = \"font-weight: bold; text-align: right;\">1</td><td style = \"text-align: left;\">A1B1</td><td style = \"text-align: right;\">0.082</td><td style = \"text-align: right;\">0.266</td><td style = \"text-align: right;\">0.258</td><td style = \"text-align: right;\">0.2</td><td style = \"text-align: right;\">8.0</td><td style = \"text-align: right;\">27.0</td><td style = \"text-align: right;\">26.0</td><td style = \"text-align: right;\">20.0</td></tr><tr><td class = \"rowNumber\" style = \"font-weight: bold; text-align: right;\">2</td><td style = \"text-align: left;\">A2B1</td><td style = \"text-align: right;\">0.082</td><td style = \"text-align: right;\">0.158</td><td style = \"text-align: right;\">0.162</td><td style = \"text-align: right;\">0.101</td><td style = \"text-align: right;\">8.0</td><td style = \"text-align: right;\">16.0</td><td style = \"text-align: right;\">16.0</td><td style = \"text-align: right;\">10.0</td></tr><tr><td class = \"rowNumber\" style = \"font-weight: bold; text-align: right;\">3</td><td style = \"text-align: left;\">A3B1</td><td style = \"text-align: right;\">0.097</td><td style = \"text-align: right;\">0.114</td><td style = \"text-align: right;\">0.118</td><td style = \"text-align: right;\">0.104</td><td style = \"text-align: right;\">10.0</td><td style = \"text-align: right;\">11.0</td><td style = \"text-align: right;\">12.0</td><td style = \"text-align: right;\">10.0</td></tr><tr><td class = \"rowNumber\" style = \"font-weight: bold; text-align: right;\">4</td><td style = \"text-align: left;\">A1B2</td><td style = \"text-align: right;\">0.082</td><td style = \"text-align: right;\">0.055</td><td style = \"text-align: right;\">0.054</td><td style = \"text-align: right;\">0.086</td><td style = \"text-align: right;\">8.0</td><td style = \"text-align: right;\">5.0</td><td style = \"text-align: right;\">5.0</td><td style = \"text-align: right;\">9.0</td></tr><tr><td class = \"rowNumber\" style = \"font-weight: bold; text-align: right;\">5</td><td style = \"text-align: left;\">A2B2</td><td style = \"text-align: right;\">0.082</td><td style = \"text-align: right;\">0.042</td><td style = \"text-align: right;\">0.041</td><td style = \"text-align: right;\">0.051</td><td style = \"text-align: right;\">8.0</td><td style = \"text-align: right;\">4.0</td><td style = \"text-align: right;\">4.0</td><td style = \"text-align: right;\">5.0</td></tr><tr><td class = \"rowNumber\" style = \"font-weight: bold; text-align: right;\">6</td><td style = \"text-align: left;\">A3B2</td><td style = \"text-align: right;\">0.097</td><td style = \"text-align: right;\">0.057</td><td style = \"text-align: right;\">0.059</td><td style = \"text-align: right;\">0.068</td><td style = \"text-align: right;\">10.0</td><td style = \"text-align: right;\">6.0</td><td style = \"text-align: right;\">6.0</td><td style = \"text-align: right;\">7.0</td></tr><tr><td class = \"rowNumber\" style = \"font-weight: bold; text-align: right;\">7</td><td style = \"text-align: left;\">A1B3</td><td style = \"text-align: right;\">0.082</td><td style = \"text-align: right;\">0.055</td><td style = \"text-align: right;\">0.054</td><td style = \"text-align: right;\">0.086</td><td style = \"text-align: right;\">8.0</td><td style = \"text-align: right;\">6.0</td><td style = \"text-align: right;\">5.0</td><td style = \"text-align: right;\">9.0</td></tr><tr><td class = \"rowNumber\" style = \"font-weight: bold; text-align: right;\">8</td><td style = \"text-align: left;\">A2B3</td><td style = \"text-align: right;\">0.082</td><td style = \"text-align: right;\">0.042</td><td style = \"text-align: right;\">0.041</td><td style = \"text-align: right;\">0.051</td><td style = \"text-align: right;\">8.0</td><td style = \"text-align: right;\">4.0</td><td style = \"text-align: right;\">4.0</td><td style = \"text-align: right;\">5.0</td></tr><tr><td class = \"rowNumber\" style = \"font-weight: bold; text-align: right;\">9</td><td style = \"text-align: left;\">A3B3</td><td style = \"text-align: right;\">0.097</td><td style = \"text-align: right;\">0.057</td><td style = \"text-align: right;\">0.059</td><td style = \"text-align: right;\">0.068</td><td style = \"text-align: right;\">10.0</td><td style = \"text-align: right;\">6.0</td><td style = \"text-align: right;\">6.0</td><td style = \"text-align: right;\">7.0</td></tr><tr><td class = \"rowNumber\" style = \"font-weight: bold; text-align: right;\">10</td><td style = \"text-align: left;\">A1B4</td><td style = \"text-align: right;\">0.109</td><td style = \"text-align: right;\">0.08</td><td style = \"text-align: right;\">0.074</td><td style = \"text-align: right;\">0.106</td><td style = \"text-align: right;\">11.0</td><td style = \"text-align: right;\">8.0</td><td style = \"text-align: right;\">8.0</td><td style = \"text-align: right;\">10.0</td></tr><tr><td class = \"rowNumber\" style = \"font-weight: bold; text-align: right;\">11</td><td style = \"text-align: left;\">A2B4</td><td style = \"text-align: right;\">0.109</td><td style = \"text-align: right;\">0.074</td><td style = \"text-align: right;\">0.08</td><td style = \"text-align: right;\">0.08</td><td style = \"text-align: right;\">11.0</td><td style = \"text-align: right;\">7.0</td><td style = \"text-align: right;\">8.0</td><td style = \"text-align: right;\">8.0</td></tr><tr><td class = \"rowNumber\" style = \"font-weight: bold; text-align: right;\">12</td><td style = \"text-align: left;\">Obj</td><td style = \"text-align: right;\">8.987</td><td style = \"text-align: right;\">12.987</td><td style = \"text-align: right;\">13.0</td><td style = \"text-align: right;\">38.925</td><td style = \"text-align: right;\">8.988</td><td style = \"text-align: right;\">12.987</td><td style = \"text-align: right;\">13.021</td><td style = \"text-align: right;\">38.946</td></tr></tbody></table></div>"
      ],
      "text/latex": [
       "\\begin{tabular}{r|ccccccccc}\n",
       "\t& design\\_pt & D\\_opt & E\\_opt1 & E\\_opt2 & A\\_opt & D\\_opt\\_n & E\\_opt1\\_n & E\\_opt2\\_n & A\\_opt\\_n\\\\\n",
       "\t\\hline\n",
       "\t& String & Float64 & Float64 & Float64 & Float64 & Float64 & Float64 & Float64 & Float64\\\\\n",
       "\t\\hline\n",
       "\t1 & A1B1 & 0.082 & 0.266 & 0.258 & 0.2 & 8.0 & 27.0 & 26.0 & 20.0 \\\\\n",
       "\t2 & A2B1 & 0.082 & 0.158 & 0.162 & 0.101 & 8.0 & 16.0 & 16.0 & 10.0 \\\\\n",
       "\t3 & A3B1 & 0.097 & 0.114 & 0.118 & 0.104 & 10.0 & 11.0 & 12.0 & 10.0 \\\\\n",
       "\t4 & A1B2 & 0.082 & 0.055 & 0.054 & 0.086 & 8.0 & 5.0 & 5.0 & 9.0 \\\\\n",
       "\t5 & A2B2 & 0.082 & 0.042 & 0.041 & 0.051 & 8.0 & 4.0 & 4.0 & 5.0 \\\\\n",
       "\t6 & A3B2 & 0.097 & 0.057 & 0.059 & 0.068 & 10.0 & 6.0 & 6.0 & 7.0 \\\\\n",
       "\t7 & A1B3 & 0.082 & 0.055 & 0.054 & 0.086 & 8.0 & 6.0 & 5.0 & 9.0 \\\\\n",
       "\t8 & A2B3 & 0.082 & 0.042 & 0.041 & 0.051 & 8.0 & 4.0 & 4.0 & 5.0 \\\\\n",
       "\t9 & A3B3 & 0.097 & 0.057 & 0.059 & 0.068 & 10.0 & 6.0 & 6.0 & 7.0 \\\\\n",
       "\t10 & A1B4 & 0.109 & 0.08 & 0.074 & 0.106 & 11.0 & 8.0 & 8.0 & 10.0 \\\\\n",
       "\t11 & A2B4 & 0.109 & 0.074 & 0.08 & 0.08 & 11.0 & 7.0 & 8.0 & 8.0 \\\\\n",
       "\t12 & Obj & 8.987 & 12.987 & 13.0 & 38.925 & 8.988 & 12.987 & 13.021 & 38.946 \\\\\n",
       "\\end{tabular}\n"
      ],
      "text/plain": [
       "\u001b[1m12×9 DataFrame\u001b[0m\n",
       "\u001b[1m Row \u001b[0m│\u001b[1m design_pt \u001b[0m\u001b[1m D_opt   \u001b[0m\u001b[1m E_opt1  \u001b[0m\u001b[1m E_opt2  \u001b[0m\u001b[1m A_opt   \u001b[0m\u001b[1m D_opt_n \u001b[0m\u001b[1m E_opt1_n \u001b[0m\u001b[1m E_opt\u001b[0m ⋯\n",
       "     │\u001b[90m String    \u001b[0m\u001b[90m Float64 \u001b[0m\u001b[90m Float64 \u001b[0m\u001b[90m Float64 \u001b[0m\u001b[90m Float64 \u001b[0m\u001b[90m Float64 \u001b[0m\u001b[90m Float64  \u001b[0m\u001b[90m Float\u001b[0m ⋯\n",
       "─────┼──────────────────────────────────────────────────────────────────────────\n",
       "   1 │ A1B1         0.082    0.266    0.258    0.2      8.0      27.0      26. ⋯\n",
       "   2 │ A2B1         0.082    0.158    0.162    0.101    8.0      16.0      16.\n",
       "   3 │ A3B1         0.097    0.114    0.118    0.104   10.0      11.0      12.\n",
       "   4 │ A1B2         0.082    0.055    0.054    0.086    8.0       5.0       5.\n",
       "   5 │ A2B2         0.082    0.042    0.041    0.051    8.0       4.0       4. ⋯\n",
       "   6 │ A3B2         0.097    0.057    0.059    0.068   10.0       6.0       6.\n",
       "   7 │ A1B3         0.082    0.055    0.054    0.086    8.0       6.0       5.\n",
       "   8 │ A2B3         0.082    0.042    0.041    0.051    8.0       4.0       4.\n",
       "   9 │ A3B3         0.097    0.057    0.059    0.068   10.0       6.0       6. ⋯\n",
       "  10 │ A1B4         0.109    0.08     0.074    0.106   11.0       8.0       8.\n",
       "  11 │ A2B4         0.109    0.074    0.08     0.08    11.0       7.0       8.\n",
       "  12 │ Obj          8.987   12.987   13.0     38.925    8.988    12.987    13.\n",
       "\u001b[36m                                                               2 columns omitted\u001b[0m"
      ]
     },
     "metadata": {},
     "output_type": "display_data"
    }
   ],
   "source": [
    "using DataFrames\n",
    "treatment = [\n",
    "    \"A1B1\", \"A2B1\", \"A3B1\",\n",
    "    \"A1B2\", \"A2B2\", \"A3B2\",\n",
    "    \"A1B3\", \"A2B3\", \"A3B3\",\n",
    "    \"A1B4\", \"A2B4\", \"Obj\"\n",
    "]\n",
    "\n",
    "println(\"Approximate Optimal Design\")\n",
    "df_Q2 = DataFrame(\n",
    "    design_pt = treatment,\n",
    "    D_opt    = vcat(D_opt_p,  [D_opt_obj])[:],\n",
    "    E_opt1   = vcat(E_opt1_p,  [1 / E_opt1_obj])[:],\n",
    "    E_opt2   = vcat(E_opt2_p, [E_opt2_obj])[:],\n",
    "    # E_opt3   = vcat(E_opt3_p, [- 1 / E_opt3_obj])[:],\n",
    "    A_opt    = vcat(A_opt_p,  [A_opt_obj])[:],\n",
    "    D_opt_n  = vcat(D_opt_n,  [D_opt_obj_n])[:],\n",
    "    E_opt1_n = vcat(E_opt1_n,  [1 / E_opt1_obj_n])[:],\n",
    "    E_opt2_n = vcat(E_opt2_n, [E_opt2_obj_n])[:],\n",
    "    # E_opt3_n = vcat(E_opt3_n, [- 1/ E_opt3_obj_n])[:],\n",
    "    A_opt_n  = vcat(A_opt_n,  [A_opt_obj_n])[:]\n",
    ")"
   ]
  },
  {
   "cell_type": "markdown",
   "metadata": {},
   "source": [
    "## Q3 (30 pts) Find exact optimal designs\n",
    "\n",
    "Using mixed-integer semidefinite programming (SDP) software to find the exact D-, E-, and A-optimal designs for this clinical trial **with $n=100$**.\n",
    "\n",
    "Hint: This is what I got using Pajarito with Gurobi as the `oa_solver` and Mosek as the `conic_solver`.\n",
    "\n",
    "```\n",
    "Exact Optimal Design\n",
    "┌───────────┬─────────┬─────────┬─────────┐\n",
    "│ design_pt │   D_opt │   E_opt │   A_opt │\n",
    "│    String │ Float64 │ Float64 │ Float64 │\n",
    "├───────────┼─────────┼─────────┼─────────┤\n",
    "│      A1B1 │   8.000 │  34.000 │  20.000 │\n",
    "│      A2B1 │   8.000 │  10.000 │  10.000 │\n",
    "│      A3B1 │  10.000 │  10.000 │  10.000 │\n",
    "│      A1B2 │   8.000 │   9.000 │   9.000 │\n",
    "│      A2B2 │   8.000 │   0.000 │   5.000 │\n",
    "│      A3B2 │  10.000 │   6.000 │   7.000 │\n",
    "│      A1B3 │   8.000 │   8.000 │   9.000 │\n",
    "│      A2B3 │   8.000 │   4.000 │   5.000 │\n",
    "│      A3B3 │  10.000 │   4.000 │   7.000 │\n",
    "│      A1B4 │  11.000 │   9.000 │  10.000 │\n",
    "│      A2B4 │  11.000 │   6.000 │   8.000 │\n",
    "│       Obj │   8.988 │  13.011 │  38.946 │\n",
    "└───────────┴─────────┴─────────┴─────────┘\n",
    "```"
   ]
  },
  {
   "cell_type": "code",
   "execution_count": 11,
   "metadata": {},
   "outputs": [],
   "source": [
    "using JuMP, Pajarito, Gurobi, Mosek, MosekTools"
   ]
  },
  {
   "cell_type": "code",
   "execution_count": 112,
   "metadata": {},
   "outputs": [],
   "source": [
    "# Define the problem\n",
    "model = Model(\n",
    "    optimizer_with_attributes(\n",
    "        Pajarito.Optimizer,\n",
    "        MOI.Silent() => true,\n",
    "        \"oa_solver\" => optimizer_with_attributes(\n",
    "            Gurobi.Optimizer,\n",
    "            MOI.Silent() => true\n",
    "        ),\n",
    "        \"conic_solver\" => optimizer_with_attributes(\n",
    "            Mosek.Optimizer,\n",
    "            MOI.Silent() => true\n",
    "        )\n",
    "    )\n",
    ")\n",
    "# Set a time limit for the solver\n",
    "set_attribute(model, \"time_limit\", 60)\n",
    "MOI.set(model, MOI.RawOptimizerAttribute(\"verbose\"), 0)"
   ]
  },
  {
   "cell_type": "markdown",
   "metadata": {},
   "source": [
    "**$D$-optimal design**\n",
    "\n",
    "Use `MOI.LogDetConeSquare` to obtain a log-determinant."
   ]
  },
  {
   "cell_type": "code",
   "execution_count": 113,
   "metadata": {},
   "outputs": [
    {
     "name": "stdout",
     "output_type": "stream",
     "text": [
      "Set parameter Username\n",
      "Academic license - for non-commercial use only - expires 2025-05-21\n"
     ]
    },
    {
     "data": {
      "text/latex": [
       "$ obj $"
      ],
      "text/plain": [
       "obj"
      ]
     },
     "metadata": {},
     "output_type": "display_data"
    }
   ],
   "source": [
    "# Define the variables\n",
    "unregister(model, :n)\n",
    "@variable(model, n[1:m], Int)\n",
    "C = Matrix{Float64}(C)\n",
    "q = size(C, 2) # 6\n",
    "unregister(model, :V⁻¹)\n",
    "@expression(model, V⁻¹[i=1:q, j=1:q], sum(C[k, i] * C[k, j] * n[k] for k in 1:m))\n",
    "# @variable(model, V⁻¹[1:q, 1:q])\n",
    "unregister(model, :obj)\n",
    "@variable(model, obj)"
   ]
  },
  {
   "cell_type": "code",
   "execution_count": 116,
   "metadata": {},
   "outputs": [
    {
     "name": "stderr",
     "output_type": "stream",
     "text": [
      "┌ Warning: continuous subproblem status SLOW_PROGRESS is not handled\n",
      "└ @ Pajarito /Users/tomokiokuno/.julia/packages/Pajarito/gSNvz/src/algorithms.jl:396\n",
      "┌ Warning: continuous subproblem status SLOW_PROGRESS is not handled\n",
      "└ @ Pajarito /Users/tomokiokuno/.julia/packages/Pajarito/gSNvz/src/algorithms.jl:396\n",
      "┌ Warning: continuous subproblem status SLOW_PROGRESS is not handled\n",
      "└ @ Pajarito /Users/tomokiokuno/.julia/packages/Pajarito/gSNvz/src/algorithms.jl:396\n",
      "┌ Warning: continuous subproblem status SLOW_PROGRESS is not handled\n",
      "└ @ Pajarito /Users/tomokiokuno/.julia/packages/Pajarito/gSNvz/src/algorithms.jl:396\n",
      "┌ Warning: continuous subproblem status SLOW_PROGRESS is not handled\n",
      "└ @ Pajarito /Users/tomokiokuno/.julia/packages/Pajarito/gSNvz/src/algorithms.jl:396\n"
     ]
    }
   ],
   "source": [
    "import MathOptInterface as MOI\n",
    "# Define the constraints\n",
    "# @constraint(model, V⁻¹ .== [sum(C[k, i] * C[k, j] * n[k] for k in 1:m) for i in 1:q, j in 1:q])\n",
    "@constraint(model, V⁻¹ >= 0, PSDCone())\n",
    "@constraint(model, n .>= 0)\n",
    "@constraint(model, sum(n) == 100)\n",
    "@constraint(model, [obj; 1; vec(V⁻¹)] in MOI.LogDetConeSquare(q))\n",
    "\n",
    "@objective(model, Max, obj)\n",
    "optimize!(model)"
   ]
  },
  {
   "cell_type": "code",
   "execution_count": 117,
   "metadata": {},
   "outputs": [
    {
     "name": "stdout",
     "output_type": "stream",
     "text": [
      "Obj = 8.988939362005667\n",
      "n = [8.0, 9.0, 9.0, 8.0, 8.0, 10.0, 8.0, 8.0, 10.0, 11.0, 11.0]\n"
     ]
    },
    {
     "data": {
      "text/plain": [
       "true"
      ]
     },
     "metadata": {},
     "output_type": "display_data"
    }
   ],
   "source": [
    "# Check the status, optimal value\n",
    "if termination_status(model) == MOI.OPTIMAL\n",
    "    D_opt_n = value.(n)\n",
    "    # D_opt_obj = round(objective_value(model), digits = 3)\n",
    "    D_opt_obj = - logdet(transpose(C) * Diagonal(D_opt_n) * C / 100)\n",
    "    println(\"Obj = \", D_opt_obj)\n",
    "    println(\"n = \", D_opt_n)\n",
    "else\n",
    "    println(\"The problem did not solve to optimality.\")\n",
    "end\n",
    "# check constraint satisfication\n",
    "sum(D_opt_n) == 100"
   ]
  },
  {
   "cell_type": "markdown",
   "metadata": {},
   "source": [
    "**$E$-optimal design**"
   ]
  },
  {
   "cell_type": "code",
   "execution_count": 131,
   "metadata": {},
   "outputs": [
    {
     "data": {
      "text/plain": [
       "6×6 Matrix{VariableRef}:\n",
       " Z[1,1]  Z[1,2]  Z[1,3]  Z[1,4]  Z[1,5]  Z[1,6]\n",
       " Z[2,1]  Z[2,2]  Z[2,3]  Z[2,4]  Z[2,5]  Z[2,6]\n",
       " Z[3,1]  Z[3,2]  Z[3,3]  Z[3,4]  Z[3,5]  Z[3,6]\n",
       " Z[4,1]  Z[4,2]  Z[4,3]  Z[4,4]  Z[4,5]  Z[4,6]\n",
       " Z[5,1]  Z[5,2]  Z[5,3]  Z[5,4]  Z[5,5]  Z[5,6]\n",
       " Z[6,1]  Z[6,2]  Z[6,3]  Z[6,4]  Z[6,5]  Z[6,6]"
      ]
     },
     "metadata": {},
     "output_type": "display_data"
    }
   ],
   "source": [
    "# Define the variables\n",
    "unregister(model, :n)\n",
    "@variable(model, n[1:m], Int)\n",
    "C = Matrix{Float64}(C)\n",
    "q = size(C, 2) # 6\n",
    "unregister(model, :V⁻¹)\n",
    "# @expression(model, V⁻¹[i=1:q, j=1:q], sum(C[k, i] * C[k, j] * n[k] for k in 1:m))\n",
    "@variable(model, V⁻¹[1:q, 1:q])\n",
    "unregister(model, :obj)\n",
    "@variable(model, obj)\n",
    "unregister(model, :Z)\n",
    "@variable(model, Z[1:q, 1:q])"
   ]
  },
  {
   "cell_type": "code",
   "execution_count": 135,
   "metadata": {},
   "outputs": [
    {
     "ename": "MethodError",
     "evalue": "MethodError: Cannot `convert` an object of type AffExpr to an object of type VariableRef\n\nClosest candidates are:\n  convert(::Type{T}, !Matched::T) where T\n   @ Base Base.jl:84\n  (::Type{GenericVariableRef{T}} where T)(::Any, !Matched::Any)\n   @ JuMP ~/.julia/packages/JuMP/Gwn88/src/variables.jl:258\n",
     "output_type": "error",
     "traceback": [
      "MethodError: Cannot `convert` an object of type AffExpr to an object of type VariableRef\n",
      "\n",
      "Closest candidates are:\n",
      "  convert(::Type{T}, !Matched::T) where T\n",
      "   @ Base Base.jl:84\n",
      "  (::Type{GenericVariableRef{T}} where T)(::Any, !Matched::Any)\n",
      "   @ JuMP ~/.julia/packages/JuMP/Gwn88/src/variables.jl:258\n",
      "\n",
      "\n",
      "Stacktrace:\n",
      " [1] setindex!\n",
      "   @ ./array.jl:1024 [inlined]\n",
      " [2] macro expansion\n",
      "   @ ./multidimensional.jl:960 [inlined]\n",
      " [3] macro expansion\n",
      "   @ ./cartesian.jl:64 [inlined]\n",
      " [4] _unsafe_setindex!(::IndexLinear, ::Matrix{VariableRef}, ::Diagonal{VariableRef, Vector{VariableRef}}, ::UnitRange{Int64}, ::UnitRange{Int64})\n",
      "   @ Base ./multidimensional.jl:955\n",
      " [5] _setindex!\n",
      "   @ ./multidimensional.jl:944 [inlined]\n",
      " [6] setindex!(::Matrix{VariableRef}, ::Diagonal{VariableRef, Vector{VariableRef}}, ::UnitRange{Int64}, ::UnitRange{Int64})\n",
      "   @ Base ./abstractarray.jl:1396\n",
      " [7] typed_hvcat(::Type{VariableRef}, ::Tuple{Int64, Int64}, ::Matrix{VariableRef}, ::Vararg{AbstractVecOrMat})\n",
      "   @ Base ./abstractarray.jl:2102\n",
      " [8] hvcat(::Tuple{Int64, Int64}, ::Matrix{VariableRef}, ::Matrix{VariableRef}, ::Vararg{AbstractArray{VariableRef}})\n",
      "   @ Base ./abstractarray.jl:2069\n",
      " [9] top-level scope\n",
      "   @ ~/Documents/07_UCLA/Class/257/02_Homework/hw5/hw05sol.ipynb:10"
     ]
    }
   ],
   "source": [
    "# Define the constraints\n",
    "# @constraint(model, V⁻¹ >= 0, PSDCone())\n",
    "@constraint(model, V⁻¹ .== [sum(C[k, i] * C[k, j] * n[k] for k in 1:m) for i in 1:q, j in 1:q])\n",
    "@constraint(model, sum(n) == 100)\n",
    "# Z is lower triangular\n",
    "@constraints model begin\n",
    "    [i in 1:q, j in (i+1):q], Z[i, j] == 0\n",
    "end\n",
    "\n",
    "Variable(model, Mat, [V⁻¹ Z; Z' Diagonal(Z)])\n",
    "@constraint(model, Mat >= 0, PSDCone())"
   ]
  },
  {
   "cell_type": "code",
   "execution_count": 121,
   "metadata": {},
   "outputs": [
    {
     "ename": "ErrorException",
     "evalue": "The solver does not support an objective function of type MathOptInterface.ScalarNonlinearFunction.",
     "output_type": "error",
     "traceback": [
      "The solver does not support an objective function of type MathOptInterface.ScalarNonlinearFunction.\n",
      "\n",
      "Stacktrace:\n",
      " [1] error(::String, ::Type, ::String)\n",
      "   @ Base ./error.jl:44\n",
      " [2] set_objective_function(model::Model, func::MathOptInterface.ScalarNonlinearFunction)\n",
      "   @ JuMP ~/.julia/packages/JuMP/Gwn88/src/objective.jl:262\n",
      " [3] set_objective_function\n",
      "   @ ~/.julia/packages/JuMP/Gwn88/src/objective.jl:280 [inlined]\n",
      " [4] set_objective(model::Model, sense::MathOptInterface.OptimizationSense, func::NonlinearExpr)\n",
      "   @ JuMP ~/.julia/packages/JuMP/Gwn88/src/objective.jl:326\n",
      " [5] macro expansion\n",
      "   @ ~/.julia/packages/JuMP/Gwn88/src/macros/@objective.jl:70 [inlined]\n",
      " [6] top-level scope\n",
      "   @ ~/Documents/07_UCLA/Class/257/02_Homework/hw5/hw05sol.ipynb:2"
     ]
    }
   ],
   "source": [
    "# Define the objective is sum of log diagonal Z\n",
    "@objective(model, Max, sum(log(Z[i, i]) for i in 1:q))\n",
    "\n",
    "# Set a time limit for the solver\n",
    "set_attribute(model, \"time_limit\", 60)\n",
    "\n",
    "# Solve the problem\n",
    "@time optimize!(model)\n",
    "\n",
    "# Check the status, optimal value\n",
    "if termination_status(model) == MOI.OPTIMAL\n",
    "    A_opt_obj = round(objective_value(model), digits = 3)\n",
    "    A_opt_n = round.(value.(n), digits = 3)\n",
    "    println(\"Obj = \", A_opt_obj)\n",
    "    println(\"n = \", A_opt_n)\n",
    "else\n",
    "    println(\"The problem did not solve to optimality.\")\n",
    "end"
   ]
  },
  {
   "cell_type": "markdown",
   "metadata": {},
   "source": [
    "## Q4 (30 bonus points) Optimal design with nuisance parameters\n",
    "\n",
    "Suppose the regression coefficients of linear model $\\boldsymbol{\\beta}$ is partitioned as $\\boldsymbol{\\beta} = (\\boldsymbol{\\beta}_0^T, \\boldsymbol{\\beta}_1^T)^T$, where $\\boldsymbol{\\beta}_0$ are nuisance parameters and $\\boldsymbol{\\beta}_1$ are parameters of primary interest. Given an approximate design $\\mathbf{p} = (p_1, \\ldots, p_m)$, let the information matrix be partitioned accordingly\n",
    "$$\n",
    "\\mathbf{I}(\\mathbf{p}) = \\sum_{i=1}^m p_i \\mathbf{x}_i \\mathbf{x}_i^T =  \\begin{pmatrix}\n",
    "\\mathbf{I}_{00} & \\mathbf{I}_{01} \\\\\n",
    "\\mathbf{I}_{10} & \\mathbf{I}_{11}\n",
    "\\end{pmatrix}.\n",
    "$$\n",
    "Then the information matrix for $\\boldsymbol{\\beta}_1$ adjusted for nuisance parameter $\\boldsymbol{\\beta}_0$ is\n",
    "$$\n",
    "\\mathbf{I}_{1 \\mid 0}(\\mathbf{p}) = \\mathbf{I}_{11} - \\mathbf{I}_{10} \\mathbf{I}_{00}^{-1} \\mathbf{I}_{01}.\n",
    "$$\n",
    "\n",
    "Revisiting the 3x4 factorial design problem in Q1, suppose the drug company only cares about the estimation of A treatment effects. Find the approximate D-, E-, and A-optimal designs."
   ]
  },
  {
   "cell_type": "markdown",
   "metadata": {},
   "source": [
    "**Solution**"
   ]
  },
  {
   "cell_type": "code",
   "execution_count": 337,
   "metadata": {},
   "outputs": [
    {
     "data": {
      "text/plain": [
       "transpose (affine; real)\n",
       "└─ hcat (affine; real)\n",
       "   ├─ transpose (affine; positive)\n",
       "   │  └─ hcat (affine; positive)\n",
       "   │     ├─ …\n",
       "   │     ├─ …\n",
       "   │     └─ …\n",
       "   ├─ transpose (affine; positive)\n",
       "   │  └─ hcat (affine; positive)\n",
       "   │     ├─ …\n",
       "   │     ├─ …\n",
       "   │     └─ …\n",
       "   └─ transpose (affine; real)\n",
       "      └─ hcat (affine; real)\n",
       "         ├─ …\n",
       "         ├─ …\n",
       "         └─ …"
      ]
     },
     "metadata": {},
     "output_type": "display_data"
    }
   ],
   "source": [
    "C = Matrix{Float64}(C)\n",
    "V⁻¹ = transpose(C) * Diagonal(p) * C\n",
    "I00 = V⁻¹[[1,4,5,6], [1,4,5,6]]\n",
    "I01 = V⁻¹[[1,4,5,6], [2,3]]\n",
    "I11 = V⁻¹[[2,3], [2,3]]\n",
    "E = Matrix{Float64}(I, 2, 2)\n",
    "X = Semidefinite(2)\n",
    "Mat = [I00 I01 zeros(4, 2);\n",
    "       transpose(I01) I11 E;\n",
    "       zeros(2, 4) E X]"
   ]
  },
  {
   "cell_type": "code",
   "execution_count": 355,
   "metadata": {},
   "outputs": [
    {
     "name": "stdout",
     "output_type": "stream",
     "text": [
      "  0.033309 seconds (97.50 k allocations: 4.584 MiB)\n",
      "Obj = -32.021\n"
     ]
    },
    {
     "name": "stderr",
     "output_type": "stream",
     "text": [
      "┌ Warning: Problem status ALMOST_OPTIMAL; solution may be inaccurate.\n",
      "└ @ Convex /Users/tomokiokuno/.julia/packages/Convex/b2S4H/src/solution.jl:342\n"
     ]
    },
    {
     "data": {
      "text/plain": [
       "12×1 Matrix{Float64}:\n",
       "   0.09\n",
       "   0.09\n",
       "   0.091\n",
       "   0.09\n",
       "   0.09\n",
       "   0.091\n",
       "   0.09\n",
       "   0.09\n",
       "   0.091\n",
       "   0.094\n",
       "   0.094\n",
       " -32.021"
      ]
     },
     "metadata": {},
     "output_type": "display_data"
    }
   ],
   "source": [
    "problem = minimize(-logdet(X))\n",
    "\n",
    "problem.constraints += p .>= 0 # not needed using Positive()\n",
    "problem.constraints += sum(p) == 1\n",
    "problem.constraints += Mat in :SDP\n",
    "problem\n",
    "\n",
    "const MOI = MathOptInterface\n",
    "solver = Hypatia.Optimizer()\n",
    "MOI.set(solver, MOI.RawOptimizerAttribute(\"verbose\"), 0)\n",
    "\n",
    "@time solve!(problem, solver)\n",
    "\n",
    "# Check optimal value and optimal solution\n",
    "D_opt_obj = round(problem.optval, digits = 3)\n",
    "D_opt_p = round.(p.value, digits = 3)\n",
    "println(\"Obj = \", D_opt_obj)\n",
    "vcat(D_opt_p, [D_opt_obj])"
   ]
  },
  {
   "cell_type": "code",
   "execution_count": 350,
   "metadata": {},
   "outputs": [
    {
     "name": "stdout",
     "output_type": "stream",
     "text": [
      "  0.019972 seconds (27.46 k allocations: 1.686 MiB)\n",
      "Obj = 8.0\n"
     ]
    },
    {
     "data": {
      "text/plain": [
       "12×1 Matrix{Float64}:\n",
       " 0.141\n",
       " 0.057\n",
       " 0.084\n",
       " 0.14\n",
       " 0.057\n",
       " 0.083\n",
       " 0.14\n",
       " 0.057\n",
       " 0.083\n",
       " 0.08\n",
       " 0.08\n",
       " 8.0"
      ]
     },
     "metadata": {},
     "output_type": "display_data"
    }
   ],
   "source": [
    "problem = minimize(eigmax(X))\n",
    "\n",
    "problem.constraints += p .>= 0 # not needed using Positive()\n",
    "problem.constraints += sum(p) == 1\n",
    "problem.constraints += Mat in :SDP\n",
    "problem\n",
    "\n",
    "const MOI = MathOptInterface\n",
    "solver = Hypatia.Optimizer()\n",
    "MOI.set(solver, MOI.RawOptimizerAttribute(\"verbose\"), 0)\n",
    "\n",
    "@time solve!(problem, solver)\n",
    "\n",
    "# Check optimal value and optimal solution\n",
    "E_opt_obj = round(problem.optval, digits = 3)\n",
    "E_opt_p = round.(p.value, digits = 3)\n",
    "println(\"Obj = \", E_opt_obj)\n",
    "vcat(E_opt_p, [E_opt_obj])"
   ]
  },
  {
   "cell_type": "code",
   "execution_count": 351,
   "metadata": {},
   "outputs": [
    {
     "ename": "MethodError",
     "evalue": "MethodError: no method matching +(::Vector{Constraint}, ::Nothing)\n\nClosest candidates are:\n  +(::Any, ::Any, !Matched::Any, !Matched::Any...)\n   @ Base operators.jl:587\n  +(!Matched::MutableArithmetics.Zero, ::Any)\n   @ MutableArithmetics ~/.julia/packages/MutableArithmetics/iovKe/src/rewrite.jl:64\n  +(::Any, !Matched::MutableArithmetics.Zero)\n   @ MutableArithmetics ~/.julia/packages/MutableArithmetics/iovKe/src/rewrite.jl:65\n  ...\n",
     "output_type": "error",
     "traceback": [
      "MethodError: no method matching +(::Vector{Constraint}, ::Nothing)\n",
      "\n",
      "Closest candidates are:\n",
      "  +(::Any, ::Any, !Matched::Any, !Matched::Any...)\n",
      "   @ Base operators.jl:587\n",
      "  +(!Matched::MutableArithmetics.Zero, ::Any)\n",
      "   @ MutableArithmetics ~/.julia/packages/MutableArithmetics/iovKe/src/rewrite.jl:64\n",
      "  +(::Any, !Matched::MutableArithmetics.Zero)\n",
      "   @ MutableArithmetics ~/.julia/packages/MutableArithmetics/iovKe/src/rewrite.jl:65\n",
      "  ...\n",
      "\n",
      "\n",
      "Stacktrace:\n",
      " [1] top-level scope\n",
      "   @ ~/Documents/07_UCLA/Class/257/02_Homework/hw5/hw05sol.ipynb:6"
     ]
    }
   ],
   "source": [
    "problem = minimize(tr(X))\n",
    "\n",
    "problem.constraints += p .>= 0 # not needed using Positive()\n",
    "problem.constraints += sum(p) == 1\n",
    "problem.constraints += Mat in :SDP\n",
    "\n",
    "problem\n",
    "\n",
    "const MOI = MathOptInterface\n",
    "solver = Hypatia.Optimizer()\n",
    "MOI.set(solver, MOI.RawOptimizerAttribute(\"verbose\"), 0)\n",
    "\n",
    "@time solve!(problem, solver)\n",
    "\n",
    "# Check optimal value and optimal solution\n",
    "A_opt_obj = round(problem.optval, digits = 3)\n",
    "A_opt_p = round.(p.value, digits = 3)\n",
    "println(\"Obj = \", A_opt_obj)\n",
    "vcat(A_opt_p, [A_opt_obj])"
   ]
  },
  {
   "cell_type": "code",
   "execution_count": 347,
   "metadata": {},
   "outputs": [
    {
     "data": {
      "text/html": [
       "<div><div style = \"float: left;\"><span>12×4 DataFrame</span></div><div style = \"clear: both;\"></div></div><div class = \"data-frame\" style = \"overflow-x: scroll;\"><table class = \"data-frame\" style = \"margin-bottom: 6px;\"><thead><tr class = \"header\"><th class = \"rowNumber\" style = \"font-weight: bold; text-align: right;\">Row</th><th style = \"text-align: left;\">design_pt</th><th style = \"text-align: left;\">D_opt</th><th style = \"text-align: left;\">E_opt</th><th style = \"text-align: left;\">A_opt</th></tr><tr class = \"subheader headerLastRow\"><th class = \"rowNumber\" style = \"font-weight: bold; text-align: right;\"></th><th title = \"String\" style = \"text-align: left;\">String</th><th title = \"Float64\" style = \"text-align: left;\">Float64</th><th title = \"Float64\" style = \"text-align: left;\">Float64</th><th title = \"Float64\" style = \"text-align: left;\">Float64</th></tr></thead><tbody><tr><td class = \"rowNumber\" style = \"font-weight: bold; text-align: right;\">1</td><td style = \"text-align: left;\">A1B1</td><td style = \"text-align: right;\">0.09</td><td style = \"text-align: right;\">0.141</td><td style = \"text-align: right;\">0.139</td></tr><tr><td class = \"rowNumber\" style = \"font-weight: bold; text-align: right;\">2</td><td style = \"text-align: left;\">A2B1</td><td style = \"text-align: right;\">0.09</td><td style = \"text-align: right;\">0.057</td><td style = \"text-align: right;\">0.098</td></tr><tr><td class = \"rowNumber\" style = \"font-weight: bold; text-align: right;\">3</td><td style = \"text-align: left;\">A3B1</td><td style = \"text-align: right;\">0.091</td><td style = \"text-align: right;\">0.084</td><td style = \"text-align: right;\">0.098</td></tr><tr><td class = \"rowNumber\" style = \"font-weight: bold; text-align: right;\">4</td><td style = \"text-align: left;\">A1B2</td><td style = \"text-align: right;\">0.09</td><td style = \"text-align: right;\">0.14</td><td style = \"text-align: right;\">0.138</td></tr><tr><td class = \"rowNumber\" style = \"font-weight: bold; text-align: right;\">5</td><td style = \"text-align: left;\">A2B2</td><td style = \"text-align: right;\">0.09</td><td style = \"text-align: right;\">0.057</td><td style = \"text-align: right;\">0.097</td></tr><tr><td class = \"rowNumber\" style = \"font-weight: bold; text-align: right;\">6</td><td style = \"text-align: left;\">A3B2</td><td style = \"text-align: right;\">0.091</td><td style = \"text-align: right;\">0.083</td><td style = \"text-align: right;\">0.097</td></tr><tr><td class = \"rowNumber\" style = \"font-weight: bold; text-align: right;\">7</td><td style = \"text-align: left;\">A1B3</td><td style = \"text-align: right;\">0.09</td><td style = \"text-align: right;\">0.14</td><td style = \"text-align: right;\">0.138</td></tr><tr><td class = \"rowNumber\" style = \"font-weight: bold; text-align: right;\">8</td><td style = \"text-align: left;\">A2B3</td><td style = \"text-align: right;\">0.09</td><td style = \"text-align: right;\">0.057</td><td style = \"text-align: right;\">0.097</td></tr><tr><td class = \"rowNumber\" style = \"font-weight: bold; text-align: right;\">9</td><td style = \"text-align: left;\">A3B3</td><td style = \"text-align: right;\">0.091</td><td style = \"text-align: right;\">0.083</td><td style = \"text-align: right;\">0.097</td></tr><tr><td class = \"rowNumber\" style = \"font-weight: bold; text-align: right;\">10</td><td style = \"text-align: left;\">A1B4</td><td style = \"text-align: right;\">0.094</td><td style = \"text-align: right;\">0.08</td><td style = \"text-align: right;\">0.0</td></tr><tr><td class = \"rowNumber\" style = \"font-weight: bold; text-align: right;\">11</td><td style = \"text-align: left;\">A2B4</td><td style = \"text-align: right;\">0.094</td><td style = \"text-align: right;\">0.08</td><td style = \"text-align: right;\">0.0</td></tr><tr><td class = \"rowNumber\" style = \"font-weight: bold; text-align: right;\">12</td><td style = \"text-align: left;\">Obj</td><td style = \"text-align: right;\">-32.021</td><td style = \"text-align: right;\">8.0</td><td style = \"text-align: right;\">11.657</td></tr></tbody></table></div>"
      ],
      "text/latex": [
       "\\begin{tabular}{r|cccc}\n",
       "\t& design\\_pt & D\\_opt & E\\_opt & A\\_opt\\\\\n",
       "\t\\hline\n",
       "\t& String & Float64 & Float64 & Float64\\\\\n",
       "\t\\hline\n",
       "\t1 & A1B1 & 0.09 & 0.141 & 0.139 \\\\\n",
       "\t2 & A2B1 & 0.09 & 0.057 & 0.098 \\\\\n",
       "\t3 & A3B1 & 0.091 & 0.084 & 0.098 \\\\\n",
       "\t4 & A1B2 & 0.09 & 0.14 & 0.138 \\\\\n",
       "\t5 & A2B2 & 0.09 & 0.057 & 0.097 \\\\\n",
       "\t6 & A3B2 & 0.091 & 0.083 & 0.097 \\\\\n",
       "\t7 & A1B3 & 0.09 & 0.14 & 0.138 \\\\\n",
       "\t8 & A2B3 & 0.09 & 0.057 & 0.097 \\\\\n",
       "\t9 & A3B3 & 0.091 & 0.083 & 0.097 \\\\\n",
       "\t10 & A1B4 & 0.094 & 0.08 & 0.0 \\\\\n",
       "\t11 & A2B4 & 0.094 & 0.08 & 0.0 \\\\\n",
       "\t12 & Obj & -32.021 & 8.0 & 11.657 \\\\\n",
       "\\end{tabular}\n"
      ],
      "text/plain": [
       "\u001b[1m12×4 DataFrame\u001b[0m\n",
       "\u001b[1m Row \u001b[0m│\u001b[1m design_pt \u001b[0m\u001b[1m D_opt   \u001b[0m\u001b[1m E_opt   \u001b[0m\u001b[1m A_opt   \u001b[0m\n",
       "     │\u001b[90m String    \u001b[0m\u001b[90m Float64 \u001b[0m\u001b[90m Float64 \u001b[0m\u001b[90m Float64 \u001b[0m\n",
       "─────┼──────────────────────────────────────\n",
       "   1 │ A1B1         0.09     0.141    0.139\n",
       "   2 │ A2B1         0.09     0.057    0.098\n",
       "   3 │ A3B1         0.091    0.084    0.098\n",
       "   4 │ A1B2         0.09     0.14     0.138\n",
       "   5 │ A2B2         0.09     0.057    0.097\n",
       "   6 │ A3B2         0.091    0.083    0.097\n",
       "   7 │ A1B3         0.09     0.14     0.138\n",
       "   8 │ A2B3         0.09     0.057    0.097\n",
       "   9 │ A3B3         0.091    0.083    0.097\n",
       "  10 │ A1B4         0.094    0.08     0.0\n",
       "  11 │ A2B4         0.094    0.08     0.0\n",
       "  12 │ Obj        -32.021    8.0     11.657"
      ]
     },
     "metadata": {},
     "output_type": "display_data"
    }
   ],
   "source": [
    "using DataFrames\n",
    "treatment = [\n",
    "    \"A1B1\", \"A2B1\", \"A3B1\",\n",
    "    \"A1B2\", \"A2B2\", \"A3B2\",\n",
    "    \"A1B3\", \"A2B3\", \"A3B3\",\n",
    "    \"A1B4\", \"A2B4\", \"Obj\"\n",
    "]\n",
    "\n",
    "df_Q2 = DataFrame(\n",
    "    design_pt = treatment,\n",
    "    D_opt   = vcat(D_opt_p,  [D_opt_obj])[:],\n",
    "    E_opt   = vcat(E_opt_p,  [E_opt_obj])[:],\n",
    "    A_opt   = vcat(A_opt_p,  [A_opt_obj])[:],\n",
    ")"
   ]
  }
 ],
 "metadata": {
  "@webio": {
   "lastCommId": null,
   "lastKernelId": null
  },
  "jupytext": {
   "formats": "ipynb,qmd"
  },
  "kernelspec": {
   "display_name": "Julia 1.10.2",
   "language": "julia",
   "name": "julia-1.10"
  },
  "language_info": {
   "file_extension": ".jl",
   "mimetype": "application/julia",
   "name": "julia",
   "version": "1.10.2"
  },
  "toc": {
   "colors": {
    "hover_highlight": "#DAA520",
    "running_highlight": "#FF0000",
    "selected_highlight": "#FFD700"
   },
   "moveMenuLeft": true,
   "nav_menu": {
    "height": "87px",
    "width": "252px"
   },
   "navigate_menu": true,
   "number_sections": false,
   "sideBar": true,
   "skip_h1_title": true,
   "threshold": 4,
   "toc_cell": false,
   "toc_section_display": "block",
   "toc_window_display": true,
   "widenNotebook": false
  }
 },
 "nbformat": 4,
 "nbformat_minor": 4
}
