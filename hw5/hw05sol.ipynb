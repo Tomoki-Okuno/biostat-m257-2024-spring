{
 "cells": [
  {
   "cell_type": "markdown",
   "metadata": {},
   "source": [
    "Biostat/Biomath M257 Homework 5\n",
    "\n",
    "Due May 24 @ 11:59PM\n",
    "\n",
    "Tomoki Okuno and 805851067"
   ]
  },
  {
   "cell_type": "markdown",
   "metadata": {},
   "source": [
    "System information (for reproducibility):"
   ]
  },
  {
   "cell_type": "code",
   "execution_count": 2,
   "metadata": {
    "tags": []
   },
   "outputs": [
    {
     "name": "stdout",
     "output_type": "stream",
     "text": [
      "Julia Version 1.10.2\n",
      "Commit bd47eca2c8a (2024-03-01 10:14 UTC)\n",
      "Build Info:\n",
      "  Official https://julialang.org/ release\n",
      "Platform Info:\n",
      "  OS: macOS (arm64-apple-darwin22.4.0)\n",
      "  CPU: 8 × Apple M1\n",
      "  WORD_SIZE: 64\n",
      "  LIBM: libopenlibm\n",
      "  LLVM: libLLVM-15.0.7 (ORCJIT, apple-m1)\n",
      "Threads: 1 default, 0 interactive, 1 GC (on 4 virtual cores)\n",
      "Environment:\n",
      "  JULIA_NUM_THREADS = \n"
     ]
    }
   ],
   "source": [
    "versioninfo()"
   ]
  },
  {
   "cell_type": "markdown",
   "metadata": {},
   "source": [
    "Load packages:"
   ]
  },
  {
   "cell_type": "code",
   "execution_count": 3,
   "metadata": {
    "tags": []
   },
   "outputs": [
    {
     "name": "stderr",
     "output_type": "stream",
     "text": [
      "\u001b[32m\u001b[1m  Activating\u001b[22m\u001b[39m project at `~/Documents/07_UCLA/Class/257/02_Homework/hw5`\n"
     ]
    },
    {
     "name": "stdout",
     "output_type": "stream",
     "text": [
      "\u001b[32m\u001b[1mStatus\u001b[22m\u001b[39m `~/Documents/07_UCLA/Class/257/02_Homework/hw5/Project.toml`\n",
      "  \u001b[90m[1e616198] \u001b[39mCOSMO v0.8.9\n",
      "  \u001b[90m[61c947e1] \u001b[39mClarabel v0.7.1\n",
      "  \u001b[90m[f65535da] \u001b[39mConvex v0.15.4\n",
      "  \u001b[90m[a93c6f00] \u001b[39mDataFrames v1.6.1\n",
      "  \u001b[90m[60bf3e95] \u001b[39mGLPK v1.2.1\n",
      "  \u001b[90m[2e9cd046] \u001b[39mGurobi v1.2.3\n",
      "  \u001b[90m[87dc4568] \u001b[39mHiGHS v1.9.0\n",
      "  \u001b[90m[b99e6be6] \u001b[39mHypatia v0.8.1\n",
      "  \u001b[90m[4076af6c] \u001b[39mJuMP v1.22.1\n",
      "  \u001b[90m[67920dd8] \u001b[39mKNITRO v0.14.2\n",
      "  \u001b[90m[b8f27783] \u001b[39mMathOptInterface v1.29.0\n",
      "  \u001b[90m[1ec41992] \u001b[39mMosekTools v0.15.1\n",
      "  \u001b[90m[2f354839] \u001b[39mPajarito v0.8.2\n",
      "  \u001b[90m[08abe8d2] \u001b[39mPrettyTables v2.3.1\n",
      "  \u001b[90m[c946c3f1] \u001b[39mSCS v2.0.0\n",
      "  \u001b[90m[3eaba693] \u001b[39mStatsModels v0.7.3\n"
     ]
    }
   ],
   "source": [
    "using Pkg\n",
    "\n",
    "Pkg.activate(pwd())\n",
    "Pkg.instantiate()\n",
    "Pkg.status()\n",
    "# Pkg.add(\"MathOptInterface\")"
   ]
  },
  {
   "cell_type": "markdown",
   "metadata": {},
   "source": [
    "In this exercise, we practice using disciplined convex programming (SDP in particular) to solve optimal design problems.\n",
    "\n",
    "## Introduction to optimal design\n",
    "\n",
    "Consider a linear model\n",
    "\\begin{aligned}\n",
    "\ty_i = \\mathbf{x}_i^T \\boldsymbol{\\beta} + \\epsilon_i, \\quad i = 1,\\ldots, n,\n",
    "\\end{aligned}\n",
    "where $\\epsilon_i$ are independent Gaussian noises with common variance $\\sigma^2$. It is well known that the least squares estimate $\\hat{\\boldsymbol{\\beta}}$ is unbiased and has covariance $\\sigma^2 (\\sum_{i=1}^n \\mathbf{x}_i \\mathbf{x}_i^T)^{-1}$. \n",
    "\n",
    "In **exact optimal design**, given total number of $n$ allowable experiments, we want to choose among a list of $m$ candidate design points $\\{\\mathbf{x}_1, \\ldots, \\mathbf{x}_m\\}$ such that the covariance matrix is minimized in some sense. In mathematical terms, we want to find an integer vector $\\mathbf{n} = (n_1, \\ldots, n_m)$ such that $n_i \\ge 0$, $\\sum_{i=1}^m n_i = n$, and the matrix $\\mathbf{V} = \\left( \\sum_{i=1}^m n_i \\mathbf{x}_i \\mathbf{x}_i^T \\right)^{-1}$ is \"small\".\n",
    "\n",
    "In **approximate optimal design**,  we want to find a probability vector $\\mathbf{p} = (p_1, \\ldots, p_m)$ such that $p_i \\ge 0$, $\\sum_{i=1}^m p_i = 1$, and the matrix $\\mathbf{V} = \\left( \\sum_{i=1}^m p_i \\mathbf{x}_i \\mathbf{x}_i^T \\right)^{-1}$ is \"small\".\n",
    "\n",
    "Commonly used optimal design criteria include:\n",
    "\n",
    "- In **$D$-optimal design**, we minimize the determinant of $\\mathbf{V}$\n",
    "\\begin{aligned}\n",
    "\t&\\text{minimize}& \\det \\left( \\sum_{i=1}^m p_i \\mathbf{x}_i \\mathbf{x}_i^T \\right)^{-1} \\\\\n",
    "\t&\\text{subject to}& p_i \\ge 0, \\sum_{i=1}^m p_i = 1.\n",
    "\\end{aligned}\n",
    "\n",
    "- In **$E$-optimal design**, we minimize the spectral norm, i.e., the maximum eigenvalue of $\\mathbf{V}$\n",
    "\\begin{aligned}\n",
    "\t&\\text{minimize}& \\lambda_{\\text{max}} \\left( \\sum_{i=1}^m p_i \\mathbf{x}_i \\mathbf{x}_i^T \\right)^{-1} \\\\\n",
    "\t&\\text{subject to}& p_i \\ge 0, \\sum_{i=1}^m p_i = 1.\t\n",
    "\\end{aligned}\n",
    "Statistically we are minimizing the maximum variance of $\\sum_{j=1}^p a_j \\text{var}(\\hat \\beta_j)$ over all vectors $\\mathbf{a}$ with unit norm.\n",
    "\n",
    "- In **$A$-optimal design**, we minimize the trace of $\\mathbf{V}$\n",
    "\\begin{aligned}\n",
    "\t&\\text{minimize}& \\text{tr} \\left( \\sum_{i=1}^m p_i \\mathbf{x}_i \\mathbf{x}_i^T \\right)^{-1} \\\\\n",
    "\t&\\text{subject to}& p_i \\ge 0, \\sum_{i=1}^m p_i = 1.\n",
    "\\end{aligned}\n",
    "Statistically we are minimizing the total variance $\\sum_{j=1}^p \\text{var}(\\hat \\beta_j)$.\n",
    "\n",
    "## Q1 (10 pts) 3x4 factorial design\n",
    "\n",
    "A drug company asks you to help design a two factor clinical trial, in which treatment A has three levels (A1, A2, and A3) and treatment B has four levels (B1, B2, B3, and B4). Drug company also tells you that the treatment combination A3:B4 has undesirable side effects so we ignore this design point. \n",
    "\n",
    "Using dummy coding with A1 and B1 as the baseline levels, find the matrix $\\mathbf{C}$ with each row a unique design point."
   ]
  },
  {
   "cell_type": "markdown",
   "metadata": {},
   "source": [
    "**Solution**\n",
    "\n",
    "$\\mathbf{C}$ has $6$ columns (intercept, A2, A3, B2, B3, B4) and $m = 3 \\times 4 - 1 = 11$ rows when ignoring A3:B4. The row order follows the sequence seen in Q2:\n",
    "$$\n",
    "\\begin{aligned}\n",
    "\\mathbf{C} = \n",
    "    \\begin{bmatrix}\n",
    "        \\mathbf{x}_1^T\\\\\n",
    "        \\mathbf{x}_2^T\\\\\n",
    "        \\mathbf{x}_3^T\\\\\n",
    "        \\mathbf{x}_4^T\\\\\n",
    "        \\mathbf{x}_5^T\\\\\n",
    "        \\mathbf{x}_6^T\\\\\n",
    "        \\mathbf{x}_7^T\\\\\n",
    "        \\mathbf{x}_8^T\\\\\n",
    "        \\mathbf{x}_9^T\\\\\n",
    "        \\mathbf{x}_{10}^T\\\\\n",
    "        \\mathbf{x}_{11}^T\n",
    "    \\end{bmatrix}\n",
    "    =\n",
    "    \\begin{bmatrix}\n",
    "        1 & 0 & 0 & 0 & 0 & 0 \\\\\n",
    "        1 & 1 & 0 & 0 & 0 & 0 \\\\\n",
    "        1 & 0 & 1 & 0 & 0 & 0 \\\\\n",
    "        1 & 0 & 0 & 1 & 0 & 0 \\\\\n",
    "        1 & 1 & 0 & 1 & 0 & 0 \\\\\n",
    "        1 & 0 & 1 & 1 & 0 & 0 \\\\\n",
    "        1 & 0 & 0 & 0 & 1 & 0 \\\\\n",
    "        1 & 1 & 0 & 0 & 1 & 0 \\\\\n",
    "        1 & 0 & 1 & 0 & 1 & 0 \\\\\n",
    "        1 & 0 & 0 & 0 & 0 & 1 \\\\\n",
    "        1 & 1 & 0 & 0 & 0 & 1\n",
    "    \\end{bmatrix}\n",
    "    \\quad\\text{with}\\quad\n",
    "    \\mathbf{C}^T\\mathbf{C} = \\sum_{i=1}^{11}\\mathbf{x}_i \\mathbf{x}_1^T.\n",
    "\\end{aligned}\n",
    "$$\n",
    "Suppose $\\mathbf{W}$ is a diagonal matrix with positive entries of $\\mathbf{n}$ or $\\mathbf{p}$, then we have\n",
    "$$\n",
    "\\mathbf{V} = \\left(\\mathbf{C}^T\\mathbf{W}\\mathbf{C}\\right)^{-1}\n",
    "$$\n",
    "with constraint $\\mathbf{1}^T\\mathbf{n} = n$ or $\\mathbf{1}^T\\mathbf{p} = 1$.\n",
    "\n",
    "<!-- \\begin{array}{c|ccccc}\n",
    "    & \\text{Intercept} & \\text{A2} & \\text{A3} & \\text{B2} & \\text{B3} & \\text{B4} \\\\\n",
    "    \\hline\n",
    "    \\text{A1:B1} & 1 & 0 & 0 & 0 & 0 & 0 \\\\\n",
    "    \\text{A2:B1} & 1 & 1 & 0 & 0 & 0 & 0 \\\\\n",
    "    \\text{A3:B1} & 1 & 0 & 1 & 0 & 0 & 0 \\\\\n",
    "    \\text{A1:B2} & 1 & 0 & 0 & 1 & 0 & 0 \\\\\n",
    "    \\text{A2:B2} & 1 & 1 & 0 & 1 & 0 & 0 \\\\\n",
    "    \\text{A3:B2} & 1 & 0 & 1 & 1 & 0 & 0 \\\\\n",
    "    \\text{A1:B3} & 1 & 0 & 0 & 0 & 1 & 0 \\\\\n",
    "    \\text{A2:B3} & 1 & 1 & 0 & 0 & 1 & 0 \\\\\n",
    "    \\text{A3:B3} & 1 & 0 & 1 & 0 & 1 & 0 \\\\\n",
    "    \\text{A1:B4} & 1 & 0 & 0 & 0 & 0 & 1 \\\\\n",
    "    \\text{A2:B4} & 1 & 1 & 0 & 0 & 0 & 1\n",
    "\\end{array} -->"
   ]
  },
  {
   "cell_type": "code",
   "execution_count": 1,
   "metadata": {},
   "outputs": [
    {
     "data": {
      "text/plain": [
       "11×6 Matrix{Int64}:\n",
       " 1  0  0  0  0  0\n",
       " 1  1  0  0  0  0\n",
       " 1  0  1  0  0  0\n",
       " 1  0  0  1  0  0\n",
       " 1  1  0  1  0  0\n",
       " 1  0  1  1  0  0\n",
       " 1  0  0  0  1  0\n",
       " 1  1  0  0  1  0\n",
       " 1  0  1  0  1  0\n",
       " 1  0  0  0  0  1\n",
       " 1  1  0  0  0  1"
      ]
     },
     "metadata": {},
     "output_type": "display_data"
    }
   ],
   "source": [
    "C = [1 0 0 0 0 0;\n",
    "     1 1 0 0 0 0;\n",
    "     1 0 1 0 0 0;\n",
    "     1 0 0 1 0 0;\n",
    "     1 1 0 1 0 0;\n",
    "     1 0 1 1 0 0;\n",
    "     1 0 0 0 1 0;\n",
    "     1 1 0 0 1 0;\n",
    "     1 0 1 0 1 0;\n",
    "     1 0 0 0 0 1;\n",
    "     1 1 0 0 0 1]"
   ]
  },
  {
   "cell_type": "markdown",
   "metadata": {},
   "source": [
    "## Q2 (30 pts) Find approximate optimal designs\n",
    "\n",
    "Using semidefinite programming (SDP) software to find the approximate D-, E-, and A-optimal designs for this clinical trial.\n",
    "\n",
    "Hint: This is what I got (using Hypatia solver), which may or may not be correct.\n",
    "\n",
    "```\n",
    "Approximate Optimal Design\n",
    "┌───────────┬─────────┬─────────┬─────────┬─────────┬─────────┬─────────┐\n",
    "│ design_pt │   D_opt │   E_opt │   A_opt │ D_opt_n │ E_opt_n │ A_opt_n │\n",
    "│    String │ Float64 │ Float64 │ Float64 │ Float64 │ Float64 │ Float64 │\n",
    "├───────────┼─────────┼─────────┼─────────┼─────────┼─────────┼─────────┤\n",
    "│      A1B1 │   0.082 │   0.271 │   0.200 │   8.000 │  27.000 │  20.000 │\n",
    "│      A2B1 │   0.082 │   0.150 │   0.101 │   8.000 │  15.000 │  10.000 │\n",
    "│      A3B1 │   0.097 │   0.118 │   0.104 │  10.000 │  12.000 │  10.000 │\n",
    "│      A1B2 │   0.082 │   0.058 │   0.086 │   8.000 │   6.000 │   9.000 │\n",
    "│      A2B2 │   0.082 │   0.037 │   0.051 │   8.000 │   4.000 │   5.000 │\n",
    "│      A3B2 │   0.097 │   0.059 │   0.068 │  10.000 │   6.000 │   7.000 │\n",
    "│      A1B3 │   0.082 │   0.058 │   0.086 │   8.000 │   6.000 │   9.000 │\n",
    "│      A2B3 │   0.082 │   0.037 │   0.051 │   8.000 │   3.000 │   5.000 │\n",
    "│      A3B3 │   0.097 │   0.059 │   0.068 │  10.000 │   6.000 │   7.000 │\n",
    "│      A1B4 │   0.109 │   0.079 │   0.106 │  11.000 │   8.000 │  10.000 │\n",
    "│      A2B4 │   0.109 │   0.075 │   0.080 │  11.000 │   7.000 │   8.000 │\n",
    "│       Obj │   8.987 │  13.000 │  38.925 │   8.988 │  13.028 │  38.946 │\n",
    "└───────────┴─────────┴─────────┴─────────┴─────────┴─────────┴─────────┘\n",
    "```"
   ]
  },
  {
   "cell_type": "markdown",
   "metadata": {},
   "source": [
    "**Solution**\n",
    "\n",
    "**$D$-optimal design**:\n",
    "\n",
    "It is important to note that\n",
    "$$\n",
    "\\begin{aligned}\n",
    "\t&\\text{minimize} \\quad \\det \\left( \\sum_{i=1}^m p_i \\mathbf{x}_i \\mathbf{x}_i^T \\right)^{-1}\n",
    "\t= \\left[\\det \\left( \\sum_{i=1}^m p_i \\mathbf{x}_i \\mathbf{x}_i^T \\right)\\right]^{-1}\\\\\n",
    "\t\\Longleftrightarrow\\quad\n",
    "\t&\\text{minimize} \\quad -\\det \\left( \\sum_{i=1}^m p_i \\mathbf{x}_i \\mathbf{x}_i^T \\right)\\\\\n",
    "\t\\Longleftrightarrow\\quad\n",
    "\t&\\text{minimize} \\quad -\\text{logdet} \\left( \\sum_{i=1}^m p_i \\mathbf{x}_i \\mathbf{x}_i^T \\right)\n",
    "\t= -\\text{logdet}\\left(\\mathbf{C}^T\\mathbf{W}\\mathbf{C}\\right).\n",
    "\\end{aligned}\n",
    "$$\n",
    "So, we don't need to take inverse of $\\mathbf{V}$. I use `minimize` (instead of `maximize`) to obtain a positive objective function, as Dr. Zhou did."
   ]
  },
  {
   "cell_type": "code",
   "execution_count": 4,
   "metadata": {},
   "outputs": [],
   "source": [
    "using LinearAlgebra, Convex"
   ]
  },
  {
   "cell_type": "code",
   "execution_count": 80,
   "metadata": {},
   "outputs": [
    {
     "data": {
      "text/plain": [
       "minimize\n",
       "└─ - (convex; real)\n",
       "   └─ logdet (concave; real)\n",
       "      └─ * (affine; positive)\n",
       "         ├─ …\n",
       "         └─ …\n",
       "subject to\n",
       "└─ == constraint (affine)\n",
       "   ├─ sum (affine; positive)\n",
       "   │  └─ 11-element positive variable (id: 878…751)\n",
       "   └─ 1\n",
       "\n",
       "status: `solve!` not called yet"
      ]
     },
     "metadata": {},
     "output_type": "display_data"
    }
   ],
   "source": [
    "m = size(C, 1) # 11\n",
    "p = Variable(m, Positive())\n",
    "V⁻¹ = transpose(C) * Diagonal(p) * C\n",
    "problem = minimize(-logdet(V⁻¹))\n",
    "# problem.constraints += p .>= 0 # not needed using Positive()\n",
    "problem.constraints += sum(p) == 1\n",
    "problem"
   ]
  },
  {
   "cell_type": "markdown",
   "metadata": {},
   "source": [
    "I use the Hypatia solver, as Dr. Zhou did."
   ]
  },
  {
   "cell_type": "code",
   "execution_count": 81,
   "metadata": {},
   "outputs": [
    {
     "name": "stdout",
     "output_type": "stream",
     "text": [
      "  0.080410 seconds (40.67 k allocations: 3.441 MiB)\n",
      "Obj = 8.987\n"
     ]
    },
    {
     "data": {
      "text/plain": [
       "12×1 Matrix{Float64}:\n",
       " 0.082\n",
       " 0.082\n",
       " 0.097\n",
       " 0.082\n",
       " 0.082\n",
       " 0.097\n",
       " 0.082\n",
       " 0.082\n",
       " 0.097\n",
       " 0.109\n",
       " 0.109\n",
       " 8.987"
      ]
     },
     "metadata": {},
     "output_type": "display_data"
    }
   ],
   "source": [
    "using Hypatia, MathOptInterface\n",
    "\n",
    "const MOI = MathOptInterface\n",
    "solver = Hypatia.Optimizer()\n",
    "MOI.set(solver, MOI.RawOptimizerAttribute(\"verbose\"), 0)\n",
    "\n",
    "@time solve!(problem, solver)\n",
    "\n",
    "# Check optimal value and optimal solution\n",
    "D_opt_obj = round(problem.optval, digits = 3)\n",
    "D_opt_p = round.(p.value, digits = 3)\n",
    "println(\"Obj = \", D_opt_obj)\n",
    "vcat(D_opt_p, [D_opt_obj])"
   ]
  },
  {
   "cell_type": "code",
   "execution_count": 63,
   "metadata": {},
   "outputs": [
    {
     "data": {
      "text/plain": [
       "true"
      ]
     },
     "metadata": {},
     "output_type": "display_data"
    }
   ],
   "source": [
    "# check constraint satisfication\n",
    "sum(p.value) ≈ 1.0"
   ]
  },
  {
   "cell_type": "code",
   "execution_count": 105,
   "metadata": {},
   "outputs": [
    {
     "data": {
      "text/plain": [
       "11×1 Matrix{Float64}:\n",
       "  8.0\n",
       "  8.0\n",
       " 10.0\n",
       "  8.0\n",
       "  8.0\n",
       " 10.0\n",
       "  8.0\n",
       "  8.0\n",
       " 10.0\n",
       " 11.0\n",
       " 11.0"
      ]
     },
     "metadata": {},
     "output_type": "display_data"
    },
    {
     "data": {
      "text/plain": [
       "8.988"
      ]
     },
     "metadata": {},
     "output_type": "display_data"
    }
   ],
   "source": [
    "# convert p to integer n\n",
    "D_opt_n = round.(p.value * 100, digits = 0)\n",
    "display(D_opt_n)\n",
    "D_opt_obj_n = -logdet(transpose(C) * Diagonal(vec(D_opt_n)/100) * C)\n",
    "D_opt_obj_n = round(D_opt_obj_n, digits = 3)"
   ]
  },
  {
   "cell_type": "markdown",
   "metadata": {},
   "source": [
    "**$E$-optimal design**\n",
    "\n",
    "Use the equivalent objective function to avoid the inverse as shown below:\n",
    "$$\n",
    "\\begin{aligned}\n",
    "\t&\\text{minimize} \\quad\\lambda_{\\text{max}}(\\mathbf{V})\\\\\n",
    "\t\\Longleftrightarrow\\quad\n",
    "\t&\\text{maximize} \\quad \\lambda_{\\text{min}} \\left(\\mathbf{V}^{-1} \\right)\n",
    "\t= \\lambda_{\\text{min}}\\left(\\mathbf{C}^T\\mathbf{W}\\mathbf{C}\\right)\\\\\n",
    "\t\\Longleftrightarrow\\quad\n",
    "\t&\\text{minimize} \\quad 1/\\lambda_{\\text{min}}\\left(\\mathbf{C}^T\\mathbf{W}\\mathbf{C}\\right).\n",
    "\\end{aligned}\n",
    "$$"
   ]
  },
  {
   "cell_type": "code",
   "execution_count": 106,
   "metadata": {},
   "outputs": [
    {
     "name": "stdout",
     "output_type": "stream",
     "text": [
      "  0.032508 seconds (16.30 k allocations: 1.162 MiB)\n",
      "Obj = 13.0\n"
     ]
    },
    {
     "data": {
      "text/plain": [
       "12×1 Matrix{Float64}:\n",
       "  0.258\n",
       "  0.162\n",
       "  0.118\n",
       "  0.054\n",
       "  0.041\n",
       "  0.059\n",
       "  0.054\n",
       "  0.041\n",
       "  0.059\n",
       "  0.074\n",
       "  0.08\n",
       " 13.0"
      ]
     },
     "metadata": {},
     "output_type": "display_data"
    }
   ],
   "source": [
    "problem = minimize(1 / eigmin(V⁻¹))\n",
    "# problem.constraints += p .>= 0 # not needed using Positive()\n",
    "problem.constraints += sum(p) == 1\n",
    "problem\n",
    "\n",
    "const MOI = MathOptInterface\n",
    "solver = Hypatia.Optimizer()\n",
    "MOI.set(solver, MOI.RawOptimizerAttribute(\"verbose\"), 0)\n",
    "\n",
    "@time solve!(problem, solver)\n",
    "\n",
    "# Check the status, optimal value\n",
    "E_opt_obj = round(problem.optval, digits = 3)\n",
    "E_opt_p = round.(p.value, digits = 3)\n",
    "println(\"Obj = \", E_opt_obj)\n",
    "vcat(E_opt_p, [E_opt_obj])"
   ]
  },
  {
   "cell_type": "code",
   "execution_count": 12,
   "metadata": {},
   "outputs": [
    {
     "data": {
      "text/plain": [
       "true"
      ]
     },
     "metadata": {},
     "output_type": "display_data"
    }
   ],
   "source": [
    "sum(p.value) ≈ 1.0"
   ]
  },
  {
   "cell_type": "markdown",
   "metadata": {},
   "source": [
    "To convert $\\mathbf{p}$ to integer $\\mathbf{n}$ with $n=100$ by rounding and recalculate the objective function."
   ]
  },
  {
   "cell_type": "code",
   "execution_count": 109,
   "metadata": {},
   "outputs": [
    {
     "data": {
      "text/plain": [
       "11×1 Matrix{Float64}:\n",
       " 26.0\n",
       " 16.0\n",
       " 12.0\n",
       "  5.0\n",
       "  4.0\n",
       "  6.0\n",
       "  5.0\n",
       "  4.0\n",
       "  6.0\n",
       "  7.0\n",
       "  8.0"
      ]
     },
     "metadata": {},
     "output_type": "display_data"
    },
    {
     "data": {
      "text/plain": [
       "13.152"
      ]
     },
     "metadata": {},
     "output_type": "display_data"
    }
   ],
   "source": [
    "E_opt_n = round.(p.value * 100, digits = 0)\n",
    "display(E_opt_n)\n",
    "E_opt_obj_n = 1 / eigmin(transpose(C) * Diagonal(vec(E_opt_n) / 100) * C)\n",
    "E_opt_obj_n = round(E_opt_obj_n, digits = 3)"
   ]
  },
  {
   "cell_type": "markdown",
   "metadata": {},
   "source": [
    "Note that although\n",
    "$$\n",
    "\\begin{aligned}\n",
    "\t&\\text{minimize} \\quad 1/\\lambda_{\\text{min}}\\left(\\mathbf{C}^T\\mathbf{W}\\mathbf{C}\\right)\\\\\n",
    "\t\\Longleftrightarrow\\quad\n",
    "\t&\\text{minimize} \\quad - \\lambda_{\\text{min}} \\left(\\mathbf{C}^T\\mathbf{W}\\mathbf{C}\\right)\n",
    "\\end{aligned},\n",
    "$$\n",
    "the results are not completely the same and closer to what Dr. Zhou obtained."
   ]
  },
  {
   "cell_type": "code",
   "execution_count": 110,
   "metadata": {},
   "outputs": [
    {
     "name": "stdout",
     "output_type": "stream",
     "text": [
      "  0.045014 seconds (10.55 k allocations: 890.797 KiB)\n",
      "Obj = -0.077\n"
     ]
    },
    {
     "data": {
      "text/plain": [
       "12×1 Matrix{Float64}:\n",
       "  0.273\n",
       "  0.152\n",
       "  0.114\n",
       "  0.057\n",
       "  0.039\n",
       "  0.057\n",
       "  0.057\n",
       "  0.039\n",
       "  0.057\n",
       "  0.081\n",
       "  0.073\n",
       " -0.077"
      ]
     },
     "metadata": {},
     "output_type": "display_data"
    }
   ],
   "source": [
    "problem = minimize(- eigmin(V⁻¹))\n",
    "# problem.constraints += p .>= 0\n",
    "problem.constraints += sum(p) == 1\n",
    "problem\n",
    "\n",
    "const MOI = MathOptInterface\n",
    "solver = Hypatia.Optimizer()\n",
    "MOI.set(solver, MOI.RawOptimizerAttribute(\"verbose\"), 0)\n",
    "\n",
    "@time solve!(problem, solver)\n",
    "\n",
    "# Check the status, optimal value\n",
    "E_opt_obj2 = round(problem.optval, digits = 3)\n",
    "E_opt_p2 = round.(p.value, digits = 3)\n",
    "println(\"Obj = \", E_opt_obj2)\n",
    "vcat(E_opt_p2, [E_opt_obj2])"
   ]
  },
  {
   "cell_type": "markdown",
   "metadata": {},
   "source": [
    "with an equivalent objective function, i.e., $-(-0.077)^{-1} = 13$."
   ]
  },
  {
   "cell_type": "code",
   "execution_count": 113,
   "metadata": {},
   "outputs": [
    {
     "data": {
      "text/plain": [
       "11×1 Matrix{Float64}:\n",
       " 27.0\n",
       " 15.0\n",
       " 11.0\n",
       "  6.0\n",
       "  4.0\n",
       "  6.0\n",
       "  6.0\n",
       "  4.0\n",
       "  6.0\n",
       "  8.0\n",
       "  7.0"
      ]
     },
     "metadata": {},
     "output_type": "display_data"
    },
    {
     "data": {
      "text/plain": [
       "13.016"
      ]
     },
     "metadata": {},
     "output_type": "display_data"
    }
   ],
   "source": [
    "# convert p to integer n\n",
    "E_opt_n2 = round.(p.value * 100, digits = 0)\n",
    "display(E_opt_n2)\n",
    "E_opt_obj_n2 = 1 / eigmin(transpose(C) * Diagonal(vec(E_opt_n2) / 100) * C)\n",
    "E_opt_obj_n2 = round(E_opt_obj_n2, digits = 3)"
   ]
  },
  {
   "cell_type": "markdown",
   "metadata": {},
   "source": [
    "**$A$-optimal design**:\n",
    "\n",
    "Use `trace_mpower(A, t, C)` $= \\text{tr}(\\mathbf{C}\\mathbf{A}^t)$."
   ]
  },
  {
   "cell_type": "code",
   "execution_count": 118,
   "metadata": {},
   "outputs": [
    {
     "name": "stdout",
     "output_type": "stream",
     "text": [
      "  0.065479 seconds (59.27 k allocations: 3.982 MiB)\n",
      "Obj = 38.925\n"
     ]
    },
    {
     "data": {
      "text/plain": [
       "12×1 Matrix{Float64}:\n",
       "  0.2\n",
       "  0.101\n",
       "  0.104\n",
       "  0.086\n",
       "  0.051\n",
       "  0.068\n",
       "  0.086\n",
       "  0.051\n",
       "  0.068\n",
       "  0.106\n",
       "  0.08\n",
       " 38.925"
      ]
     },
     "metadata": {},
     "output_type": "display_data"
    }
   ],
   "source": [
    "problem = minimize(trace_mpower(V⁻¹, -1, Matrix{Float64}(I, 6, 6)))\n",
    "# problem.constraints += p .>= 0 # not needed using Positive()\n",
    "problem.constraints += sum(p) == 1\n",
    "problem\n",
    "\n",
    "const MOI = MathOptInterface\n",
    "solver = Hypatia.Optimizer()\n",
    "MOI.set(solver, MOI.RawOptimizerAttribute(\"verbose\"), 0)\n",
    "\n",
    "@time solve!(problem, solver)\n",
    "\n",
    "# Check the status, optimal value\n",
    "A_opt_obj = round(problem.optval, digits = 3)\n",
    "A_opt_p = round.(p.value, digits = 3)\n",
    "println(\"Obj = \", A_opt_obj)\n",
    "vcat(A_opt_p, [A_opt_obj])"
   ]
  },
  {
   "cell_type": "code",
   "execution_count": 70,
   "metadata": {},
   "outputs": [
    {
     "data": {
      "text/plain": [
       "true"
      ]
     },
     "metadata": {},
     "output_type": "display_data"
    }
   ],
   "source": [
    "# check constraint satisfication\n",
    "sum(p.value) ≈ 1.0"
   ]
  },
  {
   "cell_type": "code",
   "execution_count": 122,
   "metadata": {},
   "outputs": [
    {
     "data": {
      "text/plain": [
       "11×1 Matrix{Float64}:\n",
       " 20.0\n",
       " 10.0\n",
       " 10.0\n",
       "  9.0\n",
       "  5.0\n",
       "  7.0\n",
       "  9.0\n",
       "  5.0\n",
       "  7.0\n",
       " 11.0\n",
       "  8.0"
      ]
     },
     "metadata": {},
     "output_type": "display_data"
    },
    {
     "data": {
      "text/plain": [
       "38.553"
      ]
     },
     "metadata": {},
     "output_type": "display_data"
    }
   ],
   "source": [
    "# convert p to integer n\n",
    "A_opt_n = round.(p.value * 100, digits = 0)\n",
    "display(A_opt_n)\n",
    "A_opt_obj_n = trace_mpower(transpose(C) * Diagonal(vec(A_opt_n) / 100) * C, -1, Matrix{Float64}(I, 6, 6))\n",
    "A_opt_obj_n = round(A_opt_obj_n, digits = 3)"
   ]
  },
  {
   "cell_type": "markdown",
   "metadata": {},
   "source": [
    "Let's merge the three results in table."
   ]
  },
  {
   "cell_type": "code",
   "execution_count": 123,
   "metadata": {},
   "outputs": [
    {
     "data": {
      "text/html": [
       "<div><div style = \"float: left;\"><span>12×9 DataFrame</span></div><div style = \"clear: both;\"></div></div><div class = \"data-frame\" style = \"overflow-x: scroll;\"><table class = \"data-frame\" style = \"margin-bottom: 6px;\"><thead><tr class = \"header\"><th class = \"rowNumber\" style = \"font-weight: bold; text-align: right;\">Row</th><th style = \"text-align: left;\">design_pt</th><th style = \"text-align: left;\">D_opt</th><th style = \"text-align: left;\">E_opt</th><th style = \"text-align: left;\">E_opt2</th><th style = \"text-align: left;\">A_opt</th><th style = \"text-align: left;\">D_opt_n</th><th style = \"text-align: left;\">E_opt_n</th><th style = \"text-align: left;\">E_opt_n2</th><th style = \"text-align: left;\">A_opt_n</th></tr><tr class = \"subheader headerLastRow\"><th class = \"rowNumber\" style = \"font-weight: bold; text-align: right;\"></th><th title = \"String\" style = \"text-align: left;\">String</th><th title = \"Float64\" style = \"text-align: left;\">Float64</th><th title = \"Float64\" style = \"text-align: left;\">Float64</th><th title = \"Float64\" style = \"text-align: left;\">Float64</th><th title = \"Float64\" style = \"text-align: left;\">Float64</th><th title = \"Float64\" style = \"text-align: left;\">Float64</th><th title = \"Float64\" style = \"text-align: left;\">Float64</th><th title = \"Float64\" style = \"text-align: left;\">Float64</th><th title = \"Float64\" style = \"text-align: left;\">Float64</th></tr></thead><tbody><tr><td class = \"rowNumber\" style = \"font-weight: bold; text-align: right;\">1</td><td style = \"text-align: left;\">A1B1</td><td style = \"text-align: right;\">0.082</td><td style = \"text-align: right;\">0.258</td><td style = \"text-align: right;\">0.273</td><td style = \"text-align: right;\">0.2</td><td style = \"text-align: right;\">8.0</td><td style = \"text-align: right;\">26.0</td><td style = \"text-align: right;\">27.0</td><td style = \"text-align: right;\">20.0</td></tr><tr><td class = \"rowNumber\" style = \"font-weight: bold; text-align: right;\">2</td><td style = \"text-align: left;\">A2B1</td><td style = \"text-align: right;\">0.082</td><td style = \"text-align: right;\">0.162</td><td style = \"text-align: right;\">0.152</td><td style = \"text-align: right;\">0.101</td><td style = \"text-align: right;\">8.0</td><td style = \"text-align: right;\">16.0</td><td style = \"text-align: right;\">15.0</td><td style = \"text-align: right;\">10.0</td></tr><tr><td class = \"rowNumber\" style = \"font-weight: bold; text-align: right;\">3</td><td style = \"text-align: left;\">A3B1</td><td style = \"text-align: right;\">0.097</td><td style = \"text-align: right;\">0.118</td><td style = \"text-align: right;\">0.114</td><td style = \"text-align: right;\">0.104</td><td style = \"text-align: right;\">10.0</td><td style = \"text-align: right;\">12.0</td><td style = \"text-align: right;\">11.0</td><td style = \"text-align: right;\">10.0</td></tr><tr><td class = \"rowNumber\" style = \"font-weight: bold; text-align: right;\">4</td><td style = \"text-align: left;\">A1B2</td><td style = \"text-align: right;\">0.082</td><td style = \"text-align: right;\">0.054</td><td style = \"text-align: right;\">0.057</td><td style = \"text-align: right;\">0.086</td><td style = \"text-align: right;\">8.0</td><td style = \"text-align: right;\">5.0</td><td style = \"text-align: right;\">6.0</td><td style = \"text-align: right;\">9.0</td></tr><tr><td class = \"rowNumber\" style = \"font-weight: bold; text-align: right;\">5</td><td style = \"text-align: left;\">A2B2</td><td style = \"text-align: right;\">0.082</td><td style = \"text-align: right;\">0.041</td><td style = \"text-align: right;\">0.039</td><td style = \"text-align: right;\">0.051</td><td style = \"text-align: right;\">8.0</td><td style = \"text-align: right;\">4.0</td><td style = \"text-align: right;\">4.0</td><td style = \"text-align: right;\">5.0</td></tr><tr><td class = \"rowNumber\" style = \"font-weight: bold; text-align: right;\">6</td><td style = \"text-align: left;\">A3B2</td><td style = \"text-align: right;\">0.097</td><td style = \"text-align: right;\">0.059</td><td style = \"text-align: right;\">0.057</td><td style = \"text-align: right;\">0.068</td><td style = \"text-align: right;\">10.0</td><td style = \"text-align: right;\">6.0</td><td style = \"text-align: right;\">6.0</td><td style = \"text-align: right;\">7.0</td></tr><tr><td class = \"rowNumber\" style = \"font-weight: bold; text-align: right;\">7</td><td style = \"text-align: left;\">A1B3</td><td style = \"text-align: right;\">0.082</td><td style = \"text-align: right;\">0.054</td><td style = \"text-align: right;\">0.057</td><td style = \"text-align: right;\">0.086</td><td style = \"text-align: right;\">8.0</td><td style = \"text-align: right;\">5.0</td><td style = \"text-align: right;\">6.0</td><td style = \"text-align: right;\">9.0</td></tr><tr><td class = \"rowNumber\" style = \"font-weight: bold; text-align: right;\">8</td><td style = \"text-align: left;\">A2B3</td><td style = \"text-align: right;\">0.082</td><td style = \"text-align: right;\">0.041</td><td style = \"text-align: right;\">0.039</td><td style = \"text-align: right;\">0.051</td><td style = \"text-align: right;\">8.0</td><td style = \"text-align: right;\">4.0</td><td style = \"text-align: right;\">4.0</td><td style = \"text-align: right;\">5.0</td></tr><tr><td class = \"rowNumber\" style = \"font-weight: bold; text-align: right;\">9</td><td style = \"text-align: left;\">A3B3</td><td style = \"text-align: right;\">0.097</td><td style = \"text-align: right;\">0.059</td><td style = \"text-align: right;\">0.057</td><td style = \"text-align: right;\">0.068</td><td style = \"text-align: right;\">10.0</td><td style = \"text-align: right;\">6.0</td><td style = \"text-align: right;\">6.0</td><td style = \"text-align: right;\">7.0</td></tr><tr><td class = \"rowNumber\" style = \"font-weight: bold; text-align: right;\">10</td><td style = \"text-align: left;\">A1B4</td><td style = \"text-align: right;\">0.109</td><td style = \"text-align: right;\">0.074</td><td style = \"text-align: right;\">0.081</td><td style = \"text-align: right;\">0.106</td><td style = \"text-align: right;\">11.0</td><td style = \"text-align: right;\">7.0</td><td style = \"text-align: right;\">8.0</td><td style = \"text-align: right;\">11.0</td></tr><tr><td class = \"rowNumber\" style = \"font-weight: bold; text-align: right;\">11</td><td style = \"text-align: left;\">A2B4</td><td style = \"text-align: right;\">0.109</td><td style = \"text-align: right;\">0.08</td><td style = \"text-align: right;\">0.073</td><td style = \"text-align: right;\">0.08</td><td style = \"text-align: right;\">11.0</td><td style = \"text-align: right;\">8.0</td><td style = \"text-align: right;\">7.0</td><td style = \"text-align: right;\">8.0</td></tr><tr><td class = \"rowNumber\" style = \"font-weight: bold; text-align: right;\">12</td><td style = \"text-align: left;\">Obj</td><td style = \"text-align: right;\">8.987</td><td style = \"text-align: right;\">13.0</td><td style = \"text-align: right;\">12.987</td><td style = \"text-align: right;\">38.925</td><td style = \"text-align: right;\">8.988</td><td style = \"text-align: right;\">13.152</td><td style = \"text-align: right;\">13.016</td><td style = \"text-align: right;\">38.553</td></tr></tbody></table></div>"
      ],
      "text/latex": [
       "\\begin{tabular}{r|ccccccccc}\n",
       "\t& design\\_pt & D\\_opt & E\\_opt & E\\_opt2 & A\\_opt & D\\_opt\\_n & E\\_opt\\_n & E\\_opt\\_n2 & A\\_opt\\_n\\\\\n",
       "\t\\hline\n",
       "\t& String & Float64 & Float64 & Float64 & Float64 & Float64 & Float64 & Float64 & Float64\\\\\n",
       "\t\\hline\n",
       "\t1 & A1B1 & 0.082 & 0.258 & 0.273 & 0.2 & 8.0 & 26.0 & 27.0 & 20.0 \\\\\n",
       "\t2 & A2B1 & 0.082 & 0.162 & 0.152 & 0.101 & 8.0 & 16.0 & 15.0 & 10.0 \\\\\n",
       "\t3 & A3B1 & 0.097 & 0.118 & 0.114 & 0.104 & 10.0 & 12.0 & 11.0 & 10.0 \\\\\n",
       "\t4 & A1B2 & 0.082 & 0.054 & 0.057 & 0.086 & 8.0 & 5.0 & 6.0 & 9.0 \\\\\n",
       "\t5 & A2B2 & 0.082 & 0.041 & 0.039 & 0.051 & 8.0 & 4.0 & 4.0 & 5.0 \\\\\n",
       "\t6 & A3B2 & 0.097 & 0.059 & 0.057 & 0.068 & 10.0 & 6.0 & 6.0 & 7.0 \\\\\n",
       "\t7 & A1B3 & 0.082 & 0.054 & 0.057 & 0.086 & 8.0 & 5.0 & 6.0 & 9.0 \\\\\n",
       "\t8 & A2B3 & 0.082 & 0.041 & 0.039 & 0.051 & 8.0 & 4.0 & 4.0 & 5.0 \\\\\n",
       "\t9 & A3B3 & 0.097 & 0.059 & 0.057 & 0.068 & 10.0 & 6.0 & 6.0 & 7.0 \\\\\n",
       "\t10 & A1B4 & 0.109 & 0.074 & 0.081 & 0.106 & 11.0 & 7.0 & 8.0 & 11.0 \\\\\n",
       "\t11 & A2B4 & 0.109 & 0.08 & 0.073 & 0.08 & 11.0 & 8.0 & 7.0 & 8.0 \\\\\n",
       "\t12 & Obj & 8.987 & 13.0 & 12.987 & 38.925 & 8.988 & 13.152 & 13.016 & 38.553 \\\\\n",
       "\\end{tabular}\n"
      ],
      "text/plain": [
       "\u001b[1m12×9 DataFrame\u001b[0m\n",
       "\u001b[1m Row \u001b[0m│\u001b[1m design_pt \u001b[0m\u001b[1m D_opt   \u001b[0m\u001b[1m E_opt   \u001b[0m\u001b[1m E_opt2  \u001b[0m\u001b[1m A_opt   \u001b[0m\u001b[1m D_opt_n \u001b[0m\u001b[1m E_opt_n \u001b[0m\u001b[1m E_opt_\u001b[0m ⋯\n",
       "     │\u001b[90m String    \u001b[0m\u001b[90m Float64 \u001b[0m\u001b[90m Float64 \u001b[0m\u001b[90m Float64 \u001b[0m\u001b[90m Float64 \u001b[0m\u001b[90m Float64 \u001b[0m\u001b[90m Float64 \u001b[0m\u001b[90m Float6\u001b[0m ⋯\n",
       "─────┼──────────────────────────────────────────────────────────────────────────\n",
       "   1 │ A1B1         0.082    0.258    0.273    0.2      8.0     26.0      27.0 ⋯\n",
       "   2 │ A2B1         0.082    0.162    0.152    0.101    8.0     16.0      15.0\n",
       "   3 │ A3B1         0.097    0.118    0.114    0.104   10.0     12.0      11.0\n",
       "   4 │ A1B2         0.082    0.054    0.057    0.086    8.0      5.0       6.0\n",
       "   5 │ A2B2         0.082    0.041    0.039    0.051    8.0      4.0       4.0 ⋯\n",
       "   6 │ A3B2         0.097    0.059    0.057    0.068   10.0      6.0       6.0\n",
       "   7 │ A1B3         0.082    0.054    0.057    0.086    8.0      5.0       6.0\n",
       "   8 │ A2B3         0.082    0.041    0.039    0.051    8.0      4.0       4.0\n",
       "   9 │ A3B3         0.097    0.059    0.057    0.068   10.0      6.0       6.0 ⋯\n",
       "  10 │ A1B4         0.109    0.074    0.081    0.106   11.0      7.0       8.0\n",
       "  11 │ A2B4         0.109    0.08     0.073    0.08    11.0      8.0       7.0\n",
       "  12 │ Obj          8.987   13.0     12.987   38.925    8.988   13.152    13.0\n",
       "\u001b[36m                                                               2 columns omitted\u001b[0m"
      ]
     },
     "metadata": {},
     "output_type": "display_data"
    }
   ],
   "source": [
    "using DataFrames\n",
    "treatment = [\n",
    "    \"A1B1\", \"A2B1\", \"A3B1\",\n",
    "    \"A1B2\", \"A2B2\", \"A3B2\",\n",
    "    \"A1B3\", \"A2B3\", \"A3B3\",\n",
    "    \"A1B4\", \"A2B4\", \"Obj\"\n",
    "]\n",
    "\n",
    "df_Q2 = DataFrame(\n",
    "    design_pt = treatment,\n",
    "    D_opt   = vcat(D_opt_p,  [D_opt_obj])[:],\n",
    "    E_opt   = vcat(E_opt_p,  [E_opt_obj])[:],\n",
    "    E_opt2  = vcat(E_opt_p2, [- 1 / E_opt_obj2])[:],\n",
    "    A_opt   = vcat(A_opt_p,  [A_opt_obj])[:],\n",
    "    D_opt_n = vcat(D_opt_n,  [D_opt_obj_n])[:],\n",
    "    E_opt_n = vcat(E_opt_n,  [E_opt_obj_n])[:],\n",
    "    E_opt_n2 = vcat(E_opt_n2, [E_opt_obj_n2])[:],\n",
    "    A_opt_n = vcat(A_opt_n,  [A_opt_obj_n])[:]\n",
    ")"
   ]
  },
  {
   "cell_type": "markdown",
   "metadata": {},
   "source": [
    "## Q3 (30 pts) Find exact optimal designs\n",
    "\n",
    "Using mixed-integer semidefinite programming (SDP) software to find the exact D-, E-, and A-optimal designs for this clinical trial **with $n=100$**.\n",
    "\n",
    "Hint: This is what I got using Pajarito with Gurobi as the `oa_solver` and Mosek as the `conic_solver`.\n",
    "\n",
    "```\n",
    "Exact Optimal Design\n",
    "┌───────────┬─────────┬─────────┬─────────┐\n",
    "│ design_pt │   D_opt │   E_opt │   A_opt │\n",
    "│    String │ Float64 │ Float64 │ Float64 │\n",
    "├───────────┼─────────┼─────────┼─────────┤\n",
    "│      A1B1 │   8.000 │  34.000 │  20.000 │\n",
    "│      A2B1 │   8.000 │  10.000 │  10.000 │\n",
    "│      A3B1 │  10.000 │  10.000 │  10.000 │\n",
    "│      A1B2 │   8.000 │   9.000 │   9.000 │\n",
    "│      A2B2 │   8.000 │   0.000 │   5.000 │\n",
    "│      A3B2 │  10.000 │   6.000 │   7.000 │\n",
    "│      A1B3 │   8.000 │   8.000 │   9.000 │\n",
    "│      A2B3 │   8.000 │   4.000 │   5.000 │\n",
    "│      A3B3 │  10.000 │   4.000 │   7.000 │\n",
    "│      A1B4 │  11.000 │   9.000 │  10.000 │\n",
    "│      A2B4 │  11.000 │   6.000 │   8.000 │\n",
    "│       Obj │   8.988 │  13.011 │  38.946 │\n",
    "└───────────┴─────────┴─────────┴─────────┘\n",
    "```"
   ]
  },
  {
   "cell_type": "code",
   "execution_count": 130,
   "metadata": {},
   "outputs": [],
   "source": [
    "using Pajarito, SCS"
   ]
  },
  {
   "cell_type": "code",
   "execution_count": 128,
   "metadata": {},
   "outputs": [
    {
     "ename": "MathOptInterface.UnsupportedConstraint{MathOptInterface.VariableIndex, MathOptInterface.Integer}",
     "evalue": "MathOptInterface.UnsupportedConstraint{MathOptInterface.VariableIndex, MathOptInterface.Integer}: `MathOptInterface.VariableIndex`-in-`MathOptInterface.Integer` constraint is not supported by the model.",
     "output_type": "error",
     "traceback": [
      "MathOptInterface.UnsupportedConstraint{MathOptInterface.VariableIndex, MathOptInterface.Integer}: `MathOptInterface.VariableIndex`-in-`MathOptInterface.Integer` constraint is not supported by the model.\n",
      "\n",
      "Stacktrace:\n",
      "  [1] bridge_type(b::MathOptInterface.Bridges.LazyBridgeOptimizer{MathOptInterface.Utilities.CachingOptimizer{Hypatia.Optimizer{Float64}, MathOptInterface.Utilities.UniversalFallback{MathOptInterface.Utilities.Model{Float64}}}}, F::Type{MathOptInterface.VariableIndex}, S::Type{MathOptInterface.Integer})\n",
      "    @ MathOptInterface.Bridges ~/.julia/packages/MathOptInterface/2rAFb/src/Bridges/lazy_bridge_optimizer.jl:505\n",
      "  [2] concrete_bridge_type(b::MathOptInterface.Bridges.LazyBridgeOptimizer{MathOptInterface.Utilities.CachingOptimizer{Hypatia.Optimizer{Float64}, MathOptInterface.Utilities.UniversalFallback{MathOptInterface.Utilities.Model{Float64}}}}, F::Type{MathOptInterface.VariableIndex}, S::Type{MathOptInterface.Integer})\n",
      "    @ MathOptInterface.Bridges.Constraint ~/.julia/packages/MathOptInterface/2rAFb/src/Bridges/Constraint/bridge.jl:86\n",
      "  [3] add_constraint(b::MathOptInterface.Bridges.LazyBridgeOptimizer{MathOptInterface.Utilities.CachingOptimizer{Hypatia.Optimizer{Float64}, MathOptInterface.Utilities.UniversalFallback{MathOptInterface.Utilities.Model{Float64}}}}, f::MathOptInterface.VariableIndex, s::MathOptInterface.Integer)\n",
      "    @ MathOptInterface.Bridges ~/.julia/packages/MathOptInterface/2rAFb/src/Bridges/bridge_optimizer.jl:1913\n",
      "  [4] _broadcast_getindex_evalf(::typeof(MathOptInterface.add_constraint), ::MathOptInterface.Bridges.LazyBridgeOptimizer{MathOptInterface.Utilities.CachingOptimizer{Hypatia.Optimizer{Float64}, MathOptInterface.Utilities.UniversalFallback{MathOptInterface.Utilities.Model{Float64}}}}, ::MathOptInterface.VariableIndex, ::MathOptInterface.Integer)\n",
      "    @ Base.Broadcast ./broadcast.jl:709\n",
      "  [5] _broadcast_getindex\n",
      "    @ ./broadcast.jl:682 [inlined]\n",
      "  [6] getindex\n",
      "    @ ./broadcast.jl:636 [inlined]\n",
      "  [7] copyto_nonleaf!(dest::Vector{MathOptInterface.ConstraintIndex{MathOptInterface.VectorAffineFunction{Float64}}}, bc::Base.Broadcast.Broadcasted{Base.Broadcast.DefaultArrayStyle{1}, Tuple{Base.OneTo{Int64}}, typeof(MathOptInterface.add_constraint), Tuple{Base.RefValue{MathOptInterface.Bridges.LazyBridgeOptimizer{MathOptInterface.Utilities.CachingOptimizer{Hypatia.Optimizer{Float64}, MathOptInterface.Utilities.UniversalFallback{MathOptInterface.Utilities.Model{Float64}}}}}, Base.Broadcast.Extruded{Vector{Union{MathOptInterface.VariableIndex, MathOptInterface.VectorAffineFunction{Float64}}}, Tuple{Bool}, Tuple{Int64}}, Base.Broadcast.Extruded{Vector{Any}, Tuple{Bool}, Tuple{Int64}}}}, iter::Base.OneTo{Int64}, state::Int64, count::Int64)\n",
      "    @ Base.Broadcast ./broadcast.jl:1098\n",
      "  [8] restart_copyto_nonleaf!(newdest::Vector{MathOptInterface.ConstraintIndex{MathOptInterface.VectorAffineFunction{Float64}}}, dest::Vector{MathOptInterface.ConstraintIndex{MathOptInterface.VectorAffineFunction{Float64}, MathOptInterface.PositiveSemidefiniteConeTriangle}}, bc::Base.Broadcast.Broadcasted{Base.Broadcast.DefaultArrayStyle{1}, Tuple{Base.OneTo{Int64}}, typeof(MathOptInterface.add_constraint), Tuple{Base.RefValue{MathOptInterface.Bridges.LazyBridgeOptimizer{MathOptInterface.Utilities.CachingOptimizer{Hypatia.Optimizer{Float64}, MathOptInterface.Utilities.UniversalFallback{MathOptInterface.Utilities.Model{Float64}}}}}, Base.Broadcast.Extruded{Vector{Union{MathOptInterface.VariableIndex, MathOptInterface.VectorAffineFunction{Float64}}}, Tuple{Bool}, Tuple{Int64}}, Base.Broadcast.Extruded{Vector{Any}, Tuple{Bool}, Tuple{Int64}}}}, val::MathOptInterface.ConstraintIndex{MathOptInterface.VectorAffineFunction{Float64}, MathOptInterface.Zeros}, I::Int64, iter::Base.OneTo{Int64}, state::Int64, count::Int64)\n",
      "    @ Base.Broadcast ./broadcast.jl:1089\n",
      "  [9] copyto_nonleaf!(dest::Vector{MathOptInterface.ConstraintIndex{MathOptInterface.VectorAffineFunction{Float64}, MathOptInterface.PositiveSemidefiniteConeTriangle}}, bc::Base.Broadcast.Broadcasted{Base.Broadcast.DefaultArrayStyle{1}, Tuple{Base.OneTo{Int64}}, typeof(MathOptInterface.add_constraint), Tuple{Base.RefValue{MathOptInterface.Bridges.LazyBridgeOptimizer{MathOptInterface.Utilities.CachingOptimizer{Hypatia.Optimizer{Float64}, MathOptInterface.Utilities.UniversalFallback{MathOptInterface.Utilities.Model{Float64}}}}}, Base.Broadcast.Extruded{Vector{Union{MathOptInterface.VariableIndex, MathOptInterface.VectorAffineFunction{Float64}}}, Tuple{Bool}, Tuple{Int64}}, Base.Broadcast.Extruded{Vector{Any}, Tuple{Bool}, Tuple{Int64}}}}, iter::Base.OneTo{Int64}, state::Int64, count::Int64)\n",
      "    @ Base.Broadcast ./broadcast.jl:1105\n",
      " [10] copy\n",
      "    @ ./broadcast.jl:950 [inlined]\n",
      " [11] materialize\n",
      "    @ ./broadcast.jl:903 [inlined]\n",
      " [12] add_constraints(model::MathOptInterface.Bridges.LazyBridgeOptimizer{MathOptInterface.Utilities.CachingOptimizer{Hypatia.Optimizer{Float64}, MathOptInterface.Utilities.UniversalFallback{MathOptInterface.Utilities.Model{Float64}}}}, funcs::Vector{Union{MathOptInterface.VariableIndex, MathOptInterface.VectorAffineFunction{Float64}}}, sets::Vector{Any})\n",
      "    @ MathOptInterface ~/.julia/packages/MathOptInterface/2rAFb/src/constraints.jl:241\n",
      " [13] load_MOI_model!(model::MathOptInterface.Bridges.LazyBridgeOptimizer{MathOptInterface.Utilities.CachingOptimizer{Hypatia.Optimizer{Float64}, MathOptInterface.Utilities.UniversalFallback{MathOptInterface.Utilities.Model{Float64}}}}, problem::Problem{Float64})\n",
      "    @ Convex ~/.julia/packages/Convex/b2S4H/src/solution.jl:259\n",
      " [14] solve!(problem::Problem{Float64}, optimizer::Hypatia.Optimizer{Float64}; check_vexity::Bool, verbose::Bool, warmstart::Bool, silent_solver::Bool)\n",
      "    @ Convex ~/.julia/packages/Convex/b2S4H/src/solution.jl:313\n",
      " [15] solve!(problem::Problem{Float64}, optimizer::Hypatia.Optimizer{Float64})\n",
      "    @ Convex ~/.julia/packages/Convex/b2S4H/src/solution.jl:293\n",
      " [16] macro expansion\n",
      "    @ ./timing.jl:279 [inlined]\n",
      " [17] top-level scope\n",
      "    @ ~/Documents/07_UCLA/Class/257/02_Homework/hw5/hw05sol.ipynb:12"
     ]
    }
   ],
   "source": [
    "n = Variable(m, IntVar)\n",
    "V⁻¹ = transpose(C) * Diagonal(n) * C\n",
    "\n",
    "problem = minimize(trace_mpower(V⁻¹, -1, Matrix{Float64}(I, 6, 6)))\n",
    "problem.constraints += sum(n) == 100\n",
    "problem\n",
    "\n",
    "const MOI = MathOptInterface\n",
    "solver = Hypatia.Optimizer()\n",
    "MOI.set(solver, MOI.RawOptimizerAttribute(\"verbose\"), 0)\n",
    "\n",
    "@time solve!(problem, solver)\n",
    "\n",
    "# Check the status, optimal value\n",
    "A_opt_obj = round(problem.optval, digits = 3)\n",
    "A_opt_p = round.(p.value, digits = 3)\n",
    "println(\"Obj = \", A_opt_obj)\n",
    "vcat(A_opt_p, [A_opt_obj])"
   ]
  },
  {
   "cell_type": "markdown",
   "metadata": {},
   "source": [
    "## Q4 (30 bonus points) Optimal design with nuisance parameters\n",
    "\n",
    "Suppose the regression coefficients of linear model $\\boldsymbol{\\beta}$ is partitioned as $\\boldsymbol{\\beta} = (\\boldsymbol{\\beta}_0^T, \\boldsymbol{\\beta}_1^T)^T$, where $\\boldsymbol{\\beta}_0$ are nuisance parameters and $\\boldsymbol{\\beta}_1$ are parameters of primary interest. Given an approximate design $\\mathbf{p} = (p_1, \\ldots, p_m)$, let the information matrix be partitioned accordingly\n",
    "$$\n",
    "\\mathbf{I}(\\mathbf{p}) = \\sum_{i=1}^m p_i \\mathbf{x}_i \\mathbf{x}_i^T =  \\begin{pmatrix}\n",
    "\\mathbf{I}_{00} & \\mathbf{I}_{01} \\\\\n",
    "\\mathbf{I}_{10} & \\mathbf{I}_{11}\n",
    "\\end{pmatrix}.\n",
    "$$\n",
    "Then the information matrix for $\\boldsymbol{\\beta}_1$ adjusted for nuisance parameter $\\boldsymbol{\\beta}_0$ is\n",
    "$$\n",
    "\\mathbf{I}_{1 \\mid 0}(\\mathbf{p}) = \\mathbf{I}_{11} - \\mathbf{I}_{10} \\mathbf{I}_{00}^{-1} \\mathbf{I}_{01}.\n",
    "$$\n",
    "\n",
    "Revisiting the 3x4 factorial design problem in Q1, suppose the drug company only cares about the estimation of A treatment effects. Find the approximate D-, E-, and A-optimal designs."
   ]
  }
 ],
 "metadata": {
  "@webio": {
   "lastCommId": null,
   "lastKernelId": null
  },
  "jupytext": {
   "formats": "ipynb,qmd"
  },
  "kernelspec": {
   "display_name": "Julia 1.10.2",
   "language": "julia",
   "name": "julia-1.10"
  },
  "language_info": {
   "file_extension": ".jl",
   "mimetype": "application/julia",
   "name": "julia",
   "version": "1.10.2"
  },
  "toc": {
   "colors": {
    "hover_highlight": "#DAA520",
    "running_highlight": "#FF0000",
    "selected_highlight": "#FFD700"
   },
   "moveMenuLeft": true,
   "nav_menu": {
    "height": "87px",
    "width": "252px"
   },
   "navigate_menu": true,
   "number_sections": false,
   "sideBar": true,
   "skip_h1_title": true,
   "threshold": 4,
   "toc_cell": false,
   "toc_section_display": "block",
   "toc_window_display": true,
   "widenNotebook": false
  }
 },
 "nbformat": 4,
 "nbformat_minor": 4
}
